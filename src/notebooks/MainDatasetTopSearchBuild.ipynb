{
 "cells": [
  {
   "cell_type": "code",
   "execution_count": 1,
   "id": "de1a1cd9-92d3-4360-a96d-034f9ea1830e",
   "metadata": {},
   "outputs": [
    {
     "name": "stdout",
     "output_type": "stream",
     "text": [
      "current working dir/Volumes/Zarif/myStuff/research/repoPaper/src\n"
     ]
    }
   ],
   "source": [
    "import requests\n",
    "from bs4 import BeautifulSoup\n",
    "import pandas as pd\n",
    "from tqdm import tqdm\n",
    "import os, sys\n",
    "exec(open(\"init_notebook.py\").read())\n",
    "from DataTools import DataTools"
   ]
  },
  {
   "cell_type": "code",
   "execution_count": 2,
   "id": "47de0ae2-53e9-417a-8c63-ac5c83f0c12f",
   "metadata": {},
   "outputs": [],
   "source": [
    "%load_ext autoreload\n",
    "%autoreload 2"
   ]
  },
  {
   "cell_type": "markdown",
   "id": "9b5ca5ed-bbd5-492c-9eca-701b92d389ce",
   "metadata": {},
   "source": [
    "### loading dataset  "
   ]
  },
  {
   "cell_type": "code",
   "execution_count": 4,
   "id": "1c2ae5d7-84b2-43de-825c-119976ff5151",
   "metadata": {},
   "outputs": [],
   "source": [
    "mainDatasetPath = os.path.join(os.curdir, \"../data/mainData.csv\")\n",
    "df = pd.read_csv(mainDatasetPath)"
   ]
  },
  {
   "cell_type": "markdown",
   "id": "5c8a66bc-43b4-48ee-8dd2-1c6f5f74e4d6",
   "metadata": {},
   "source": [
    "### loading company "
   ]
  },
  {
   "cell_type": "code",
   "execution_count": 25,
   "id": "93024af7-53f3-4a09-8a0a-7b52cdfc3536",
   "metadata": {},
   "outputs": [],
   "source": [
    "companyName = \"Amazon\"\n",
    "companyDf = df[df[\"Company\"] == companyName]\n",
    "paperTitles = companyDf[\"Title\"]"
   ]
  },
  {
   "cell_type": "markdown",
   "id": "f0a6f6cc-5857-484a-8641-6035b379d63d",
   "metadata": {},
   "source": [
    "### doing some regular checks"
   ]
  },
  {
   "cell_type": "code",
   "execution_count": 26,
   "id": "b604ee5d-b245-4765-b5b2-86a4527282b2",
   "metadata": {},
   "outputs": [
    {
     "name": "stdout",
     "output_type": "stream",
     "text": [
      "Fast image tagging\n",
      "Delegation as art\n",
      "Deep sets\n",
      "Rich in data\n",
      "Piezotronic sensors\n",
      "Polar convolution\n",
      "Overly attached\n",
      "Attributing hacks\n",
      "Blocking bandits\n",
      "The Civl Verifier\n",
      "Polarized Subtyping\n",
      "AdKDD 2022\n"
     ]
    }
   ],
   "source": [
    "for paperTitle in paperTitles:\n",
    "    if len(paperTitle) < 20 or type(paperTitle) != str:\n",
    "        print(paperTitle)"
   ]
  },
  {
   "cell_type": "markdown",
   "id": "8a6a5fac-f62d-4d16-9e13-d33fdb257439",
   "metadata": {},
   "source": [
    "### This code does the heavy lifting. If you feel lucky, increase the `batchSize`"
   ]
  },
  {
   "cell_type": "code",
   "execution_count": 30,
   "id": "65dfa403-a48b-4098-9f6f-2ef2be7b412b",
   "metadata": {},
   "outputs": [
    {
     "name": "stdout",
     "output_type": "stream",
     "text": [
      "Processing batch 0 / 3\n"
     ]
    },
    {
     "name": "stderr",
     "output_type": "stream",
     "text": [
      "100%|███████████████████████████████████████████████████████████████████████████████████████████████████████████████████████████████████| 1000/1000 [18:19<00:00,  1.10s/it]\n"
     ]
    },
    {
     "name": "stdout",
     "output_type": "stream",
     "text": [
      "Processing batch 1 / 3\n"
     ]
    },
    {
     "name": "stderr",
     "output_type": "stream",
     "text": [
      "100%|██████████████████████████████████████████████████████████████| 1000/1000 [15:10<00:00,  1.10it/s]\n"
     ]
    },
    {
     "name": "stdout",
     "output_type": "stream",
     "text": [
      "Processing batch 2 / 3\n"
     ]
    },
    {
     "name": "stderr",
     "output_type": "stream",
     "text": [
      "100%|██████████████████████████████████████████████████████████████| 1000/1000 [15:37<00:00,  1.07it/s]\n"
     ]
    },
    {
     "name": "stdout",
     "output_type": "stream",
     "text": [
      "Processing batch 3 / 3\n"
     ]
    },
    {
     "name": "stderr",
     "output_type": "stream",
     "text": [
      "100%|████████████████████████████████████████████████████████████████| 545/545 [08:25<00:00,  1.08it/s]\n"
     ]
    }
   ],
   "source": [
    "DataTools.getPaperGithubInBatches(paperTitles, companyName, batchSize=1000)"
   ]
  },
  {
   "cell_type": "code",
   "execution_count": null,
   "id": "39334485-5e5d-4289-9a3c-dd9577002291",
   "metadata": {},
   "outputs": [],
   "source": []
  }
 ],
 "metadata": {
  "kernelspec": {
   "display_name": "Python 3 (ipykernel)",
   "language": "python",
   "name": "python3"
  },
  "language_info": {
   "codemirror_mode": {
    "name": "ipython",
    "version": 3
   },
   "file_extension": ".py",
   "mimetype": "text/x-python",
   "name": "python",
   "nbconvert_exporter": "python",
   "pygments_lexer": "ipython3",
   "version": "3.8.16"
  }
 },
 "nbformat": 4,
 "nbformat_minor": 5
}
