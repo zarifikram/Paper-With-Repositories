{
 "cells": [
  {
   "cell_type": "code",
   "execution_count": 1,
   "id": "2bba688a-5491-43d2-84d9-1bd275b99959",
   "metadata": {},
   "outputs": [
    {
     "name": "stdout",
     "output_type": "stream",
     "text": [
      "current working dir/Volumes/Zarif/myStuff/research/repoPaper/src\n"
     ]
    }
   ],
   "source": [
    "import requests\n",
    "from bs4 import BeautifulSoup\n",
    "import pandas as pd\n",
    "from tqdm import tqdm\n",
    "import os, sys\n",
    "exec(open(\"init_notebook.py\").read())\n",
    "from DataTools import DataTools\n",
    "from RepoTools import RepoTools\n",
    "from Extractor import Extractor"
   ]
  },
  {
   "cell_type": "code",
   "execution_count": 2,
   "id": "f2f594bd-287f-41ed-a0fe-a74e3198b9f2",
   "metadata": {},
   "outputs": [],
   "source": [
    "%load_ext autoreload\n",
    "%autoreload 2"
   ]
  },
  {
   "cell_type": "markdown",
   "id": "f4b86b98-4a9e-4283-8c86-d1b759694ab0",
   "metadata": {
    "tags": []
   },
   "source": [
    "### Run this to get `extendedData` from Scratch"
   ]
  },
  {
   "cell_type": "code",
   "execution_count": 1,
   "id": "307ff17c-0501-4335-8327-da33c5ff550e",
   "metadata": {},
   "outputs": [],
   "source": [
    "# set company name\n",
    "companyName = \"sony\""
   ]
  },
  {
   "cell_type": "code",
   "execution_count": 412,
   "id": "9f8bdac2-d8a8-43d4-a90e-e2b61b0a481d",
   "metadata": {},
   "outputs": [
    {
     "name": "stderr",
     "output_type": "stream",
     "text": [
      "  0%|                                                                                                                                                 | 0/7 [00:00<?, ?it/s]"
     ]
    },
    {
     "name": "stdout",
     "output_type": "stream",
     "text": [
      "Page: 0/7\n"
     ]
    },
    {
     "name": "stderr",
     "output_type": "stream",
     "text": [
      " 14%|███████████████████▌                                                                                                                     | 1/7 [00:00<00:04,  1.32it/s]"
     ]
    },
    {
     "name": "stdout",
     "output_type": "stream",
     "text": [
      "Page: 1/7\n"
     ]
    },
    {
     "name": "stderr",
     "output_type": "stream",
     "text": [
      " 29%|███████████████████████████████████████▏                                                                                                 | 2/7 [00:01<00:03,  1.33it/s]"
     ]
    },
    {
     "name": "stdout",
     "output_type": "stream",
     "text": [
      "Page: 2/7\n"
     ]
    },
    {
     "name": "stderr",
     "output_type": "stream",
     "text": [
      " 43%|██████████████████████████████████████████████████████████▋                                                                              | 3/7 [00:02<00:02,  1.35it/s]"
     ]
    },
    {
     "name": "stdout",
     "output_type": "stream",
     "text": [
      "Page: 3/7\n"
     ]
    },
    {
     "name": "stderr",
     "output_type": "stream",
     "text": [
      " 57%|██████████████████████████████████████████████████████████████████████████████▎                                                          | 4/7 [00:02<00:02,  1.37it/s]"
     ]
    },
    {
     "name": "stdout",
     "output_type": "stream",
     "text": [
      "Page: 4/7\n"
     ]
    },
    {
     "name": "stderr",
     "output_type": "stream",
     "text": [
      " 71%|█████████████████████████████████████████████████████████████████████████████████████████████████▊                                       | 5/7 [00:03<00:01,  1.37it/s]"
     ]
    },
    {
     "name": "stdout",
     "output_type": "stream",
     "text": [
      "Page: 5/7\n"
     ]
    },
    {
     "name": "stderr",
     "output_type": "stream",
     "text": [
      " 86%|█████████████████████████████████████████████████████████████████████████████████████████████████████████████████████▍                   | 6/7 [00:04<00:00,  1.37it/s]"
     ]
    },
    {
     "name": "stdout",
     "output_type": "stream",
     "text": [
      "Page: 6/7\n"
     ]
    },
    {
     "name": "stderr",
     "output_type": "stream",
     "text": [
      "100%|█████████████████████████████████████████████████████████████████████████████████████████████████████████████████████████████████████████| 7/7 [00:04<00:00,  1.41it/s]\n"
     ]
    },
    {
     "name": "stdout",
     "output_type": "stream",
     "text": [
      "Fetching the readmes from the repos\n"
     ]
    },
    {
     "name": "stderr",
     "output_type": "stream",
     "text": [
      "100%|█████████████████████████████████████████████████████████████████████████████████████████████████████████████████████████████████████| 197/197 [01:25<00:00,  2.30it/s]\n"
     ]
    },
    {
     "name": "stdout",
     "output_type": "stream",
     "text": [
      "Fetching the extra github links and readmes from the repoWithReadme\n",
      "Found more than 5 github links in https://github.com/apple/llvm-monorepo-root. Ignoring all of them. Please check the readme\n",
      "Found more than 5 github links in https://github.com/apple/llvm-project-v5. Ignoring all of them. Please check the readme\n",
      "Found more than 5 github links in https://github.com/apple/MaterialX. Ignoring all of them. Please check the readme\n",
      "Found more than 5 github links in https://github.com/apple/ml-covid-mobility. Ignoring all of them. Please check the readme\n",
      "Found more than 5 github links in https://github.com/apple/ml-facelit. Ignoring all of them. Please check the readme\n",
      "Found more than 5 github links in https://github.com/apple/ml-no-token-left-behind. Ignoring all of them. Please check the readme\n",
      "Found more than 5 github links in https://github.com/apple/ml-stable-diffusion. Ignoring all of them. Please check the readme\n",
      "Found more than 5 github links in https://github.com/apple/swift-algorithms. Ignoring all of them. Please check the readme\n",
      "Found more than 5 github links in https://github.com/apple/swift-async-algorithms. Ignoring all of them. Please check the readme\n",
      "Found more than 5 github links in https://github.com/apple/swift-atomics. Ignoring all of them. Please check the readme\n",
      "Found more than 5 github links in https://github.com/apple/swift-cassandra-client. Ignoring all of them. Please check the readme\n",
      "Found more than 5 github links in https://github.com/apple/swift-cluster-membership. Ignoring all of them. Please check the readme\n",
      "Found more than 5 github links in https://github.com/apple/swift-cmark. Ignoring all of them. Please check the readme\n",
      "Found more than 5 github links in https://github.com/apple/swift-collections. Ignoring all of them. Please check the readme\n",
      "Found more than 5 github links in https://github.com/apple/swift-collections-benchmark. Ignoring all of them. Please check the readme\n",
      "Found more than 5 github links in https://github.com/apple/swift-distributed-tracing. Ignoring all of them. Please check the readme\n",
      "Found more than 5 github links in https://github.com/apple/swift-distributed-tracing-extras. Ignoring all of them. Please check the readme\n",
      "Found more than 5 github links in https://github.com/apple/swift-docc. Ignoring all of them. Please check the readme\n",
      "Found more than 5 github links in https://github.com/apple/swift-driver. Ignoring all of them. Please check the readme\n",
      "Found more than 5 github links in https://github.com/apple/swift-foundation. Ignoring all of them. Please check the readme\n",
      "Found more than 5 github links in https://github.com/apple/swift-log. Ignoring all of them. Please check the readme\n",
      "Found more than 5 github links in https://github.com/apple/swift-markdown. Ignoring all of them. Please check the readme\n",
      "Found more than 5 github links in https://github.com/apple/swift-metrics. Ignoring all of them. Please check the readme\n",
      "Found more than 5 github links in https://github.com/apple/swift-nio. Ignoring all of them. Please check the readme\n",
      "Found more than 5 github links in https://github.com/apple/swift-nio-http2. Ignoring all of them. Please check the readme\n",
      "Found more than 5 github links in https://github.com/apple/swift-nio-transport-services. Ignoring all of them. Please check the readme\n",
      "Found more than 5 github links in https://github.com/apple/swift-protobuf. Ignoring all of them. Please check the readme\n",
      "Found more than 5 github links in https://github.com/apple/swift-source-compat-suite. Ignoring all of them. Please check the readme\n"
     ]
    },
    {
     "name": "stderr",
     "output_type": "stream",
     "text": [
      " 83%|███████████████████████████████████████████████████████████████████████████████████████████████████████████████▋                      | 95/114 [00:46<00:08,  2.37it/s]"
     ]
    },
    {
     "name": "stdout",
     "output_type": "stream",
     "text": [
      "Could not find repository for this link : prlz77/ResNeXt\n"
     ]
    },
    {
     "name": "stderr",
     "output_type": "stream",
     "text": [
      " 88%|████████████████████████████████████████████████████████████████████████████████████████████████████████████████████▋                | 100/114 [00:49<00:07,  1.80it/s]"
     ]
    },
    {
     "name": "stdout",
     "output_type": "stream",
     "text": [
      "Could not find repository for this link : settings/tokens\n"
     ]
    },
    {
     "name": "stderr",
     "output_type": "stream",
     "text": [
      "100%|█████████████████████████████████████████████████████████████████████████████████████████████████████████████████████████████████████| 114/114 [00:57<00:00,  1.98it/s]\n"
     ]
    },
    {
     "name": "stdout",
     "output_type": "stream",
     "text": [
      "Fetching the readmes from the repos\n"
     ]
    },
    {
     "name": "stderr",
     "output_type": "stream",
     "text": [
      "100%|███████████████████████████████████████████████████████████████████████████████████████████████████████████████████████████████████████| 43/43 [00:18<00:00,  2.38it/s]\n",
      " 20%|██████████████████████████▎                                                                                                           | 46/234 [00:10<01:31,  2.05it/s]"
     ]
    },
    {
     "name": "stdout",
     "output_type": "stream",
     "text": [
      "Found more than 10 arxiv links in the readme of https://github.com/apple/ml-cvnets. Ignoring the links\n"
     ]
    },
    {
     "name": "stderr",
     "output_type": "stream",
     "text": [
      " 88%|█████████████████████████████████████████████████████████████████████████████████████████████████████████████████████▋               | 207/234 [01:14<00:10,  2.67it/s]"
     ]
    },
    {
     "name": "stdout",
     "output_type": "stream",
     "text": [
      "Found more than 10 arxiv links in the readme of https://github.com/huggingface/transformers. Ignoring the links\n"
     ]
    },
    {
     "name": "stderr",
     "output_type": "stream",
     "text": [
      " 97%|█████████████████████████████████████████████████████████████████████████████████████████████████████████████████████████████████▌   | 228/234 [01:23<00:02,  2.80it/s]"
     ]
    },
    {
     "name": "stdout",
     "output_type": "stream",
     "text": [
      "Found more than 10 arxiv links in the readme of https://github.com/rail-berkeley/rlkit. Ignoring the links\n"
     ]
    },
    {
     "name": "stderr",
     "output_type": "stream",
     "text": [
      "100%|█████████████████████████████████████████████████████████████████████████████████████████████████████████████████████████████████████| 234/234 [01:24<00:00,  2.77it/s]\n"
     ]
    }
   ],
   "source": [
    "extendedData = RepoTools.savePaperNameFromGithubUser(companyName, saveRepoWithReadme=True, saveExtendedRepoWithReadme=True)"
   ]
  },
  {
   "cell_type": "markdown",
   "id": "6fce40b3-2ca7-4222-a16d-e5c3ce8592b7",
   "metadata": {},
   "source": [
    "### Or this, if you have repoDataWithReadme saved already and only need to fetch papers from them "
   ]
  },
  {
   "cell_type": "code",
   "execution_count": 5,
   "id": "13f6040f-a6b1-416b-bbc9-309e76f3aeac",
   "metadata": {},
   "outputs": [
    {
     "name": "stderr",
     "output_type": "stream",
     "text": [
      "  6%|███▉                                                               | 4/69 [00:09<02:40,  2.46s/it]\n"
     ]
    },
    {
     "ename": "KeyboardInterrupt",
     "evalue": "",
     "output_type": "error",
     "traceback": [
      "\u001b[0;31m---------------------------------------------------------------------------\u001b[0m",
      "\u001b[0;31mKeyboardInterrupt\u001b[0m                         Traceback (most recent call last)",
      "Cell \u001b[0;32mIn[5], line 1\u001b[0m\n\u001b[0;32m----> 1\u001b[0m extendedData \u001b[38;5;241m=\u001b[39m \u001b[43mRepoTools\u001b[49m\u001b[38;5;241;43m.\u001b[39;49m\u001b[43mloadReposWithReadmeAndGetExtendedData\u001b[49m\u001b[43m(\u001b[49m\u001b[43mcompanyName\u001b[49m\u001b[43m,\u001b[49m\u001b[43m \u001b[49m\u001b[43msaveExtendedRepoWithReadme\u001b[49m\u001b[38;5;241;43m=\u001b[39;49m\u001b[38;5;28;43;01mTrue\u001b[39;49;00m\u001b[43m)\u001b[49m\n",
      "File \u001b[0;32m/Volumes/Zarif/myStuff/research/repoPaper/src/RepoTools.py:310\u001b[0m, in \u001b[0;36mRepoTools.loadReposWithReadmeAndGetExtendedData\u001b[0;34m(username, saveExtendedRepoWithReadme)\u001b[0m\n\u001b[1;32m    307\u001b[0m \u001b[38;5;129m@staticmethod\u001b[39m\n\u001b[1;32m    308\u001b[0m \u001b[38;5;28;01mdef\u001b[39;00m \u001b[38;5;21mloadReposWithReadmeAndGetExtendedData\u001b[39m(username, saveExtendedRepoWithReadme):\n\u001b[1;32m    309\u001b[0m     repoWithReadmes \u001b[38;5;241m=\u001b[39m RepoTools\u001b[38;5;241m.\u001b[39mloadPickle(\u001b[38;5;124mf\u001b[39m\u001b[38;5;124m'\u001b[39m\u001b[38;5;132;01m{\u001b[39;00musername\u001b[38;5;132;01m}\u001b[39;00m\u001b[38;5;124mRepoWithReadmes\u001b[39m\u001b[38;5;124m'\u001b[39m)\n\u001b[0;32m--> 310\u001b[0m     extendedRepoWithReadmesAndData \u001b[38;5;241m=\u001b[39m \u001b[43mRepoTools\u001b[49m\u001b[38;5;241;43m.\u001b[39;49m\u001b[43mgetDataFromReadmes\u001b[49m\u001b[43m(\u001b[49m\u001b[43mrepoWithReadmes\u001b[49m\u001b[43m)\u001b[49m\n\u001b[1;32m    311\u001b[0m     \u001b[38;5;28;01mif\u001b[39;00m saveExtendedRepoWithReadme:\n\u001b[1;32m    312\u001b[0m         RepoTools\u001b[38;5;241m.\u001b[39msaveAsPickle(extendedRepoWithReadmesAndData, \u001b[38;5;124m\"\u001b[39m\u001b[38;5;124mextended_\u001b[39m\u001b[38;5;124m\"\u001b[39m \u001b[38;5;241m+\u001b[39m \u001b[38;5;124mf\u001b[39m\u001b[38;5;124m'\u001b[39m\u001b[38;5;132;01m{\u001b[39;00musername\u001b[38;5;132;01m}\u001b[39;00m\u001b[38;5;124mRepoWithReadmes\u001b[39m\u001b[38;5;124m'\u001b[39m)\n",
      "File \u001b[0;32m/Volumes/Zarif/myStuff/research/repoPaper/src/RepoTools.py:87\u001b[0m, in \u001b[0;36mRepoTools.getDataFromReadmes\u001b[0;34m(repoWithReadmes)\u001b[0m\n\u001b[1;32m     85\u001b[0m paperTitles \u001b[38;5;241m=\u001b[39m RepoTools\u001b[38;5;241m.\u001b[39mgetPaperTitlesFromReadme(readme)\n\u001b[1;32m     86\u001b[0m arxivLinks \u001b[38;5;241m=\u001b[39m RepoTools\u001b[38;5;241m.\u001b[39mgetArxivLinksFromReadme(readme)\n\u001b[0;32m---> 87\u001b[0m arxivPaperTitles \u001b[38;5;241m=\u001b[39m \u001b[43mRepoTools\u001b[49m\u001b[38;5;241;43m.\u001b[39;49m\u001b[43mgetPaperTitlesFromArxivLinks\u001b[49m\u001b[43m(\u001b[49m\u001b[43mrepoName\u001b[49m\u001b[43m,\u001b[49m\u001b[43m \u001b[49m\u001b[43marxivLinks\u001b[49m\u001b[43m)\u001b[49m\n\u001b[1;32m     89\u001b[0m repoWithReadme\u001b[38;5;241m.\u001b[39mupdate({\u001b[38;5;124m\"\u001b[39m\u001b[38;5;124mpapers\u001b[39m\u001b[38;5;124m\"\u001b[39m: paperTitles, \u001b[38;5;124m\"\u001b[39m\u001b[38;5;124marxivLinks\u001b[39m\u001b[38;5;124m\"\u001b[39m: arxivLinks, \u001b[38;5;124m\"\u001b[39m\u001b[38;5;124marxivPaperTitles\u001b[39m\u001b[38;5;124m\"\u001b[39m: arxivPaperTitles})\n\u001b[1;32m     90\u001b[0m extendedRepoWithReadMes\u001b[38;5;241m.\u001b[39mappend(repoWithReadme)\n",
      "File \u001b[0;32m/Volumes/Zarif/myStuff/research/repoPaper/src/RepoTools.py:260\u001b[0m, in \u001b[0;36mRepoTools.getPaperTitlesFromArxivLinks\u001b[0;34m(repoName, arxivLinks)\u001b[0m\n\u001b[1;32m    258\u001b[0m     \u001b[38;5;28;01mreturn\u001b[39;00m paperTitles\n\u001b[1;32m    259\u001b[0m \u001b[38;5;28;01mfor\u001b[39;00m arxivLink \u001b[38;5;129;01min\u001b[39;00m arxivLinks:\n\u001b[0;32m--> 260\u001b[0m     paperTitles\u001b[38;5;241m.\u001b[39mappend(\u001b[43mRepoTools\u001b[49m\u001b[38;5;241;43m.\u001b[39;49m\u001b[43mgetPaperTitleFromArxivLink\u001b[49m\u001b[43m(\u001b[49m\u001b[43marxivLink\u001b[49m\u001b[43m)\u001b[49m)\n\u001b[1;32m    262\u001b[0m \u001b[38;5;28;01mreturn\u001b[39;00m paperTitles\n",
      "File \u001b[0;32m/Volumes/Zarif/myStuff/research/repoPaper/src/RepoTools.py:271\u001b[0m, in \u001b[0;36mRepoTools.getPaperTitleFromArxivLink\u001b[0;34m(arxivLink)\u001b[0m\n\u001b[1;32m    264\u001b[0m \u001b[38;5;129m@staticmethod\u001b[39m\n\u001b[1;32m    265\u001b[0m \u001b[38;5;28;01mdef\u001b[39;00m \u001b[38;5;21mgetPaperTitleFromArxivLink\u001b[39m(arxivLink):\n\u001b[1;32m    266\u001b[0m     \u001b[38;5;124;03m\"\"\"\u001b[39;00m\n\u001b[1;32m    267\u001b[0m \u001b[38;5;124;03m    Gets the paper title from the arxiv link\u001b[39;00m\n\u001b[1;32m    268\u001b[0m \u001b[38;5;124;03m    args: arxivLink\u001b[39;00m\n\u001b[1;32m    269\u001b[0m \u001b[38;5;124;03m    returns: paperTitle\u001b[39;00m\n\u001b[1;32m    270\u001b[0m \u001b[38;5;124;03m    \"\"\"\u001b[39;00m\n\u001b[0;32m--> 271\u001b[0m     response \u001b[38;5;241m=\u001b[39m \u001b[43mrequests\u001b[49m\u001b[38;5;241;43m.\u001b[39;49m\u001b[43mget\u001b[49m\u001b[43m(\u001b[49m\u001b[43marxivLink\u001b[49m\u001b[43m)\u001b[49m\n\u001b[1;32m    273\u001b[0m     \u001b[38;5;66;03m# extract paper title using regular expressions\u001b[39;00m\n\u001b[1;32m    274\u001b[0m     title_regex \u001b[38;5;241m=\u001b[39m re\u001b[38;5;241m.\u001b[39mcompile(\u001b[38;5;124m'\u001b[39m\u001b[38;5;124m<title>\u001b[39m\u001b[38;5;124m\\\u001b[39m\u001b[38;5;124m[\u001b[39m\u001b[38;5;124m\\\u001b[39m\u001b[38;5;124md\u001b[39m\u001b[38;5;132;01m{4}\u001b[39;00m\u001b[38;5;124m.\u001b[39m\u001b[38;5;124m\\\u001b[39m\u001b[38;5;124md\u001b[39m\u001b[38;5;124m{\u001b[39m\u001b[38;5;124m4,5}]\u001b[39m\u001b[38;5;124m\\\u001b[39m\u001b[38;5;124ms*(.*)</title>\u001b[39m\u001b[38;5;124m'\u001b[39m)\n",
      "File \u001b[0;32m~/opt/anaconda3/envs/paper/lib/python3.8/site-packages/requests/api.py:73\u001b[0m, in \u001b[0;36mget\u001b[0;34m(url, params, **kwargs)\u001b[0m\n\u001b[1;32m     62\u001b[0m \u001b[38;5;28;01mdef\u001b[39;00m \u001b[38;5;21mget\u001b[39m(url, params\u001b[38;5;241m=\u001b[39m\u001b[38;5;28;01mNone\u001b[39;00m, \u001b[38;5;241m*\u001b[39m\u001b[38;5;241m*\u001b[39mkwargs):\n\u001b[1;32m     63\u001b[0m     \u001b[38;5;124mr\u001b[39m\u001b[38;5;124;03m\"\"\"Sends a GET request.\u001b[39;00m\n\u001b[1;32m     64\u001b[0m \n\u001b[1;32m     65\u001b[0m \u001b[38;5;124;03m    :param url: URL for the new :class:`Request` object.\u001b[39;00m\n\u001b[0;32m   (...)\u001b[0m\n\u001b[1;32m     70\u001b[0m \u001b[38;5;124;03m    :rtype: requests.Response\u001b[39;00m\n\u001b[1;32m     71\u001b[0m \u001b[38;5;124;03m    \"\"\"\u001b[39;00m\n\u001b[0;32m---> 73\u001b[0m     \u001b[38;5;28;01mreturn\u001b[39;00m \u001b[43mrequest\u001b[49m\u001b[43m(\u001b[49m\u001b[38;5;124;43m\"\u001b[39;49m\u001b[38;5;124;43mget\u001b[39;49m\u001b[38;5;124;43m\"\u001b[39;49m\u001b[43m,\u001b[49m\u001b[43m \u001b[49m\u001b[43murl\u001b[49m\u001b[43m,\u001b[49m\u001b[43m \u001b[49m\u001b[43mparams\u001b[49m\u001b[38;5;241;43m=\u001b[39;49m\u001b[43mparams\u001b[49m\u001b[43m,\u001b[49m\u001b[43m \u001b[49m\u001b[38;5;241;43m*\u001b[39;49m\u001b[38;5;241;43m*\u001b[39;49m\u001b[43mkwargs\u001b[49m\u001b[43m)\u001b[49m\n",
      "File \u001b[0;32m~/opt/anaconda3/envs/paper/lib/python3.8/site-packages/requests/api.py:59\u001b[0m, in \u001b[0;36mrequest\u001b[0;34m(method, url, **kwargs)\u001b[0m\n\u001b[1;32m     55\u001b[0m \u001b[38;5;66;03m# By using the 'with' statement we are sure the session is closed, thus we\u001b[39;00m\n\u001b[1;32m     56\u001b[0m \u001b[38;5;66;03m# avoid leaving sockets open which can trigger a ResourceWarning in some\u001b[39;00m\n\u001b[1;32m     57\u001b[0m \u001b[38;5;66;03m# cases, and look like a memory leak in others.\u001b[39;00m\n\u001b[1;32m     58\u001b[0m \u001b[38;5;28;01mwith\u001b[39;00m sessions\u001b[38;5;241m.\u001b[39mSession() \u001b[38;5;28;01mas\u001b[39;00m session:\n\u001b[0;32m---> 59\u001b[0m     \u001b[38;5;28;01mreturn\u001b[39;00m \u001b[43msession\u001b[49m\u001b[38;5;241;43m.\u001b[39;49m\u001b[43mrequest\u001b[49m\u001b[43m(\u001b[49m\u001b[43mmethod\u001b[49m\u001b[38;5;241;43m=\u001b[39;49m\u001b[43mmethod\u001b[49m\u001b[43m,\u001b[49m\u001b[43m \u001b[49m\u001b[43murl\u001b[49m\u001b[38;5;241;43m=\u001b[39;49m\u001b[43murl\u001b[49m\u001b[43m,\u001b[49m\u001b[43m \u001b[49m\u001b[38;5;241;43m*\u001b[39;49m\u001b[38;5;241;43m*\u001b[39;49m\u001b[43mkwargs\u001b[49m\u001b[43m)\u001b[49m\n",
      "File \u001b[0;32m~/opt/anaconda3/envs/paper/lib/python3.8/site-packages/requests/sessions.py:587\u001b[0m, in \u001b[0;36mSession.request\u001b[0;34m(self, method, url, params, data, headers, cookies, files, auth, timeout, allow_redirects, proxies, hooks, stream, verify, cert, json)\u001b[0m\n\u001b[1;32m    582\u001b[0m send_kwargs \u001b[38;5;241m=\u001b[39m {\n\u001b[1;32m    583\u001b[0m     \u001b[38;5;124m\"\u001b[39m\u001b[38;5;124mtimeout\u001b[39m\u001b[38;5;124m\"\u001b[39m: timeout,\n\u001b[1;32m    584\u001b[0m     \u001b[38;5;124m\"\u001b[39m\u001b[38;5;124mallow_redirects\u001b[39m\u001b[38;5;124m\"\u001b[39m: allow_redirects,\n\u001b[1;32m    585\u001b[0m }\n\u001b[1;32m    586\u001b[0m send_kwargs\u001b[38;5;241m.\u001b[39mupdate(settings)\n\u001b[0;32m--> 587\u001b[0m resp \u001b[38;5;241m=\u001b[39m \u001b[38;5;28;43mself\u001b[39;49m\u001b[38;5;241;43m.\u001b[39;49m\u001b[43msend\u001b[49m\u001b[43m(\u001b[49m\u001b[43mprep\u001b[49m\u001b[43m,\u001b[49m\u001b[43m \u001b[49m\u001b[38;5;241;43m*\u001b[39;49m\u001b[38;5;241;43m*\u001b[39;49m\u001b[43msend_kwargs\u001b[49m\u001b[43m)\u001b[49m\n\u001b[1;32m    589\u001b[0m \u001b[38;5;28;01mreturn\u001b[39;00m resp\n",
      "File \u001b[0;32m~/opt/anaconda3/envs/paper/lib/python3.8/site-packages/requests/sessions.py:701\u001b[0m, in \u001b[0;36mSession.send\u001b[0;34m(self, request, **kwargs)\u001b[0m\n\u001b[1;32m    698\u001b[0m start \u001b[38;5;241m=\u001b[39m preferred_clock()\n\u001b[1;32m    700\u001b[0m \u001b[38;5;66;03m# Send the request\u001b[39;00m\n\u001b[0;32m--> 701\u001b[0m r \u001b[38;5;241m=\u001b[39m \u001b[43madapter\u001b[49m\u001b[38;5;241;43m.\u001b[39;49m\u001b[43msend\u001b[49m\u001b[43m(\u001b[49m\u001b[43mrequest\u001b[49m\u001b[43m,\u001b[49m\u001b[43m \u001b[49m\u001b[38;5;241;43m*\u001b[39;49m\u001b[38;5;241;43m*\u001b[39;49m\u001b[43mkwargs\u001b[49m\u001b[43m)\u001b[49m\n\u001b[1;32m    703\u001b[0m \u001b[38;5;66;03m# Total elapsed time of the request (approximately)\u001b[39;00m\n\u001b[1;32m    704\u001b[0m elapsed \u001b[38;5;241m=\u001b[39m preferred_clock() \u001b[38;5;241m-\u001b[39m start\n",
      "File \u001b[0;32m~/opt/anaconda3/envs/paper/lib/python3.8/site-packages/requests/adapters.py:489\u001b[0m, in \u001b[0;36mHTTPAdapter.send\u001b[0;34m(self, request, stream, timeout, verify, cert, proxies)\u001b[0m\n\u001b[1;32m    487\u001b[0m \u001b[38;5;28;01mtry\u001b[39;00m:\n\u001b[1;32m    488\u001b[0m     \u001b[38;5;28;01mif\u001b[39;00m \u001b[38;5;129;01mnot\u001b[39;00m chunked:\n\u001b[0;32m--> 489\u001b[0m         resp \u001b[38;5;241m=\u001b[39m \u001b[43mconn\u001b[49m\u001b[38;5;241;43m.\u001b[39;49m\u001b[43murlopen\u001b[49m\u001b[43m(\u001b[49m\n\u001b[1;32m    490\u001b[0m \u001b[43m            \u001b[49m\u001b[43mmethod\u001b[49m\u001b[38;5;241;43m=\u001b[39;49m\u001b[43mrequest\u001b[49m\u001b[38;5;241;43m.\u001b[39;49m\u001b[43mmethod\u001b[49m\u001b[43m,\u001b[49m\n\u001b[1;32m    491\u001b[0m \u001b[43m            \u001b[49m\u001b[43murl\u001b[49m\u001b[38;5;241;43m=\u001b[39;49m\u001b[43murl\u001b[49m\u001b[43m,\u001b[49m\n\u001b[1;32m    492\u001b[0m \u001b[43m            \u001b[49m\u001b[43mbody\u001b[49m\u001b[38;5;241;43m=\u001b[39;49m\u001b[43mrequest\u001b[49m\u001b[38;5;241;43m.\u001b[39;49m\u001b[43mbody\u001b[49m\u001b[43m,\u001b[49m\n\u001b[1;32m    493\u001b[0m \u001b[43m            \u001b[49m\u001b[43mheaders\u001b[49m\u001b[38;5;241;43m=\u001b[39;49m\u001b[43mrequest\u001b[49m\u001b[38;5;241;43m.\u001b[39;49m\u001b[43mheaders\u001b[49m\u001b[43m,\u001b[49m\n\u001b[1;32m    494\u001b[0m \u001b[43m            \u001b[49m\u001b[43mredirect\u001b[49m\u001b[38;5;241;43m=\u001b[39;49m\u001b[38;5;28;43;01mFalse\u001b[39;49;00m\u001b[43m,\u001b[49m\n\u001b[1;32m    495\u001b[0m \u001b[43m            \u001b[49m\u001b[43massert_same_host\u001b[49m\u001b[38;5;241;43m=\u001b[39;49m\u001b[38;5;28;43;01mFalse\u001b[39;49;00m\u001b[43m,\u001b[49m\n\u001b[1;32m    496\u001b[0m \u001b[43m            \u001b[49m\u001b[43mpreload_content\u001b[49m\u001b[38;5;241;43m=\u001b[39;49m\u001b[38;5;28;43;01mFalse\u001b[39;49;00m\u001b[43m,\u001b[49m\n\u001b[1;32m    497\u001b[0m \u001b[43m            \u001b[49m\u001b[43mdecode_content\u001b[49m\u001b[38;5;241;43m=\u001b[39;49m\u001b[38;5;28;43;01mFalse\u001b[39;49;00m\u001b[43m,\u001b[49m\n\u001b[1;32m    498\u001b[0m \u001b[43m            \u001b[49m\u001b[43mretries\u001b[49m\u001b[38;5;241;43m=\u001b[39;49m\u001b[38;5;28;43mself\u001b[39;49m\u001b[38;5;241;43m.\u001b[39;49m\u001b[43mmax_retries\u001b[49m\u001b[43m,\u001b[49m\n\u001b[1;32m    499\u001b[0m \u001b[43m            \u001b[49m\u001b[43mtimeout\u001b[49m\u001b[38;5;241;43m=\u001b[39;49m\u001b[43mtimeout\u001b[49m\u001b[43m,\u001b[49m\n\u001b[1;32m    500\u001b[0m \u001b[43m        \u001b[49m\u001b[43m)\u001b[49m\n\u001b[1;32m    502\u001b[0m     \u001b[38;5;66;03m# Send the request.\u001b[39;00m\n\u001b[1;32m    503\u001b[0m     \u001b[38;5;28;01melse\u001b[39;00m:\n\u001b[1;32m    504\u001b[0m         \u001b[38;5;28;01mif\u001b[39;00m \u001b[38;5;28mhasattr\u001b[39m(conn, \u001b[38;5;124m\"\u001b[39m\u001b[38;5;124mproxy_pool\u001b[39m\u001b[38;5;124m\"\u001b[39m):\n",
      "File \u001b[0;32m~/opt/anaconda3/envs/paper/lib/python3.8/site-packages/urllib3/connectionpool.py:703\u001b[0m, in \u001b[0;36mHTTPConnectionPool.urlopen\u001b[0;34m(self, method, url, body, headers, retries, redirect, assert_same_host, timeout, pool_timeout, release_conn, chunked, body_pos, **response_kw)\u001b[0m\n\u001b[1;32m    700\u001b[0m     \u001b[38;5;28mself\u001b[39m\u001b[38;5;241m.\u001b[39m_prepare_proxy(conn)\n\u001b[1;32m    702\u001b[0m \u001b[38;5;66;03m# Make the request on the httplib connection object.\u001b[39;00m\n\u001b[0;32m--> 703\u001b[0m httplib_response \u001b[38;5;241m=\u001b[39m \u001b[38;5;28;43mself\u001b[39;49m\u001b[38;5;241;43m.\u001b[39;49m\u001b[43m_make_request\u001b[49m\u001b[43m(\u001b[49m\n\u001b[1;32m    704\u001b[0m \u001b[43m    \u001b[49m\u001b[43mconn\u001b[49m\u001b[43m,\u001b[49m\n\u001b[1;32m    705\u001b[0m \u001b[43m    \u001b[49m\u001b[43mmethod\u001b[49m\u001b[43m,\u001b[49m\n\u001b[1;32m    706\u001b[0m \u001b[43m    \u001b[49m\u001b[43murl\u001b[49m\u001b[43m,\u001b[49m\n\u001b[1;32m    707\u001b[0m \u001b[43m    \u001b[49m\u001b[43mtimeout\u001b[49m\u001b[38;5;241;43m=\u001b[39;49m\u001b[43mtimeout_obj\u001b[49m\u001b[43m,\u001b[49m\n\u001b[1;32m    708\u001b[0m \u001b[43m    \u001b[49m\u001b[43mbody\u001b[49m\u001b[38;5;241;43m=\u001b[39;49m\u001b[43mbody\u001b[49m\u001b[43m,\u001b[49m\n\u001b[1;32m    709\u001b[0m \u001b[43m    \u001b[49m\u001b[43mheaders\u001b[49m\u001b[38;5;241;43m=\u001b[39;49m\u001b[43mheaders\u001b[49m\u001b[43m,\u001b[49m\n\u001b[1;32m    710\u001b[0m \u001b[43m    \u001b[49m\u001b[43mchunked\u001b[49m\u001b[38;5;241;43m=\u001b[39;49m\u001b[43mchunked\u001b[49m\u001b[43m,\u001b[49m\n\u001b[1;32m    711\u001b[0m \u001b[43m\u001b[49m\u001b[43m)\u001b[49m\n\u001b[1;32m    713\u001b[0m \u001b[38;5;66;03m# If we're going to release the connection in ``finally:``, then\u001b[39;00m\n\u001b[1;32m    714\u001b[0m \u001b[38;5;66;03m# the response doesn't need to know about the connection. Otherwise\u001b[39;00m\n\u001b[1;32m    715\u001b[0m \u001b[38;5;66;03m# it will also try to release it and we'll have a double-release\u001b[39;00m\n\u001b[1;32m    716\u001b[0m \u001b[38;5;66;03m# mess.\u001b[39;00m\n\u001b[1;32m    717\u001b[0m response_conn \u001b[38;5;241m=\u001b[39m conn \u001b[38;5;28;01mif\u001b[39;00m \u001b[38;5;129;01mnot\u001b[39;00m release_conn \u001b[38;5;28;01melse\u001b[39;00m \u001b[38;5;28;01mNone\u001b[39;00m\n",
      "File \u001b[0;32m~/opt/anaconda3/envs/paper/lib/python3.8/site-packages/urllib3/connectionpool.py:386\u001b[0m, in \u001b[0;36mHTTPConnectionPool._make_request\u001b[0;34m(self, conn, method, url, timeout, chunked, **httplib_request_kw)\u001b[0m\n\u001b[1;32m    384\u001b[0m \u001b[38;5;66;03m# Trigger any extra validation we need to do.\u001b[39;00m\n\u001b[1;32m    385\u001b[0m \u001b[38;5;28;01mtry\u001b[39;00m:\n\u001b[0;32m--> 386\u001b[0m     \u001b[38;5;28;43mself\u001b[39;49m\u001b[38;5;241;43m.\u001b[39;49m\u001b[43m_validate_conn\u001b[49m\u001b[43m(\u001b[49m\u001b[43mconn\u001b[49m\u001b[43m)\u001b[49m\n\u001b[1;32m    387\u001b[0m \u001b[38;5;28;01mexcept\u001b[39;00m (SocketTimeout, BaseSSLError) \u001b[38;5;28;01mas\u001b[39;00m e:\n\u001b[1;32m    388\u001b[0m     \u001b[38;5;66;03m# Py2 raises this as a BaseSSLError, Py3 raises it as socket timeout.\u001b[39;00m\n\u001b[1;32m    389\u001b[0m     \u001b[38;5;28mself\u001b[39m\u001b[38;5;241m.\u001b[39m_raise_timeout(err\u001b[38;5;241m=\u001b[39me, url\u001b[38;5;241m=\u001b[39murl, timeout_value\u001b[38;5;241m=\u001b[39mconn\u001b[38;5;241m.\u001b[39mtimeout)\n",
      "File \u001b[0;32m~/opt/anaconda3/envs/paper/lib/python3.8/site-packages/urllib3/connectionpool.py:1042\u001b[0m, in \u001b[0;36mHTTPSConnectionPool._validate_conn\u001b[0;34m(self, conn)\u001b[0m\n\u001b[1;32m   1040\u001b[0m \u001b[38;5;66;03m# Force connect early to allow us to validate the connection.\u001b[39;00m\n\u001b[1;32m   1041\u001b[0m \u001b[38;5;28;01mif\u001b[39;00m \u001b[38;5;129;01mnot\u001b[39;00m \u001b[38;5;28mgetattr\u001b[39m(conn, \u001b[38;5;124m\"\u001b[39m\u001b[38;5;124msock\u001b[39m\u001b[38;5;124m\"\u001b[39m, \u001b[38;5;28;01mNone\u001b[39;00m):  \u001b[38;5;66;03m# AppEngine might not have  `.sock`\u001b[39;00m\n\u001b[0;32m-> 1042\u001b[0m     \u001b[43mconn\u001b[49m\u001b[38;5;241;43m.\u001b[39;49m\u001b[43mconnect\u001b[49m\u001b[43m(\u001b[49m\u001b[43m)\u001b[49m\n\u001b[1;32m   1044\u001b[0m \u001b[38;5;28;01mif\u001b[39;00m \u001b[38;5;129;01mnot\u001b[39;00m conn\u001b[38;5;241m.\u001b[39mis_verified:\n\u001b[1;32m   1045\u001b[0m     warnings\u001b[38;5;241m.\u001b[39mwarn(\n\u001b[1;32m   1046\u001b[0m         (\n\u001b[1;32m   1047\u001b[0m             \u001b[38;5;124m\"\u001b[39m\u001b[38;5;124mUnverified HTTPS request is being made to host \u001b[39m\u001b[38;5;124m'\u001b[39m\u001b[38;5;132;01m%s\u001b[39;00m\u001b[38;5;124m'\u001b[39m\u001b[38;5;124m. \u001b[39m\u001b[38;5;124m\"\u001b[39m\n\u001b[0;32m   (...)\u001b[0m\n\u001b[1;32m   1052\u001b[0m         InsecureRequestWarning,\n\u001b[1;32m   1053\u001b[0m     )\n",
      "File \u001b[0;32m~/opt/anaconda3/envs/paper/lib/python3.8/site-packages/urllib3/connection.py:419\u001b[0m, in \u001b[0;36mHTTPSConnection.connect\u001b[0;34m(self)\u001b[0m\n\u001b[1;32m    410\u001b[0m \u001b[38;5;28;01mif\u001b[39;00m (\n\u001b[1;32m    411\u001b[0m     \u001b[38;5;129;01mnot\u001b[39;00m \u001b[38;5;28mself\u001b[39m\u001b[38;5;241m.\u001b[39mca_certs\n\u001b[1;32m    412\u001b[0m     \u001b[38;5;129;01mand\u001b[39;00m \u001b[38;5;129;01mnot\u001b[39;00m \u001b[38;5;28mself\u001b[39m\u001b[38;5;241m.\u001b[39mca_cert_dir\n\u001b[0;32m   (...)\u001b[0m\n\u001b[1;32m    415\u001b[0m     \u001b[38;5;129;01mand\u001b[39;00m \u001b[38;5;28mhasattr\u001b[39m(context, \u001b[38;5;124m\"\u001b[39m\u001b[38;5;124mload_default_certs\u001b[39m\u001b[38;5;124m\"\u001b[39m)\n\u001b[1;32m    416\u001b[0m ):\n\u001b[1;32m    417\u001b[0m     context\u001b[38;5;241m.\u001b[39mload_default_certs()\n\u001b[0;32m--> 419\u001b[0m \u001b[38;5;28mself\u001b[39m\u001b[38;5;241m.\u001b[39msock \u001b[38;5;241m=\u001b[39m \u001b[43mssl_wrap_socket\u001b[49m\u001b[43m(\u001b[49m\n\u001b[1;32m    420\u001b[0m \u001b[43m    \u001b[49m\u001b[43msock\u001b[49m\u001b[38;5;241;43m=\u001b[39;49m\u001b[43mconn\u001b[49m\u001b[43m,\u001b[49m\n\u001b[1;32m    421\u001b[0m \u001b[43m    \u001b[49m\u001b[43mkeyfile\u001b[49m\u001b[38;5;241;43m=\u001b[39;49m\u001b[38;5;28;43mself\u001b[39;49m\u001b[38;5;241;43m.\u001b[39;49m\u001b[43mkey_file\u001b[49m\u001b[43m,\u001b[49m\n\u001b[1;32m    422\u001b[0m \u001b[43m    \u001b[49m\u001b[43mcertfile\u001b[49m\u001b[38;5;241;43m=\u001b[39;49m\u001b[38;5;28;43mself\u001b[39;49m\u001b[38;5;241;43m.\u001b[39;49m\u001b[43mcert_file\u001b[49m\u001b[43m,\u001b[49m\n\u001b[1;32m    423\u001b[0m \u001b[43m    \u001b[49m\u001b[43mkey_password\u001b[49m\u001b[38;5;241;43m=\u001b[39;49m\u001b[38;5;28;43mself\u001b[39;49m\u001b[38;5;241;43m.\u001b[39;49m\u001b[43mkey_password\u001b[49m\u001b[43m,\u001b[49m\n\u001b[1;32m    424\u001b[0m \u001b[43m    \u001b[49m\u001b[43mca_certs\u001b[49m\u001b[38;5;241;43m=\u001b[39;49m\u001b[38;5;28;43mself\u001b[39;49m\u001b[38;5;241;43m.\u001b[39;49m\u001b[43mca_certs\u001b[49m\u001b[43m,\u001b[49m\n\u001b[1;32m    425\u001b[0m \u001b[43m    \u001b[49m\u001b[43mca_cert_dir\u001b[49m\u001b[38;5;241;43m=\u001b[39;49m\u001b[38;5;28;43mself\u001b[39;49m\u001b[38;5;241;43m.\u001b[39;49m\u001b[43mca_cert_dir\u001b[49m\u001b[43m,\u001b[49m\n\u001b[1;32m    426\u001b[0m \u001b[43m    \u001b[49m\u001b[43mca_cert_data\u001b[49m\u001b[38;5;241;43m=\u001b[39;49m\u001b[38;5;28;43mself\u001b[39;49m\u001b[38;5;241;43m.\u001b[39;49m\u001b[43mca_cert_data\u001b[49m\u001b[43m,\u001b[49m\n\u001b[1;32m    427\u001b[0m \u001b[43m    \u001b[49m\u001b[43mserver_hostname\u001b[49m\u001b[38;5;241;43m=\u001b[39;49m\u001b[43mserver_hostname\u001b[49m\u001b[43m,\u001b[49m\n\u001b[1;32m    428\u001b[0m \u001b[43m    \u001b[49m\u001b[43mssl_context\u001b[49m\u001b[38;5;241;43m=\u001b[39;49m\u001b[43mcontext\u001b[49m\u001b[43m,\u001b[49m\n\u001b[1;32m    429\u001b[0m \u001b[43m    \u001b[49m\u001b[43mtls_in_tls\u001b[49m\u001b[38;5;241;43m=\u001b[39;49m\u001b[43mtls_in_tls\u001b[49m\u001b[43m,\u001b[49m\n\u001b[1;32m    430\u001b[0m \u001b[43m\u001b[49m\u001b[43m)\u001b[49m\n\u001b[1;32m    432\u001b[0m \u001b[38;5;66;03m# If we're using all defaults and the connection\u001b[39;00m\n\u001b[1;32m    433\u001b[0m \u001b[38;5;66;03m# is TLSv1 or TLSv1.1 we throw a DeprecationWarning\u001b[39;00m\n\u001b[1;32m    434\u001b[0m \u001b[38;5;66;03m# for the host.\u001b[39;00m\n\u001b[1;32m    435\u001b[0m \u001b[38;5;28;01mif\u001b[39;00m (\n\u001b[1;32m    436\u001b[0m     default_ssl_context\n\u001b[1;32m    437\u001b[0m     \u001b[38;5;129;01mand\u001b[39;00m \u001b[38;5;28mself\u001b[39m\u001b[38;5;241m.\u001b[39mssl_version \u001b[38;5;129;01mis\u001b[39;00m \u001b[38;5;28;01mNone\u001b[39;00m\n\u001b[1;32m    438\u001b[0m     \u001b[38;5;129;01mand\u001b[39;00m \u001b[38;5;28mhasattr\u001b[39m(\u001b[38;5;28mself\u001b[39m\u001b[38;5;241m.\u001b[39msock, \u001b[38;5;124m\"\u001b[39m\u001b[38;5;124mversion\u001b[39m\u001b[38;5;124m\"\u001b[39m)\n\u001b[1;32m    439\u001b[0m     \u001b[38;5;129;01mand\u001b[39;00m \u001b[38;5;28mself\u001b[39m\u001b[38;5;241m.\u001b[39msock\u001b[38;5;241m.\u001b[39mversion() \u001b[38;5;129;01min\u001b[39;00m {\u001b[38;5;124m\"\u001b[39m\u001b[38;5;124mTLSv1\u001b[39m\u001b[38;5;124m\"\u001b[39m, \u001b[38;5;124m\"\u001b[39m\u001b[38;5;124mTLSv1.1\u001b[39m\u001b[38;5;124m\"\u001b[39m}\n\u001b[1;32m    440\u001b[0m ):\n",
      "File \u001b[0;32m~/opt/anaconda3/envs/paper/lib/python3.8/site-packages/urllib3/util/ssl_.py:449\u001b[0m, in \u001b[0;36mssl_wrap_socket\u001b[0;34m(sock, keyfile, certfile, cert_reqs, ca_certs, server_hostname, ssl_version, ciphers, ssl_context, ca_cert_dir, key_password, ca_cert_data, tls_in_tls)\u001b[0m\n\u001b[1;32m    437\u001b[0m     warnings\u001b[38;5;241m.\u001b[39mwarn(\n\u001b[1;32m    438\u001b[0m         \u001b[38;5;124m\"\u001b[39m\u001b[38;5;124mAn HTTPS request has been made, but the SNI (Server Name \u001b[39m\u001b[38;5;124m\"\u001b[39m\n\u001b[1;32m    439\u001b[0m         \u001b[38;5;124m\"\u001b[39m\u001b[38;5;124mIndication) extension to TLS is not available on this platform. \u001b[39m\u001b[38;5;124m\"\u001b[39m\n\u001b[0;32m   (...)\u001b[0m\n\u001b[1;32m    445\u001b[0m         SNIMissingWarning,\n\u001b[1;32m    446\u001b[0m     )\n\u001b[1;32m    448\u001b[0m \u001b[38;5;28;01mif\u001b[39;00m send_sni:\n\u001b[0;32m--> 449\u001b[0m     ssl_sock \u001b[38;5;241m=\u001b[39m \u001b[43m_ssl_wrap_socket_impl\u001b[49m\u001b[43m(\u001b[49m\n\u001b[1;32m    450\u001b[0m \u001b[43m        \u001b[49m\u001b[43msock\u001b[49m\u001b[43m,\u001b[49m\u001b[43m \u001b[49m\u001b[43mcontext\u001b[49m\u001b[43m,\u001b[49m\u001b[43m \u001b[49m\u001b[43mtls_in_tls\u001b[49m\u001b[43m,\u001b[49m\u001b[43m \u001b[49m\u001b[43mserver_hostname\u001b[49m\u001b[38;5;241;43m=\u001b[39;49m\u001b[43mserver_hostname\u001b[49m\n\u001b[1;32m    451\u001b[0m \u001b[43m    \u001b[49m\u001b[43m)\u001b[49m\n\u001b[1;32m    452\u001b[0m \u001b[38;5;28;01melse\u001b[39;00m:\n\u001b[1;32m    453\u001b[0m     ssl_sock \u001b[38;5;241m=\u001b[39m _ssl_wrap_socket_impl(sock, context, tls_in_tls)\n",
      "File \u001b[0;32m~/opt/anaconda3/envs/paper/lib/python3.8/site-packages/urllib3/util/ssl_.py:493\u001b[0m, in \u001b[0;36m_ssl_wrap_socket_impl\u001b[0;34m(sock, ssl_context, tls_in_tls, server_hostname)\u001b[0m\n\u001b[1;32m    490\u001b[0m     \u001b[38;5;28;01mreturn\u001b[39;00m SSLTransport(sock, ssl_context, server_hostname)\n\u001b[1;32m    492\u001b[0m \u001b[38;5;28;01mif\u001b[39;00m server_hostname:\n\u001b[0;32m--> 493\u001b[0m     \u001b[38;5;28;01mreturn\u001b[39;00m \u001b[43mssl_context\u001b[49m\u001b[38;5;241;43m.\u001b[39;49m\u001b[43mwrap_socket\u001b[49m\u001b[43m(\u001b[49m\u001b[43msock\u001b[49m\u001b[43m,\u001b[49m\u001b[43m \u001b[49m\u001b[43mserver_hostname\u001b[49m\u001b[38;5;241;43m=\u001b[39;49m\u001b[43mserver_hostname\u001b[49m\u001b[43m)\u001b[49m\n\u001b[1;32m    494\u001b[0m \u001b[38;5;28;01melse\u001b[39;00m:\n\u001b[1;32m    495\u001b[0m     \u001b[38;5;28;01mreturn\u001b[39;00m ssl_context\u001b[38;5;241m.\u001b[39mwrap_socket(sock)\n",
      "File \u001b[0;32m~/opt/anaconda3/envs/paper/lib/python3.8/ssl.py:500\u001b[0m, in \u001b[0;36mSSLContext.wrap_socket\u001b[0;34m(self, sock, server_side, do_handshake_on_connect, suppress_ragged_eofs, server_hostname, session)\u001b[0m\n\u001b[1;32m    494\u001b[0m \u001b[38;5;28;01mdef\u001b[39;00m \u001b[38;5;21mwrap_socket\u001b[39m(\u001b[38;5;28mself\u001b[39m, sock, server_side\u001b[38;5;241m=\u001b[39m\u001b[38;5;28;01mFalse\u001b[39;00m,\n\u001b[1;32m    495\u001b[0m                 do_handshake_on_connect\u001b[38;5;241m=\u001b[39m\u001b[38;5;28;01mTrue\u001b[39;00m,\n\u001b[1;32m    496\u001b[0m                 suppress_ragged_eofs\u001b[38;5;241m=\u001b[39m\u001b[38;5;28;01mTrue\u001b[39;00m,\n\u001b[1;32m    497\u001b[0m                 server_hostname\u001b[38;5;241m=\u001b[39m\u001b[38;5;28;01mNone\u001b[39;00m, session\u001b[38;5;241m=\u001b[39m\u001b[38;5;28;01mNone\u001b[39;00m):\n\u001b[1;32m    498\u001b[0m     \u001b[38;5;66;03m# SSLSocket class handles server_hostname encoding before it calls\u001b[39;00m\n\u001b[1;32m    499\u001b[0m     \u001b[38;5;66;03m# ctx._wrap_socket()\u001b[39;00m\n\u001b[0;32m--> 500\u001b[0m     \u001b[38;5;28;01mreturn\u001b[39;00m \u001b[38;5;28;43mself\u001b[39;49m\u001b[38;5;241;43m.\u001b[39;49m\u001b[43msslsocket_class\u001b[49m\u001b[38;5;241;43m.\u001b[39;49m\u001b[43m_create\u001b[49m\u001b[43m(\u001b[49m\n\u001b[1;32m    501\u001b[0m \u001b[43m        \u001b[49m\u001b[43msock\u001b[49m\u001b[38;5;241;43m=\u001b[39;49m\u001b[43msock\u001b[49m\u001b[43m,\u001b[49m\n\u001b[1;32m    502\u001b[0m \u001b[43m        \u001b[49m\u001b[43mserver_side\u001b[49m\u001b[38;5;241;43m=\u001b[39;49m\u001b[43mserver_side\u001b[49m\u001b[43m,\u001b[49m\n\u001b[1;32m    503\u001b[0m \u001b[43m        \u001b[49m\u001b[43mdo_handshake_on_connect\u001b[49m\u001b[38;5;241;43m=\u001b[39;49m\u001b[43mdo_handshake_on_connect\u001b[49m\u001b[43m,\u001b[49m\n\u001b[1;32m    504\u001b[0m \u001b[43m        \u001b[49m\u001b[43msuppress_ragged_eofs\u001b[49m\u001b[38;5;241;43m=\u001b[39;49m\u001b[43msuppress_ragged_eofs\u001b[49m\u001b[43m,\u001b[49m\n\u001b[1;32m    505\u001b[0m \u001b[43m        \u001b[49m\u001b[43mserver_hostname\u001b[49m\u001b[38;5;241;43m=\u001b[39;49m\u001b[43mserver_hostname\u001b[49m\u001b[43m,\u001b[49m\n\u001b[1;32m    506\u001b[0m \u001b[43m        \u001b[49m\u001b[43mcontext\u001b[49m\u001b[38;5;241;43m=\u001b[39;49m\u001b[38;5;28;43mself\u001b[39;49m\u001b[43m,\u001b[49m\n\u001b[1;32m    507\u001b[0m \u001b[43m        \u001b[49m\u001b[43msession\u001b[49m\u001b[38;5;241;43m=\u001b[39;49m\u001b[43msession\u001b[49m\n\u001b[1;32m    508\u001b[0m \u001b[43m    \u001b[49m\u001b[43m)\u001b[49m\n",
      "File \u001b[0;32m~/opt/anaconda3/envs/paper/lib/python3.8/ssl.py:1040\u001b[0m, in \u001b[0;36mSSLSocket._create\u001b[0;34m(cls, sock, server_side, do_handshake_on_connect, suppress_ragged_eofs, server_hostname, context, session)\u001b[0m\n\u001b[1;32m   1037\u001b[0m         \u001b[38;5;28;01mif\u001b[39;00m timeout \u001b[38;5;241m==\u001b[39m \u001b[38;5;241m0.0\u001b[39m:\n\u001b[1;32m   1038\u001b[0m             \u001b[38;5;66;03m# non-blocking\u001b[39;00m\n\u001b[1;32m   1039\u001b[0m             \u001b[38;5;28;01mraise\u001b[39;00m \u001b[38;5;167;01mValueError\u001b[39;00m(\u001b[38;5;124m\"\u001b[39m\u001b[38;5;124mdo_handshake_on_connect should not be specified for non-blocking sockets\u001b[39m\u001b[38;5;124m\"\u001b[39m)\n\u001b[0;32m-> 1040\u001b[0m         \u001b[38;5;28;43mself\u001b[39;49m\u001b[38;5;241;43m.\u001b[39;49m\u001b[43mdo_handshake\u001b[49m\u001b[43m(\u001b[49m\u001b[43m)\u001b[49m\n\u001b[1;32m   1041\u001b[0m \u001b[38;5;28;01mexcept\u001b[39;00m (\u001b[38;5;167;01mOSError\u001b[39;00m, \u001b[38;5;167;01mValueError\u001b[39;00m):\n\u001b[1;32m   1042\u001b[0m     \u001b[38;5;28mself\u001b[39m\u001b[38;5;241m.\u001b[39mclose()\n",
      "File \u001b[0;32m~/opt/anaconda3/envs/paper/lib/python3.8/ssl.py:1309\u001b[0m, in \u001b[0;36mSSLSocket.do_handshake\u001b[0;34m(self, block)\u001b[0m\n\u001b[1;32m   1307\u001b[0m     \u001b[38;5;28;01mif\u001b[39;00m timeout \u001b[38;5;241m==\u001b[39m \u001b[38;5;241m0.0\u001b[39m \u001b[38;5;129;01mand\u001b[39;00m block:\n\u001b[1;32m   1308\u001b[0m         \u001b[38;5;28mself\u001b[39m\u001b[38;5;241m.\u001b[39msettimeout(\u001b[38;5;28;01mNone\u001b[39;00m)\n\u001b[0;32m-> 1309\u001b[0m     \u001b[38;5;28;43mself\u001b[39;49m\u001b[38;5;241;43m.\u001b[39;49m\u001b[43m_sslobj\u001b[49m\u001b[38;5;241;43m.\u001b[39;49m\u001b[43mdo_handshake\u001b[49m\u001b[43m(\u001b[49m\u001b[43m)\u001b[49m\n\u001b[1;32m   1310\u001b[0m \u001b[38;5;28;01mfinally\u001b[39;00m:\n\u001b[1;32m   1311\u001b[0m     \u001b[38;5;28mself\u001b[39m\u001b[38;5;241m.\u001b[39msettimeout(timeout)\n",
      "\u001b[0;31mKeyboardInterrupt\u001b[0m: "
     ]
    }
   ],
   "source": [
    "extendedData = RepoTools.loadReposWithReadmeAndGetExtendedData(companyName, saveExtendedRepoWithReadme=True)"
   ]
  },
  {
   "cell_type": "markdown",
   "id": "9c2ce23f-ecbc-4d04-875e-6998855ab5ba",
   "metadata": {},
   "source": [
    "### run this to get the papers with link as a df. Checking `ignoreArxivIfPaperTitleExists` will result in a more refined (yet less exhaustive) papers"
   ]
  },
  {
   "cell_type": "code",
   "execution_count": 11,
   "id": "f9c93673-9768-4d7e-8b29-d4a8fe66cd57",
   "metadata": {},
   "outputs": [
    {
     "name": "stdout",
     "output_type": "stream",
     "text": [
      "28\n"
     ]
    },
    {
     "data": {
      "text/html": [
       "<div>\n",
       "<style scoped>\n",
       "    .dataframe tbody tr th:only-of-type {\n",
       "        vertical-align: middle;\n",
       "    }\n",
       "\n",
       "    .dataframe tbody tr th {\n",
       "        vertical-align: top;\n",
       "    }\n",
       "\n",
       "    .dataframe thead th {\n",
       "        text-align: right;\n",
       "    }\n",
       "</style>\n",
       "<table border=\"1\" class=\"dataframe\">\n",
       "  <thead>\n",
       "    <tr style=\"text-align: right;\">\n",
       "      <th></th>\n",
       "      <th>title</th>\n",
       "      <th>repo_link</th>\n",
       "      <th>forks</th>\n",
       "      <th>stargazers_count</th>\n",
       "      <th>created_at</th>\n",
       "      <th>open_issues_count</th>\n",
       "      <th>name</th>\n",
       "    </tr>\n",
       "  </thead>\n",
       "  <tbody>\n",
       "    <tr>\n",
       "      <th>0</th>\n",
       "      <td>Degree-of-linear-polarization-based Color Cons...</td>\n",
       "      <td>https://github.com/sony/dolp-colorconstancy</td>\n",
       "      <td>2</td>\n",
       "      <td>11</td>\n",
       "      <td>2022-03-22 06:10:41</td>\n",
       "      <td>0</td>\n",
       "      <td>dolp-colorconstancy</td>\n",
       "    </tr>\n",
       "    <tr>\n",
       "      <th>1</th>\n",
       "      <td>Evaluating the Robustness of Off-Policy Evalua...</td>\n",
       "      <td>https://github.com/sony/pyIEOE</td>\n",
       "      <td>2</td>\n",
       "      <td>25</td>\n",
       "      <td>2021-07-20 05:21:15</td>\n",
       "      <td>0</td>\n",
       "      <td>pyIEOE</td>\n",
       "    </tr>\n",
       "    <tr>\n",
       "      <th>2</th>\n",
       "      <td>pyloudnorm: A simple yet flexible loudness met...</td>\n",
       "      <td>https://github.com/csteinmetz1/pyloudnorm</td>\n",
       "      <td>47</td>\n",
       "      <td>444</td>\n",
       "      <td>2017-11-12 13:56:23</td>\n",
       "      <td>11</td>\n",
       "      <td>pyloudnorm</td>\n",
       "    </tr>\n",
       "    <tr>\n",
       "      <th>3</th>\n",
       "      <td>Automatic multitrack mixing with a differentia...</td>\n",
       "      <td>https://github.com/csteinmetz1/pymixconsole</td>\n",
       "      <td>12</td>\n",
       "      <td>88</td>\n",
       "      <td>2019-09-02 19:13:28</td>\n",
       "      <td>13</td>\n",
       "      <td>pymixconsole</td>\n",
       "    </tr>\n",
       "    <tr>\n",
       "      <th>4</th>\n",
       "      <td>Open Bandit Dataset and Pipeline: Towards Real...</td>\n",
       "      <td>https://github.com/st-tech/zr-obp</td>\n",
       "      <td>70</td>\n",
       "      <td>533</td>\n",
       "      <td>2020-06-16 02:10:15</td>\n",
       "      <td>19</td>\n",
       "      <td>zr-obp</td>\n",
       "    </tr>\n",
       "    <tr>\n",
       "      <th>5</th>\n",
       "      <td>CLIPSep: Learning Text-queried Sound Separatio...</td>\n",
       "      <td>https://github.com/sony/CLIPSep</td>\n",
       "      <td>0</td>\n",
       "      <td>16</td>\n",
       "      <td>2023-01-24 03:45:58</td>\n",
       "      <td>1</td>\n",
       "      <td>CLIPSep</td>\n",
       "    </tr>\n",
       "    <tr>\n",
       "      <th>6</th>\n",
       "      <td>DiffRoll: Diffusion-based Generative Music Tra...</td>\n",
       "      <td>https://github.com/sony/DiffRoll</td>\n",
       "      <td>3</td>\n",
       "      <td>42</td>\n",
       "      <td>2022-10-11 09:25:28</td>\n",
       "      <td>0</td>\n",
       "      <td>DiffRoll</td>\n",
       "    </tr>\n",
       "    <tr>\n",
       "      <th>7</th>\n",
       "      <td>Automatic music mixing with deep learning and ...</td>\n",
       "      <td>https://github.com/sony/FxNorm-automix</td>\n",
       "      <td>4</td>\n",
       "      <td>48</td>\n",
       "      <td>2022-08-05 03:21:35</td>\n",
       "      <td>1</td>\n",
       "      <td>FxNorm-automix</td>\n",
       "    </tr>\n",
       "    <tr>\n",
       "      <th>8</th>\n",
       "      <td>HPTQ: Hardware-Friendly Post Training Quantiza...</td>\n",
       "      <td>https://github.com/sony/model_optimization</td>\n",
       "      <td>26</td>\n",
       "      <td>162</td>\n",
       "      <td>2021-06-21 03:28:09</td>\n",
       "      <td>7</td>\n",
       "      <td>model_optimization</td>\n",
       "    </tr>\n",
       "    <tr>\n",
       "      <th>9</th>\n",
       "      <td>NDJIR: Neural Direct and Joint Inverse Renderi...</td>\n",
       "      <td>https://github.com/sony/NDJIR</td>\n",
       "      <td>2</td>\n",
       "      <td>33</td>\n",
       "      <td>2022-12-14 02:43:35</td>\n",
       "      <td>2</td>\n",
       "      <td>NDJIR</td>\n",
       "    </tr>\n",
       "    <tr>\n",
       "      <th>10</th>\n",
       "      <td>Neural Network Libraries: A Deep Learning Fram...</td>\n",
       "      <td>https://github.com/sony/nnabla</td>\n",
       "      <td>333</td>\n",
       "      <td>2618</td>\n",
       "      <td>2017-06-26 01:07:10</td>\n",
       "      <td>31</td>\n",
       "      <td>nnabla</td>\n",
       "    </tr>\n",
       "    <tr>\n",
       "      <th>11</th>\n",
       "      <td>Neural Network Libraries: A Deep Learning Fram...</td>\n",
       "      <td>https://github.com/sony/nnabla</td>\n",
       "      <td>333</td>\n",
       "      <td>2618</td>\n",
       "      <td>2017-06-26 01:07:10</td>\n",
       "      <td>31</td>\n",
       "      <td>nnabla</td>\n",
       "    </tr>\n",
       "    <tr>\n",
       "      <th>12</th>\n",
       "      <td>Simultaneous Acquisition of High Quality RGB I...</td>\n",
       "      <td>https://github.com/sony/polar-densification</td>\n",
       "      <td>0</td>\n",
       "      <td>16</td>\n",
       "      <td>2022-09-13 02:50:06</td>\n",
       "      <td>0</td>\n",
       "      <td>polar-densification</td>\n",
       "    </tr>\n",
       "    <tr>\n",
       "      <th>13</th>\n",
       "      <td>Simultaneous Acquisition of High Quality RGB I...</td>\n",
       "      <td>https://github.com/sony/polar-densification</td>\n",
       "      <td>0</td>\n",
       "      <td>16</td>\n",
       "      <td>2022-09-13 02:50:06</td>\n",
       "      <td>0</td>\n",
       "      <td>polar-densification</td>\n",
       "    </tr>\n",
       "    <tr>\n",
       "      <th>14</th>\n",
       "      <td>SQ-VAE: Variational Bayes on Discrete Represen...</td>\n",
       "      <td>https://github.com/sony/sqvae</td>\n",
       "      <td>13</td>\n",
       "      <td>128</td>\n",
       "      <td>2022-05-26 06:40:40</td>\n",
       "      <td>1</td>\n",
       "      <td>sqvae</td>\n",
       "    </tr>\n",
       "    <tr>\n",
       "      <th>15</th>\n",
       "      <td>Towards Precise and Efficient Image Guided Dep...</td>\n",
       "      <td>https://github.com/JUGGHM/PENet_ICRA2021</td>\n",
       "      <td>41</td>\n",
       "      <td>264</td>\n",
       "      <td>2021-02-26 10:07:18</td>\n",
       "      <td>32</td>\n",
       "      <td>PENet_ICRA2021</td>\n",
       "    </tr>\n",
       "    <tr>\n",
       "      <th>16</th>\n",
       "      <td>PENet: Towards Precise and Efficient Image Gui...</td>\n",
       "      <td>https://github.com/JUGGHM/PENet_ICRA2021</td>\n",
       "      <td>41</td>\n",
       "      <td>264</td>\n",
       "      <td>2021-02-26 10:07:18</td>\n",
       "      <td>32</td>\n",
       "      <td>PENet_ICRA2021</td>\n",
       "    </tr>\n",
       "    <tr>\n",
       "      <th>17</th>\n",
       "      <td>Audio-Visual SELD Baseline Architecture</td>\n",
       "      <td>https://github.com/sony/audio-visual-seld-dcas...</td>\n",
       "      <td>0</td>\n",
       "      <td>12</td>\n",
       "      <td>2023-02-20 01:12:32</td>\n",
       "      <td>0</td>\n",
       "      <td>audio-visual-seld-dcase2023</td>\n",
       "    </tr>\n",
       "    <tr>\n",
       "      <th>18</th>\n",
       "      <td>Sound Event Localization and Detection of Over...</td>\n",
       "      <td>https://github.com/sony/audio-visual-seld-dcas...</td>\n",
       "      <td>0</td>\n",
       "      <td>12</td>\n",
       "      <td>2023-02-20 01:12:32</td>\n",
       "      <td>0</td>\n",
       "      <td>audio-visual-seld-dcase2023</td>\n",
       "    </tr>\n",
       "    <tr>\n",
       "      <th>19</th>\n",
       "      <td>Overview and Evaluation of Sound Event Localiz...</td>\n",
       "      <td>https://github.com/sony/audio-visual-seld-dcas...</td>\n",
       "      <td>0</td>\n",
       "      <td>12</td>\n",
       "      <td>2023-02-20 01:12:32</td>\n",
       "      <td>0</td>\n",
       "      <td>audio-visual-seld-dcase2023</td>\n",
       "    </tr>\n",
       "    <tr>\n",
       "      <th>20</th>\n",
       "      <td>YOLOX: Exceeding YOLO Series in 2021</td>\n",
       "      <td>https://github.com/sony/audio-visual-seld-dcas...</td>\n",
       "      <td>0</td>\n",
       "      <td>12</td>\n",
       "      <td>2023-02-20 01:12:32</td>\n",
       "      <td>0</td>\n",
       "      <td>audio-visual-seld-dcase2023</td>\n",
       "    </tr>\n",
       "    <tr>\n",
       "      <th>21</th>\n",
       "      <td>Multi-ACCDOA: Localizing and Detecting Overlap...</td>\n",
       "      <td>https://github.com/sony/audio-visual-seld-dcas...</td>\n",
       "      <td>0</td>\n",
       "      <td>12</td>\n",
       "      <td>2023-02-20 01:12:32</td>\n",
       "      <td>0</td>\n",
       "      <td>audio-visual-seld-dcase2023</td>\n",
       "    </tr>\n",
       "    <tr>\n",
       "      <th>22</th>\n",
       "      <td>Mixed Precision DNNs: All you need is a good p...</td>\n",
       "      <td>https://github.com/sony/ai-research-code</td>\n",
       "      <td>54</td>\n",
       "      <td>299</td>\n",
       "      <td>2020-04-14 09:50:31</td>\n",
       "      <td>10</td>\n",
       "      <td>ai-research-code</td>\n",
       "    </tr>\n",
       "    <tr>\n",
       "      <th>23</th>\n",
       "      <td>All for One and One for All: Improving Music S...</td>\n",
       "      <td>https://github.com/sony/ai-research-code</td>\n",
       "      <td>54</td>\n",
       "      <td>299</td>\n",
       "      <td>2020-04-14 09:50:31</td>\n",
       "      <td>10</td>\n",
       "      <td>ai-research-code</td>\n",
       "    </tr>\n",
       "    <tr>\n",
       "      <th>24</th>\n",
       "      <td>Out-of-core Training for Extremely Large-Scale...</td>\n",
       "      <td>https://github.com/sony/ai-research-code</td>\n",
       "      <td>54</td>\n",
       "      <td>299</td>\n",
       "      <td>2020-04-14 09:50:31</td>\n",
       "      <td>10</td>\n",
       "      <td>ai-research-code</td>\n",
       "    </tr>\n",
       "    <tr>\n",
       "      <th>25</th>\n",
       "      <td>Densely connected multidilated convolutional n...</td>\n",
       "      <td>https://github.com/sony/ai-research-code</td>\n",
       "      <td>54</td>\n",
       "      <td>299</td>\n",
       "      <td>2020-04-14 09:50:31</td>\n",
       "      <td>10</td>\n",
       "      <td>ai-research-code</td>\n",
       "    </tr>\n",
       "    <tr>\n",
       "      <th>26</th>\n",
       "      <td>Data Cleansing for Deep Neural Networks with S...</td>\n",
       "      <td>https://github.com/sony/ai-research-code</td>\n",
       "      <td>54</td>\n",
       "      <td>299</td>\n",
       "      <td>2020-04-14 09:50:31</td>\n",
       "      <td>10</td>\n",
       "      <td>ai-research-code</td>\n",
       "    </tr>\n",
       "    <tr>\n",
       "      <th>27</th>\n",
       "      <td>NVC-Net: End-to-End Adversarial Voice Conversion</td>\n",
       "      <td>https://github.com/sony/ai-research-code</td>\n",
       "      <td>54</td>\n",
       "      <td>299</td>\n",
       "      <td>2020-04-14 09:50:31</td>\n",
       "      <td>10</td>\n",
       "      <td>ai-research-code</td>\n",
       "    </tr>\n",
       "  </tbody>\n",
       "</table>\n",
       "</div>"
      ],
      "text/plain": [
       "                                                title  \\\n",
       "0   Degree-of-linear-polarization-based Color Cons...   \n",
       "1   Evaluating the Robustness of Off-Policy Evalua...   \n",
       "2   pyloudnorm: A simple yet flexible loudness met...   \n",
       "3   Automatic multitrack mixing with a differentia...   \n",
       "4   Open Bandit Dataset and Pipeline: Towards Real...   \n",
       "5   CLIPSep: Learning Text-queried Sound Separatio...   \n",
       "6   DiffRoll: Diffusion-based Generative Music Tra...   \n",
       "7   Automatic music mixing with deep learning and ...   \n",
       "8   HPTQ: Hardware-Friendly Post Training Quantiza...   \n",
       "9   NDJIR: Neural Direct and Joint Inverse Renderi...   \n",
       "10  Neural Network Libraries: A Deep Learning Fram...   \n",
       "11  Neural Network Libraries: A Deep Learning Fram...   \n",
       "12  Simultaneous Acquisition of High Quality RGB I...   \n",
       "13  Simultaneous Acquisition of High Quality RGB I...   \n",
       "14  SQ-VAE: Variational Bayes on Discrete Represen...   \n",
       "15  Towards Precise and Efficient Image Guided Dep...   \n",
       "16  PENet: Towards Precise and Efficient Image Gui...   \n",
       "17            Audio-Visual SELD Baseline Architecture   \n",
       "18  Sound Event Localization and Detection of Over...   \n",
       "19  Overview and Evaluation of Sound Event Localiz...   \n",
       "20               YOLOX: Exceeding YOLO Series in 2021   \n",
       "21  Multi-ACCDOA: Localizing and Detecting Overlap...   \n",
       "22  Mixed Precision DNNs: All you need is a good p...   \n",
       "23  All for One and One for All: Improving Music S...   \n",
       "24  Out-of-core Training for Extremely Large-Scale...   \n",
       "25  Densely connected multidilated convolutional n...   \n",
       "26  Data Cleansing for Deep Neural Networks with S...   \n",
       "27   NVC-Net: End-to-End Adversarial Voice Conversion   \n",
       "\n",
       "                                            repo_link  forks  \\\n",
       "0         https://github.com/sony/dolp-colorconstancy      2   \n",
       "1                      https://github.com/sony/pyIEOE      2   \n",
       "2           https://github.com/csteinmetz1/pyloudnorm     47   \n",
       "3         https://github.com/csteinmetz1/pymixconsole     12   \n",
       "4                   https://github.com/st-tech/zr-obp     70   \n",
       "5                     https://github.com/sony/CLIPSep      0   \n",
       "6                    https://github.com/sony/DiffRoll      3   \n",
       "7              https://github.com/sony/FxNorm-automix      4   \n",
       "8          https://github.com/sony/model_optimization     26   \n",
       "9                       https://github.com/sony/NDJIR      2   \n",
       "10                     https://github.com/sony/nnabla    333   \n",
       "11                     https://github.com/sony/nnabla    333   \n",
       "12        https://github.com/sony/polar-densification      0   \n",
       "13        https://github.com/sony/polar-densification      0   \n",
       "14                      https://github.com/sony/sqvae     13   \n",
       "15           https://github.com/JUGGHM/PENet_ICRA2021     41   \n",
       "16           https://github.com/JUGGHM/PENet_ICRA2021     41   \n",
       "17  https://github.com/sony/audio-visual-seld-dcas...      0   \n",
       "18  https://github.com/sony/audio-visual-seld-dcas...      0   \n",
       "19  https://github.com/sony/audio-visual-seld-dcas...      0   \n",
       "20  https://github.com/sony/audio-visual-seld-dcas...      0   \n",
       "21  https://github.com/sony/audio-visual-seld-dcas...      0   \n",
       "22           https://github.com/sony/ai-research-code     54   \n",
       "23           https://github.com/sony/ai-research-code     54   \n",
       "24           https://github.com/sony/ai-research-code     54   \n",
       "25           https://github.com/sony/ai-research-code     54   \n",
       "26           https://github.com/sony/ai-research-code     54   \n",
       "27           https://github.com/sony/ai-research-code     54   \n",
       "\n",
       "    stargazers_count          created_at  open_issues_count  \\\n",
       "0                 11 2022-03-22 06:10:41                  0   \n",
       "1                 25 2021-07-20 05:21:15                  0   \n",
       "2                444 2017-11-12 13:56:23                 11   \n",
       "3                 88 2019-09-02 19:13:28                 13   \n",
       "4                533 2020-06-16 02:10:15                 19   \n",
       "5                 16 2023-01-24 03:45:58                  1   \n",
       "6                 42 2022-10-11 09:25:28                  0   \n",
       "7                 48 2022-08-05 03:21:35                  1   \n",
       "8                162 2021-06-21 03:28:09                  7   \n",
       "9                 33 2022-12-14 02:43:35                  2   \n",
       "10              2618 2017-06-26 01:07:10                 31   \n",
       "11              2618 2017-06-26 01:07:10                 31   \n",
       "12                16 2022-09-13 02:50:06                  0   \n",
       "13                16 2022-09-13 02:50:06                  0   \n",
       "14               128 2022-05-26 06:40:40                  1   \n",
       "15               264 2021-02-26 10:07:18                 32   \n",
       "16               264 2021-02-26 10:07:18                 32   \n",
       "17                12 2023-02-20 01:12:32                  0   \n",
       "18                12 2023-02-20 01:12:32                  0   \n",
       "19                12 2023-02-20 01:12:32                  0   \n",
       "20                12 2023-02-20 01:12:32                  0   \n",
       "21                12 2023-02-20 01:12:32                  0   \n",
       "22               299 2020-04-14 09:50:31                 10   \n",
       "23               299 2020-04-14 09:50:31                 10   \n",
       "24               299 2020-04-14 09:50:31                 10   \n",
       "25               299 2020-04-14 09:50:31                 10   \n",
       "26               299 2020-04-14 09:50:31                 10   \n",
       "27               299 2020-04-14 09:50:31                 10   \n",
       "\n",
       "                           name  \n",
       "0           dolp-colorconstancy  \n",
       "1                        pyIEOE  \n",
       "2                    pyloudnorm  \n",
       "3                  pymixconsole  \n",
       "4                        zr-obp  \n",
       "5                       CLIPSep  \n",
       "6                      DiffRoll  \n",
       "7                FxNorm-automix  \n",
       "8            model_optimization  \n",
       "9                         NDJIR  \n",
       "10                       nnabla  \n",
       "11                       nnabla  \n",
       "12          polar-densification  \n",
       "13          polar-densification  \n",
       "14                        sqvae  \n",
       "15               PENet_ICRA2021  \n",
       "16               PENet_ICRA2021  \n",
       "17  audio-visual-seld-dcase2023  \n",
       "18  audio-visual-seld-dcase2023  \n",
       "19  audio-visual-seld-dcase2023  \n",
       "20  audio-visual-seld-dcase2023  \n",
       "21  audio-visual-seld-dcase2023  \n",
       "22             ai-research-code  \n",
       "23             ai-research-code  \n",
       "24             ai-research-code  \n",
       "25             ai-research-code  \n",
       "26             ai-research-code  \n",
       "27             ai-research-code  "
      ]
     },
     "execution_count": 11,
     "metadata": {},
     "output_type": "execute_result"
    }
   ],
   "source": [
    "df = RepoTools.loadExtendedRepoWithReadmeAndGetPaperDf(companyName, ignoreArxivIfPaperTitleExists=False)\n",
    "print(len(df))\n",
    "df"
   ]
  },
  {
   "cell_type": "markdown",
   "id": "3b93806c-49f3-4f94-a2cc-4cc64a8a765f",
   "metadata": {
    "tags": []
   },
   "source": [
    "### This line saves the papers as CSV "
   ]
  },
  {
   "cell_type": "code",
   "execution_count": 442,
   "id": "dc282b6f-f980-4660-ac22-47263b8b4fc1",
   "metadata": {},
   "outputs": [],
   "source": [
    "DataTools.saveDfInCSV(df, f'{companyName}Papers')"
   ]
  },
  {
   "cell_type": "code",
   "execution_count": 441,
   "id": "9a7454d0-6608-4a0f-a80a-d93dc6cba3f0",
   "metadata": {},
   "outputs": [
    {
     "data": {
      "text/plain": [
       "64"
      ]
     },
     "execution_count": 441,
     "metadata": {},
     "output_type": "execute_result"
    }
   ],
   "source": [
    "len(df[df.repo_link.str.contains(companyName)])"
   ]
  },
  {
   "cell_type": "markdown",
   "id": "15106e77-b302-4b71-801f-af5a6f6d4cdc",
   "metadata": {},
   "source": [
    "### "
   ]
  },
  {
   "cell_type": "markdown",
   "id": "d5e13883-0552-4283-bfe2-994486d2b420",
   "metadata": {},
   "source": [
    "# "
   ]
  },
  {
   "cell_type": "markdown",
   "id": "05a115bd-210a-4db0-92c9-1d8f0ad9246b",
   "metadata": {
    "tags": []
   },
   "source": [
    "### rest of the stuff (not important) "
   ]
  },
  {
   "cell_type": "code",
   "execution_count": 391,
   "id": "e2949de6-5b9c-4649-8e59-8b2664eca79b",
   "metadata": {},
   "outputs": [],
   "source": [
    "a = [_ for _ in data if _['repo'].full_name == 'sony/ai-research-code']"
   ]
  },
  {
   "cell_type": "code",
   "execution_count": 367,
   "id": "d8a904e6-202d-4883-b817-bbf8cfb9c70e",
   "metadata": {},
   "outputs": [],
   "source": [
    "username = 'NVLabs'\n",
    "exData = RepoTools.loadPickle(f'extended_{username}RepoWithReadmes')"
   ]
  },
  {
   "cell_type": "code",
   "execution_count": 13,
   "id": "d7be6cda-2cb9-4193-8501-c1c3ea77461a",
   "metadata": {},
   "outputs": [],
   "source": []
  },
  {
   "cell_type": "code",
   "execution_count": null,
   "id": "afa65b8d-6d8c-4aa3-81d5-8a06bed0faed",
   "metadata": {},
   "outputs": [
    {
     "name": "stdout",
     "output_type": "stream",
     "text": [
      "trying...\n",
      "Already exists for 23andMe, Inc., ignoring...\n",
      "Already exists for 3M, ignoring...\n",
      "Already exists for ADP, ignoring...\n",
      "Already exists for AGT INTERNATIONAL GMBH, ignoring...\n",
      "Already exists for AKTIEBOLAGET SKF, ignoring...\n",
      "Already exists for ARM Limited, ignoring...\n",
      "Already exists for ARRI, ignoring...\n",
      "Already exists for ASAPP INC, ignoring...\n",
      "Already exists for ASD Inc., ignoring...\n",
      "Already exists for ASELSAN ELEKTRONIK, ignoring...\n",
      "Already exists for ASML Netherlands BV, ignoring...\n",
      "Already exists for ASUSTeK Computer Inc, ignoring...\n",
      "Already exists for AWK Group AG, ignoring...\n",
      "Already exists for Abbott Laboratories, ignoring...\n",
      "Already exists for Accenture, ignoring...\n",
      "Already exists for Acxiom Corporation, ignoring...\n",
      "Already exists for Adaptive Technologies, Inc., ignoring...\n",
      "Already exists for Adobe, ignoring...\n",
      "Already exists for Advanced Micro Devices, ignoring...\n",
      "Already exists for Affinnova, Inc., ignoring...\n",
      "Already exists for Agilent Technologies, ignoring...\n",
      "Already exists for Air Liquide Large Industries US LP, ignoring...\n",
      "Already exists for Airbnb, ignoring...\n",
      "Already exists for Airbus Defence and Space, ignoring...\n",
      "Already exists for Akamai Technologies Inc, ignoring...\n",
      "Already exists for Alibaba, ignoring...\n",
      "Already exists for Alps Electric Co Ltd, ignoring...\n",
      "Already exists for Alstom, ignoring...\n",
      "Already exists for Amadeus, ignoring...\n",
      "Already exists for Amazon, ignoring...\n",
      "Already exists for Amdocs Development Limited, ignoring...\n",
      "Already exists for American Express, ignoring...\n",
      "Already exists for American GNC Corporation, ignoring...\n",
      "Already exists for Ami Semiconductor, ignoring...\n",
      "Already exists for Amobee, Inc., ignoring...\n",
      "Already exists for Analog Devices Inc, ignoring...\n",
      "Already exists for Apple, ignoring...\n",
      "Already exists for Aptima Inc, ignoring...\n",
      "Already exists for Asahi Kasei Corporation, ignoring...\n",
      "Already exists for Aspen Technology Inc, ignoring...\n",
      "Already exists for AstraZeneca, ignoring...\n",
      "Already exists for Audi AG, ignoring...\n",
      "Already exists for Autodesk, ignoring...\n",
      "Already exists for Autoliv ASP Inc, ignoring...\n",
      "Already exists for Autonomous Solutions, Inc., ignoring...\n",
      "Already exists for Avago Technologies, ignoring...\n",
      "Already exists for Avaya, ignoring...\n",
      "Already exists for Aveo Inc, ignoring...\n",
      "Already exists for Avx Corporation, ignoring...\n",
      "Already exists for BAIDU, ignoring...\n",
      "Already exists for BASF SE, ignoring...\n",
      "Already exists for BBN Technologies, ignoring...\n",
      "Already exists for BOOKING.COM B.V., ignoring...\n",
      "Already exists for BP America Inc, ignoring...\n",
      "Already exists for Baker Hughes a GE company, ignoring...\n",
      "Already exists for Balluff GmbH, ignoring...\n",
      "Already exists for Bang and Olufsen, ignoring...\n",
      "Already exists for Bank of America Corporation, ignoring...\n",
      "Already exists for Battelle, ignoring...\n",
      "Already exists for Bayer AG, ignoring...\n",
      "Already exists for Bayer Aktiengesellschaft, ignoring...\n",
      "Already exists for Becton Dickinson and Company, ignoring...\n",
      "Already exists for Bell, ignoring...\n",
      "Already exists for Bentley Systems Incorporated, ignoring...\n",
      "Already exists for Blizzard Entertainment, ignoring...\n",
      "Already exists for Bloomberg, ignoring...\n",
      "Already exists for Boehringer-Ingelheim, ignoring...\n",
      "Already exists for Boeing Corporation, ignoring...\n",
      "Already exists for Booz Allen Hamilton Inc, ignoring...\n",
      "Already exists for Borealis, ignoring...\n",
      "Already exists for British Telecommunications plc, ignoring...\n",
      "Already exists for Broadcom, ignoring...\n",
      "Already exists for Brooks Automation, ignoring...\n",
      "Already exists for Bytedance, ignoring...\n",
      "Already exists for CA Inc, ignoring...\n",
      "Already exists for Ca Technologies, ignoring...\n",
      "Already exists for Cabot Corporation, ignoring...\n",
      "Already exists for Cadence Design Systems Inc, ignoring...\n",
      "Already exists for Canon Inc, ignoring...\n",
      "Already exists for Capgemini, ignoring...\n",
      "Already exists for Capital One Services LLC, ignoring...\n",
      "Already exists for Carl Zeiss, ignoring...\n",
      "Already exists for Carrier Corporation, ignoring...\n",
      "Already exists for Caterpillar, ignoring...\n",
      "Already exists for Cavium, Inc., ignoring...\n",
      "Already exists for Cerner Innovation Inc, ignoring...\n",
      "Already exists for Charles River Analytics Inc, ignoring...\n",
      "Already exists for Check Point Software Technologies, Inc., ignoring...\n",
      "Already exists for Chevron Corporation, ignoring...\n",
      "Already exists for China Mobile, ignoring...\n",
      "Already exists for Cigna Corporation, ignoring...\n",
      "Already exists for Cisco Systems, ignoring...\n",
      "Already exists for Citigroup, ignoring...\n",
      "Already exists for Citrix, ignoring...\n",
      "Already exists for Codexis Inc, ignoring...\n",
      "Already exists for Cognizant, ignoring...\n",
      "Already exists for Comcast, ignoring...\n",
      "Already exists for Computer Sciences Corporation - USA, ignoring...\n",
      "Already exists for Continental Automotive GmbH, ignoring...\n",
      "Already exists for Corelogic Incorporated, ignoring...\n",
      "Already exists for Corning Incorporated, ignoring...\n",
      "Already exists for Cray Inc, ignoring...\n",
      "Already exists for Cypress Semiconductor Corporation, ignoring...\n",
      "Already exists for D Wave Systems Inc, ignoring...\n",
      "Already exists for DEEP GENOMICS INCORPORATED, ignoring...\n",
      "Already exists for DENSO Corporation, ignoring...\n",
      "Already exists for Daikin Industries Ltd, ignoring...\n",
      "Already exists for Daimler AG, ignoring...\n",
      "Already exists for Danaher Corporation, ignoring...\n",
      "Already exists for Dassault Systemes, ignoring...\n",
      "Already exists for DataRobot Inc, ignoring...\n",
      "Already exists for DeepMind Technologies, ignoring...\n",
      "Already exists for Deere & Company, ignoring...\n",
      "Already exists for Definiens AG, ignoring...\n",
      "Already exists for Dell Products, ignoring...\n",
      "Already exists for Delphi, ignoring...\n",
      "Already exists for Deutsche Telekom, ignoring...\n",
      "Already exists for DiDi, ignoring...\n",
      "Already exists for Digia, ignoring...\n",
      "Already exists for Digimarc Corporation, ignoring...\n",
      "Already exists for Disney, ignoring...\n",
      "Already exists for Dolby, ignoring...\n",
      "Already exists for Dropbox Inc, ignoring...\n",
      "Already exists for DuPont, ignoring...\n",
      "Already exists for E.S.I. SOFTWARE LTD, ignoring...\n",
      "Already exists for EMC Corporation, ignoring...\n",
      "Already exists for Eaton Corporation, ignoring...\n",
      "Already exists for Elbit Systems Ltd., ignoring...\n",
      "Already exists for Electronic Arts, ignoring...\n",
      "Already exists for Elekta AB, ignoring...\n",
      "Already exists for Elsevier, ignoring...\n",
      "Already exists for Emerson Process Management Power & Water Solutions, Inc., ignoring...\n",
      "Already exists for Enjoyor Company Limited, ignoring...\n",
      "Already exists for Entelos, Inc., ignoring...\n",
      "Already exists for Ericsson Sweden, ignoring...\n",
      "Already exists for Experian, ignoring...\n",
      "Already exists for Express Scripts Holding, ignoring...\n",
      "Already exists for FSI International, Inc., ignoring...\n",
      "Already exists for FUJIFILM Corporation, ignoring...\n",
      "Already exists for Fair Isaac Corporation, ignoring...\n",
      "Already exists for Fanuc Ltd, ignoring...\n",
      "Already exists for FireEye Inc, ignoring...\n",
      "Already exists for Flextronics AP LLC, ignoring...\n",
      "Already exists for Fluke Corporation, ignoring...\n",
      "Already exists for Ford Motor Company, ignoring...\n",
      "Already exists for Freescale Semiconductor, ignoring...\n",
      "Already exists for Fujitsu Ltd, ignoring...\n",
      "Already exists for Futurewei Tech, ignoring...\n",
      "Already exists for Gateway Inc, ignoring...\n",
      "Already exists for General Electric Company, ignoring...\n",
      "Already exists for General Motors, ignoring...\n",
      "Already exists for Global Foundries Inc, ignoring...\n",
      "Already exists for GoPro, Inc., ignoring...\n",
      "Already exists for Goldman Sachs & Co, ignoring...\n",
      "Already exists for GrammaTech, ignoring...\n",
      "Already exists for Gravity Research and Development Kft., ignoring...\n",
      "Already exists for Groupon, Inc., ignoring...\n",
      "Already exists for HERE Global BV, ignoring...\n",
      "Already exists for HRL Laboratories, ignoring...\n",
      "Already exists for HTC, ignoring...\n",
      "Already exists for Halliburton, ignoring...\n",
      "Already exists for Harman International Industries Incorporated, ignoring...\n",
      "Already exists for Hcl Technologies, ignoring...\n",
      "Already exists for HeartFlow Inc, ignoring...\n",
      "Already exists for Hewlett-Packard Inc., ignoring...\n",
      "Already exists for Hitachi Ltd, ignoring...\n",
      "Already exists for Honda R and D Co, ignoring...\n",
      "Already exists for Huawei, ignoring...\n",
      "Already exists for Hulu, ignoring...\n",
      "Already exists for Hyundai Motor Group, ignoring...\n",
      "Already exists for IBM, ignoring...\n",
      "Already exists for ICF INTERNATIONAL, ignoring...\n",
      "Already exists for IHS Markit Ltd, ignoring...\n",
      "Already exists for INFOTECH SOFT, INC., ignoring...\n",
      "Already exists for INTELLIGENT FUSION TECHNOLOGY INC, ignoring...\n",
      "Already exists for Icosystem Corporation, ignoring...\n",
      "Already exists for Illumina Inc, ignoring...\n",
      "Already exists for Infineon Technologies AG, ignoring...\n",
      "Already exists for Infinera Corporation, ignoring...\n",
      "Already exists for Infosys, ignoring...\n",
      "Already exists for Ingenuity Systems, Inc., ignoring...\n",
      "Already exists for Intel Corporation, ignoring...\n",
      "Already exists for Intelligent Automation Inc, ignoring...\n",
      "Already exists for Intertrust Technologies Corp., ignoring...\n",
      "Already exists for Intuit Inc, ignoring...\n",
      "Already exists for Invensense Inc, ignoring...\n",
      "Already exists for Israel Aerospace Industries Ltd, ignoring...\n",
      "Already exists for JPMorgan Chase Bank, ignoring...\n",
      "Already exists for Janssen-Cilag, ignoring...\n",
      "Already exists for Johnson & Johnson Pharmaceutical Research & Development Raritan, ignoring...\n",
      "Already exists for Johnson Controls, ignoring...\n",
      "Already exists for Juniper Networks Inc, ignoring...\n",
      "Already exists for Justsystem Corporation, ignoring...\n",
      "Already exists for KT Corporation, ignoring...\n",
      "Already exists for Kabushiki Kaisha Yaskawa Denki, ignoring...\n",
      "Already exists for Kakao Corp, ignoring...\n",
      "Already exists for Kansai Paint Co., Ltd., ignoring...\n",
      "Already exists for Kia Motors Corporation, ignoring...\n",
      "Already exists for Kimberly-Clark Worldwide Inc, ignoring...\n",
      "Already exists for Kitware, ignoring...\n",
      "Already exists for Kone Corporation, ignoring...\n",
      "Already exists for Kongsberg Maritime AS, ignoring...\n",
      "Already exists for L'Oreal, ignoring...\n",
      "Already exists for LENOVO, ignoring...\n",
      "Already exists for LG Chem Ltd, ignoring...\n",
      "Already exists for LG Electronics Korea, ignoring...\n",
      "Already exists for Lattec IS, ignoring...\n",
      "Already exists for Lego AS, ignoring...\n",
      "Already exists for Leidos Inc, ignoring...\n",
      "Already exists for Life Technologies Corporation, ignoring...\n",
      "Already exists for Lincom Corporation, ignoring...\n",
      "Already exists for LinkedIn, ignoring...\n",
      "Already exists for Livermore Software Technology Corp, ignoring...\n",
      "Already exists for Lockheed Martin Corporation, ignoring...\n",
      "Already exists for Logitech, ignoring...\n",
      "Already exists for Lowe's Companies, Inc., ignoring...\n",
      "Already exists for Lunit Inc, ignoring...\n",
      "Already exists for Lyft, ignoring...\n",
      "Already exists for Massachusetts Mutual Life Insurance Company, ignoring...\n",
      "Already exists for Materialise, ignoring...\n",
      "Already exists for MathWorks, ignoring...\n",
      "Already exists for Mazda Motor, ignoring...\n",
      "Already exists for McDonald's, ignoring...\n",
      "Already exists for McKinsey & Company, ignoring...\n",
      "Already exists for Mediatek Inc, ignoring...\n",
      "Already exists for Medtronic Inc, ignoring...\n",
      "Already exists for Merck, ignoring...\n",
      "Already exists for Micron, ignoring...\n",
      "Already exists for Microstrategy, Inc., ignoring...\n",
      "Already exists for Midea Group, ignoring...\n",
      "Already exists for Mitel Networks, ignoring...\n",
      "Already exists for Mitsubishi Electric Corporation, ignoring...\n",
      "Already exists for Morgan Stanley, ignoring...\n",
      "Already exists for Motorola, ignoring...\n",
      "Already exists for Mozilla, ignoring...\n",
      "Already exists for NCR Corporation, ignoring...\n",
      "Already exists for NEC Corporation, ignoring...\n",
      "Already exists for NETFLIX INC, ignoring...\n",
      "Already exists for NIKE, Inc., ignoring...\n",
      "Already exists for NUTONIAN, INC., ignoring...\n",
      "Already exists for NVIDIA, ignoring...\n",
      "Already exists for NXP Semiconductors, ignoring...\n",
      "Already exists for Narus, Inc., ignoring...\n",
      "Already exists for National Instruments Corporation, ignoring...\n",
      "Already exists for Natural Selection Inc, ignoring...\n",
      "Already exists for Naver Corporation, ignoring...\n",
      "Already exists for Nestor, Inc., ignoring...\n",
      "Already exists for NetApp, ignoring...\n",
      "Already exists for Nikon, ignoring...\n",
      "Already exists for Nippon Telegraph and Telephone Corporation, ignoring...\n",
      "Already exists for Nissan, ignoring...\n",
      "Already exists for Nokia Corporation, ignoring...\n",
      "Already exists for Nortel Networks, ignoring...\n",
      "Already exists for Northrop Grumman corporation, ignoring...\n",
      "Already exists for Novatek Microelectronics Corp, ignoring...\n",
      "Already exists for Novell, Inc., ignoring...\n",
      "Already exists for Novo Nordisk, ignoring...\n",
      "Already exists for NuTech Solutions GmbH, ignoring...\n",
      "Already exists for Nuance Communications, ignoring...\n",
      "Already exists for Numerica Corp, ignoring...\n",
      "Already exists for Nutanix Inc, ignoring...\n",
      "Already exists for OPTUM INC, ignoring...\n",
      "Already exists for Olympus Corporation, ignoring...\n",
      "Already exists for Omron Adept Technologies Inc, ignoring...\n",
      "Already exists for Open Text Corporation, ignoring...\n",
      "Already exists for OpenAI, ignoring...\n",
      "Already exists for Oracle, ignoring...\n",
      "Already exists for Osaro, ignoring...\n",
      "Already exists for PDF Solutions, Inc., ignoring...\n",
      "Already exists for PEARSON EDUCATION INC, ignoring...\n",
      "Already exists for PGS Geophysical AS, ignoring...\n",
      "Already exists for PREFERRED NETWORKS INC, ignoring...\n",
      "Already exists for PTC Inc, ignoring...\n",
      "Already exists for Palo Alto Networks, ignoring...\n",
      "Already exists for Panasonic Corporation, ignoring...\n",
      "Already exists for Pandora Media Inc, ignoring...\n",
      "Already exists for Pavilion Technologies, ignoring...\n",
      "Already exists for Pearson plc, ignoring...\n",
      "Already exists for Petroleum Geo-Services ASA, ignoring...\n",
      "Already exists for Pfizer, ignoring...\n",
      "Already exists for Philip Morris Products, ignoring...\n",
      "Already exists for Philips Research, ignoring...\n",
      "Already exists for Pinterest, ignoring...\n",
      "Already exists for Pitney Bowes Inc, ignoring...\n",
      "Already exists for Posco, ignoring...\n",
      "Already exists for ProMOS Technologies Inc., ignoring...\n",
      "Already exists for Procter & Gamble, ignoring...\n",
      "Already exists for Progressive, ignoring...\n",
      "Already exists for QinetiQ, ignoring...\n",
      "Already exists for Qualcomm Incorporated, ignoring...\n",
      "Already exists for Quanta Computer, ignoring...\n",
      "Already exists for REPSOL, ignoring...\n",
      "Already exists for Rakuten, ignoring...\n",
      "Already exists for Raytheon, ignoring...\n",
      "Already exists for Red Hat Inc, ignoring...\n",
      "Already exists for Renesas Electronics Corporation, ignoring...\n",
      "Already exists for Ricoh, ignoring...\n",
      "Already exists for Rigetti Computing, ignoring...\n",
      "Already exists for Robert Bosch GmbH, ignoring...\n",
      "Already exists for Rockwell Automation, ignoring...\n",
      "Already exists for Rohde & Schwarz GmbH, ignoring...\n",
      "Already exists for Rolls Royce, ignoring...\n",
      "Already exists for SAAB AB, ignoring...\n",
      "Already exists for SAIC, ignoring...\n",
      "Already exists for SAP AG, ignoring...\n",
      "Already exists for SAS Institute, ignoring...\n",
      "Already exists for SK Hynix Inc, ignoring...\n",
      "Already exists for SK Telecom Co, ignoring...\n",
      "Already exists for SOFTBANK ROBOTICS EUROPE, ignoring...\n",
      "Already exists for SPOTIFY AB, ignoring...\n",
      "Already exists for SPX Corporation, ignoring...\n",
      "Already exists for SRC Inc, ignoring...\n",
      "Already exists for SRI International, ignoring...\n",
      "Already exists for STMicroelectronics, ignoring...\n",
      "Already exists for Samsung Electronics, ignoring...\n",
      "Already exists for Sandia National Laboratories, New Mexico, ignoring...\n",
      "Already exists for Sanofi, ignoring...\n",
      "Already exists for Sarnoff Corporation, ignoring...\n",
      "Already exists for Schlumberger Limited, ignoring...\n",
      "Already exists for Schneider Electric Automation GmbH, ignoring...\n",
      "Already exists for Schneider Electric USA Inc, ignoring...\n",
      "Already exists for Seagate Technology USA, ignoring...\n",
      "Already exists for Sensetime, ignoring...\n",
      "Already exists for Sensis Corporation, ignoring...\n",
      "Already exists for Sensys Medical, Inc., ignoring...\n",
      "Already exists for Sharp Corporation, ignoring...\n",
      "Already exists for Shell Oil Company, ignoring...\n",
      "Already exists for Siemens AG, ignoring...\n",
      "Already exists for Sift LLC, ignoring...\n",
      "Already exists for Silicon Graphics Inc, ignoring...\n",
      "Already exists for Snap Inc, ignoring...\n",
      "Already exists for Sony Corporation, ignoring...\n",
      "Already exists for Splunk Inc, ignoring...\n",
      "Already exists for Sprint Corporation, ignoring...\n",
      "Already exists for Stryker Corporation, ignoring...\n",
      "Already exists for Sun Microsystems, ignoring...\n",
      "Already exists for Swisscom AG, ignoring...\n",
      "Already exists for Sybase Incorporated, ignoring...\n",
      "Already exists for Symantec, ignoring...\n",
      "Already exists for Synopsys Incorporated, ignoring...\n",
      "Already exists for TOTAL SA, ignoring...\n",
      "Already exists for TURBOMECA, ignoring...\n",
      "Already exists for Tata Consultancy Services India, ignoring...\n",
      "Already exists for Technicolor, ignoring...\n",
      "Already exists for Telefonica SA, ignoring...\n",
      "Already exists for Tencent, ignoring...\n",
      "Already exists for Teradata US Inc, ignoring...\n",
      "Already exists for Teradyne Inc, ignoring...\n",
      "Already exists for Tesla, ignoring...\n",
      "Already exists for Texas Instruments, ignoring...\n",
      "Already exists for Thales Group, ignoring...\n",
      "Already exists for The Boston Consulting Group Inc, ignoring...\n",
      "Already exists for The Boston Consulting Group, Inc., ignoring...\n",
      "Already exists for The Nielsen Company (US) LLC, ignoring...\n",
      "Already exists for Thermo Fisher Scientific, ignoring...\n",
      "Already exists for Thomson Reuters, ignoring...\n",
      "Already exists for Toshiba Corporation, ignoring...\n",
      "Already exists for Toyota Motor Corporation, ignoring...\n",
      "Already exists for Trend Micro Incorporated, ignoring...\n",
      "Already exists for Trilogy Development Group, Inc., ignoring...\n",
      "Already exists for Trimble Navigation Limited, ignoring...\n",
      "Already exists for Twitter, ignoring...\n",
      "Already exists for UBS AG, ignoring...\n",
      "Already exists for UOP LLC, ignoring...\n",
      "Already exists for Uber, ignoring...\n",
      "Already exists for Unisys Corporation, ignoring...\n",
      "Already exists for VECNA TECHNOLOGIES INC, ignoring...\n",
      "Already exists for VERISIGN, INC., ignoring...\n",
      "Already exists for Varian Medical Systems Inc, ignoring...\n",
      "Already exists for Verily Life Sciences LLC, ignoring...\n",
      "Already exists for Verity, Inc., ignoring...\n",
      "Already exists for Verizon Communications, ignoring...\n",
      "Already exists for Vermillion Inc, ignoring...\n",
      "Already exists for ViaSat Inc, ignoring...\n",
      "Already exists for Vodafone, ignoring...\n",
      "Already exists for Volkswagen, ignoring...\n",
      "Already exists for Volvo, ignoring...\n",
      "Already exists for Vulcan Inc, ignoring...\n",
      "Already exists for WSI Corporation, ignoring...\n",
      "Already exists for Walmart, ignoring...\n",
      "Already exists for Waymo LLC, ignoring...\n",
      "Already exists for Wells Fargo, ignoring...\n",
      "Already exists for Western Digital Technologies Inc, ignoring...\n",
      "Already exists for Whirlpool, ignoring...\n",
      "Already exists for Winbond Electronics Corp., ignoring...\n",
      "Already exists for Wipro Limited, ignoring...\n",
      "Already exists for Wistron Corporation, ignoring...\n",
      "Already exists for Wolfram Research Inc, ignoring...\n",
      "Already exists for Xerox Corporation, ignoring...\n",
      "Already exists for Xilinx Inc, ignoring...\n",
      "Already exists for YANDEX EUROPE AG, ignoring...\n",
      "Already exists for Yahoo Inc, ignoring...\n",
      "Already exists for Yamaha Corporation, ignoring...\n",
      "Already exists for Yokogawa Electric Corporation, ignoring...\n",
      "Already exists for Zoox, ignoring...\n",
      "Already exists for Zte, ignoring...\n",
      "Already exists for eBay, ignoring...\n",
      "Already exists for google, ignoring...\n",
      "Already exists for hsbc, ignoring...\n",
      "Already exists for iRobot Corporation, ignoring...\n",
      "Already exists for marvell semiconductor, ignoring...\n",
      "Already exists for mellanox technologies israel, ignoring...\n",
      "Already exists for osram corporate, ignoring...\n",
      "Already exists for pricewaterhousecoopers, ignoring...\n",
      "Already exists for profactor gmbh, ignoring...\n",
      "Already exists for realtek semiconductor, ignoring...\n",
      "Already exists for salesforce.com, inc., ignoring...\n",
      "Already exists for sogou inc, ignoring...\n",
      "Already exists for tomtom, ignoring...\n",
      "Already exists for ubitech ltd, ignoring...\n",
      "Already exists for vermillion inc, ignoring...\n",
      "Already exists for Deloitte, ignoring...\n",
      "Already exists for Facebook, ignoring...\n",
      "Processing for  Microsoft\n"
     ]
    },
    {
     "name": "stderr",
     "output_type": "stream",
     "text": [
      "  0%|                                                                                                                                               | 0/186 [00:00<?, ?it/s]"
     ]
    },
    {
     "name": "stdout",
     "output_type": "stream",
     "text": [
      "Page: 0/186\n"
     ]
    },
    {
     "name": "stderr",
     "output_type": "stream",
     "text": [
      "  1%|▋                                                                                                                                      | 1/186 [00:00<02:53,  1.07it/s]"
     ]
    },
    {
     "name": "stdout",
     "output_type": "stream",
     "text": [
      "Page: 1/186\n"
     ]
    },
    {
     "name": "stderr",
     "output_type": "stream",
     "text": [
      "  1%|█▍                                                                                                                                     | 2/186 [00:01<02:36,  1.17it/s]"
     ]
    },
    {
     "name": "stdout",
     "output_type": "stream",
     "text": [
      "Page: 2/186\n"
     ]
    },
    {
     "name": "stderr",
     "output_type": "stream",
     "text": [
      "  2%|██▏                                                                                                                                    | 3/186 [00:02<02:29,  1.22it/s]"
     ]
    },
    {
     "name": "stdout",
     "output_type": "stream",
     "text": [
      "Page: 3/186\n"
     ]
    },
    {
     "name": "stderr",
     "output_type": "stream",
     "text": [
      "  2%|██▉                                                                                                                                    | 4/186 [00:03<02:22,  1.28it/s]"
     ]
    },
    {
     "name": "stdout",
     "output_type": "stream",
     "text": [
      "Page: 4/186\n"
     ]
    },
    {
     "name": "stderr",
     "output_type": "stream",
     "text": [
      "  3%|███▋                                                                                                                                   | 5/186 [00:07<05:54,  1.96s/it]"
     ]
    },
    {
     "name": "stdout",
     "output_type": "stream",
     "text": [
      "Page: 5/186\n"
     ]
    },
    {
     "name": "stderr",
     "output_type": "stream",
     "text": [
      "  3%|████▎                                                                                                                                  | 6/186 [00:08<04:42,  1.57s/it]"
     ]
    },
    {
     "name": "stdout",
     "output_type": "stream",
     "text": [
      "Page: 6/186\n"
     ]
    },
    {
     "name": "stderr",
     "output_type": "stream",
     "text": [
      "  4%|█████                                                                                                                                  | 7/186 [00:08<03:54,  1.31s/it]"
     ]
    },
    {
     "name": "stdout",
     "output_type": "stream",
     "text": [
      "Page: 7/186\n"
     ]
    },
    {
     "name": "stderr",
     "output_type": "stream",
     "text": [
      "  4%|█████▊                                                                                                                                 | 8/186 [00:09<03:20,  1.13s/it]"
     ]
    },
    {
     "name": "stdout",
     "output_type": "stream",
     "text": [
      "Page: 8/186\n"
     ]
    },
    {
     "name": "stderr",
     "output_type": "stream",
     "text": [
      "  5%|██████▌                                                                                                                                | 9/186 [00:10<02:56,  1.00it/s]"
     ]
    },
    {
     "name": "stdout",
     "output_type": "stream",
     "text": [
      "Page: 9/186\n"
     ]
    },
    {
     "name": "stderr",
     "output_type": "stream",
     "text": [
      "  5%|███████▏                                                                                                                              | 10/186 [00:11<02:41,  1.09it/s]"
     ]
    },
    {
     "name": "stdout",
     "output_type": "stream",
     "text": [
      "Page: 10/186\n"
     ]
    },
    {
     "name": "stderr",
     "output_type": "stream",
     "text": [
      "  6%|███████▉                                                                                                                              | 11/186 [00:11<02:33,  1.14it/s]"
     ]
    },
    {
     "name": "stdout",
     "output_type": "stream",
     "text": [
      "Page: 11/186\n"
     ]
    },
    {
     "name": "stderr",
     "output_type": "stream",
     "text": [
      "  6%|████████▋                                                                                                                             | 12/186 [00:12<02:26,  1.19it/s]"
     ]
    },
    {
     "name": "stdout",
     "output_type": "stream",
     "text": [
      "Page: 12/186\n"
     ]
    },
    {
     "name": "stderr",
     "output_type": "stream",
     "text": [
      "  7%|█████████▎                                                                                                                            | 13/186 [00:13<02:18,  1.25it/s]"
     ]
    },
    {
     "name": "stdout",
     "output_type": "stream",
     "text": [
      "Page: 13/186\n"
     ]
    },
    {
     "name": "stderr",
     "output_type": "stream",
     "text": [
      "  8%|██████████                                                                                                                            | 14/186 [00:14<02:13,  1.28it/s]"
     ]
    },
    {
     "name": "stdout",
     "output_type": "stream",
     "text": [
      "Page: 14/186\n"
     ]
    },
    {
     "name": "stderr",
     "output_type": "stream",
     "text": [
      "  8%|██████████▊                                                                                                                           | 15/186 [00:14<02:13,  1.28it/s]"
     ]
    },
    {
     "name": "stdout",
     "output_type": "stream",
     "text": [
      "Page: 15/186\n"
     ]
    },
    {
     "name": "stderr",
     "output_type": "stream",
     "text": [
      "  9%|███████████▌                                                                                                                          | 16/186 [00:15<02:12,  1.28it/s]"
     ]
    },
    {
     "name": "stdout",
     "output_type": "stream",
     "text": [
      "Page: 16/186\n"
     ]
    },
    {
     "name": "stderr",
     "output_type": "stream",
     "text": [
      "  9%|████████████▏                                                                                                                         | 17/186 [00:16<02:15,  1.25it/s]"
     ]
    },
    {
     "name": "stdout",
     "output_type": "stream",
     "text": [
      "Page: 17/186\n"
     ]
    },
    {
     "name": "stderr",
     "output_type": "stream",
     "text": [
      " 10%|████████████▉                                                                                                                         | 18/186 [00:17<02:12,  1.27it/s]"
     ]
    },
    {
     "name": "stdout",
     "output_type": "stream",
     "text": [
      "Page: 18/186\n"
     ]
    },
    {
     "name": "stderr",
     "output_type": "stream",
     "text": [
      " 10%|█████████████▋                                                                                                                        | 19/186 [00:18<02:12,  1.26it/s]"
     ]
    },
    {
     "name": "stdout",
     "output_type": "stream",
     "text": [
      "Page: 19/186\n"
     ]
    },
    {
     "name": "stderr",
     "output_type": "stream",
     "text": [
      " 11%|██████████████▍                                                                                                                       | 20/186 [00:18<02:07,  1.30it/s]"
     ]
    },
    {
     "name": "stdout",
     "output_type": "stream",
     "text": [
      "Page: 20/186\n"
     ]
    },
    {
     "name": "stderr",
     "output_type": "stream",
     "text": [
      " 11%|███████████████▏                                                                                                                      | 21/186 [00:19<02:08,  1.29it/s]"
     ]
    },
    {
     "name": "stdout",
     "output_type": "stream",
     "text": [
      "Page: 21/186\n"
     ]
    },
    {
     "name": "stderr",
     "output_type": "stream",
     "text": [
      " 12%|███████████████▊                                                                                                                      | 22/186 [00:20<02:05,  1.31it/s]"
     ]
    },
    {
     "name": "stdout",
     "output_type": "stream",
     "text": [
      "Page: 22/186\n"
     ]
    },
    {
     "name": "stderr",
     "output_type": "stream",
     "text": [
      " 12%|████████████████▌                                                                                                                     | 23/186 [00:21<02:07,  1.28it/s]"
     ]
    },
    {
     "name": "stdout",
     "output_type": "stream",
     "text": [
      "Page: 23/186\n"
     ]
    },
    {
     "name": "stderr",
     "output_type": "stream",
     "text": [
      " 13%|█████████████████▎                                                                                                                    | 24/186 [00:21<02:07,  1.27it/s]"
     ]
    },
    {
     "name": "stdout",
     "output_type": "stream",
     "text": [
      "Page: 24/186\n"
     ]
    },
    {
     "name": "stderr",
     "output_type": "stream",
     "text": [
      " 13%|██████████████████                                                                                                                    | 25/186 [00:22<02:03,  1.30it/s]"
     ]
    },
    {
     "name": "stdout",
     "output_type": "stream",
     "text": [
      "Page: 25/186\n"
     ]
    },
    {
     "name": "stderr",
     "output_type": "stream",
     "text": [
      " 14%|██████████████████▋                                                                                                                   | 26/186 [00:23<02:01,  1.31it/s]"
     ]
    },
    {
     "name": "stdout",
     "output_type": "stream",
     "text": [
      "Page: 26/186\n"
     ]
    },
    {
     "name": "stderr",
     "output_type": "stream",
     "text": [
      " 15%|███████████████████▍                                                                                                                  | 27/186 [00:24<02:09,  1.23it/s]"
     ]
    },
    {
     "name": "stdout",
     "output_type": "stream",
     "text": [
      "Page: 27/186\n"
     ]
    },
    {
     "name": "stderr",
     "output_type": "stream",
     "text": [
      " 15%|████████████████████▏                                                                                                                 | 28/186 [00:25<02:09,  1.22it/s]"
     ]
    },
    {
     "name": "stdout",
     "output_type": "stream",
     "text": [
      "Page: 28/186\n"
     ]
    },
    {
     "name": "stderr",
     "output_type": "stream",
     "text": [
      " 16%|████████████████████▉                                                                                                                 | 29/186 [00:25<02:06,  1.25it/s]"
     ]
    },
    {
     "name": "stdout",
     "output_type": "stream",
     "text": [
      "Page: 29/186\n"
     ]
    },
    {
     "name": "stderr",
     "output_type": "stream",
     "text": [
      " 16%|█████████████████████▌                                                                                                                | 30/186 [00:26<02:05,  1.24it/s]"
     ]
    },
    {
     "name": "stdout",
     "output_type": "stream",
     "text": [
      "Page: 30/186\n"
     ]
    },
    {
     "name": "stderr",
     "output_type": "stream",
     "text": [
      " 17%|██████████████████████▎                                                                                                               | 31/186 [00:27<02:00,  1.28it/s]"
     ]
    },
    {
     "name": "stdout",
     "output_type": "stream",
     "text": [
      "Page: 31/186\n"
     ]
    },
    {
     "name": "stderr",
     "output_type": "stream",
     "text": [
      " 17%|███████████████████████                                                                                                               | 32/186 [00:28<01:56,  1.32it/s]"
     ]
    },
    {
     "name": "stdout",
     "output_type": "stream",
     "text": [
      "Page: 32/186\n"
     ]
    },
    {
     "name": "stderr",
     "output_type": "stream",
     "text": [
      " 18%|███████████████████████▊                                                                                                              | 33/186 [00:28<01:55,  1.33it/s]"
     ]
    },
    {
     "name": "stdout",
     "output_type": "stream",
     "text": [
      "Page: 33/186\n"
     ]
    },
    {
     "name": "stderr",
     "output_type": "stream",
     "text": [
      " 18%|████████████████████████▍                                                                                                             | 34/186 [00:29<01:57,  1.30it/s]"
     ]
    },
    {
     "name": "stdout",
     "output_type": "stream",
     "text": [
      "Page: 34/186\n"
     ]
    },
    {
     "name": "stderr",
     "output_type": "stream",
     "text": [
      " 19%|█████████████████████████▏                                                                                                            | 35/186 [00:30<01:57,  1.29it/s]"
     ]
    },
    {
     "name": "stdout",
     "output_type": "stream",
     "text": [
      "Page: 35/186\n"
     ]
    },
    {
     "name": "stderr",
     "output_type": "stream",
     "text": [
      " 19%|█████████████████████████▉                                                                                                            | 36/186 [00:31<01:56,  1.29it/s]"
     ]
    },
    {
     "name": "stdout",
     "output_type": "stream",
     "text": [
      "Page: 36/186\n"
     ]
    },
    {
     "name": "stderr",
     "output_type": "stream",
     "text": [
      " 20%|██████████████████████████▋                                                                                                           | 37/186 [00:32<01:58,  1.26it/s]"
     ]
    },
    {
     "name": "stdout",
     "output_type": "stream",
     "text": [
      "Page: 37/186\n"
     ]
    },
    {
     "name": "stderr",
     "output_type": "stream",
     "text": [
      " 20%|███████████████████████████▍                                                                                                          | 38/186 [00:32<01:58,  1.25it/s]"
     ]
    },
    {
     "name": "stdout",
     "output_type": "stream",
     "text": [
      "Page: 38/186\n"
     ]
    },
    {
     "name": "stderr",
     "output_type": "stream",
     "text": [
      " 21%|████████████████████████████                                                                                                          | 39/186 [00:33<02:03,  1.19it/s]"
     ]
    },
    {
     "name": "stdout",
     "output_type": "stream",
     "text": [
      "Page: 39/186\n"
     ]
    },
    {
     "name": "stderr",
     "output_type": "stream",
     "text": [
      " 22%|████████████████████████████▊                                                                                                         | 40/186 [00:36<03:09,  1.30s/it]"
     ]
    },
    {
     "name": "stdout",
     "output_type": "stream",
     "text": [
      "Page: 40/186\n"
     ]
    },
    {
     "name": "stderr",
     "output_type": "stream",
     "text": [
      " 22%|█████████████████████████████▌                                                                                                        | 41/186 [00:36<02:41,  1.12s/it]"
     ]
    },
    {
     "name": "stdout",
     "output_type": "stream",
     "text": [
      "Page: 41/186\n"
     ]
    },
    {
     "name": "stderr",
     "output_type": "stream",
     "text": [
      " 23%|██████████████████████████████▎                                                                                                       | 42/186 [00:37<02:26,  1.02s/it]"
     ]
    },
    {
     "name": "stdout",
     "output_type": "stream",
     "text": [
      "Page: 42/186\n"
     ]
    },
    {
     "name": "stderr",
     "output_type": "stream",
     "text": [
      " 23%|██████████████████████████████▉                                                                                                       | 43/186 [00:38<02:20,  1.01it/s]"
     ]
    },
    {
     "name": "stdout",
     "output_type": "stream",
     "text": [
      "Page: 43/186\n"
     ]
    },
    {
     "name": "stderr",
     "output_type": "stream",
     "text": [
      " 24%|███████████████████████████████▋                                                                                                      | 44/186 [00:39<02:18,  1.03it/s]"
     ]
    },
    {
     "name": "stdout",
     "output_type": "stream",
     "text": [
      "Page: 44/186\n"
     ]
    },
    {
     "name": "stderr",
     "output_type": "stream",
     "text": [
      " 24%|████████████████████████████████▍                                                                                                     | 45/186 [00:40<02:12,  1.07it/s]"
     ]
    },
    {
     "name": "stdout",
     "output_type": "stream",
     "text": [
      "Page: 45/186\n"
     ]
    },
    {
     "name": "stderr",
     "output_type": "stream",
     "text": [
      " 25%|█████████████████████████████████▏                                                                                                    | 46/186 [00:41<02:04,  1.13it/s]"
     ]
    },
    {
     "name": "stdout",
     "output_type": "stream",
     "text": [
      "Page: 46/186\n"
     ]
    },
    {
     "name": "stderr",
     "output_type": "stream",
     "text": [
      " 25%|█████████████████████████████████▊                                                                                                    | 47/186 [00:41<02:00,  1.16it/s]"
     ]
    },
    {
     "name": "stdout",
     "output_type": "stream",
     "text": [
      "Page: 47/186\n"
     ]
    },
    {
     "name": "stderr",
     "output_type": "stream",
     "text": [
      " 26%|██████████████████████████████████▌                                                                                                   | 48/186 [00:42<01:58,  1.16it/s]"
     ]
    },
    {
     "name": "stdout",
     "output_type": "stream",
     "text": [
      "Page: 48/186\n"
     ]
    },
    {
     "name": "stderr",
     "output_type": "stream",
     "text": [
      " 26%|███████████████████████████████████▎                                                                                                  | 49/186 [00:43<01:55,  1.19it/s]"
     ]
    },
    {
     "name": "stdout",
     "output_type": "stream",
     "text": [
      "Page: 49/186\n"
     ]
    },
    {
     "name": "stderr",
     "output_type": "stream",
     "text": [
      " 27%|████████████████████████████████████                                                                                                  | 50/186 [00:44<01:49,  1.25it/s]"
     ]
    },
    {
     "name": "stdout",
     "output_type": "stream",
     "text": [
      "Page: 50/186\n"
     ]
    },
    {
     "name": "stderr",
     "output_type": "stream",
     "text": [
      " 27%|████████████████████████████████████▋                                                                                                 | 51/186 [00:45<01:47,  1.25it/s]"
     ]
    },
    {
     "name": "stdout",
     "output_type": "stream",
     "text": [
      "Page: 51/186\n"
     ]
    },
    {
     "name": "stderr",
     "output_type": "stream",
     "text": [
      " 28%|█████████████████████████████████████▍                                                                                                | 52/186 [00:45<01:42,  1.31it/s]"
     ]
    },
    {
     "name": "stdout",
     "output_type": "stream",
     "text": [
      "Page: 52/186\n"
     ]
    },
    {
     "name": "stderr",
     "output_type": "stream",
     "text": [
      " 28%|██████████████████████████████████████▏                                                                                               | 53/186 [00:46<01:42,  1.29it/s]"
     ]
    },
    {
     "name": "stdout",
     "output_type": "stream",
     "text": [
      "Page: 53/186\n"
     ]
    },
    {
     "name": "stderr",
     "output_type": "stream",
     "text": [
      " 29%|██████████████████████████████████████▉                                                                                               | 54/186 [00:47<01:45,  1.25it/s]"
     ]
    },
    {
     "name": "stdout",
     "output_type": "stream",
     "text": [
      "Page: 54/186\n"
     ]
    },
    {
     "name": "stderr",
     "output_type": "stream",
     "text": [
      " 30%|███████████████████████████████████████▌                                                                                              | 55/186 [00:48<01:52,  1.16it/s]"
     ]
    },
    {
     "name": "stdout",
     "output_type": "stream",
     "text": [
      "Page: 55/186\n"
     ]
    },
    {
     "name": "stderr",
     "output_type": "stream",
     "text": [
      " 30%|████████████████████████████████████████▎                                                                                             | 56/186 [00:49<01:56,  1.11it/s]"
     ]
    },
    {
     "name": "stdout",
     "output_type": "stream",
     "text": [
      "Page: 56/186\n"
     ]
    },
    {
     "name": "stderr",
     "output_type": "stream",
     "text": [
      " 31%|█████████████████████████████████████████                                                                                             | 57/186 [00:50<01:48,  1.18it/s]"
     ]
    },
    {
     "name": "stdout",
     "output_type": "stream",
     "text": [
      "Page: 57/186\n"
     ]
    },
    {
     "name": "stderr",
     "output_type": "stream",
     "text": [
      " 31%|█████████████████████████████████████████▊                                                                                            | 58/186 [00:50<01:46,  1.20it/s]"
     ]
    },
    {
     "name": "stdout",
     "output_type": "stream",
     "text": [
      "Page: 58/186\n"
     ]
    },
    {
     "name": "stderr",
     "output_type": "stream",
     "text": [
      " 32%|██████████████████████████████████████████▌                                                                                           | 59/186 [00:51<01:41,  1.25it/s]"
     ]
    },
    {
     "name": "stdout",
     "output_type": "stream",
     "text": [
      "Page: 59/186\n"
     ]
    },
    {
     "name": "stderr",
     "output_type": "stream",
     "text": [
      " 32%|███████████████████████████████████████████▏                                                                                          | 60/186 [00:52<01:41,  1.24it/s]"
     ]
    },
    {
     "name": "stdout",
     "output_type": "stream",
     "text": [
      "Page: 60/186\n"
     ]
    },
    {
     "name": "stderr",
     "output_type": "stream",
     "text": [
      " 33%|███████████████████████████████████████████▉                                                                                          | 61/186 [00:53<01:41,  1.24it/s]"
     ]
    },
    {
     "name": "stdout",
     "output_type": "stream",
     "text": [
      "Page: 61/186\n"
     ]
    },
    {
     "name": "stderr",
     "output_type": "stream",
     "text": [
      " 33%|████████████████████████████████████████████▋                                                                                         | 62/186 [00:54<01:40,  1.24it/s]"
     ]
    },
    {
     "name": "stdout",
     "output_type": "stream",
     "text": [
      "Page: 62/186\n"
     ]
    },
    {
     "name": "stderr",
     "output_type": "stream",
     "text": [
      " 34%|█████████████████████████████████████████████▍                                                                                        | 63/186 [00:55<01:45,  1.16it/s]"
     ]
    },
    {
     "name": "stdout",
     "output_type": "stream",
     "text": [
      "Page: 63/186\n"
     ]
    },
    {
     "name": "stderr",
     "output_type": "stream",
     "text": [
      " 34%|██████████████████████████████████████████████                                                                                        | 64/186 [00:55<01:44,  1.17it/s]"
     ]
    },
    {
     "name": "stdout",
     "output_type": "stream",
     "text": [
      "Page: 64/186\n"
     ]
    },
    {
     "name": "stderr",
     "output_type": "stream",
     "text": [
      " 35%|██████████████████████████████████████████████▊                                                                                       | 65/186 [00:56<01:44,  1.16it/s]"
     ]
    },
    {
     "name": "stdout",
     "output_type": "stream",
     "text": [
      "Page: 65/186\n"
     ]
    },
    {
     "name": "stderr",
     "output_type": "stream",
     "text": [
      " 35%|███████████████████████████████████████████████▌                                                                                      | 66/186 [00:57<01:45,  1.14it/s]"
     ]
    },
    {
     "name": "stdout",
     "output_type": "stream",
     "text": [
      "Page: 66/186\n"
     ]
    },
    {
     "name": "stderr",
     "output_type": "stream",
     "text": [
      " 36%|████████████████████████████████████████████████▎                                                                                     | 67/186 [00:58<01:42,  1.16it/s]"
     ]
    },
    {
     "name": "stdout",
     "output_type": "stream",
     "text": [
      "Page: 67/186\n"
     ]
    },
    {
     "name": "stderr",
     "output_type": "stream",
     "text": [
      " 37%|████████████████████████████████████████████████▉                                                                                     | 68/186 [00:59<01:40,  1.18it/s]"
     ]
    },
    {
     "name": "stdout",
     "output_type": "stream",
     "text": [
      "Page: 68/186\n"
     ]
    },
    {
     "name": "stderr",
     "output_type": "stream",
     "text": [
      " 37%|█████████████████████████████████████████████████▋                                                                                    | 69/186 [01:00<01:37,  1.20it/s]"
     ]
    },
    {
     "name": "stdout",
     "output_type": "stream",
     "text": [
      "Page: 69/186\n"
     ]
    },
    {
     "name": "stderr",
     "output_type": "stream",
     "text": [
      " 38%|██████████████████████████████████████████████████▍                                                                                   | 70/186 [01:00<01:35,  1.21it/s]"
     ]
    },
    {
     "name": "stdout",
     "output_type": "stream",
     "text": [
      "Page: 70/186\n"
     ]
    },
    {
     "name": "stderr",
     "output_type": "stream",
     "text": [
      " 38%|███████████████████████████████████████████████████▏                                                                                  | 71/186 [01:01<01:34,  1.21it/s]"
     ]
    },
    {
     "name": "stdout",
     "output_type": "stream",
     "text": [
      "Page: 71/186\n"
     ]
    },
    {
     "name": "stderr",
     "output_type": "stream",
     "text": [
      " 39%|███████████████████████████████████████████████████▊                                                                                  | 72/186 [01:02<01:37,  1.17it/s]"
     ]
    },
    {
     "name": "stdout",
     "output_type": "stream",
     "text": [
      "Page: 72/186\n"
     ]
    },
    {
     "name": "stderr",
     "output_type": "stream",
     "text": [
      " 39%|████████████████████████████████████████████████████▌                                                                                 | 73/186 [01:03<01:35,  1.19it/s]"
     ]
    },
    {
     "name": "stdout",
     "output_type": "stream",
     "text": [
      "Page: 73/186\n"
     ]
    },
    {
     "name": "stderr",
     "output_type": "stream",
     "text": [
      " 40%|█████████████████████████████████████████████████████▎                                                                                | 74/186 [01:04<01:33,  1.20it/s]"
     ]
    },
    {
     "name": "stdout",
     "output_type": "stream",
     "text": [
      "Page: 74/186\n"
     ]
    },
    {
     "name": "stderr",
     "output_type": "stream",
     "text": [
      " 40%|██████████████████████████████████████████████████████                                                                                | 75/186 [01:05<01:36,  1.15it/s]"
     ]
    },
    {
     "name": "stdout",
     "output_type": "stream",
     "text": [
      "Page: 75/186\n"
     ]
    },
    {
     "name": "stderr",
     "output_type": "stream",
     "text": [
      " 41%|██████████████████████████████████████████████████████▊                                                                               | 76/186 [01:06<01:35,  1.16it/s]"
     ]
    },
    {
     "name": "stdout",
     "output_type": "stream",
     "text": [
      "Page: 76/186\n"
     ]
    },
    {
     "name": "stderr",
     "output_type": "stream",
     "text": [
      " 41%|███████████████████████████████████████████████████████▍                                                                              | 77/186 [01:06<01:31,  1.19it/s]"
     ]
    },
    {
     "name": "stdout",
     "output_type": "stream",
     "text": [
      "Page: 77/186\n"
     ]
    },
    {
     "name": "stderr",
     "output_type": "stream",
     "text": [
      " 42%|████████████████████████████████████████████████████████▏                                                                             | 78/186 [01:07<01:29,  1.21it/s]"
     ]
    },
    {
     "name": "stdout",
     "output_type": "stream",
     "text": [
      "Page: 78/186\n"
     ]
    },
    {
     "name": "stderr",
     "output_type": "stream",
     "text": [
      " 42%|████████████████████████████████████████████████████████▉                                                                             | 79/186 [01:08<01:28,  1.20it/s]"
     ]
    },
    {
     "name": "stdout",
     "output_type": "stream",
     "text": [
      "Page: 79/186\n"
     ]
    },
    {
     "name": "stderr",
     "output_type": "stream",
     "text": [
      " 43%|█████████████████████████████████████████████████████████▋                                                                            | 80/186 [01:09<01:28,  1.20it/s]"
     ]
    },
    {
     "name": "stdout",
     "output_type": "stream",
     "text": [
      "Page: 80/186\n"
     ]
    },
    {
     "name": "stderr",
     "output_type": "stream",
     "text": [
      " 44%|██████████████████████████████████████████████████████████▎                                                                           | 81/186 [01:10<01:34,  1.11it/s]"
     ]
    },
    {
     "name": "stdout",
     "output_type": "stream",
     "text": [
      "Page: 81/186\n"
     ]
    },
    {
     "name": "stderr",
     "output_type": "stream",
     "text": [
      " 44%|███████████████████████████████████████████████████████████                                                                           | 82/186 [01:11<01:31,  1.14it/s]"
     ]
    },
    {
     "name": "stdout",
     "output_type": "stream",
     "text": [
      "Page: 82/186\n"
     ]
    },
    {
     "name": "stderr",
     "output_type": "stream",
     "text": [
      " 45%|███████████████████████████████████████████████████████████▊                                                                          | 83/186 [01:12<01:25,  1.20it/s]"
     ]
    },
    {
     "name": "stdout",
     "output_type": "stream",
     "text": [
      "Page: 83/186\n"
     ]
    },
    {
     "name": "stderr",
     "output_type": "stream",
     "text": [
      " 45%|████████████████████████████████████████████████████████████▌                                                                         | 84/186 [01:14<02:05,  1.23s/it]"
     ]
    },
    {
     "name": "stdout",
     "output_type": "stream",
     "text": [
      "Page: 84/186\n"
     ]
    },
    {
     "name": "stderr",
     "output_type": "stream",
     "text": [
      " 46%|█████████████████████████████████████████████████████████████▏                                                                        | 85/186 [01:15<01:52,  1.11s/it]"
     ]
    },
    {
     "name": "stdout",
     "output_type": "stream",
     "text": [
      "Page: 85/186\n"
     ]
    },
    {
     "name": "stderr",
     "output_type": "stream",
     "text": [
      " 46%|█████████████████████████████████████████████████████████████▉                                                                        | 86/186 [01:15<01:40,  1.01s/it]"
     ]
    },
    {
     "name": "stdout",
     "output_type": "stream",
     "text": [
      "Page: 86/186\n"
     ]
    },
    {
     "name": "stderr",
     "output_type": "stream",
     "text": [
      " 47%|██████████████████████████████████████████████████████████████▋                                                                       | 87/186 [01:16<01:33,  1.06it/s]"
     ]
    },
    {
     "name": "stdout",
     "output_type": "stream",
     "text": [
      "Page: 87/186\n"
     ]
    },
    {
     "name": "stderr",
     "output_type": "stream",
     "text": [
      " 47%|███████████████████████████████████████████████████████████████▍                                                                      | 88/186 [01:17<01:27,  1.12it/s]"
     ]
    },
    {
     "name": "stdout",
     "output_type": "stream",
     "text": [
      "Page: 88/186\n"
     ]
    },
    {
     "name": "stderr",
     "output_type": "stream",
     "text": [
      " 48%|████████████████████████████████████████████████████████████████                                                                      | 89/186 [01:18<01:23,  1.17it/s]"
     ]
    },
    {
     "name": "stdout",
     "output_type": "stream",
     "text": [
      "Page: 89/186\n"
     ]
    },
    {
     "name": "stderr",
     "output_type": "stream",
     "text": [
      " 48%|████████████████████████████████████████████████████████████████▊                                                                     | 90/186 [01:18<01:20,  1.20it/s]"
     ]
    },
    {
     "name": "stdout",
     "output_type": "stream",
     "text": [
      "Page: 90/186\n"
     ]
    },
    {
     "name": "stderr",
     "output_type": "stream",
     "text": [
      " 49%|█████████████████████████████████████████████████████████████████▌                                                                    | 91/186 [01:19<01:16,  1.24it/s]"
     ]
    },
    {
     "name": "stdout",
     "output_type": "stream",
     "text": [
      "Page: 91/186\n"
     ]
    },
    {
     "name": "stderr",
     "output_type": "stream",
     "text": [
      " 49%|██████████████████████████████████████████████████████████████████▎                                                                   | 92/186 [01:20<01:14,  1.26it/s]"
     ]
    },
    {
     "name": "stdout",
     "output_type": "stream",
     "text": [
      "Page: 92/186\n"
     ]
    },
    {
     "name": "stderr",
     "output_type": "stream",
     "text": [
      " 50%|███████████████████████████████████████████████████████████████████                                                                   | 93/186 [01:21<01:13,  1.27it/s]"
     ]
    },
    {
     "name": "stdout",
     "output_type": "stream",
     "text": [
      "Page: 93/186\n"
     ]
    },
    {
     "name": "stderr",
     "output_type": "stream",
     "text": [
      " 51%|███████████████████████████████████████████████████████████████████▋                                                                  | 94/186 [01:22<01:12,  1.27it/s]"
     ]
    },
    {
     "name": "stdout",
     "output_type": "stream",
     "text": [
      "Page: 94/186\n"
     ]
    },
    {
     "name": "stderr",
     "output_type": "stream",
     "text": [
      " 51%|████████████████████████████████████████████████████████████████████▍                                                                 | 95/186 [01:22<01:14,  1.21it/s]"
     ]
    },
    {
     "name": "stdout",
     "output_type": "stream",
     "text": [
      "Page: 95/186\n"
     ]
    },
    {
     "name": "stderr",
     "output_type": "stream",
     "text": [
      " 52%|█████████████████████████████████████████████████████████████████████▏                                                                | 96/186 [01:23<01:11,  1.26it/s]"
     ]
    },
    {
     "name": "stdout",
     "output_type": "stream",
     "text": [
      "Page: 96/186\n"
     ]
    },
    {
     "name": "stderr",
     "output_type": "stream",
     "text": [
      " 52%|█████████████████████████████████████████████████████████████████████▉                                                                | 97/186 [01:24<01:11,  1.24it/s]"
     ]
    },
    {
     "name": "stdout",
     "output_type": "stream",
     "text": [
      "Page: 97/186\n"
     ]
    },
    {
     "name": "stderr",
     "output_type": "stream",
     "text": [
      " 53%|██████████████████████████████████████████████████████████████████████▌                                                               | 98/186 [01:25<01:11,  1.22it/s]"
     ]
    },
    {
     "name": "stdout",
     "output_type": "stream",
     "text": [
      "Page: 98/186\n"
     ]
    },
    {
     "name": "stderr",
     "output_type": "stream",
     "text": [
      " 53%|███████████████████████████████████████████████████████████████████████▎                                                              | 99/186 [01:26<01:09,  1.26it/s]"
     ]
    },
    {
     "name": "stdout",
     "output_type": "stream",
     "text": [
      "Page: 99/186\n"
     ]
    },
    {
     "name": "stderr",
     "output_type": "stream",
     "text": [
      " 54%|███████████████████████████████████████████████████████████████████████▌                                                             | 100/186 [01:26<01:07,  1.28it/s]"
     ]
    },
    {
     "name": "stdout",
     "output_type": "stream",
     "text": [
      "Page: 100/186\n"
     ]
    },
    {
     "name": "stderr",
     "output_type": "stream",
     "text": [
      " 54%|████████████████████████████████████████████████████████████████████████▏                                                            | 101/186 [01:27<01:11,  1.19it/s]"
     ]
    },
    {
     "name": "stdout",
     "output_type": "stream",
     "text": [
      "Page: 101/186\n"
     ]
    },
    {
     "name": "stderr",
     "output_type": "stream",
     "text": [
      " 55%|████████████████████████████████████████████████████████████████████████▉                                                            | 102/186 [01:28<01:12,  1.16it/s]"
     ]
    },
    {
     "name": "stdout",
     "output_type": "stream",
     "text": [
      "Page: 102/186\n"
     ]
    },
    {
     "name": "stderr",
     "output_type": "stream",
     "text": [
      " 55%|█████████████████████████████████████████████████████████████████████████▋                                                           | 103/186 [01:29<01:12,  1.15it/s]"
     ]
    },
    {
     "name": "stdout",
     "output_type": "stream",
     "text": [
      "Page: 103/186\n"
     ]
    },
    {
     "name": "stderr",
     "output_type": "stream",
     "text": [
      " 56%|██████████████████████████████████████████████████████████████████████████▎                                                          | 104/186 [01:30<01:08,  1.20it/s]"
     ]
    },
    {
     "name": "stdout",
     "output_type": "stream",
     "text": [
      "Page: 104/186\n"
     ]
    },
    {
     "name": "stderr",
     "output_type": "stream",
     "text": [
      " 56%|███████████████████████████████████████████████████████████████████████████                                                          | 105/186 [01:31<01:07,  1.20it/s]"
     ]
    },
    {
     "name": "stdout",
     "output_type": "stream",
     "text": [
      "Page: 105/186\n"
     ]
    },
    {
     "name": "stderr",
     "output_type": "stream",
     "text": [
      " 57%|███████████████████████████████████████████████████████████████████████████▊                                                         | 106/186 [01:31<01:04,  1.25it/s]"
     ]
    },
    {
     "name": "stdout",
     "output_type": "stream",
     "text": [
      "Page: 106/186\n"
     ]
    },
    {
     "name": "stderr",
     "output_type": "stream",
     "text": [
      " 58%|████████████████████████████████████████████████████████████████████████████▌                                                        | 107/186 [01:32<01:04,  1.22it/s]"
     ]
    },
    {
     "name": "stdout",
     "output_type": "stream",
     "text": [
      "Page: 107/186\n"
     ]
    },
    {
     "name": "stderr",
     "output_type": "stream",
     "text": [
      " 58%|█████████████████████████████████████████████████████████████████████████████▏                                                       | 108/186 [01:33<01:07,  1.16it/s]"
     ]
    },
    {
     "name": "stdout",
     "output_type": "stream",
     "text": [
      "Page: 108/186\n"
     ]
    },
    {
     "name": "stderr",
     "output_type": "stream",
     "text": [
      " 59%|█████████████████████████████████████████████████████████████████████████████▉                                                       | 109/186 [01:34<01:06,  1.16it/s]"
     ]
    },
    {
     "name": "stdout",
     "output_type": "stream",
     "text": [
      "Page: 109/186\n"
     ]
    },
    {
     "name": "stderr",
     "output_type": "stream",
     "text": [
      " 59%|██████████████████████████████████████████████████████████████████████████████▋                                                      | 110/186 [01:35<01:03,  1.20it/s]"
     ]
    },
    {
     "name": "stdout",
     "output_type": "stream",
     "text": [
      "Page: 110/186\n"
     ]
    },
    {
     "name": "stderr",
     "output_type": "stream",
     "text": [
      " 60%|███████████████████████████████████████████████████████████████████████████████▎                                                     | 111/186 [01:36<01:00,  1.24it/s]"
     ]
    },
    {
     "name": "stdout",
     "output_type": "stream",
     "text": [
      "Page: 111/186\n"
     ]
    },
    {
     "name": "stderr",
     "output_type": "stream",
     "text": [
      " 60%|████████████████████████████████████████████████████████████████████████████████                                                     | 112/186 [01:36<00:56,  1.31it/s]"
     ]
    },
    {
     "name": "stdout",
     "output_type": "stream",
     "text": [
      "Page: 112/186\n"
     ]
    },
    {
     "name": "stderr",
     "output_type": "stream",
     "text": [
      " 61%|████████████████████████████████████████████████████████████████████████████████▊                                                    | 113/186 [01:37<00:54,  1.33it/s]"
     ]
    },
    {
     "name": "stdout",
     "output_type": "stream",
     "text": [
      "Page: 113/186\n"
     ]
    },
    {
     "name": "stderr",
     "output_type": "stream",
     "text": [
      " 61%|█████████████████████████████████████████████████████████████████████████████████▌                                                   | 114/186 [01:38<00:54,  1.32it/s]"
     ]
    },
    {
     "name": "stdout",
     "output_type": "stream",
     "text": [
      "Page: 114/186\n"
     ]
    },
    {
     "name": "stderr",
     "output_type": "stream",
     "text": [
      " 62%|██████████████████████████████████████████████████████████████████████████████████▏                                                  | 115/186 [01:38<00:53,  1.33it/s]"
     ]
    },
    {
     "name": "stdout",
     "output_type": "stream",
     "text": [
      "Page: 115/186\n"
     ]
    },
    {
     "name": "stderr",
     "output_type": "stream",
     "text": [
      " 62%|██████████████████████████████████████████████████████████████████████████████████▉                                                  | 116/186 [01:39<00:53,  1.31it/s]"
     ]
    },
    {
     "name": "stdout",
     "output_type": "stream",
     "text": [
      "Page: 116/186\n"
     ]
    },
    {
     "name": "stderr",
     "output_type": "stream",
     "text": [
      " 63%|███████████████████████████████████████████████████████████████████████████████████▋                                                 | 117/186 [01:40<00:54,  1.27it/s]"
     ]
    },
    {
     "name": "stdout",
     "output_type": "stream",
     "text": [
      "Page: 117/186\n"
     ]
    },
    {
     "name": "stderr",
     "output_type": "stream",
     "text": [
      " 63%|████████████████████████████████████████████████████████████████████████████████████▍                                                | 118/186 [01:41<00:55,  1.23it/s]"
     ]
    },
    {
     "name": "stdout",
     "output_type": "stream",
     "text": [
      "Page: 118/186\n"
     ]
    },
    {
     "name": "stderr",
     "output_type": "stream",
     "text": [
      " 64%|█████████████████████████████████████████████████████████████████████████████████████                                                | 119/186 [01:42<00:56,  1.18it/s]"
     ]
    },
    {
     "name": "stdout",
     "output_type": "stream",
     "text": [
      "Page: 119/186\n"
     ]
    },
    {
     "name": "stderr",
     "output_type": "stream",
     "text": [
      " 65%|█████████████████████████████████████████████████████████████████████████████████████▊                                               | 120/186 [01:43<00:53,  1.23it/s]"
     ]
    },
    {
     "name": "stdout",
     "output_type": "stream",
     "text": [
      "Page: 120/186\n"
     ]
    },
    {
     "name": "stderr",
     "output_type": "stream",
     "text": [
      " 65%|██████████████████████████████████████████████████████████████████████████████████████▌                                              | 121/186 [01:44<00:53,  1.20it/s]"
     ]
    },
    {
     "name": "stdout",
     "output_type": "stream",
     "text": [
      "Page: 121/186\n"
     ]
    },
    {
     "name": "stderr",
     "output_type": "stream",
     "text": [
      " 66%|███████████████████████████████████████████████████████████████████████████████████████▏                                             | 122/186 [01:44<00:51,  1.25it/s]"
     ]
    },
    {
     "name": "stdout",
     "output_type": "stream",
     "text": [
      "Page: 122/186\n"
     ]
    },
    {
     "name": "stderr",
     "output_type": "stream",
     "text": [
      " 66%|███████████████████████████████████████████████████████████████████████████████████████▉                                             | 123/186 [01:45<00:49,  1.27it/s]"
     ]
    },
    {
     "name": "stdout",
     "output_type": "stream",
     "text": [
      "Page: 123/186\n"
     ]
    },
    {
     "name": "stderr",
     "output_type": "stream",
     "text": [
      " 67%|████████████████████████████████████████████████████████████████████████████████████████▋                                            | 124/186 [01:46<00:50,  1.22it/s]"
     ]
    },
    {
     "name": "stdout",
     "output_type": "stream",
     "text": [
      "Page: 124/186\n"
     ]
    },
    {
     "name": "stderr",
     "output_type": "stream",
     "text": [
      " 67%|█████████████████████████████████████████████████████████████████████████████████████████▍                                           | 125/186 [01:47<00:48,  1.25it/s]"
     ]
    },
    {
     "name": "stdout",
     "output_type": "stream",
     "text": [
      "Page: 125/186\n"
     ]
    },
    {
     "name": "stderr",
     "output_type": "stream",
     "text": [
      " 68%|██████████████████████████████████████████████████████████████████████████████████████████                                           | 126/186 [01:48<00:49,  1.22it/s]"
     ]
    },
    {
     "name": "stdout",
     "output_type": "stream",
     "text": [
      "Page: 126/186\n"
     ]
    },
    {
     "name": "stderr",
     "output_type": "stream",
     "text": [
      " 68%|██████████████████████████████████████████████████████████████████████████████████████████▊                                          | 127/186 [01:48<00:48,  1.22it/s]"
     ]
    },
    {
     "name": "stdout",
     "output_type": "stream",
     "text": [
      "Page: 127/186\n"
     ]
    },
    {
     "name": "stderr",
     "output_type": "stream",
     "text": [
      " 69%|███████████████████████████████████████████████████████████████████████████████████████████▌                                         | 128/186 [01:49<00:45,  1.27it/s]"
     ]
    },
    {
     "name": "stdout",
     "output_type": "stream",
     "text": [
      "Page: 128/186\n"
     ]
    },
    {
     "name": "stderr",
     "output_type": "stream",
     "text": [
      " 69%|████████████████████████████████████████████████████████████████████████████████████████████▏                                        | 129/186 [01:50<00:47,  1.20it/s]"
     ]
    },
    {
     "name": "stdout",
     "output_type": "stream",
     "text": [
      "Page: 129/186\n"
     ]
    },
    {
     "name": "stderr",
     "output_type": "stream",
     "text": [
      " 70%|████████████████████████████████████████████████████████████████████████████████████████████▉                                        | 130/186 [01:51<00:45,  1.23it/s]"
     ]
    },
    {
     "name": "stdout",
     "output_type": "stream",
     "text": [
      "Page: 130/186\n"
     ]
    },
    {
     "name": "stderr",
     "output_type": "stream",
     "text": [
      " 70%|█████████████████████████████████████████████████████████████████████████████████████████████▋                                       | 131/186 [01:52<00:44,  1.23it/s]"
     ]
    },
    {
     "name": "stdout",
     "output_type": "stream",
     "text": [
      "Page: 131/186\n"
     ]
    },
    {
     "name": "stderr",
     "output_type": "stream",
     "text": [
      " 71%|██████████████████████████████████████████████████████████████████████████████████████████████▍                                      | 132/186 [01:52<00:43,  1.25it/s]"
     ]
    },
    {
     "name": "stdout",
     "output_type": "stream",
     "text": [
      "Page: 132/186\n"
     ]
    },
    {
     "name": "stderr",
     "output_type": "stream",
     "text": [
      " 72%|███████████████████████████████████████████████████████████████████████████████████████████████                                      | 133/186 [01:53<00:41,  1.27it/s]"
     ]
    },
    {
     "name": "stdout",
     "output_type": "stream",
     "text": [
      "Page: 133/186\n"
     ]
    },
    {
     "name": "stderr",
     "output_type": "stream",
     "text": [
      " 72%|███████████████████████████████████████████████████████████████████████████████████████████████▊                                     | 134/186 [01:54<00:39,  1.32it/s]"
     ]
    },
    {
     "name": "stdout",
     "output_type": "stream",
     "text": [
      "Page: 134/186\n"
     ]
    },
    {
     "name": "stderr",
     "output_type": "stream",
     "text": [
      " 73%|████████████████████████████████████████████████████████████████████████████████████████████████▌                                    | 135/186 [01:55<00:42,  1.20it/s]"
     ]
    },
    {
     "name": "stdout",
     "output_type": "stream",
     "text": [
      "Page: 135/186\n"
     ]
    },
    {
     "name": "stderr",
     "output_type": "stream",
     "text": [
      " 73%|█████████████████████████████████████████████████████████████████████████████████████████████████▏                                   | 136/186 [01:56<00:41,  1.20it/s]"
     ]
    },
    {
     "name": "stdout",
     "output_type": "stream",
     "text": [
      "Page: 136/186\n"
     ]
    },
    {
     "name": "stderr",
     "output_type": "stream",
     "text": [
      " 74%|█████████████████████████████████████████████████████████████████████████████████████████████████▉                                   | 137/186 [01:56<00:40,  1.21it/s]"
     ]
    },
    {
     "name": "stdout",
     "output_type": "stream",
     "text": [
      "Page: 137/186\n"
     ]
    },
    {
     "name": "stderr",
     "output_type": "stream",
     "text": [
      " 74%|██████████████████████████████████████████████████████████████████████████████████████████████████▋                                  | 138/186 [01:57<00:38,  1.24it/s]"
     ]
    },
    {
     "name": "stdout",
     "output_type": "stream",
     "text": [
      "Page: 138/186\n"
     ]
    },
    {
     "name": "stderr",
     "output_type": "stream",
     "text": [
      " 75%|███████████████████████████████████████████████████████████████████████████████████████████████████▍                                 | 139/186 [01:58<00:37,  1.26it/s]"
     ]
    },
    {
     "name": "stdout",
     "output_type": "stream",
     "text": [
      "Page: 139/186\n"
     ]
    },
    {
     "name": "stderr",
     "output_type": "stream",
     "text": [
      " 75%|████████████████████████████████████████████████████████████████████████████████████████████████████                                 | 140/186 [01:59<00:36,  1.25it/s]"
     ]
    },
    {
     "name": "stdout",
     "output_type": "stream",
     "text": [
      "Page: 140/186\n"
     ]
    },
    {
     "name": "stderr",
     "output_type": "stream",
     "text": [
      " 76%|████████████████████████████████████████████████████████████████████████████████████████████████████▊                                | 141/186 [02:00<00:36,  1.23it/s]"
     ]
    },
    {
     "name": "stdout",
     "output_type": "stream",
     "text": [
      "Page: 141/186\n"
     ]
    },
    {
     "name": "stderr",
     "output_type": "stream",
     "text": [
      " 76%|█████████████████████████████████████████████████████████████████████████████████████████████████████▌                               | 142/186 [02:00<00:35,  1.23it/s]"
     ]
    },
    {
     "name": "stdout",
     "output_type": "stream",
     "text": [
      "Page: 142/186\n"
     ]
    },
    {
     "name": "stderr",
     "output_type": "stream",
     "text": [
      " 77%|██████████████████████████████████████████████████████████████████████████████████████████████████████▎                              | 143/186 [02:01<00:35,  1.22it/s]"
     ]
    },
    {
     "name": "stdout",
     "output_type": "stream",
     "text": [
      "Page: 143/186\n"
     ]
    },
    {
     "name": "stderr",
     "output_type": "stream",
     "text": [
      " 77%|██████████████████████████████████████████████████████████████████████████████████████████████████████▉                              | 144/186 [02:02<00:33,  1.25it/s]"
     ]
    },
    {
     "name": "stdout",
     "output_type": "stream",
     "text": [
      "Page: 144/186\n"
     ]
    },
    {
     "name": "stderr",
     "output_type": "stream",
     "text": [
      " 78%|███████████████████████████████████████████████████████████████████████████████████████████████████████▋                             | 145/186 [02:03<00:33,  1.21it/s]"
     ]
    },
    {
     "name": "stdout",
     "output_type": "stream",
     "text": [
      "Page: 145/186\n"
     ]
    },
    {
     "name": "stderr",
     "output_type": "stream",
     "text": [
      " 78%|████████████████████████████████████████████████████████████████████████████████████████████████████████▍                            | 146/186 [02:04<00:31,  1.26it/s]"
     ]
    },
    {
     "name": "stdout",
     "output_type": "stream",
     "text": [
      "Page: 146/186\n"
     ]
    },
    {
     "name": "stderr",
     "output_type": "stream",
     "text": [
      " 79%|█████████████████████████████████████████████████████████████████████████████████████████████████████████                            | 147/186 [02:05<00:32,  1.21it/s]"
     ]
    },
    {
     "name": "stdout",
     "output_type": "stream",
     "text": [
      "Page: 147/186\n"
     ]
    },
    {
     "name": "stderr",
     "output_type": "stream",
     "text": [
      " 80%|█████████████████████████████████████████████████████████████████████████████████████████████████████████▊                           | 148/186 [02:05<00:31,  1.21it/s]"
     ]
    },
    {
     "name": "stdout",
     "output_type": "stream",
     "text": [
      "Page: 148/186\n"
     ]
    },
    {
     "name": "stderr",
     "output_type": "stream",
     "text": [
      " 80%|██████████████████████████████████████████████████████████████████████████████████████████████████████████▌                          | 149/186 [02:06<00:29,  1.23it/s]"
     ]
    },
    {
     "name": "stdout",
     "output_type": "stream",
     "text": [
      "Page: 149/186\n"
     ]
    },
    {
     "name": "stderr",
     "output_type": "stream",
     "text": [
      " 81%|███████████████████████████████████████████████████████████████████████████████████████████████████████████▎                         | 150/186 [02:07<00:29,  1.21it/s]"
     ]
    },
    {
     "name": "stdout",
     "output_type": "stream",
     "text": [
      "Page: 150/186\n"
     ]
    },
    {
     "name": "stderr",
     "output_type": "stream",
     "text": [
      " 81%|███████████████████████████████████████████████████████████████████████████████████████████████████████████▉                         | 151/186 [02:08<00:29,  1.17it/s]"
     ]
    },
    {
     "name": "stdout",
     "output_type": "stream",
     "text": [
      "Page: 151/186\n"
     ]
    },
    {
     "name": "stderr",
     "output_type": "stream",
     "text": [
      " 82%|████████████████████████████████████████████████████████████████████████████████████████████████████████████▋                        | 152/186 [02:09<00:28,  1.19it/s]"
     ]
    },
    {
     "name": "stdout",
     "output_type": "stream",
     "text": [
      "Page: 152/186\n"
     ]
    },
    {
     "name": "stderr",
     "output_type": "stream",
     "text": [
      " 82%|█████████████████████████████████████████████████████████████████████████████████████████████████████████████▍                       | 153/186 [02:10<00:27,  1.21it/s]"
     ]
    },
    {
     "name": "stdout",
     "output_type": "stream",
     "text": [
      "Page: 153/186\n"
     ]
    },
    {
     "name": "stderr",
     "output_type": "stream",
     "text": [
      " 83%|██████████████████████████████████████████████████████████████████████████████████████████████████████████████                       | 154/186 [02:10<00:26,  1.21it/s]"
     ]
    },
    {
     "name": "stdout",
     "output_type": "stream",
     "text": [
      "Page: 154/186\n"
     ]
    },
    {
     "name": "stderr",
     "output_type": "stream",
     "text": [
      " 83%|██████████████████████████████████████████████████████████████████████████████████████████████████████████████▊                      | 155/186 [02:11<00:25,  1.22it/s]"
     ]
    },
    {
     "name": "stdout",
     "output_type": "stream",
     "text": [
      "Page: 155/186\n"
     ]
    },
    {
     "name": "stderr",
     "output_type": "stream",
     "text": [
      " 84%|███████████████████████████████████████████████████████████████████████████████████████████████████████████████▌                     | 156/186 [02:12<00:24,  1.22it/s]"
     ]
    },
    {
     "name": "stdout",
     "output_type": "stream",
     "text": [
      "Page: 156/186\n"
     ]
    },
    {
     "name": "stderr",
     "output_type": "stream",
     "text": [
      " 84%|████████████████████████████████████████████████████████████████████████████████████████████████████████████████▎                    | 157/186 [02:13<00:22,  1.26it/s]"
     ]
    },
    {
     "name": "stdout",
     "output_type": "stream",
     "text": [
      "Page: 157/186\n"
     ]
    },
    {
     "name": "stderr",
     "output_type": "stream",
     "text": [
      " 85%|████████████████████████████████████████████████████████████████████████████████████████████████████████████████▉                    | 158/186 [02:13<00:22,  1.26it/s]"
     ]
    },
    {
     "name": "stdout",
     "output_type": "stream",
     "text": [
      "Page: 158/186\n"
     ]
    },
    {
     "name": "stderr",
     "output_type": "stream",
     "text": [
      " 85%|█████████████████████████████████████████████████████████████████████████████████████████████████████████████████▋                   | 159/186 [02:14<00:20,  1.30it/s]"
     ]
    },
    {
     "name": "stdout",
     "output_type": "stream",
     "text": [
      "Page: 159/186\n"
     ]
    },
    {
     "name": "stderr",
     "output_type": "stream",
     "text": [
      " 86%|██████████████████████████████████████████████████████████████████████████████████████████████████████████████████▍                  | 160/186 [02:15<00:21,  1.20it/s]"
     ]
    },
    {
     "name": "stdout",
     "output_type": "stream",
     "text": [
      "Page: 160/186\n"
     ]
    },
    {
     "name": "stderr",
     "output_type": "stream",
     "text": [
      " 87%|███████████████████████████████████████████████████████████████████████████████████████████████████████████████████                  | 161/186 [02:16<00:20,  1.21it/s]"
     ]
    },
    {
     "name": "stdout",
     "output_type": "stream",
     "text": [
      "Page: 161/186\n"
     ]
    },
    {
     "name": "stderr",
     "output_type": "stream",
     "text": [
      " 87%|███████████████████████████████████████████████████████████████████████████████████████████████████████████████████▊                 | 162/186 [02:17<00:19,  1.21it/s]"
     ]
    },
    {
     "name": "stdout",
     "output_type": "stream",
     "text": [
      "Page: 162/186\n"
     ]
    },
    {
     "name": "stderr",
     "output_type": "stream",
     "text": [
      " 88%|████████████████████████████████████████████████████████████████████████████████████████████████████████████████████▌                | 163/186 [02:18<00:19,  1.17it/s]"
     ]
    },
    {
     "name": "stdout",
     "output_type": "stream",
     "text": [
      "Page: 163/186\n"
     ]
    },
    {
     "name": "stderr",
     "output_type": "stream",
     "text": [
      " 88%|█████████████████████████████████████████████████████████████████████████████████████████████████████████████████████▎               | 164/186 [02:19<00:18,  1.19it/s]"
     ]
    },
    {
     "name": "stdout",
     "output_type": "stream",
     "text": [
      "Page: 164/186\n"
     ]
    },
    {
     "name": "stderr",
     "output_type": "stream",
     "text": [
      " 89%|█████████████████████████████████████████████████████████████████████████████████████████████████████████████████████▉               | 165/186 [02:19<00:17,  1.17it/s]"
     ]
    },
    {
     "name": "stdout",
     "output_type": "stream",
     "text": [
      "Page: 165/186\n"
     ]
    },
    {
     "name": "stderr",
     "output_type": "stream",
     "text": [
      " 89%|██████████████████████████████████████████████████████████████████████████████████████████████████████████████████████▋              | 166/186 [02:20<00:16,  1.22it/s]"
     ]
    },
    {
     "name": "stdout",
     "output_type": "stream",
     "text": [
      "Page: 166/186\n"
     ]
    },
    {
     "name": "stderr",
     "output_type": "stream",
     "text": [
      " 90%|███████████████████████████████████████████████████████████████████████████████████████████████████████████████████████▍             | 167/186 [02:21<00:15,  1.21it/s]"
     ]
    },
    {
     "name": "stdout",
     "output_type": "stream",
     "text": [
      "Page: 167/186\n"
     ]
    },
    {
     "name": "stderr",
     "output_type": "stream",
     "text": [
      " 90%|████████████████████████████████████████████████████████████████████████████████████████████████████████████████████████▏            | 168/186 [02:22<00:14,  1.25it/s]"
     ]
    },
    {
     "name": "stdout",
     "output_type": "stream",
     "text": [
      "Page: 168/186\n"
     ]
    },
    {
     "name": "stderr",
     "output_type": "stream",
     "text": [
      " 91%|████████████████████████████████████████████████████████████████████████████████████████████████████████████████████████▊            | 169/186 [02:22<00:13,  1.30it/s]"
     ]
    },
    {
     "name": "stdout",
     "output_type": "stream",
     "text": [
      "Page: 169/186\n"
     ]
    },
    {
     "name": "stderr",
     "output_type": "stream",
     "text": [
      " 91%|█████████████████████████████████████████████████████████████████████████████████████████████████████████████████████████▌           | 170/186 [02:23<00:12,  1.31it/s]"
     ]
    },
    {
     "name": "stdout",
     "output_type": "stream",
     "text": [
      "Page: 170/186\n"
     ]
    },
    {
     "name": "stderr",
     "output_type": "stream",
     "text": [
      " 92%|██████████████████████████████████████████████████████████████████████████████████████████████████████████████████████████▎          | 171/186 [02:24<00:11,  1.29it/s]"
     ]
    },
    {
     "name": "stdout",
     "output_type": "stream",
     "text": [
      "Page: 171/186\n"
     ]
    },
    {
     "name": "stderr",
     "output_type": "stream",
     "text": [
      " 92%|██████████████████████████████████████████████████████████████████████████████████████████████████████████████████████████▉          | 172/186 [02:25<00:10,  1.32it/s]"
     ]
    },
    {
     "name": "stdout",
     "output_type": "stream",
     "text": [
      "Page: 172/186\n"
     ]
    },
    {
     "name": "stderr",
     "output_type": "stream",
     "text": [
      " 93%|███████████████████████████████████████████████████████████████████████████████████████████████████████████████████████████▋         | 173/186 [02:25<00:09,  1.33it/s]"
     ]
    },
    {
     "name": "stdout",
     "output_type": "stream",
     "text": [
      "Page: 173/186\n"
     ]
    },
    {
     "name": "stderr",
     "output_type": "stream",
     "text": [
      " 94%|████████████████████████████████████████████████████████████████████████████████████████████████████████████████████████████▍        | 174/186 [02:26<00:09,  1.33it/s]"
     ]
    },
    {
     "name": "stdout",
     "output_type": "stream",
     "text": [
      "Page: 174/186\n"
     ]
    },
    {
     "name": "stderr",
     "output_type": "stream",
     "text": [
      " 94%|█████████████████████████████████████████████████████████████████████████████████████████████████████████████████████████████▏       | 175/186 [02:27<00:08,  1.24it/s]"
     ]
    },
    {
     "name": "stdout",
     "output_type": "stream",
     "text": [
      "Page: 175/186\n"
     ]
    },
    {
     "name": "stderr",
     "output_type": "stream",
     "text": [
      " 95%|█████████████████████████████████████████████████████████████████████████████████████████████████████████████████████████████▊       | 176/186 [02:28<00:07,  1.27it/s]"
     ]
    },
    {
     "name": "stdout",
     "output_type": "stream",
     "text": [
      "Page: 176/186\n"
     ]
    },
    {
     "name": "stderr",
     "output_type": "stream",
     "text": [
      " 95%|██████████████████████████████████████████████████████████████████████████████████████████████████████████████████████████████▌      | 177/186 [02:29<00:07,  1.27it/s]"
     ]
    },
    {
     "name": "stdout",
     "output_type": "stream",
     "text": [
      "Page: 177/186\n"
     ]
    },
    {
     "name": "stderr",
     "output_type": "stream",
     "text": [
      " 96%|███████████████████████████████████████████████████████████████████████████████████████████████████████████████████████████████▎     | 178/186 [02:29<00:06,  1.26it/s]"
     ]
    },
    {
     "name": "stdout",
     "output_type": "stream",
     "text": [
      "Page: 178/186\n"
     ]
    },
    {
     "name": "stderr",
     "output_type": "stream",
     "text": [
      " 96%|███████████████████████████████████████████████████████████████████████████████████████████████████████████████████████████████▉     | 179/186 [02:30<00:05,  1.24it/s]"
     ]
    },
    {
     "name": "stdout",
     "output_type": "stream",
     "text": [
      "Page: 179/186\n"
     ]
    },
    {
     "name": "stderr",
     "output_type": "stream",
     "text": [
      " 97%|████████████████████████████████████████████████████████████████████████████████████████████████████████████████████████████████▋    | 180/186 [02:31<00:04,  1.27it/s]"
     ]
    },
    {
     "name": "stdout",
     "output_type": "stream",
     "text": [
      "Page: 180/186\n"
     ]
    },
    {
     "name": "stderr",
     "output_type": "stream",
     "text": [
      " 97%|█████████████████████████████████████████████████████████████████████████████████████████████████████████████████████████████████▍   | 181/186 [02:32<00:04,  1.22it/s]"
     ]
    },
    {
     "name": "stdout",
     "output_type": "stream",
     "text": [
      "Page: 181/186\n"
     ]
    },
    {
     "name": "stderr",
     "output_type": "stream",
     "text": [
      " 98%|██████████████████████████████████████████████████████████████████████████████████████████████████████████████████████████████████▏  | 182/186 [02:34<00:04,  1.16s/it]"
     ]
    },
    {
     "name": "stdout",
     "output_type": "stream",
     "text": [
      "Page: 182/186\n"
     ]
    },
    {
     "name": "stderr",
     "output_type": "stream",
     "text": [
      " 98%|██████████████████████████████████████████████████████████████████████████████████████████████████████████████████████████████████▊  | 183/186 [02:35<00:03,  1.06s/it]"
     ]
    },
    {
     "name": "stdout",
     "output_type": "stream",
     "text": [
      "Page: 183/186\n"
     ]
    },
    {
     "name": "stderr",
     "output_type": "stream",
     "text": [
      " 99%|███████████████████████████████████████████████████████████████████████████████████████████████████████████████████████████████████▌ | 184/186 [02:36<00:01,  1.02it/s]"
     ]
    },
    {
     "name": "stdout",
     "output_type": "stream",
     "text": [
      "Page: 184/186\n"
     ]
    },
    {
     "name": "stderr",
     "output_type": "stream",
     "text": [
      " 99%|████████████████████████████████████████████████████████████████████████████████████████████████████████████████████████████████████▎| 185/186 [02:36<00:00,  1.07it/s]"
     ]
    },
    {
     "name": "stdout",
     "output_type": "stream",
     "text": [
      "Page: 185/186\n"
     ]
    },
    {
     "name": "stderr",
     "output_type": "stream",
     "text": [
      "100%|█████████████████████████████████████████████████████████████████████████████████████████████████████████████████████████████████████| 186/186 [02:37<00:00,  1.18it/s]\n"
     ]
    },
    {
     "name": "stdout",
     "output_type": "stream",
     "text": [
      "Fetching the readmes from the repos\n"
     ]
    },
    {
     "name": "stderr",
     "output_type": "stream",
     "text": [
      "  4%|█████▌                                                                                                                              | 236/5578 [01:46<36:19,  2.45it/s]"
     ]
    },
    {
     "name": "stdout",
     "output_type": "stream",
     "text": [
      "Could not find readme for this link : https://github.com/microsoft/appcenter-sampleapp-tvos-swift\n"
     ]
    },
    {
     "name": "stderr",
     "output_type": "stream",
     "text": [
      "  4%|█████▌                                                                                                                              | 237/5578 [01:47<36:34,  2.43it/s]"
     ]
    },
    {
     "name": "stdout",
     "output_type": "stream",
     "text": [
      "Could not find readme for this link : https://github.com/microsoft/appcenter-sampleapp-xamarin\n"
     ]
    },
    {
     "name": "stderr",
     "output_type": "stream",
     "text": [
      "  6%|████████▎                                                                                                                           | 349/5578 [02:38<36:29,  2.39it/s]"
     ]
    },
    {
     "name": "stdout",
     "output_type": "stream",
     "text": [
      "Could not find readme for this link : https://github.com/microsoft/ARXGEN\n"
     ]
    },
    {
     "name": "stderr",
     "output_type": "stream",
     "text": [
      "  7%|█████████▎                                                                                                                          | 392/5578 [02:58<34:22,  2.51it/s]"
     ]
    },
    {
     "name": "stdout",
     "output_type": "stream",
     "text": [
      "Could not find readme for this link : https://github.com/microsoft/AutoPredOptConnector\n"
     ]
    },
    {
     "name": "stderr",
     "output_type": "stream",
     "text": [
      "  8%|██████████▎                                                                                                                         | 435/5578 [03:17<35:33,  2.41it/s]"
     ]
    },
    {
     "name": "stdout",
     "output_type": "stream",
     "text": [
      "Could not find readme for this link : https://github.com/microsoft/azure-arc-jumpstart-apps\n"
     ]
    },
    {
     "name": "stderr",
     "output_type": "stream",
     "text": [
      "  8%|██████████▊                                                                                                                         | 457/5578 [03:27<37:41,  2.26it/s]"
     ]
    },
    {
     "name": "stdout",
     "output_type": "stream",
     "text": [
      "Could not find readme for this link : https://github.com/microsoft/azure-data-services-go-fast-codebase-es-dlz\n"
     ]
    },
    {
     "name": "stderr",
     "output_type": "stream",
     "text": [
      " 14%|██████████████████▎                                                                                                                 | 776/5578 [05:53<40:06,  2.00it/s]"
     ]
    },
    {
     "name": "stdout",
     "output_type": "stream",
     "text": [
      "Could not find readme for this link : https://github.com/microsoft/bonsai-anylogic\n"
     ]
    },
    {
     "name": "stderr",
     "output_type": "stream",
     "text": [
      " 15%|████████████████████▎                                                                                                               | 856/5578 [06:28<34:57,  2.25it/s]"
     ]
    },
    {
     "name": "stdout",
     "output_type": "stream",
     "text": [
      "Could not find readme for this link : https://github.com/microsoft/BuildTourHack\n"
     ]
    },
    {
     "name": "stderr",
     "output_type": "stream",
     "text": [
      " 18%|███████████████████████▋                                                                                                           | 1009/5578 [07:38<37:11,  2.05it/s]"
     ]
    },
    {
     "name": "stdout",
     "output_type": "stream",
     "text": [
      "Could not find readme for this link : https://github.com/microsoft/cocos2d-x-3rd-party-libs-bin\n"
     ]
    },
    {
     "name": "stderr",
     "output_type": "stream",
     "text": [
      " 21%|███████████████████████████▏                                                                                                       | 1156/5578 [08:48<35:27,  2.08it/s]"
     ]
    },
    {
     "name": "stdout",
     "output_type": "stream",
     "text": [
      "Could not find readme for this link : https://github.com/microsoft/Contoso-Hotels-Demo\n"
     ]
    },
    {
     "name": "stderr",
     "output_type": "stream",
     "text": [
      " 27%|███████████████████████████████████▉                                                                                               | 1532/5578 [11:46<27:33,  2.45it/s]"
     ]
    },
    {
     "name": "stdout",
     "output_type": "stream",
     "text": [
      "Could not find readme for this link : https://github.com/microsoft/dotnet-core-sample-templates\n"
     ]
    },
    {
     "name": "stderr",
     "output_type": "stream",
     "text": [
      " 28%|████████████████████████████████████▍                                                                                              | 1554/5578 [11:55<33:50,  1.98it/s]"
     ]
    },
    {
     "name": "stdout",
     "output_type": "stream",
     "text": [
      "Could not find readme for this link : https://github.com/microsoft/DSCConfiguration.Template\n"
     ]
    },
    {
     "name": "stderr",
     "output_type": "stream",
     "text": [
      " 31%|████████████████████████████████████████▊                                                                                          | 1740/5578 [13:26<35:29,  1.80it/s]"
     ]
    },
    {
     "name": "stdout",
     "output_type": "stream",
     "text": [
      "Could not find readme for this link : https://github.com/microsoft/ER-Calc-Metered-vs-Unlimited\n"
     ]
    },
    {
     "name": "stderr",
     "output_type": "stream",
     "text": [
      " 32%|█████████████████████████████████████████▌                                                                                         | 1769/5578 [13:40<30:14,  2.10it/s]"
     ]
    },
    {
     "name": "stdout",
     "output_type": "stream",
     "text": [
      "Could not find readme for this link : https://github.com/microsoft/exp-extension\n"
     ]
    },
    {
     "name": "stderr",
     "output_type": "stream",
     "text": [
      " 40%|████████████████████████████████████████████████████                                                                               | 2218/5578 [17:22<26:52,  2.08it/s]"
     ]
    },
    {
     "name": "stdout",
     "output_type": "stream",
     "text": [
      "Could not find readme for this link : https://github.com/microsoft/homebrew-mssql-preview\n"
     ]
    },
    {
     "name": "stderr",
     "output_type": "stream",
     "text": [
      " 46%|████████████████████████████████████████████████████████████                                                                       | 2556/5578 [20:05<22:26,  2.24it/s]"
     ]
    },
    {
     "name": "stdout",
     "output_type": "stream",
     "text": [
      "Could not find readme for this link : https://github.com/microsoft/language-server-protocol\n"
     ]
    },
    {
     "name": "stderr",
     "output_type": "stream",
     "text": [
      " 61%|████████████████████████████████████████████████████████████████████████████████                                                   | 3411/5578 [26:44<17:59,  2.01it/s]"
     ]
    },
    {
     "name": "stdout",
     "output_type": "stream",
     "text": [
      "Could not find readme for this link : https://github.com/microsoft/OpenHack.fr-FR\n"
     ]
    },
    {
     "name": "stderr",
     "output_type": "stream",
     "text": [
      " 61%|████████████████████████████████████████████████████████████████████████████████▏                                                  | 3412/5578 [26:45<16:53,  2.14it/s]"
     ]
    },
    {
     "name": "stdout",
     "output_type": "stream",
     "text": [
      "Could not find readme for this link : https://github.com/microsoft/OpenHack.ja-JP\n"
     ]
    },
    {
     "name": "stderr",
     "output_type": "stream",
     "text": [
      " 64%|███████████████████████████████████████████████████████████████████████████████████▍                                               | 3551/5578 [27:51<17:25,  1.94it/s]"
     ]
    },
    {
     "name": "stdout",
     "output_type": "stream",
     "text": [
      "Could not find readme for this link : https://github.com/microsoft/PhETOfficeAddIn\n"
     ]
    },
    {
     "name": "stderr",
     "output_type": "stream",
     "text": [
      " 64%|███████████████████████████████████████████████████████████████████████████████████▌                                               | 3558/5578 [27:54<17:49,  1.89it/s]"
     ]
    },
    {
     "name": "stdout",
     "output_type": "stream",
     "text": [
      "Could not find readme for this link : https://github.com/microsoft/PHP-Window-Tests\n"
     ]
    },
    {
     "name": "stderr",
     "output_type": "stream",
     "text": [
      " 66%|██████████████████████████████████████████████████████████████████████████████████████▉                                            | 3702/5578 [29:01<12:58,  2.41it/s]"
     ]
    },
    {
     "name": "stdout",
     "output_type": "stream",
     "text": [
      "Could not find readme for this link : https://github.com/microsoft/PowerBI-visuals-PivotSlicer\n"
     ]
    },
    {
     "name": "stderr",
     "output_type": "stream",
     "text": [
      " 71%|█████████████████████████████████████████████████████████████████████████████████████████████▎                                     | 3974/5578 [31:07<12:20,  2.17it/s]"
     ]
    },
    {
     "name": "stdout",
     "output_type": "stream",
     "text": [
      "Could not find readme for this link : https://github.com/microsoft/python-sample-tweeterapp\n"
     ]
    },
    {
     "name": "stderr",
     "output_type": "stream",
     "text": [
      " 71%|█████████████████████████████████████████████████████████████████████████████████████████████▎                                     | 3975/5578 [31:07<11:17,  2.37it/s]"
     ]
    },
    {
     "name": "stdout",
     "output_type": "stream",
     "text": [
      "Could not find readme for this link : https://github.com/microsoft/python-sample-vs-cpp-extension\n"
     ]
    },
    {
     "name": "stderr",
     "output_type": "stream",
     "text": [
      " 71%|█████████████████████████████████████████████████████████████████████████████████████████████▍                                     | 3976/5578 [31:08<10:58,  2.43it/s]"
     ]
    },
    {
     "name": "stdout",
     "output_type": "stream",
     "text": [
      "Could not find readme for this link : https://github.com/microsoft/python-sample-vs-learning-django\n"
     ]
    },
    {
     "name": "stderr",
     "output_type": "stream",
     "text": [
      " 71%|█████████████████████████████████████████████████████████████████████████████████████████████▍                                     | 3977/5578 [31:08<10:57,  2.44it/s]"
     ]
    },
    {
     "name": "stdout",
     "output_type": "stream",
     "text": [
      "Could not find readme for this link : https://github.com/microsoft/python-sample-vs-learning-flask\n"
     ]
    },
    {
     "name": "stderr",
     "output_type": "stream",
     "text": [
      " 71%|█████████████████████████████████████████████████████████████████████████████████████████████▍                                     | 3978/5578 [31:08<10:30,  2.54it/s]"
     ]
    },
    {
     "name": "stdout",
     "output_type": "stream",
     "text": [
      "Could not find readme for this link : https://github.com/microsoft/python-sample-vscode-django-tutorial\n"
     ]
    },
    {
     "name": "stderr",
     "output_type": "stream",
     "text": [
      " 71%|█████████████████████████████████████████████████████████████████████████████████████████████▍                                     | 3979/5578 [31:09<10:14,  2.60it/s]"
     ]
    },
    {
     "name": "stdout",
     "output_type": "stream",
     "text": [
      "Could not find readme for this link : https://github.com/microsoft/python-sample-vscode-flask-tutorial\n"
     ]
    },
    {
     "name": "stderr",
     "output_type": "stream",
     "text": [
      " 71%|█████████████████████████████████████████████████████████████████████████████████████████████▍                                     | 3980/5578 [31:09<10:26,  2.55it/s]"
     ]
    },
    {
     "name": "stdout",
     "output_type": "stream",
     "text": [
      "Could not find readme for this link : https://github.com/microsoft/python-sklearn-classifier-cookiecutter\n"
     ]
    },
    {
     "name": "stderr",
     "output_type": "stream",
     "text": [
      " 71%|█████████████████████████████████████████████████████████████████████████████████████████████▍                                     | 3981/5578 [31:10<10:34,  2.52it/s]"
     ]
    },
    {
     "name": "stdout",
     "output_type": "stream",
     "text": [
      "Could not find readme for this link : https://github.com/microsoft/python-sklearn-clustering-cookiecutter\n"
     ]
    },
    {
     "name": "stderr",
     "output_type": "stream",
     "text": [
      " 71%|█████████████████████████████████████████████████████████████████████████████████████████████▌                                     | 3982/5578 [31:10<10:40,  2.49it/s]"
     ]
    },
    {
     "name": "stdout",
     "output_type": "stream",
     "text": [
      "Could not find readme for this link : https://github.com/microsoft/python-sklearn-regression-cookiecutter\n"
     ]
    },
    {
     "name": "stderr",
     "output_type": "stream",
     "text": [
      " 71%|█████████████████████████████████████████████████████████████████████████████████████████████▌                                     | 3983/5578 [31:10<10:43,  2.48it/s]"
     ]
    },
    {
     "name": "stdout",
     "output_type": "stream",
     "text": [
      "Could not find readme for this link : https://github.com/microsoft/python-type-stubs\n"
     ]
    },
    {
     "name": "stderr",
     "output_type": "stream",
     "text": [
      " 71%|█████████████████████████████████████████████████████████████████████████████████████████████▌                                     | 3984/5578 [31:11<10:45,  2.47it/s]"
     ]
    },
    {
     "name": "stdout",
     "output_type": "stream",
     "text": [
      "Could not find readme for this link : https://github.com/microsoft/PythonProgrammingPuzzles\n"
     ]
    },
    {
     "name": "stderr",
     "output_type": "stream",
     "text": [
      " 71%|█████████████████████████████████████████████████████████████████████████████████████████████▌                                     | 3985/5578 [31:11<10:51,  2.45it/s]"
     ]
    },
    {
     "name": "stdout",
     "output_type": "stream",
     "text": [
      "Could not find readme for this link : https://github.com/microsoft/pytorch-luxor-lab\n"
     ]
    },
    {
     "name": "stderr",
     "output_type": "stream",
     "text": [
      " 71%|█████████████████████████████████████████████████████████████████████████████████████████████▌                                     | 3986/5578 [31:12<10:47,  2.46it/s]"
     ]
    },
    {
     "name": "stdout",
     "output_type": "stream",
     "text": [
      "Could not find readme for this link : https://github.com/microsoft/pytorch_od\n"
     ]
    },
    {
     "name": "stderr",
     "output_type": "stream",
     "text": [
      " 71%|█████████████████████████████████████████████████████████████████████████████████████████████▋                                     | 3987/5578 [31:12<10:51,  2.44it/s]"
     ]
    },
    {
     "name": "stdout",
     "output_type": "stream",
     "text": [
      "Could not find readme for this link : https://github.com/microsoft/pyvisa-mock\n"
     ]
    },
    {
     "name": "stderr",
     "output_type": "stream",
     "text": [
      " 71%|█████████████████████████████████████████████████████████████████████████████████████████████▋                                     | 3988/5578 [31:13<10:48,  2.45it/s]"
     ]
    },
    {
     "name": "stdout",
     "output_type": "stream",
     "text": [
      "Could not find readme for this link : https://github.com/microsoft/QBASHER\n"
     ]
    },
    {
     "name": "stderr",
     "output_type": "stream",
     "text": [
      " 72%|█████████████████████████████████████████████████████████████████████████████████████████████▋                                     | 3989/5578 [31:13<10:43,  2.47it/s]"
     ]
    },
    {
     "name": "stdout",
     "output_type": "stream",
     "text": [
      "Could not find readme for this link : https://github.com/microsoft/qCards\n"
     ]
    },
    {
     "name": "stderr",
     "output_type": "stream",
     "text": [
      " 72%|█████████████████████████████████████████████████████████████████████████████████████████████▋                                     | 3990/5578 [31:13<10:17,  2.57it/s]"
     ]
    },
    {
     "name": "stdout",
     "output_type": "stream",
     "text": [
      "Could not find readme for this link : https://github.com/microsoft/qdk-python\n"
     ]
    },
    {
     "name": "stderr",
     "output_type": "stream",
     "text": [
      " 72%|█████████████████████████████████████████████████████████████████████████████████████████████▋                                     | 3991/5578 [31:14<10:12,  2.59it/s]"
     ]
    },
    {
     "name": "stdout",
     "output_type": "stream",
     "text": [
      "Could not find readme for this link : https://github.com/microsoft/qio-samples\n"
     ]
    },
    {
     "name": "stderr",
     "output_type": "stream",
     "text": [
      " 72%|█████████████████████████████████████████████████████████████████████████████████████████████▊                                     | 3992/5578 [31:14<09:39,  2.74it/s]"
     ]
    },
    {
     "name": "stdout",
     "output_type": "stream",
     "text": [
      "Could not find readme for this link : https://github.com/microsoft/qir-testing\n"
     ]
    },
    {
     "name": "stderr",
     "output_type": "stream",
     "text": [
      " 72%|█████████████████████████████████████████████████████████████████████████████████████████████▊                                     | 3993/5578 [31:14<09:54,  2.67it/s]"
     ]
    },
    {
     "name": "stdout",
     "output_type": "stream",
     "text": [
      "Could not find readme for this link : https://github.com/microsoft/qiskit-qir\n"
     ]
    },
    {
     "name": "stderr",
     "output_type": "stream",
     "text": [
      " 72%|█████████████████████████████████████████████████████████████████████████████████████████████▊                                     | 3994/5578 [31:15<10:10,  2.60it/s]"
     ]
    },
    {
     "name": "stdout",
     "output_type": "stream",
     "text": [
      "Could not find readme for this link : https://github.com/microsoft/qlib\n"
     ]
    },
    {
     "name": "stderr",
     "output_type": "stream",
     "text": [
      " 72%|█████████████████████████████████████████████████████████████████████████████████████████████▊                                     | 3995/5578 [31:15<09:46,  2.70it/s]"
     ]
    },
    {
     "name": "stdout",
     "output_type": "stream",
     "text": [
      "Could not find readme for this link : https://github.com/microsoft/qlib-server\n"
     ]
    },
    {
     "name": "stderr",
     "output_type": "stream",
     "text": [
      " 72%|█████████████████████████████████████████████████████████████████████████████████████████████▊                                     | 3996/5578 [31:15<09:29,  2.78it/s]"
     ]
    },
    {
     "name": "stdout",
     "output_type": "stream",
     "text": [
      "Could not find readme for this link : https://github.com/microsoft/qmt\n"
     ]
    },
    {
     "name": "stderr",
     "output_type": "stream",
     "text": [
      " 72%|█████████████████████████████████████████████████████████████████████████████████████████████▊                                     | 3997/5578 [31:16<09:13,  2.86it/s]"
     ]
    },
    {
     "name": "stdout",
     "output_type": "stream",
     "text": [
      "Could not find readme for this link : https://github.com/microsoft/qr-authentication\n"
     ]
    },
    {
     "name": "stderr",
     "output_type": "stream",
     "text": [
      " 72%|█████████████████████████████████████████████████████████████████████████████████████████████▉                                     | 3998/5578 [31:16<09:53,  2.66it/s]"
     ]
    },
    {
     "name": "stdout",
     "output_type": "stream",
     "text": [
      "Could not find readme for this link : https://github.com/microsoft/qsharp-compiler\n"
     ]
    },
    {
     "name": "stderr",
     "output_type": "stream",
     "text": [
      " 72%|█████████████████████████████████████████████████████████████████████████████████████████████▉                                     | 3999/5578 [31:17<10:08,  2.59it/s]"
     ]
    },
    {
     "name": "stdout",
     "output_type": "stream",
     "text": [
      "Could not find readme for this link : https://github.com/microsoft/qsharp-language\n"
     ]
    },
    {
     "name": "stderr",
     "output_type": "stream",
     "text": [
      " 72%|█████████████████████████████████████████████████████████████████████████████████████████████▉                                     | 4000/5578 [31:17<10:20,  2.54it/s]"
     ]
    },
    {
     "name": "stdout",
     "output_type": "stream",
     "text": [
      "Could not find readme for this link : https://github.com/microsoft/qsharp-runtime\n"
     ]
    },
    {
     "name": "stderr",
     "output_type": "stream",
     "text": [
      " 72%|█████████████████████████████████████████████████████████████████████████████████████████████▉                                     | 4001/5578 [31:17<10:42,  2.45it/s]"
     ]
    },
    {
     "name": "stdout",
     "output_type": "stream",
     "text": [
      "Could not find readme for this link : https://github.com/microsoft/qsharp-verifier\n"
     ]
    },
    {
     "name": "stderr",
     "output_type": "stream",
     "text": [
      " 72%|█████████████████████████████████████████████████████████████████████████████████████████████▉                                     | 4002/5578 [31:18<10:27,  2.51it/s]"
     ]
    },
    {
     "name": "stdout",
     "output_type": "stream",
     "text": [
      "Could not find readme for this link : https://github.com/microsoft/qTESLA-Library\n"
     ]
    },
    {
     "name": "stderr",
     "output_type": "stream",
     "text": [
      " 72%|██████████████████████████████████████████████████████████████████████████████████████████████                                     | 4003/5578 [31:18<10:33,  2.49it/s]"
     ]
    },
    {
     "name": "stdout",
     "output_type": "stream",
     "text": [
      "Could not find readme for this link : https://github.com/microsoft/Quantum\n"
     ]
    },
    {
     "name": "stderr",
     "output_type": "stream",
     "text": [
      " 72%|██████████████████████████████████████████████████████████████████████████████████████████████                                     | 4004/5578 [31:19<10:40,  2.46it/s]"
     ]
    },
    {
     "name": "stdout",
     "output_type": "stream",
     "text": [
      "Could not find readme for this link : https://github.com/microsoft/quantum-curriculum-preview\n"
     ]
    },
    {
     "name": "stderr",
     "output_type": "stream",
     "text": [
      " 72%|██████████████████████████████████████████████████████████████████████████████████████████████                                     | 4005/5578 [31:19<10:37,  2.47it/s]"
     ]
    },
    {
     "name": "stdout",
     "output_type": "stream",
     "text": [
      "Could not find readme for this link : https://github.com/microsoft/Quantum-NC\n"
     ]
    },
    {
     "name": "stderr",
     "output_type": "stream",
     "text": [
      " 72%|██████████████████████████████████████████████████████████████████████████████████████████████                                     | 4006/5578 [31:19<10:39,  2.46it/s]"
     ]
    },
    {
     "name": "stdout",
     "output_type": "stream",
     "text": [
      "Could not find readme for this link : https://github.com/microsoft/Quantum-Safe-OpenSSH\n"
     ]
    },
    {
     "name": "stderr",
     "output_type": "stream",
     "text": [
      " 72%|██████████████████████████████████████████████████████████████████████████████████████████████                                     | 4007/5578 [31:20<10:40,  2.45it/s]"
     ]
    },
    {
     "name": "stdout",
     "output_type": "stream",
     "text": [
      "Could not find readme for this link : https://github.com/microsoft/quantum-viz.js\n"
     ]
    },
    {
     "name": "stderr",
     "output_type": "stream",
     "text": [
      " 72%|██████████████████████████████████████████████████████████████████████████████████████████████▏                                    | 4008/5578 [31:20<10:40,  2.45it/s]"
     ]
    },
    {
     "name": "stdout",
     "output_type": "stream",
     "text": [
      "Could not find readme for this link : https://github.com/microsoft/QuantumEllipticCurves\n"
     ]
    },
    {
     "name": "stderr",
     "output_type": "stream",
     "text": [
      " 72%|██████████████████████████████████████████████████████████████████████████████████████████████▏                                    | 4009/5578 [31:21<10:40,  2.45it/s]"
     ]
    },
    {
     "name": "stdout",
     "output_type": "stream",
     "text": [
      "Could not find readme for this link : https://github.com/microsoft/QuantumKatas\n"
     ]
    },
    {
     "name": "stderr",
     "output_type": "stream",
     "text": [
      " 72%|██████████████████████████████████████████████████████████████████████████████████████████████▏                                    | 4010/5578 [31:21<10:41,  2.45it/s]"
     ]
    },
    {
     "name": "stdout",
     "output_type": "stream",
     "text": [
      "Could not find readme for this link : https://github.com/microsoft/QuantumLibraries\n"
     ]
    },
    {
     "name": "stderr",
     "output_type": "stream",
     "text": [
      " 72%|██████████████████████████████████████████████████████████████████████████████████████████████▏                                    | 4011/5578 [31:22<10:32,  2.48it/s]"
     ]
    },
    {
     "name": "stdout",
     "output_type": "stream",
     "text": [
      "Could not find readme for this link : https://github.com/microsoft/query-builder-for-digital-twins\n"
     ]
    },
    {
     "name": "stderr",
     "output_type": "stream",
     "text": [
      " 72%|██████████████████████████████████████████████████████████████████████████████████████████████▏                                    | 4012/5578 [31:22<10:47,  2.42it/s]"
     ]
    },
    {
     "name": "stdout",
     "output_type": "stream",
     "text": [
      "Could not find readme for this link : https://github.com/microsoft/quic-offloads\n"
     ]
    },
    {
     "name": "stderr",
     "output_type": "stream",
     "text": [
      " 72%|██████████████████████████████████████████████████████████████████████████████████████████████▏                                    | 4013/5578 [31:22<10:41,  2.44it/s]"
     ]
    },
    {
     "name": "stdout",
     "output_type": "stream",
     "text": [
      "Could not find readme for this link : https://github.com/microsoft/quick-authentication\n"
     ]
    },
    {
     "name": "stderr",
     "output_type": "stream",
     "text": [
      " 72%|██████████████████████████████████████████████████████████████████████████████████████████████▎                                    | 4014/5578 [31:23<10:41,  2.44it/s]"
     ]
    },
    {
     "name": "stdout",
     "output_type": "stream",
     "text": [
      "Could not find readme for this link : https://github.com/microsoft/quick-authentication-mobile\n"
     ]
    },
    {
     "name": "stderr",
     "output_type": "stream",
     "text": [
      " 72%|██████████████████████████████████████████████████████████████████████████████████████████████▎                                    | 4015/5578 [31:23<11:28,  2.27it/s]"
     ]
    },
    {
     "name": "stdout",
     "output_type": "stream",
     "text": [
      "Could not find readme for this link : https://github.com/microsoft/QuickInject\n"
     ]
    },
    {
     "name": "stderr",
     "output_type": "stream",
     "text": [
      " 72%|██████████████████████████████████████████████████████████████████████████████████████████████▎                                    | 4016/5578 [31:24<10:37,  2.45it/s]"
     ]
    },
    {
     "name": "stdout",
     "output_type": "stream",
     "text": [
      "Could not find readme for this link : https://github.com/microsoft/quicreach\n"
     ]
    },
    {
     "name": "stderr",
     "output_type": "stream",
     "text": [
      " 72%|██████████████████████████████████████████████████████████████████████████████████████████████▎                                    | 4017/5578 [31:24<10:16,  2.53it/s]"
     ]
    },
    {
     "name": "stdout",
     "output_type": "stream",
     "text": [
      "Could not find readme for this link : https://github.com/microsoft/quicspeed\n"
     ]
    },
    {
     "name": "stderr",
     "output_type": "stream",
     "text": [
      " 72%|██████████████████████████████████████████████████████████████████████████████████████████████▎                                    | 4018/5578 [31:24<10:15,  2.54it/s]"
     ]
    },
    {
     "name": "stdout",
     "output_type": "stream",
     "text": [
      "Could not find readme for this link : https://github.com/microsoft/quilla\n"
     ]
    },
    {
     "name": "stderr",
     "output_type": "stream",
     "text": [
      " 72%|██████████████████████████████████████████████████████████████████████████████████████████████▍                                    | 4019/5578 [31:25<14:38,  1.77it/s]"
     ]
    },
    {
     "name": "stdout",
     "output_type": "stream",
     "text": [
      "Could not find readme for this link : https://github.com/microsoft/R-Host\n"
     ]
    },
    {
     "name": "stderr",
     "output_type": "stream",
     "text": [
      " 72%|██████████████████████████████████████████████████████████████████████████████████████████████▍                                    | 4020/5578 [31:26<12:50,  2.02it/s]"
     ]
    },
    {
     "name": "stdout",
     "output_type": "stream",
     "text": [
      "Could not find readme for this link : https://github.com/microsoft/R-Interop\n"
     ]
    },
    {
     "name": "stderr",
     "output_type": "stream",
     "text": [
      " 72%|██████████████████████████████████████████████████████████████████████████████████████████████▍                                    | 4021/5578 [31:26<11:46,  2.20it/s]"
     ]
    },
    {
     "name": "stdout",
     "output_type": "stream",
     "text": [
      "Could not find readme for this link : https://github.com/microsoft/r-server-campaign-optimization\n"
     ]
    },
    {
     "name": "stderr",
     "output_type": "stream",
     "text": [
      " 72%|██████████████████████████████████████████████████████████████████████████████████████████████▍                                    | 4022/5578 [31:26<11:36,  2.23it/s]"
     ]
    },
    {
     "name": "stdout",
     "output_type": "stream",
     "text": [
      "Could not find readme for this link : https://github.com/microsoft/r-server-dotnet-visualizing-sql-azure-data-in-r\n"
     ]
    },
    {
     "name": "stderr",
     "output_type": "stream",
     "text": [
      " 72%|██████████████████████████████████████████████████████████████████████████████████████████████▍                                    | 4023/5578 [31:27<11:19,  2.29it/s]"
     ]
    },
    {
     "name": "stdout",
     "output_type": "stream",
     "text": [
      "Could not find readme for this link : https://github.com/microsoft/r-server-fraud-detection\n"
     ]
    },
    {
     "name": "stderr",
     "output_type": "stream",
     "text": [
      " 72%|██████████████████████████████████████████████████████████████████████████████████████████████▌                                    | 4024/5578 [31:27<10:34,  2.45it/s]"
     ]
    },
    {
     "name": "stdout",
     "output_type": "stream",
     "text": [
      "Could not find readme for this link : https://github.com/microsoft/r-server-hospital-length-of-stay\n"
     ]
    },
    {
     "name": "stderr",
     "output_type": "stream",
     "text": [
      " 72%|██████████████████████████████████████████████████████████████████████████████████████████████▌                                    | 4025/5578 [31:28<10:18,  2.51it/s]"
     ]
    },
    {
     "name": "stdout",
     "output_type": "stream",
     "text": [
      "Could not find readme for this link : https://github.com/microsoft/r-server-loan-chargeoff\n"
     ]
    },
    {
     "name": "stderr",
     "output_type": "stream",
     "text": [
      " 72%|██████████████████████████████████████████████████████████████████████████████████████████████▌                                    | 4026/5578 [31:28<10:23,  2.49it/s]"
     ]
    },
    {
     "name": "stdout",
     "output_type": "stream",
     "text": [
      "Could not find readme for this link : https://github.com/microsoft/r-server-loan-credit-risk\n"
     ]
    },
    {
     "name": "stderr",
     "output_type": "stream",
     "text": [
      " 72%|██████████████████████████████████████████████████████████████████████████████████████████████▌                                    | 4027/5578 [31:28<10:26,  2.48it/s]"
     ]
    },
    {
     "name": "stdout",
     "output_type": "stream",
     "text": [
      "Could not find readme for this link : https://github.com/microsoft/RadialController\n"
     ]
    },
    {
     "name": "stderr",
     "output_type": "stream",
     "text": [
      " 72%|██████████████████████████████████████████████████████████████████████████████████████████████▌                                    | 4028/5578 [31:29<10:29,  2.46it/s]"
     ]
    },
    {
     "name": "stdout",
     "output_type": "stream",
     "text": [
      "Could not find readme for this link : https://github.com/microsoft/random_quantize\n"
     ]
    },
    {
     "name": "stderr",
     "output_type": "stream",
     "text": [
      " 72%|██████████████████████████████████████████████████████████████████████████████████████████████▌                                    | 4029/5578 [31:29<09:57,  2.59it/s]"
     ]
    },
    {
     "name": "stdout",
     "output_type": "stream",
     "text": [
      "Could not find readme for this link : https://github.com/microsoft/Range-V3-VS2015\n"
     ]
    },
    {
     "name": "stderr",
     "output_type": "stream",
     "text": [
      " 72%|██████████████████████████████████████████████████████████████████████████████████████████████▋                                    | 4030/5578 [31:30<09:53,  2.61it/s]"
     ]
    },
    {
     "name": "stdout",
     "output_type": "stream",
     "text": [
      "Could not find readme for this link : https://github.com/microsoft/RangesOnMobile\n"
     ]
    },
    {
     "name": "stderr",
     "output_type": "stream",
     "text": [
      " 72%|██████████████████████████████████████████████████████████████████████████████████████████████▋                                    | 4031/5578 [31:30<10:05,  2.56it/s]"
     ]
    },
    {
     "name": "stdout",
     "output_type": "stream",
     "text": [
      "Could not find readme for this link : https://github.com/microsoft/rankerEval\n"
     ]
    },
    {
     "name": "stderr",
     "output_type": "stream",
     "text": [
      " 72%|██████████████████████████████████████████████████████████████████████████████████████████████▋                                    | 4032/5578 [31:30<10:13,  2.52it/s]"
     ]
    },
    {
     "name": "stdout",
     "output_type": "stream",
     "text": [
      "Could not find readme for this link : https://github.com/microsoft/rat-sql\n"
     ]
    },
    {
     "name": "stderr",
     "output_type": "stream",
     "text": [
      " 72%|██████████████████████████████████████████████████████████████████████████████████████████████▋                                    | 4033/5578 [31:31<09:47,  2.63it/s]"
     ]
    },
    {
     "name": "stdout",
     "output_type": "stream",
     "text": [
      "Could not find readme for this link : https://github.com/microsoft/rate-my-app\n"
     ]
    },
    {
     "name": "stderr",
     "output_type": "stream",
     "text": [
      " 72%|██████████████████████████████████████████████████████████████████████████████████████████████▋                                    | 4034/5578 [31:31<09:24,  2.74it/s]"
     ]
    },
    {
     "name": "stdout",
     "output_type": "stream",
     "text": [
      "Could not find readme for this link : https://github.com/microsoft/rating-api\n"
     ]
    },
    {
     "name": "stderr",
     "output_type": "stream",
     "text": [
      " 72%|██████████████████████████████████████████████████████████████████████████████████████████████▊                                    | 4035/5578 [31:31<09:17,  2.77it/s]"
     ]
    },
    {
     "name": "stdout",
     "output_type": "stream",
     "text": [
      "Could not find readme for this link : https://github.com/microsoft/rating-web\n"
     ]
    },
    {
     "name": "stderr",
     "output_type": "stream",
     "text": [
      " 72%|██████████████████████████████████████████████████████████████████████████████████████████████▊                                    | 4036/5578 [31:32<09:40,  2.66it/s]"
     ]
    },
    {
     "name": "stdout",
     "output_type": "stream",
     "text": [
      "Could not find readme for this link : https://github.com/microsoft/RationaleST\n"
     ]
    },
    {
     "name": "stderr",
     "output_type": "stream",
     "text": [
      " 72%|██████████████████████████████████████████████████████████████████████████████████████████████▊                                    | 4037/5578 [31:32<09:54,  2.59it/s]"
     ]
    },
    {
     "name": "stdout",
     "output_type": "stream",
     "text": [
      "Could not find readme for this link : https://github.com/microsoft/ray-on-aml\n"
     ]
    },
    {
     "name": "stderr",
     "output_type": "stream",
     "text": [
      " 72%|██████████████████████████████████████████████████████████████████████████████████████████████▊                                    | 4038/5578 [31:33<10:04,  2.55it/s]"
     ]
    },
    {
     "name": "stdout",
     "output_type": "stream",
     "text": [
      "Could not find readme for this link : https://github.com/microsoft/RdlMigration\n"
     ]
    },
    {
     "name": "stderr",
     "output_type": "stream",
     "text": [
      " 72%|██████████████████████████████████████████████████████████████████████████████████████████████▊                                    | 4039/5578 [31:33<10:11,  2.52it/s]"
     ]
    },
    {
     "name": "stdout",
     "output_type": "stream",
     "text": [
      "Could not find readme for this link : https://github.com/microsoft/RdpGamepad\n"
     ]
    },
    {
     "name": "stderr",
     "output_type": "stream",
     "text": [
      " 72%|██████████████████████████████████████████████████████████████████████████████████████████████▉                                    | 4040/5578 [31:33<10:26,  2.45it/s]"
     ]
    },
    {
     "name": "stdout",
     "output_type": "stream",
     "text": [
      "Could not find readme for this link : https://github.com/microsoft/rDSN\n"
     ]
    },
    {
     "name": "stderr",
     "output_type": "stream",
     "text": [
      " 72%|██████████████████████████████████████████████████████████████████████████████████████████████▉                                    | 4041/5578 [31:34<10:17,  2.49it/s]"
     ]
    },
    {
     "name": "stdout",
     "output_type": "stream",
     "text": [
      "Could not find readme for this link : https://github.com/microsoft/ReACC\n"
     ]
    },
    {
     "name": "stderr",
     "output_type": "stream",
     "text": [
      " 72%|██████████████████████████████████████████████████████████████████████████████████████████████▉                                    | 4042/5578 [31:34<10:20,  2.47it/s]"
     ]
    },
    {
     "name": "stdout",
     "output_type": "stream",
     "text": [
      "Could not find readme for this link : https://github.com/microsoft/react\n"
     ]
    },
    {
     "name": "stderr",
     "output_type": "stream",
     "text": [
      " 72%|██████████████████████████████████████████████████████████████████████████████████████████████▉                                    | 4043/5578 [31:35<10:23,  2.46it/s]"
     ]
    },
    {
     "name": "stdout",
     "output_type": "stream",
     "text": [
      "Could not find readme for this link : https://github.com/microsoft/react-dag-editor\n"
     ]
    },
    {
     "name": "stderr",
     "output_type": "stream",
     "text": [
      " 72%|██████████████████████████████████████████████████████████████████████████████████████████████▉                                    | 4044/5578 [31:35<10:24,  2.46it/s]"
     ]
    },
    {
     "name": "stdout",
     "output_type": "stream",
     "text": [
      "Could not find readme for this link : https://github.com/microsoft/react-graphql-nosql-starter-kit\n"
     ]
    },
    {
     "name": "stderr",
     "output_type": "stream",
     "text": [
      " 73%|██████████████████████████████████████████████████████████████████████████████████████████████▉                                    | 4045/5578 [31:35<10:25,  2.45it/s]"
     ]
    },
    {
     "name": "stdout",
     "output_type": "stream",
     "text": [
      "Could not find readme for this link : https://github.com/microsoft/react-jacdac\n"
     ]
    },
    {
     "name": "stderr",
     "output_type": "stream",
     "text": [
      " 73%|███████████████████████████████████████████████████████████████████████████████████████████████                                    | 4046/5578 [31:36<09:51,  2.59it/s]"
     ]
    },
    {
     "name": "stdout",
     "output_type": "stream",
     "text": [
      "Could not find readme for this link : https://github.com/microsoft/react-native-adaptivecards\n"
     ]
    },
    {
     "name": "stderr",
     "output_type": "stream",
     "text": [
      " 73%|███████████████████████████████████████████████████████████████████████████████████████████████                                    | 4047/5578 [31:36<10:42,  2.38it/s]"
     ]
    },
    {
     "name": "stdout",
     "output_type": "stream",
     "text": [
      "Could not find readme for this link : https://github.com/microsoft/react-native-code-push\n"
     ]
    },
    {
     "name": "stderr",
     "output_type": "stream",
     "text": [
      " 73%|███████████████████████████████████████████████████████████████████████████████████████████████                                    | 4048/5578 [31:37<10:02,  2.54it/s]"
     ]
    },
    {
     "name": "stdout",
     "output_type": "stream",
     "text": [
      "Could not find readme for this link : https://github.com/microsoft/react-native-devblog\n"
     ]
    },
    {
     "name": "stderr",
     "output_type": "stream",
     "text": [
      " 73%|███████████████████████████████████████████████████████████████████████████████████████████████                                    | 4049/5578 [31:37<09:50,  2.59it/s]"
     ]
    },
    {
     "name": "stdout",
     "output_type": "stream",
     "text": [
      "Could not find readme for this link : https://github.com/microsoft/react-native-dualscreen\n"
     ]
    },
    {
     "name": "stderr",
     "output_type": "stream",
     "text": [
      " 73%|███████████████████████████████████████████████████████████████████████████████████████████████                                    | 4050/5578 [31:37<10:00,  2.55it/s]"
     ]
    },
    {
     "name": "stdout",
     "output_type": "stream",
     "text": [
      "Could not find readme for this link : https://github.com/microsoft/react-native-experimental-navigation\n"
     ]
    },
    {
     "name": "stderr",
     "output_type": "stream",
     "text": [
      " 73%|███████████████████████████████████████████████████████████████████████████████████████████████▏                                   | 4051/5578 [31:38<10:07,  2.51it/s]"
     ]
    },
    {
     "name": "stdout",
     "output_type": "stream",
     "text": [
      "Could not find readme for this link : https://github.com/microsoft/react-native-gallery\n"
     ]
    },
    {
     "name": "stderr",
     "output_type": "stream",
     "text": [
      " 73%|███████████████████████████████████████████████████████████████████████████████████████████████▏                                   | 4052/5578 [31:38<10:12,  2.49it/s]"
     ]
    },
    {
     "name": "stdout",
     "output_type": "stream",
     "text": [
      "Could not find readme for this link : https://github.com/microsoft/react-native-lazy-index\n"
     ]
    },
    {
     "name": "stderr",
     "output_type": "stream",
     "text": [
      " 73%|███████████████████████████████████████████████████████████████████████████████████████████████▏                                   | 4053/5578 [31:39<10:15,  2.48it/s]"
     ]
    },
    {
     "name": "stdout",
     "output_type": "stream",
     "text": [
      "Could not find readme for this link : https://github.com/microsoft/react-native-macos\n"
     ]
    },
    {
     "name": "stderr",
     "output_type": "stream",
     "text": [
      " 73%|███████████████████████████████████████████████████████████████████████████████████████████████▏                                   | 4054/5578 [31:39<10:18,  2.46it/s]"
     ]
    },
    {
     "name": "stdout",
     "output_type": "stream",
     "text": [
      "Could not find readme for this link : https://github.com/microsoft/react-native-svg-desktop\n"
     ]
    },
    {
     "name": "stderr",
     "output_type": "stream",
     "text": [
      " 73%|███████████████████████████████████████████████████████████████████████████████████████████████▏                                   | 4055/5578 [31:39<10:19,  2.46it/s]"
     ]
    },
    {
     "name": "stdout",
     "output_type": "stream",
     "text": [
      "Could not find readme for this link : https://github.com/microsoft/react-native-test-app\n"
     ]
    },
    {
     "name": "stderr",
     "output_type": "stream",
     "text": [
      " 73%|███████████████████████████████████████████████████████████████████████████████████████████████▎                                   | 4056/5578 [31:40<10:20,  2.45it/s]"
     ]
    },
    {
     "name": "stdout",
     "output_type": "stream",
     "text": [
      "Could not find readme for this link : https://github.com/microsoft/react-native-tscodegen\n"
     ]
    },
    {
     "name": "stderr",
     "output_type": "stream",
     "text": [
      " 73%|███████████████████████████████████████████████████████████████████████████████████████████████▎                                   | 4057/5578 [31:40<10:20,  2.45it/s]"
     ]
    },
    {
     "name": "stdout",
     "output_type": "stream",
     "text": [
      "Could not find readme for this link : https://github.com/microsoft/react-native-windows\n"
     ]
    },
    {
     "name": "stderr",
     "output_type": "stream",
     "text": [
      " 73%|███████████████████████████████████████████████████████████████████████████████████████████████▎                                   | 4058/5578 [31:41<09:47,  2.59it/s]"
     ]
    },
    {
     "name": "stdout",
     "output_type": "stream",
     "text": [
      "Could not find readme for this link : https://github.com/microsoft/react-native-windows-samples\n"
     ]
    },
    {
     "name": "stderr",
     "output_type": "stream",
     "text": [
      " 73%|███████████████████████████████████████████████████████████████████████████████████████████████▎                                   | 4059/5578 [31:41<09:16,  2.73it/s]"
     ]
    },
    {
     "name": "stdout",
     "output_type": "stream",
     "text": [
      "Could not find readme for this link : https://github.com/microsoft/react-native-windows-specs\n"
     ]
    },
    {
     "name": "stderr",
     "output_type": "stream",
     "text": [
      " 73%|███████████████████████████████████████████████████████████████████████████████████████████████▎                                   | 4060/5578 [31:41<09:17,  2.72it/s]"
     ]
    },
    {
     "name": "stdout",
     "output_type": "stream",
     "text": [
      "Could not find readme for this link : https://github.com/microsoft/react-native-winrt\n"
     ]
    },
    {
     "name": "stderr",
     "output_type": "stream",
     "text": [
      " 73%|███████████████████████████████████████████████████████████████████████████████████████████████▎                                   | 4061/5578 [31:42<09:36,  2.63it/s]"
     ]
    },
    {
     "name": "stdout",
     "output_type": "stream",
     "text": [
      "Could not find readme for this link : https://github.com/microsoft/react-native-xaml\n"
     ]
    },
    {
     "name": "stderr",
     "output_type": "stream",
     "text": [
      " 73%|███████████████████████████████████████████████████████████████████████████████████████████████▍                                   | 4062/5578 [31:42<09:49,  2.57it/s]"
     ]
    },
    {
     "name": "stdout",
     "output_type": "stream",
     "text": [
      "Could not find readme for this link : https://github.com/microsoft/react-popout-component\n"
     ]
    },
    {
     "name": "stderr",
     "output_type": "stream",
     "text": [
      " 73%|███████████████████████████████████████████████████████████████████████████████████████████████▍                                   | 4063/5578 [31:42<09:29,  2.66it/s]"
     ]
    },
    {
     "name": "stdout",
     "output_type": "stream",
     "text": [
      "Could not find readme for this link : https://github.com/microsoft/react-swa-workshop-template\n"
     ]
    },
    {
     "name": "stderr",
     "output_type": "stream",
     "text": [
      " 73%|███████████████████████████████████████████████████████████████████████████████████████████████▍                                   | 4064/5578 [31:43<09:26,  2.67it/s]"
     ]
    },
    {
     "name": "stdout",
     "output_type": "stream",
     "text": [
      "Could not find readme for this link : https://github.com/microsoft/react-text-annotator\n"
     ]
    },
    {
     "name": "stderr",
     "output_type": "stream",
     "text": [
      " 73%|███████████████████████████████████████████████████████████████████████████████████████████████▍                                   | 4065/5578 [31:43<09:42,  2.60it/s]"
     ]
    },
    {
     "name": "stdout",
     "output_type": "stream",
     "text": [
      "Could not find readme for this link : https://github.com/microsoft/reacteverywhere\n"
     ]
    },
    {
     "name": "stderr",
     "output_type": "stream",
     "text": [
      " 73%|███████████████████████████████████████████████████████████████████████████████████████████████▍                                   | 4066/5578 [31:44<09:53,  2.55it/s]"
     ]
    },
    {
     "name": "stdout",
     "output_type": "stream",
     "text": [
      "Could not find readme for this link : https://github.com/microsoft/ReactiveMachine\n"
     ]
    },
    {
     "name": "stderr",
     "output_type": "stream",
     "text": [
      " 73%|███████████████████████████████████████████████████████████████████████████████████████████████▌                                   | 4067/5578 [31:44<09:33,  2.63it/s]"
     ]
    },
    {
     "name": "stdout",
     "output_type": "stream",
     "text": [
      "Could not find readme for this link : https://github.com/microsoft/ReactorPlanning\n"
     ]
    },
    {
     "name": "stderr",
     "output_type": "stream",
     "text": [
      " 73%|███████████████████████████████████████████████████████████████████████████████████████████████▌                                   | 4068/5578 [31:44<09:38,  2.61it/s]"
     ]
    },
    {
     "name": "stdout",
     "output_type": "stream",
     "text": [
      "Could not find readme for this link : https://github.com/microsoft/Reactors\n"
     ]
    },
    {
     "name": "stderr",
     "output_type": "stream",
     "text": [
      " 73%|███████████████████████████████████████████████████████████████████████████████████████████████▌                                   | 4069/5578 [31:45<09:40,  2.60it/s]"
     ]
    },
    {
     "name": "stdout",
     "output_type": "stream",
     "text": [
      "Could not find readme for this link : https://github.com/microsoft/ReactorSaoPaulo\n"
     ]
    },
    {
     "name": "stderr",
     "output_type": "stream",
     "text": [
      " 73%|███████████████████████████████████████████████████████████████████████████████████████████████▌                                   | 4070/5578 [31:45<09:50,  2.55it/s]"
     ]
    },
    {
     "name": "stdout",
     "output_type": "stream",
     "text": [
      "Could not find readme for this link : https://github.com/microsoft/ReactorShanghai\n"
     ]
    },
    {
     "name": "stderr",
     "output_type": "stream",
     "text": [
      " 73%|███████████████████████████████████████████████████████████████████████████████████████████████▌                                   | 4071/5578 [31:46<09:28,  2.65it/s]"
     ]
    },
    {
     "name": "stdout",
     "output_type": "stream",
     "text": [
      "Could not find readme for this link : https://github.com/microsoft/reactxp\n"
     ]
    },
    {
     "name": "stderr",
     "output_type": "stream",
     "text": [
      " 73%|███████████████████████████████████████████████████████████████████████████████████████████████▋                                   | 4072/5578 [31:46<09:23,  2.67it/s]"
     ]
    },
    {
     "name": "stdout",
     "output_type": "stream",
     "text": [
      "Could not find readme for this link : https://github.com/microsoft/real-time-blend-demo\n"
     ]
    },
    {
     "name": "stderr",
     "output_type": "stream",
     "text": [
      " 73%|███████████████████████████████████████████████████████████████████████████████████████████████▋                                   | 4073/5578 [31:46<09:02,  2.78it/s]"
     ]
    },
    {
     "name": "stdout",
     "output_type": "stream",
     "text": [
      "Could not find readme for this link : https://github.com/microsoft/real-time-filter-demo\n"
     ]
    },
    {
     "name": "stderr",
     "output_type": "stream",
     "text": [
      " 73%|███████████████████████████████████████████████████████████████████████████████████████████████▋                                   | 4074/5578 [31:47<09:11,  2.73it/s]"
     ]
    },
    {
     "name": "stdout",
     "output_type": "stream",
     "text": [
      "Could not find readme for this link : https://github.com/microsoft/reality-augmentation-using-cognitive-services\n"
     ]
    },
    {
     "name": "stderr",
     "output_type": "stream",
     "text": [
      " 73%|███████████████████████████████████████████████████████████████████████████████████████████████▋                                   | 4075/5578 [31:47<08:57,  2.80it/s]"
     ]
    },
    {
     "name": "stdout",
     "output_type": "stream",
     "text": [
      "Could not find readme for this link : https://github.com/microsoft/Recognizers-Text\n"
     ]
    },
    {
     "name": "stderr",
     "output_type": "stream",
     "text": [
      " 73%|███████████████████████████████████████████████████████████████████████████████████████████████▋                                   | 4076/5578 [31:47<09:40,  2.59it/s]"
     ]
    },
    {
     "name": "stdout",
     "output_type": "stream",
     "text": [
      "Could not find readme for this link : https://github.com/microsoft/recommenders\n"
     ]
    },
    {
     "name": "stderr",
     "output_type": "stream",
     "text": [
      " 73%|███████████████████████████████████████████████████████████████████████████████████████████████▋                                   | 4077/5578 [31:48<09:21,  2.67it/s]"
     ]
    },
    {
     "name": "stdout",
     "output_type": "stream",
     "text": [
      "Could not find readme for this link : https://github.com/microsoft/recommenders_engine_example_layout\n"
     ]
    },
    {
     "name": "stderr",
     "output_type": "stream",
     "text": [
      " 73%|███████████████████████████████████████████████████████████████████████████████████████████████▊                                   | 4078/5578 [31:48<09:38,  2.59it/s]"
     ]
    },
    {
     "name": "stdout",
     "output_type": "stream",
     "text": [
      "Could not find readme for this link : https://github.com/microsoft/reconner\n"
     ]
    },
    {
     "name": "stderr",
     "output_type": "stream",
     "text": [
      " 73%|███████████████████████████████████████████████████████████████████████████████████████████████▊                                   | 4079/5578 [31:49<09:48,  2.55it/s]"
     ]
    },
    {
     "name": "stdout",
     "output_type": "stream",
     "text": [
      "Could not find readme for this link : https://github.com/microsoft/recorder\n"
     ]
    },
    {
     "name": "stderr",
     "output_type": "stream",
     "text": [
      " 73%|███████████████████████████████████████████████████████████████████████████████████████████████▊                                   | 4080/5578 [31:49<10:02,  2.49it/s]"
     ]
    },
    {
     "name": "stdout",
     "output_type": "stream",
     "text": [
      "Could not find readme for this link : https://github.com/microsoft/Recurring-Integrations-Scheduler\n"
     ]
    },
    {
     "name": "stderr",
     "output_type": "stream",
     "text": [
      " 73%|███████████████████████████████████████████████████████████████████████████████████████████████▊                                   | 4081/5578 [31:49<09:59,  2.50it/s]"
     ]
    },
    {
     "name": "stdout",
     "output_type": "stream",
     "text": [
      "Could not find readme for this link : https://github.com/microsoft/Recursive-Cascaded-Networks\n"
     ]
    },
    {
     "name": "stderr",
     "output_type": "stream",
     "text": [
      " 73%|███████████████████████████████████████████████████████████████████████████████████████████████▊                                   | 4082/5578 [31:50<10:02,  2.48it/s]"
     ]
    },
    {
     "name": "stdout",
     "output_type": "stream",
     "text": [
      "Could not find readme for this link : https://github.com/microsoft/RecursiveExtractor\n"
     ]
    },
    {
     "name": "stderr",
     "output_type": "stream",
     "text": [
      " 73%|███████████████████████████████████████████████████████████████████████████████████████████████▉                                   | 4083/5578 [31:50<10:05,  2.47it/s]"
     ]
    },
    {
     "name": "stdout",
     "output_type": "stream",
     "text": [
      "Could not find readme for this link : https://github.com/microsoft/redhat-mw-cloud-quickstart\n"
     ]
    },
    {
     "name": "stderr",
     "output_type": "stream",
     "text": [
      " 73%|███████████████████████████████████████████████████████████████████████████████████████████████▉                                   | 4084/5578 [31:51<10:06,  2.46it/s]"
     ]
    },
    {
     "name": "stdout",
     "output_type": "stream",
     "text": [
      "Could not find readme for this link : https://github.com/microsoft/redie\n"
     ]
    },
    {
     "name": "stderr",
     "output_type": "stream",
     "text": [
      " 73%|███████████████████████████████████████████████████████████████████████████████████████████████▉                                   | 4085/5578 [31:51<10:08,  2.45it/s]"
     ]
    },
    {
     "name": "stdout",
     "output_type": "stream",
     "text": [
      "Could not find readme for this link : https://github.com/microsoft/redplex\n"
     ]
    },
    {
     "name": "stderr",
     "output_type": "stream",
     "text": [
      " 73%|███████████████████████████████████████████████████████████████████████████████████████████████▉                                   | 4086/5578 [31:51<10:08,  2.45it/s]"
     ]
    },
    {
     "name": "stdout",
     "output_type": "stream",
     "text": [
      "Could not find readme for this link : https://github.com/microsoft/redutil\n"
     ]
    },
    {
     "name": "stderr",
     "output_type": "stream",
     "text": [
      " 73%|███████████████████████████████████████████████████████████████████████████████████████████████▉                                   | 4087/5578 [31:52<10:08,  2.45it/s]"
     ]
    },
    {
     "name": "stdout",
     "output_type": "stream",
     "text": [
      "Could not find readme for this link : https://github.com/microsoft/redux-dag-history\n"
     ]
    },
    {
     "name": "stderr",
     "output_type": "stream",
     "text": [
      " 73%|████████████████████████████████████████████████████████████████████████████████████████████████                                   | 4088/5578 [31:52<10:15,  2.42it/s]"
     ]
    },
    {
     "name": "stdout",
     "output_type": "stream",
     "text": [
      "Could not find readme for this link : https://github.com/microsoft/redux-dynamic-modules\n"
     ]
    },
    {
     "name": "stderr",
     "output_type": "stream",
     "text": [
      " 73%|████████████████████████████████████████████████████████████████████████████████████████████████                                   | 4089/5578 [31:53<10:07,  2.45it/s]"
     ]
    },
    {
     "name": "stdout",
     "output_type": "stream",
     "text": [
      "Could not find readme for this link : https://github.com/microsoft/redux-micro-frontend\n"
     ]
    },
    {
     "name": "stderr",
     "output_type": "stream",
     "text": [
      " 73%|████████████████████████████████████████████████████████████████████████████████████████████████                                   | 4090/5578 [31:53<10:07,  2.45it/s]"
     ]
    },
    {
     "name": "stdout",
     "output_type": "stream",
     "text": [
      "Could not find readme for this link : https://github.com/microsoft/Reference-Guide-For-Quantum-Computing-A-Microsoft-Garage-Project\n"
     ]
    },
    {
     "name": "stderr",
     "output_type": "stream",
     "text": [
      " 73%|████████████████████████████████████████████████████████████████████████████████████████████████                                   | 4091/5578 [31:53<10:07,  2.45it/s]"
     ]
    },
    {
     "name": "stdout",
     "output_type": "stream",
     "text": [
      "Could not find readme for this link : https://github.com/microsoft/referencesource\n"
     ]
    },
    {
     "name": "stderr",
     "output_type": "stream",
     "text": [
      " 73%|████████████████████████████████████████████████████████████████████████████████████████████████                                   | 4092/5578 [31:54<10:08,  2.44it/s]"
     ]
    },
    {
     "name": "stdout",
     "output_type": "stream",
     "text": [
      "Could not find readme for this link : https://github.com/microsoft/refreshing-config\n"
     ]
    },
    {
     "name": "stderr",
     "output_type": "stream",
     "text": [
      " 73%|████████████████████████████████████████████████████████████████████████████████████████████████                                   | 4093/5578 [31:54<09:45,  2.53it/s]"
     ]
    },
    {
     "name": "stdout",
     "output_type": "stream",
     "text": [
      "Could not find readme for this link : https://github.com/microsoft/refreshing-config-redis\n"
     ]
    },
    {
     "name": "stderr",
     "output_type": "stream",
     "text": [
      " 73%|████████████████████████████████████████████████████████████████████████████████████████████████▏                                  | 4094/5578 [31:55<10:25,  2.37it/s]"
     ]
    },
    {
     "name": "stdout",
     "output_type": "stream",
     "text": [
      "Could not find readme for this link : https://github.com/microsoft/regexp-i18n\n"
     ]
    },
    {
     "name": "stderr",
     "output_type": "stream",
     "text": [
      " 73%|████████████████████████████████████████████████████████████████████████████████████████████████▏                                  | 4095/5578 [31:55<10:09,  2.43it/s]"
     ]
    },
    {
     "name": "stdout",
     "output_type": "stream",
     "text": [
      "Could not find readme for this link : https://github.com/microsoft/RegFree_WinRT\n"
     ]
    },
    {
     "name": "stderr",
     "output_type": "stream",
     "text": [
      " 73%|████████████████████████████████████████████████████████████████████████████████████████████████▏                                  | 4096/5578 [31:56<10:07,  2.44it/s]"
     ]
    },
    {
     "name": "stdout",
     "output_type": "stream",
     "text": [
      "Could not find readme for this link : https://github.com/microsoft/RegionCLIP\n"
     ]
    },
    {
     "name": "stderr",
     "output_type": "stream",
     "text": [
      " 73%|████████████████████████████████████████████████████████████████████████████████████████████████▏                                  | 4097/5578 [31:56<10:06,  2.44it/s]"
     ]
    },
    {
     "name": "stdout",
     "output_type": "stream",
     "text": [
      "Could not find readme for this link : https://github.com/microsoft/REGLA\n"
     ]
    },
    {
     "name": "stderr",
     "output_type": "stream",
     "text": [
      " 73%|████████████████████████████████████████████████████████████████████████████████████████████████▏                                  | 4098/5578 [31:56<10:05,  2.44it/s]"
     ]
    },
    {
     "name": "stdout",
     "output_type": "stream",
     "text": [
      "Could not find readme for this link : https://github.com/microsoft/rego-cpp\n"
     ]
    },
    {
     "name": "stderr",
     "output_type": "stream",
     "text": [
      " 73%|████████████████████████████████████████████████████████████████████████████████████████████████▎                                  | 4099/5578 [31:57<10:06,  2.44it/s]"
     ]
    },
    {
     "name": "stdout",
     "output_type": "stream",
     "text": [
      "Could not find readme for this link : https://github.com/microsoft/regorus\n"
     ]
    },
    {
     "name": "stderr",
     "output_type": "stream",
     "text": [
      " 74%|████████████████████████████████████████████████████████████████████████████████████████████████▎                                  | 4100/5578 [31:57<10:09,  2.43it/s]"
     ]
    },
    {
     "name": "stdout",
     "output_type": "stream",
     "text": [
      "Could not find readme for this link : https://github.com/microsoft/REINA\n"
     ]
    },
    {
     "name": "stderr",
     "output_type": "stream",
     "text": [
      " 74%|████████████████████████████████████████████████████████████████████████████████████████████████▎                                  | 4101/5578 [31:58<10:03,  2.45it/s]"
     ]
    },
    {
     "name": "stdout",
     "output_type": "stream",
     "text": [
      "Could not find readme for this link : https://github.com/microsoft/ReinMax\n"
     ]
    },
    {
     "name": "stderr",
     "output_type": "stream",
     "text": [
      " 74%|████████████████████████████████████████████████████████████████████████████████████████████████▎                                  | 4102/5578 [31:58<10:04,  2.44it/s]"
     ]
    },
    {
     "name": "stdout",
     "output_type": "stream",
     "text": [
      "Could not find readme for this link : https://github.com/microsoft/Relation-Aware-Global-Attention-Networks\n"
     ]
    },
    {
     "name": "stderr",
     "output_type": "stream",
     "text": [
      " 74%|████████████████████████████████████████████████████████████████████████████████████████████████▎                                  | 4103/5578 [31:58<10:03,  2.44it/s]"
     ]
    },
    {
     "name": "stdout",
     "output_type": "stream",
     "text": [
      "Could not find readme for this link : https://github.com/microsoft/RelationNet2\n"
     ]
    },
    {
     "name": "stderr",
     "output_type": "stream",
     "text": [
      " 74%|████████████████████████████████████████████████████████████████████████████████████████████████▍                                  | 4104/5578 [31:59<09:34,  2.56it/s]"
     ]
    },
    {
     "name": "stdout",
     "output_type": "stream",
     "text": [
      "Could not find readme for this link : https://github.com/microsoft/Relationship-Mesh-Solution-Accelerator-with-MGDC-and-Azure-Synapse-Analytics\n"
     ]
    },
    {
     "name": "stderr",
     "output_type": "stream",
     "text": [
      " 74%|████████████████████████████████████████████████████████████████████████████████████████████████▍                                  | 4105/5578 [31:59<09:09,  2.68it/s]"
     ]
    },
    {
     "name": "stdout",
     "output_type": "stream",
     "text": [
      "Could not find readme for this link : https://github.com/microsoft/release-helper\n"
     ]
    },
    {
     "name": "stderr",
     "output_type": "stream",
     "text": [
      " 74%|████████████████████████████████████████████████████████████████████████████████████████████████▍                                  | 4106/5578 [32:00<09:42,  2.53it/s]"
     ]
    },
    {
     "name": "stdout",
     "output_type": "stream",
     "text": [
      "Could not find readme for this link : https://github.com/microsoft/release-stats\n"
     ]
    },
    {
     "name": "stderr",
     "output_type": "stream",
     "text": [
      " 74%|████████████████████████████████████████████████████████████████████████████████████████████████▍                                  | 4107/5578 [32:00<09:19,  2.63it/s]"
     ]
    },
    {
     "name": "stdout",
     "output_type": "stream",
     "text": [
      "Could not find readme for this link : https://github.com/microsoft/release-util\n"
     ]
    },
    {
     "name": "stderr",
     "output_type": "stream",
     "text": [
      " 74%|████████████████████████████████████████████████████████████████████████████████████████████████▍                                  | 4108/5578 [32:00<09:16,  2.64it/s]"
     ]
    },
    {
     "name": "stdout",
     "output_type": "stream",
     "text": [
      "Could not find readme for this link : https://github.com/microsoft/reliableAI\n"
     ]
    },
    {
     "name": "stderr",
     "output_type": "stream",
     "text": [
      " 74%|████████████████████████████████████████████████████████████████████████████████████████████████▌                                  | 4109/5578 [32:01<09:28,  2.59it/s]"
     ]
    },
    {
     "name": "stdout",
     "output_type": "stream",
     "text": [
      "Could not find readme for this link : https://github.com/microsoft/Remote-Lab\n"
     ]
    },
    {
     "name": "stderr",
     "output_type": "stream",
     "text": [
      " 74%|████████████████████████████████████████████████████████████████████████████████████████████████▌                                  | 4110/5578 [32:01<09:41,  2.52it/s]"
     ]
    },
    {
     "name": "stdout",
     "output_type": "stream",
     "text": [
      "Could not find readme for this link : https://github.com/microsoft/remotebuild\n"
     ]
    },
    {
     "name": "stderr",
     "output_type": "stream",
     "text": [
      " 74%|████████████████████████████████████████████████████████████████████████████████████████████████▌                                  | 4111/5578 [32:01<09:42,  2.52it/s]"
     ]
    },
    {
     "name": "stdout",
     "output_type": "stream",
     "text": [
      "Could not find readme for this link : https://github.com/microsoft/RemoteDesktopSessionHostDSC.Reverse\n"
     ]
    },
    {
     "name": "stderr",
     "output_type": "stream",
     "text": [
      " 74%|████████████████████████████████████████████████████████████████████████████████████████████████▌                                  | 4112/5578 [32:02<09:48,  2.49it/s]"
     ]
    },
    {
     "name": "stdout",
     "output_type": "stream",
     "text": [
      "Could not find readme for this link : https://github.com/microsoft/rempl-graphql-devtools\n"
     ]
    },
    {
     "name": "stderr",
     "output_type": "stream",
     "text": [
      " 74%|████████████████████████████████████████████████████████████████████████████████████████████████▌                                  | 4113/5578 [32:02<09:51,  2.48it/s]"
     ]
    },
    {
     "name": "stdout",
     "output_type": "stream",
     "text": [
      "Could not find readme for this link : https://github.com/microsoft/renee\n"
     ]
    },
    {
     "name": "stderr",
     "output_type": "stream",
     "text": [
      " 74%|████████████████████████████████████████████████████████████████████████████████████████████████▌                                  | 4114/5578 [32:03<09:54,  2.46it/s]"
     ]
    },
    {
     "name": "stdout",
     "output_type": "stream",
     "text": [
      "Could not find readme for this link : https://github.com/microsoft/repo-templates\n"
     ]
    },
    {
     "name": "stderr",
     "output_type": "stream",
     "text": [
      " 74%|████████████████████████████████████████████████████████████████████████████████████████████████▋                                  | 4115/5578 [32:03<09:55,  2.46it/s]"
     ]
    },
    {
     "name": "stdout",
     "output_type": "stream",
     "text": [
      "Could not find readme for this link : https://github.com/microsoft/Reporting-Services\n"
     ]
    },
    {
     "name": "stderr",
     "output_type": "stream",
     "text": [
      " 74%|████████████████████████████████████████████████████████████████████████████████████████████████▋                                  | 4116/5578 [32:04<09:55,  2.46it/s]"
     ]
    },
    {
     "name": "stdout",
     "output_type": "stream",
     "text": [
      "Could not find readme for this link : https://github.com/microsoft/Reporting-Services-LoadTest\n"
     ]
    },
    {
     "name": "stderr",
     "output_type": "stream",
     "text": [
      " 74%|████████████████████████████████████████████████████████████████████████████████████████████████▋                                  | 4117/5578 [32:04<09:56,  2.45it/s]"
     ]
    },
    {
     "name": "stdout",
     "output_type": "stream",
     "text": [
      "Could not find readme for this link : https://github.com/microsoft/ReportingServicesTools\n"
     ]
    },
    {
     "name": "stderr",
     "output_type": "stream",
     "text": [
      " 74%|████████████████████████████████████████████████████████████████████████████████████████████████▋                                  | 4118/5578 [32:04<09:56,  2.45it/s]"
     ]
    },
    {
     "name": "stdout",
     "output_type": "stream",
     "text": [
      "Could not find readme for this link : https://github.com/microsoft/RepPoints\n"
     ]
    },
    {
     "name": "stderr",
     "output_type": "stream",
     "text": [
      " 74%|████████████████████████████████████████████████████████████████████████████████████████████████▋                                  | 4119/5578 [32:05<09:56,  2.44it/s]"
     ]
    },
    {
     "name": "stdout",
     "output_type": "stream",
     "text": [
      "Could not find readme for this link : https://github.com/microsoft/Requirements\n"
     ]
    },
    {
     "name": "stderr",
     "output_type": "stream",
     "text": [
      " 74%|████████████████████████████████████████████████████████████████████████████████████████████████▊                                  | 4120/5578 [32:05<09:57,  2.44it/s]"
     ]
    },
    {
     "name": "stdout",
     "output_type": "stream",
     "text": [
      "Could not find readme for this link : https://github.com/microsoft/ResiDual\n"
     ]
    },
    {
     "name": "stderr",
     "output_type": "stream",
     "text": [
      " 74%|████████████████████████████████████████████████████████████████████████████████████████████████▊                                  | 4121/5578 [32:06<09:56,  2.44it/s]"
     ]
    },
    {
     "name": "stdout",
     "output_type": "stream",
     "text": [
      "Could not find readme for this link : https://github.com/microsoft/resource-characteristics-health\n"
     ]
    },
    {
     "name": "stderr",
     "output_type": "stream",
     "text": [
      " 74%|████████████████████████████████████████████████████████████████████████████████████████████████▊                                  | 4122/5578 [32:06<09:56,  2.44it/s]"
     ]
    },
    {
     "name": "stdout",
     "output_type": "stream",
     "text": [
      "Could not find readme for this link : https://github.com/microsoft/Resource-Static-Analysis\n"
     ]
    },
    {
     "name": "stderr",
     "output_type": "stream",
     "text": [
      " 74%|████████████████████████████████████████████████████████████████████████████████████████████████▊                                  | 4123/5578 [32:06<09:55,  2.44it/s]"
     ]
    },
    {
     "name": "stdout",
     "output_type": "stream",
     "text": [
      "Could not find readme for this link : https://github.com/microsoft/RespireNet\n"
     ]
    },
    {
     "name": "stderr",
     "output_type": "stream",
     "text": [
      " 74%|████████████████████████████████████████████████████████████████████████████████████████████████▊                                  | 4124/5578 [32:07<09:55,  2.44it/s]"
     ]
    },
    {
     "name": "stdout",
     "output_type": "stream",
     "text": [
      "Could not find readme for this link : https://github.com/microsoft/responsible-ai-toolbox\n"
     ]
    },
    {
     "name": "stderr",
     "output_type": "stream",
     "text": [
      " 74%|████████████████████████████████████████████████████████████████████████████████████████████████▉                                  | 4125/5578 [32:07<09:50,  2.46it/s]"
     ]
    },
    {
     "name": "stdout",
     "output_type": "stream",
     "text": [
      "Could not find readme for this link : https://github.com/microsoft/responsible-ai-toolbox-genbit\n"
     ]
    },
    {
     "name": "stderr",
     "output_type": "stream",
     "text": [
      " 74%|████████████████████████████████████████████████████████████████████████████████████████████████▉                                  | 4126/5578 [32:08<09:20,  2.59it/s]"
     ]
    },
    {
     "name": "stdout",
     "output_type": "stream",
     "text": [
      "Could not find readme for this link : https://github.com/microsoft/responsible-ai-toolbox-mitigations\n"
     ]
    },
    {
     "name": "stderr",
     "output_type": "stream",
     "text": [
      " 74%|████████████████████████████████████████████████████████████████████████████████████████████████▉                                  | 4127/5578 [32:08<09:21,  2.59it/s]"
     ]
    },
    {
     "name": "stdout",
     "output_type": "stream",
     "text": [
      "Could not find readme for this link : https://github.com/microsoft/responsible-ai-toolbox-privacy\n"
     ]
    },
    {
     "name": "stderr",
     "output_type": "stream",
     "text": [
      " 74%|████████████████████████████████████████████████████████████████████████████████████████████████▉                                  | 4128/5578 [32:08<09:31,  2.54it/s]"
     ]
    },
    {
     "name": "stdout",
     "output_type": "stream",
     "text": [
      "Could not find readme for this link : https://github.com/microsoft/responsible-ai-toolbox-tracker\n"
     ]
    },
    {
     "name": "stderr",
     "output_type": "stream",
     "text": [
      " 74%|████████████████████████████████████████████████████████████████████████████████████████████████▉                                  | 4129/5578 [32:09<09:35,  2.52it/s]"
     ]
    },
    {
     "name": "stdout",
     "output_type": "stream",
     "text": [
      "Could not find readme for this link : https://github.com/microsoft/responsible-ai-workshop\n"
     ]
    },
    {
     "name": "stderr",
     "output_type": "stream",
     "text": [
      " 74%|████████████████████████████████████████████████████████████████████████████████████████████████▉                                  | 4130/5578 [32:09<09:41,  2.49it/s]"
     ]
    },
    {
     "name": "stdout",
     "output_type": "stream",
     "text": [
      "Could not find readme for this link : https://github.com/microsoft/rest-api-fuzz-testing\n"
     ]
    },
    {
     "name": "stderr",
     "output_type": "stream",
     "text": [
      " 74%|█████████████████████████████████████████████████████████████████████████████████████████████████                                  | 4131/5578 [32:09<09:03,  2.66it/s]"
     ]
    },
    {
     "name": "stdout",
     "output_type": "stream",
     "text": [
      "Could not find readme for this link : https://github.com/microsoft/restler-fuzzer\n"
     ]
    },
    {
     "name": "stderr",
     "output_type": "stream",
     "text": [
      " 74%|█████████████████████████████████████████████████████████████████████████████████████████████████                                  | 4132/5578 [32:10<08:46,  2.75it/s]"
     ]
    },
    {
     "name": "stdout",
     "output_type": "stream",
     "text": [
      "Could not find readme for this link : https://github.com/microsoft/ReSub\n"
     ]
    },
    {
     "name": "stderr",
     "output_type": "stream",
     "text": [
      " 74%|█████████████████████████████████████████████████████████████████████████████████████████████████                                  | 4133/5578 [32:10<08:26,  2.86it/s]"
     ]
    },
    {
     "name": "stdout",
     "output_type": "stream",
     "text": [
      "Could not find readme for this link : https://github.com/microsoft/RESX-Unused-Finder\n"
     ]
    },
    {
     "name": "stderr",
     "output_type": "stream",
     "text": [
      " 74%|█████████████████████████████████████████████████████████████████████████████████████████████████                                  | 4134/5578 [32:10<08:26,  2.85it/s]"
     ]
    },
    {
     "name": "stdout",
     "output_type": "stream",
     "text": [
      "Could not find readme for this link : https://github.com/microsoft/retrieval\n"
     ]
    },
    {
     "name": "stderr",
     "output_type": "stream",
     "text": [
      " 74%|█████████████████████████████████████████████████████████████████████████████████████████████████                                  | 4135/5578 [32:11<08:56,  2.69it/s]"
     ]
    },
    {
     "name": "stdout",
     "output_type": "stream",
     "text": [
      "Could not find readme for this link : https://github.com/microsoft/RetryOperationHelper\n"
     ]
    },
    {
     "name": "stderr",
     "output_type": "stream",
     "text": [
      " 74%|█████████████████████████████████████████████████████████████████████████████████████████████████▏                                 | 4136/5578 [32:11<09:11,  2.61it/s]"
     ]
    },
    {
     "name": "stdout",
     "output_type": "stream",
     "text": [
      "Could not find readme for this link : https://github.com/microsoft/reverse-proxy\n"
     ]
    },
    {
     "name": "stderr",
     "output_type": "stream",
     "text": [
      " 74%|█████████████████████████████████████████████████████████████████████████████████████████████████▏                                 | 4137/5578 [32:12<09:23,  2.56it/s]"
     ]
    },
    {
     "name": "stdout",
     "output_type": "stream",
     "text": [
      "Could not find readme for this link : https://github.com/microsoft/ReverseDNSGeolocation\n"
     ]
    },
    {
     "name": "stderr",
     "output_type": "stream",
     "text": [
      " 74%|█████████████████████████████████████████████████████████████████████████████████████████████████▏                                 | 4138/5578 [32:12<09:31,  2.52it/s]"
     ]
    },
    {
     "name": "stdout",
     "output_type": "stream",
     "text": [
      "Could not find readme for this link : https://github.com/microsoft/ReverseDSC\n"
     ]
    },
    {
     "name": "stderr",
     "output_type": "stream",
     "text": [
      " 74%|█████████████████████████████████████████████████████████████████████████████████████████████████▏                                 | 4139/5578 [32:13<09:37,  2.49it/s]"
     ]
    },
    {
     "name": "stdout",
     "output_type": "stream",
     "text": [
      "Could not find readme for this link : https://github.com/microsoft/RHSampling\n"
     ]
    },
    {
     "name": "stderr",
     "output_type": "stream",
     "text": [
      " 74%|█████████████████████████████████████████████████████████████████████████████████████████████████▏                                 | 4140/5578 [32:13<09:39,  2.48it/s]"
     ]
    },
    {
     "name": "stdout",
     "output_type": "stream",
     "text": [
      "Could not find readme for this link : https://github.com/microsoft/RichCodeNavIndexer\n"
     ]
    },
    {
     "name": "stderr",
     "output_type": "stream",
     "text": [
      " 74%|█████████████████████████████████████████████████████████████████████████████████████████████████▎                                 | 4141/5578 [32:13<10:26,  2.29it/s]"
     ]
    },
    {
     "name": "stdout",
     "output_type": "stream",
     "text": [
      "Could not find readme for this link : https://github.com/microsoft/ring-operator\n"
     ]
    },
    {
     "name": "stderr",
     "output_type": "stream",
     "text": [
      " 74%|█████████████████████████████████████████████████████████████████████████████████████████████████▎                                 | 4142/5578 [32:14<10:15,  2.33it/s]"
     ]
    },
    {
     "name": "stdout",
     "output_type": "stream",
     "text": [
      "Could not find readme for this link : https://github.com/microsoft/ringmaster\n"
     ]
    },
    {
     "name": "stderr",
     "output_type": "stream",
     "text": [
      " 74%|█████████████████████████████████████████████████████████████████████████████████████████████████▎                                 | 4143/5578 [32:14<10:09,  2.35it/s]"
     ]
    },
    {
     "name": "stdout",
     "output_type": "stream",
     "text": [
      "Could not find readme for this link : https://github.com/microsoft/RIoT\n"
     ]
    },
    {
     "name": "stderr",
     "output_type": "stream",
     "text": [
      " 74%|█████████████████████████████████████████████████████████████████████████████████████████████████▎                                 | 4144/5578 [32:15<09:58,  2.39it/s]"
     ]
    },
    {
     "name": "stdout",
     "output_type": "stream",
     "text": [
      "Could not find readme for this link : https://github.com/microsoft/ripgrep-prebuilt\n"
     ]
    },
    {
     "name": "stderr",
     "output_type": "stream",
     "text": [
      " 74%|█████████████████████████████████████████████████████████████████████████████████████████████████▎                                 | 4145/5578 [32:15<10:39,  2.24it/s]"
     ]
    },
    {
     "name": "stdout",
     "output_type": "stream",
     "text": [
      "Could not find readme for this link : https://github.com/microsoft/rise\n"
     ]
    },
    {
     "name": "stderr",
     "output_type": "stream",
     "text": [
      " 74%|█████████████████████████████████████████████████████████████████████████████████████████████████▎                                 | 4146/5578 [32:16<10:22,  2.30it/s]"
     ]
    },
    {
     "name": "stdout",
     "output_type": "stream",
     "text": [
      "Could not find readme for this link : https://github.com/microsoft/rl-offline-simulation\n"
     ]
    },
    {
     "name": "stderr",
     "output_type": "stream",
     "text": [
      " 74%|█████████████████████████████████████████████████████████████████████████████████████████████████▍                                 | 4147/5578 [32:16<10:11,  2.34it/s]"
     ]
    },
    {
     "name": "stdout",
     "output_type": "stream",
     "text": [
      "Could not find readme for this link : https://github.com/microsoft/rlingard-power-automate-docs\n"
     ]
    },
    {
     "name": "stderr",
     "output_type": "stream",
     "text": [
      " 74%|█████████████████████████████████████████████████████████████████████████████████████████████████▍                                 | 4148/5578 [32:16<10:05,  2.36it/s]"
     ]
    },
    {
     "name": "stdout",
     "output_type": "stream",
     "text": [
      "Could not find readme for this link : https://github.com/microsoft/rnx-kit\n"
     ]
    },
    {
     "name": "stderr",
     "output_type": "stream",
     "text": [
      " 74%|█████████████████████████████████████████████████████████████████████████████████████████████████▍                                 | 4149/5578 [32:17<09:58,  2.39it/s]"
     ]
    },
    {
     "name": "stdout",
     "output_type": "stream",
     "text": [
      "Could not find readme for this link : https://github.com/microsoft/RoadDetections\n"
     ]
    },
    {
     "name": "stderr",
     "output_type": "stream",
     "text": [
      " 74%|█████████████████████████████████████████████████████████████████████████████████████████████████▍                                 | 4150/5578 [32:17<09:52,  2.41it/s]"
     ]
    },
    {
     "name": "stdout",
     "output_type": "stream",
     "text": [
      "Could not find readme for this link : https://github.com/microsoft/robotics.pretraining.workshop.icra\n"
     ]
    },
    {
     "name": "stderr",
     "output_type": "stream",
     "text": [
      " 74%|█████████████████████████████████████████████████████████████████████████████████████████████████▍                                 | 4151/5578 [32:18<09:21,  2.54it/s]"
     ]
    },
    {
     "name": "stdout",
     "output_type": "stream",
     "text": [
      "Could not find readme for this link : https://github.com/microsoft/robust-models-transfer\n"
     ]
    },
    {
     "name": "stderr",
     "output_type": "stream",
     "text": [
      " 74%|█████████████████████████████████████████████████████████████████████████████████████████████████▌                                 | 4152/5578 [32:18<08:53,  2.67it/s]"
     ]
    },
    {
     "name": "stdout",
     "output_type": "stream",
     "text": [
      "Could not find readme for this link : https://github.com/microsoft/robustdg\n"
     ]
    },
    {
     "name": "stderr",
     "output_type": "stream",
     "text": [
      " 74%|█████████████████████████████████████████████████████████████████████████████████████████████████▌                                 | 4153/5578 [32:18<08:48,  2.69it/s]"
     ]
    },
    {
     "name": "stdout",
     "output_type": "stream",
     "text": [
      "Could not find readme for this link : https://github.com/microsoft/robustlearn\n"
     ]
    },
    {
     "name": "stderr",
     "output_type": "stream",
     "text": [
      " 74%|█████████████████████████████████████████████████████████████████████████████████████████████████▌                                 | 4154/5578 [32:19<10:29,  2.26it/s]"
     ]
    },
    {
     "name": "stdout",
     "output_type": "stream",
     "text": [
      "Could not find readme for this link : https://github.com/microsoft/RockPaperScissorsLizardSpock\n"
     ]
    },
    {
     "name": "stderr",
     "output_type": "stream",
     "text": [
      " 74%|█████████████████████████████████████████████████████████████████████████████████████████████████▌                                 | 4155/5578 [32:19<10:21,  2.29it/s]"
     ]
    },
    {
     "name": "stdout",
     "output_type": "stream",
     "text": [
      "Could not find readme for this link : https://github.com/microsoft/roman\n"
     ]
    },
    {
     "name": "stderr",
     "output_type": "stream",
     "text": [
      " 75%|█████████████████████████████████████████████████████████████████████████████████████████████████▌                                 | 4156/5578 [32:20<10:01,  2.36it/s]"
     ]
    },
    {
     "name": "stdout",
     "output_type": "stream",
     "text": [
      "Could not find readme for this link : https://github.com/microsoft/RoomAliveToolkit\n"
     ]
    },
    {
     "name": "stderr",
     "output_type": "stream",
     "text": [
      " 75%|█████████████████████████████████████████████████████████████████████████████████████████████████▋                                 | 4157/5578 [32:20<09:55,  2.39it/s]"
     ]
    },
    {
     "name": "stdout",
     "output_type": "stream",
     "text": [
      "Could not find readme for this link : https://github.com/microsoft/roosterjs\n"
     ]
    },
    {
     "name": "stderr",
     "output_type": "stream",
     "text": [
      " 75%|█████████████████████████████████████████████████████████████████████████████████████████████████▋                                 | 4158/5578 [32:21<09:50,  2.41it/s]"
     ]
    },
    {
     "name": "stdout",
     "output_type": "stream",
     "text": [
      "Could not find readme for this link : https://github.com/microsoft/roosterjs-react\n"
     ]
    },
    {
     "name": "stderr",
     "output_type": "stream",
     "text": [
      " 75%|█████████████████████████████████████████████████████████████████████████████████████████████████▋                                 | 4159/5578 [32:21<09:47,  2.41it/s]"
     ]
    },
    {
     "name": "stdout",
     "output_type": "stream",
     "text": [
      "Could not find readme for this link : https://github.com/microsoft/ROS-bonsai-connector\n"
     ]
    },
    {
     "name": "stderr",
     "output_type": "stream",
     "text": [
      " 75%|█████████████████████████████████████████████████████████████████████████████████████████████████▋                                 | 4160/5578 [32:21<09:44,  2.42it/s]"
     ]
    },
    {
     "name": "stdout",
     "output_type": "stream",
     "text": [
      "Could not find readme for this link : https://github.com/microsoft/Ros-Orchestration\n"
     ]
    },
    {
     "name": "stderr",
     "output_type": "stream",
     "text": [
      " 75%|█████████████████████████████████████████████████████████████████████████████████████████████████▋                                 | 4161/5578 [32:22<10:01,  2.35it/s]"
     ]
    },
    {
     "name": "stdout",
     "output_type": "stream",
     "text": [
      "Could not find readme for this link : https://github.com/microsoft/Ros-Simulation\n"
     ]
    },
    {
     "name": "stderr",
     "output_type": "stream",
     "text": [
      " 75%|█████████████████████████████████████████████████████████████████████████████████████████████████▋                                 | 4162/5578 [32:22<09:36,  2.46it/s]"
     ]
    },
    {
     "name": "stdout",
     "output_type": "stream",
     "text": [
      "Could not find readme for this link : https://github.com/microsoft/rosco\n"
     ]
    },
    {
     "name": "stderr",
     "output_type": "stream",
     "text": [
      " 75%|█████████████████████████████████████████████████████████████████████████████████████████████████▊                                 | 4163/5578 [32:23<09:37,  2.45it/s]"
     ]
    },
    {
     "name": "stdout",
     "output_type": "stream",
     "text": [
      "Could not find readme for this link : https://github.com/microsoft/rosettafold-azureml\n"
     ]
    },
    {
     "name": "stderr",
     "output_type": "stream",
     "text": [
      " 75%|█████████████████████████████████████████████████████████████████████████████████████████████████▊                                 | 4164/5578 [32:23<09:37,  2.45it/s]"
     ]
    },
    {
     "name": "stdout",
     "output_type": "stream",
     "text": [
      "Could not find readme for this link : https://github.com/microsoft/RoslynClrHeapAllocationAnalyzer\n"
     ]
    },
    {
     "name": "stderr",
     "output_type": "stream",
     "text": [
      " 75%|█████████████████████████████████████████████████████████████████████████████████████████████████▊                                 | 4165/5578 [32:23<09:37,  2.45it/s]"
     ]
    },
    {
     "name": "stdout",
     "output_type": "stream",
     "text": [
      "Could not find readme for this link : https://github.com/microsoft/Rosyln-Analyzer-ToStringWithoutOverride\n"
     ]
    },
    {
     "name": "stderr",
     "output_type": "stream",
     "text": [
      " 75%|█████████████████████████████████████████████████████████████████████████████████████████████████▊                                 | 4166/5578 [32:24<09:45,  2.41it/s]"
     ]
    },
    {
     "name": "stdout",
     "output_type": "stream",
     "text": [
      "Could not find readme for this link : https://github.com/microsoft/ros_azure_iothub\n"
     ]
    },
    {
     "name": "stderr",
     "output_type": "stream",
     "text": [
      " 75%|█████████████████████████████████████████████████████████████████████████████████████████████████▊                                 | 4167/5578 [32:24<09:34,  2.46it/s]"
     ]
    },
    {
     "name": "stdout",
     "output_type": "stream",
     "text": [
      "Could not find readme for this link : https://github.com/microsoft/ros_azure_iothub-release\n"
     ]
    },
    {
     "name": "stderr",
     "output_type": "stream",
     "text": [
      " 75%|█████████████████████████████████████████████████████████████████████████████████████████████████▉                                 | 4168/5578 [32:25<09:31,  2.47it/s]"
     ]
    },
    {
     "name": "stdout",
     "output_type": "stream",
     "text": [
      "Could not find readme for this link : https://github.com/microsoft/routeros-scanner\n"
     ]
    },
    {
     "name": "stderr",
     "output_type": "stream",
     "text": [
      " 75%|█████████████████████████████████████████████████████████████████████████████████████████████████▉                                 | 4169/5578 [32:25<09:08,  2.57it/s]"
     ]
    },
    {
     "name": "stdout",
     "output_type": "stream",
     "text": [
      "Could not find readme for this link : https://github.com/microsoft/rpagels-azuremapsdemo\n"
     ]
    },
    {
     "name": "stderr",
     "output_type": "stream",
     "text": [
      " 75%|█████████████████████████████████████████████████████████████████████████████████████████████████▉                                 | 4170/5578 [32:25<09:01,  2.60it/s]"
     ]
    },
    {
     "name": "stdout",
     "output_type": "stream",
     "text": [
      "Could not find readme for this link : https://github.com/microsoft/rpi-resources\n"
     ]
    },
    {
     "name": "stderr",
     "output_type": "stream",
     "text": [
      " 75%|█████████████████████████████████████████████████████████████████████████████████████████████████▉                                 | 4171/5578 [32:26<09:11,  2.55it/s]"
     ]
    },
    {
     "name": "stdout",
     "output_type": "stream",
     "text": [
      "Could not find readme for this link : https://github.com/microsoft/rpmoci\n"
     ]
    },
    {
     "name": "stderr",
     "output_type": "stream",
     "text": [
      " 75%|█████████████████████████████████████████████████████████████████████████████████████████████████▉                                 | 4172/5578 [32:26<09:19,  2.51it/s]"
     ]
    },
    {
     "name": "stdout",
     "output_type": "stream",
     "text": [
      "Could not find readme for this link : https://github.com/microsoft/RServer-for-HDInsight-example-CriteoDataSet\n"
     ]
    },
    {
     "name": "stderr",
     "output_type": "stream",
     "text": [
      " 75%|██████████████████████████████████████████████████████████████████████████████████████████████████                                 | 4173/5578 [32:27<09:29,  2.47it/s]"
     ]
    },
    {
     "name": "stdout",
     "output_type": "stream",
     "text": [
      "Could not find readme for this link : https://github.com/microsoft/rss-reader-wp\n"
     ]
    },
    {
     "name": "stderr",
     "output_type": "stream",
     "text": [
      " 75%|██████████████████████████████████████████████████████████████████████████████████████████████████                                 | 4174/5578 [32:27<10:08,  2.31it/s]"
     ]
    },
    {
     "name": "stdout",
     "output_type": "stream",
     "text": [
      "Could not find readme for this link : https://github.com/microsoft/RTVS\n"
     ]
    },
    {
     "name": "stderr",
     "output_type": "stream",
     "text": [
      " 75%|██████████████████████████████████████████████████████████████████████████████████████████████████                                 | 4175/5578 [32:27<09:58,  2.35it/s]"
     ]
    },
    {
     "name": "stdout",
     "output_type": "stream",
     "text": [
      "Could not find readme for this link : https://github.com/microsoft/RTVS-docs\n"
     ]
    },
    {
     "name": "stderr",
     "output_type": "stream",
     "text": [
      " 75%|██████████████████████████████████████████████████████████████████████████████████████████████████                                 | 4176/5578 [32:28<09:18,  2.51it/s]"
     ]
    },
    {
     "name": "stdout",
     "output_type": "stream",
     "text": [
      "Could not find readme for this link : https://github.com/microsoft/RTW-Rapid-Screening\n"
     ]
    },
    {
     "name": "stderr",
     "output_type": "stream",
     "text": [
      " 75%|██████████████████████████████████████████████████████████████████████████████████████████████████                                 | 4177/5578 [32:28<08:55,  2.62it/s]"
     ]
    },
    {
     "name": "stdout",
     "output_type": "stream",
     "text": [
      "Could not find readme for this link : https://github.com/microsoft/rudder\n"
     ]
    },
    {
     "name": "stderr",
     "output_type": "stream",
     "text": [
      " 75%|██████████████████████████████████████████████████████████████████████████████████████████████████                                 | 4178/5578 [32:29<09:31,  2.45it/s]"
     ]
    },
    {
     "name": "stdout",
     "output_type": "stream",
     "text": [
      "Could not find readme for this link : https://github.com/microsoft/RulesEngine\n"
     ]
    },
    {
     "name": "stderr",
     "output_type": "stream",
     "text": [
      " 75%|██████████████████████████████████████████████████████████████████████████████████████████████████▏                                | 4179/5578 [32:29<09:34,  2.44it/s]"
     ]
    },
    {
     "name": "stdout",
     "output_type": "stream",
     "text": [
      "Could not find readme for this link : https://github.com/microsoft/run-in-terminal\n"
     ]
    },
    {
     "name": "stderr",
     "output_type": "stream",
     "text": [
      " 75%|██████████████████████████████████████████████████████████████████████████████████████████████████▏                                | 4180/5578 [32:29<08:54,  2.61it/s]"
     ]
    },
    {
     "name": "stdout",
     "output_type": "stream",
     "text": [
      "Could not find readme for this link : https://github.com/microsoft/rural-crowdsourcing-toolkit\n"
     ]
    },
    {
     "name": "stderr",
     "output_type": "stream",
     "text": [
      " 75%|██████████████████████████████████████████████████████████████████████████████████████████████████▏                                | 4181/5578 [32:30<08:50,  2.63it/s]"
     ]
    },
    {
     "name": "stdout",
     "output_type": "stream",
     "text": [
      "Could not find readme for this link : https://github.com/microsoft/rural-crowdsourcing-toolkit-client\n"
     ]
    },
    {
     "name": "stderr",
     "output_type": "stream",
     "text": [
      " 75%|██████████████████████████████████████████████████████████████████████████████████████████████████▏                                | 4182/5578 [32:30<09:15,  2.51it/s]"
     ]
    },
    {
     "name": "stdout",
     "output_type": "stream",
     "text": [
      "Could not find readme for this link : https://github.com/microsoft/rush-example\n"
     ]
    },
    {
     "name": "stderr",
     "output_type": "stream",
     "text": [
      " 75%|██████████████████████████████████████████████████████████████████████████████████████████████████▏                                | 4183/5578 [32:31<09:05,  2.56it/s]"
     ]
    },
    {
     "name": "stdout",
     "output_type": "stream",
     "text": [
      "Could not find readme for this link : https://github.com/microsoft/rushjs.io-website\n"
     ]
    },
    {
     "name": "stderr",
     "output_type": "stream",
     "text": [
      " 75%|██████████████████████████████████████████████████████████████████████████████████████████████████▎                                | 4184/5578 [32:31<09:12,  2.52it/s]"
     ]
    },
    {
     "name": "stdout",
     "output_type": "stream",
     "text": [
      "Could not find readme for this link : https://github.com/microsoft/rushstack\n"
     ]
    },
    {
     "name": "stderr",
     "output_type": "stream",
     "text": [
      " 75%|██████████████████████████████████████████████████████████████████████████████████████████████████▎                                | 4185/5578 [32:31<08:45,  2.65it/s]"
     ]
    },
    {
     "name": "stdout",
     "output_type": "stream",
     "text": [
      "Could not find readme for this link : https://github.com/microsoft/rushstack-legacy\n"
     ]
    },
    {
     "name": "stderr",
     "output_type": "stream",
     "text": [
      " 75%|██████████████████████████████████████████████████████████████████████████████████████████████████▎                                | 4186/5578 [32:32<08:49,  2.63it/s]"
     ]
    },
    {
     "name": "stdout",
     "output_type": "stream",
     "text": [
      "Could not find readme for this link : https://github.com/microsoft/rushstack-samples\n"
     ]
    },
    {
     "name": "stderr",
     "output_type": "stream",
     "text": [
      " 75%|██████████████████████████████████████████████████████████████████████████████████████████████████▎                                | 4187/5578 [32:32<08:35,  2.70it/s]"
     ]
    },
    {
     "name": "stdout",
     "output_type": "stream",
     "text": [
      "Could not find readme for this link : https://github.com/microsoft/rushstack-websites\n"
     ]
    },
    {
     "name": "stderr",
     "output_type": "stream",
     "text": [
      " 75%|██████████████████████████████████████████████████████████████████████████████████████████████████▎                                | 4188/5578 [32:32<08:34,  2.70it/s]"
     ]
    },
    {
     "name": "stdout",
     "output_type": "stream",
     "text": [
      "Could not find readme for this link : https://github.com/microsoft/rushstack.io-website\n"
     ]
    },
    {
     "name": "stderr",
     "output_type": "stream",
     "text": [
      " 75%|██████████████████████████████████████████████████████████████████████████████████████████████████▍                                | 4189/5578 [32:33<08:50,  2.62it/s]"
     ]
    },
    {
     "name": "stdout",
     "output_type": "stream",
     "text": [
      "Could not find readme for this link : https://github.com/microsoft/rust-for-dotnet-devs\n"
     ]
    },
    {
     "name": "stderr",
     "output_type": "stream",
     "text": [
      " 75%|██████████████████████████████████████████████████████████████████████████████████████████████████▍                                | 4190/5578 [32:33<09:31,  2.43it/s]"
     ]
    },
    {
     "name": "stdout",
     "output_type": "stream",
     "text": [
      "Could not find readme for this link : https://github.com/microsoft/rust_debugger_test\n"
     ]
    },
    {
     "name": "stderr",
     "output_type": "stream",
     "text": [
      " 75%|██████████████████████████████████████████████████████████████████████████████████████████████████▍                                | 4191/5578 [32:34<09:42,  2.38it/s]"
     ]
    },
    {
     "name": "stdout",
     "output_type": "stream",
     "text": [
      "Could not find readme for this link : https://github.com/microsoft/rust_fallible_vec\n"
     ]
    },
    {
     "name": "stderr",
     "output_type": "stream",
     "text": [
      " 75%|██████████████████████████████████████████████████████████████████████████████████████████████████▍                                | 4192/5578 [32:34<09:37,  2.40it/s]"
     ]
    },
    {
     "name": "stdout",
     "output_type": "stream",
     "text": [
      "Could not find readme for this link : https://github.com/microsoft/rust_msvc_spectre_libs\n"
     ]
    },
    {
     "name": "stderr",
     "output_type": "stream",
     "text": [
      " 75%|██████████████████████████████████████████████████████████████████████████████████████████████████▍                                | 4193/5578 [32:35<09:35,  2.41it/s]"
     ]
    },
    {
     "name": "stdout",
     "output_type": "stream",
     "text": [
      "Could not find readme for this link : https://github.com/microsoft/rust_win_etw\n"
     ]
    },
    {
     "name": "stderr",
     "output_type": "stream",
     "text": [
      " 75%|██████████████████████████████████████████████████████████████████████████████████████████████████▍                                | 4194/5578 [32:35<09:35,  2.40it/s]"
     ]
    },
    {
     "name": "stdout",
     "output_type": "stream",
     "text": [
      "Could not find readme for this link : https://github.com/microsoft/RxKql\n"
     ]
    },
    {
     "name": "stderr",
     "output_type": "stream",
     "text": [
      " 75%|██████████████████████████████████████████████████████████████████████████████████████████████████▌                                | 4195/5578 [32:35<09:30,  2.42it/s]"
     ]
    },
    {
     "name": "stdout",
     "output_type": "stream",
     "text": [
      "Could not find readme for this link : https://github.com/microsoft/RxRelayJS\n"
     ]
    },
    {
     "name": "stderr",
     "output_type": "stream",
     "text": [
      " 75%|██████████████████████████████████████████████████████████████████████████████████████████████████▌                                | 4196/5578 [32:36<09:31,  2.42it/s]"
     ]
    },
    {
     "name": "stdout",
     "output_type": "stream",
     "text": [
      "Could not find readme for this link : https://github.com/microsoft/S2R-DepthNet\n"
     ]
    },
    {
     "name": "stderr",
     "output_type": "stream",
     "text": [
      " 75%|██████████████████████████████████████████████████████████████████████████████████████████████████▌                                | 4197/5578 [32:36<10:08,  2.27it/s]"
     ]
    },
    {
     "name": "stdout",
     "output_type": "stream",
     "text": [
      "Could not find readme for this link : https://github.com/microsoft/SA-Siam\n"
     ]
    },
    {
     "name": "stderr",
     "output_type": "stream",
     "text": [
      " 75%|██████████████████████████████████████████████████████████████████████████████████████████████████▌                                | 4198/5578 [32:37<09:58,  2.31it/s]"
     ]
    },
    {
     "name": "stdout",
     "output_type": "stream",
     "text": [
      "Could not find readme for this link : https://github.com/microsoft/SaaSApp-ContosoShopkeeper\n"
     ]
    },
    {
     "name": "stderr",
     "output_type": "stream",
     "text": [
      " 75%|██████████████████████████████████████████████████████████████████████████████████████████████████▌                                | 4199/5578 [32:37<09:44,  2.36it/s]"
     ]
    },
    {
     "name": "stdout",
     "output_type": "stream",
     "text": [
      "Could not find readme for this link : https://github.com/microsoft/saaslab\n"
     ]
    },
    {
     "name": "stderr",
     "output_type": "stream",
     "text": [
      " 75%|██████████████████████████████████████████████████████████████████████████████████████████████████▋                                | 4200/5578 [32:38<09:37,  2.39it/s]"
     ]
    },
    {
     "name": "stdout",
     "output_type": "stream",
     "text": [
      "Could not find readme for this link : https://github.com/microsoft/SAF\n"
     ]
    },
    {
     "name": "stderr",
     "output_type": "stream",
     "text": [
      " 75%|██████████████████████████████████████████████████████████████████████████████████████████████████▋                                | 4201/5578 [32:38<09:33,  2.40it/s]"
     ]
    },
    {
     "name": "stdout",
     "output_type": "stream",
     "text": [
      "Could not find readme for this link : https://github.com/microsoft/SafeNLP\n"
     ]
    },
    {
     "name": "stderr",
     "output_type": "stream",
     "text": [
      " 75%|██████████████████████████████████████████████████████████████████████████████████████████████████▋                                | 4202/5578 [32:38<09:29,  2.41it/s]"
     ]
    },
    {
     "name": "stdout",
     "output_type": "stream",
     "text": [
      "Could not find readme for this link : https://github.com/microsoft/sahay-app-toolkit\n"
     ]
    },
    {
     "name": "stderr",
     "output_type": "stream",
     "text": [
      " 75%|██████████████████████████████████████████████████████████████████████████████████████████████████▋                                | 4203/5578 [32:39<09:27,  2.42it/s]"
     ]
    },
    {
     "name": "stdout",
     "output_type": "stream",
     "text": [
      "Could not find readme for this link : https://github.com/microsoft/sails-hook-federalist-ms\n"
     ]
    },
    {
     "name": "stderr",
     "output_type": "stream",
     "text": [
      " 75%|██████████████████████████████████████████████████████████████████████████████████████████████████▋                                | 4204/5578 [32:39<10:13,  2.24it/s]"
     ]
    },
    {
     "name": "stdout",
     "output_type": "stream",
     "text": [
      "Could not find readme for this link : https://github.com/microsoft/same-ish\n"
     ]
    },
    {
     "name": "stderr",
     "output_type": "stream",
     "text": [
      " 75%|██████████████████████████████████████████████████████████████████████████████████████████████████▊                                | 4205/5578 [32:40<09:55,  2.31it/s]"
     ]
    },
    {
     "name": "stdout",
     "output_type": "stream",
     "text": [
      "Could not find readme for this link : https://github.com/microsoft/sample-app-aoai-chatGPT\n"
     ]
    },
    {
     "name": "stderr",
     "output_type": "stream",
     "text": [
      " 75%|██████████████████████████████████████████████████████████████████████████████████████████████████▊                                | 4206/5578 [32:40<09:22,  2.44it/s]"
     ]
    },
    {
     "name": "stdout",
     "output_type": "stream",
     "text": [
      "Could not find readme for this link : https://github.com/microsoft/sample-code\n"
     ]
    },
    {
     "name": "stderr",
     "output_type": "stream",
     "text": [
      " 75%|██████████████████████████████████████████████████████████████████████████████████████████████████▊                                | 4207/5578 [32:40<08:53,  2.57it/s]"
     ]
    },
    {
     "name": "stdout",
     "output_type": "stream",
     "text": [
      "Could not find readme for this link : https://github.com/microsoft/SampleCPMProject\n"
     ]
    },
    {
     "name": "stderr",
     "output_type": "stream",
     "text": [
      " 75%|██████████████████████████████████████████████████████████████████████████████████████████████████▊                                | 4208/5578 [32:41<08:25,  2.71it/s]"
     ]
    },
    {
     "name": "stdout",
     "output_type": "stream",
     "text": [
      "Could not find readme for this link : https://github.com/microsoft/samples-for-ai\n"
     ]
    },
    {
     "name": "stderr",
     "output_type": "stream",
     "text": [
      " 75%|██████████████████████████████████████████████████████████████████████████████████████████████████▊                                | 4209/5578 [32:41<08:41,  2.62it/s]"
     ]
    },
    {
     "name": "stdout",
     "output_type": "stream",
     "text": [
      "Could not find readme for this link : https://github.com/microsoft/SandboxSecurityTools\n"
     ]
    },
    {
     "name": "stderr",
     "output_type": "stream",
     "text": [
      " 75%|██████████████████████████████████████████████████████████████████████████████████████████████████▊                                | 4210/5578 [32:41<08:20,  2.74it/s]"
     ]
    },
    {
     "name": "stdout",
     "output_type": "stream",
     "text": [
      "Could not find readme for this link : https://github.com/microsoft/SandDance\n"
     ]
    },
    {
     "name": "stderr",
     "output_type": "stream",
     "text": [
      " 75%|██████████████████████████████████████████████████████████████████████████████████████████████████▉                                | 4211/5578 [32:42<08:28,  2.69it/s]"
     ]
    },
    {
     "name": "stdout",
     "output_type": "stream",
     "text": [
      "Could not find readme for this link : https://github.com/microsoft/SAPAzureSnooze\n"
     ]
    },
    {
     "name": "stderr",
     "output_type": "stream",
     "text": [
      " 76%|██████████████████████████████████████████████████████████████████████████████████████████████████▉                                | 4212/5578 [32:42<08:10,  2.79it/s]"
     ]
    },
    {
     "name": "stdout",
     "output_type": "stream",
     "text": [
      "Could not find readme for this link : https://github.com/microsoft/SAPTELEMETRY\n"
     ]
    },
    {
     "name": "stderr",
     "output_type": "stream",
     "text": [
      " 76%|██████████████████████████████████████████████████████████████████████████████████████████████████▉                                | 4213/5578 [32:42<07:54,  2.88it/s]"
     ]
    },
    {
     "name": "stdout",
     "output_type": "stream",
     "text": [
      "Could not find readme for this link : https://github.com/microsoft/SARA\n"
     ]
    },
    {
     "name": "stderr",
     "output_type": "stream",
     "text": [
      " 76%|██████████████████████████████████████████████████████████████████████████████████████████████████▉                                | 4214/5578 [32:43<08:16,  2.75it/s]"
     ]
    },
    {
     "name": "stdout",
     "output_type": "stream",
     "text": [
      "Could not find readme for this link : https://github.com/microsoft/sarif-actions\n"
     ]
    },
    {
     "name": "stderr",
     "output_type": "stream",
     "text": [
      " 76%|██████████████████████████████████████████████████████████████████████████████████████████████████▉                                | 4215/5578 [32:43<08:23,  2.71it/s]"
     ]
    },
    {
     "name": "stdout",
     "output_type": "stream",
     "text": [
      "Could not find readme for this link : https://github.com/microsoft/sarif-azuredevops-extension\n"
     ]
    },
    {
     "name": "stderr",
     "output_type": "stream",
     "text": [
      " 76%|███████████████████████████████████████████████████████████████████████████████████████████████████                                | 4216/5578 [32:44<08:40,  2.62it/s]"
     ]
    },
    {
     "name": "stdout",
     "output_type": "stream",
     "text": [
      "Could not find readme for this link : https://github.com/microsoft/sarif-azuredevops-extension-legacy\n"
     ]
    },
    {
     "name": "stderr",
     "output_type": "stream",
     "text": [
      " 76%|███████████████████████████████████████████████████████████████████████████████████████████████████                                | 4217/5578 [32:44<08:51,  2.56it/s]"
     ]
    },
    {
     "name": "stdout",
     "output_type": "stream",
     "text": [
      "Could not find readme for this link : https://github.com/microsoft/sarif-js-sdk\n"
     ]
    },
    {
     "name": "stderr",
     "output_type": "stream",
     "text": [
      " 76%|███████████████████████████████████████████████████████████████████████████████████████████████████                                | 4218/5578 [32:45<09:39,  2.35it/s]"
     ]
    },
    {
     "name": "stdout",
     "output_type": "stream",
     "text": [
      "Could not find readme for this link : https://github.com/microsoft/sarif-pattern-matcher\n"
     ]
    },
    {
     "name": "stderr",
     "output_type": "stream",
     "text": [
      " 76%|███████████████████████████████████████████████████████████████████████████████████████████████████                                | 4219/5578 [32:45<10:16,  2.21it/s]"
     ]
    },
    {
     "name": "stdout",
     "output_type": "stream",
     "text": [
      "Could not find readme for this link : https://github.com/microsoft/sarif-python-om\n"
     ]
    },
    {
     "name": "stderr",
     "output_type": "stream",
     "text": [
      " 76%|███████████████████████████████████████████████████████████████████████████████████████████████████                                | 4220/5578 [32:46<09:55,  2.28it/s]"
     ]
    },
    {
     "name": "stdout",
     "output_type": "stream",
     "text": [
      "Could not find readme for this link : https://github.com/microsoft/sarif-sdk\n"
     ]
    },
    {
     "name": "stderr",
     "output_type": "stream",
     "text": [
      " 76%|███████████████████████████████████████████████████████████████████████████████████████████████████▏                               | 4221/5578 [32:46<09:44,  2.32it/s]"
     ]
    },
    {
     "name": "stdout",
     "output_type": "stream",
     "text": [
      "Could not find readme for this link : https://github.com/microsoft/sarif-testing\n"
     ]
    },
    {
     "name": "stderr",
     "output_type": "stream",
     "text": [
      " 76%|███████████████████████████████████████████████████████████████████████████████████████████████████▏                               | 4222/5578 [32:46<09:35,  2.36it/s]"
     ]
    },
    {
     "name": "stdout",
     "output_type": "stream",
     "text": [
      "Could not find readme for this link : https://github.com/microsoft/sarif-tools\n"
     ]
    },
    {
     "name": "stderr",
     "output_type": "stream",
     "text": [
      " 76%|███████████████████████████████████████████████████████████████████████████████████████████████████▏                               | 4223/5578 [32:47<09:00,  2.51it/s]"
     ]
    },
    {
     "name": "stdout",
     "output_type": "stream",
     "text": [
      "Could not find readme for this link : https://github.com/microsoft/sarif-tutorials\n"
     ]
    },
    {
     "name": "stderr",
     "output_type": "stream",
     "text": [
      " 76%|███████████████████████████████████████████████████████████████████████████████████████████████████▏                               | 4224/5578 [32:47<09:29,  2.38it/s]"
     ]
    },
    {
     "name": "stdout",
     "output_type": "stream",
     "text": [
      "Could not find readme for this link : https://github.com/microsoft/sarif-visualstudio-extension\n"
     ]
    },
    {
     "name": "stderr",
     "output_type": "stream",
     "text": [
      " 76%|███████████████████████████████████████████████████████████████████████████████████████████████████▏                               | 4225/5578 [32:47<09:00,  2.50it/s]"
     ]
    },
    {
     "name": "stdout",
     "output_type": "stream",
     "text": [
      "Could not find readme for this link : https://github.com/microsoft/sarif-vscode-extension\n"
     ]
    },
    {
     "name": "stderr",
     "output_type": "stream",
     "text": [
      " 76%|███████████████████████████████████████████████████████████████████████████████████████████████████▏                               | 4226/5578 [32:48<08:52,  2.54it/s]"
     ]
    },
    {
     "name": "stdout",
     "output_type": "stream",
     "text": [
      "Could not find readme for this link : https://github.com/microsoft/sarif-web-component\n"
     ]
    },
    {
     "name": "stderr",
     "output_type": "stream",
     "text": [
      " 76%|███████████████████████████████████████████████████████████████████████████████████████████████████▎                               | 4227/5578 [32:48<08:55,  2.52it/s]"
     ]
    },
    {
     "name": "stdout",
     "output_type": "stream",
     "text": [
      "Could not find readme for this link : https://github.com/microsoft/sarif-website\n"
     ]
    },
    {
     "name": "stderr",
     "output_type": "stream",
     "text": [
      " 76%|███████████████████████████████████████████████████████████████████████████████████████████████████▎                               | 4228/5578 [32:49<09:01,  2.49it/s]"
     ]
    },
    {
     "name": "stdout",
     "output_type": "stream",
     "text": [
      "Could not find readme for this link : https://github.com/microsoft/sarifer\n"
     ]
    },
    {
     "name": "stderr",
     "output_type": "stream",
     "text": [
      " 76%|███████████████████████████████████████████████████████████████████████████████████████████████████▎                               | 4229/5578 [32:49<09:04,  2.48it/s]"
     ]
    },
    {
     "name": "stdout",
     "output_type": "stream",
     "text": [
      "Could not find readme for this link : https://github.com/microsoft/sarplus\n"
     ]
    },
    {
     "name": "stderr",
     "output_type": "stream",
     "text": [
      " 76%|███████████████████████████████████████████████████████████████████████████████████████████████████▎                               | 4230/5578 [32:50<09:05,  2.47it/s]"
     ]
    },
    {
     "name": "stdout",
     "output_type": "stream",
     "text": [
      "Could not find readme for this link : https://github.com/microsoft/SarTool\n"
     ]
    },
    {
     "name": "stderr",
     "output_type": "stream",
     "text": [
      " 76%|███████████████████████████████████████████████████████████████████████████████████████████████████▎                               | 4231/5578 [32:50<09:07,  2.46it/s]"
     ]
    },
    {
     "name": "stdout",
     "output_type": "stream",
     "text": [
      "Could not find readme for this link : https://github.com/microsoft/satcheljs\n"
     ]
    },
    {
     "name": "stderr",
     "output_type": "stream",
     "text": [
      " 76%|███████████████████████████████████████████████████████████████████████████████████████████████████▍                               | 4232/5578 [32:50<09:07,  2.46it/s]"
     ]
    },
    {
     "name": "stdout",
     "output_type": "stream",
     "text": [
      "Could not find readme for this link : https://github.com/microsoft/satcheljs-cookbook\n"
     ]
    },
    {
     "name": "stderr",
     "output_type": "stream",
     "text": [
      " 76%|███████████████████████████████████████████████████████████████████████████████████████████████████▍                               | 4233/5578 [32:51<09:08,  2.45it/s]"
     ]
    },
    {
     "name": "stdout",
     "output_type": "stream",
     "text": [
      "Could not find readme for this link : https://github.com/microsoft/satcheljs-todomvc\n"
     ]
    },
    {
     "name": "stderr",
     "output_type": "stream",
     "text": [
      " 76%|███████████████████████████████████████████████████████████████████████████████████████████████████▍                               | 4234/5578 [32:51<09:08,  2.45it/s]"
     ]
    },
    {
     "name": "stdout",
     "output_type": "stream",
     "text": [
      "Could not find readme for this link : https://github.com/microsoft/SATechnicalOnboarding\n"
     ]
    },
    {
     "name": "stderr",
     "output_type": "stream",
     "text": [
      " 76%|███████████████████████████████████████████████████████████████████████████████████████████████████▍                               | 4235/5578 [32:52<09:09,  2.44it/s]"
     ]
    },
    {
     "name": "stdout",
     "output_type": "stream",
     "text": [
      "Could not find readme for this link : https://github.com/microsoft/satellite-imagery-labeling-tool\n"
     ]
    },
    {
     "name": "stderr",
     "output_type": "stream",
     "text": [
      " 76%|███████████████████████████████████████████████████████████████████████████████████████████████████▍                               | 4236/5578 [32:52<09:51,  2.27it/s]"
     ]
    },
    {
     "name": "stdout",
     "output_type": "stream",
     "text": [
      "Could not find readme for this link : https://github.com/microsoft/sbom-tool\n"
     ]
    },
    {
     "name": "stderr",
     "output_type": "stream",
     "text": [
      " 76%|███████████████████████████████████████████████████████████████████████████████████████████████████▌                               | 4237/5578 [32:52<09:19,  2.39it/s]"
     ]
    },
    {
     "name": "stdout",
     "output_type": "stream",
     "text": [
      "Could not find readme for this link : https://github.com/microsoft/SC-APIs\n"
     ]
    },
    {
     "name": "stderr",
     "output_type": "stream",
     "text": [
      " 76%|███████████████████████████████████████████████████████████████████████████████████████████████████▌                               | 4238/5578 [32:53<08:40,  2.58it/s]"
     ]
    },
    {
     "name": "stdout",
     "output_type": "stream",
     "text": [
      "Could not find readme for this link : https://github.com/microsoft/sca-fuzzer\n"
     ]
    },
    {
     "name": "stderr",
     "output_type": "stream",
     "text": [
      " 76%|███████████████████████████████████████████████████████████████████████████████████████████████████▌                               | 4239/5578 [32:53<08:23,  2.66it/s]"
     ]
    },
    {
     "name": "stdout",
     "output_type": "stream",
     "text": [
      "Could not find readme for this link : https://github.com/microsoft/scala-style-download\n"
     ]
    },
    {
     "name": "stderr",
     "output_type": "stream",
     "text": [
      " 76%|███████████████████████████████████████████████████████████████████████████████████████████████████▌                               | 4240/5578 [32:53<08:32,  2.61it/s]"
     ]
    },
    {
     "name": "stdout",
     "output_type": "stream",
     "text": [
      "Could not find readme for this link : https://github.com/microsoft/Scalable-Infrastructure-for-Investigation-and-Incident-Response\n"
     ]
    },
    {
     "name": "stderr",
     "output_type": "stream",
     "text": [
      " 76%|███████████████████████████████████████████████████████████████████████████████████████████████████▌                               | 4241/5578 [32:54<08:41,  2.56it/s]"
     ]
    },
    {
     "name": "stdout",
     "output_type": "stream",
     "text": [
      "Could not find readme for this link : https://github.com/microsoft/scalar\n"
     ]
    },
    {
     "name": "stderr",
     "output_type": "stream",
     "text": [
      " 76%|███████████████████████████████████████████████████████████████████████████████████████████████████▌                               | 4242/5578 [32:54<08:50,  2.52it/s]"
     ]
    },
    {
     "name": "stdout",
     "output_type": "stream",
     "text": [
      "Could not find readme for this link : https://github.com/microsoft/scalastyle-validate\n"
     ]
    },
    {
     "name": "stderr",
     "output_type": "stream",
     "text": [
      " 76%|███████████████████████████████████████████████████████████████████████████████████████████████████▋                               | 4243/5578 [32:55<08:54,  2.50it/s]"
     ]
    },
    {
     "name": "stdout",
     "output_type": "stream",
     "text": [
      "Could not find readme for this link : https://github.com/microsoft/scala_torch\n"
     ]
    },
    {
     "name": "stderr",
     "output_type": "stream",
     "text": [
      " 76%|███████████████████████████████████████████████████████████████████████████████████████████████████▋                               | 4244/5578 [32:55<08:58,  2.48it/s]"
     ]
    },
    {
     "name": "stdout",
     "output_type": "stream",
     "text": [
      "Could not find readme for this link : https://github.com/microsoft/scan-utilities\n"
     ]
    },
    {
     "name": "stderr",
     "output_type": "stream",
     "text": [
      " 76%|███████████████████████████████████████████████████████████████████████████████████████████████████▋                               | 4245/5578 [32:55<08:33,  2.59it/s]"
     ]
    },
    {
     "name": "stdout",
     "output_type": "stream",
     "text": [
      "Could not find readme for this link : https://github.com/microsoft/SCAR\n"
     ]
    },
    {
     "name": "stderr",
     "output_type": "stream",
     "text": [
      " 76%|███████████████████████████████████████████████████████████████████████████████████████████████████▋                               | 4246/5578 [32:56<08:29,  2.61it/s]"
     ]
    },
    {
     "name": "stdout",
     "output_type": "stream",
     "text": [
      "Could not find readme for this link : https://github.com/microsoft/SceneLandmarkLocalization\n"
     ]
    },
    {
     "name": "stderr",
     "output_type": "stream",
     "text": [
      " 76%|███████████████████████████████████████████████████████████████████████████████████████████████████▋                               | 4247/5578 [32:56<09:01,  2.46it/s]"
     ]
    },
    {
     "name": "stdout",
     "output_type": "stream",
     "text": [
      "Could not find readme for this link : https://github.com/microsoft/scenepic\n"
     ]
    },
    {
     "name": "stderr",
     "output_type": "stream",
     "text": [
      " 76%|███████████████████████████████████████████████████████████████████████████████████████████████████▊                               | 4248/5578 [32:57<08:32,  2.59it/s]"
     ]
    },
    {
     "name": "stdout",
     "output_type": "stream",
     "text": [
      "Could not find readme for this link : https://github.com/microsoft/scene_graph_benchmark\n"
     ]
    },
    {
     "name": "stderr",
     "output_type": "stream",
     "text": [
      " 76%|███████████████████████████████████████████████████████████████████████████████████████████████████▊                               | 4249/5578 [32:57<10:09,  2.18it/s]"
     ]
    },
    {
     "name": "stdout",
     "output_type": "stream",
     "text": [
      "Could not find readme for this link : https://github.com/microsoft/SCGLab\n"
     ]
    },
    {
     "name": "stderr",
     "output_type": "stream",
     "text": [
      " 76%|███████████████████████████████████████████████████████████████████████████████████████████████████▊                               | 4250/5578 [32:58<09:17,  2.38it/s]"
     ]
    },
    {
     "name": "stdout",
     "output_type": "stream",
     "text": [
      "Could not find readme for this link : https://github.com/microsoft/SChannelDsc\n"
     ]
    },
    {
     "name": "stderr",
     "output_type": "stream",
     "text": [
      " 76%|███████████████████████████████████████████████████████████████████████████████████████████████████▊                               | 4251/5578 [32:58<09:05,  2.43it/s]"
     ]
    },
    {
     "name": "stdout",
     "output_type": "stream",
     "text": [
      "Could not find readme for this link : https://github.com/microsoft/SchemaGenerator\n"
     ]
    },
    {
     "name": "stderr",
     "output_type": "stream",
     "text": [
      " 76%|███████████████████████████████████████████████████████████████████████████████████████████████████▊                               | 4252/5578 [32:58<09:04,  2.44it/s]"
     ]
    },
    {
     "name": "stdout",
     "output_type": "stream",
     "text": [
      "Could not find readme for this link : https://github.com/microsoft/schemy\n"
     ]
    },
    {
     "name": "stderr",
     "output_type": "stream",
     "text": [
      " 76%|███████████████████████████████████████████████████████████████████████████████████████████████████▉                               | 4253/5578 [32:59<09:03,  2.44it/s]"
     ]
    },
    {
     "name": "stdout",
     "output_type": "stream",
     "text": [
      "Could not find readme for this link : https://github.com/microsoft/scim\n"
     ]
    },
    {
     "name": "stderr",
     "output_type": "stream",
     "text": [
      " 76%|███████████████████████████████████████████████████████████████████████████████████████████████████▉                               | 4254/5578 [32:59<09:02,  2.44it/s]"
     ]
    },
    {
     "name": "stdout",
     "output_type": "stream",
     "text": [
      "Could not find readme for this link : https://github.com/microsoft/scitt-ccf-ledger\n"
     ]
    },
    {
     "name": "stderr",
     "output_type": "stream",
     "text": [
      " 76%|███████████████████████████████████████████████████████████████████████████████████████████████████▉                               | 4255/5578 [33:00<09:01,  2.44it/s]"
     ]
    },
    {
     "name": "stdout",
     "output_type": "stream",
     "text": [
      "Could not find readme for this link : https://github.com/microsoft/SCMScaleUnitDevTools\n"
     ]
    },
    {
     "name": "stderr",
     "output_type": "stream",
     "text": [
      " 76%|███████████████████████████████████████████████████████████████████████████████████████████████████▉                               | 4256/5578 [33:00<09:01,  2.44it/s]"
     ]
    },
    {
     "name": "stdout",
     "output_type": "stream",
     "text": [
      "Could not find readme for this link : https://github.com/microsoft/SCOM_Rubrik_Monitoring\n"
     ]
    },
    {
     "name": "stderr",
     "output_type": "stream",
     "text": [
      " 76%|███████████████████████████████████████████████████████████████████████████████████████████████████▉                               | 4257/5578 [33:00<09:12,  2.39it/s]"
     ]
    },
    {
     "name": "stdout",
     "output_type": "stream",
     "text": [
      "Could not find readme for this link : https://github.com/microsoft/scopedbuildtool\n"
     ]
    },
    {
     "name": "stderr",
     "output_type": "stream",
     "text": [
      " 76%|███████████████████████████████████████████████████████████████████████████████████████████████████▉                               | 4258/5578 [33:01<08:43,  2.52it/s]"
     ]
    },
    {
     "name": "stdout",
     "output_type": "stream",
     "text": [
      "Could not find readme for this link : https://github.com/microsoft/scopestudio-vscode\n"
     ]
    },
    {
     "name": "stderr",
     "output_type": "stream",
     "text": [
      " 76%|████████████████████████████████████████████████████████████████████████████████████████████████████                               | 4259/5578 [33:01<09:02,  2.43it/s]"
     ]
    },
    {
     "name": "stdout",
     "output_type": "stream",
     "text": [
      "Could not find readme for this link : https://github.com/microsoft/SCoRE\n"
     ]
    },
    {
     "name": "stderr",
     "output_type": "stream",
     "text": [
      " 76%|████████████████████████████████████████████████████████████████████████████████████████████████████                               | 4260/5578 [33:02<09:03,  2.43it/s]"
     ]
    },
    {
     "name": "stdout",
     "output_type": "stream",
     "text": [
      "Could not find readme for this link : https://github.com/microsoft/screenshots-diff-toolkit\n"
     ]
    },
    {
     "name": "stderr",
     "output_type": "stream",
     "text": [
      " 76%|████████████████████████████████████████████████████████████████████████████████████████████████████                               | 4261/5578 [33:02<08:33,  2.56it/s]"
     ]
    },
    {
     "name": "stdout",
     "output_type": "stream",
     "text": [
      "Could not find readme for this link : https://github.com/microsoft/scsmcopyobject\n"
     ]
    },
    {
     "name": "stderr",
     "output_type": "stream",
     "text": [
      " 76%|████████████████████████████████████████████████████████████████████████████████████████████████████                               | 4262/5578 [33:02<08:23,  2.61it/s]"
     ]
    },
    {
     "name": "stdout",
     "output_type": "stream",
     "text": [
      "Could not find readme for this link : https://github.com/microsoft/scsmcsvconnector\n"
     ]
    },
    {
     "name": "stderr",
     "output_type": "stream",
     "text": [
      " 76%|████████████████████████████████████████████████████████████████████████████████████████████████████                               | 4263/5578 [33:03<08:17,  2.64it/s]"
     ]
    },
    {
     "name": "stdout",
     "output_type": "stream",
     "text": [
      "Could not find readme for this link : https://github.com/microsoft/scsmincidentsla\n"
     ]
    },
    {
     "name": "stderr",
     "output_type": "stream",
     "text": [
      " 76%|████████████████████████████████████████████████████████████████████████████████████████████████████▏                              | 4264/5578 [33:03<08:01,  2.73it/s]"
     ]
    },
    {
     "name": "stdout",
     "output_type": "stream",
     "text": [
      "Could not find readme for this link : https://github.com/microsoft/scsmperftestharness\n"
     ]
    },
    {
     "name": "stderr",
     "output_type": "stream",
     "text": [
      " 76%|████████████████████████████████████████████████████████████████████████████████████████████████████▏                              | 4265/5578 [33:04<08:25,  2.60it/s]"
     ]
    },
    {
     "name": "stdout",
     "output_type": "stream",
     "text": [
      "Could not find readme for this link : https://github.com/microsoft/scsmsendemail\n"
     ]
    },
    {
     "name": "stderr",
     "output_type": "stream",
     "text": [
      " 76%|████████████████████████████████████████████████████████████████████████████████████████████████████▏                              | 4266/5578 [33:04<09:17,  2.35it/s]"
     ]
    },
    {
     "name": "stdout",
     "output_type": "stream",
     "text": [
      "Could not find readme for this link : https://github.com/microsoft/scsmservicerequest\n"
     ]
    },
    {
     "name": "stderr",
     "output_type": "stream",
     "text": [
      " 76%|████████████████████████████████████████████████████████████████████████████████████████████████████▏                              | 4267/5578 [33:04<08:41,  2.52it/s]"
     ]
    },
    {
     "name": "stdout",
     "output_type": "stream",
     "text": [
      "Could not find readme for this link : https://github.com/microsoft/SCVMMLinuxGuestAgent\n"
     ]
    },
    {
     "name": "stderr",
     "output_type": "stream",
     "text": [
      " 77%|████████████████████████████████████████████████████████████████████████████████████████████████████▏                              | 4268/5578 [33:05<08:32,  2.56it/s]"
     ]
    },
    {
     "name": "stdout",
     "output_type": "stream",
     "text": [
      "Could not find readme for this link : https://github.com/microsoft/SCXcore\n"
     ]
    },
    {
     "name": "stderr",
     "output_type": "stream",
     "text": [
      " 77%|████████████████████████████████████████████████████████████████████████████████████████████████████▎                              | 4269/5578 [33:05<08:39,  2.52it/s]"
     ]
    },
    {
     "name": "stdout",
     "output_type": "stream",
     "text": [
      "Could not find readme for this link : https://github.com/microsoft/SCXcore-kits\n"
     ]
    },
    {
     "name": "stderr",
     "output_type": "stream",
     "text": [
      " 77%|████████████████████████████████████████████████████████████████████████████████████████████████████▎                              | 4270/5578 [33:06<08:43,  2.50it/s]"
     ]
    },
    {
     "name": "stdout",
     "output_type": "stream",
     "text": [
      "Could not find readme for this link : https://github.com/microsoft/SCXcore-osskits\n"
     ]
    },
    {
     "name": "stderr",
     "output_type": "stream",
     "text": [
      " 77%|████████████████████████████████████████████████████████████████████████████████████████████████████▎                              | 4271/5578 [33:06<08:46,  2.48it/s]"
     ]
    },
    {
     "name": "stdout",
     "output_type": "stream",
     "text": [
      "Could not find readme for this link : https://github.com/microsoft/SDCM\n"
     ]
    },
    {
     "name": "stderr",
     "output_type": "stream",
     "text": [
      " 77%|████████████████████████████████████████████████████████████████████████████████████████████████████▎                              | 4272/5578 [33:06<08:49,  2.47it/s]"
     ]
    },
    {
     "name": "stdout",
     "output_type": "stream",
     "text": [
      "Could not find readme for this link : https://github.com/microsoft/SDN\n"
     ]
    },
    {
     "name": "stderr",
     "output_type": "stream",
     "text": [
      " 77%|████████████████████████████████████████████████████████████████████████████████████████████████████▎                              | 4273/5578 [33:07<08:50,  2.46it/s]"
     ]
    },
    {
     "name": "stdout",
     "output_type": "stream",
     "text": [
      "Could not find readme for this link : https://github.com/microsoft/SdnDiagnostics\n"
     ]
    },
    {
     "name": "stderr",
     "output_type": "stream",
     "text": [
      " 77%|████████████████████████████████████████████████████████████████████████████████████████████████████▍                              | 4274/5578 [33:07<08:51,  2.45it/s]"
     ]
    },
    {
     "name": "stdout",
     "output_type": "stream",
     "text": [
      "Could not find readme for this link : https://github.com/microsoft/SDNet\n"
     ]
    },
    {
     "name": "stderr",
     "output_type": "stream",
     "text": [
      " 77%|████████████████████████████████████████████████████████████████████████████████████████████████████▍                              | 4275/5578 [33:08<09:30,  2.28it/s]"
     ]
    },
    {
     "name": "stdout",
     "output_type": "stream",
     "text": [
      "Could not find readme for this link : https://github.com/microsoft/SDR\n"
     ]
    },
    {
     "name": "stderr",
     "output_type": "stream",
     "text": [
      " 77%|████████████████████████████████████████████████████████████████████████████████████████████████████▍                              | 4276/5578 [33:08<09:20,  2.32it/s]"
     ]
    },
    {
     "name": "stdout",
     "output_type": "stream",
     "text": [
      "Could not find readme for this link : https://github.com/microsoft/SEAL\n"
     ]
    },
    {
     "name": "stderr",
     "output_type": "stream",
     "text": [
      " 77%|████████████████████████████████████████████████████████████████████████████████████████████████████▍                              | 4277/5578 [33:09<09:11,  2.36it/s]"
     ]
    },
    {
     "name": "stdout",
     "output_type": "stream",
     "text": [
      "Could not find readme for this link : https://github.com/microsoft/SEAL-Embedded\n"
     ]
    },
    {
     "name": "stderr",
     "output_type": "stream",
     "text": [
      " 77%|████████████████████████████████████████████████████████████████████████████████████████████████████▍                              | 4278/5578 [33:09<09:11,  2.36it/s]"
     ]
    },
    {
     "name": "stdout",
     "output_type": "stream",
     "text": [
      "Could not find readme for this link : https://github.com/microsoft/SealPIR\n"
     ]
    },
    {
     "name": "stderr",
     "output_type": "stream",
     "text": [
      " 77%|████████████████████████████████████████████████████████████████████████████████████████████████████▍                              | 4279/5578 [33:09<08:59,  2.41it/s]"
     ]
    },
    {
     "name": "stdout",
     "output_type": "stream",
     "text": [
      "Could not find readme for this link : https://github.com/microsoft/Search4Code\n"
     ]
    },
    {
     "name": "stderr",
     "output_type": "stream",
     "text": [
      " 77%|████████████████████████████████████████████████████████████████████████████████████████████████████▌                              | 4280/5578 [33:10<08:56,  2.42it/s]"
     ]
    },
    {
     "name": "stdout",
     "output_type": "stream",
     "text": [
      "Could not find readme for this link : https://github.com/microsoft/Seasons-of-Serverless\n"
     ]
    },
    {
     "name": "stderr",
     "output_type": "stream",
     "text": [
      " 77%|████████████████████████████████████████████████████████████████████████████████████████████████████▌                              | 4281/5578 [33:10<08:55,  2.42it/s]"
     ]
    },
    {
     "name": "stdout",
     "output_type": "stream",
     "text": [
      "Could not find readme for this link : https://github.com/microsoft/SecCon-Framework\n"
     ]
    },
    {
     "name": "stderr",
     "output_type": "stream",
     "text": [
      " 77%|████████████████████████████████████████████████████████████████████████████████████████████████████▌                              | 4282/5578 [33:11<08:26,  2.56it/s]"
     ]
    },
    {
     "name": "stdout",
     "output_type": "stream",
     "text": [
      "Could not find readme for this link : https://github.com/microsoft/secmgmt-insights-connector\n"
     ]
    },
    {
     "name": "stderr",
     "output_type": "stream",
     "text": [
      " 77%|████████████████████████████████████████████████████████████████████████████████████████████████████▌                              | 4283/5578 [33:11<08:10,  2.64it/s]"
     ]
    },
    {
     "name": "stdout",
     "output_type": "stream",
     "text": [
      "Could not find readme for this link : https://github.com/microsoft/secmgmt-open-powershell\n"
     ]
    },
    {
     "name": "stderr",
     "output_type": "stream",
     "text": [
      " 77%|████████████████████████████████████████████████████████████████████████████████████████████████████▌                              | 4284/5578 [33:11<08:33,  2.52it/s]"
     ]
    },
    {
     "name": "stdout",
     "output_type": "stream",
     "text": [
      "Could not find readme for this link : https://github.com/microsoft/SecSol-JP\n"
     ]
    },
    {
     "name": "stderr",
     "output_type": "stream",
     "text": [
      " 77%|████████████████████████████████████████████████████████████████████████████████████████████████████▋                              | 4285/5578 [33:12<08:36,  2.50it/s]"
     ]
    },
    {
     "name": "stdout",
     "output_type": "stream",
     "text": [
      "Could not find readme for this link : https://github.com/microsoft/secure-data-sandbox\n"
     ]
    },
    {
     "name": "stderr",
     "output_type": "stream",
     "text": [
      " 77%|████████████████████████████████████████████████████████████████████████████████████████████████████▋                              | 4286/5578 [33:12<08:39,  2.49it/s]"
     ]
    },
    {
     "name": "stdout",
     "output_type": "stream",
     "text": [
      "Could not find readme for this link : https://github.com/microsoft/Secure-Supply-Chain\n"
     ]
    },
    {
     "name": "stderr",
     "output_type": "stream",
     "text": [
      " 77%|████████████████████████████████████████████████████████████████████████████████████████████████████▋                              | 4287/5578 [33:13<08:42,  2.47it/s]"
     ]
    },
    {
     "name": "stdout",
     "output_type": "stream",
     "text": [
      "Could not find readme for this link : https://github.com/microsoft/SecureDeviceConnectionProtocol\n"
     ]
    },
    {
     "name": "stderr",
     "output_type": "stream",
     "text": [
      " 77%|████████████████████████████████████████████████████████████████████████████████████████████████████▋                              | 4288/5578 [33:13<08:41,  2.47it/s]"
     ]
    },
    {
     "name": "stdout",
     "output_type": "stream",
     "text": [
      "Could not find readme for this link : https://github.com/microsoft/security-devops-action\n"
     ]
    },
    {
     "name": "stderr",
     "output_type": "stream",
     "text": [
      " 77%|████████████████████████████████████████████████████████████████████████████████████████████████████▋                              | 4289/5578 [33:13<08:08,  2.64it/s]"
     ]
    },
    {
     "name": "stdout",
     "output_type": "stream",
     "text": [
      "Could not find readme for this link : https://github.com/microsoft/security-devops-actions-toolkit\n"
     ]
    },
    {
     "name": "stderr",
     "output_type": "stream",
     "text": [
      " 77%|████████████████████████████████████████████████████████████████████████████████████████████████████▊                              | 4290/5578 [33:14<08:17,  2.59it/s]"
     ]
    },
    {
     "name": "stdout",
     "output_type": "stream",
     "text": [
      "Could not find readme for this link : https://github.com/microsoft/security-devops-azdevops\n"
     ]
    },
    {
     "name": "stderr",
     "output_type": "stream",
     "text": [
      " 77%|████████████████████████████████████████████████████████████████████████████████████████████████████▊                              | 4291/5578 [33:14<08:25,  2.55it/s]"
     ]
    },
    {
     "name": "stdout",
     "output_type": "stream",
     "text": [
      "Could not find readme for this link : https://github.com/microsoft/security-devops-azdevops-task-lib\n"
     ]
    },
    {
     "name": "stderr",
     "output_type": "stream",
     "text": [
      " 77%|████████████████████████████████████████████████████████████████████████████████████████████████████▊                              | 4292/5578 [33:14<08:32,  2.51it/s]"
     ]
    },
    {
     "name": "stdout",
     "output_type": "stream",
     "text": [
      "Could not find readme for this link : https://github.com/microsoft/security-devops-policy\n"
     ]
    },
    {
     "name": "stderr",
     "output_type": "stream",
     "text": [
      " 77%|████████████████████████████████████████████████████████████████████████████████████████████████████▊                              | 4293/5578 [33:15<08:36,  2.49it/s]"
     ]
    },
    {
     "name": "stdout",
     "output_type": "stream",
     "text": [
      "Could not find readme for this link : https://github.com/microsoft/security-devops-rules\n"
     ]
    },
    {
     "name": "stderr",
     "output_type": "stream",
     "text": [
      " 77%|████████████████████████████████████████████████████████████████████████████████████████████████████▊                              | 4294/5578 [33:15<08:39,  2.47it/s]"
     ]
    },
    {
     "name": "stdout",
     "output_type": "stream",
     "text": [
      "Could not find readme for this link : https://github.com/microsoft/security-devops-samples\n"
     ]
    },
    {
     "name": "stderr",
     "output_type": "stream",
     "text": [
      " 77%|████████████████████████████████████████████████████████████████████████████████████████████████████▊                              | 4295/5578 [33:16<09:21,  2.28it/s]"
     ]
    },
    {
     "name": "stdout",
     "output_type": "stream",
     "text": [
      "Could not find readme for this link : https://github.com/microsoft/security-utilities\n"
     ]
    },
    {
     "name": "stderr",
     "output_type": "stream",
     "text": [
      " 77%|████████████████████████████████████████████████████████████████████████████████████████████████████▉                              | 4296/5578 [33:16<09:09,  2.33it/s]"
     ]
    },
    {
     "name": "stdout",
     "output_type": "stream",
     "text": [
      "Could not find readme for this link : https://github.com/microsoft/securitydev\n"
     ]
    },
    {
     "name": "stderr",
     "output_type": "stream",
     "text": [
      " 77%|████████████████████████████████████████████████████████████████████████████████████████████████████▉                              | 4297/5578 [33:17<09:00,  2.37it/s]"
     ]
    },
    {
     "name": "stdout",
     "output_type": "stream",
     "text": [
      "Could not find readme for this link : https://github.com/microsoft/SEED-Encoder\n"
     ]
    },
    {
     "name": "stderr",
     "output_type": "stream",
     "text": [
      " 77%|████████████████████████████████████████████████████████████████████████████████████████████████████▉                              | 4298/5578 [33:17<08:56,  2.39it/s]"
     ]
    },
    {
     "name": "stdout",
     "output_type": "stream",
     "text": [
      "Could not find readme for this link : https://github.com/microsoft/SeeingVRtoolkit\n"
     ]
    },
    {
     "name": "stderr",
     "output_type": "stream",
     "text": [
      " 77%|████████████████████████████████████████████████████████████████████████████████████████████████████▉                              | 4299/5578 [33:17<08:55,  2.39it/s]"
     ]
    },
    {
     "name": "stdout",
     "output_type": "stream",
     "text": [
      "Could not find readme for this link : https://github.com/microsoft/segar\n"
     ]
    },
    {
     "name": "stderr",
     "output_type": "stream",
     "text": [
      " 77%|████████████████████████████████████████████████████████████████████████████████████████████████████▉                              | 4300/5578 [33:18<08:15,  2.58it/s]"
     ]
    },
    {
     "name": "stdout",
     "output_type": "stream",
     "text": [
      "Could not find readme for this link : https://github.com/microsoft/seismic-deeplearning\n"
     ]
    },
    {
     "name": "stderr",
     "output_type": "stream",
     "text": [
      " 77%|█████████████████████████████████████████████████████████████████████████████████████████████████████                              | 4301/5578 [33:18<07:55,  2.69it/s]"
     ]
    },
    {
     "name": "stdout",
     "output_type": "stream",
     "text": [
      "Could not find readme for this link : https://github.com/microsoft/Selawik\n"
     ]
    },
    {
     "name": "stderr",
     "output_type": "stream",
     "text": [
      " 77%|█████████████████████████████████████████████████████████████████████████████████████████████████████                              | 4302/5578 [33:18<07:53,  2.70it/s]"
     ]
    },
    {
     "name": "stdout",
     "output_type": "stream",
     "text": [
      "Could not find readme for this link : https://github.com/microsoft/SelfTune\n"
     ]
    },
    {
     "name": "stderr",
     "output_type": "stream",
     "text": [
      " 77%|█████████████████████████████████████████████████████████████████████████████████████████████████████                              | 4303/5578 [33:19<08:07,  2.62it/s]"
     ]
    },
    {
     "name": "stdout",
     "output_type": "stream",
     "text": [
      "Could not find readme for this link : https://github.com/microsoft/semantic-kernel\n"
     ]
    },
    {
     "name": "stderr",
     "output_type": "stream",
     "text": [
      " 77%|█████████████████████████████████████████████████████████████████████████████████████████████████████                              | 4304/5578 [33:19<07:49,  2.71it/s]"
     ]
    },
    {
     "name": "stdout",
     "output_type": "stream",
     "text": [
      "Could not find readme for this link : https://github.com/microsoft/semantic-kernel-starters\n"
     ]
    },
    {
     "name": "stderr",
     "output_type": "stream",
     "text": [
      " 77%|█████████████████████████████████████████████████████████████████████████████████████████████████████                              | 4305/5578 [33:20<07:48,  2.72it/s]"
     ]
    },
    {
     "name": "stdout",
     "output_type": "stream",
     "text": [
      "Could not find readme for this link : https://github.com/microsoft/Semantics-Aligned-Representation-Learning-for-Person-Re-identification\n"
     ]
    },
    {
     "name": "stderr",
     "output_type": "stream",
     "text": [
      " 77%|█████████████████████████████████████████████████████████████████████████████████████████████████████▏                             | 4306/5578 [33:20<08:07,  2.61it/s]"
     ]
    },
    {
     "name": "stdout",
     "output_type": "stream",
     "text": [
      "Could not find readme for this link : https://github.com/microsoft/semantic_parsing_with_constrained_lm\n"
     ]
    },
    {
     "name": "stderr",
     "output_type": "stream",
     "text": [
      " 77%|█████████████████████████████████████████████████████████████████████████████████████████████████████▏                             | 4307/5578 [33:20<08:22,  2.53it/s]"
     ]
    },
    {
     "name": "stdout",
     "output_type": "stream",
     "text": [
      "Could not find readme for this link : https://github.com/microsoft/Semi-supervised-learning\n"
     ]
    },
    {
     "name": "stderr",
     "output_type": "stream",
     "text": [
      " 77%|█████████████████████████████████████████████████████████████████████████████████████████████████████▏                             | 4308/5578 [33:21<08:22,  2.53it/s]"
     ]
    },
    {
     "name": "stdout",
     "output_type": "stream",
     "text": [
      "Could not find readme for this link : https://github.com/microsoft/semiparametric-distillation\n"
     ]
    },
    {
     "name": "stderr",
     "output_type": "stream",
     "text": [
      " 77%|█████████████████████████████████████████████████████████████████████████████████████████████████████▏                             | 4309/5578 [33:21<08:26,  2.50it/s]"
     ]
    },
    {
     "name": "stdout",
     "output_type": "stream",
     "text": [
      "Could not find readme for this link : https://github.com/microsoft/semver-umd\n"
     ]
    },
    {
     "name": "stderr",
     "output_type": "stream",
     "text": [
      " 77%|█████████████████████████████████████████████████████████████████████████████████████████████████████▏                             | 4310/5578 [33:22<08:35,  2.46it/s]"
     ]
    },
    {
     "name": "stdout",
     "output_type": "stream",
     "text": [
      "Could not find readme for this link : https://github.com/microsoft/sensus\n"
     ]
    },
    {
     "name": "stderr",
     "output_type": "stream",
     "text": [
      " 77%|█████████████████████████████████████████████████████████████████████████████████████████████████████▏                             | 4311/5578 [33:22<08:32,  2.47it/s]"
     ]
    },
    {
     "name": "stdout",
     "output_type": "stream",
     "text": [
      "Could not find readme for this link : https://github.com/microsoft/sentinel-as-code\n"
     ]
    },
    {
     "name": "stderr",
     "output_type": "stream",
     "text": [
      " 77%|█████████████████████████████████████████████████████████████████████████████████████████████████████▎                             | 4312/5578 [33:22<08:33,  2.47it/s]"
     ]
    },
    {
     "name": "stdout",
     "output_type": "stream",
     "text": [
      "Could not find readme for this link : https://github.com/microsoft/seq-format-conversion-azure\n"
     ]
    },
    {
     "name": "stderr",
     "output_type": "stream",
     "text": [
      " 77%|█████████████████████████████████████████████████████████████████████████████████████████████████████▎                             | 4313/5578 [33:23<08:20,  2.53it/s]"
     ]
    },
    {
     "name": "stdout",
     "output_type": "stream",
     "text": [
      "Could not find readme for this link : https://github.com/microsoft/SeqML\n"
     ]
    },
    {
     "name": "stderr",
     "output_type": "stream",
     "text": [
      " 77%|█████████████████████████████████████████████████████████████████████████████████████████████████████▎                             | 4314/5578 [33:23<08:14,  2.56it/s]"
     ]
    },
    {
     "name": "stdout",
     "output_type": "stream",
     "text": [
      "Could not find readme for this link : https://github.com/microsoft/seqrecord\n"
     ]
    },
    {
     "name": "stderr",
     "output_type": "stream",
     "text": [
      " 77%|█████████████████████████████████████████████████████████████████████████████████████████████████████▎                             | 4315/5578 [33:24<07:48,  2.70it/s]"
     ]
    },
    {
     "name": "stdout",
     "output_type": "stream",
     "text": [
      "Could not find readme for this link : https://github.com/microsoft/serial-monitor-cli\n"
     ]
    },
    {
     "name": "stderr",
     "output_type": "stream",
     "text": [
      " 77%|█████████████████████████████████████████████████████████████████████████████████████████████████████▎                             | 4316/5578 [33:24<08:22,  2.51it/s]"
     ]
    },
    {
     "name": "stdout",
     "output_type": "stream",
     "text": [
      "Could not find readme for this link : https://github.com/microsoft/Server-Info\n"
     ]
    },
    {
     "name": "stderr",
     "output_type": "stream",
     "text": [
      " 77%|█████████████████████████████████████████████████████████████████████████████████████████████████████▍                             | 4317/5578 [33:24<08:24,  2.50it/s]"
     ]
    },
    {
     "name": "stdout",
     "output_type": "stream",
     "text": [
      "Could not find readme for this link : https://github.com/microsoft/service-fabric\n"
     ]
    },
    {
     "name": "stderr",
     "output_type": "stream",
     "text": [
      " 77%|█████████████████████████████████████████████████████████████████████████████████████████████████████▍                             | 4318/5578 [33:25<08:28,  2.48it/s]"
     ]
    },
    {
     "name": "stdout",
     "output_type": "stream",
     "text": [
      "Could not find readme for this link : https://github.com/microsoft/Service-Fabric-AppDRTool\n"
     ]
    },
    {
     "name": "stderr",
     "output_type": "stream",
     "text": [
      " 77%|█████████████████████████████████████████████████████████████████████████████████████████████████████▍                             | 4319/5578 [33:25<08:29,  2.47it/s]"
     ]
    },
    {
     "name": "stdout",
     "output_type": "stream",
     "text": [
      "Could not find readme for this link : https://github.com/microsoft/service-fabric-aspnetcore\n"
     ]
    },
    {
     "name": "stderr",
     "output_type": "stream",
     "text": [
      " 77%|█████████████████████████████████████████████████████████████████████████████████████████████████████▍                             | 4320/5578 [33:26<09:03,  2.31it/s]"
     ]
    },
    {
     "name": "stdout",
     "output_type": "stream",
     "text": [
      "Could not find readme for this link : https://github.com/microsoft/service-fabric-backup-explorer\n"
     ]
    },
    {
     "name": "stderr",
     "output_type": "stream",
     "text": [
      " 77%|█████████████████████████████████████████████████████████████████████████████████████████████████████▍                             | 4321/5578 [33:26<09:01,  2.32it/s]"
     ]
    },
    {
     "name": "stdout",
     "output_type": "stream",
     "text": [
      "Could not find readme for this link : https://github.com/microsoft/service-fabric-cli\n"
     ]
    },
    {
     "name": "stderr",
     "output_type": "stream",
     "text": [
      " 77%|█████████████████████████████████████████████████████████████████████████████████████████████████████▌                             | 4322/5578 [33:27<08:56,  2.34it/s]"
     ]
    },
    {
     "name": "stdout",
     "output_type": "stream",
     "text": [
      "Could not find readme for this link : https://github.com/microsoft/service-fabric-client-dotnet\n"
     ]
    },
    {
     "name": "stderr",
     "output_type": "stream",
     "text": [
      " 78%|█████████████████████████████████████████████████████████████████████████████████████████████████████▌                             | 4323/5578 [33:27<08:46,  2.38it/s]"
     ]
    },
    {
     "name": "stdout",
     "output_type": "stream",
     "text": [
      "Could not find readme for this link : https://github.com/microsoft/service-fabric-explorer\n"
     ]
    },
    {
     "name": "stderr",
     "output_type": "stream",
     "text": [
      " 78%|█████████████████████████████████████████████████████████████████████████████████████████████████████▌                             | 4324/5578 [33:27<08:42,  2.40it/s]"
     ]
    },
    {
     "name": "stdout",
     "output_type": "stream",
     "text": [
      "Could not find readme for this link : https://github.com/microsoft/service-fabric-healer\n"
     ]
    },
    {
     "name": "stderr",
     "output_type": "stream",
     "text": [
      " 78%|█████████████████████████████████████████████████████████████████████████████████████████████████████▌                             | 4325/5578 [33:28<08:38,  2.41it/s]"
     ]
    },
    {
     "name": "stdout",
     "output_type": "stream",
     "text": [
      "Could not find readme for this link : https://github.com/microsoft/service-fabric-issues\n"
     ]
    },
    {
     "name": "stderr",
     "output_type": "stream",
     "text": [
      " 78%|█████████████████████████████████████████████████████████████████████████████████████████████████████▌                             | 4326/5578 [33:28<08:36,  2.43it/s]"
     ]
    },
    {
     "name": "stdout",
     "output_type": "stream",
     "text": [
      "Could not find readme for this link : https://github.com/microsoft/service-fabric-linux-vagrant-onebox\n"
     ]
    },
    {
     "name": "stderr",
     "output_type": "stream",
     "text": [
      " 78%|█████████████████████████████████████████████████████████████████████████████████████████████████████▌                             | 4327/5578 [33:29<08:35,  2.43it/s]"
     ]
    },
    {
     "name": "stdout",
     "output_type": "stream",
     "text": [
      "Could not find readme for this link : https://github.com/microsoft/service-fabric-observer\n"
     ]
    },
    {
     "name": "stderr",
     "output_type": "stream",
     "text": [
      " 78%|█████████████████████████████████████████████████████████████████████████████████████████████████████▋                             | 4328/5578 [33:29<08:35,  2.42it/s]"
     ]
    },
    {
     "name": "stdout",
     "output_type": "stream",
     "text": [
      "Could not find readme for this link : https://github.com/microsoft/Service-Fabric-POA\n"
     ]
    },
    {
     "name": "stderr",
     "output_type": "stream",
     "text": [
      " 78%|█████████████████████████████████████████████████████████████████████████████████████████████████████▋                             | 4329/5578 [33:29<08:31,  2.44it/s]"
     ]
    },
    {
     "name": "stdout",
     "output_type": "stream",
     "text": [
      "Could not find readme for this link : https://github.com/microsoft/service-fabric-reverse-proxy\n"
     ]
    },
    {
     "name": "stderr",
     "output_type": "stream",
     "text": [
      " 78%|█████████████████████████████████████████████████████████████████████████████████████████████████████▋                             | 4330/5578 [33:30<08:39,  2.40it/s]"
     ]
    },
    {
     "name": "stdout",
     "output_type": "stream",
     "text": [
      "Could not find readme for this link : https://github.com/microsoft/service-fabric-scripts-and-templates\n"
     ]
    },
    {
     "name": "stderr",
     "output_type": "stream",
     "text": [
      " 78%|█████████████████████████████████████████████████████████████████████████████████████████████████████▋                             | 4331/5578 [33:30<08:28,  2.45it/s]"
     ]
    },
    {
     "name": "stdout",
     "output_type": "stream",
     "text": [
      "Could not find readme for this link : https://github.com/microsoft/service-fabric-services-and-actors-dotnet\n"
     ]
    },
    {
     "name": "stderr",
     "output_type": "stream",
     "text": [
      " 78%|█████████████████████████████████████████████████████████████████████████████████████████████████████▋                             | 4332/5578 [33:31<08:08,  2.55it/s]"
     ]
    },
    {
     "name": "stdout",
     "output_type": "stream",
     "text": [
      "Could not find readme for this link : https://github.com/microsoft/service-fabric-traefik\n"
     ]
    },
    {
     "name": "stderr",
     "output_type": "stream",
     "text": [
      " 78%|█████████████████████████████████████████████████████████████████████████████████████████████████████▊                             | 4333/5578 [33:31<07:55,  2.62it/s]"
     ]
    },
    {
     "name": "stdout",
     "output_type": "stream",
     "text": [
      "Could not find readme for this link : https://github.com/microsoft/service-fabric-yarp\n"
     ]
    },
    {
     "name": "stderr",
     "output_type": "stream",
     "text": [
      " 78%|█████████████████████████████████████████████████████████████████████████████████████████████████████▊                             | 4334/5578 [33:31<08:06,  2.56it/s]"
     ]
    },
    {
     "name": "stdout",
     "output_type": "stream",
     "text": [
      "Could not find readme for this link : https://github.com/microsoft/ServiceFabricDSC\n"
     ]
    },
    {
     "name": "stderr",
     "output_type": "stream",
     "text": [
      " 78%|█████████████████████████████████████████████████████████████████████████████████████████████████████▊                             | 4335/5578 [33:32<08:13,  2.52it/s]"
     ]
    },
    {
     "name": "stdout",
     "output_type": "stream",
     "text": [
      "Could not find readme for this link : https://github.com/microsoft/setup-msbuild\n"
     ]
    },
    {
     "name": "stderr",
     "output_type": "stream",
     "text": [
      " 78%|█████████████████████████████████████████████████████████████████████████████████████████████████████▊                             | 4336/5578 [33:32<08:18,  2.49it/s]"
     ]
    },
    {
     "name": "stdout",
     "output_type": "stream",
     "text": [
      "Could not find readme for this link : https://github.com/microsoft/setup-msstore-cli\n"
     ]
    },
    {
     "name": "stderr",
     "output_type": "stream",
     "text": [
      " 78%|█████████████████████████████████████████████████████████████████████████████████████████████████████▊                             | 4337/5578 [33:33<08:20,  2.48it/s]"
     ]
    },
    {
     "name": "stdout",
     "output_type": "stream",
     "text": [
      "Could not find readme for this link : https://github.com/microsoft/SfMC-Tools\n"
     ]
    },
    {
     "name": "stderr",
     "output_type": "stream",
     "text": [
      " 78%|█████████████████████████████████████████████████████████████████████████████████████████████████████▉                             | 4338/5578 [33:33<07:50,  2.63it/s]"
     ]
    },
    {
     "name": "stdout",
     "output_type": "stream",
     "text": [
      "Could not find readme for this link : https://github.com/microsoft/SGN\n"
     ]
    },
    {
     "name": "stderr",
     "output_type": "stream",
     "text": [
      " 78%|█████████████████████████████████████████████████████████████████████████████████████████████████████▉                             | 4339/5578 [33:33<07:35,  2.72it/s]"
     ]
    },
    {
     "name": "stdout",
     "output_type": "stream",
     "text": [
      "Could not find readme for this link : https://github.com/microsoft/SGSDI\n"
     ]
    },
    {
     "name": "stderr",
     "output_type": "stream",
     "text": [
      " 78%|█████████████████████████████████████████████████████████████████████████████████████████████████████▉                             | 4340/5578 [33:34<07:33,  2.73it/s]"
     ]
    },
    {
     "name": "stdout",
     "output_type": "stream",
     "text": [
      "Could not find readme for this link : https://github.com/microsoft/ShaderConductor\n"
     ]
    },
    {
     "name": "stderr",
     "output_type": "stream",
     "text": [
      " 78%|█████████████████████████████████████████████████████████████████████████████████████████████████████▉                             | 4341/5578 [33:34<07:20,  2.81it/s]"
     ]
    },
    {
     "name": "stdout",
     "output_type": "stream",
     "text": [
      "Could not find readme for this link : https://github.com/microsoft/shapeshifter\n"
     ]
    },
    {
     "name": "stderr",
     "output_type": "stream",
     "text": [
      " 78%|█████████████████████████████████████████████████████████████████████████████████████████████████████▉                             | 4342/5578 [33:34<07:37,  2.70it/s]"
     ]
    },
    {
     "name": "stdout",
     "output_type": "stream",
     "text": [
      "Could not find readme for this link : https://github.com/microsoft/sharepoint-recurring-events\n"
     ]
    },
    {
     "name": "stderr",
     "output_type": "stream",
     "text": [
      " 78%|█████████████████████████████████████████████████████████████████████████████████████████████████████▉                             | 4343/5578 [33:35<07:43,  2.66it/s]"
     ]
    },
    {
     "name": "stdout",
     "output_type": "stream",
     "text": [
      "Could not find readme for this link : https://github.com/microsoft/SharePointDSC-Web\n"
     ]
    },
    {
     "name": "stderr",
     "output_type": "stream",
     "text": [
      " 78%|██████████████████████████████████████████████████████████████████████████████████████████████████████                             | 4344/5578 [33:35<07:56,  2.59it/s]"
     ]
    },
    {
     "name": "stdout",
     "output_type": "stream",
     "text": [
      "Could not find readme for this link : https://github.com/microsoft/SharePointDSC.Reverse\n"
     ]
    },
    {
     "name": "stderr",
     "output_type": "stream",
     "text": [
      " 78%|██████████████████████████████████████████████████████████████████████████████████████████████████████                             | 4345/5578 [33:36<08:43,  2.36it/s]"
     ]
    },
    {
     "name": "stdout",
     "output_type": "stream",
     "text": [
      "Could not find readme for this link : https://github.com/microsoft/shell-engine-js\n"
     ]
    },
    {
     "name": "stderr",
     "output_type": "stream",
     "text": [
      " 78%|██████████████████████████████████████████████████████████████████████████████████████████████████████                             | 4346/5578 [33:36<08:37,  2.38it/s]"
     ]
    },
    {
     "name": "stdout",
     "output_type": "stream",
     "text": [
      "Could not find readme for this link : https://github.com/microsoft/shell-intune-samples\n"
     ]
    },
    {
     "name": "stderr",
     "output_type": "stream",
     "text": [
      " 78%|██████████████████████████████████████████████████████████████████████████████████████████████████████                             | 4347/5578 [33:37<08:31,  2.41it/s]"
     ]
    },
    {
     "name": "stdout",
     "output_type": "stream",
     "text": [
      "Could not find readme for this link : https://github.com/microsoft/shelljs\n"
     ]
    },
    {
     "name": "stderr",
     "output_type": "stream",
     "text": [
      " 78%|██████████████████████████████████████████████████████████████████████████████████████████████████████                             | 4348/5578 [33:37<08:40,  2.36it/s]"
     ]
    },
    {
     "name": "stdout",
     "output_type": "stream",
     "text": [
      "Could not find readme for this link : https://github.com/microsoft/shim-review\n"
     ]
    },
    {
     "name": "stderr",
     "output_type": "stream",
     "text": [
      " 78%|██████████████████████████████████████████████████████████████████████████████████████████████████████▏                            | 4349/5578 [33:37<08:04,  2.54it/s]"
     ]
    },
    {
     "name": "stdout",
     "output_type": "stream",
     "text": [
      "Could not find readme for this link : https://github.com/microsoft/ShipDetection\n"
     ]
    },
    {
     "name": "stderr",
     "output_type": "stream",
     "text": [
      " 78%|██████████████████████████████████████████████████████████████████████████████████████████████████████▏                            | 4350/5578 [33:38<07:42,  2.65it/s]"
     ]
    },
    {
     "name": "stdout",
     "output_type": "stream",
     "text": [
      "Could not find readme for this link : https://github.com/microsoft/ShortStack\n"
     ]
    },
    {
     "name": "stderr",
     "output_type": "stream",
     "text": [
      " 78%|██████████████████████████████████████████████████████████████████████████████████████████████████████▏                            | 4351/5578 [33:38<07:25,  2.75it/s]"
     ]
    },
    {
     "name": "stdout",
     "output_type": "stream",
     "text": [
      "Could not find readme for this link : https://github.com/microsoft/showwhy\n"
     ]
    },
    {
     "name": "stderr",
     "output_type": "stream",
     "text": [
      " 78%|██████████████████████████████████████████████████████████████████████████████████████████████████████▏                            | 4352/5578 [33:38<07:12,  2.83it/s]"
     ]
    },
    {
     "name": "stdout",
     "output_type": "stream",
     "text": [
      "Could not find readme for this link : https://github.com/microsoft/SIG-Challenge\n"
     ]
    },
    {
     "name": "stderr",
     "output_type": "stream",
     "text": [
      " 78%|██████████████████████████████████████████████████████████████████████████████████████████████████████▏                            | 4353/5578 [33:39<07:24,  2.75it/s]"
     ]
    },
    {
     "name": "stdout",
     "output_type": "stream",
     "text": [
      "Could not find readme for this link : https://github.com/microsoft/SIKE-challenges\n"
     ]
    },
    {
     "name": "stderr",
     "output_type": "stream",
     "text": [
      " 78%|██████████████████████████████████████████████████████████████████████████████████████████████████████▎                            | 4354/5578 [33:39<07:41,  2.65it/s]"
     ]
    },
    {
     "name": "stdout",
     "output_type": "stream",
     "text": [
      "Could not find readme for this link : https://github.com/microsoft/sim-packaging\n"
     ]
    },
    {
     "name": "stderr",
     "output_type": "stream",
     "text": [
      " 78%|██████████████████████████████████████████████████████████████████████████████████████████████████████▎                            | 4355/5578 [33:39<07:52,  2.59it/s]"
     ]
    },
    {
     "name": "stdout",
     "output_type": "stream",
     "text": [
      "Could not find readme for this link : https://github.com/microsoft/SimMIM\n"
     ]
    },
    {
     "name": "stderr",
     "output_type": "stream",
     "text": [
      " 78%|██████████████████████████████████████████████████████████████████████████████████████████████████████▎                            | 4356/5578 [33:40<08:01,  2.54it/s]"
     ]
    },
    {
     "name": "stdout",
     "output_type": "stream",
     "text": [
      "Could not find readme for this link : https://github.com/microsoft/simple-filter-mixer\n"
     ]
    },
    {
     "name": "stderr",
     "output_type": "stream",
     "text": [
      " 78%|██████████████████████████████████████████████████████████████████████████████████████████████████████▎                            | 4357/5578 [33:40<08:06,  2.51it/s]"
     ]
    },
    {
     "name": "stdout",
     "output_type": "stream",
     "text": [
      "Could not find readme for this link : https://github.com/microsoft/SimpleActivity\n"
     ]
    },
    {
     "name": "stderr",
     "output_type": "stream",
     "text": [
      " 78%|██████████████████████████████████████████████████████████████████████████████████████████████████████▎                            | 4358/5578 [33:41<07:42,  2.64it/s]"
     ]
    },
    {
     "name": "stdout",
     "output_type": "stream",
     "text": [
      "Could not find readme for this link : https://github.com/microsoft/SimplePlaces\n"
     ]
    },
    {
     "name": "stderr",
     "output_type": "stream",
     "text": [
      " 78%|██████████████████████████████████████████████████████████████████████████████████████████████████████▎                            | 4359/5578 [33:41<07:25,  2.74it/s]"
     ]
    },
    {
     "name": "stdout",
     "output_type": "stream",
     "text": [
      "Could not find readme for this link : https://github.com/microsoft/SimpleRacerResearchPlatform\n"
     ]
    },
    {
     "name": "stderr",
     "output_type": "stream",
     "text": [
      " 78%|██████████████████████████████████████████████████████████████████████████████████████████████████████▍                            | 4360/5578 [33:41<07:10,  2.83it/s]"
     ]
    },
    {
     "name": "stdout",
     "output_type": "stream",
     "text": [
      "Could not find readme for this link : https://github.com/microsoft/SimpleRemote\n"
     ]
    },
    {
     "name": "stderr",
     "output_type": "stream",
     "text": [
      " 78%|██████████████████████████████████████████████████████████████████████████████████████████████████████▍                            | 4361/5578 [33:42<07:00,  2.89it/s]"
     ]
    },
    {
     "name": "stdout",
     "output_type": "stream",
     "text": [
      "Could not find readme for this link : https://github.com/microsoft/SimpleRestClients\n"
     ]
    },
    {
     "name": "stderr",
     "output_type": "stream",
     "text": [
      " 78%|██████████████████████████████████████████████████████████████████████████████████████████████████████▍                            | 4362/5578 [33:42<07:55,  2.56it/s]"
     ]
    },
    {
     "name": "stdout",
     "output_type": "stream",
     "text": [
      "Could not find readme for this link : https://github.com/microsoft/SimpleSteps\n"
     ]
    },
    {
     "name": "stderr",
     "output_type": "stream",
     "text": [
      " 78%|██████████████████████████████████████████████████████████████████████████████████████████████████████▍                            | 4363/5578 [33:43<07:58,  2.54it/s]"
     ]
    },
    {
     "name": "stdout",
     "output_type": "stream",
     "text": [
      "Could not find readme for this link : https://github.com/microsoft/SimpleStubs\n"
     ]
    },
    {
     "name": "stderr",
     "output_type": "stream",
     "text": [
      " 78%|██████████████████████████████████████████████████████████████████████████████████████████████████████▍                            | 4364/5578 [33:43<08:16,  2.45it/s]"
     ]
    },
    {
     "name": "stdout",
     "output_type": "stream",
     "text": [
      "Could not find readme for this link : https://github.com/microsoft/SimpleTracks\n"
     ]
    },
    {
     "name": "stderr",
     "output_type": "stream",
     "text": [
      " 78%|██████████████████████████████████████████████████████████████████████████████████████████████████████▌                            | 4365/5578 [33:43<08:16,  2.44it/s]"
     ]
    },
    {
     "name": "stdout",
     "output_type": "stream",
     "text": [
      "Could not find readme for this link : https://github.com/microsoft/simple_ado\n"
     ]
    },
    {
     "name": "stderr",
     "output_type": "stream",
     "text": [
      " 78%|██████████████████████████████████████████████████████████████████████████████████████████████████████▌                            | 4366/5578 [33:44<08:09,  2.47it/s]"
     ]
    },
    {
     "name": "stdout",
     "output_type": "stream",
     "text": [
      "Could not find readme for this link : https://github.com/microsoft/Simplify-Docx\n"
     ]
    },
    {
     "name": "stderr",
     "output_type": "stream",
     "text": [
      " 78%|██████████████████████████████████████████████████████████████████████████████████████████████████████▌                            | 4367/5578 [33:44<07:51,  2.57it/s]"
     ]
    },
    {
     "name": "stdout",
     "output_type": "stream",
     "text": [
      "Could not find readme for this link : https://github.com/microsoft/Simplygon-API-Examples\n"
     ]
    },
    {
     "name": "stderr",
     "output_type": "stream",
     "text": [
      " 78%|██████████████████████████████████████████████████████████████████████████████████████████████████████▌                            | 4368/5578 [33:44<07:47,  2.59it/s]"
     ]
    },
    {
     "name": "stdout",
     "output_type": "stream",
     "text": [
      "Could not find readme for this link : https://github.com/microsoft/Simplygon-DCC-Integrations\n"
     ]
    },
    {
     "name": "stderr",
     "output_type": "stream",
     "text": [
      " 78%|██████████████████████████████████████████████████████████████████████████████████████████████████████▌                            | 4369/5578 [33:45<07:32,  2.67it/s]"
     ]
    },
    {
     "name": "stdout",
     "output_type": "stream",
     "text": [
      "Could not find readme for this link : https://github.com/microsoft/simulink-docker-toolbox\n"
     ]
    },
    {
     "name": "stderr",
     "output_type": "stream",
     "text": [
      " 78%|██████████████████████████████████████████████████████████████████████████████████████████████████████▋                            | 4370/5578 [33:45<07:30,  2.68it/s]"
     ]
    },
    {
     "name": "stdout",
     "output_type": "stream",
     "text": [
      "Could not find readme for this link : https://github.com/microsoft/SimXNS\n"
     ]
    },
    {
     "name": "stderr",
     "output_type": "stream",
     "text": [
      " 78%|██████████████████████████████████████████████████████████████████████████████████████████████████████▋                            | 4371/5578 [33:46<07:43,  2.60it/s]"
     ]
    },
    {
     "name": "stdout",
     "output_type": "stream",
     "text": [
      "Could not find readme for this link : https://github.com/microsoft/singleshotpose\n"
     ]
    },
    {
     "name": "stderr",
     "output_type": "stream",
     "text": [
      " 78%|██████████████████████████████████████████████████████████████████████████████████████████████████████▋                            | 4372/5578 [33:46<07:54,  2.54it/s]"
     ]
    },
    {
     "name": "stdout",
     "output_type": "stream",
     "text": [
      "Could not find readme for this link : https://github.com/microsoft/SiteInspector\n"
     ]
    },
    {
     "name": "stderr",
     "output_type": "stream",
     "text": [
      " 78%|██████████████████████████████████████████████████████████████████████████████████████████████████████▋                            | 4373/5578 [33:46<07:26,  2.70it/s]"
     ]
    },
    {
     "name": "stdout",
     "output_type": "stream",
     "text": [
      "Could not find readme for this link : https://github.com/microsoft/SizeBench\n"
     ]
    },
    {
     "name": "stderr",
     "output_type": "stream",
     "text": [
      " 78%|██████████████████████████████████████████████████████████████████████████████████████████████████████▋                            | 4374/5578 [33:47<07:34,  2.65it/s]"
     ]
    },
    {
     "name": "stdout",
     "output_type": "stream",
     "text": [
      "Could not find readme for this link : https://github.com/microsoft/sketch360\n"
     ]
    },
    {
     "name": "stderr",
     "output_type": "stream",
     "text": [
      " 78%|██████████████████████████████████████████████████████████████████████████████████████████████████████▋                            | 4375/5578 [33:47<07:56,  2.52it/s]"
     ]
    },
    {
     "name": "stdout",
     "output_type": "stream",
     "text": [
      "Could not find readme for this link : https://github.com/microsoft/skillBotTemplate\n"
     ]
    },
    {
     "name": "stderr",
     "output_type": "stream",
     "text": [
      " 78%|██████████████████████████████████████████████████████████████████████████████████████████████████████▊                            | 4376/5578 [33:48<07:53,  2.54it/s]"
     ]
    },
    {
     "name": "stdout",
     "output_type": "stream",
     "text": [
      "Could not find readme for this link : https://github.com/microsoft/SkillsExtractorCognitiveSearch\n"
     ]
    },
    {
     "name": "stderr",
     "output_type": "stream",
     "text": [
      " 78%|██████████████████████████████████████████████████████████████████████████████████████████████████████▊                            | 4377/5578 [33:48<07:55,  2.53it/s]"
     ]
    },
    {
     "name": "stdout",
     "output_type": "stream",
     "text": [
      "Could not find readme for this link : https://github.com/microsoft/skype-dev-bots\n"
     ]
    },
    {
     "name": "stderr",
     "output_type": "stream",
     "text": [
      " 78%|██████████████████████████████████████████████████████████████████████████████████████████████████████▊                            | 4378/5578 [33:48<07:26,  2.69it/s]"
     ]
    },
    {
     "name": "stdout",
     "output_type": "stream",
     "text": [
      "Could not find readme for this link : https://github.com/microsoft/skype-interviews-docs\n"
     ]
    },
    {
     "name": "stderr",
     "output_type": "stream",
     "text": [
      " 79%|██████████████████████████████████████████████████████████████████████████████████████████████████████▊                            | 4379/5578 [33:49<07:04,  2.82it/s]"
     ]
    },
    {
     "name": "stdout",
     "output_type": "stream",
     "text": [
      "Could not find readme for this link : https://github.com/microsoft/skype-sync\n"
     ]
    },
    {
     "name": "stderr",
     "output_type": "stream",
     "text": [
      " 79%|██████████████████████████████████████████████████████████████████████████████████████████████████████▊                            | 4380/5578 [33:49<07:19,  2.73it/s]"
     ]
    },
    {
     "name": "stdout",
     "output_type": "stream",
     "text": [
      "Could not find readme for this link : https://github.com/microsoft/SLAyer\n"
     ]
    },
    {
     "name": "stderr",
     "output_type": "stream",
     "text": [
      " 79%|██████████████████████████████████████████████████████████████████████████████████████████████████████▉                            | 4381/5578 [33:49<07:34,  2.64it/s]"
     ]
    },
    {
     "name": "stdout",
     "output_type": "stream",
     "text": [
      "Could not find readme for this link : https://github.com/microsoft/slg-covid-bot\n"
     ]
    },
    {
     "name": "stderr",
     "output_type": "stream",
     "text": [
      " 79%|██████████████████████████████████████████████████████████████████████████████████████████████████████▉                            | 4382/5578 [33:50<08:21,  2.38it/s]"
     ]
    },
    {
     "name": "stdout",
     "output_type": "stream",
     "text": [
      "Could not find readme for this link : https://github.com/microsoft/SlickGrid.ADS\n"
     ]
    },
    {
     "name": "stderr",
     "output_type": "stream",
     "text": [
      " 79%|██████████████████████████████████████████████████████████████████████████████████████████████████████▉                            | 4383/5578 [33:50<08:17,  2.40it/s]"
     ]
    },
    {
     "name": "stdout",
     "output_type": "stream",
     "text": [
      "Could not find readme for this link : https://github.com/microsoft/slngen\n"
     ]
    },
    {
     "name": "stderr",
     "output_type": "stream",
     "text": [
      " 79%|██████████████████████████████████████████████████████████████████████████████████████████████████████▉                            | 4384/5578 [33:51<08:24,  2.37it/s]"
     ]
    },
    {
     "name": "stdout",
     "output_type": "stream",
     "text": [
      "Could not find readme for this link : https://github.com/microsoft/Sloos\n"
     ]
    },
    {
     "name": "stderr",
     "output_type": "stream",
     "text": [
      " 79%|██████████████████████████████████████████████████████████████████████████████████████████████████████▉                            | 4385/5578 [33:51<08:10,  2.43it/s]"
     ]
    },
    {
     "name": "stdout",
     "output_type": "stream",
     "text": [
      "Could not find readme for this link : https://github.com/microsoft/slow-cheetah\n"
     ]
    },
    {
     "name": "stderr",
     "output_type": "stream",
     "text": [
      " 79%|███████████████████████████████████████████████████████████████████████████████████████████████████████                            | 4386/5578 [33:52<08:08,  2.44it/s]"
     ]
    },
    {
     "name": "stdout",
     "output_type": "stream",
     "text": [
      "Could not find readme for this link : https://github.com/microsoft/smart\n"
     ]
    },
    {
     "name": "stderr",
     "output_type": "stream",
     "text": [
      " 79%|███████████████████████████████████████████████████████████████████████████████████████████████████████                            | 4387/5578 [33:52<08:12,  2.42it/s]"
     ]
    },
    {
     "name": "stdout",
     "output_type": "stream",
     "text": [
      "Could not find readme for this link : https://github.com/microsoft/Smart-Energy-Foundation-Demo-Stack\n"
     ]
    },
    {
     "name": "stderr",
     "output_type": "stream",
     "text": [
      " 79%|███████████████████████████████████████████████████████████████████████████████████████████████████████                            | 4388/5578 [33:52<08:05,  2.45it/s]"
     ]
    },
    {
     "name": "stdout",
     "output_type": "stream",
     "text": [
      "Could not find readme for this link : https://github.com/microsoft/smart-on-fhir-app-starter-kit\n"
     ]
    },
    {
     "name": "stderr",
     "output_type": "stream",
     "text": [
      " 79%|███████████████████████████████████████████████████████████████████████████████████████████████████████                            | 4389/5578 [33:53<08:06,  2.44it/s]"
     ]
    },
    {
     "name": "stdout",
     "output_type": "stream",
     "text": [
      "Could not find readme for this link : https://github.com/microsoft/SmartDump\n"
     ]
    },
    {
     "name": "stderr",
     "output_type": "stream",
     "text": [
      " 79%|███████████████████████████████████████████████████████████████████████████████████████████████████████                            | 4390/5578 [33:53<08:07,  2.44it/s]"
     ]
    },
    {
     "name": "stdout",
     "output_type": "stream",
     "text": [
      "Could not find readme for this link : https://github.com/microsoft/SmartHotel360\n"
     ]
    },
    {
     "name": "stderr",
     "output_type": "stream",
     "text": [
      " 79%|███████████████████████████████████████████████████████████████████████████████████████████████████████                            | 4391/5578 [33:54<07:39,  2.58it/s]"
     ]
    },
    {
     "name": "stdout",
     "output_type": "stream",
     "text": [
      "Could not find readme for this link : https://github.com/microsoft/SmartHotel360-Backend\n"
     ]
    },
    {
     "name": "stderr",
     "output_type": "stream",
     "text": [
      " 79%|███████████████████████████████████████████████████████████████████████████████████████████████████████▏                           | 4392/5578 [33:54<07:46,  2.54it/s]"
     ]
    },
    {
     "name": "stdout",
     "output_type": "stream",
     "text": [
      "Could not find readme for this link : https://github.com/microsoft/SmartHotel360-CouponManagement\n"
     ]
    },
    {
     "name": "stderr",
     "output_type": "stream",
     "text": [
      " 79%|███████████████████████████████████████████████████████████████████████████████████████████████████████▏                           | 4393/5578 [33:54<07:41,  2.57it/s]"
     ]
    },
    {
     "name": "stdout",
     "output_type": "stream",
     "text": [
      "Could not find readme for this link : https://github.com/microsoft/SmartHotel360-IoT\n"
     ]
    },
    {
     "name": "stderr",
     "output_type": "stream",
     "text": [
      " 79%|███████████████████████████████████████████████████████████████████████████████████████████████████████▏                           | 4394/5578 [33:55<07:48,  2.52it/s]"
     ]
    },
    {
     "name": "stdout",
     "output_type": "stream",
     "text": [
      "Could not find readme for this link : https://github.com/microsoft/SmartHotel360-MixedReality\n"
     ]
    },
    {
     "name": "stderr",
     "output_type": "stream",
     "text": [
      " 79%|███████████████████████████████████████████████████████████████████████████████████████████████████████▏                           | 4395/5578 [33:55<07:53,  2.50it/s]"
     ]
    },
    {
     "name": "stdout",
     "output_type": "stream",
     "text": [
      "Could not find readme for this link : https://github.com/microsoft/SmartHotel360-Mobile\n"
     ]
    },
    {
     "name": "stderr",
     "output_type": "stream",
     "text": [
      " 79%|███████████████████████████████████████████████████████████████████████████████████████████████████████▏                           | 4396/5578 [33:56<07:56,  2.48it/s]"
     ]
    },
    {
     "name": "stdout",
     "output_type": "stream",
     "text": [
      "Could not find readme for this link : https://github.com/microsoft/SmartHotel360-Registration\n"
     ]
    },
    {
     "name": "stderr",
     "output_type": "stream",
     "text": [
      " 79%|███████████████████████████████████████████████████████████████████████████████████████████████████████▎                           | 4397/5578 [33:56<08:03,  2.44it/s]"
     ]
    },
    {
     "name": "stdout",
     "output_type": "stream",
     "text": [
      "Could not find readme for this link : https://github.com/microsoft/SmartHotel360-SentimentAnalysis\n"
     ]
    },
    {
     "name": "stderr",
     "output_type": "stream",
     "text": [
      " 79%|███████████████████████████████████████████████████████████████████████████████████████████████████████▎                           | 4398/5578 [33:56<07:57,  2.47it/s]"
     ]
    },
    {
     "name": "stdout",
     "output_type": "stream",
     "text": [
      "Could not find readme for this link : https://github.com/microsoft/SmartHotel360-Website\n"
     ]
    },
    {
     "name": "stderr",
     "output_type": "stream",
     "text": [
      " 79%|███████████████████████████████████████████████████████████████████████████████████████████████████████▎                           | 4399/5578 [33:57<08:00,  2.46it/s]"
     ]
    },
    {
     "name": "stdout",
     "output_type": "stream",
     "text": [
      "Could not find readme for this link : https://github.com/microsoft/SmartKC-A-Smartphone-based-Corneal-Topographer\n"
     ]
    },
    {
     "name": "stderr",
     "output_type": "stream",
     "text": [
      " 79%|███████████████████████████████████████████████████████████████████████████████████████████████████████▎                           | 4400/5578 [33:57<07:36,  2.58it/s]"
     ]
    },
    {
     "name": "stdout",
     "output_type": "stream",
     "text": [
      "Could not find readme for this link : https://github.com/microsoft/SmartKG\n"
     ]
    },
    {
     "name": "stderr",
     "output_type": "stream",
     "text": [
      " 79%|███████████████████████████████████████████████████████████████████████████████████████████████████████▎                           | 4401/5578 [33:58<07:32,  2.60it/s]"
     ]
    },
    {
     "name": "stdout",
     "output_type": "stream",
     "text": [
      "Could not find readme for this link : https://github.com/microsoft/SmartWordSuggestions\n"
     ]
    },
    {
     "name": "stderr",
     "output_type": "stream",
     "text": [
      " 79%|███████████████████████████████████████████████████████████████████████████████████████████████████████▍                           | 4402/5578 [33:58<07:14,  2.71it/s]"
     ]
    },
    {
     "name": "stdout",
     "output_type": "stream",
     "text": [
      "Could not find readme for this link : https://github.com/microsoft/SMBSecurity\n"
     ]
    },
    {
     "name": "stderr",
     "output_type": "stream",
     "text": [
      " 79%|███████████████████████████████████████████████████████████████████████████████████████████████████████▍                           | 4403/5578 [33:58<07:00,  2.80it/s]"
     ]
    },
    {
     "name": "stdout",
     "output_type": "stream",
     "text": [
      "Could not find readme for this link : https://github.com/microsoft/smlets\n"
     ]
    },
    {
     "name": "stderr",
     "output_type": "stream",
     "text": [
      " 79%|███████████████████████████████████████████████████████████████████████████████████████████████████████▍                           | 4404/5578 [33:59<07:01,  2.78it/s]"
     ]
    },
    {
     "name": "stdout",
     "output_type": "stream",
     "text": [
      "Could not find readme for this link : https://github.com/microsoft/snca.pytorch\n"
     ]
    },
    {
     "name": "stderr",
     "output_type": "stream",
     "text": [
      " 79%|███████████████████████████████████████████████████████████████████████████████████████████████████████▍                           | 4405/5578 [33:59<07:16,  2.69it/s]"
     ]
    },
    {
     "name": "stdout",
     "output_type": "stream",
     "text": [
      "Could not find readme for this link : https://github.com/microsoft/Snip-Insights\n"
     ]
    },
    {
     "name": "stderr",
     "output_type": "stream",
     "text": [
      " 79%|███████████████████████████████████████████████████████████████████████████████████████████████████████▍                           | 4406/5578 [33:59<07:30,  2.60it/s]"
     ]
    },
    {
     "name": "stdout",
     "output_type": "stream",
     "text": [
      "Could not find readme for this link : https://github.com/microsoft/snipe-it-api-cookbook\n"
     ]
    },
    {
     "name": "stderr",
     "output_type": "stream",
     "text": [
      " 79%|███████████████████████████████████████████████████████████████████████████████████████████████████████▍                           | 4407/5578 [34:00<07:38,  2.55it/s]"
     ]
    },
    {
     "name": "stdout",
     "output_type": "stream",
     "text": [
      "Could not find readme for this link : https://github.com/microsoft/snipe-it-cookbook\n"
     ]
    },
    {
     "name": "stderr",
     "output_type": "stream",
     "text": [
      " 79%|███████████████████████████████████████████████████████████████████████████████████████████████████████▌                           | 4408/5578 [34:00<07:45,  2.51it/s]"
     ]
    },
    {
     "name": "stdout",
     "output_type": "stream",
     "text": [
      "Could not find readme for this link : https://github.com/microsoft/snippet-timekeeper\n"
     ]
    },
    {
     "name": "stderr",
     "output_type": "stream",
     "text": [
      " 79%|███████████████████████████████████████████████████████████████████████████████████████████████████████▌                           | 4409/5578 [34:01<07:46,  2.50it/s]"
     ]
    },
    {
     "name": "stdout",
     "output_type": "stream",
     "text": [
      "Could not find readme for this link : https://github.com/microsoft/snmalloc\n"
     ]
    },
    {
     "name": "stderr",
     "output_type": "stream",
     "text": [
      " 79%|███████████████████████████████████████████████████████████████████████████████████████████████████████▌                           | 4410/5578 [34:01<07:50,  2.48it/s]"
     ]
    },
    {
     "name": "stdout",
     "output_type": "stream",
     "text": [
      "Could not find readme for this link : https://github.com/microsoft/snocat\n"
     ]
    },
    {
     "name": "stderr",
     "output_type": "stream",
     "text": [
      " 79%|███████████████████████████████████████████████████████████████████████████████████████████████████████▌                           | 4411/5578 [34:01<07:52,  2.47it/s]"
     ]
    },
    {
     "name": "stdout",
     "output_type": "stream",
     "text": [
      "Could not find readme for this link : https://github.com/microsoft/SNR\n"
     ]
    },
    {
     "name": "stderr",
     "output_type": "stream",
     "text": [
      " 79%|███████████████████████████████████████████████████████████████████████████████████████████████████████▌                           | 4412/5578 [34:02<07:53,  2.46it/s]"
     ]
    },
    {
     "name": "stdout",
     "output_type": "stream",
     "text": [
      "Could not find readme for this link : https://github.com/microsoft/SocialServicesAnalytics\n"
     ]
    },
    {
     "name": "stderr",
     "output_type": "stream",
     "text": [
      " 79%|███████████████████████████████████████████████████████████████████████████████████████████████████████▋                           | 4413/5578 [34:02<07:53,  2.46it/s]"
     ]
    },
    {
     "name": "stdout",
     "output_type": "stream",
     "text": [
      "Could not find readme for this link : https://github.com/microsoft/SoftTeacher\n"
     ]
    },
    {
     "name": "stderr",
     "output_type": "stream",
     "text": [
      " 79%|███████████████████████████████████████████████████████████████████████████████████████████████████████▋                           | 4414/5578 [34:03<07:54,  2.45it/s]"
     ]
    },
    {
     "name": "stdout",
     "output_type": "stream",
     "text": [
      "Could not find readme for this link : https://github.com/microsoft/solar-farms-mapping\n"
     ]
    },
    {
     "name": "stderr",
     "output_type": "stream",
     "text": [
      " 79%|███████████████████████████████████████████████████████████████████████████████████████████████████████▋                           | 4415/5578 [34:03<08:01,  2.41it/s]"
     ]
    },
    {
     "name": "stdout",
     "output_type": "stream",
     "text": [
      "Could not find readme for this link : https://github.com/microsoft/solitaire-wp\n"
     ]
    },
    {
     "name": "stderr",
     "output_type": "stream",
     "text": [
      " 79%|███████████████████████████████████████████████████████████████████████████████████████████████████████▋                           | 4416/5578 [34:03<07:53,  2.45it/s]"
     ]
    },
    {
     "name": "stdout",
     "output_type": "stream",
     "text": [
      "Could not find readme for this link : https://github.com/microsoft/solution-accelerator-containerized-store\n"
     ]
    },
    {
     "name": "stderr",
     "output_type": "stream",
     "text": [
      " 81%|█████████████████████████████████████████████████████████████████████████████████████████████████████████▍                         | 4491/5578 [34:38<08:47,  2.06it/s]"
     ]
    },
    {
     "name": "stdout",
     "output_type": "stream",
     "text": [
      "Could not find readme for this link : https://github.com/microsoft/sqltoolssdk\n"
     ]
    },
    {
     "name": "stderr",
     "output_type": "stream",
     "text": [
      " 86%|█████████████████████████████████████████████████████████████████████████████████████████████████████████████████▏                 | 4822/5578 [37:13<05:43,  2.20it/s]"
     ]
    },
    {
     "name": "stdout",
     "output_type": "stream",
     "text": [
      "Could not find readme for this link : https://github.com/microsoft/UDE\n"
     ]
    },
    {
     "name": "stderr",
     "output_type": "stream",
     "text": [
      " 94%|██████████████████████████████████████████████████████████████████████████████████████████████████████████████████████████▊        | 5228/5578 [40:20<02:41,  2.17it/s]"
     ]
    },
    {
     "name": "stdout",
     "output_type": "stream",
     "text": [
      "Could not find readme for this link : https://github.com/microsoft/vscode-team\n"
     ]
    },
    {
     "name": "stderr",
     "output_type": "stream",
     "text": [
      " 94%|███████████████████████████████████████████████████████████████████████████████████████████████████████████████████████████▎       | 5253/5578 [40:31<02:17,  2.37it/s]"
     ]
    },
    {
     "name": "stdout",
     "output_type": "stream",
     "text": [
      "Could not find readme for this link : https://github.com/microsoft/vscode-wiki\n"
     ]
    },
    {
     "name": "stderr",
     "output_type": "stream",
     "text": [
      " 95%|████████████████████████████████████████████████████████████████████████████████████████████████████████████████████████████▎      | 5293/5578 [40:51<02:11,  2.16it/s]"
     ]
    },
    {
     "name": "stdout",
     "output_type": "stream",
     "text": [
      "Could not find readme for this link : https://github.com/microsoft/vsts-build-test-samples\n"
     ]
    },
    {
     "name": "stderr",
     "output_type": "stream",
     "text": [
      " 95%|████████████████████████████████████████████████████████████████████████████████████████████████████████████████████████████▊      | 5317/5578 [41:02<01:58,  2.20it/s]"
     ]
    },
    {
     "name": "stdout",
     "output_type": "stream",
     "text": [
      "Could not find readme for this link : https://github.com/microsoft/vsts-rm-documentation\n"
     ]
    },
    {
     "name": "stderr",
     "output_type": "stream",
     "text": [
      " 96%|██████████████████████████████████████████████████████████████████████████████████████████████████████████████████████████████▏    | 5374/5578 [41:29<01:46,  1.92it/s]"
     ]
    },
    {
     "name": "stdout",
     "output_type": "stream",
     "text": [
      "Could not find readme for this link : https://github.com/microsoft/willow\n"
     ]
    },
    {
     "name": "stderr",
     "output_type": "stream",
     "text": [
      " 97%|███████████████████████████████████████████████████████████████████████████████████████████████████████████████████████████████▋   | 5438/5578 [41:58<01:05,  2.15it/s]"
     ]
    },
    {
     "name": "stdout",
     "output_type": "stream",
     "text": [
      "Could not find readme for this link : https://github.com/microsoft/windows-ping\n"
     ]
    },
    {
     "name": "stderr",
     "output_type": "stream",
     "text": [
      "100%|███████████████████████████████████████████████████████████████████████████████████████████████████████████████████████████████████| 5578/5578 [43:01<00:00,  2.16it/s]\n"
     ]
    },
    {
     "name": "stdout",
     "output_type": "stream",
     "text": [
      "Fetching the extra github links and readmes from the repoWithReadme\n",
      "Found more than 5 github links in https://github.com/microsoft/A-TALE-OF-THREE-CITIES. Ignoring all of them. Please check the readme\n",
      "Found more than 5 github links in https://github.com/microsoft/AADConnectConfigDocumenter. Ignoring all of them. Please check the readme\n",
      "Found more than 5 github links in https://github.com/microsoft/Accera. Ignoring all of them. Please check the readme\n",
      "Found more than 5 github links in https://github.com/microsoft/accessibility-insights-for-android-service. Ignoring all of them. Please check the readme\n",
      "Found more than 5 github links in https://github.com/microsoft/action-armttk. Ignoring all of them. Please check the readme\n",
      "Found more than 5 github links in https://github.com/microsoft/action-python. Ignoring all of them. Please check the readme\n",
      "Found more than 5 github links in https://github.com/microsoft/activities. Ignoring all of them. Please check the readme\n",
      "Found more than 5 github links in https://github.com/microsoft/AdaMix. Ignoring all of them. Please check the readme\n",
      "Found more than 5 github links in https://github.com/microsoft/AdaptiveCards. Ignoring all of them. Please check the readme\n",
      "Found more than 5 github links in https://github.com/microsoft/AdaptiveCards-.NET. Ignoring all of them. Please check the readme\n",
      "Found more than 5 github links in https://github.com/microsoft/AdaptiveCards-Mobile. Ignoring all of them. Please check the readme\n",
      "Found more than 5 github links in https://github.com/microsoft/AddingSpeechToBots. Ignoring all of them. Please check the readme\n",
      "Found more than 5 github links in https://github.com/microsoft/admin-torch. Ignoring all of them. Please check the readme\n",
      "Found more than 5 github links in https://github.com/microsoft/AI. Ignoring all of them. Please check the readme\n",
      "Found more than 5 github links in https://github.com/microsoft/AIReferenceArchitectures. Ignoring all of them. Please check the readme\n",
      "Found more than 5 github links in https://github.com/microsoft/AirSim. Ignoring all of them. Please check the readme\n",
      "Found more than 5 github links in https://github.com/microsoft/AirSim-Drone-Racing-Lab-Source. Ignoring all of them. Please check the readme\n",
      "Found more than 5 github links in https://github.com/microsoft/AirSim-NeurIPS2019-Drone-Racing. Ignoring all of them. Please check the readme\n",
      "Found more than 5 github links in https://github.com/microsoft/AISkillsForWindows. Ignoring all of them. Please check the readme\n",
      "Found more than 5 github links in https://github.com/microsoft/AIVisualProvision. Ignoring all of them. Please check the readme\n",
      "Found more than 5 github links in https://github.com/microsoft/AL-Go. Ignoring all of them. Please check the readme\n",
      "Found more than 5 github links in https://github.com/microsoft/AmbariBasedHadoopExporter. Ignoring all of them. Please check the readme\n",
      "Found more than 5 github links in https://github.com/microsoft/Analysis-Services. Ignoring all of them. Please check the readme\n",
      "Found more than 5 github links in https://github.com/microsoft/anymatch. Ignoring all of them. Please check the readme\n",
      "Found more than 5 github links in https://github.com/microsoft/apex. Ignoring all of them. Please check the readme\n",
      "Found more than 5 github links in https://github.com/microsoft/app-center-app-react-native. Ignoring all of them. Please check the readme\n",
      "Found more than 5 github links in https://github.com/microsoft/app-center-app-xamarin. Ignoring all of them. Please check the readme\n",
      "Found more than 5 github links in https://github.com/microsoft/app-store-vsts-extension. Ignoring all of them. Please check the readme\n",
      "Found more than 5 github links in https://github.com/microsoft/App-Templates. Ignoring all of them. Please check the readme\n",
      "Found more than 5 github links in https://github.com/microsoft/appcenter. Ignoring all of them. Please check the readme\n",
      "Found more than 5 github links in https://github.com/microsoft/appcenter-Xamarin.Forms-Gallery-Demo. Ignoring all of them. Please check the readme\n",
      "Found more than 5 github links in https://github.com/microsoft/appium. Ignoring all of them. Please check the readme\n",
      "Found more than 5 github links in https://github.com/microsoft/applicationinsights-angularplugin-js. Ignoring all of them. Please check the readme\n",
      "Found more than 5 github links in https://github.com/microsoft/ApplicationInsights-dotnet. Ignoring all of them. Please check the readme\n",
      "Found more than 5 github links in https://github.com/microsoft/ApplicationInsights-dotnet-server. Ignoring all of them. Please check the readme\n",
      "Found more than 5 github links in https://github.com/microsoft/ApplicationInsights-JS. Ignoring all of them. Please check the readme\n",
      "Found more than 5 github links in https://github.com/microsoft/ApplicationInsights-JS-Mezzurite. Ignoring all of them. Please check the readme\n",
      "Found more than 5 github links in https://github.com/microsoft/ApplicationInsights-Kubernetes. Ignoring all of them. Please check the readme\n",
      "Found more than 5 github links in https://github.com/microsoft/ApplicationInsights-LocalForwarder. Ignoring all of them. Please check the readme\n",
      "Found more than 5 github links in https://github.com/microsoft/ApplicationInsights-node.js. Ignoring all of them. Please check the readme\n",
      "Found more than 5 github links in https://github.com/microsoft/ApplicationInsights-Profiler-AspNetCore. Ignoring all of them. Please check the readme\n",
      "Found more than 5 github links in https://github.com/microsoft/applicationinsights-react-js. Ignoring all of them. Please check the readme\n",
      "Found more than 5 github links in https://github.com/microsoft/applicationinsights-react-native. Ignoring all of them. Please check the readme\n",
      "Found more than 5 github links in https://github.com/microsoft/ApplicationInsights-SAP-Fiori-Plugin. Ignoring all of them. Please check the readme\n",
      "Found more than 5 github links in https://github.com/microsoft/ApplicationInspector. Ignoring all of them. Please check the readme\n",
      "Found more than 5 github links in https://github.com/microsoft/AppliedRoboticsResearchLibrary. Ignoring all of them. Please check the readme\n",
      "Found more than 5 github links in https://github.com/microsoft/APSI. Ignoring all of them. Please check the readme\n",
      "Found more than 5 github links in https://github.com/microsoft/aqa-tests. Ignoring all of them. Please check the readme\n",
      "Found more than 5 github links in https://github.com/microsoft/artifacts-credprovider. Ignoring all of them. Please check the readme\n",
      "Found more than 5 github links in https://github.com/microsoft/ASDET. Ignoring all of them. Please check the readme\n",
      "Found more than 5 github links in https://github.com/microsoft/AspNetCore-React-WebApp. Ignoring all of them. Please check the readme\n",
      "Found more than 5 github links in https://github.com/microsoft/Atlas. Ignoring all of them. Please check the readme\n",
      "Found more than 5 github links in https://github.com/microsoft/atlas-design. Ignoring all of them. Please check the readme\n",
      "Found more than 5 github links in https://github.com/microsoft/AttackSurfaceAnalyzer. Ignoring all of them. Please check the readme\n",
      "Found more than 5 github links in https://github.com/microsoft/auto-sys-ml-template. Ignoring all of them. Please check the readme\n",
      "Found more than 5 github links in https://github.com/microsoft/awesome-js-tools. Ignoring all of them. Please check the readme\n",
      "Found more than 5 github links in https://github.com/microsoft/axe-sarif-converter. Ignoring all of them. Please check the readme\n",
      "Found more than 5 github links in https://github.com/microsoft/azcode. Ignoring all of them. Please check the readme\n",
      "Found more than 5 github links in https://github.com/microsoft/azure-ai-hands-on-training. Ignoring all of them. Please check the readme\n",
      "Found more than 5 github links in https://github.com/microsoft/Azure-Analytics-and-AI-Engagement. Ignoring all of them. Please check the readme\n",
      "Found more than 5 github links in https://github.com/microsoft/azure-boards-vscode. Ignoring all of them. Please check the readme\n",
      "Found more than 5 github links in https://github.com/microsoft/azure-cli. Ignoring all of them. Please check the readme\n",
      "Found more than 5 github links in https://github.com/microsoft/azure-devops-extension-hot-reload-and-debug. Ignoring all of them. Please check the readme\n",
      "Found more than 5 github links in https://github.com/microsoft/azure-devops-rust-api. Ignoring all of them. Please check the readme\n",
      "Found more than 5 github links in https://github.com/microsoft/azure-iot-edge-cv-model-samples. Ignoring all of them. Please check the readme\n",
      "Found more than 5 github links in https://github.com/microsoft/azure-maven-plugins. Ignoring all of them. Please check the readme\n",
      "Found more than 5 github links in https://github.com/microsoft/azure-schema-operator. Ignoring all of them. Please check the readme\n",
      "Found more than 5 github links in https://github.com/microsoft/azure-sdk-for-net-ace. Ignoring all of them. Please check the readme\n",
      "Found more than 5 github links in https://github.com/microsoft/azure-spring-boot. Ignoring all of them. Please check the readme\n",
      "Found more than 5 github links in https://github.com/microsoft/azure-spring-initializr. Ignoring all of them. Please check the readme\n",
      "Found more than 5 github links in https://github.com/microsoft/AzureAppsWorkshop. Ignoring all of them. Please check the readme\n",
      "Found more than 5 github links in https://github.com/microsoft/azuredatastudio. Ignoring all of them. Please check the readme\n",
      "Found more than 5 github links in https://github.com/microsoft/azuredatastudio-mysql. Ignoring all of them. Please check the readme\n",
      "Found more than 5 github links in https://github.com/microsoft/azuredatastudio-postgresql. Ignoring all of them. Please check the readme\n",
      "Found more than 5 github links in https://github.com/microsoft/AzureMonitor-Telegraf. Ignoring all of them. Please check the readme\n",
      "Found more than 5 github links in https://github.com/microsoft/AzureMonitorCommunity. Ignoring all of them. Please check the readme\n",
      "Found more than 5 github links in https://github.com/microsoft/AzUrlShortener. Ignoring all of them. Please check the readme\n",
      "Found more than 5 github links in https://github.com/microsoft/bedrock. Ignoring all of them. Please check the readme\n",
      "Found more than 5 github links in https://github.com/microsoft/bedrock-rings. Ignoring all of them. Please check the readme\n",
      "Found more than 5 github links in https://github.com/microsoft/BikeSharing360_BackendServices. Ignoring all of them. Please check the readme\n",
      "Found more than 5 github links in https://github.com/microsoft/BikeSharing360_BotApps. Ignoring all of them. Please check the readme\n",
      "Found more than 5 github links in https://github.com/microsoft/BikeSharing360_BotBuilderApps. Ignoring all of them. Please check the readme\n",
      "Found more than 5 github links in https://github.com/microsoft/BikeSharing360_CognitiveServicesKioskApp. Ignoring all of them. Please check the readme\n",
      "Found more than 5 github links in https://github.com/microsoft/BikeSharing360_MobileApps. Ignoring all of them. Please check the readme\n",
      "Found more than 5 github links in https://github.com/microsoft/BikeSharing360_MultiContainer. Ignoring all of them. Please check the readme\n",
      "Found more than 5 github links in https://github.com/microsoft/BikeSharing360_SingleContainer. Ignoring all of them. Please check the readme\n",
      "Found more than 5 github links in https://github.com/microsoft/BikeSharing360_Websites. Ignoring all of them. Please check the readme\n",
      "Found more than 5 github links in https://github.com/microsoft/Bing-Maps-Fleet-Tracker. Ignoring all of them. Please check the readme\n",
      "Found more than 5 github links in https://github.com/microsoft/BlingFire. Ignoring all of them. Please check the readme\n",
      "Found more than 5 github links in https://github.com/microsoft/bond. Ignoring all of them. Please check the readme\n",
      "Found more than 5 github links in https://github.com/microsoft/BosqueLanguage. Ignoring all of them. Please check the readme\n",
      "Found more than 5 github links in https://github.com/microsoft/BotBuilder-Azure. Ignoring all of them. Please check the readme\n",
      "Found more than 5 github links in https://github.com/microsoft/BotBuilder-CognitiveServices. Ignoring all of them. Please check the readme\n",
      "Found more than 5 github links in https://github.com/microsoft/botbuilder-dotnet. Ignoring all of them. Please check the readme\n",
      "Found more than 5 github links in https://github.com/microsoft/botbuilder-java. Ignoring all of them. Please check the readme\n",
      "Found more than 5 github links in https://github.com/microsoft/botbuilder-js. Ignoring all of them. Please check the readme\n",
      "Found more than 5 github links in https://github.com/microsoft/botbuilder-python. Ignoring all of them. Please check the readme\n",
      "Found more than 5 github links in https://github.com/microsoft/BotBuilder-Samples. Ignoring all of them. Please check the readme\n",
      "Found more than 5 github links in https://github.com/microsoft/botbuilder-tools. Ignoring all of them. Please check the readme\n",
      "Found more than 5 github links in https://github.com/microsoft/BotBuilder-V3. Ignoring all of them. Please check the readme\n",
      "Found more than 5 github links in https://github.com/microsoft/botframework-cli. Ignoring all of them. Please check the readme\n",
      "Found more than 5 github links in https://github.com/microsoft/botframework-components. Ignoring all of them. Please check the readme\n",
      "Found more than 5 github links in https://github.com/microsoft/BotFramework-Composer. Ignoring all of them. Please check the readme\n",
      "Found more than 5 github links in https://github.com/microsoft/BotFramework-Emulator. Ignoring all of them. Please check the readme\n",
      "Found more than 5 github links in https://github.com/microsoft/botframework-sdk. Ignoring all of them. Please check the readme\n",
      "Found more than 5 github links in https://github.com/microsoft/botframework-solutions. Ignoring all of them. Please check the readme\n",
      "Found more than 5 github links in https://github.com/microsoft/BotFramework-WebChat. Ignoring all of them. Please check the readme\n",
      "Found more than 5 github links in https://github.com/microsoft/BridgeTower. Ignoring all of them. Please check the readme\n",
      "Found more than 5 github links in https://github.com/microsoft/Bringing-Old-Photos-Back-to-Life. Ignoring all of them. Please check the readme\n",
      "Found more than 5 github links in https://github.com/microsoft/Broadcast-Development-Kit. Ignoring all of them. Please check the readme\n",
      "Found more than 5 github links in https://github.com/microsoft/Build-omi. Ignoring all of them. Please check the readme\n",
      "Found more than 5 github links in https://github.com/microsoft/Build-OMS-Agent-for-Linux. Ignoring all of them. Please check the readme\n",
      "Found more than 5 github links in https://github.com/microsoft/Build-PowerShell-DSC-for-Linux. Ignoring all of them. Please check the readme\n",
      "Found more than 5 github links in https://github.com/microsoft/Build-SCXcore. Ignoring all of them. Please check the readme\n",
      "Found more than 5 github links in https://github.com/microsoft/build2016-vsmobile. Ignoring all of them. Please check the readme\n",
      "Found more than 5 github links in https://github.com/microsoft/Build2022-AI-examples. Ignoring all of them. Please check the readme\n",
      "Found more than 5 github links in https://github.com/microsoft/calculator-specs. Ignoring all of them. Please check the readme\n",
      "Found more than 5 github links in https://github.com/microsoft/CameraTraps. Ignoring all of them. Please check the readme\n",
      "Found more than 5 github links in https://github.com/microsoft/CanvasTools-for-VOTT. Ignoring all of them. Please check the readme\n",
      "Found more than 5 github links in https://github.com/microsoft/cascadia-code. Ignoring all of them. Please check the readme\n",
      "Found more than 5 github links in https://github.com/microsoft/causica. Ignoring all of them. Please check the readme\n",
      "Found more than 5 github links in https://github.com/microsoft/CCF. Ignoring all of them. Please check the readme\n",
      "Found more than 5 github links in https://github.com/microsoft/ccf-app-template. Ignoring all of them. Please check the readme\n",
      "Found more than 5 github links in https://github.com/microsoft/CEDAR.GitHub.Collector. Ignoring all of them. Please check the readme\n",
      "Found more than 5 github links in https://github.com/microsoft/checkedc. Ignoring all of them. Please check the readme\n",
      "Found more than 5 github links in https://github.com/microsoft/checkedc-clang. Ignoring all of them. Please check the readme\n",
      "Found more than 5 github links in https://github.com/microsoft/checkedc-libc-test. Ignoring all of them. Please check the readme\n",
      "Found more than 5 github links in https://github.com/microsoft/checkedc-llvm-test-suite. Ignoring all of them. Please check the readme\n",
      "Found more than 5 github links in https://github.com/microsoft/chokidar. Ignoring all of them. Please check the readme\n",
      "Found more than 5 github links in https://github.com/microsoft/cla-assistant-retired. Ignoring all of them. Please check the readme\n",
      "Found more than 5 github links in https://github.com/microsoft/cloud-hypervisor-craton. Ignoring all of them. Please check the readme\n",
      "Found more than 5 github links in https://github.com/microsoft/Cloud-PAW-Management. Ignoring all of them. Please check the readme\n",
      "Found more than 5 github links in https://github.com/microsoft/CNTK-docker. Ignoring all of them. Please check the readme\n",
      "Found more than 5 github links in https://github.com/microsoft/cocos2d-x. Ignoring all of them. Please check the readme\n",
      "Found more than 5 github links in https://github.com/microsoft/CoCosNet. Ignoring all of them. Please check the readme\n",
      "Found more than 5 github links in https://github.com/microsoft/CoCosNet-v2. Ignoring all of them. Please check the readme\n",
      "Found more than 5 github links in https://github.com/microsoft/code-push. Ignoring all of them. Please check the readme\n",
      "Found more than 5 github links in https://github.com/microsoft/code-push-vsts-extension. Ignoring all of them. Please check the readme\n",
      "Found more than 5 github links in https://github.com/microsoft/codeql. Ignoring all of them. Please check the readme\n",
      "Found more than 5 github links in https://github.com/microsoft/CodeTalk. Ignoring all of them. Please check the readme\n",
      "Found more than 5 github links in https://github.com/microsoft/coe-starter-kit. Ignoring all of them. Please check the readme\n",
      "Found more than 5 github links in https://github.com/microsoft/commercial-marketplace-client-java. Ignoring all of them. Please check the readme\n",
      "Found more than 5 github links in https://github.com/microsoft/commercial-marketplace-resources. Ignoring all of them. Please check the readme\n",
      "Found more than 5 github links in https://github.com/microsoft/ConcordExtensibilitySamples. Ignoring all of them. Please check the readme\n",
      "Found more than 5 github links in https://github.com/microsoft/confidential-containers-containerd. Ignoring all of them. Please check the readme\n",
      "Found more than 5 github links in https://github.com/microsoft/containerized-microservices-pipeline. Ignoring all of them. Please check the readme\n",
      "Found more than 5 github links in https://github.com/microsoft/ContributorLicenseAgreement. Ignoring all of them. Please check the readme\n",
      "Found more than 5 github links in https://github.com/microsoft/ConversationLearner-Samples. Ignoring all of them. Please check the readme\n",
      "Found more than 5 github links in https://github.com/microsoft/cordova-plugin-code-push. Ignoring all of them. Please check the readme\n",
      "Found more than 5 github links in https://github.com/microsoft/cordova-simulate. Ignoring all of them. Please check the readme\n",
      "Found more than 5 github links in https://github.com/microsoft/core. Ignoring all of them. Please check the readme\n",
      "Found more than 5 github links in https://github.com/microsoft/CoreTemplateStudio. Ignoring all of them. Please check the readme\n",
      "Found more than 5 github links in https://github.com/microsoft/CorrelationVector. Ignoring all of them. Please check the readme\n",
      "Found more than 5 github links in https://github.com/microsoft/cortana-samples. Ignoring all of them. Please check the readme\n",
      "Found more than 5 github links in https://github.com/microsoft/cppgraphqlgen. Ignoring all of them. Please check the readme\n",
      "Found more than 5 github links in https://github.com/microsoft/cpprestsdk. Ignoring all of them. Please check the readme\n",
      "Found more than 5 github links in https://github.com/microsoft/cpp_client_telemetry. Ignoring all of them. Please check the readme\n",
      "Found more than 5 github links in https://github.com/microsoft/crn-engine. Ignoring all of them. Please check the readme\n",
      "Found more than 5 github links in https://github.com/microsoft/CromwellOnAzure. Ignoring all of them. Please check the readme\n",
      "Found more than 5 github links in https://github.com/microsoft/CSharpClient-for-Kafka. Ignoring all of them. Please check the readme\n",
      "Found more than 5 github links in https://github.com/microsoft/CSS_SQL_Networking_Tools. Ignoring all of them. Please check the readme\n",
      "Found more than 5 github links in https://github.com/microsoft/csuite. Ignoring all of them. Please check the readme\n",
      "Found more than 5 github links in https://github.com/microsoft/CSWin-Transformer. Ignoring all of them. Please check the readme\n",
      "Found more than 5 github links in https://github.com/microsoft/CsWinRT. Ignoring all of them. Please check the readme\n",
      "Found more than 5 github links in https://github.com/microsoft/Damage_Assessment_Visualizer. Ignoring all of them. Please check the readme\n",
      "Found more than 5 github links in https://github.com/microsoft/data-accelerator. Ignoring all of them. Please check the readme\n",
      "Found more than 5 github links in https://github.com/microsoft/Data-Discovery-Toolkit. Ignoring all of them. Please check the readme\n",
      "Found more than 5 github links in https://github.com/microsoft/Data-Quality-Rule-Engine. Ignoring all of them. Please check the readme\n",
      "Found more than 5 github links in https://github.com/microsoft/dataexposed. Ignoring all of them. Please check the readme\n",
      "Found more than 5 github links in https://github.com/microsoft/DaVinci. Ignoring all of them. Please check the readme\n",
      "Found more than 5 github links in https://github.com/microsoft/dcmkit. Ignoring all of them. Please check the readme\n",
      "Found more than 5 github links in https://github.com/microsoft/Deep3DFaceReconstruction. Ignoring all of them. Please check the readme\n",
      "Found more than 5 github links in https://github.com/microsoft/DeepSpeed. Ignoring all of them. Please check the readme\n",
      "Found more than 5 github links in https://github.com/microsoft/deepspeed-gpt-neox. Ignoring all of them. Please check the readme\n",
      "Found more than 5 github links in https://github.com/microsoft/DeepSpeed-MII. Ignoring all of them. Please check the readme\n",
      "Found more than 5 github links in https://github.com/microsoft/DefinitelyTyped-tools. Ignoring all of them. Please check the readme\n",
      "Found more than 5 github links in https://github.com/microsoft/delta-kusto. Ignoring all of them. Please check the readme\n",
      "Found more than 5 github links in https://github.com/microsoft/Detours. Ignoring all of them. Please check the readme\n",
      "Found more than 5 github links in https://github.com/microsoft/dev-container-features-template. Ignoring all of them. Please check the readme\n",
      "Found more than 5 github links in https://github.com/microsoft/DevSkim. Ignoring all of them. Please check the readme\n",
      "Found more than 5 github links in https://github.com/microsoft/DevSkim-Sublime-Plugin. Ignoring all of them. Please check the readme\n",
      "Found more than 5 github links in https://github.com/microsoft/devsquad-accelerators. Ignoring all of them. Please check the readme\n",
      "Found more than 5 github links in https://github.com/microsoft/DFOL-VQA. Ignoring all of them. Please check the readme\n",
      "Found more than 5 github links in https://github.com/microsoft/DiagManager. Ignoring all of them. Please check the readme\n",
      "Found more than 5 github links in https://github.com/microsoft/DialoGPT. Ignoring all of them. Please check the readme\n",
      "Found more than 5 github links in https://github.com/microsoft/DIF-Net. Ignoring all of them. Please check the readme\n",
      "Found more than 5 github links in https://github.com/microsoft/DirectML. Ignoring all of them. Please check the readme\n",
      "Found more than 5 github links in https://github.com/microsoft/DirectX-Graphics-Samples. Ignoring all of them. Please check the readme\n",
      "Found more than 5 github links in https://github.com/microsoft/DirectX-Specs. Ignoring all of them. Please check the readme\n",
      "Found more than 5 github links in https://github.com/microsoft/DirectXMath. Ignoring all of them. Please check the readme\n",
      "Found more than 5 github links in https://github.com/microsoft/DirectXShaderCompiler. Ignoring all of them. Please check the readme\n",
      "Found more than 5 github links in https://github.com/microsoft/DirectXTex. Ignoring all of them. Please check the readme\n",
      "Found more than 5 github links in https://github.com/microsoft/DirectXTK12. Ignoring all of them. Please check the readme\n",
      "Found more than 5 github links in https://github.com/microsoft/DiscoFaceGAN. Ignoring all of them. Please check the readme\n",
      "Found more than 5 github links in https://github.com/microsoft/diskspd. Ignoring all of them. Please check the readme\n",
      "Found more than 5 github links in https://github.com/microsoft/DMTK. Ignoring all of them. Please check the readme\n",
      "Found more than 5 github links in https://github.com/microsoft/DNS-Challenge. Ignoring all of them. Please check the readme\n",
      "Found more than 5 github links in https://github.com/microsoft/docker. Ignoring all of them. Please check the readme\n",
      "Found more than 5 github links in https://github.com/microsoft/Docker-PowerShell. Ignoring all of them. Please check the readme\n",
      "Found more than 5 github links in https://github.com/microsoft/docs. Ignoring all of them. Please check the readme\n",
      "Found more than 5 github links in https://github.com/microsoft/Documentarian. Ignoring all of them. Please check the readme\n",
      "Found more than 5 github links in https://github.com/microsoft/dotnet. Ignoring all of them. Please check the readme\n",
      "Found more than 5 github links in https://github.com/microsoft/dotnet-apiport. Ignoring all of them. Please check the readme\n",
      "Found more than 5 github links in https://github.com/microsoft/dotnet-apiweb. Ignoring all of them. Please check the readme\n",
      "Found more than 5 github links in https://github.com/microsoft/dotnetconf-studentzone. Ignoring all of them. Please check the readme\n",
      "Found more than 5 github links in https://github.com/microsoft/DSC-data-driven-deployment. Ignoring all of them. Please check the readme\n",
      "Found more than 5 github links in https://github.com/microsoft/dstc8-meta-dialog. Ignoring all of them. Please check the readme\n",
      "Found more than 5 github links in https://github.com/microsoft/dstoolkit-classification-solution-accelerator. Ignoring all of them. Please check the readme\n",
      "Found more than 5 github links in https://github.com/microsoft/dstoolkit-forecasting. Ignoring all of them. Please check the readme\n",
      "Found more than 5 github links in https://github.com/microsoft/dstoolkit-km-solution-accelerator. Ignoring all of them. Please check the readme\n",
      "Found more than 5 github links in https://github.com/microsoft/dtslint. Ignoring all of them. Please check the readme\n",
      "Found more than 5 github links in https://github.com/microsoft/DualOctreeGNN. Ignoring all of them. Please check the readme\n",
      "Found more than 5 github links in https://github.com/microsoft/DurableFunctionsMonitor. Ignoring all of them. Please check the readme\n",
      "Found more than 5 github links in https://github.com/microsoft/durabletask-go. Ignoring all of them. Please check the readme\n",
      "Found more than 5 github links in https://github.com/microsoft/durabletask-netherite. Ignoring all of them. Please check the readme\n",
      "Found more than 5 github links in https://github.com/microsoft/Dynamics-365-FastTrack-Implementation-Assets. Ignoring all of them. Please check the readme\n",
      "Found more than 5 github links in https://github.com/microsoft/Dynamics365Commerce.InStore. Ignoring all of them. Please check the readme\n",
      "Found more than 5 github links in https://github.com/microsoft/Dynamics365Commerce.ScaleUnit. Ignoring all of them. Please check the readme\n",
      "Found more than 5 github links in https://github.com/microsoft/Dynamics365FO-AppChecker. Ignoring all of them. Please check the readme\n",
      "Found more than 5 github links in https://github.com/microsoft/Early-Access-Engineering. Ignoring all of them. Please check the readme\n",
      "Found more than 5 github links in https://github.com/microsoft/Earth-Lens. Ignoring all of them. Please check the readme\n",
      "Found more than 5 github links in https://github.com/microsoft/ebpf-for-windows. Ignoring all of them. Please check the readme\n",
      "Found more than 5 github links in https://github.com/microsoft/ebpf-for-windows-release. Ignoring all of them. Please check the readme\n",
      "Found more than 5 github links in https://github.com/microsoft/EfficientLongSequenceModeling. Ignoring all of them. Please check the readme\n",
      "Found more than 5 github links in https://github.com/microsoft/electionguard. Ignoring all of them. Please check the readme\n",
      "Found more than 5 github links in https://github.com/microsoft/electionguard-api-python. Ignoring all of them. Please check the readme\n",
      "Found more than 5 github links in https://github.com/microsoft/electionguard-core2. Ignoring all of them. Please check the readme\n",
      "Found more than 5 github links in https://github.com/microsoft/electionguard-cpp. Ignoring all of them. Please check the readme\n",
      "Found more than 5 github links in https://github.com/microsoft/electionguard-egvote. Ignoring all of them. Please check the readme\n",
      "Found more than 5 github links in https://github.com/microsoft/electionguard-python. Ignoring all of them. Please check the readme\n",
      "Found more than 5 github links in https://github.com/microsoft/electionguard-ui. Ignoring all of them. Please check the readme\n",
      "Found more than 5 github links in https://github.com/microsoft/electron-gqlmapi. Ignoring all of them. Please check the readme\n",
      "Found more than 5 github links in https://github.com/microsoft/eMAPI. Ignoring all of them. Please check the readme\n",
      "Found more than 5 github links in https://github.com/microsoft/emerging-opportunities. Ignoring all of them. Please check the readme\n",
      "Found more than 5 github links in https://github.com/microsoft/entra. Ignoring all of them. Please check the readme\n",
      "Found more than 5 github links in https://github.com/microsoft/envoy. Ignoring all of them. Please check the readme\n",
      "Found more than 5 github links in https://github.com/microsoft/eShopOnContainers. Ignoring all of them. Please check the readme\n",
      "Found more than 5 github links in https://github.com/microsoft/eslint-plugin-sdl. Ignoring all of them. Please check the readme\n",
      "Found more than 5 github links in https://github.com/microsoft/esvit. Ignoring all of them. Please check the readme\n",
      "Found more than 5 github links in https://github.com/microsoft/ethr. Ignoring all of them. Please check the readme\n",
      "Found more than 5 github links in https://github.com/microsoft/ExpressivePixelsMakeCode. Ignoring all of them. Please check the readme\n",
      "Found more than 5 github links in https://github.com/microsoft/fabrikate. Ignoring all of them. Please check the readme\n",
      "Found more than 5 github links in https://github.com/microsoft/fabrikate-definitions. Ignoring all of them. Please check the readme\n",
      "Found more than 5 github links in https://github.com/microsoft/fabrikate-entref-spring-boot. Ignoring all of them. Please check the readme\n",
      "Found more than 5 github links in https://github.com/microsoft/FactoryOrchestrator. Ignoring all of them. Please check the readme\n",
      "Found more than 5 github links in https://github.com/microsoft/farmbeatsforstudents. Ignoring all of them. Please check the readme\n",
      "Found more than 5 github links in https://github.com/microsoft/fast. Ignoring all of them. Please check the readme\n",
      "Found more than 5 github links in https://github.com/microsoft/fast-prototyping. Ignoring all of them. Please check the readme\n",
      "Found more than 5 github links in https://github.com/microsoft/fast-react. Ignoring all of them. Please check the readme\n",
      "Found more than 5 github links in https://github.com/microsoft/fastformers. Ignoring all of them. Please check the readme\n",
      "Found more than 5 github links in https://github.com/microsoft/fastseq. Ignoring all of them. Please check the readme\n",
      "Found more than 5 github links in https://github.com/microsoft/FastTrack. Ignoring all of them. Please check the readme\n",
      "Found more than 5 github links in https://github.com/microsoft/FHIR-Converter. Ignoring all of them. Please check the readme\n",
      "Found more than 5 github links in https://github.com/microsoft/fhir-watch. Ignoring all of them. Please check the readme\n",
      "Found more than 5 github links in https://github.com/microsoft/flow2dts. Ignoring all of them. Please check the readme\n",
      "Found more than 5 github links in https://github.com/microsoft/fluentui-android. Ignoring all of them. Please check the readme\n",
      "Found more than 5 github links in https://github.com/microsoft/fluentui-apple. Ignoring all of them. Please check the readme\n",
      "Found more than 5 github links in https://github.com/microsoft/fluentui-blazor. Ignoring all of them. Please check the readme\n",
      "Found more than 5 github links in https://github.com/microsoft/FluidFramework. Ignoring all of them. Please check the readme\n",
      "Found more than 5 github links in https://github.com/microsoft/FocalNet. Ignoring all of them. Please check the readme\n",
      "Found more than 5 github links in https://github.com/microsoft/foldingdiff. Ignoring all of them. Please check the readme\n",
      "Found more than 5 github links in https://github.com/microsoft/Forge. Ignoring all of them. Please check the readme\n",
      "Found more than 5 github links in https://github.com/microsoft/foss-fund. Ignoring all of them. Please check the readme\n",
      "Found more than 5 github links in https://github.com/microsoft/frameworkcontroller. Ignoring all of them. Please check the readme\n",
      "Found more than 5 github links in https://github.com/microsoft/Freeflow. Ignoring all of them. Please check the readme\n",
      "Found more than 5 github links in https://github.com/microsoft/gadgetron-azure. Ignoring all of them. Please check the readme\n",
      "Found more than 5 github links in https://github.com/microsoft/genalog. Ignoring all of them. Please check the readme\n",
      "Found more than 5 github links in https://github.com/microsoft/GenerativeImage2Text. Ignoring all of them. Please check the readme\n",
      "Found more than 5 github links in https://github.com/microsoft/genomicsnotebook. Ignoring all of them. Please check the readme\n",
      "Found more than 5 github links in https://github.com/microsoft/GHC19-GroverSearch. Ignoring all of them. Please check the readme\n",
      "Found more than 5 github links in https://github.com/microsoft/ghcrawler. Ignoring all of them. Please check the readme\n",
      "Found more than 5 github links in https://github.com/microsoft/git. Ignoring all of them. Please check the readme\n",
      "Found more than 5 github links in https://github.com/microsoft/Git-Credential-Manager-for-Windows. Ignoring all of them. Please check the readme\n",
      "Found more than 5 github links in https://github.com/microsoft/github-actions-for-desktop-apps. Ignoring all of them. Please check the readme\n",
      "Found more than 5 github links in https://github.com/microsoft/GlobalMLBuildingFootprints. Ignoring all of them. Please check the readme\n",
      "Found more than 5 github links in https://github.com/microsoft/glTF-Toolkit. Ignoring all of them. Please check the readme\n",
      "Found more than 5 github links in https://github.com/microsoft/go. Ignoring all of them. Please check the readme\n",
      "Found more than 5 github links in https://github.com/microsoft/go-images. Ignoring all of them. Please check the readme\n",
      "Found more than 5 github links in https://github.com/microsoft/go-mssqldb. Ignoring all of them. Please check the readme\n",
      "Found more than 5 github links in https://github.com/microsoft/go-sqlcmd. Ignoring all of them. Please check the readme\n",
      "Found more than 5 github links in https://github.com/microsoft/GODEL. Ignoring all of them. Please check the readme\n",
      "Found more than 5 github links in https://github.com/microsoft/gps-csa-tech-stack. Ignoring all of them. Please check the readme\n",
      "Found more than 5 github links in https://github.com/microsoft/GRAM. Ignoring all of them. Please check the readme\n",
      "Found more than 5 github links in https://github.com/microsoft/graspologic. Ignoring all of them. Please check the readme\n",
      "Found more than 5 github links in https://github.com/microsoft/GSL. Ignoring all of them. Please check the readme\n",
      "Found more than 5 github links in https://github.com/microsoft/guidance. Ignoring all of them. Please check the readme\n",
      "Found more than 5 github links in https://github.com/microsoft/hack-together. Ignoring all of them. Please check the readme\n",
      "Found more than 5 github links in https://github.com/microsoft/hack-together-teams. Ignoring all of them. Please check the readme\n",
      "Found more than 5 github links in https://github.com/microsoft/hackathon-starter-kit. Ignoring all of them. Please check the readme\n",
      "Found more than 5 github links in https://github.com/microsoft/hackingstem. Ignoring all of them. Please check the readme\n",
      "Found more than 5 github links in https://github.com/microsoft/hcsshim. Ignoring all of them. Please check the readme\n",
      "Found more than 5 github links in https://github.com/microsoft/healthkit-on-fhir. Ignoring all of them. Please check the readme\n",
      "Found more than 5 github links in https://github.com/microsoft/hello-sensorcore. Ignoring all of them. Please check the readme\n",
      "Found more than 5 github links in https://github.com/microsoft/hermes-windows. Ignoring all of them. Please check the readme\n",
      "Found more than 5 github links in https://github.com/microsoft/HighSecurityAPIM. Ignoring all of them. Please check the readme\n",
      "Found more than 5 github links in https://github.com/microsoft/hivedscheduler. Ignoring all of them. Please check the readme\n",
      "Found more than 5 github links in https://github.com/microsoft/hls-home. Ignoring all of them. Please check the readme\n",
      "Found more than 5 github links in https://github.com/microsoft/HolographicAcademy. Ignoring all of them. Please check the readme\n",
      "Found more than 5 github links in https://github.com/microsoft/HoloJS. Ignoring all of them. Please check the readme\n",
      "Found more than 5 github links in https://github.com/microsoft/HoloLens2ForCV. Ignoring all of them. Please check the readme\n",
      "Found more than 5 github links in https://github.com/microsoft/huggingface-transformers. Ignoring all of them. Please check the readme\n",
      "Found more than 5 github links in https://github.com/microsoft/human-pose-estimation.pytorch. Ignoring all of them. Please check the readme\n",
      "Found more than 5 github links in https://github.com/microsoft/hummingbird. Ignoring all of them. Please check the readme\n",
      "Found more than 5 github links in https://github.com/microsoft/HydraLab. Ignoring all of them. Please check the readme\n",
      "Found more than 5 github links in https://github.com/microsoft/IdMyPhBuildingFootprints. Ignoring all of them. Please check the readme\n",
      "Found more than 5 github links in https://github.com/microsoft/ignite-learning-paths-training. Ignoring all of them. Please check the readme\n",
      "Found more than 5 github links in https://github.com/microsoft/Industry-Accelerator-Automotive. Ignoring all of them. Please check the readme\n",
      "Found more than 5 github links in https://github.com/microsoft/Industry-Accelerator-Education. Ignoring all of them. Please check the readme\n",
      "Found more than 5 github links in https://github.com/microsoft/Industry-Accelerator-FinancialServices. Ignoring all of them. Please check the readme\n",
      "Found more than 5 github links in https://github.com/microsoft/Industry-Accelerator-Government. Ignoring all of them. Please check the readme\n",
      "Found more than 5 github links in https://github.com/microsoft/Industry-Accelerator-Media. Ignoring all of them. Please check the readme\n",
      "Found more than 5 github links in https://github.com/microsoft/Industry-Accelerator-Nonprofit. Ignoring all of them. Please check the readme\n",
      "Found more than 5 github links in https://github.com/microsoft/Industry-Accelerator-Telco. Ignoring all of them. Please check the readme\n",
      "Found more than 5 github links in https://github.com/microsoft/infersharp. Ignoring all of them. Please check the readme\n",
      "Found more than 5 github links in https://github.com/microsoft/InnerEye-DeepLearning. Ignoring all of them. Please check the readme\n",
      "Found more than 5 github links in https://github.com/microsoft/InnerEye-Gateway. Ignoring all of them. Please check the readme\n",
      "Found more than 5 github links in https://github.com/microsoft/InsiderDevTour18. Ignoring all of them. Please check the readme\n",
      "Found more than 5 github links in https://github.com/microsoft/ionic-azure-conference-app. Ignoring all of them. Please check the readme\n",
      "Found more than 5 github links in https://github.com/microsoft/iot-cardboard-js. Ignoring all of them. Please check the readme\n",
      "Found more than 5 github links in https://github.com/microsoft/iot-curriculum. Ignoring all of them. Please check the readme\n",
      "Found more than 5 github links in https://github.com/microsoft/IPC. Ignoring all of them. Please check the readme\n",
      "Found more than 5 github links in https://github.com/microsoft/IPC.Bond. Ignoring all of them. Please check the readme\n",
      "Found more than 5 github links in https://github.com/microsoft/jacdac-c. Ignoring all of them. Please check the readme\n",
      "Found more than 5 github links in https://github.com/microsoft/jacdac-stm32x0. Ignoring all of them. Please check the readme\n",
      "Found more than 5 github links in https://github.com/microsoft/jmeter-performance-analyzer-devops-extension. Ignoring all of them. Please check the readme\n",
      "Found more than 5 github links in https://github.com/microsoft/kafka-connect-cosmosdb. Ignoring all of them. Please check the readme\n",
      "Found more than 5 github links in https://github.com/microsoft/kalypso. Ignoring all of them. Please check the readme\n",
      "Found more than 5 github links in https://github.com/microsoft/kalypso-scheduler. Ignoring all of them. Please check the readme\n",
      "Found more than 5 github links in https://github.com/microsoft/kata-containers. Ignoring all of them. Please check the readme\n",
      "Found more than 5 github links in https://github.com/microsoft/kata-containers-tests. Ignoring all of them. Please check the readme\n",
      "Found more than 5 github links in https://github.com/microsoft/KC. Ignoring all of them. Please check the readme\n",
      "Found more than 5 github links in https://github.com/microsoft/kiota. Ignoring all of them. Please check the readme\n",
      "Found more than 5 github links in https://github.com/microsoft/klite. Ignoring all of them. Please check the readme\n",
      "Found more than 5 github links in https://github.com/microsoft/knack. Ignoring all of them. Please check the readme\n",
      "Found more than 5 github links in https://github.com/microsoft/knowledge-extraction-recipes-forms. Ignoring all of them. Please check the readme\n",
      "Found more than 5 github links in https://github.com/microsoft/lamar-benchmark. Ignoring all of them. Please check the readme\n",
      "Found more than 5 github links in https://github.com/microsoft/landcover-orinoquia. Ignoring all of them. Please check the readme\n",
      "Found more than 5 github links in https://github.com/microsoft/libHttpClient. Ignoring all of them. Please check the readme\n",
      "Found more than 5 github links in https://github.com/microsoft/LightGBM. Ignoring all of them. Please check the readme\n",
      "Found more than 5 github links in https://github.com/microsoft/lockfile-explorer-demos. Ignoring all of them. Please check the readme\n",
      "Found more than 5 github links in https://github.com/microsoft/logrl. Ignoring all of them. Please check the readme\n",
      "Found more than 5 github links in https://github.com/microsoft/LoRA. Ignoring all of them. Please check the readme\n",
      "Found more than 5 github links in https://github.com/microsoft/LSKV. Ignoring all of them. Please check the readme\n",
      "Found more than 5 github links in https://github.com/microsoft/Lumia-Imaging-SDK-Extras. Ignoring all of them. Please check the readme\n",
      "Found more than 5 github links in https://github.com/microsoft/m365-renovate-config. Ignoring all of them. Please check the readme\n",
      "Found more than 5 github links in https://github.com/microsoft/machine-learning-collection. Ignoring all of them. Please check the readme\n",
      "Found more than 5 github links in https://github.com/microsoft/macos-cookbook. Ignoring all of them. Please check the readme\n",
      "Found more than 5 github links in https://github.com/microsoft/maker.js. Ignoring all of them. Please check the readme\n",
      "Found more than 5 github links in https://github.com/microsoft/malmo. Ignoring all of them. Please check the readme\n",
      "Found more than 5 github links in https://github.com/microsoft/malmo-challenge. Ignoring all of them. Please check the readme\n",
      "Found more than 5 github links in https://github.com/microsoft/MapsSDK-Native. Ignoring all of them. Please check the readme\n",
      "Found more than 5 github links in https://github.com/microsoft/MapsSDK-Unity. Ignoring all of them. Please check the readme\n",
      "Found more than 5 github links in https://github.com/microsoft/maro. Ignoring all of them. Please check the readme\n",
      "Found more than 5 github links in https://github.com/microsoft/MASS. Ignoring all of them. Please check the readme\n",
      "Found more than 5 github links in https://github.com/microsoft/mattercenter. Ignoring all of them. Please check the readme\n",
      "Found more than 5 github links in https://github.com/microsoft/MazeExplorer. Ignoring all of them. Please check the readme\n",
      "Found more than 5 github links in https://github.com/microsoft/MCW. Ignoring all of them. Please check the readme\n",
      "Found more than 5 github links in https://github.com/microsoft/med-deadend. Ignoring all of them. Please check the readme\n",
      "Found more than 5 github links in https://github.com/microsoft/MedImaging-ModelDriftMonitoring. Ignoring all of them. Please check the readme\n",
      "Found more than 5 github links in https://github.com/microsoft/Megatron-DeepSpeed. Ignoring all of them. Please check the readme\n",
      "Found more than 5 github links in https://github.com/microsoft/MeshGraphormer. Ignoring all of them. Please check the readme\n",
      "Found more than 5 github links in https://github.com/microsoft/MeshTransformer. Ignoring all of them. Please check the readme\n",
      "Found more than 5 github links in https://github.com/microsoft/mesos. Ignoring all of them. Please check the readme\n",
      "Found more than 5 github links in https://github.com/microsoft/Mezzurite-DevTools. Ignoring all of them. Please check the readme\n",
      "Found more than 5 github links in https://github.com/microsoft/Microsoft-365-Defender-Hunting-Queries. Ignoring all of them. Please check the readme\n",
      "Found more than 5 github links in https://github.com/microsoft/microsoft-bonsai-api. Ignoring all of them. Please check the readme\n",
      "Found more than 5 github links in https://github.com/microsoft/Microsoft-QnA. Ignoring all of them. Please check the readme\n",
      "Found more than 5 github links in https://github.com/microsoft/microsoft-teams-apps-company-communicator. Ignoring all of them. Please check the readme\n",
      "Found more than 5 github links in https://github.com/microsoft/microsoft-teams-brainy-bot. Ignoring all of them. Please check the readme\n",
      "Found more than 5 github links in https://github.com/microsoft/microsoft-ui-xaml. Ignoring all of them. Please check the readme\n",
      "Found more than 5 github links in https://github.com/microsoft/microsoft-ui-xaml-specs. Ignoring all of them. Please check the readme\n",
      "Found more than 5 github links in https://github.com/microsoft/Microsoft.Unity.Analyzers. Ignoring all of them. Please check the readme\n",
      "Found more than 5 github links in https://github.com/microsoft/Microsoft365DSC. Ignoring all of them. Please check the readme\n",
      "Found more than 5 github links in https://github.com/microsoft/MIEngine. Ignoring all of them. Please check the readme\n",
      "Found more than 5 github links in https://github.com/microsoft/mimalloc. Ignoring all of them. Please check the readme\n",
      "Found more than 5 github links in https://github.com/microsoft/MIMPowerShellConnectors. Ignoring all of them. Please check the readme\n",
      "Found more than 5 github links in https://github.com/microsoft/mixed-reality-extension-sdk. Ignoring all of them. Please check the readme\n",
      "Found more than 5 github links in https://github.com/microsoft/mixed-reality-extension-unity. Ignoring all of them. Please check the readme\n",
      "Found more than 5 github links in https://github.com/microsoft/MixedReality-WebRTC. Ignoring all of them. Please check the readme\n",
      "Found more than 5 github links in https://github.com/microsoft/MixedRealityDesignLabs_Unity. Ignoring all of them. Please check the readme\n",
      "Found more than 5 github links in https://github.com/microsoft/MixedRealityToolkit. Ignoring all of them. Please check the readme\n",
      "Found more than 5 github links in https://github.com/microsoft/MixedRealityToolkit-Unity. Ignoring all of them. Please check the readme\n",
      "Found more than 5 github links in https://github.com/microsoft/ML-Server. Ignoring all of them. Please check the readme\n",
      "Found more than 5 github links in https://github.com/microsoft/MLontheEdgeCodeProject. Ignoring all of them. Please check the readme\n",
      "Found more than 5 github links in https://github.com/microsoft/MLOps. Ignoring all of them. Please check the readme\n",
      "Found more than 5 github links in https://github.com/microsoft/MLOS. Ignoring all of them. Please check the readme\n",
      "Found more than 5 github links in https://github.com/microsoft/MMdnn. Ignoring all of them. Please check the readme\n",
      "Found more than 5 github links in https://github.com/microsoft/Mobius. Ignoring all of them. Please check the readme\n",
      "Found more than 5 github links in https://github.com/microsoft/MoCapAct. Ignoring all of them. Please check the readme\n",
      "Found more than 5 github links in https://github.com/microsoft/molecule-generation. Ignoring all of them. Please check the readme\n",
      "Found more than 5 github links in https://github.com/microsoft/mona-saas. Ignoring all of them. Please check the readme\n",
      "Found more than 5 github links in https://github.com/microsoft/monaco-editor. Ignoring all of them. Please check the readme\n",
      "Found more than 5 github links in https://github.com/microsoft/moodle-block_onenote. Ignoring all of them. Please check the readme\n",
      "Found more than 5 github links in https://github.com/microsoft/moodle-local_microsoftservices. Ignoring all of them. Please check the readme\n",
      "Found more than 5 github links in https://github.com/microsoft/moodle-local_msaccount. Ignoring all of them. Please check the readme\n",
      "Found more than 5 github links in https://github.com/microsoft/moodle-local_office365. Ignoring all of them. Please check the readme\n",
      "Found more than 5 github links in https://github.com/microsoft/moodle-profilefield_oidc. Ignoring all of them. Please check the readme\n",
      "Found more than 5 github links in https://github.com/microsoft/moodle-repository_onenote. Ignoring all of them. Please check the readme\n",
      "Found more than 5 github links in https://github.com/microsoft/MPI.NET. Ignoring all of them. Please check the readme\n",
      "Found more than 5 github links in https://github.com/microsoft/MRDesignLabs. Ignoring all of them. Please check the readme\n",
      "Found more than 5 github links in https://github.com/microsoft/MRDL_Unity_LunarModule. Ignoring all of them. Please check the readme\n",
      "Found more than 5 github links in https://github.com/microsoft/MRDL_Unity_PeriodicTable. Ignoring all of them. Please check the readme\n",
      "Found more than 5 github links in https://github.com/microsoft/msccl. Ignoring all of them. Please check the readme\n",
      "Found more than 5 github links in https://github.com/microsoft/msccl-tools. Ignoring all of them. Please check the readme\n",
      "Found more than 5 github links in https://github.com/microsoft/msix-packaging. Ignoring all of them. Please check the readme\n",
      "Found more than 5 github links in https://github.com/microsoft/MSMARCO-Conversational-Search. Ignoring all of them. Please check the readme\n",
      "Found more than 5 github links in https://github.com/microsoft/MSMARCO-Document-Ranking. Ignoring all of them. Please check the readme\n",
      "Found more than 5 github links in https://github.com/microsoft/MSMARCO-Passage-Ranking. Ignoring all of them. Please check the readme\n",
      "Found more than 5 github links in https://github.com/microsoft/MSMARCO-Question-Answering. Ignoring all of them. Please check the readme\n",
      "Found more than 5 github links in https://github.com/microsoft/msphpsql. Ignoring all of them. Please check the readme\n",
      "Found more than 5 github links in https://github.com/microsoft/MSR-NLP-Projects. Ignoring all of them. Please check the readme\n",
      "Found more than 5 github links in https://github.com/microsoft/msrflute. Ignoring all of them. Please check the readme\n",
      "Found more than 5 github links in https://github.com/microsoft/MSRSec. Ignoring all of them. Please check the readme\n",
      "Found more than 5 github links in https://github.com/microsoft/msticnb. Ignoring all of them. Please check the readme\n",
      "Found more than 5 github links in https://github.com/microsoft/msticpy. Ignoring all of them. Please check the readme\n",
      "Found more than 5 github links in https://github.com/microsoft/MT-DNN. Ignoring all of them. Please check the readme\n",
      "Found more than 5 github links in https://github.com/microsoft/MTC_IL_WORKSHOP_Multi_Runtime_Environment_Application. Ignoring all of them. Please check the readme\n",
      "Found more than 5 github links in https://github.com/microsoft/multicluster-gitops. Ignoring all of them. Please check the readme\n",
      "Found more than 5 github links in https://github.com/microsoft/mup. Ignoring all of them. Please check the readme\n",
      "Found more than 5 github links in https://github.com/microsoft/mutransformers. Ignoring all of them. Please check the readme\n",
      "Found more than 5 github links in https://github.com/microsoft/mu_devops. Ignoring all of them. Please check the readme\n",
      "Found more than 5 github links in https://github.com/microsoft/mu_tiano_platforms. Ignoring all of them. Please check the readme\n",
      "Found more than 5 github links in https://github.com/microsoft/mwx-teams-spo-nav. Ignoring all of them. Please check the readme\n",
      "Found more than 5 github links in https://github.com/microsoft/mwx-teams-vaccine-attestation. Ignoring all of them. Please check the readme\n",
      "Found more than 5 github links in https://github.com/microsoft/mysqltoolsservice. Ignoring all of them. Please check the readme\n",
      "Found more than 5 github links in https://github.com/microsoft/napajs. Ignoring all of them. Please check the readme\n",
      "Found more than 5 github links in https://github.com/microsoft/NativeKeras. Ignoring all of them. Please check the readme\n",
      "Found more than 5 github links in https://github.com/microsoft/ndis-driver-library. Ignoring all of them. Please check the readme\n",
      "Found more than 5 github links in https://github.com/microsoft/nearobject-framework. Ignoring all of them. Please check the readme\n",
      "Found more than 5 github links in https://github.com/microsoft/nlp-recipes. Ignoring all of them. Please check the readme\n",
      "Found more than 5 github links in https://github.com/microsoft/nn-Meter. Ignoring all of them. Please check the readme\n",
      "Found more than 5 github links in https://github.com/microsoft/nnfusion. Ignoring all of them. Please check the readme\n",
      "Found more than 5 github links in https://github.com/microsoft/nni. Ignoring all of them. Please check the readme\n",
      "Found more than 5 github links in https://github.com/microsoft/node-pty. Ignoring all of them. Please check the readme\n",
      "Found more than 5 github links in https://github.com/microsoft/nodejs-guidelines. Ignoring all of them. Please check the readme\n",
      "Found more than 5 github links in https://github.com/microsoft/NPKit. Ignoring all of them. Please check the readme\n",
      "Found more than 5 github links in https://github.com/microsoft/o365-moodle. Ignoring all of them. Please check the readme\n",
      "Found more than 5 github links in https://github.com/microsoft/OCP-ISV-Innovation-Day. Ignoring all of them. Please check the readme\n",
      "Found more than 5 github links in https://github.com/microsoft/OCR-Form-Tools. Ignoring all of them. Please check the readme\n",
      "Found more than 5 github links in https://github.com/microsoft/OHDSIonAzure. Ignoring all of them. Please check the readme\n",
      "Found more than 5 github links in https://github.com/microsoft/Omex. Ignoring all of them. Please check the readme\n",
      "Found more than 5 github links in https://github.com/microsoft/omi. Ignoring all of them. Please check the readme\n",
      "Found more than 5 github links in https://github.com/microsoft/omnichannel-chat-widget. Ignoring all of them. Please check the readme\n",
      "Found more than 5 github links in https://github.com/microsoft/OMS-docker. Ignoring all of them. Please check the readme\n",
      "Found more than 5 github links in https://github.com/microsoft/online-semantic-parsing-for-latency-reduction. Ignoring all of them. Please check the readme\n",
      "Found more than 5 github links in https://github.com/microsoft/onnxjs. Ignoring all of them. Please check the readme\n",
      "Found more than 5 github links in https://github.com/microsoft/onnxjs-demo. Ignoring all of them. Please check the readme\n",
      "Found more than 5 github links in https://github.com/microsoft/onnxruntime-openenclave. Ignoring all of them. Please check the readme\n",
      "Found more than 5 github links in https://github.com/microsoft/onnxruntime-training-examples. Ignoring all of them. Please check the readme\n",
      "Found more than 5 github links in https://github.com/microsoft/onnxruntime-web-demo. Ignoring all of them. Please check the readme\n",
      "Found more than 5 github links in https://github.com/microsoft/onnxscript. Ignoring all of them. Please check the readme\n",
      "Found more than 5 github links in https://github.com/microsoft/Open-Maps. Ignoring all of them. Please check the readme\n",
      "Found more than 5 github links in https://github.com/microsoft/OpenAI-Hack-Group-5-Humanitarian. Ignoring all of them. Please check the readme\n",
      "Found more than 5 github links in https://github.com/microsoft/OpenEduAnalytics. Ignoring all of them. Please check the readme\n",
      "Found more than 5 github links in https://github.com/microsoft/opengcs. Ignoring all of them. Please check the readme\n",
      "Found more than 5 github links in https://github.com/microsoft/openjdk-aarch64. Ignoring all of them. Please check the readme\n",
      "Found more than 5 github links in https://github.com/microsoft/OpenKP. Ignoring all of them. Please check the readme\n",
      "Found more than 5 github links in https://github.com/microsoft/openpaimarketplace. Ignoring all of them. Please check the readme\n",
      "Found more than 5 github links in https://github.com/microsoft/openpaisdk. Ignoring all of them. Please check the readme\n",
      "Found more than 5 github links in https://github.com/microsoft/openpaivscode. Ignoring all of them. Please check the readme\n",
      "Found more than 5 github links in https://github.com/microsoft/openscraping-lib-csharp. Ignoring all of them. Please check the readme\n",
      "Found more than 5 github links in https://github.com/microsoft/OpenXR-MixedReality. Ignoring all of them. Please check the readme\n",
      "Found more than 5 github links in https://github.com/microsoft/optee_os. Ignoring all of them. Please check the readme\n",
      "Found more than 5 github links in https://github.com/microsoft/ORBIT-Dataset. Ignoring all of them. Please check the readme\n",
      "Found more than 5 github links in https://github.com/microsoft/OSSGadget. Ignoring all of them. Please check the readme\n",
      "Found more than 5 github links in https://github.com/microsoft/PackageUploader. Ignoring all of them. Please check the readme\n",
      "Found more than 5 github links in https://github.com/microsoft/PageTour-SDK. Ignoring all of them. Please check the readme\n",
      "Found more than 5 github links in https://github.com/microsoft/pai. Ignoring all of them. Please check the readme\n",
      "Found more than 5 github links in https://github.com/microsoft/pal. Ignoring all of them. Please check the readme\n",
      "Found more than 5 github links in https://github.com/microsoft/pbilabs. Ignoring all of them. Please check the readme\n",
      "Found more than 5 github links in https://github.com/microsoft/pgtoolsservice. Ignoring all of them. Please check the readme\n",
      "Found more than 5 github links in https://github.com/microsoft/PixelDefend. Ignoring all of them. Please check the readme\n",
      "Found more than 5 github links in https://github.com/microsoft/places. Ignoring all of them. Please check the readme\n",
      "Found more than 5 github links in https://github.com/microsoft/planetary-computer-hub. Ignoring all of them. Please check the readme\n",
      "Found more than 5 github links in https://github.com/microsoft/PlanetaryComputer. Ignoring all of them. Please check the readme\n",
      "Found more than 5 github links in https://github.com/microsoft/playwright-github-action. Ignoring all of them. Please check the readme\n",
      "Found more than 5 github links in https://github.com/microsoft/plcrashreporter. Ignoring all of them. Please check the readme\n",
      "Found more than 5 github links in https://github.com/microsoft/PLCrashReporter-Fork. Ignoring all of them. Please check the readme\n",
      "Found more than 5 github links in https://github.com/microsoft/pmod. Ignoring all of them. Please check the readme\n",
      "Found more than 5 github links in https://github.com/microsoft/Power-BI-ADF-Synapse. Ignoring all of them. Please check the readme\n",
      "Found more than 5 github links in https://github.com/microsoft/PowerApps-TestEngine. Ignoring all of them. Please check the readme\n",
      "Found more than 5 github links in https://github.com/microsoft/PowerBI-Ember. Ignoring all of them. Please check the readme\n",
      "Found more than 5 github links in https://github.com/microsoft/PowerBI-visuals-CardBrowser. Ignoring all of them. Please check the readme\n",
      "Found more than 5 github links in https://github.com/microsoft/powerplatform-actions. Ignoring all of them. Please check the readme\n",
      "Found more than 5 github links in https://github.com/microsoft/powerplatform-vscode. Ignoring all of them. Please check the readme\n",
      "Found more than 5 github links in https://github.com/microsoft/PowerPlatformConnectors. Ignoring all of them. Please check the readme\n",
      "Found more than 5 github links in https://github.com/microsoft/PowerShell-DSC-for-Linux. Ignoring all of them. Please check the readme\n",
      "Found more than 5 github links in https://github.com/microsoft/PowerShellForGitHub. Ignoring all of them. Please check the readme\n",
      "Found more than 5 github links in https://github.com/microsoft/PowerStig. Ignoring all of them. Please check the readme\n",
      "Found more than 5 github links in https://github.com/microsoft/PowerStigDsc. Ignoring all of them. Please check the readme\n",
      "Found more than 5 github links in https://github.com/microsoft/PowerToys. Ignoring all of them. Please check the readme\n",
      "Found more than 5 github links in https://github.com/microsoft/PQCrypto-VPN. Ignoring all of them. Please check the readme\n",
      "Found more than 5 github links in https://github.com/microsoft/praxxis. Ignoring all of them. Please check the readme\n",
      "Found more than 5 github links in https://github.com/microsoft/PromptCraft-Robotics. Ignoring all of them. Please check the readme\n",
      "Found more than 5 github links in https://github.com/microsoft/ProphetNet. Ignoring all of them. Please check the readme\n",
      "Found more than 5 github links in https://github.com/microsoft/protein-uq. Ignoring all of them. Please check the readme\n",
      "Found more than 5 github links in https://github.com/microsoft/PSDocs-vscode. Ignoring all of them. Please check the readme\n",
      "Found more than 5 github links in https://github.com/microsoft/psi. Ignoring all of them. Please check the readme\n",
      "Found more than 5 github links in https://github.com/microsoft/psi-samples. Ignoring all of them. Please check the readme\n",
      "Found more than 5 github links in https://github.com/microsoft/PSRule.Rules.CAF. Ignoring all of them. Please check the readme\n",
      "Found more than 5 github links in https://github.com/microsoft/psscriptanalyzer-action. Ignoring all of them. Please check the readme\n",
      "Found more than 5 github links in https://github.com/microsoft/pulse-prometheus. Ignoring all of them. Please check the readme\n",
      "Found more than 5 github links in https://github.com/microsoft/pxt-arcade. Ignoring all of them. Please check the readme\n",
      "Found more than 5 github links in https://github.com/microsoft/pxt-blockly. Ignoring all of them. Please check the readme\n",
      "Found more than 5 github links in https://github.com/microsoft/pxt-calliope. Ignoring all of them. Please check the readme\n",
      "Found more than 5 github links in https://github.com/microsoft/pxt-maker. Ignoring all of them. Please check the readme\n",
      "Found more than 5 github links in https://github.com/microsoft/pxt-microbit. Ignoring all of them. Please check the readme\n",
      "Found more than 5 github links in https://github.com/microsoft/pxt-robotis. Ignoring all of them. Please check the readme\n",
      "Found more than 5 github links in https://github.com/microsoft/pxt-tutorial-sample. Ignoring all of them. Please check the readme\n",
      "Found more than 5 github links in https://github.com/microsoft/pybryt. Ignoring all of them. Please check the readme\n",
      "Found more than 5 github links in https://github.com/microsoft/pylance-release. Ignoring all of them. Please check the readme\n",
      "Found more than 5 github links in https://github.com/microsoft/PyMarlin. Ignoring all of them. Please check the readme\n",
      "Found more than 5 github links in https://github.com/microsoft/SPACH. Ignoring all of them. Please check the readme\n",
      "Found more than 5 github links in https://github.com/microsoft/spatialaudio-unity. Ignoring all of them. Please check the readme\n",
      "Found more than 5 github links in https://github.com/microsoft/SpeciesClassification. Ignoring all of them. Please check the readme\n",
      "Found more than 5 github links in https://github.com/microsoft/SpeechT5. Ignoring all of them. Please check the readme\n",
      "Found more than 5 github links in https://github.com/microsoft/spring-cloud-azure. Ignoring all of them. Please check the readme\n",
      "Found more than 5 github links in https://github.com/microsoft/SQL-Server-R-Services-Samples. Ignoring all of them. Please check the readme\n",
      "Found more than 5 github links in https://github.com/microsoft/sql-server-samples. Ignoring all of them. Please check the readme\n",
      "Found more than 5 github links in https://github.com/microsoft/SqlNexus. Ignoring all of them. Please check the readme\n",
      "Found more than 5 github links in https://github.com/microsoft/sqlworkshops. Ignoring all of them. Please check the readme\n",
      "Found more than 5 github links in https://github.com/microsoft/sqlworkshops-azuresqllabs. Ignoring all of them. Please check the readme\n",
      "Found more than 5 github links in https://github.com/microsoft/sqlworkshops-azuresqlworkshop. Ignoring all of them. Please check the readme\n",
      "Found more than 5 github links in https://github.com/microsoft/sqlworkshops-bdconopenshift. Ignoring all of them. Please check the readme\n",
      "Found more than 5 github links in https://github.com/microsoft/sqlworkshops-k8stobdc. Ignoring all of them. Please check the readme\n",
      "Found more than 5 github links in https://github.com/microsoft/sqlworkshops-pythonfordatapros. Ignoring all of them. Please check the readme\n",
      "Found more than 5 github links in https://github.com/microsoft/sqlworkshops-sql2019lab. Ignoring all of them. Please check the readme\n",
      "Found more than 5 github links in https://github.com/microsoft/sqlworkshops-sql2019workshop. Ignoring all of them. Please check the readme\n",
      "Found more than 5 github links in https://github.com/microsoft/sqlworkshops-sql2022workshop. Ignoring all of them. Please check the readme\n",
      "Found more than 5 github links in https://github.com/microsoft/sqlworkshops-sqlg2c. Ignoring all of them. Please check the readme\n",
      "Found more than 5 github links in https://github.com/microsoft/startups. Ignoring all of them. Please check the readme\n",
      "Found more than 5 github links in https://github.com/microsoft/static-web-apps-gallery-code-samples. Ignoring all of them. Please check the readme\n",
      "Found more than 5 github links in https://github.com/microsoft/statsd. Ignoring all of them. Please check the readme\n",
      "Found more than 5 github links in https://github.com/microsoft/steps. Ignoring all of them. Please check the readme\n",
      "Found more than 5 github links in https://github.com/microsoft/STL. Ignoring all of them. Please check the readme\n",
      "Found more than 5 github links in https://github.com/microsoft/StyleSwin. Ignoring all of them. Please check the readme\n",
      "Found more than 5 github links in https://github.com/microsoft/surface-duo-app-samples. Ignoring all of them. Please check the readme\n",
      "Found more than 5 github links in https://github.com/microsoft/surface-duo-compose-samples. Ignoring all of them. Please check the readme\n",
      "Found more than 5 github links in https://github.com/microsoft/surface-duo-compose-sdk. Ignoring all of them. Please check the readme\n",
      "Found more than 5 github links in https://github.com/microsoft/surface-duo-dual-screen-experience-example. Ignoring all of them. Please check the readme\n",
      "Found more than 5 github links in https://github.com/microsoft/surface-duo-sdk. Ignoring all of them. Please check the readme\n",
      "Found more than 5 github links in https://github.com/microsoft/surface-duo-sdk-samples. Ignoring all of them. Please check the readme\n",
      "Found more than 5 github links in https://github.com/microsoft/surface-duo-sdk-samples-flutter. Ignoring all of them. Please check the readme\n",
      "Found more than 5 github links in https://github.com/microsoft/surface-duo-sdk-samples-kotlin. Ignoring all of them. Please check the readme\n",
      "Found more than 5 github links in https://github.com/microsoft/surface-duo-sdk-unity-samples. Ignoring all of them. Please check the readme\n",
      "Found more than 5 github links in https://github.com/microsoft/surface-duo-sdk-xamarin-samples. Ignoring all of them. Please check the readme\n",
      "Found more than 5 github links in https://github.com/microsoft/surface-duo-window-manager-samples. Ignoring all of them. Please check the readme\n",
      "Found more than 5 github links in https://github.com/microsoft/swagger-ui. Ignoring all of them. Please check the readme\n",
      "Found more than 5 github links in https://github.com/microsoft/Swin-Transformer. Ignoring all of them. Please check the readme\n",
      "Found more than 5 github links in https://github.com/microsoft/SwinBERT. Ignoring all of them. Please check the readme\n",
      "Found more than 5 github links in https://github.com/microsoft/Synapse. Ignoring all of them. Please check the readme\n",
      "Found more than 5 github links in https://github.com/microsoft/SynapseML. Ignoring all of them. Please check the readme\n",
      "Found more than 5 github links in https://github.com/microsoft/synthetic-data-showcase. Ignoring all of them. Please check the readme\n",
      "Found more than 5 github links in https://github.com/microsoft/Table-Pretraining. Ignoring all of them. Please check the readme\n",
      "Found more than 5 github links in https://github.com/microsoft/TagAnomaly. Ignoring all of them. Please check the readme\n",
      "Found more than 5 github links in https://github.com/microsoft/TailwindTraders. Ignoring all of them. Please check the readme\n",
      "Found more than 5 github links in https://github.com/microsoft/TailwindTraders-Backend. Ignoring all of them. Please check the readme\n",
      "Found more than 5 github links in https://github.com/microsoft/TailwindTraders-Desktop. Ignoring all of them. Please check the readme\n",
      "Found more than 5 github links in https://github.com/microsoft/TailwindTraders-Mobile. Ignoring all of them. Please check the readme\n",
      "Found more than 5 github links in https://github.com/microsoft/TailwindTraders-PointOfSale. Ignoring all of them. Please check the readme\n",
      "Found more than 5 github links in https://github.com/microsoft/TailwindTraders-ShippingManagement. Ignoring all of them. Please check the readme\n",
      "Found more than 5 github links in https://github.com/microsoft/TailwindTraders-Website. Ignoring all of them. Please check the readme\n",
      "Found more than 5 github links in https://github.com/microsoft/TaskMatrix. Ignoring all of them. Please check the readme\n",
      "Found more than 5 github links in https://github.com/microsoft/TeamCloud. Ignoring all of them. Please check the readme\n",
      "Found more than 5 github links in https://github.com/microsoft/TeamCloud-Providers. Ignoring all of them. Please check the readme\n",
      "Found more than 5 github links in https://github.com/microsoft/TeamsMsiOverride. Ignoring all of them. Please check the readme\n",
      "Found more than 5 github links in https://github.com/microsoft/TemplateStudio. Ignoring all of them. Please check the readme\n",
      "Found more than 5 github links in https://github.com/microsoft/tensorflow-directml. Ignoring all of them. Please check the readme\n",
      "Found more than 5 github links in https://github.com/microsoft/tensorflow-directml-plugin. Ignoring all of them. Please check the readme\n",
      "Found more than 5 github links in https://github.com/microsoft/tensorwatch. Ignoring all of them. Please check the readme\n",
      "Found more than 5 github links in https://github.com/microsoft/terminal. Ignoring all of them. Please check the readme\n",
      "Found more than 5 github links in https://github.com/microsoft/test-infra. Ignoring all of them. Please check the readme\n",
      "Found more than 5 github links in https://github.com/microsoft/TestAdapterForGoogleTest. Ignoring all of them. Please check the readme\n",
      "Found more than 5 github links in https://github.com/microsoft/testfx-docs. Ignoring all of them. Please check the readme\n",
      "Found more than 5 github links in https://github.com/microsoft/text-to-sql-schema-expansion-generalization. Ignoring all of them. Please check the readme\n",
      "Found more than 5 github links in https://github.com/microsoft/todo-app-java-on-azure. Ignoring all of them. Please check the readme\n",
      "Found more than 5 github links in https://github.com/microsoft/torchgeo. Ignoring all of them. Please check the readme\n",
      "Found more than 5 github links in https://github.com/microsoft/torchscale. Ignoring all of them. Please check the readme\n",
      "Found more than 5 github links in https://github.com/microsoft/TouchDevelop. Ignoring all of them. Please check the readme\n",
      "Found more than 5 github links in https://github.com/microsoft/tracks. Ignoring all of them. Please check the readme\n",
      "Found more than 5 github links in https://github.com/microsoft/tslib. Ignoring all of them. Please check the readme\n",
      "Found more than 5 github links in https://github.com/microsoft/tslint-microsoft-contrib. Ignoring all of them. Please check the readme\n",
      "Found more than 5 github links in https://github.com/microsoft/turnstile. Ignoring all of them. Please check the readme\n",
      "Found more than 5 github links in https://github.com/microsoft/TypeScript. Ignoring all of them. Please check the readme\n",
      "Found more than 5 github links in https://github.com/microsoft/typescript-analyze-trace. Ignoring all of them. Please check the readme\n",
      "Found more than 5 github links in https://github.com/microsoft/TypeScript-Compiler-Notes. Ignoring all of them. Please check the readme\n",
      "Found more than 5 github links in https://github.com/microsoft/TypeScript-Make-Monaco-Builds. Ignoring all of them. Please check the readme\n",
      "Found more than 5 github links in https://github.com/microsoft/TypeScript-Node-Starter. Ignoring all of them. Please check the readme\n",
      "Found more than 5 github links in https://github.com/microsoft/TypeScript-React-Native-Starter. Ignoring all of them. Please check the readme\n",
      "Found more than 5 github links in https://github.com/microsoft/TypeScript-React-Starter. Ignoring all of them. Please check the readme\n",
      "Found more than 5 github links in https://github.com/microsoft/typescript-styled-plugin. Ignoring all of them. Please check the readme\n",
      "Found more than 5 github links in https://github.com/microsoft/TypeScript-Sublime-Plugin. Ignoring all of them. Please check the readme\n",
      "Found more than 5 github links in https://github.com/microsoft/typescript-tslint-plugin. Ignoring all of them. Please check the readme\n",
      "Found more than 5 github links in https://github.com/microsoft/TypeScript-Vue-Starter. Ignoring all of them. Please check the readme\n",
      "Found more than 5 github links in https://github.com/microsoft/TypeScript-Website. Ignoring all of them. Please check the readme\n",
      "Found more than 5 github links in https://github.com/microsoft/uf2. Ignoring all of them. Please check the readme\n",
      "Found more than 5 github links in https://github.com/microsoft/UniCL. Ignoring all of them. Please check the readme\n",
      "Found more than 5 github links in https://github.com/microsoft/UnifiedRedisPlatform.Core. Ignoring all of them. Please check the readme\n",
      "Found more than 5 github links in https://github.com/microsoft/unilm. Ignoring all of them. Please check the readme\n",
      "Found more than 5 github links in https://github.com/microsoft/UniSpeech. Ignoring all of them. Please check the readme\n",
      "Found more than 5 github links in https://github.com/microsoft/UniTAB. Ignoring all of them. Please check the readme\n",
      "Found more than 5 github links in https://github.com/microsoft/unittest-cpp. Ignoring all of them. Please check the readme\n",
      "Found more than 5 github links in https://github.com/microsoft/UniVL. Ignoring all of them. Please check the readme\n",
      "Found more than 5 github links in https://github.com/microsoft/uwp-experiences. Ignoring all of them. Please check the readme\n",
      "Found more than 5 github links in https://github.com/microsoft/vcpkg. Ignoring all of them. Please check the readme\n",
      "Found more than 5 github links in https://github.com/microsoft/vcpkg-tool. Ignoring all of them. Please check the readme\n",
      "Found more than 5 github links in https://github.com/microsoft/VerifiableCredentials-Crypto-SDK-Typescript. Ignoring all of them. Please check the readme\n",
      "Found more than 5 github links in https://github.com/microsoft/vert-papers. Ignoring all of them. Please check the readme\n",
      "Found more than 5 github links in https://github.com/microsoft/Vipr. Ignoring all of them. Please check the readme\n",
      "Found more than 5 github links in https://github.com/microsoft/VirtualClient. Ignoring all of them. Please check the readme\n",
      "Found more than 5 github links in https://github.com/microsoft/vision-longformer. Ignoring all of them. Please check the readme\n",
      "Found more than 5 github links in https://github.com/microsoft/VisualStudio2017Launch_KeynoteDemos. Ignoring all of them. Please check the readme\n",
      "Found more than 5 github links in https://github.com/microsoft/vivalearningsharepointstarterkit. Ignoring all of them. Please check the readme\n",
      "Found more than 5 github links in https://github.com/microsoft/VoTT. Ignoring all of them. Please check the readme\n",
      "Found more than 5 github links in https://github.com/microsoft/vOW4SIKE_on_HW. Ignoring all of them. Please check the readme\n",
      "Found more than 5 github links in https://github.com/microsoft/VQ-Diffusion. Ignoring all of them. Please check the readme\n",
      "Found more than 5 github links in https://github.com/microsoft/VS-PPT. Ignoring all of them. Please check the readme\n",
      "Found more than 5 github links in https://github.com/microsoft/vscode. Ignoring all of them. Please check the readme\n",
      "Found more than 5 github links in https://github.com/microsoft/vscode-arduino. Ignoring all of them. Please check the readme\n",
      "Found more than 5 github links in https://github.com/microsoft/vscode-azure-blockchain-ethereum. Ignoring all of them. Please check the readme\n",
      "Found more than 5 github links in https://github.com/microsoft/vscode-azure-iot-edge. Ignoring all of them. Please check the readme\n",
      "Found more than 5 github links in https://github.com/microsoft/vscode-azurearmtools. Ignoring all of them. Please check the readme\n",
      "Found more than 5 github links in https://github.com/microsoft/vscode-azurecache. Ignoring all of them. Please check the readme\n",
      "Found more than 5 github links in https://github.com/microsoft/vscode-azurecli. Ignoring all of them. Please check the readme\n",
      "Found more than 5 github links in https://github.com/microsoft/vscode-azureeventgrid. Ignoring all of them. Please check the readme\n",
      "Found more than 5 github links in https://github.com/microsoft/vscode-chrome-debug. Ignoring all of them. Please check the readme\n",
      "Found more than 5 github links in https://github.com/microsoft/vscode-chrome-debug-core. Ignoring all of them. Please check the readme\n",
      "Found more than 5 github links in https://github.com/microsoft/vscode-codicons. Ignoring all of them. Please check the readme\n",
      "Found more than 5 github links in https://github.com/microsoft/vscode-cordova. Ignoring all of them. Please check the readme\n",
      "Found more than 5 github links in https://github.com/microsoft/vscode-custom-data. Ignoring all of them. Please check the readme\n",
      "Found more than 5 github links in https://github.com/microsoft/vscode-dev-containers. Ignoring all of them. Please check the readme\n",
      "Found more than 5 github links in https://github.com/microsoft/vscode-docs. Ignoring all of them. Please check the readme\n",
      "Found more than 5 github links in https://github.com/microsoft/vscode-docs-archive. Ignoring all of them. Please check the readme\n",
      "Found more than 5 github links in https://github.com/microsoft/vscode-dtdl. Ignoring all of them. Please check the readme\n",
      "Found more than 5 github links in https://github.com/microsoft/vscode-eslint. Ignoring all of them. Please check the readme\n",
      "Found more than 5 github links in https://github.com/microsoft/vscode-extension-samples. Ignoring all of them. Please check the readme\n",
      "Found more than 5 github links in https://github.com/microsoft/vscode-gradle. Ignoring all of them. Please check the readme\n",
      "Found more than 5 github links in https://github.com/microsoft/vscode-hydrate. Ignoring all of them. Please check the readme\n",
      "Found more than 5 github links in https://github.com/microsoft/vscode-java-debug. Ignoring all of them. Please check the readme\n",
      "Found more than 5 github links in https://github.com/microsoft/vscode-java-test. Ignoring all of them. Please check the readme\n",
      "Found more than 5 github links in https://github.com/microsoft/vscode-jupyter. Ignoring all of them. Please check the readme\n",
      "Found more than 5 github links in https://github.com/microsoft/vscode-languageserver-node. Ignoring all of them. Please check the readme\n",
      "Found more than 5 github links in https://github.com/microsoft/vscode-mssql. Ignoring all of them. Please check the readme\n",
      "Found more than 5 github links in https://github.com/microsoft/vscode-nls. Ignoring all of them. Please check the readme\n",
      "Found more than 5 github links in https://github.com/microsoft/vscode-node-sqlite3. Ignoring all of them. Please check the readme\n",
      "Found more than 5 github links in https://github.com/microsoft/vscode-platform-specific-sample. Ignoring all of them. Please check the readme\n",
      "Found more than 5 github links in https://github.com/microsoft/vscode-postgresql. Ignoring all of them. Please check the readme\n",
      "Found more than 5 github links in https://github.com/microsoft/vscode-pull-request-github. Ignoring all of them. Please check the readme\n",
      "Found more than 5 github links in https://github.com/microsoft/vscode-python. Ignoring all of them. Please check the readme\n",
      "Found more than 5 github links in https://github.com/microsoft/vscode-react-native. Ignoring all of them. Please check the readme\n",
      "Found more than 5 github links in https://github.com/microsoft/vscode-recipes. Ignoring all of them. Please check the readme\n",
      "Found more than 5 github links in https://github.com/microsoft/vscode-remote-release. Ignoring all of them. Please check the readme\n",
      "Found more than 5 github links in https://github.com/microsoft/vscode-remote-try-go. Ignoring all of them. Please check the readme\n",
      "Found more than 5 github links in https://github.com/microsoft/vscode-russh. Ignoring all of them. Please check the readme\n",
      "Found more than 5 github links in https://github.com/microsoft/vscode-SCMBuilders. Ignoring all of them. Please check the readme\n",
      "Found more than 5 github links in https://github.com/microsoft/vscode-smoketest-express. Ignoring all of them. Please check the readme\n",
      "Found more than 5 github links in https://github.com/microsoft/vscode-sublime-keybindings. Ignoring all of them. Please check the readme\n",
      "Found more than 5 github links in https://github.com/microsoft/vscode-tips-and-tricks. Ignoring all of them. Please check the readme\n",
      "Found more than 5 github links in https://github.com/microsoft/vscode-ts-tslint. Ignoring all of them. Please check the readme\n",
      "Found more than 5 github links in https://github.com/microsoft/vstest-docs. Ignoring all of them. Please check the readme\n",
      "Found more than 5 github links in https://github.com/microsoft/vsts-agent-docker. Ignoring all of them. Please check the readme\n",
      "Found more than 5 github links in https://github.com/microsoft/vsts-extension-retrospectives. Ignoring all of them. Please check the readme\n",
      "Found more than 5 github links in https://github.com/microsoft/vsts-wikiTools. Ignoring all of them. Please check the readme\n",
      "Found more than 5 github links in https://github.com/microsoft/vswhere. Ignoring all of them. Please check the readme\n",
      "Found more than 5 github links in https://github.com/microsoft/wdkmetadata. Ignoring all of them. Please check the readme\n",
      "Found more than 5 github links in https://github.com/microsoft/WebTemplateStudio. Ignoring all of them. Please check the readme\n",
      "Found more than 5 github links in https://github.com/microsoft/wil. Ignoring all of them. Please check the readme\n",
      "Found more than 5 github links in https://github.com/microsoft/win32metadata. Ignoring all of them. Please check the readme\n",
      "Found more than 5 github links in https://github.com/microsoft/Windows-appsample-coloringbook. Ignoring all of them. Please check the readme\n",
      "Found more than 5 github links in https://github.com/microsoft/Windows-appsample-rssreader. Ignoring all of them. Please check the readme\n",
      "Found more than 5 github links in https://github.com/microsoft/Windows-Dev-Performance. Ignoring all of them. Please check the readme\n",
      "Found more than 5 github links in https://github.com/microsoft/Windows-IoT-Samples. Ignoring all of them. Please check the readme\n",
      "Found more than 5 github links in https://github.com/microsoft/Windows-Machine-Learning. Ignoring all of them. Please check the readme\n",
      "Found more than 5 github links in https://github.com/microsoft/Windows.UI.Composition-Win32-Samples. Ignoring all of them. Please check the readme\n",
      "Found more than 5 github links in https://github.com/microsoft/WindowsAppSDK. Ignoring all of them. Please check the readme\n",
      "Found more than 5 github links in https://github.com/microsoft/WindowsAppSDK-Samples. Ignoring all of them. Please check the readme\n",
      "Found more than 5 github links in https://github.com/microsoft/WindowsProtocolTestSuites. Ignoring all of them. Please check the readme\n",
      "Found more than 5 github links in https://github.com/microsoft/wineryjs. Ignoring all of them. Please check the readme\n",
      "Found more than 5 github links in https://github.com/microsoft/winget-cli. Ignoring all of them. Please check the readme\n",
      "Found more than 5 github links in https://github.com/microsoft/winget-create. Ignoring all of them. Please check the readme\n",
      "Found more than 5 github links in https://github.com/microsoft/WinObjC. Ignoring all of them. Please check the readme\n",
      "Found more than 5 github links in https://github.com/microsoft/winrtc. Ignoring all of them. Please check the readme\n",
      "Found more than 5 github links in https://github.com/microsoft/wmg_agent. Ignoring all of them. Please check the readme\n",
      "Found more than 5 github links in https://github.com/microsoft/wpa. Ignoring all of them. Please check the readme\n",
      "Found more than 5 github links in https://github.com/microsoft/WPF-Samples. Ignoring all of them. Please check the readme\n",
      "Found more than 5 github links in https://github.com/microsoft/WPFDXInterop. Ignoring all of them. Please check the readme\n",
      "Found more than 5 github links in https://github.com/microsoft/WSA. Ignoring all of them. Please check the readme\n",
      "Found more than 5 github links in https://github.com/microsoft/WSL. Ignoring all of them. Please check the readme\n",
      "Found more than 5 github links in https://github.com/microsoft/wslg. Ignoring all of them. Please check the readme\n",
      "Found more than 5 github links in https://github.com/microsoft/X-Decoder. Ignoring all of them. Please check the readme\n",
      "Found more than 5 github links in https://github.com/microsoft/XamlBehaviors. Ignoring all of them. Please check the readme\n",
      "Found more than 5 github links in https://github.com/microsoft/xbox-live-api. Ignoring all of them. Please check the readme\n",
      "Found more than 5 github links in https://github.com/microsoft/xbox-live-resiliency-fiddler-plugin. Ignoring all of them. Please check the readme\n",
      "Found more than 5 github links in https://github.com/microsoft/xbox-live-samples. Ignoring all of them. Please check the readme\n",
      "Found more than 5 github links in https://github.com/microsoft/xbox-live-trace-analyzer. Ignoring all of them. Please check the readme\n",
      "Found more than 5 github links in https://github.com/microsoft/xlang. Ignoring all of them. Please check the readme\n",
      "Found more than 5 github links in https://github.com/microsoft/XPretrain. Ignoring all of them. Please check the readme\n",
      "Found more than 5 github links in https://github.com/microsoft/xray-feature-disentanglement. Ignoring all of them. Please check the readme\n",
      "Found more than 5 github links in https://github.com/microsoft/YamUI. Ignoring all of them. Please check the readme\n"
     ]
    },
    {
     "name": "stderr",
     "output_type": "stream",
     "text": [
      "  0%|▏                                                                                                                                     | 4/2887 [00:01<18:59,  2.53it/s]"
     ]
    },
    {
     "name": "stdout",
     "output_type": "stream",
     "text": [
      "Could not find repository for this link : 3MFConsortium/lib3mf-examples\n"
     ]
    },
    {
     "name": "stderr",
     "output_type": "stream",
     "text": [
      "  0%|▌                                                                                                                                    | 12/2887 [00:05<21:56,  2.18it/s]"
     ]
    },
    {
     "name": "stdout",
     "output_type": "stream",
     "text": [
      "Could not find repository for this link : AutonomousSystemsResearch/utils_package\n"
     ]
    },
    {
     "name": "stderr",
     "output_type": "stream",
     "text": [
      "  2%|██▌                                                                                                                                  | 55/2887 [00:26<20:20,  2.32it/s]"
     ]
    },
    {
     "name": "stdout",
     "output_type": "stream",
     "text": [
      "Could not find repository for this link : Azure/azure-mobile-apps-cordova-client\n"
     ]
    },
    {
     "name": "stderr",
     "output_type": "stream",
     "text": [
      "  3%|███▊                                                                                                                                 | 83/2887 [00:42<22:22,  2.09it/s]"
     ]
    },
    {
     "name": "stdout",
     "output_type": "stream",
     "text": [
      "Could not find repository for this link : Benvie/JavaScriptNext\n"
     ]
    },
    {
     "name": "stderr",
     "output_type": "stream",
     "text": [
      "  3%|████▍                                                                                                                                | 97/2887 [00:49<20:40,  2.25it/s]"
     ]
    },
    {
     "name": "stdout",
     "output_type": "stream",
     "text": [
      "Could not find repository for this link : Chuxel/taco-tricks\n"
     ]
    },
    {
     "name": "stderr",
     "output_type": "stream",
     "text": [
      "  4%|████▉                                                                                                                               | 108/2887 [00:54<18:58,  2.44it/s]"
     ]
    },
    {
     "name": "stdout",
     "output_type": "stream",
     "text": [
      "Could not find repository for this link : EgorBo/Toasts\n"
     ]
    },
    {
     "name": "stderr",
     "output_type": "stream",
     "text": [
      "  4%|█████                                                                                                                               | 110/2887 [00:54<19:49,  2.33it/s]"
     ]
    },
    {
     "name": "stdout",
     "output_type": "stream",
     "text": [
      "Could not find repository for this link : EpicGames/UnrealEngine\n"
     ]
    },
    {
     "name": "stderr",
     "output_type": "stream",
     "text": [
      "  4%|█████                                                                                                                               | 111/2887 [00:55<18:57,  2.44it/s]"
     ]
    },
    {
     "name": "stdout",
     "output_type": "stream",
     "text": [
      "Could not find repository for this link : Ercenk/AzureMarketplaceSaaSApiClient\n"
     ]
    },
    {
     "name": "stderr",
     "output_type": "stream",
     "text": [
      "  5%|██████                                                                                                                              | 132/2887 [01:04<19:07,  2.40it/s]"
     ]
    },
    {
     "name": "stdout",
     "output_type": "stream",
     "text": [
      "Could not find repository for this link : JOSM/MicrosoftStreetside\n"
     ]
    },
    {
     "name": "stderr",
     "output_type": "stream",
     "text": [
      "  5%|██████                                                                                                                              | 133/2887 [01:04<18:13,  2.52it/s]"
     ]
    },
    {
     "name": "stdout",
     "output_type": "stream",
     "text": [
      "Could not find repository for this link : JamesNK/Newtonsoft\n"
     ]
    },
    {
     "name": "stderr",
     "output_type": "stream",
     "text": [
      "  6%|███████▉                                                                                                                            | 173/2887 [01:29<20:12,  2.24it/s]"
     ]
    },
    {
     "name": "stdout",
     "output_type": "stream",
     "text": [
      "Could not find repository for this link : Microsoft/AppInsights-Home\n"
     ]
    },
    {
     "name": "stderr",
     "output_type": "stream",
     "text": [
      "  6%|████████▏                                                                                                                           | 179/2887 [01:32<24:57,  1.81it/s]"
     ]
    },
    {
     "name": "stdout",
     "output_type": "stream",
     "text": [
      "Could not find repository for this link : Microsoft/ApplicationInsights-Home\n"
     ]
    },
    {
     "name": "stderr",
     "output_type": "stream",
     "text": [
      "  6%|████████▌                                                                                                                           | 186/2887 [01:35<21:07,  2.13it/s]"
     ]
    },
    {
     "name": "stdout",
     "output_type": "stream",
     "text": [
      "Could not find repository for this link : Microsoft/ApplicationInsights-home\n"
     ]
    },
    {
     "name": "stderr",
     "output_type": "stream",
     "text": [
      "  7%|█████████                                                                                                                           | 197/2887 [01:40<19:15,  2.33it/s]"
     ]
    },
    {
     "name": "stdout",
     "output_type": "stream",
     "text": [
      "Could not find repository for this link : Microsoft/AzureBotService-Samples\n"
     ]
    },
    {
     "name": "stderr",
     "output_type": "stream",
     "text": [
      "  8%|█████████▉                                                                                                                          | 217/2887 [01:50<19:40,  2.26it/s]"
     ]
    },
    {
     "name": "stdout",
     "output_type": "stream",
     "text": [
      "Could not find repository for this link : Microsoft/CCF_\n"
     ]
    },
    {
     "name": "stderr",
     "output_type": "stream",
     "text": [
      " 10%|████████████▋                                                                                                                       | 278/2887 [02:21<20:50,  2.09it/s]"
     ]
    },
    {
     "name": "stdout",
     "output_type": "stream",
     "text": [
      "Could not find repository for this link : Microsoft/HealthClinic\n"
     ]
    },
    {
     "name": "stderr",
     "output_type": "stream",
     "text": [
      " 10%|████████████▊                                                                                                                       | 281/2887 [02:23<24:11,  1.79it/s]"
     ]
    },
    {
     "name": "stdout",
     "output_type": "stream",
     "text": [
      "Could not find repository for this link : Microsoft/IIS\n"
     ]
    },
    {
     "name": "stderr",
     "output_type": "stream",
     "text": [
      " 10%|█████████████▋                                                                                                                      | 299/2887 [02:32<18:55,  2.28it/s]"
     ]
    },
    {
     "name": "stdout",
     "output_type": "stream",
     "text": [
      "Could not find repository for this link : Microsoft/Industry-Accelerator-Health\n"
     ]
    },
    {
     "name": "stderr",
     "output_type": "stream",
     "text": [
      " 10%|█████████████▊                                                                                                                      | 302/2887 [02:33<19:15,  2.24it/s]"
     ]
    },
    {
     "name": "stdout",
     "output_type": "stream",
     "text": [
      "Could not find repository for this link : Microsoft/InteractiveDataDisplay\n"
     ]
    },
    {
     "name": "stderr",
     "output_type": "stream",
     "text": [
      " 13%|█████████████████                                                                                                                   | 372/2887 [03:10<19:37,  2.14it/s]"
     ]
    },
    {
     "name": "stdout",
     "output_type": "stream",
     "text": [
      "Could not find repository for this link : Microsoft/PowerBI-visuals\n"
     ]
    },
    {
     "name": "stderr",
     "output_type": "stream",
     "text": [
      " 13%|█████████████████▌                                                                                                                  | 384/2887 [03:16<17:42,  2.36it/s]"
     ]
    },
    {
     "name": "stdout",
     "output_type": "stream",
     "text": [
      "Could not find repository for this link : Microsoft/SQLServerDSC\n"
     ]
    },
    {
     "name": "stderr",
     "output_type": "stream",
     "text": [
      " 14%|██████████████████                                                                                                                  | 395/2887 [03:22<19:59,  2.08it/s]"
     ]
    },
    {
     "name": "stdout",
     "output_type": "stream",
     "text": [
      "Could not find repository for this link : Microsoft/TSS\n"
     ]
    },
    {
     "name": "stderr",
     "output_type": "stream",
     "text": [
      " 15%|███████████████████▏                                                                                                                | 420/2887 [03:34<18:02,  2.28it/s]"
     ]
    },
    {
     "name": "stdout",
     "output_type": "stream",
     "text": [
      "Could not find repository for this link : Microsoft/VSSetup\n"
     ]
    },
    {
     "name": "stderr",
     "output_type": "stream",
     "text": [
      " 15%|████████████████████                                                                                                                | 438/2887 [03:43<19:19,  2.11it/s]"
     ]
    },
    {
     "name": "stdout",
     "output_type": "stream",
     "text": [
      "Could not find repository for this link : Microsoft/Windows-appsample-GetStarted-JS2D\n"
     ]
    },
    {
     "name": "stderr",
     "output_type": "stream",
     "text": [
      " 16%|█████████████████████▏                                                                                                              | 463/2887 [03:56<18:20,  2.20it/s]"
     ]
    },
    {
     "name": "stdout",
     "output_type": "stream",
     "text": [
      "Could not find repository for this link : Microsoft/adfsUITests\n"
     ]
    },
    {
     "name": "stderr",
     "output_type": "stream",
     "text": [
      " 21%|███████████████████████████▉                                                                                                        | 612/2887 [05:10<15:03,  2.52it/s]"
     ]
    },
    {
     "name": "stdout",
     "output_type": "stream",
     "text": [
      "Could not find repository for this link : Microsoft/marina-elasticsearch-fluentd-kibana\n"
     ]
    },
    {
     "name": "stderr",
     "output_type": "stream",
     "text": [
      " 21%|████████████████████████████                                                                                                        | 613/2887 [05:11<14:04,  2.69it/s]"
     ]
    },
    {
     "name": "stdout",
     "output_type": "stream",
     "text": [
      "Could not find repository for this link : Microsoft/marina-linkerd-filter\n"
     ]
    },
    {
     "name": "stderr",
     "output_type": "stream",
     "text": [
      " 23%|█████████████████████████████▋                                                                                                      | 650/2887 [05:28<18:17,  2.04it/s]"
     ]
    },
    {
     "name": "stdout",
     "output_type": "stream",
     "text": [
      "Could not find repository for this link : Microsoft/openshift-origin\n"
     ]
    },
    {
     "name": "stderr",
     "output_type": "stream",
     "text": [
      " 25%|████████████████████████████████▊                                                                                                   | 718/2887 [06:01<16:06,  2.24it/s]"
     ]
    },
    {
     "name": "stdout",
     "output_type": "stream",
     "text": [
      "Could not find repository for this link : Microsoft/unitysetup\n"
     ]
    },
    {
     "name": "stderr",
     "output_type": "stream",
     "text": [
      " 27%|███████████████████████████████████▎                                                                                                | 773/2887 [06:28<17:26,  2.02it/s]"
     ]
    },
    {
     "name": "stdout",
     "output_type": "stream",
     "text": [
      "Could not find repository for this link : Microsoft/vssetup\n"
     ]
    },
    {
     "name": "stderr",
     "output_type": "stream",
     "text": [
      " 27%|███████████████████████████████████▊                                                                                                | 782/2887 [06:33<16:33,  2.12it/s]"
     ]
    },
    {
     "name": "stdout",
     "output_type": "stream",
     "text": [
      "Could not find repository for this link : Microsoft/vsts-nuget-sample\n"
     ]
    },
    {
     "name": "stderr",
     "output_type": "stream",
     "text": [
      " 28%|████████████████████████████████████▊                                                                                               | 804/2887 [06:44<16:14,  2.14it/s]"
     ]
    },
    {
     "name": "stdout",
     "output_type": "stream",
     "text": [
      "Could not find repository for this link : MicrosoftDocs/learn-pr\n"
     ]
    },
    {
     "name": "stderr",
     "output_type": "stream",
     "text": [
      " 29%|██████████████████████████████████████                                                                                              | 833/2887 [07:00<19:29,  1.76it/s]"
     ]
    },
    {
     "name": "stdout",
     "output_type": "stream",
     "text": [
      "Could not find repository for this link : PombeirP/Unity\n"
     ]
    },
    {
     "name": "stderr",
     "output_type": "stream",
     "text": [
      " 29%|██████████████████████████████████████▏                                                                                             | 834/2887 [07:00<17:52,  1.92it/s]"
     ]
    },
    {
     "name": "stdout",
     "output_type": "stream",
     "text": [
      "Could not find repository for this link : PowerShell/DscResource\n"
     ]
    },
    {
     "name": "stderr",
     "output_type": "stream",
     "text": [
      " 29%|██████████████████████████████████████▎                                                                                             | 837/2887 [07:02<15:03,  2.27it/s]"
     ]
    },
    {
     "name": "stdout",
     "output_type": "stream",
     "text": [
      "Could not find repository for this link : PowerShell/PrivateCloud\n"
     ]
    },
    {
     "name": "stderr",
     "output_type": "stream",
     "text": [
      " 30%|███████████████████████████████████████▋                                                                                            | 869/2887 [07:19<15:03,  2.23it/s]"
     ]
    },
    {
     "name": "stdout",
     "output_type": "stream",
     "text": [
      "Could not find repository for this link : UBC-NLP/AutoMoE\n"
     ]
    },
    {
     "name": "stderr",
     "output_type": "stream",
     "text": [
      " 30%|███████████████████████████████████████▊                                                                                            | 872/2887 [07:20<14:46,  2.27it/s]"
     ]
    },
    {
     "name": "stdout",
     "output_type": "stream",
     "text": [
      "Could not find repository for this link : ValoremReply/NonprofitVirtualAssistant\n"
     ]
    },
    {
     "name": "stderr",
     "output_type": "stream",
     "text": [
      " 31%|████████████████████████████████████████▎                                                                                           | 881/2887 [07:25<19:22,  1.73it/s]"
     ]
    },
    {
     "name": "stdout",
     "output_type": "stream",
     "text": [
      "Could not find repository for this link : WenboGong/Icebreaker_Final\n"
     ]
    },
    {
     "name": "stderr",
     "output_type": "stream",
     "text": [
      " 31%|████████████████████████████████████████▌                                                                                           | 886/2887 [07:28<17:44,  1.88it/s]"
     ]
    },
    {
     "name": "stdout",
     "output_type": "stream",
     "text": [
      "Could not find repository for this link : YOUR_GITHUB_ACCOUNT_NAME/typescript-lit-html-plugin\n"
     ]
    },
    {
     "name": "stderr",
     "output_type": "stream",
     "text": [
      " 31%|████████████████████████████████████████▌                                                                                           | 887/2887 [07:28<16:30,  2.02it/s]"
     ]
    },
    {
     "name": "stdout",
     "output_type": "stream",
     "text": [
      "Could not find repository for this link : YOUR_GITHUB_ACCOUNT_NAME/typescript-template-language-service-decorator\n"
     ]
    },
    {
     "name": "stderr",
     "output_type": "stream",
     "text": [
      " 31%|████████████████████████████████████████▊                                                                                           | 892/2887 [07:31<14:37,  2.27it/s]"
     ]
    },
    {
     "name": "stdout",
     "output_type": "stream",
     "text": [
      "Could not find repository for this link : __ORG__/__REPOSITORY__\n"
     ]
    },
    {
     "name": "stderr",
     "output_type": "stream",
     "text": [
      " 31%|█████████████████████████████████████████▍                                                                                          | 906/2887 [07:38<14:17,  2.31it/s]"
     ]
    },
    {
     "name": "stdout",
     "output_type": "stream",
     "text": [
      "Could not find repository for this link : adamdriscoll/poshtools\n"
     ]
    },
    {
     "name": "stderr",
     "output_type": "stream",
     "text": [
      " 33%|██████████████████████████████████████████▉                                                                                         | 939/2887 [07:55<15:19,  2.12it/s]"
     ]
    },
    {
     "name": "stdout",
     "output_type": "stream",
     "text": [
      "Could not find repository for this link : asherkariv/HvLoader\n"
     ]
    },
    {
     "name": "stderr",
     "output_type": "stream",
     "text": [
      " 33%|███████████████████████████████████████████▊                                                                                        | 958/2887 [08:09<17:33,  1.83it/s]"
     ]
    },
    {
     "name": "stdout",
     "output_type": "stream",
     "text": [
      "Could not find repository for this link : babaknaderi/hitapp_p808\n"
     ]
    },
    {
     "name": "stderr",
     "output_type": "stream",
     "text": [
      " 34%|████████████████████████████████████████████▎                                                                                       | 968/2887 [08:14<19:31,  1.64it/s]"
     ]
    },
    {
     "name": "stdout",
     "output_type": "stream",
     "text": [
      "Could not find repository for this link : bidord/pykek\n"
     ]
    },
    {
     "name": "stderr",
     "output_type": "stream",
     "text": [
      " 34%|████████████████████████████████████████████▍                                                                                       | 972/2887 [08:16<16:55,  1.88it/s]"
     ]
    },
    {
     "name": "stdout",
     "output_type": "stream",
     "text": [
      "Could not find repository for this link : blog/1509-personal-api-tokens\n"
     ]
    },
    {
     "name": "stderr",
     "output_type": "stream",
     "text": [
      " 34%|████████████████████████████████████████████▍                                                                                       | 973/2887 [08:17<15:44,  2.03it/s]"
     ]
    },
    {
     "name": "stdout",
     "output_type": "stream",
     "text": [
      "Could not find repository for this link : blog/2104-working-with-submodules\n"
     ]
    },
    {
     "name": "stderr",
     "output_type": "stream",
     "text": [
      " 34%|████████████████████████████████████████████▌                                                                                       | 976/2887 [08:18<14:06,  2.26it/s]"
     ]
    },
    {
     "name": "stdout",
     "output_type": "stream",
     "text": [
      "Could not find repository for this link : brianguenter/OpticSim\n"
     ]
    },
    {
     "name": "stderr",
     "output_type": "stream",
     "text": [
      " 35%|█████████████████████████████████████████████▌                                                                                      | 997/2887 [08:31<15:26,  2.04it/s]"
     ]
    },
    {
     "name": "stdout",
     "output_type": "stream",
     "text": [
      "Could not find repository for this link : codespaces/badge\n"
     ]
    },
    {
     "name": "stderr",
     "output_type": "stream",
     "text": [
      " 35%|█████████████████████████████████████████████▋                                                                                      | 998/2887 [08:31<14:39,  2.15it/s]"
     ]
    },
    {
     "name": "stdout",
     "output_type": "stream",
     "text": [
      "Could not find repository for this link : codespaces/new\n"
     ]
    },
    {
     "name": "stderr",
     "output_type": "stream",
     "text": [
      " 35%|█████████████████████████████████████████████▊                                                                                     | 1011/2887 [08:39<20:32,  1.52it/s]"
     ]
    },
    {
     "name": "stdout",
     "output_type": "stream",
     "text": [
      "Could not find repository for this link : cseifert1/forta_contest_4\n"
     ]
    },
    {
     "name": "stderr",
     "output_type": "stream",
     "text": [
      " 36%|██████████████████████████████████████████████▋                                                                                    | 1030/2887 [08:49<16:08,  1.92it/s]"
     ]
    },
    {
     "name": "stdout",
     "output_type": "stream",
     "text": [
      "Could not find repository for this link : dbaeumer/python-3\n"
     ]
    },
    {
     "name": "stderr",
     "output_type": "stream",
     "text": [
      " 36%|███████████████████████████████████████████████▍                                                                                   | 1046/2887 [09:00<26:17,  1.17it/s]"
     ]
    },
    {
     "name": "stdout",
     "output_type": "stream",
     "text": [
      "Could not find repository for this link : deployr/server\n"
     ]
    },
    {
     "name": "stderr",
     "output_type": "stream",
     "text": [
      " 36%|███████████████████████████████████████████████▋                                                                                   | 1050/2887 [09:02<18:08,  1.69it/s]"
     ]
    },
    {
     "name": "stdout",
     "output_type": "stream",
     "text": [
      "Could not find repository for this link : dereklegenzoff/vscode-azuresearch\n"
     ]
    },
    {
     "name": "stderr",
     "output_type": "stream",
     "text": [
      " 38%|█████████████████████████████████████████████████▏                                                                                 | 1085/2887 [09:23<21:01,  1.43it/s]"
     ]
    },
    {
     "name": "stdout",
     "output_type": "stream",
     "text": [
      "Could not find repository for this link : eclipse/eclipse\n"
     ]
    },
    {
     "name": "stderr",
     "output_type": "stream",
     "text": [
      " 38%|█████████████████████████████████████████████████▎                                                                                 | 1086/2887 [09:24<17:58,  1.67it/s]"
     ]
    },
    {
     "name": "stdout",
     "output_type": "stream",
     "text": [
      "Could not find repository for this link : eclipse/paho\n"
     ]
    },
    {
     "name": "stderr",
     "output_type": "stream",
     "text": [
      " 38%|██████████████████████████████████████████████████▎                                                                                | 1108/2887 [09:37<15:52,  1.87it/s]"
     ]
    },
    {
     "name": "stdout",
     "output_type": "stream",
     "text": [
      "Could not find repository for this link : facebook/fb\n"
     ]
    },
    {
     "name": "stderr",
     "output_type": "stream",
     "text": [
      " 39%|███████████████████████████████████████████████████▏                                                                               | 1129/2887 [09:49<16:10,  1.81it/s]"
     ]
    },
    {
     "name": "stdout",
     "output_type": "stream",
     "text": [
      "Could not find repository for this link : features/actions\n"
     ]
    },
    {
     "name": "stderr",
     "output_type": "stream",
     "text": [
      " 39%|███████████████████████████████████████████████████▎                                                                               | 1130/2887 [09:50<14:46,  1.98it/s]"
     ]
    },
    {
     "name": "stdout",
     "output_type": "stream",
     "text": [
      "Could not find repository for this link : features/codespaces\n"
     ]
    },
    {
     "name": "stderr",
     "output_type": "stream",
     "text": [
      " 39%|███████████████████████████████████████████████████▎                                                                               | 1131/2887 [09:51<23:19,  1.25it/s]"
     ]
    },
    {
     "name": "stdout",
     "output_type": "stream",
     "text": [
      "Could not find repository for this link : features/copilot\n"
     ]
    },
    {
     "name": "stderr",
     "output_type": "stream",
     "text": [
      " 39%|███████████████████████████████████████████████████▎                                                                               | 1132/2887 [09:52<20:22,  1.44it/s]"
     ]
    },
    {
     "name": "stdout",
     "output_type": "stream",
     "text": [
      "Could not find repository for this link : features/security\n"
     ]
    },
    {
     "name": "stderr",
     "output_type": "stream",
     "text": [
      " 39%|███████████████████████████████████████████████████▋                                                                               | 1138/2887 [09:54<13:09,  2.21it/s]"
     ]
    },
    {
     "name": "stdout",
     "output_type": "stream",
     "text": [
      "Could not find repository for this link : foone/BRender-v1\n"
     ]
    },
    {
     "name": "stderr",
     "output_type": "stream",
     "text": [
      " 40%|████████████████████████████████████████████████████▌                                                                              | 1158/2887 [10:04<13:44,  2.10it/s]"
     ]
    },
    {
     "name": "stdout",
     "output_type": "stream",
     "text": [
      "Could not find repository for this link : github-copilot/signup\n"
     ]
    },
    {
     "name": "stderr",
     "output_type": "stream",
     "text": [
      " 40%|████████████████████████████████████████████████████▉                                                                              | 1166/2887 [10:08<13:47,  2.08it/s]"
     ]
    },
    {
     "name": "stdout",
     "output_type": "stream",
     "text": [
      "Could not find repository for this link : gkaramanolakis/WALNUT_data\n"
     ]
    },
    {
     "name": "stderr",
     "output_type": "stream",
     "text": [
      " 42%|███████████████████████████████████████████████████████▍                                                                           | 1223/2887 [10:38<13:00,  2.13it/s]"
     ]
    },
    {
     "name": "stdout",
     "output_type": "stream",
     "text": [
      "Could not find repository for this link : jamesmontemagno/Xamarin\n"
     ]
    },
    {
     "name": "stderr",
     "output_type": "stream",
     "text": [
      " 43%|████████████████████████████████████████████████████████▊                                                                          | 1253/2887 [10:53<12:44,  2.14it/s]"
     ]
    },
    {
     "name": "stdout",
     "output_type": "stream",
     "text": [
      "Could not find repository for this link : kaizentm/kubemlops\n"
     ]
    },
    {
     "name": "stderr",
     "output_type": "stream",
     "text": [
      " 45%|██████████████████████████████████████████████████████████▉                                                                        | 1300/2887 [11:17<11:17,  2.34it/s]"
     ]
    },
    {
     "name": "stdout",
     "output_type": "stream",
     "text": [
      "Could not find repository for this link : marketplace/actions\n"
     ]
    },
    {
     "name": "stderr",
     "output_type": "stream",
     "text": [
      " 45%|███████████████████████████████████████████████████████████                                                                        | 1301/2887 [11:17<11:09,  2.37it/s]"
     ]
    },
    {
     "name": "stdout",
     "output_type": "stream",
     "text": [
      "Could not find repository for this link : marketplace/pull-request-quantifier\n"
     ]
    },
    {
     "name": "stderr",
     "output_type": "stream",
     "text": [
      " 46%|███████████████████████████████████████████████████████████▋                                                                       | 1315/2887 [11:26<14:33,  1.80it/s]"
     ]
    },
    {
     "name": "stdout",
     "output_type": "stream",
     "text": [
      "Could not find repository for this link : microsoft/\n"
     ]
    },
    {
     "name": "stderr",
     "output_type": "stream",
     "text": [
      " 47%|████████████████████████████████████████████████████████████▉                                                                      | 1343/2887 [11:40<12:32,  2.05it/s]"
     ]
    },
    {
     "name": "stdout",
     "output_type": "stream",
     "text": [
      "Could not find repository for this link : microsoft/AppInsights-Home\n"
     ]
    },
    {
     "name": "stderr",
     "output_type": "stream",
     "text": [
      " 47%|█████████████████████████████████████████████████████████████                                                                      | 1347/2887 [11:42<12:34,  2.04it/s]"
     ]
    },
    {
     "name": "stdout",
     "output_type": "stream",
     "text": [
      "Could not find repository for this link : microsoft/ApplicationInsights-Home\n"
     ]
    },
    {
     "name": "stderr",
     "output_type": "stream",
     "text": [
      " 47%|█████████████████████████████████████████████████████████████▎                                                                     | 1352/2887 [11:45<11:52,  2.15it/s]"
     ]
    },
    {
     "name": "stdout",
     "output_type": "stream",
     "text": [
      "Could not find repository for this link : microsoft/ApplicationInsights-home\n"
     ]
    },
    {
     "name": "stderr",
     "output_type": "stream",
     "text": [
      " 47%|█████████████████████████████████████████████████████████████▌                                                                     | 1358/2887 [11:48<11:56,  2.13it/s]"
     ]
    },
    {
     "name": "stdout",
     "output_type": "stream",
     "text": [
      "Could not find repository for this link : microsoft/Azure\n"
     ]
    },
    {
     "name": "stderr",
     "output_type": "stream",
     "text": [
      " 48%|██████████████████████████████████████████████████████████████▎                                                                    | 1373/2887 [11:57<14:58,  1.69it/s]"
     ]
    },
    {
     "name": "stdout",
     "output_type": "stream",
     "text": [
      "Could not find repository for this link : microsoft/AzureClusterlessHPC\n"
     ]
    },
    {
     "name": "stderr",
     "output_type": "stream",
     "text": [
      " 49%|███████████████████████████████████████████████████████████████▌                                                                   | 1402/2887 [12:15<15:32,  1.59it/s]"
     ]
    },
    {
     "name": "stdout",
     "output_type": "stream",
     "text": [
      "Could not find repository for this link : microsoft/CEDAR\n"
     ]
    },
    {
     "name": "stderr",
     "output_type": "stream",
     "text": [
      " 49%|███████████████████████████████████████████████████████████████▊                                                                   | 1406/2887 [12:17<12:42,  1.94it/s]"
     ]
    },
    {
     "name": "stdout",
     "output_type": "stream",
     "text": [
      "Could not find repository for this link : microsoft/CQRS\n"
     ]
    },
    {
     "name": "stderr",
     "output_type": "stream",
     "text": [
      " 49%|████████████████████████████████████████████████████████████████▊                                                                  | 1428/2887 [12:28<11:28,  2.12it/s]"
     ]
    },
    {
     "name": "stdout",
     "output_type": "stream",
     "text": [
      "Could not find repository for this link : microsoft/Common-Design-Principles-for-a-Hub-and-Spoke-VNET-Archiecture\n"
     ]
    },
    {
     "name": "stderr",
     "output_type": "stream",
     "text": [
      " 53%|█████████████████████████████████████████████████████████████████████▎                                                             | 1528/2887 [13:24<12:55,  1.75it/s]"
     ]
    },
    {
     "name": "stdout",
     "output_type": "stream",
     "text": [
      "Could not find repository for this link : microsoft/GraphNotificationSamples\n"
     ]
    },
    {
     "name": "stderr",
     "output_type": "stream",
     "text": [
      " 53%|█████████████████████████████████████████████████████████████████████▋                                                             | 1536/2887 [13:28<11:17,  1.99it/s]"
     ]
    },
    {
     "name": "stdout",
     "output_type": "stream",
     "text": [
      "Could not find repository for this link : microsoft/HealthClinic\n"
     ]
    },
    {
     "name": "stderr",
     "output_type": "stream",
     "text": [
      " 55%|███████████████████████████████████████████████████████████████████████▊                                                           | 1583/2887 [13:53<10:56,  1.99it/s]"
     ]
    },
    {
     "name": "stdout",
     "output_type": "stream",
     "text": [
      "Could not find repository for this link : microsoft/MCW-XXXXXXXXX\n"
     ]
    },
    {
     "name": "stderr",
     "output_type": "stream",
     "text": [
      " 55%|███████████████████████████████████████████████████████████████████████▉                                                           | 1584/2887 [13:54<11:05,  1.96it/s]"
     ]
    },
    {
     "name": "stdout",
     "output_type": "stream",
     "text": [
      "Could not find repository for this link : microsoft/MCW-XXXXXXXXXXXXXX\n"
     ]
    },
    {
     "name": "stderr",
     "output_type": "stream",
     "text": [
      " 56%|█████████████████████████████████████████████████████████████████████████▏                                                         | 1612/2887 [14:09<11:19,  1.88it/s]"
     ]
    },
    {
     "name": "stdout",
     "output_type": "stream",
     "text": [
      "Could not find repository for this link : microsoft/Microsoft\n"
     ]
    },
    {
     "name": "stderr",
     "output_type": "stream",
     "text": [
      " 58%|███████████████████████████████████████████████████████████████████████████▊                                                       | 1670/2887 [14:44<10:09,  2.00it/s]"
     ]
    },
    {
     "name": "stdout",
     "output_type": "stream",
     "text": [
      "Could not find repository for this link : microsoft/OpticSim\n"
     ]
    },
    {
     "name": "stderr",
     "output_type": "stream",
     "text": [
      " 58%|███████████████████████████████████████████████████████████████████████████▉                                                       | 1673/2887 [14:46<11:00,  1.84it/s]"
     ]
    },
    {
     "name": "stdout",
     "output_type": "stream",
     "text": [
      "Could not find repository for this link : microsoft/P\n"
     ]
    },
    {
     "name": "stderr",
     "output_type": "stream",
     "text": [
      " 61%|███████████████████████████████████████████████████████████████████████████████▉                                                   | 1762/2887 [15:35<08:05,  2.31it/s]"
     ]
    },
    {
     "name": "stdout",
     "output_type": "stream",
     "text": [
      "Could not find repository for this link : microsoft/VSTSAgent\n"
     ]
    },
    {
     "name": "stderr",
     "output_type": "stream",
     "text": [
      " 63%|██████████████████████████████████████████████████████████████████████████████████▋                                                | 1822/2887 [16:06<07:57,  2.23it/s]"
     ]
    },
    {
     "name": "stdout",
     "output_type": "stream",
     "text": [
      "Could not find repository for this link : microsoft/api\n"
     ]
    },
    {
     "name": "stderr",
     "output_type": "stream",
     "text": [
      " 63%|██████████████████████████████████████████████████████████████████████████████████▉                                                | 1827/2887 [16:09<08:06,  2.18it/s]"
     ]
    },
    {
     "name": "stdout",
     "output_type": "stream",
     "text": [
      "Could not find repository for this link : microsoft/applicationinsights-node\n"
     ]
    },
    {
     "name": "stderr",
     "output_type": "stream",
     "text": [
      " 66%|██████████████████████████████████████████████████████████████████████████████████████▎                                            | 1902/2887 [16:46<07:54,  2.08it/s]"
     ]
    },
    {
     "name": "stdout",
     "output_type": "stream",
     "text": [
      "Could not find repository for this link : microsoft/bonsai-simulink\n"
     ]
    },
    {
     "name": "stderr",
     "output_type": "stream",
     "text": [
      " 66%|███████████████████████████████████████████████████████████████████████████████████████                                            | 1919/2887 [16:54<06:53,  2.34it/s]"
     ]
    },
    {
     "name": "stdout",
     "output_type": "stream",
     "text": [
      "Could not find repository for this link : microsoft/cli\n"
     ]
    },
    {
     "name": "stderr",
     "output_type": "stream",
     "text": [
      " 67%|███████████████████████████████████████████████████████████████████████████████████████▍                                           | 1928/2887 [16:59<07:30,  2.13it/s]"
     ]
    },
    {
     "name": "stdout",
     "output_type": "stream",
     "text": [
      "Could not find repository for this link : microsoft/codex-gaming\n"
     ]
    },
    {
     "name": "stderr",
     "output_type": "stream",
     "text": [
      " 71%|████████████████████████████████████████████████████████████████████████████████████████████▌                                      | 2041/2887 [17:56<07:22,  1.91it/s]"
     ]
    },
    {
     "name": "stdout",
     "output_type": "stream",
     "text": [
      "Could not find repository for this link : microsoft/fluentui-design-tokens\n"
     ]
    },
    {
     "name": "stderr",
     "output_type": "stream",
     "text": [
      " 72%|██████████████████████████████████████████████████████████████████████████████████████████████▊                                    | 2089/2887 [18:21<07:03,  1.89it/s]"
     ]
    },
    {
     "name": "stdout",
     "output_type": "stream",
     "text": [
      "Could not find repository for this link : microsoft/heft\n"
     ]
    },
    {
     "name": "stderr",
     "output_type": "stream",
     "text": [
      " 75%|██████████████████████████████████████████████████████████████████████████████████████████████████▎                                | 2168/2887 [19:01<05:41,  2.11it/s]"
     ]
    },
    {
     "name": "stdout",
     "output_type": "stream",
     "text": [
      "Could not find repository for this link : microsoft/lfx\n"
     ]
    },
    {
     "name": "stderr",
     "output_type": "stream",
     "text": [
      " 75%|██████████████████████████████████████████████████████████████████████████████████████████████████▊                                | 2178/2887 [19:06<05:40,  2.09it/s]"
     ]
    },
    {
     "name": "stdout",
     "output_type": "stream",
     "text": [
      "Could not find repository for this link : microsoft/looky\n"
     ]
    },
    {
     "name": "stderr",
     "output_type": "stream",
     "text": [
      " 76%|███████████████████████████████████████████████████████████████████████████████████████████████████▌                               | 2195/2887 [19:15<05:53,  1.96it/s]"
     ]
    },
    {
     "name": "stdout",
     "output_type": "stream",
     "text": [
      "Could not find repository for this link : microsoft/mixedreality\n"
     ]
    },
    {
     "name": "stderr",
     "output_type": "stream",
     "text": [
      " 82%|██████████████████████████████████████████████████████████████████████████████████████████████████████████▊                        | 2355/2887 [20:35<04:28,  1.98it/s]"
     ]
    },
    {
     "name": "stdout",
     "output_type": "stream",
     "text": [
      "Could not find repository for this link : microsoft/serverless-challenges\n"
     ]
    },
    {
     "name": "stderr",
     "output_type": "stream",
     "text": [
      " 83%|████████████████████████████████████████████████████████████████████████████████████████████████████████████▊                      | 2398/2887 [20:59<03:33,  2.29it/s]"
     ]
    },
    {
     "name": "stdout",
     "output_type": "stream",
     "text": [
      "Could not find repository for this link : microsoft/transductive-vos\n"
     ]
    },
    {
     "name": "stderr",
     "output_type": "stream",
     "text": [
      " 85%|███████████████████████████████████████████████████████████████████████████████████████████████████████████████▍                   | 2456/2887 [21:27<03:01,  2.38it/s]"
     ]
    },
    {
     "name": "stdout",
     "output_type": "stream",
     "text": [
      "Could not find repository for this link : microsoft/vscode-json\n"
     ]
    },
    {
     "name": "stderr",
     "output_type": "stream",
     "text": [
      " 85%|███████████████████████████████████████████████████████████████████████████████████████████████████████████████▌                   | 2459/2887 [21:28<03:20,  2.14it/s]"
     ]
    },
    {
     "name": "stdout",
     "output_type": "stream",
     "text": [
      "Could not find repository for this link : microsoft/vscode-jupyter-internal\n"
     ]
    },
    {
     "name": "stderr",
     "output_type": "stream",
     "text": [
      " 88%|██████████████████████████████████████████████████████████████████████████████████████████████████████████████████▊                | 2531/2887 [22:09<03:00,  1.97it/s]"
     ]
    },
    {
     "name": "stdout",
     "output_type": "stream",
     "text": [
      "Could not find repository for this link : microsoft/workspaces-optimizer\n"
     ]
    },
    {
     "name": "stderr",
     "output_type": "stream",
     "text": [
      " 89%|████████████████████████████████████████████████████████████████████████████████████████████████████████████████████▎              | 2562/2887 [22:27<02:23,  2.26it/s]"
     ]
    },
    {
     "name": "stdout",
     "output_type": "stream",
     "text": [
      "Could not find repository for this link : mr-yamraj/\n"
     ]
    },
    {
     "name": "stderr",
     "output_type": "stream",
     "text": [
      " 89%|████████████████████████████████████████████████████████████████████████████████████████████████████████████████████▌              | 2568/2887 [22:30<02:24,  2.21it/s]"
     ]
    },
    {
     "name": "stdout",
     "output_type": "stream",
     "text": [
      "Could not find repository for this link : msnews/msnews\n"
     ]
    },
    {
     "name": "stderr",
     "output_type": "stream",
     "text": [
      " 89%|████████████████████████████████████████████████████████████████████████████████████████████████████████████████████▌              | 2569/2887 [22:30<02:14,  2.37it/s]"
     ]
    },
    {
     "name": "stdout",
     "output_type": "stream",
     "text": [
      "Could not find repository for this link : multiworldtesting/\n"
     ]
    },
    {
     "name": "stderr",
     "output_type": "stream",
     "text": [
      " 89%|████████████████████████████████████████████████████████████████████████████████████████████████████████████████████▌              | 2570/2887 [22:31<02:36,  2.02it/s]"
     ]
    },
    {
     "name": "stdout",
     "output_type": "stream",
     "text": [
      "Could not find repository for this link : multiworldtesting/decision\n"
     ]
    },
    {
     "name": "stderr",
     "output_type": "stream",
     "text": [
      " 89%|█████████████████████████████████████████████████████████████████████████████████████████████████████████████████████▏             | 2583/2887 [22:39<02:23,  2.11it/s]"
     ]
    },
    {
     "name": "stdout",
     "output_type": "stream",
     "text": [
      "Could not find repository for this link : netonjm/FigmaSharp\n"
     ]
    },
    {
     "name": "stderr",
     "output_type": "stream",
     "text": [
      " 90%|██████████████████████████████████████████████████████████████████████████████████████████████████████████████████████▎            | 2608/2887 [22:52<02:22,  1.96it/s]"
     ]
    },
    {
     "name": "stdout",
     "output_type": "stream",
     "text": [
      "Could not find repository for this link : officedev/TeamsHubot\n"
     ]
    },
    {
     "name": "stderr",
     "output_type": "stream",
     "text": [
      " 92%|███████████████████████████████████████████████████████████████████████████████████████████████████████████████████████▉           | 2644/2887 [23:11<02:29,  1.62it/s]"
     ]
    },
    {
     "name": "stdout",
     "output_type": "stream",
     "text": [
      "Could not find repository for this link : organizations/\n"
     ]
    },
    {
     "name": "stderr",
     "output_type": "stream",
     "text": [
      " 92%|████████████████████████████████████████████████████████████████████████████████████████████████████████████████████████           | 2645/2887 [23:12<02:14,  1.80it/s]"
     ]
    },
    {
     "name": "stdout",
     "output_type": "stream",
     "text": [
      "Could not find repository for this link : orgs/microsoft\n"
     ]
    },
    {
     "name": "stderr",
     "output_type": "stream",
     "text": [
      " 92%|████████████████████████████████████████████████████████████████████████████████████████████████████████████████████████▍          | 2655/2887 [23:17<01:42,  2.26it/s]"
     ]
    },
    {
     "name": "stdout",
     "output_type": "stream",
     "text": [
      "Could not find repository for this link : peterbozso/ULIS\n"
     ]
    },
    {
     "name": "stderr",
     "output_type": "stream",
     "text": [
      " 94%|███████████████████████████████████████████████████████████████████████████████████████████████████████████████████████████▍       | 2720/2887 [23:51<01:18,  2.11it/s]"
     ]
    },
    {
     "name": "stdout",
     "output_type": "stream",
     "text": [
      "Could not find repository for this link : rotorgames/Rg\n"
     ]
    },
    {
     "name": "stderr",
     "output_type": "stream",
     "text": [
      " 95%|████████████████████████████████████████████████████████████████████████████████████████████████████████████████████████████▍      | 2741/2887 [24:02<01:06,  2.20it/s]"
     ]
    },
    {
     "name": "stdout",
     "output_type": "stream",
     "text": [
      "Could not find repository for this link : settings/applications\n"
     ]
    },
    {
     "name": "stderr",
     "output_type": "stream",
     "text": [
      " 95%|████████████████████████████████████████████████████████████████████████████████████████████████████████████████████████████▍      | 2742/2887 [24:02<01:06,  2.18it/s]"
     ]
    },
    {
     "name": "stdout",
     "output_type": "stream",
     "text": [
      "Could not find repository for this link : settings/apps\n"
     ]
    },
    {
     "name": "stderr",
     "output_type": "stream",
     "text": [
      " 95%|████████████████████████████████████████████████████████████████████████████████████████████████████████████████████████████▍      | 2743/2887 [24:02<01:03,  2.25it/s]"
     ]
    },
    {
     "name": "stdout",
     "output_type": "stream",
     "text": [
      "Could not find repository for this link : settings/codespaces\n"
     ]
    },
    {
     "name": "stderr",
     "output_type": "stream",
     "text": [
      " 95%|████████████████████████████████████████████████████████████████████████████████████████████████████████████████████████████▌      | 2744/2887 [24:03<01:02,  2.30it/s]"
     ]
    },
    {
     "name": "stdout",
     "output_type": "stream",
     "text": [
      "Could not find repository for this link : settings/tokens\n"
     ]
    },
    {
     "name": "stderr",
     "output_type": "stream",
     "text": [
      " 95%|████████████████████████████████████████████████████████████████████████████████████████████████████████████████████████████▉      | 2753/2887 [24:07<01:00,  2.22it/s]"
     ]
    },
    {
     "name": "stdout",
     "output_type": "stream",
     "text": [
      "Could not find repository for this link : slimgroup/JUDI\n"
     ]
    },
    {
     "name": "stderr",
     "output_type": "stream",
     "text": [
      " 96%|█████████████████████████████████████████████████████████████████████████████████████████████████████████████████████████████▏     | 2760/2887 [24:10<00:57,  2.21it/s]"
     ]
    },
    {
     "name": "stdout",
     "output_type": "stream",
     "text": [
      "Could not find repository for this link : soumith/cudnn\n"
     ]
    },
    {
     "name": "stderr",
     "output_type": "stream",
     "text": [
      " 97%|███████████████████████████████████████████████████████████████████████████████████████████████████████████████████████████████▏   | 2803/2887 [24:30<00:35,  2.35it/s]"
     ]
    },
    {
     "name": "stdout",
     "output_type": "stream",
     "text": [
      "Could not find repository for this link : textmate/css\n"
     ]
    },
    {
     "name": "stderr",
     "output_type": "stream",
     "text": [
      " 97%|███████████████████████████████████████████████████████████████████████████████████████████████████████████████████████████████▏   | 2804/2887 [24:31<00:33,  2.44it/s]"
     ]
    },
    {
     "name": "stdout",
     "output_type": "stream",
     "text": [
      "Could not find repository for this link : textmate/javascript\n"
     ]
    },
    {
     "name": "stderr",
     "output_type": "stream",
     "text": [
      " 98%|███████████████████████████████████████████████████████████████████████████████████████████████████████████████████████████████▋   | 2815/2887 [24:36<00:33,  2.18it/s]"
     ]
    },
    {
     "name": "stdout",
     "output_type": "stream",
     "text": [
      "Could not find repository for this link : tianocore/tianocore\n"
     ]
    },
    {
     "name": "stderr",
     "output_type": "stream",
     "text": [
      " 98%|███████████████████████████████████████████████████████████████████████████████████████████████████████████████████████████████▊   | 2817/2887 [24:36<00:29,  2.38it/s]"
     ]
    },
    {
     "name": "stdout",
     "output_type": "stream",
     "text": [
      "Could not find repository for this link : timfpark/fabrikate-cloud-native\n"
     ]
    },
    {
     "name": "stderr",
     "output_type": "stream",
     "text": [
      " 98%|███████████████████████████████████████████████████████████████████████████████████████████████████████████████████████████████▊   | 2818/2887 [24:37<00:27,  2.52it/s]"
     ]
    },
    {
     "name": "stdout",
     "output_type": "stream",
     "text": [
      "Could not find repository for this link : timmyjose-projects/verona\n"
     ]
    },
    {
     "name": "stderr",
     "output_type": "stream",
     "text": [
      " 98%|████████████████████████████████████████████████████████████████████████████████████████████████████████████████████████████████▏  | 2825/2887 [24:40<00:27,  2.23it/s]"
     ]
    },
    {
     "name": "stdout",
     "output_type": "stream",
     "text": [
      "Could not find repository for this link : topics/msftnet\n"
     ]
    },
    {
     "name": "stderr",
     "output_type": "stream",
     "text": [
      " 99%|█████████████████████████████████████████████████████████████████████████████████████████████████████████████████████████████████  | 2845/2887 [24:49<00:20,  2.09it/s]"
     ]
    },
    {
     "name": "stdout",
     "output_type": "stream",
     "text": [
      "Could not find repository for this link : vercel/next\n"
     ]
    },
    {
     "name": "stderr",
     "output_type": "stream",
     "text": [
      " 99%|█████████████████████████████████████████████████████████████████████████████████████████████████████████████████████████████████▎ | 2850/2887 [24:52<00:16,  2.21it/s]"
     ]
    },
    {
     "name": "stdout",
     "output_type": "stream",
     "text": [
      "Could not find repository for this link : vscjavaci/eclipse\n"
     ]
    },
    {
     "name": "stderr",
     "output_type": "stream",
     "text": [
      " 99%|█████████████████████████████████████████████████████████████████████████████████████████████████████████████████████████████████▉ | 2863/2887 [24:59<00:11,  2.03it/s]"
     ]
    },
    {
     "name": "stdout",
     "output_type": "stream",
     "text": [
      "Could not find repository for this link : wesyao/fluent-plugin-clouderametrics\n"
     ]
    },
    {
     "name": "stderr",
     "output_type": "stream",
     "text": [
      "100%|██████████████████████████████████████████████████████████████████████████████████████████████████████████████████████████████████▌| 2876/2887 [25:05<00:05,  2.02it/s]"
     ]
    },
    {
     "name": "stdout",
     "output_type": "stream",
     "text": [
      "Could not find repository for this link : xunit/xamarin\n"
     ]
    },
    {
     "name": "stderr",
     "output_type": "stream",
     "text": [
      "100%|██████████████████████████████████████████████████████████████████████████████████████████████████████████████████████████████████▋| 2880/2887 [25:06<00:03,  2.30it/s]"
     ]
    },
    {
     "name": "stdout",
     "output_type": "stream",
     "text": [
      "Could not find repository for this link : ymdevs/Web-Extension-Starter\n"
     ]
    },
    {
     "name": "stderr",
     "output_type": "stream",
     "text": [
      "100%|██████████████████████████████████████████████████████████████████████████████████████████████████████████████████████████████████▊| 2882/2887 [25:07<00:02,  2.35it/s]"
     ]
    },
    {
     "name": "stdout",
     "output_type": "stream",
     "text": [
      "Could not find repository for this link : your-github-user-name/projection-grid\n"
     ]
    },
    {
     "name": "stderr",
     "output_type": "stream",
     "text": [
      "100%|██████████████████████████████████████████████████████████████████████████████████████████████████████████████████████████████████▊| 2883/2887 [25:08<00:01,  2.41it/s]"
     ]
    },
    {
     "name": "stdout",
     "output_type": "stream",
     "text": [
      "Could not find repository for this link : your/project\n"
     ]
    },
    {
     "name": "stderr",
     "output_type": "stream",
     "text": [
      "100%|██████████████████████████████████████████████████████████████████████████████████████████████████████████████████████████████████▉| 2885/2887 [25:09<00:01,  1.78it/s]"
     ]
    },
    {
     "name": "stdout",
     "output_type": "stream",
     "text": [
      "Could not find repository for this link : zeromq/zeromq\n"
     ]
    },
    {
     "name": "stderr",
     "output_type": "stream",
     "text": [
      "100%|██████████████████████████████████████████████████████████████████████████████████████████████████████████████████████████████████▉| 2886/2887 [25:10<00:00,  1.92it/s]"
     ]
    },
    {
     "name": "stdout",
     "output_type": "stream",
     "text": [
      "Could not find repository for this link : zhirongw/lemniscate\n"
     ]
    },
    {
     "name": "stderr",
     "output_type": "stream",
     "text": [
      "100%|███████████████████████████████████████████████████████████████████████████████████████████████████████████████████████████████████| 2887/2887 [25:10<00:00,  1.91it/s]\n"
     ]
    },
    {
     "name": "stdout",
     "output_type": "stream",
     "text": [
      "Fetching the readmes from the repos\n"
     ]
    },
    {
     "name": "stderr",
     "output_type": "stream",
     "text": [
      "  0%|▌                                                                                                                                      | 4/918 [00:01<06:24,  2.38it/s]"
     ]
    },
    {
     "name": "stdout",
     "output_type": "stream",
     "text": [
      "Could not find readme for this link : https://github.com/mesos/3rdparty\n"
     ]
    },
    {
     "name": "stderr",
     "output_type": "stream",
     "text": [
      " 10%|█████████████▏                                                                                                                        | 90/918 [00:40<06:04,  2.27it/s]"
     ]
    },
    {
     "name": "stdout",
     "output_type": "stream",
     "text": [
      "Could not find readme for this link : https://github.com/DanielRosenwasser/typescript-vue-todomvc\n"
     ]
    },
    {
     "name": "stderr",
     "output_type": "stream",
     "text": [
      " 11%|██████████████▍                                                                                                                       | 99/918 [00:44<06:33,  2.08it/s]"
     ]
    },
    {
     "name": "stdout",
     "output_type": "stream",
     "text": [
      "Could not find readme for this link : https://github.com/FrontEndFoxes/art\n"
     ]
    },
    {
     "name": "stderr",
     "output_type": "stream",
     "text": [
      " 22%|█████████████████████████████▊                                                                                                       | 206/918 [01:33<06:28,  1.83it/s]"
     ]
    },
    {
     "name": "stdout",
     "output_type": "stream",
     "text": [
      "Could not find readme for this link : https://github.com/VSChina/iot-edge-sample-solution\n"
     ]
    },
    {
     "name": "stderr",
     "output_type": "stream",
     "text": [
      " 27%|███████████████████████████████████▍                                                                                                 | 245/918 [01:58<05:56,  1.89it/s]"
     ]
    },
    {
     "name": "stdout",
     "output_type": "stream",
     "text": [
      "Could not find readme for this link : https://github.com/anagamsft/Build2016-GrayscaleExtension\n"
     ]
    },
    {
     "name": "stderr",
     "output_type": "stream",
     "text": [
      " 27%|███████████████████████████████████▋                                                                                                 | 246/918 [01:58<05:53,  1.90it/s]"
     ]
    },
    {
     "name": "stdout",
     "output_type": "stream",
     "text": [
      "Could not find readme for this link : https://github.com/anagamsft/Build2016-InvertExtension\n"
     ]
    },
    {
     "name": "stderr",
     "output_type": "stream",
     "text": [
      " 27%|███████████████████████████████████▊                                                                                                 | 247/918 [01:58<05:28,  2.04it/s]"
     ]
    },
    {
     "name": "stdout",
     "output_type": "stream",
     "text": [
      "Could not find readme for this link : https://github.com/anagamsft/RotateExtension\n"
     ]
    },
    {
     "name": "stderr",
     "output_type": "stream",
     "text": [
      " 27%|████████████████████████████████████▌                                                                                                | 252/918 [02:02<07:27,  1.49it/s]"
     ]
    },
    {
     "name": "stdout",
     "output_type": "stream",
     "text": [
      "Could not find readme for this link : https://github.com/anikmanik04/healthcare-provider-fraud-detection\n"
     ]
    },
    {
     "name": "stderr",
     "output_type": "stream",
     "text": [
      " 31%|█████████████████████████████████████████▋                                                                                           | 288/918 [02:19<04:59,  2.11it/s]"
     ]
    },
    {
     "name": "stdout",
     "output_type": "stream",
     "text": [
      "Could not find readme for this link : https://github.com/benbenbob1/Etch-a-Sketch-PyBadge\n"
     ]
    },
    {
     "name": "stderr",
     "output_type": "stream",
     "text": [
      " 58%|█████████████████████████████████████████████████████████████████████████████▏                                                       | 533/918 [04:10<03:00,  2.13it/s]"
     ]
    },
    {
     "name": "stdout",
     "output_type": "stream",
     "text": [
      "Could not find readme for this link : https://github.com/jgmitter/images\n"
     ]
    },
    {
     "name": "stderr",
     "output_type": "stream",
     "text": [
      " 62%|██████████████████████████████████████████████████████████████████████████████████▋                                                  | 571/918 [04:27<02:37,  2.21it/s]"
     ]
    },
    {
     "name": "stdout",
     "output_type": "stream",
     "text": [
      "Could not find readme for this link : https://github.com/kun-lun/2048java\n"
     ]
    },
    {
     "name": "stderr",
     "output_type": "stream",
     "text": [
      " 65%|█████████████████████████████████████████████████████████████████████████████████████▉                                               | 593/918 [04:36<02:14,  2.41it/s]"
     ]
    },
    {
     "name": "stdout",
     "output_type": "stream",
     "text": [
      "Could not find readme for this link : https://github.com/madratman/airsim_neurips_gifs\n"
     ]
    },
    {
     "name": "stderr",
     "output_type": "stream",
     "text": [
      " 69%|████████████████████████████████████████████████████████████████████████████████████████████▎                                        | 637/918 [04:57<02:29,  1.88it/s]"
     ]
    },
    {
     "name": "stdout",
     "output_type": "stream",
     "text": [
      "Could not find readme for this link : https://github.com/nadavbar/cntk-fastrcnn\n"
     ]
    },
    {
     "name": "stderr",
     "output_type": "stream",
     "text": [
      " 74%|██████████████████████████████████████████████████████████████████████████████████████████████████▏                                  | 678/918 [05:17<01:56,  2.07it/s]"
     ]
    },
    {
     "name": "stdout",
     "output_type": "stream",
     "text": [
      "Could not find readme for this link : https://github.com/openEDI/documentation\n"
     ]
    },
    {
     "name": "stderr",
     "output_type": "stream",
     "text": [
      " 86%|██████████████████████████████████████████████████████████████████████████████████████████████████████████████████▎                  | 789/918 [06:06<00:57,  2.23it/s]"
     ]
    },
    {
     "name": "stdout",
     "output_type": "stream",
     "text": [
      "Could not find readme for this link : https://github.com/se2p/pynguin\n"
     ]
    },
    {
     "name": "stderr",
     "output_type": "stream",
     "text": [
      " 86%|██████████████████████████████████████████████████████████████████████████████████████████████████████████████████▍                  | 790/918 [06:06<00:52,  2.43it/s]"
     ]
    },
    {
     "name": "stdout",
     "output_type": "stream",
     "text": [
      "Could not find readme for this link : https://github.com/sebastus/AzureFunctionDeployment\n"
     ]
    },
    {
     "name": "stderr",
     "output_type": "stream",
     "text": [
      " 86%|██████████████████████████████████████████████████████████████████████████████████████████████████████████████████▌                  | 791/918 [06:07<00:51,  2.47it/s]"
     ]
    },
    {
     "name": "stdout",
     "output_type": "stream",
     "text": [
      "Could not find readme for this link : https://github.com/sebastus/GenerateSasForEh\n"
     ]
    },
    {
     "name": "stderr",
     "output_type": "stream",
     "text": [
      " 86%|██████████████████████████████████████████████████████████████████████████████████████████████████████████████████▋                  | 792/918 [06:07<00:47,  2.64it/s]"
     ]
    },
    {
     "name": "stdout",
     "output_type": "stream",
     "text": [
      "Could not find readme for this link : https://github.com/sehoonha/pydart2\n"
     ]
    },
    {
     "name": "stderr",
     "output_type": "stream",
     "text": [
      " 86%|██████████████████████████████████████████████████████████████████████████████████████████████████████████████████▉                  | 793/918 [06:08<00:46,  2.67it/s]"
     ]
    },
    {
     "name": "stdout",
     "output_type": "stream",
     "text": [
      "Could not find readme for this link : https://github.com/semantic-release/semantic-release\n"
     ]
    },
    {
     "name": "stderr",
     "output_type": "stream",
     "text": [
      " 86%|███████████████████████████████████████████████████████████████████████████████████████████████████████████████████                  | 794/918 [06:08<00:45,  2.74it/s]"
     ]
    },
    {
     "name": "stdout",
     "output_type": "stream",
     "text": [
      "Could not find readme for this link : https://github.com/shahroudy/NTURGB-D\n"
     ]
    },
    {
     "name": "stderr",
     "output_type": "stream",
     "text": [
      " 87%|███████████████████████████████████████████████████████████████████████████████████████████████████████████████████▏                 | 795/918 [06:08<00:43,  2.83it/s]"
     ]
    },
    {
     "name": "stdout",
     "output_type": "stream",
     "text": [
      "Could not find readme for this link : https://github.com/shedskin/shedskin\n"
     ]
    },
    {
     "name": "stderr",
     "output_type": "stream",
     "text": [
      " 87%|███████████████████████████████████████████████████████████████████████████████████████████████████████████████████▎                 | 796/918 [06:09<00:44,  2.75it/s]"
     ]
    },
    {
     "name": "stdout",
     "output_type": "stream",
     "text": [
      "Could not find readme for this link : https://github.com/shimat/opencvsharp\n"
     ]
    },
    {
     "name": "stderr",
     "output_type": "stream",
     "text": [
      " 87%|███████████████████████████████████████████████████████████████████████████████████████████████████████████████████▍                 | 797/918 [06:09<00:45,  2.65it/s]"
     ]
    },
    {
     "name": "stdout",
     "output_type": "stream",
     "text": [
      "Could not find readme for this link : https://github.com/shrimai/Towards-Content-Transfer-through-Grounded-Text-Generation\n"
     ]
    },
    {
     "name": "stderr",
     "output_type": "stream",
     "text": [
      " 87%|███████████████████████████████████████████████████████████████████████████████████████████████████████████████████▌                 | 798/918 [06:09<00:46,  2.58it/s]"
     ]
    },
    {
     "name": "stdout",
     "output_type": "stream",
     "text": [
      "Could not find readme for this link : https://github.com/shuhangchen/habitat-lab\n"
     ]
    },
    {
     "name": "stderr",
     "output_type": "stream",
     "text": [
      " 87%|███████████████████████████████████████████████████████████████████████████████████████████████████████████████████▊                 | 799/918 [06:10<00:47,  2.50it/s]"
     ]
    },
    {
     "name": "stdout",
     "output_type": "stream",
     "text": [
      "Could not find readme for this link : https://github.com/sikovatc/azuredevopsgenerator\n"
     ]
    },
    {
     "name": "stderr",
     "output_type": "stream",
     "text": [
      " 87%|███████████████████████████████████████████████████████████████████████████████████████████████████████████████████▉                 | 800/918 [06:10<00:47,  2.51it/s]"
     ]
    },
    {
     "name": "stdout",
     "output_type": "stream",
     "text": [
      "Could not find readme for this link : https://github.com/sindresorhus/github-markdown-css\n"
     ]
    },
    {
     "name": "stderr",
     "output_type": "stream",
     "text": [
      " 87%|████████████████████████████████████████████████████████████████████████████████████████████████████████████████████                 | 801/918 [06:11<00:46,  2.50it/s]"
     ]
    },
    {
     "name": "stdout",
     "output_type": "stream",
     "text": [
      "Could not find readme for this link : https://github.com/sindresorhus/multimatch\n"
     ]
    },
    {
     "name": "stderr",
     "output_type": "stream",
     "text": [
      " 87%|████████████████████████████████████████████████████████████████████████████████████████████████████████████████████▏                | 802/918 [06:11<00:43,  2.64it/s]"
     ]
    },
    {
     "name": "stdout",
     "output_type": "stream",
     "text": [
      "Could not find readme for this link : https://github.com/smackers/smack\n"
     ]
    },
    {
     "name": "stderr",
     "output_type": "stream",
     "text": [
      " 87%|████████████████████████████████████████████████████████████████████████████████████████████████████████████████████▎                | 803/918 [06:11<00:42,  2.71it/s]"
     ]
    },
    {
     "name": "stdout",
     "output_type": "stream",
     "text": [
      "Could not find readme for this link : https://github.com/smart-on-fhir/health-cards\n"
     ]
    },
    {
     "name": "stderr",
     "output_type": "stream",
     "text": [
      " 88%|████████████████████████████████████████████████████████████████████████████████████████████████████████████████████▍                | 804/918 [06:12<00:40,  2.81it/s]"
     ]
    },
    {
     "name": "stdout",
     "output_type": "stream",
     "text": [
      "Could not find readme for this link : https://github.com/smart-on-fhir/health-cards-tests\n"
     ]
    },
    {
     "name": "stderr",
     "output_type": "stream",
     "text": [
      " 88%|████████████████████████████████████████████████████████████████████████████████████████████████████████████████████▋                | 805/918 [06:12<00:39,  2.89it/s]"
     ]
    },
    {
     "name": "stdout",
     "output_type": "stream",
     "text": [
      "Could not find readme for this link : https://github.com/smuellerDD/jitterentropy-library\n"
     ]
    },
    {
     "name": "stderr",
     "output_type": "stream",
     "text": [
      " 88%|████████████████████████████████████████████████████████████████████████████████████████████████████████████████████▊                | 806/918 [06:12<00:37,  2.98it/s]"
     ]
    },
    {
     "name": "stdout",
     "output_type": "stream",
     "text": [
      "Could not find readme for this link : https://github.com/snipe/snipe-it\n"
     ]
    },
    {
     "name": "stderr",
     "output_type": "stream",
     "text": [
      " 88%|████████████████████████████████████████████████████████████████████████████████████████████████████████████████████▉                | 807/918 [06:13<00:37,  3.00it/s]"
     ]
    },
    {
     "name": "stdout",
     "output_type": "stream",
     "text": [
      "Could not find readme for this link : https://github.com/soniakandah/space-jam-sprites\n"
     ]
    },
    {
     "name": "stderr",
     "output_type": "stream",
     "text": [
      " 88%|█████████████████████████████████████████████████████████████████████████████████████████████████████████████████████                | 808/918 [06:13<00:36,  3.01it/s]"
     ]
    },
    {
     "name": "stdout",
     "output_type": "stream",
     "text": [
      "Could not find readme for this link : https://github.com/sparklemotion/nokogiri\n"
     ]
    },
    {
     "name": "stderr",
     "output_type": "stream",
     "text": [
      " 88%|█████████████████████████████████████████████████████████████████████████████████████████████████████████████████████▏               | 809/918 [06:13<00:36,  3.00it/s]"
     ]
    },
    {
     "name": "stdout",
     "output_type": "stream",
     "text": [
      "Could not find readme for this link : https://github.com/spinnaker/clouddriver\n"
     ]
    },
    {
     "name": "stderr",
     "output_type": "stream",
     "text": [
      " 88%|█████████████████████████████████████████████████████████████████████████████████████████████████████████████████████▎               | 810/918 [06:14<00:40,  2.66it/s]"
     ]
    },
    {
     "name": "stdout",
     "output_type": "stream",
     "text": [
      "Could not find readme for this link : https://github.com/spinnaker/deck\n"
     ]
    },
    {
     "name": "stderr",
     "output_type": "stream",
     "text": [
      " 88%|█████████████████████████████████████████████████████████████████████████████████████████████████████████████████████▍               | 811/918 [06:14<00:40,  2.65it/s]"
     ]
    },
    {
     "name": "stdout",
     "output_type": "stream",
     "text": [
      "Could not find readme for this link : https://github.com/spinnaker/fiat\n"
     ]
    },
    {
     "name": "stderr",
     "output_type": "stream",
     "text": [
      " 88%|█████████████████████████████████████████████████████████████████████████████████████████████████████████████████████▋               | 812/918 [06:15<00:40,  2.59it/s]"
     ]
    },
    {
     "name": "stdout",
     "output_type": "stream",
     "text": [
      "Could not find readme for this link : https://github.com/spinnaker/front50\n"
     ]
    },
    {
     "name": "stderr",
     "output_type": "stream",
     "text": [
      " 89%|█████████████████████████████████████████████████████████████████████████████████████████████████████████████████████▊               | 813/918 [06:15<00:54,  1.93it/s]"
     ]
    },
    {
     "name": "stdout",
     "output_type": "stream",
     "text": [
      "Could not find readme for this link : https://github.com/spinnaker/gate\n"
     ]
    },
    {
     "name": "stderr",
     "output_type": "stream",
     "text": [
      " 89%|█████████████████████████████████████████████████████████████████████████████████████████████████████████████████████▉               | 814/918 [06:16<00:50,  2.06it/s]"
     ]
    },
    {
     "name": "stdout",
     "output_type": "stream",
     "text": [
      "Could not find readme for this link : https://github.com/spinnaker/igor\n"
     ]
    },
    {
     "name": "stderr",
     "output_type": "stream",
     "text": [
      " 89%|██████████████████████████████████████████████████████████████████████████████████████████████████████████████████████               | 815/918 [06:16<00:45,  2.26it/s]"
     ]
    },
    {
     "name": "stdout",
     "output_type": "stream",
     "text": [
      "Could not find readme for this link : https://github.com/spinnaker/orca\n"
     ]
    },
    {
     "name": "stderr",
     "output_type": "stream",
     "text": [
      " 89%|██████████████████████████████████████████████████████████████████████████████████████████████████████████████████████▏              | 816/918 [06:16<00:43,  2.37it/s]"
     ]
    },
    {
     "name": "stdout",
     "output_type": "stream",
     "text": [
      "Could not find readme for this link : https://github.com/spinnaker/spinnaker\n"
     ]
    },
    {
     "name": "stderr",
     "output_type": "stream",
     "text": [
      " 89%|██████████████████████████████████████████████████████████████████████████████████████████████████████████████████████▎              | 817/918 [06:17<00:42,  2.39it/s]"
     ]
    },
    {
     "name": "stdout",
     "output_type": "stream",
     "text": [
      "Could not find readme for this link : https://github.com/spotify/annoy\n"
     ]
    },
    {
     "name": "stderr",
     "output_type": "stream",
     "text": [
      " 89%|██████████████████████████████████████████████████████████████████████████████████████████████████████████████████████▌              | 818/918 [06:17<00:41,  2.41it/s]"
     ]
    },
    {
     "name": "stdout",
     "output_type": "stream",
     "text": [
      "Could not find readme for this link : https://github.com/spotify/docker-maven-plugin\n"
     ]
    },
    {
     "name": "stderr",
     "output_type": "stream",
     "text": [
      " 89%|██████████████████████████████████████████████████████████████████████████████████████████████████████████████████████▋              | 819/918 [06:18<00:41,  2.37it/s]"
     ]
    },
    {
     "name": "stdout",
     "output_type": "stream",
     "text": [
      "Could not find readme for this link : https://github.com/spotify/snakebite\n"
     ]
    },
    {
     "name": "stderr",
     "output_type": "stream",
     "text": [
      " 89%|██████████████████████████████████████████████████████████████████████████████████████████████████████████████████████▊              | 820/918 [06:18<00:39,  2.46it/s]"
     ]
    },
    {
     "name": "stdout",
     "output_type": "stream",
     "text": [
      "Could not find readme for this link : https://github.com/spring-cloud/spring-cloud-stream\n"
     ]
    },
    {
     "name": "stderr",
     "output_type": "stream",
     "text": [
      " 89%|██████████████████████████████████████████████████████████████████████████████████████████████████████████████████████▉              | 821/918 [06:18<00:37,  2.57it/s]"
     ]
    },
    {
     "name": "stdout",
     "output_type": "stream",
     "text": [
      "Could not find readme for this link : https://github.com/spring-projects/spring-boot\n"
     ]
    },
    {
     "name": "stderr",
     "output_type": "stream",
     "text": [
      " 90%|███████████████████████████████████████████████████████████████████████████████████████████████████████████████████████              | 822/918 [06:19<00:40,  2.40it/s]"
     ]
    },
    {
     "name": "stdout",
     "output_type": "stream",
     "text": [
      "Could not find readme for this link : https://github.com/spring-projects/spring-data-commons\n"
     ]
    },
    {
     "name": "stderr",
     "output_type": "stream",
     "text": [
      " 90%|███████████████████████████████████████████████████████████████████████████████████████████████████████████████████████▏             | 823/918 [06:19<00:39,  2.41it/s]"
     ]
    },
    {
     "name": "stdout",
     "output_type": "stream",
     "text": [
      "Could not find readme for this link : https://github.com/spring-projects/spring-framework\n"
     ]
    },
    {
     "name": "stderr",
     "output_type": "stream",
     "text": [
      " 90%|███████████████████████████████████████████████████████████████████████████████████████████████████████████████████████▍             | 824/918 [06:20<00:38,  2.43it/s]"
     ]
    },
    {
     "name": "stdout",
     "output_type": "stream",
     "text": [
      "Could not find readme for this link : https://github.com/spring-projects/spring-security\n"
     ]
    },
    {
     "name": "stderr",
     "output_type": "stream",
     "text": [
      " 90%|███████████████████████████████████████████████████████████████████████████████████████████████████████████████████████▌             | 825/918 [06:20<00:38,  2.42it/s]"
     ]
    },
    {
     "name": "stdout",
     "output_type": "stream",
     "text": [
      "Could not find readme for this link : https://github.com/spring-projects/sts4\n"
     ]
    },
    {
     "name": "stderr",
     "output_type": "stream",
     "text": [
      " 90%|███████████████████████████████████████████████████████████████████████████████████████████████████████████████████████▋             | 826/918 [06:21<00:37,  2.43it/s]"
     ]
    },
    {
     "name": "stdout",
     "output_type": "stream",
     "text": [
      "Could not find readme for this link : https://github.com/sqshq/piggymetrics\n"
     ]
    },
    {
     "name": "stderr",
     "output_type": "stream",
     "text": [
      " 90%|███████████████████████████████████████████████████████████████████████████████████████████████████████████████████████▊             | 827/918 [06:21<00:37,  2.44it/s]"
     ]
    },
    {
     "name": "stdout",
     "output_type": "stream",
     "text": [
      "Could not find readme for this link : https://github.com/stac-utils/pystac\n"
     ]
    },
    {
     "name": "stderr",
     "output_type": "stream",
     "text": [
      " 90%|███████████████████████████████████████████████████████████████████████████████████████████████████████████████████████▉             | 828/918 [06:21<00:34,  2.57it/s]"
     ]
    },
    {
     "name": "stdout",
     "output_type": "stream",
     "text": [
      "Could not find readme for this link : https://github.com/stac-utils/stac-fastapi\n"
     ]
    },
    {
     "name": "stderr",
     "output_type": "stream",
     "text": [
      " 90%|████████████████████████████████████████████████████████████████████████████████████████████████████████████████████████             | 829/918 [06:22<00:32,  2.72it/s]"
     ]
    },
    {
     "name": "stdout",
     "output_type": "stream",
     "text": [
      "Could not find readme for this link : https://github.com/stac-utils/titiler-pgstac\n"
     ]
    },
    {
     "name": "stderr",
     "output_type": "stream",
     "text": [
      " 90%|████████████████████████████████████████████████████████████████████████████████████████████████████████████████████████▎            | 830/918 [06:22<00:31,  2.80it/s]"
     ]
    },
    {
     "name": "stdout",
     "output_type": "stream",
     "text": [
      "Could not find readme for this link : https://github.com/stanfordnlp/stanza\n"
     ]
    },
    {
     "name": "stderr",
     "output_type": "stream",
     "text": [
      " 91%|████████████████████████████████████████████████████████████████████████████████████████████████████████████████████████▍            | 831/918 [06:22<00:30,  2.90it/s]"
     ]
    },
    {
     "name": "stdout",
     "output_type": "stream",
     "text": [
      "Could not find readme for this link : https://github.com/staoxiao/LibVQ\n"
     ]
    },
    {
     "name": "stderr",
     "output_type": "stream",
     "text": [
      " 91%|████████████████████████████████████████████████████████████████████████████████████████████████████████████████████████▌            | 832/918 [06:23<00:29,  2.93it/s]"
     ]
    },
    {
     "name": "stdout",
     "output_type": "stream",
     "text": [
      "Could not find readme for this link : https://github.com/stedolan/jq\n"
     ]
    },
    {
     "name": "stderr",
     "output_type": "stream",
     "text": [
      " 91%|████████████████████████████████████████████████████████████████████████████████████████████████████████████████████████▋            | 833/918 [06:23<00:29,  2.92it/s]"
     ]
    },
    {
     "name": "stdout",
     "output_type": "stream",
     "text": [
      "Could not find readme for this link : https://github.com/susanathey/causalTree\n"
     ]
    },
    {
     "name": "stderr",
     "output_type": "stream",
     "text": [
      " 91%|████████████████████████████████████████████████████████████████████████████████████████████████████████████████████████▊            | 834/918 [06:23<00:29,  2.89it/s]"
     ]
    },
    {
     "name": "stdout",
     "output_type": "stream",
     "text": [
      "Could not find readme for this link : https://github.com/susielu/react-annotation\n"
     ]
    },
    {
     "name": "stderr",
     "output_type": "stream",
     "text": [
      " 91%|████████████████████████████████████████████████████████████████████████████████████████████████████████████████████████▉            | 835/918 [06:24<00:28,  2.93it/s]"
     ]
    },
    {
     "name": "stdout",
     "output_type": "stream",
     "text": [
      "Could not find readme for this link : https://github.com/synthetichealth/synthea\n"
     ]
    },
    {
     "name": "stderr",
     "output_type": "stream",
     "text": [
      " 91%|█████████████████████████████████████████████████████████████████████████████████████████████████████████████████████████            | 836/918 [06:24<00:29,  2.77it/s]"
     ]
    },
    {
     "name": "stdout",
     "output_type": "stream",
     "text": [
      "Could not find readme for this link : https://github.com/systemjs/systemjs\n"
     ]
    },
    {
     "name": "stderr",
     "output_type": "stream",
     "text": [
      " 91%|█████████████████████████████████████████████████████████████████████████████████████████████████████████████████████████▎           | 837/918 [06:24<00:30,  2.67it/s]"
     ]
    },
    {
     "name": "stdout",
     "output_type": "stream",
     "text": [
      "Could not find readme for this link : https://github.com/tagomoris/fluent-mixin-config-placeholders\n"
     ]
    },
    {
     "name": "stderr",
     "output_type": "stream",
     "text": [
      " 91%|█████████████████████████████████████████████████████████████████████████████████████████████████████████████████████████▍           | 838/918 [06:25<00:30,  2.60it/s]"
     ]
    },
    {
     "name": "stdout",
     "output_type": "stream",
     "text": [
      "Could not find readme for this link : https://github.com/tanmayghosh2507/GitHubPublicActiontest\n"
     ]
    },
    {
     "name": "stderr",
     "output_type": "stream",
     "text": [
      " 91%|█████████████████████████████████████████████████████████████████████████████████████████████████████████████████████████▌           | 839/918 [06:25<00:31,  2.54it/s]"
     ]
    },
    {
     "name": "stdout",
     "output_type": "stream",
     "text": [
      "Could not find readme for this link : https://github.com/taoyds/spider\n"
     ]
    },
    {
     "name": "stderr",
     "output_type": "stream",
     "text": [
      " 92%|█████████████████████████████████████████████████████████████████████████████████████████████████████████████████████████▋           | 840/918 [06:26<00:31,  2.52it/s]"
     ]
    },
    {
     "name": "stdout",
     "output_type": "stream",
     "text": [
      "Could not find readme for this link : https://github.com/taoyds/syntaxSQL\n"
     ]
    },
    {
     "name": "stderr",
     "output_type": "stream",
     "text": [
      " 92%|█████████████████████████████████████████████████████████████████████████████████████████████████████████████████████████▊           | 841/918 [06:26<00:30,  2.49it/s]"
     ]
    },
    {
     "name": "stdout",
     "output_type": "stream",
     "text": [
      "Could not find readme for this link : https://github.com/tayganr/purviewcli\n"
     ]
    },
    {
     "name": "stderr",
     "output_type": "stream",
     "text": [
      " 92%|█████████████████████████████████████████████████████████████████████████████████████████████████████████████████████████▉           | 842/918 [06:27<00:30,  2.48it/s]"
     ]
    },
    {
     "name": "stdout",
     "output_type": "stream",
     "text": [
      "Could not find readme for this link : https://github.com/tensorflow/benchmarks\n"
     ]
    },
    {
     "name": "stderr",
     "output_type": "stream",
     "text": [
      " 92%|██████████████████████████████████████████████████████████████████████████████████████████████████████████████████████████▏          | 843/918 [06:27<00:30,  2.47it/s]"
     ]
    },
    {
     "name": "stdout",
     "output_type": "stream",
     "text": [
      "Could not find readme for this link : https://github.com/tensorflow/models\n"
     ]
    },
    {
     "name": "stderr",
     "output_type": "stream",
     "text": [
      " 92%|██████████████████████████████████████████████████████████████████████████████████████████████████████████████████████████▎          | 844/918 [06:27<00:30,  2.46it/s]"
     ]
    },
    {
     "name": "stdout",
     "output_type": "stream",
     "text": [
      "Could not find readme for this link : https://github.com/tensorflow/tensorflow\n"
     ]
    },
    {
     "name": "stderr",
     "output_type": "stream",
     "text": [
      " 92%|██████████████████████████████████████████████████████████████████████████████████████████████████████████████████████████▍          | 845/918 [06:28<00:30,  2.42it/s]"
     ]
    },
    {
     "name": "stdout",
     "output_type": "stream",
     "text": [
      "Could not find readme for this link : https://github.com/tensorpack/tensorpack\n"
     ]
    },
    {
     "name": "stderr",
     "output_type": "stream",
     "text": [
      " 92%|██████████████████████████████████████████████████████████████████████████████████████████████████████████████████████████▌          | 846/918 [06:28<00:29,  2.46it/s]"
     ]
    },
    {
     "name": "stdout",
     "output_type": "stream",
     "text": [
      "Could not find readme for this link : https://github.com/teo-ma/AzureSQLChatGPTDemo\n"
     ]
    },
    {
     "name": "stderr",
     "output_type": "stream",
     "text": [
      " 92%|██████████████████████████████████████████████████████████████████████████████████████████████████████████████████████████▋          | 847/918 [06:29<00:28,  2.45it/s]"
     ]
    },
    {
     "name": "stdout",
     "output_type": "stream",
     "text": [
      "Could not find readme for this link : https://github.com/teo-ma/azure-open-ai-embeddings-qna\n"
     ]
    },
    {
     "name": "stderr",
     "output_type": "stream",
     "text": [
      " 92%|██████████████████████████████████████████████████████████████████████████████████████████████████████████████████████████▊          | 848/918 [06:29<00:28,  2.45it/s]"
     ]
    },
    {
     "name": "stdout",
     "output_type": "stream",
     "text": [
      "Could not find readme for this link : https://github.com/teo-ma/cosmosdb-chatgpt\n"
     ]
    },
    {
     "name": "stderr",
     "output_type": "stream",
     "text": [
      " 92%|███████████████████████████████████████████████████████████████████████████████████████████████████████████████████████████          | 849/918 [06:29<00:28,  2.45it/s]"
     ]
    },
    {
     "name": "stdout",
     "output_type": "stream",
     "text": [
      "Could not find readme for this link : https://github.com/terasic/InnovateFPGA2021\n"
     ]
    },
    {
     "name": "stderr",
     "output_type": "stream",
     "text": [
      " 93%|███████████████████████████████████████████████████████████████████████████████████████████████████████████████████████████▏         | 850/918 [06:30<00:28,  2.41it/s]"
     ]
    },
    {
     "name": "stdout",
     "output_type": "stream",
     "text": [
      "Could not find readme for this link : https://github.com/the-commons-project/vci-directory\n"
     ]
    },
    {
     "name": "stderr",
     "output_type": "stream",
     "text": [
      " 93%|███████████████████████████████████████████████████████████████████████████████████████████████████████████████████████████▎         | 851/918 [06:30<00:27,  2.45it/s]"
     ]
    },
    {
     "name": "stdout",
     "output_type": "stream",
     "text": [
      "Could not find readme for this link : https://github.com/thejoshwolfe/yauzl\n"
     ]
    },
    {
     "name": "stderr",
     "output_type": "stream",
     "text": [
      " 93%|███████████████████████████████████████████████████████████████████████████████████████████████████████████████████████████▍         | 852/918 [06:31<00:26,  2.46it/s]"
     ]
    },
    {
     "name": "stdout",
     "output_type": "stream",
     "text": [
      "Could not find readme for this link : https://github.com/thejoshwolfe/yazl\n"
     ]
    },
    {
     "name": "stderr",
     "output_type": "stream",
     "text": [
      " 93%|███████████████████████████████████████████████████████████████████████████████████████████████████████████████████████████▌         | 853/918 [06:31<00:26,  2.45it/s]"
     ]
    },
    {
     "name": "stdout",
     "output_type": "stream",
     "text": [
      "Could not find readme for this link : https://github.com/theskumar/python-dotenv\n"
     ]
    },
    {
     "name": "stderr",
     "output_type": "stream",
     "text": [
      " 93%|███████████████████████████████████████████████████████████████████████████████████████████████████████████████████████████▋         | 854/918 [06:31<00:26,  2.44it/s]"
     ]
    },
    {
     "name": "stdout",
     "output_type": "stream",
     "text": [
      "Could not find readme for this link : https://github.com/thousfeet/LEAR\n"
     ]
    },
    {
     "name": "stderr",
     "output_type": "stream",
     "text": [
      " 93%|███████████████████████████████████████████████████████████████████████████████████████████████████████████████████████████▊         | 855/918 [06:32<00:24,  2.59it/s]"
     ]
    },
    {
     "name": "stdout",
     "output_type": "stream",
     "text": [
      "Could not find readme for this link : https://github.com/thuml/CDAN\n"
     ]
    },
    {
     "name": "stderr",
     "output_type": "stream",
     "text": [
      " 93%|████████████████████████████████████████████████████████████████████████████████████████████████████████████████████████████         | 856/918 [06:32<00:23,  2.66it/s]"
     ]
    },
    {
     "name": "stdout",
     "output_type": "stream",
     "text": [
      "Could not find readme for this link : https://github.com/thunlp/OpenQA\n"
     ]
    },
    {
     "name": "stderr",
     "output_type": "stream",
     "text": [
      " 93%|████████████████████████████████████████████████████████████████████████████████████████████████████████████████████████████▏        | 857/918 [06:32<00:22,  2.74it/s]"
     ]
    },
    {
     "name": "stdout",
     "output_type": "stream",
     "text": [
      "Could not find readme for this link : https://github.com/tianocore/edk2\n"
     ]
    },
    {
     "name": "stderr",
     "output_type": "stream",
     "text": [
      " 93%|████████████████████████████████████████████████████████████████████████████████████████████████████████████████████████████▎        | 858/918 [06:33<00:22,  2.64it/s]"
     ]
    },
    {
     "name": "stdout",
     "output_type": "stream",
     "text": [
      "Could not find readme for this link : https://github.com/tianocore/edk2-pytool-extensions\n"
     ]
    },
    {
     "name": "stderr",
     "output_type": "stream",
     "text": [
      " 94%|████████████████████████████████████████████████████████████████████████████████████████████████████████████████████████████▍        | 859/918 [06:33<00:22,  2.59it/s]"
     ]
    },
    {
     "name": "stdout",
     "output_type": "stream",
     "text": [
      "Could not find readme for this link : https://github.com/tianocore/edk2-pytool-library\n"
     ]
    },
    {
     "name": "stderr",
     "output_type": "stream",
     "text": [
      " 94%|████████████████████████████████████████████████████████████████████████████████████████████████████████████████████████████▌        | 860/918 [06:34<00:21,  2.69it/s]"
     ]
    },
    {
     "name": "stdout",
     "output_type": "stream",
     "text": [
      "Could not find readme for this link : https://github.com/tildeio/route-recognizer\n"
     ]
    },
    {
     "name": "stderr",
     "output_type": "stream",
     "text": [
      " 94%|████████████████████████████████████████████████████████████████████████████████████████████████████████████████████████████▋        | 861/918 [06:34<00:21,  2.68it/s]"
     ]
    },
    {
     "name": "stdout",
     "output_type": "stream",
     "text": [
      "Could not find readme for this link : https://github.com/tiran/cpython-wasm-test\n"
     ]
    },
    {
     "name": "stderr",
     "output_type": "stream",
     "text": [
      " 94%|████████████████████████████████████████████████████████████████████████████████████████████████████████████████████████████▉        | 862/918 [06:34<00:21,  2.60it/s]"
     ]
    },
    {
     "name": "stdout",
     "output_type": "stream",
     "text": [
      "Could not find readme for this link : https://github.com/tjanczuk/edge\n"
     ]
    },
    {
     "name": "stderr",
     "output_type": "stream",
     "text": [
      " 94%|█████████████████████████████████████████████████████████████████████████████████████████████████████████████████████████████        | 863/918 [06:35<00:20,  2.73it/s]"
     ]
    },
    {
     "name": "stdout",
     "output_type": "stream",
     "text": [
      "Could not find readme for this link : https://github.com/toddwschneider/nyc-taxi-data\n"
     ]
    },
    {
     "name": "stderr",
     "output_type": "stream",
     "text": [
      " 94%|█████████████████████████████████████████████████████████████████████████████████████████████████████████████████████████████▏       | 864/918 [06:35<00:19,  2.79it/s]"
     ]
    },
    {
     "name": "stdout",
     "output_type": "stream",
     "text": [
      "Could not find readme for this link : https://github.com/tom-doerr/zsh_codex\n"
     ]
    },
    {
     "name": "stderr",
     "output_type": "stream",
     "text": [
      " 94%|█████████████████████████████████████████████████████████████████████████████████████████████████████████████████████████████▎       | 865/918 [06:36<00:20,  2.56it/s]"
     ]
    },
    {
     "name": "stdout",
     "output_type": "stream",
     "text": [
      "Could not find readme for this link : https://github.com/tomaz/appledoc\n"
     ]
    },
    {
     "name": "stderr",
     "output_type": "stream",
     "text": [
      " 94%|█████████████████████████████████████████████████████████████████████████████████████████████████████████████████████████████▍       | 866/918 [06:36<00:20,  2.52it/s]"
     ]
    },
    {
     "name": "stdout",
     "output_type": "stream",
     "text": [
      "Could not find readme for this link : https://github.com/tonybaloney/Pyjion\n"
     ]
    },
    {
     "name": "stderr",
     "output_type": "stream",
     "text": [
      " 94%|█████████████████████████████████████████████████████████████████████████████████████████████████████████████████████████████▌       | 867/918 [06:36<00:20,  2.50it/s]"
     ]
    },
    {
     "name": "stdout",
     "output_type": "stream",
     "text": [
      "Could not find readme for this link : https://github.com/torch/nn\n"
     ]
    },
    {
     "name": "stderr",
     "output_type": "stream",
     "text": [
      " 95%|█████████████████████████████████████████████████████████████████████████████████████████████████████████████████████████████▊       | 868/918 [06:37<00:20,  2.46it/s]"
     ]
    },
    {
     "name": "stdout",
     "output_type": "stream",
     "text": [
      "Could not find readme for this link : https://github.com/tpm2-software/tpm2-tss\n"
     ]
    },
    {
     "name": "stderr",
     "output_type": "stream",
     "text": [
      " 95%|█████████████████████████████████████████████████████████████████████████████████████████████████████████████████████████████▉       | 869/918 [06:37<00:20,  2.44it/s]"
     ]
    },
    {
     "name": "stdout",
     "output_type": "stream",
     "text": [
      "Could not find readme for this link : https://github.com/tree-sitter/py-tree-sitter\n"
     ]
    },
    {
     "name": "stderr",
     "output_type": "stream",
     "text": [
      " 95%|██████████████████████████████████████████████████████████████████████████████████████████████████████████████████████████████       | 870/918 [06:38<00:19,  2.48it/s]"
     ]
    },
    {
     "name": "stdout",
     "output_type": "stream",
     "text": [
      "Could not find readme for this link : https://github.com/tree-sitter/tree-sitter-python\n"
     ]
    },
    {
     "name": "stderr",
     "output_type": "stream",
     "text": [
      " 95%|██████████████████████████████████████████████████████████████████████████████████████████████████████████████████████████████▏      | 871/918 [06:38<00:18,  2.60it/s]"
     ]
    },
    {
     "name": "stdout",
     "output_type": "stream",
     "text": [
      "Could not find readme for this link : https://github.com/tsakim/poibin\n"
     ]
    },
    {
     "name": "stderr",
     "output_type": "stream",
     "text": [
      " 95%|██████████████████████████████████████████████████████████████████████████████████████████████████████████████████████████████▎      | 872/918 [06:38<00:17,  2.67it/s]"
     ]
    },
    {
     "name": "stdout",
     "output_type": "stream",
     "text": [
      "Could not find readme for this link : https://github.com/tushardhadiwal/docker-influxdb-grafana\n"
     ]
    },
    {
     "name": "stderr",
     "output_type": "stream",
     "text": [
      " 95%|██████████████████████████████████████████████████████████████████████████████████████████████████████████████████████████████▍      | 873/918 [06:39<00:16,  2.72it/s]"
     ]
    },
    {
     "name": "stdout",
     "output_type": "stream",
     "text": [
      "Could not find readme for this link : https://github.com/tylin/coco-caption\n"
     ]
    },
    {
     "name": "stderr",
     "output_type": "stream",
     "text": [
      " 95%|██████████████████████████████████████████████████████████████████████████████████████████████████████████████████████████████▋      | 874/918 [06:39<00:15,  2.77it/s]"
     ]
    },
    {
     "name": "stdout",
     "output_type": "stream",
     "text": [
      "Could not find readme for this link : https://github.com/typescript-eslint/typescript-eslint\n"
     ]
    },
    {
     "name": "stderr",
     "output_type": "stream",
     "text": [
      " 95%|██████████████████████████████████████████████████████████████████████████████████████████████████████████████████████████████▊      | 875/918 [06:39<00:15,  2.83it/s]"
     ]
    },
    {
     "name": "stdout",
     "output_type": "stream",
     "text": [
      "Could not find readme for this link : https://github.com/typicode/husky\n"
     ]
    },
    {
     "name": "stderr",
     "output_type": "stream",
     "text": [
      " 95%|██████████████████████████████████████████████████████████████████████████████████████████████████████████████████████████████▉      | 876/918 [06:40<00:15,  2.66it/s]"
     ]
    },
    {
     "name": "stdout",
     "output_type": "stream",
     "text": [
      "Could not find readme for this link : https://github.com/uclnlp/emoji2vec\n"
     ]
    },
    {
     "name": "stderr",
     "output_type": "stream",
     "text": [
      " 96%|███████████████████████████████████████████████████████████████████████████████████████████████████████████████████████████████      | 877/918 [06:40<00:15,  2.59it/s]"
     ]
    },
    {
     "name": "stdout",
     "output_type": "stream",
     "text": [
      "Could not find readme for this link : https://github.com/uma-pi1/kge\n"
     ]
    },
    {
     "name": "stderr",
     "output_type": "stream",
     "text": [
      " 96%|███████████████████████████████████████████████████████████████████████████████████████████████████████████████████████████████▏     | 878/918 [06:41<00:15,  2.55it/s]"
     ]
    },
    {
     "name": "stdout",
     "output_type": "stream",
     "text": [
      "Could not find readme for this link : https://github.com/unicode-org/icu\n"
     ]
    },
    {
     "name": "stderr",
     "output_type": "stream",
     "text": [
      " 96%|███████████████████████████████████████████████████████████████████████████████████████████████████████████████████████████████▎     | 879/918 [06:41<00:16,  2.33it/s]"
     ]
    },
    {
     "name": "stdout",
     "output_type": "stream",
     "text": [
      "Could not find readme for this link : https://github.com/unoplatform/uno\n"
     ]
    },
    {
     "name": "stderr",
     "output_type": "stream",
     "text": [
      " 96%|███████████████████████████████████████████████████████████████████████████████████████████████████████████████████████████████▍     | 880/918 [06:41<00:16,  2.37it/s]"
     ]
    },
    {
     "name": "stdout",
     "output_type": "stream",
     "text": [
      "Could not find readme for this link : https://github.com/unoplatform/uno\n"
     ]
    },
    {
     "name": "stderr",
     "output_type": "stream",
     "text": [
      " 96%|███████████████████████████████████████████████████████████████████████████████████████████████████████████████████████████████▋     | 881/918 [06:42<00:14,  2.50it/s]"
     ]
    },
    {
     "name": "stdout",
     "output_type": "stream",
     "text": [
      "Could not find readme for this link : https://github.com/uwdata/arquero\n"
     ]
    },
    {
     "name": "stderr",
     "output_type": "stream",
     "text": [
      " 96%|███████████████████████████████████████████████████████████████████████████████████████████████████████████████████████████████▊     | 882/918 [06:42<00:13,  2.62it/s]"
     ]
    },
    {
     "name": "stdout",
     "output_type": "stream",
     "text": [
      "Could not find readme for this link : https://github.com/uwdata/draco\n"
     ]
    },
    {
     "name": "stderr",
     "output_type": "stream",
     "text": [
      " 96%|███████████████████████████████████████████████████████████████████████████████████████████████████████████████████████████████▉     | 883/918 [06:43<00:13,  2.67it/s]"
     ]
    },
    {
     "name": "stdout",
     "output_type": "stream",
     "text": [
      "Could not find readme for this link : https://github.com/v8/v8\n"
     ]
    },
    {
     "name": "stderr",
     "output_type": "stream",
     "text": [
      " 96%|████████████████████████████████████████████████████████████████████████████████████████████████████████████████████████████████     | 884/918 [06:43<00:12,  2.64it/s]"
     ]
    },
    {
     "name": "stdout",
     "output_type": "stream",
     "text": [
      "Could not find readme for this link : https://github.com/ScottLouvau/codeformatter\n"
     ]
    },
    {
     "name": "stderr",
     "output_type": "stream",
     "text": [
      " 96%|████████████████████████████████████████████████████████████████████████████████████████████████████████████████████████████████▏    | 885/918 [06:43<00:12,  2.57it/s]"
     ]
    },
    {
     "name": "stdout",
     "output_type": "stream",
     "text": [
      "Could not find readme for this link : https://github.com/vacancy/Synchronized-BatchNorm-PyTorch\n"
     ]
    },
    {
     "name": "stderr",
     "output_type": "stream",
     "text": [
      " 97%|████████████████████████████████████████████████████████████████████████████████████████████████████████████████████████████████▎    | 886/918 [06:44<00:12,  2.53it/s]"
     ]
    },
    {
     "name": "stdout",
     "output_type": "stream",
     "text": [
      "Could not find readme for this link : https://github.com/victordibia/data2vis\n"
     ]
    },
    {
     "name": "stderr",
     "output_type": "stream",
     "text": [
      " 97%|████████████████████████████████████████████████████████████████████████████████████████████████████████████████████████████████▌    | 887/918 [06:44<00:12,  2.50it/s]"
     ]
    },
    {
     "name": "stdout",
     "output_type": "stream",
     "text": [
      "Could not find readme for this link : https://github.com/vinaypamnani/wmie2\n"
     ]
    },
    {
     "name": "stderr",
     "output_type": "stream",
     "text": [
      " 97%|████████████████████████████████████████████████████████████████████████████████████████████████████████████████████████████████▋    | 888/918 [06:45<00:12,  2.48it/s]"
     ]
    },
    {
     "name": "stdout",
     "output_type": "stream",
     "text": [
      "Could not find readme for this link : https://github.com/rail-berkeley/rlkit\n"
     ]
    },
    {
     "name": "stderr",
     "output_type": "stream",
     "text": [
      " 97%|████████████████████████████████████████████████████████████████████████████████████████████████████████████████████████████████▊    | 889/918 [06:45<00:11,  2.47it/s]"
     ]
    },
    {
     "name": "stdout",
     "output_type": "stream",
     "text": [
      "Could not find readme for this link : https://github.com/vmware-tanzu/sonobuoy\n"
     ]
    },
    {
     "name": "stderr",
     "output_type": "stream",
     "text": [
      " 97%|████████████████████████████████████████████████████████████████████████████████████████████████████████████████████████████████▉    | 890/918 [06:45<00:11,  2.46it/s]"
     ]
    },
    {
     "name": "stdout",
     "output_type": "stream",
     "text": [
      "Could not find readme for this link : https://github.com/vsyrgkanis/plugin_regularized_estimation\n"
     ]
    },
    {
     "name": "stderr",
     "output_type": "stream",
     "text": [
      " 97%|█████████████████████████████████████████████████████████████████████████████████████████████████████████████████████████████████    | 891/918 [06:46<00:11,  2.45it/s]"
     ]
    },
    {
     "name": "stdout",
     "output_type": "stream",
     "text": [
      "Could not find readme for this link : https://github.com/w3c/webcrypto\n"
     ]
    },
    {
     "name": "stderr",
     "output_type": "stream",
     "text": [
      " 97%|█████████████████████████████████████████████████████████████████████████████████████████████████████████████████████████████████▏   | 892/918 [06:46<00:10,  2.44it/s]"
     ]
    },
    {
     "name": "stdout",
     "output_type": "stream",
     "text": [
      "Could not find readme for this link : https://github.com/walbourn/directx-sdk-legacy-samples\n"
     ]
    },
    {
     "name": "stderr",
     "output_type": "stream",
     "text": [
      " 97%|█████████████████████████████████████████████████████████████████████████████████████████████████████████████████████████████████▍   | 893/918 [06:47<00:10,  2.46it/s]"
     ]
    },
    {
     "name": "stdout",
     "output_type": "stream",
     "text": [
      "Could not find readme for this link : https://github.com/walbourn/directx-sdk-samples\n"
     ]
    },
    {
     "name": "stderr",
     "output_type": "stream",
     "text": [
      " 97%|█████████████████████████████████████████████████████████████████████████████████████████████████████████████████████████████████▌   | 894/918 [06:47<00:09,  2.45it/s]"
     ]
    },
    {
     "name": "stdout",
     "output_type": "stream",
     "text": [
      "Could not find readme for this link : https://github.com/walter-1/TSS\n"
     ]
    },
    {
     "name": "stderr",
     "output_type": "stream",
     "text": [
      " 97%|█████████████████████████████████████████████████████████████████████████████████████████████████████████████████████████████████▋   | 895/918 [06:47<00:09,  2.45it/s]"
     ]
    },
    {
     "name": "stdout",
     "output_type": "stream",
     "text": [
      "Could not find readme for this link : https://github.com/watchernyu/REDQ\n"
     ]
    },
    {
     "name": "stderr",
     "output_type": "stream",
     "text": [
      " 98%|█████████████████████████████████████████████████████████████████████████████████████████████████████████████████████████████████▊   | 896/918 [06:48<00:09,  2.44it/s]"
     ]
    },
    {
     "name": "stdout",
     "output_type": "stream",
     "text": [
      "Could not find readme for this link : https://github.com/fluxcd/flux\n"
     ]
    },
    {
     "name": "stderr",
     "output_type": "stream",
     "text": [
      " 98%|█████████████████████████████████████████████████████████████████████████████████████████████████████████████████████████████████▉   | 897/918 [06:48<00:08,  2.58it/s]"
     ]
    },
    {
     "name": "stdout",
     "output_type": "stream",
     "text": [
      "Could not find readme for this link : https://github.com/webis-de/webis-tldr-17-corpus\n"
     ]
    },
    {
     "name": "stderr",
     "output_type": "stream",
     "text": [
      " 98%|██████████████████████████████████████████████████████████████████████████████████████████████████████████████████████████████████   | 898/918 [06:49<00:07,  2.60it/s]"
     ]
    },
    {
     "name": "stdout",
     "output_type": "stream",
     "text": [
      "Could not find readme for this link : https://github.com/webpack-contrib/webpack-bundle-analyzer\n"
     ]
    },
    {
     "name": "stderr",
     "output_type": "stream",
     "text": [
      " 98%|██████████████████████████████████████████████████████████████████████████████████████████████████████████████████████████████████▏  | 899/918 [06:49<00:07,  2.55it/s]"
     ]
    },
    {
     "name": "stdout",
     "output_type": "stream",
     "text": [
      "Could not find readme for this link : https://github.com/webpack/webpack\n"
     ]
    },
    {
     "name": "stderr",
     "output_type": "stream",
     "text": [
      " 98%|██████████████████████████████████████████████████████████████████████████████████████████████████████████████████████████████████▍  | 900/918 [06:49<00:07,  2.51it/s]"
     ]
    },
    {
     "name": "stdout",
     "output_type": "stream",
     "text": [
      "Could not find readme for this link : https://github.com/wenhuchen/LogicNLG\n"
     ]
    },
    {
     "name": "stderr",
     "output_type": "stream",
     "text": [
      " 98%|██████████████████████████████████████████████████████████████████████████████████████████████████████████████████████████████████▌  | 901/918 [06:50<00:06,  2.50it/s]"
     ]
    },
    {
     "name": "stdout",
     "output_type": "stream",
     "text": [
      "Could not find readme for this link : https://github.com/windweller/DisExtract\n"
     ]
    },
    {
     "name": "stderr",
     "output_type": "stream",
     "text": [
      " 98%|██████████████████████████████████████████████████████████████████████████████████████████████████████████████████████████████████▋  | 902/918 [06:50<00:06,  2.46it/s]"
     ]
    },
    {
     "name": "stdout",
     "output_type": "stream",
     "text": [
      "Could not find readme for this link : https://github.com/winjs/winjs\n"
     ]
    },
    {
     "name": "stderr",
     "output_type": "stream",
     "text": [
      " 98%|██████████████████████████████████████████████████████████████████████████████████████████████████████████████████████████████████▊  | 903/918 [06:51<00:06,  2.47it/s]"
     ]
    },
    {
     "name": "stdout",
     "output_type": "stream",
     "text": [
      "Could not find readme for this link : https://github.com/winjs/winstrap\n"
     ]
    },
    {
     "name": "stderr",
     "output_type": "stream",
     "text": [
      " 98%|██████████████████████████████████████████████████████████████████████████████████████████████████████████████████████████████████▉  | 904/918 [06:51<00:05,  2.47it/s]"
     ]
    },
    {
     "name": "stdout",
     "output_type": "stream",
     "text": [
      "Could not find readme for this link : https://github.com/wixtoolset/wix3\n"
     ]
    },
    {
     "name": "stderr",
     "output_type": "stream",
     "text": [
      " 99%|███████████████████████████████████████████████████████████████████████████████████████████████████████████████████████████████████  | 905/918 [06:51<00:05,  2.46it/s]"
     ]
    },
    {
     "name": "stdout",
     "output_type": "stream",
     "text": [
      "Could not find readme for this link : https://github.com/wjohnson/pyapacheatlas\n"
     ]
    },
    {
     "name": "stderr",
     "output_type": "stream",
     "text": [
      " 99%|███████████████████████████████████████████████████████████████████████████████████████████████████████████████████████████████████▎ | 906/918 [06:52<00:04,  2.45it/s]"
     ]
    },
    {
     "name": "stdout",
     "output_type": "stream",
     "text": [
      "Could not find readme for this link : https://github.com/woodfrog/vse_infty\n"
     ]
    },
    {
     "name": "stderr",
     "output_type": "stream",
     "text": [
      " 99%|███████████████████████████████████████████████████████████████████████████████████████████████████████████████████████████████████▍ | 907/918 [06:52<00:04,  2.60it/s]"
     ]
    },
    {
     "name": "stdout",
     "output_type": "stream",
     "text": [
      "Could not find readme for this link : https://github.com/xamarin/Workbooks\n"
     ]
    },
    {
     "name": "stderr",
     "output_type": "stream",
     "text": [
      " 99%|███████████████████████████████████████████████████████████████████████████████████████████████████████████████████████████████████▌ | 908/918 [06:52<00:03,  2.68it/s]"
     ]
    },
    {
     "name": "stdout",
     "output_type": "stream",
     "text": [
      "Could not find readme for this link : https://github.com/xamarin/xamarin-macios\n"
     ]
    },
    {
     "name": "stderr",
     "output_type": "stream",
     "text": [
      " 99%|███████████████████████████████████████████████████████████████████████████████████████████████████████████████████████████████████▋ | 909/918 [06:53<00:03,  2.72it/s]"
     ]
    },
    {
     "name": "stdout",
     "output_type": "stream",
     "text": [
      "Could not find readme for this link : https://github.com/xiaojunxu/SQLNet\n"
     ]
    },
    {
     "name": "stderr",
     "output_type": "stream",
     "text": [
      " 99%|███████████████████████████████████████████████████████████████████████████████████████████████████████████████████████████████████▊ | 910/918 [06:53<00:02,  2.80it/s]"
     ]
    },
    {
     "name": "stdout",
     "output_type": "stream",
     "text": [
      "Could not find readme for this link : https://github.com/xliuhw/NLU-Evaluation-Data\n"
     ]
    },
    {
     "name": "stderr",
     "output_type": "stream",
     "text": [
      " 99%|███████████████████████████████████████████████████████████████████████████████████████████████████████████████████████████████████▉ | 911/918 [06:54<00:02,  2.78it/s]"
     ]
    },
    {
     "name": "stdout",
     "output_type": "stream",
     "text": [
      "Could not find readme for this link : https://github.com/xobs/platformio-ltc\n"
     ]
    },
    {
     "name": "stderr",
     "output_type": "stream",
     "text": [
      " 99%|████████████████████████████████████████████████████████████████████████████████████████████████████████████████████████████████████▏| 912/918 [06:54<00:02,  2.77it/s]"
     ]
    },
    {
     "name": "stdout",
     "output_type": "stream",
     "text": [
      "Could not find readme for this link : https://github.com/xunit/resharper-xunit\n"
     ]
    },
    {
     "name": "stderr",
     "output_type": "stream",
     "text": [
      " 99%|████████████████████████████████████████████████████████████████████████████████████████████████████████████████████████████████████▎| 913/918 [06:54<00:02,  2.36it/s]"
     ]
    },
    {
     "name": "stdout",
     "output_type": "stream",
     "text": [
      "Could not find readme for this link : https://github.com/xunit/xunit\n"
     ]
    },
    {
     "name": "stderr",
     "output_type": "stream",
     "text": [
      "100%|████████████████████████████████████████████████████████████████████████████████████████████████████████████████████████████████████▍| 914/918 [06:55<00:01,  2.39it/s]"
     ]
    },
    {
     "name": "stdout",
     "output_type": "stream",
     "text": [
      "Could not find readme for this link : https://github.com/yaml/pyyaml\n"
     ]
    },
    {
     "name": "stderr",
     "output_type": "stream",
     "text": [
      "100%|████████████████████████████████████████████████████████████████████████████████████████████████████████████████████████████████████▌| 915/918 [06:55<00:01,  2.51it/s]"
     ]
    },
    {
     "name": "stdout",
     "output_type": "stream",
     "text": [
      "Could not find readme for this link : https://github.com/yidongnan/grpc-spring-boot-starter\n"
     ]
    },
    {
     "name": "stderr",
     "output_type": "stream",
     "text": [
      "100%|████████████████████████████████████████████████████████████████████████████████████████████████████████████████████████████████████▋| 916/918 [06:56<00:00,  2.60it/s]"
     ]
    },
    {
     "name": "stdout",
     "output_type": "stream",
     "text": [
      "Could not find readme for this link : https://github.com/yoeo/guesslang\n"
     ]
    },
    {
     "name": "stderr",
     "output_type": "stream",
     "text": [
      "100%|████████████████████████████████████████████████████████████████████████████████████████████████████████████████████████████████████▊| 917/918 [06:56<00:00,  2.73it/s]"
     ]
    },
    {
     "name": "stdout",
     "output_type": "stream",
     "text": [
      "Could not find readme for this link : https://github.com/vercel/ncc\n"
     ]
    },
    {
     "name": "stderr",
     "output_type": "stream",
     "text": [
      "100%|█████████████████████████████████████████████████████████████████████████████████████████████████████████████████████████████████████| 918/918 [06:56<00:00,  2.20it/s]"
     ]
    },
    {
     "name": "stdout",
     "output_type": "stream",
     "text": [
      "Could not find readme for this link : https://github.com/foldable-devices/viewportsegments-css-polyfill\n"
     ]
    },
    {
     "name": "stderr",
     "output_type": "stream",
     "text": [
      "\n",
      " 11%|█████████████▉                                                                                                                    | 633/5880 [00:00<00:02, 2524.81it/s]"
     ]
    },
    {
     "name": "stdout",
     "output_type": "stream",
     "text": [
      "Found more than 10 arxiv links in the readme of https://github.com/microsoft/aerial_wildlife_detection. Ignoring the links\n"
     ]
    },
    {
     "name": "stderr",
     "output_type": "stream",
     "text": [
      " 27%|███████████████████████████████████▏                                                                                             | 1602/5880 [00:00<00:01, 2576.23it/s]"
     ]
    },
    {
     "name": "stdout",
     "output_type": "stream",
     "text": [
      "Found more than 10 arxiv links in the readme of https://github.com/microsoft/ContextualSP. Ignoring the links\n",
      "Found more than 10 arxiv links in the readme of https://github.com/microsoft/DeepSpeed. Ignoring the links\n"
     ]
    },
    {
     "name": "stderr",
     "output_type": "stream",
     "text": [
      " 42%|█████████████████████████████████████████████████████▉                                                                           | 2458/5880 [00:00<00:01, 2585.12it/s]"
     ]
    },
    {
     "name": "stdout",
     "output_type": "stream",
     "text": [
      "Found more than 10 arxiv links in the readme of https://github.com/microsoft/huggingface-transformers. Ignoring the links\n"
     ]
    },
    {
     "name": "stderr",
     "output_type": "stream",
     "text": [
      " 55%|███████████████████████████████████████████████████████████████████████▏                                                          | 3220/5880 [00:03<00:04, 560.97it/s]"
     ]
    },
    {
     "name": "stdout",
     "output_type": "stream",
     "text": [
      "Found more than 10 arxiv links in the readme of https://github.com/microsoft/MMdnn. Ignoring the links\n",
      "Found more than 10 arxiv links in the readme of https://github.com/microsoft/MSR-NLP-Projects. Ignoring the links\n",
      "Found more than 10 arxiv links in the readme of https://github.com/microsoft/muzic. Ignoring the links\n"
     ]
    },
    {
     "name": "stderr",
     "output_type": "stream",
     "text": [
      " 81%|███████████████████████████████████████████████████████████████████████████████████████████████████████▉                         | 4739/5880 [00:04<00:00, 1668.80it/s]"
     ]
    },
    {
     "name": "stdout",
     "output_type": "stream",
     "text": [
      "Found more than 10 arxiv links in the readme of https://github.com/microsoft/unilm. Ignoring the links\n"
     ]
    },
    {
     "name": "stderr",
     "output_type": "stream",
     "text": [
      " 94%|█████████████████████████████████████████████████████████████████████████████████████████████████████████████████████████        | 5516/5880 [00:04<00:00, 2197.61it/s]"
     ]
    },
    {
     "name": "stdout",
     "output_type": "stream",
     "text": [
      "Found more than 10 arxiv links in the readme of https://github.com/JieyuZ2/wrench. Ignoring the links\n",
      "Found more than 10 arxiv links in the readme of https://github.com/csinva/imodelsX. Ignoring the links\n",
      "Found more than 10 arxiv links in the readme of https://github.com/huggingface/transformers. Ignoring the links\n",
      "Found more than 10 arxiv links in the readme of https://github.com/huggingface/transformers. Ignoring the links\n"
     ]
    },
    {
     "name": "stderr",
     "output_type": "stream",
     "text": [
      "100%|██████████████████████████████████████████████████████████████████████████████████████████████████████████████████████████████████| 5880/5880 [00:06<00:00, 880.88it/s]"
     ]
    },
    {
     "name": "stdout",
     "output_type": "stream",
     "text": [
      "Found more than 10 arxiv links in the readme of https://github.com/onnx/models. Ignoring the links\n",
      "Found more than 10 arxiv links in the readme of https://github.com/salesforce/WikiSQL. Ignoring the links\n"
     ]
    },
    {
     "name": "stderr",
     "output_type": "stream",
     "text": [
      "\n"
     ]
    },
    {
     "name": "stdout",
     "output_type": "stream",
     "text": [
      "rate exceeded :( Trying after 5 minutes\n",
      "trying...\n",
      "Already exists for 23andMe, Inc., ignoring...\n",
      "Already exists for 3M, ignoring...\n",
      "Already exists for ADP, ignoring...\n",
      "Already exists for AGT INTERNATIONAL GMBH, ignoring...\n",
      "Already exists for AKTIEBOLAGET SKF, ignoring...\n",
      "Already exists for ARM Limited, ignoring...\n",
      "Already exists for ARRI, ignoring...\n",
      "Already exists for ASAPP INC, ignoring...\n",
      "Already exists for ASD Inc., ignoring...\n",
      "Already exists for ASELSAN ELEKTRONIK, ignoring...\n",
      "Already exists for ASML Netherlands BV, ignoring...\n",
      "Already exists for ASUSTeK Computer Inc, ignoring...\n",
      "Already exists for AWK Group AG, ignoring...\n",
      "Already exists for Abbott Laboratories, ignoring...\n",
      "Already exists for Accenture, ignoring...\n",
      "Already exists for Acxiom Corporation, ignoring...\n",
      "Already exists for Adaptive Technologies, Inc., ignoring...\n",
      "Already exists for Adobe, ignoring...\n",
      "Already exists for Advanced Micro Devices, ignoring...\n",
      "Already exists for Affinnova, Inc., ignoring...\n",
      "Already exists for Agilent Technologies, ignoring...\n",
      "Already exists for Air Liquide Large Industries US LP, ignoring...\n",
      "Already exists for Airbnb, ignoring...\n",
      "Already exists for Airbus Defence and Space, ignoring...\n",
      "Already exists for Akamai Technologies Inc, ignoring...\n",
      "Already exists for Alibaba, ignoring...\n",
      "Already exists for Alps Electric Co Ltd, ignoring...\n",
      "Already exists for Alstom, ignoring...\n",
      "Already exists for Amadeus, ignoring...\n",
      "Already exists for Amazon, ignoring...\n",
      "Already exists for Amdocs Development Limited, ignoring...\n",
      "Already exists for American Express, ignoring...\n",
      "Already exists for American GNC Corporation, ignoring...\n",
      "Already exists for Ami Semiconductor, ignoring...\n",
      "Already exists for Amobee, Inc., ignoring...\n",
      "Already exists for Analog Devices Inc, ignoring...\n",
      "Already exists for Apple, ignoring...\n",
      "Already exists for Aptima Inc, ignoring...\n",
      "Already exists for Asahi Kasei Corporation, ignoring...\n",
      "Already exists for Aspen Technology Inc, ignoring...\n",
      "Already exists for AstraZeneca, ignoring...\n",
      "Already exists for Audi AG, ignoring...\n",
      "Already exists for Autodesk, ignoring...\n",
      "Already exists for Autoliv ASP Inc, ignoring...\n",
      "Already exists for Autonomous Solutions, Inc., ignoring...\n",
      "Already exists for Avago Technologies, ignoring...\n",
      "Already exists for Avaya, ignoring...\n",
      "Already exists for Aveo Inc, ignoring...\n",
      "Already exists for Avx Corporation, ignoring...\n",
      "Already exists for BAIDU, ignoring...\n",
      "Already exists for BASF SE, ignoring...\n",
      "Already exists for BBN Technologies, ignoring...\n",
      "Already exists for BOOKING.COM B.V., ignoring...\n",
      "Already exists for BP America Inc, ignoring...\n",
      "Already exists for Baker Hughes a GE company, ignoring...\n",
      "Already exists for Balluff GmbH, ignoring...\n",
      "Already exists for Bang and Olufsen, ignoring...\n",
      "Already exists for Bank of America Corporation, ignoring...\n",
      "Already exists for Battelle, ignoring...\n",
      "Already exists for Bayer AG, ignoring...\n",
      "Already exists for Bayer Aktiengesellschaft, ignoring...\n",
      "Already exists for Becton Dickinson and Company, ignoring...\n",
      "Already exists for Bell, ignoring...\n",
      "Already exists for Bentley Systems Incorporated, ignoring...\n",
      "Already exists for Blizzard Entertainment, ignoring...\n",
      "Already exists for Bloomberg, ignoring...\n",
      "Already exists for Boehringer-Ingelheim, ignoring...\n",
      "Already exists for Boeing Corporation, ignoring...\n",
      "Already exists for Booz Allen Hamilton Inc, ignoring...\n",
      "Already exists for Borealis, ignoring...\n",
      "Already exists for British Telecommunications plc, ignoring...\n",
      "Already exists for Broadcom, ignoring...\n",
      "Already exists for Brooks Automation, ignoring...\n",
      "Already exists for Bytedance, ignoring...\n",
      "Already exists for CA Inc, ignoring...\n",
      "Already exists for Ca Technologies, ignoring...\n",
      "Already exists for Cabot Corporation, ignoring...\n",
      "Already exists for Cadence Design Systems Inc, ignoring...\n",
      "Already exists for Canon Inc, ignoring...\n",
      "Already exists for Capgemini, ignoring...\n",
      "Already exists for Capital One Services LLC, ignoring...\n",
      "Already exists for Carl Zeiss, ignoring...\n",
      "Already exists for Carrier Corporation, ignoring...\n",
      "Already exists for Caterpillar, ignoring...\n",
      "Already exists for Cavium, Inc., ignoring...\n",
      "Already exists for Cerner Innovation Inc, ignoring...\n",
      "Already exists for Charles River Analytics Inc, ignoring...\n",
      "Already exists for Check Point Software Technologies, Inc., ignoring...\n",
      "Already exists for Chevron Corporation, ignoring...\n",
      "Already exists for China Mobile, ignoring...\n",
      "Already exists for Cigna Corporation, ignoring...\n",
      "Already exists for Cisco Systems, ignoring...\n",
      "Already exists for Citigroup, ignoring...\n",
      "Already exists for Citrix, ignoring...\n",
      "Already exists for Codexis Inc, ignoring...\n",
      "Already exists for Cognizant, ignoring...\n",
      "Already exists for Comcast, ignoring...\n",
      "Already exists for Computer Sciences Corporation - USA, ignoring...\n",
      "Already exists for Continental Automotive GmbH, ignoring...\n",
      "Already exists for Corelogic Incorporated, ignoring...\n",
      "Already exists for Corning Incorporated, ignoring...\n",
      "Already exists for Cray Inc, ignoring...\n",
      "Already exists for Cypress Semiconductor Corporation, ignoring...\n",
      "Already exists for D Wave Systems Inc, ignoring...\n",
      "Already exists for DEEP GENOMICS INCORPORATED, ignoring...\n",
      "Already exists for DENSO Corporation, ignoring...\n",
      "Already exists for Daikin Industries Ltd, ignoring...\n",
      "Already exists for Daimler AG, ignoring...\n",
      "Already exists for Danaher Corporation, ignoring...\n",
      "Already exists for Dassault Systemes, ignoring...\n",
      "Already exists for DataRobot Inc, ignoring...\n",
      "Already exists for DeepMind Technologies, ignoring...\n",
      "Already exists for Deere & Company, ignoring...\n",
      "Already exists for Definiens AG, ignoring...\n",
      "Already exists for Dell Products, ignoring...\n",
      "Already exists for Delphi, ignoring...\n",
      "Already exists for Deutsche Telekom, ignoring...\n",
      "Already exists for DiDi, ignoring...\n",
      "Already exists for Digia, ignoring...\n",
      "Already exists for Digimarc Corporation, ignoring...\n",
      "Already exists for Disney, ignoring...\n",
      "Already exists for Dolby, ignoring...\n",
      "Already exists for Dropbox Inc, ignoring...\n",
      "Already exists for DuPont, ignoring...\n",
      "Already exists for E.S.I. SOFTWARE LTD, ignoring...\n",
      "Already exists for EMC Corporation, ignoring...\n",
      "Already exists for Eaton Corporation, ignoring...\n",
      "Already exists for Elbit Systems Ltd., ignoring...\n",
      "Already exists for Electronic Arts, ignoring...\n",
      "Already exists for Elekta AB, ignoring...\n",
      "Already exists for Elsevier, ignoring...\n",
      "Already exists for Emerson Process Management Power & Water Solutions, Inc., ignoring...\n",
      "Already exists for Enjoyor Company Limited, ignoring...\n",
      "Already exists for Entelos, Inc., ignoring...\n",
      "Already exists for Ericsson Sweden, ignoring...\n",
      "Already exists for Experian, ignoring...\n",
      "Already exists for Express Scripts Holding, ignoring...\n",
      "Already exists for FSI International, Inc., ignoring...\n",
      "Already exists for FUJIFILM Corporation, ignoring...\n",
      "Already exists for Fair Isaac Corporation, ignoring...\n",
      "Already exists for Fanuc Ltd, ignoring...\n",
      "Already exists for FireEye Inc, ignoring...\n",
      "Already exists for Flextronics AP LLC, ignoring...\n",
      "Already exists for Fluke Corporation, ignoring...\n",
      "Already exists for Ford Motor Company, ignoring...\n",
      "Already exists for Freescale Semiconductor, ignoring...\n",
      "Already exists for Fujitsu Ltd, ignoring...\n",
      "Already exists for Futurewei Tech, ignoring...\n",
      "Already exists for Gateway Inc, ignoring...\n",
      "Already exists for General Electric Company, ignoring...\n",
      "Already exists for General Motors, ignoring...\n",
      "Already exists for Global Foundries Inc, ignoring...\n",
      "Already exists for GoPro, Inc., ignoring...\n",
      "Already exists for Goldman Sachs & Co, ignoring...\n",
      "Already exists for GrammaTech, ignoring...\n",
      "Already exists for Gravity Research and Development Kft., ignoring...\n",
      "Already exists for Groupon, Inc., ignoring...\n",
      "Already exists for HERE Global BV, ignoring...\n",
      "Already exists for HRL Laboratories, ignoring...\n",
      "Already exists for HTC, ignoring...\n",
      "Already exists for Halliburton, ignoring...\n",
      "Already exists for Harman International Industries Incorporated, ignoring...\n",
      "Already exists for Hcl Technologies, ignoring...\n",
      "Already exists for HeartFlow Inc, ignoring...\n",
      "Already exists for Hewlett-Packard Inc., ignoring...\n",
      "Already exists for Hitachi Ltd, ignoring...\n",
      "Already exists for Honda R and D Co, ignoring...\n",
      "Already exists for Huawei, ignoring...\n",
      "Already exists for Hulu, ignoring...\n",
      "Already exists for Hyundai Motor Group, ignoring...\n",
      "Already exists for IBM, ignoring...\n",
      "Already exists for ICF INTERNATIONAL, ignoring...\n",
      "Already exists for IHS Markit Ltd, ignoring...\n",
      "Already exists for INFOTECH SOFT, INC., ignoring...\n",
      "Already exists for INTELLIGENT FUSION TECHNOLOGY INC, ignoring...\n",
      "Already exists for Icosystem Corporation, ignoring...\n",
      "Already exists for Illumina Inc, ignoring...\n",
      "Already exists for Infineon Technologies AG, ignoring...\n",
      "Already exists for Infinera Corporation, ignoring...\n",
      "Already exists for Infosys, ignoring...\n",
      "Already exists for Ingenuity Systems, Inc., ignoring...\n",
      "Already exists for Intel Corporation, ignoring...\n",
      "Already exists for Intelligent Automation Inc, ignoring...\n",
      "Already exists for Intertrust Technologies Corp., ignoring...\n",
      "Already exists for Intuit Inc, ignoring...\n",
      "Already exists for Invensense Inc, ignoring...\n",
      "Already exists for Israel Aerospace Industries Ltd, ignoring...\n",
      "Already exists for JPMorgan Chase Bank, ignoring...\n",
      "Already exists for Janssen-Cilag, ignoring...\n",
      "Already exists for Johnson & Johnson Pharmaceutical Research & Development Raritan, ignoring...\n",
      "Already exists for Johnson Controls, ignoring...\n",
      "Already exists for Juniper Networks Inc, ignoring...\n",
      "Already exists for Justsystem Corporation, ignoring...\n",
      "Already exists for KT Corporation, ignoring...\n",
      "Already exists for Kabushiki Kaisha Yaskawa Denki, ignoring...\n",
      "Already exists for Kakao Corp, ignoring...\n",
      "Already exists for Kansai Paint Co., Ltd., ignoring...\n",
      "Already exists for Kia Motors Corporation, ignoring...\n",
      "Already exists for Kimberly-Clark Worldwide Inc, ignoring...\n",
      "Already exists for Kitware, ignoring...\n",
      "Already exists for Kone Corporation, ignoring...\n",
      "Already exists for Kongsberg Maritime AS, ignoring...\n",
      "Already exists for L'Oreal, ignoring...\n",
      "Already exists for LENOVO, ignoring...\n",
      "Already exists for LG Chem Ltd, ignoring...\n",
      "Already exists for LG Electronics Korea, ignoring...\n",
      "Already exists for Lattec IS, ignoring...\n",
      "Already exists for Lego AS, ignoring...\n",
      "Already exists for Leidos Inc, ignoring...\n",
      "Already exists for Life Technologies Corporation, ignoring...\n",
      "Already exists for Lincom Corporation, ignoring...\n",
      "Already exists for LinkedIn, ignoring...\n",
      "Already exists for Livermore Software Technology Corp, ignoring...\n",
      "Already exists for Lockheed Martin Corporation, ignoring...\n",
      "Already exists for Logitech, ignoring...\n",
      "Already exists for Lowe's Companies, Inc., ignoring...\n",
      "Already exists for Lunit Inc, ignoring...\n",
      "Already exists for Lyft, ignoring...\n",
      "Already exists for Massachusetts Mutual Life Insurance Company, ignoring...\n",
      "Already exists for Materialise, ignoring...\n",
      "Already exists for MathWorks, ignoring...\n",
      "Already exists for Mazda Motor, ignoring...\n",
      "Already exists for McDonald's, ignoring...\n",
      "Already exists for McKinsey & Company, ignoring...\n",
      "Already exists for Mediatek Inc, ignoring...\n",
      "Already exists for Medtronic Inc, ignoring...\n",
      "Already exists for Merck, ignoring...\n",
      "Already exists for Micron, ignoring...\n",
      "Already exists for Microstrategy, Inc., ignoring...\n",
      "Already exists for Midea Group, ignoring...\n",
      "Already exists for Mitel Networks, ignoring...\n",
      "Already exists for Mitsubishi Electric Corporation, ignoring...\n",
      "Already exists for Morgan Stanley, ignoring...\n",
      "Already exists for Motorola, ignoring...\n",
      "Already exists for Mozilla, ignoring...\n",
      "Already exists for NCR Corporation, ignoring...\n",
      "Already exists for NEC Corporation, ignoring...\n",
      "Already exists for NETFLIX INC, ignoring...\n",
      "Already exists for NIKE, Inc., ignoring...\n",
      "Already exists for NUTONIAN, INC., ignoring...\n",
      "Already exists for NVIDIA, ignoring...\n",
      "Already exists for NXP Semiconductors, ignoring...\n",
      "Already exists for Narus, Inc., ignoring...\n",
      "Already exists for National Instruments Corporation, ignoring...\n",
      "Already exists for Natural Selection Inc, ignoring...\n",
      "Already exists for Naver Corporation, ignoring...\n",
      "Already exists for Nestor, Inc., ignoring...\n",
      "Already exists for NetApp, ignoring...\n",
      "Already exists for Nikon, ignoring...\n",
      "Already exists for Nippon Telegraph and Telephone Corporation, ignoring...\n",
      "Already exists for Nissan, ignoring...\n",
      "Already exists for Nokia Corporation, ignoring...\n",
      "Already exists for Nortel Networks, ignoring...\n",
      "Already exists for Northrop Grumman corporation, ignoring...\n",
      "Already exists for Novatek Microelectronics Corp, ignoring...\n",
      "Already exists for Novell, Inc., ignoring...\n",
      "Already exists for Novo Nordisk, ignoring...\n",
      "Already exists for NuTech Solutions GmbH, ignoring...\n",
      "Already exists for Nuance Communications, ignoring...\n",
      "Already exists for Numerica Corp, ignoring...\n",
      "Already exists for Nutanix Inc, ignoring...\n",
      "Already exists for OPTUM INC, ignoring...\n",
      "Already exists for Olympus Corporation, ignoring...\n",
      "Already exists for Omron Adept Technologies Inc, ignoring...\n",
      "Already exists for Open Text Corporation, ignoring...\n",
      "Already exists for OpenAI, ignoring...\n",
      "Already exists for Oracle, ignoring...\n",
      "Already exists for Osaro, ignoring...\n",
      "Already exists for PDF Solutions, Inc., ignoring...\n",
      "Already exists for PEARSON EDUCATION INC, ignoring...\n",
      "Already exists for PGS Geophysical AS, ignoring...\n",
      "Already exists for PREFERRED NETWORKS INC, ignoring...\n",
      "Already exists for PTC Inc, ignoring...\n",
      "Already exists for Palo Alto Networks, ignoring...\n",
      "Already exists for Panasonic Corporation, ignoring...\n",
      "Already exists for Pandora Media Inc, ignoring...\n",
      "Already exists for Pavilion Technologies, ignoring...\n",
      "Already exists for Pearson plc, ignoring...\n",
      "Already exists for Petroleum Geo-Services ASA, ignoring...\n",
      "Already exists for Pfizer, ignoring...\n",
      "Already exists for Philip Morris Products, ignoring...\n",
      "Already exists for Philips Research, ignoring...\n",
      "Already exists for Pinterest, ignoring...\n",
      "Already exists for Pitney Bowes Inc, ignoring...\n",
      "Already exists for Posco, ignoring...\n",
      "Already exists for ProMOS Technologies Inc., ignoring...\n",
      "Already exists for Procter & Gamble, ignoring...\n",
      "Already exists for Progressive, ignoring...\n",
      "Already exists for QinetiQ, ignoring...\n",
      "Already exists for Qualcomm Incorporated, ignoring...\n",
      "Already exists for Quanta Computer, ignoring...\n",
      "Already exists for REPSOL, ignoring...\n",
      "Already exists for Rakuten, ignoring...\n",
      "Already exists for Raytheon, ignoring...\n",
      "Already exists for Red Hat Inc, ignoring...\n",
      "Already exists for Renesas Electronics Corporation, ignoring...\n",
      "Already exists for Ricoh, ignoring...\n",
      "Already exists for Rigetti Computing, ignoring...\n",
      "Already exists for Robert Bosch GmbH, ignoring...\n",
      "Already exists for Rockwell Automation, ignoring...\n",
      "Already exists for Rohde & Schwarz GmbH, ignoring...\n",
      "Already exists for Rolls Royce, ignoring...\n",
      "Already exists for SAAB AB, ignoring...\n",
      "Already exists for SAIC, ignoring...\n",
      "Already exists for SAP AG, ignoring...\n",
      "Already exists for SAS Institute, ignoring...\n",
      "Already exists for SK Hynix Inc, ignoring...\n",
      "Already exists for SK Telecom Co, ignoring...\n",
      "Already exists for SOFTBANK ROBOTICS EUROPE, ignoring...\n",
      "Already exists for SPOTIFY AB, ignoring...\n",
      "Already exists for SPX Corporation, ignoring...\n",
      "Already exists for SRC Inc, ignoring...\n",
      "Already exists for SRI International, ignoring...\n",
      "Already exists for STMicroelectronics, ignoring...\n",
      "Already exists for Samsung Electronics, ignoring...\n",
      "Already exists for Sandia National Laboratories, New Mexico, ignoring...\n",
      "Already exists for Sanofi, ignoring...\n",
      "Already exists for Sarnoff Corporation, ignoring...\n",
      "Already exists for Schlumberger Limited, ignoring...\n",
      "Already exists for Schneider Electric Automation GmbH, ignoring...\n",
      "Already exists for Schneider Electric USA Inc, ignoring...\n",
      "Already exists for Seagate Technology USA, ignoring...\n",
      "Already exists for Sensetime, ignoring...\n",
      "Already exists for Sensis Corporation, ignoring...\n",
      "Already exists for Sensys Medical, Inc., ignoring...\n",
      "Already exists for Sharp Corporation, ignoring...\n",
      "Already exists for Shell Oil Company, ignoring...\n",
      "Already exists for Siemens AG, ignoring...\n",
      "Already exists for Sift LLC, ignoring...\n",
      "Already exists for Silicon Graphics Inc, ignoring...\n",
      "Already exists for Snap Inc, ignoring...\n",
      "Already exists for Sony Corporation, ignoring...\n",
      "Already exists for Splunk Inc, ignoring...\n",
      "Already exists for Sprint Corporation, ignoring...\n",
      "Already exists for Stryker Corporation, ignoring...\n",
      "Already exists for Sun Microsystems, ignoring...\n",
      "Already exists for Swisscom AG, ignoring...\n",
      "Already exists for Sybase Incorporated, ignoring...\n",
      "Already exists for Symantec, ignoring...\n",
      "Already exists for Synopsys Incorporated, ignoring...\n",
      "Already exists for TOTAL SA, ignoring...\n",
      "Already exists for TURBOMECA, ignoring...\n",
      "Already exists for Tata Consultancy Services India, ignoring...\n",
      "Already exists for Technicolor, ignoring...\n",
      "Already exists for Telefonica SA, ignoring...\n",
      "Already exists for Tencent, ignoring...\n",
      "Already exists for Teradata US Inc, ignoring...\n",
      "Already exists for Teradyne Inc, ignoring...\n",
      "Already exists for Tesla, ignoring...\n",
      "Already exists for Texas Instruments, ignoring...\n",
      "Already exists for Thales Group, ignoring...\n",
      "Already exists for The Boston Consulting Group Inc, ignoring...\n",
      "Already exists for The Boston Consulting Group, Inc., ignoring...\n",
      "Already exists for The Nielsen Company (US) LLC, ignoring...\n",
      "Already exists for Thermo Fisher Scientific, ignoring...\n",
      "Already exists for Thomson Reuters, ignoring...\n",
      "Already exists for Toshiba Corporation, ignoring...\n",
      "Already exists for Toyota Motor Corporation, ignoring...\n",
      "Already exists for Trend Micro Incorporated, ignoring...\n",
      "Already exists for Trilogy Development Group, Inc., ignoring...\n",
      "Already exists for Trimble Navigation Limited, ignoring...\n",
      "Already exists for Twitter, ignoring...\n",
      "Already exists for UBS AG, ignoring...\n",
      "Already exists for UOP LLC, ignoring...\n",
      "Already exists for Uber, ignoring...\n",
      "Already exists for Unisys Corporation, ignoring...\n",
      "Already exists for VECNA TECHNOLOGIES INC, ignoring...\n",
      "Already exists for VERISIGN, INC., ignoring...\n",
      "Already exists for Varian Medical Systems Inc, ignoring...\n",
      "Already exists for Verily Life Sciences LLC, ignoring...\n",
      "Already exists for Verity, Inc., ignoring...\n",
      "Already exists for Verizon Communications, ignoring...\n",
      "Already exists for Vermillion Inc, ignoring...\n",
      "Already exists for ViaSat Inc, ignoring...\n",
      "Already exists for Vodafone, ignoring...\n",
      "Already exists for Volkswagen, ignoring...\n",
      "Already exists for Volvo, ignoring...\n",
      "Already exists for Vulcan Inc, ignoring...\n",
      "Already exists for WSI Corporation, ignoring...\n",
      "Already exists for Walmart, ignoring...\n",
      "Already exists for Waymo LLC, ignoring...\n",
      "Already exists for Wells Fargo, ignoring...\n",
      "Already exists for Western Digital Technologies Inc, ignoring...\n",
      "Already exists for Whirlpool, ignoring...\n",
      "Already exists for Winbond Electronics Corp., ignoring...\n",
      "Already exists for Wipro Limited, ignoring...\n",
      "Already exists for Wistron Corporation, ignoring...\n",
      "Already exists for Wolfram Research Inc, ignoring...\n",
      "Already exists for Xerox Corporation, ignoring...\n",
      "Already exists for Xilinx Inc, ignoring...\n",
      "Already exists for YANDEX EUROPE AG, ignoring...\n",
      "Already exists for Yahoo Inc, ignoring...\n",
      "Already exists for Yamaha Corporation, ignoring...\n",
      "Already exists for Yokogawa Electric Corporation, ignoring...\n",
      "Already exists for Zoox, ignoring...\n",
      "Already exists for Zte, ignoring...\n",
      "Already exists for eBay, ignoring...\n",
      "Already exists for google, ignoring...\n",
      "Already exists for hsbc, ignoring...\n",
      "Already exists for iRobot Corporation, ignoring...\n",
      "Already exists for marvell semiconductor, ignoring...\n",
      "Already exists for mellanox technologies israel, ignoring...\n",
      "Already exists for osram corporate, ignoring...\n",
      "Already exists for pricewaterhousecoopers, ignoring...\n",
      "Already exists for profactor gmbh, ignoring...\n",
      "Already exists for realtek semiconductor, ignoring...\n",
      "Already exists for salesforce.com, inc., ignoring...\n",
      "Already exists for sogou inc, ignoring...\n",
      "Already exists for tomtom, ignoring...\n",
      "Already exists for ubitech ltd, ignoring...\n",
      "Already exists for vermillion inc, ignoring...\n",
      "Already exists for Deloitte, ignoring...\n",
      "Already exists for Facebook, ignoring...\n",
      "Processing for  Microsoft\n",
      "rate exceeded :( Trying after 5 minutes\n",
      "trying...\n",
      "Already exists for 23andMe, Inc., ignoring...\n",
      "Already exists for 3M, ignoring...\n",
      "Already exists for ADP, ignoring...\n",
      "Already exists for AGT INTERNATIONAL GMBH, ignoring...\n",
      "Already exists for AKTIEBOLAGET SKF, ignoring...\n",
      "Already exists for ARM Limited, ignoring...\n",
      "Already exists for ARRI, ignoring...\n",
      "Already exists for ASAPP INC, ignoring...\n",
      "Already exists for ASD Inc., ignoring...\n",
      "Already exists for ASELSAN ELEKTRONIK, ignoring...\n",
      "Already exists for ASML Netherlands BV, ignoring...\n",
      "Already exists for ASUSTeK Computer Inc, ignoring...\n",
      "Already exists for AWK Group AG, ignoring...\n",
      "Already exists for Abbott Laboratories, ignoring...\n",
      "Already exists for Accenture, ignoring...\n",
      "Already exists for Acxiom Corporation, ignoring...\n",
      "Already exists for Adaptive Technologies, Inc., ignoring...\n",
      "Already exists for Adobe, ignoring...\n",
      "Already exists for Advanced Micro Devices, ignoring...\n",
      "Already exists for Affinnova, Inc., ignoring...\n",
      "Already exists for Agilent Technologies, ignoring...\n",
      "Already exists for Air Liquide Large Industries US LP, ignoring...\n",
      "Already exists for Airbnb, ignoring...\n",
      "Already exists for Airbus Defence and Space, ignoring...\n",
      "Already exists for Akamai Technologies Inc, ignoring...\n",
      "Already exists for Alibaba, ignoring...\n",
      "Already exists for Alps Electric Co Ltd, ignoring...\n",
      "Already exists for Alstom, ignoring...\n",
      "Already exists for Amadeus, ignoring...\n",
      "Already exists for Amazon, ignoring...\n",
      "Already exists for Amdocs Development Limited, ignoring...\n",
      "Already exists for American Express, ignoring...\n",
      "Already exists for American GNC Corporation, ignoring...\n",
      "Already exists for Ami Semiconductor, ignoring...\n",
      "Already exists for Amobee, Inc., ignoring...\n",
      "Already exists for Analog Devices Inc, ignoring...\n",
      "Already exists for Apple, ignoring...\n",
      "Already exists for Aptima Inc, ignoring...\n",
      "Already exists for Asahi Kasei Corporation, ignoring...\n",
      "Already exists for Aspen Technology Inc, ignoring...\n",
      "Already exists for AstraZeneca, ignoring...\n",
      "Already exists for Audi AG, ignoring...\n",
      "Already exists for Autodesk, ignoring...\n",
      "Already exists for Autoliv ASP Inc, ignoring...\n",
      "Already exists for Autonomous Solutions, Inc., ignoring...\n",
      "Already exists for Avago Technologies, ignoring...\n",
      "Already exists for Avaya, ignoring...\n",
      "Already exists for Aveo Inc, ignoring...\n",
      "Already exists for Avx Corporation, ignoring...\n",
      "Already exists for BAIDU, ignoring...\n",
      "Already exists for BASF SE, ignoring...\n",
      "Already exists for BBN Technologies, ignoring...\n",
      "Already exists for BOOKING.COM B.V., ignoring...\n",
      "Already exists for BP America Inc, ignoring...\n",
      "Already exists for Baker Hughes a GE company, ignoring...\n",
      "Already exists for Balluff GmbH, ignoring...\n",
      "Already exists for Bang and Olufsen, ignoring...\n",
      "Already exists for Bank of America Corporation, ignoring...\n",
      "Already exists for Battelle, ignoring...\n",
      "Already exists for Bayer AG, ignoring...\n",
      "Already exists for Bayer Aktiengesellschaft, ignoring...\n",
      "Already exists for Becton Dickinson and Company, ignoring...\n",
      "Already exists for Bell, ignoring...\n",
      "Already exists for Bentley Systems Incorporated, ignoring...\n",
      "Already exists for Blizzard Entertainment, ignoring...\n",
      "Already exists for Bloomberg, ignoring...\n",
      "Already exists for Boehringer-Ingelheim, ignoring...\n",
      "Already exists for Boeing Corporation, ignoring...\n",
      "Already exists for Booz Allen Hamilton Inc, ignoring...\n",
      "Already exists for Borealis, ignoring...\n",
      "Already exists for British Telecommunications plc, ignoring...\n",
      "Already exists for Broadcom, ignoring...\n",
      "Already exists for Brooks Automation, ignoring...\n",
      "Already exists for Bytedance, ignoring...\n",
      "Already exists for CA Inc, ignoring...\n",
      "Already exists for Ca Technologies, ignoring...\n",
      "Already exists for Cabot Corporation, ignoring...\n",
      "Already exists for Cadence Design Systems Inc, ignoring...\n",
      "Already exists for Canon Inc, ignoring...\n",
      "Already exists for Capgemini, ignoring...\n",
      "Already exists for Capital One Services LLC, ignoring...\n",
      "Already exists for Carl Zeiss, ignoring...\n",
      "Already exists for Carrier Corporation, ignoring...\n",
      "Already exists for Caterpillar, ignoring...\n",
      "Already exists for Cavium, Inc., ignoring...\n",
      "Already exists for Cerner Innovation Inc, ignoring...\n",
      "Already exists for Charles River Analytics Inc, ignoring...\n",
      "Already exists for Check Point Software Technologies, Inc., ignoring...\n",
      "Already exists for Chevron Corporation, ignoring...\n",
      "Already exists for China Mobile, ignoring...\n",
      "Already exists for Cigna Corporation, ignoring...\n",
      "Already exists for Cisco Systems, ignoring...\n",
      "Already exists for Citigroup, ignoring...\n",
      "Already exists for Citrix, ignoring...\n",
      "Already exists for Codexis Inc, ignoring...\n",
      "Already exists for Cognizant, ignoring...\n",
      "Already exists for Comcast, ignoring...\n",
      "Already exists for Computer Sciences Corporation - USA, ignoring...\n",
      "Already exists for Continental Automotive GmbH, ignoring...\n",
      "Already exists for Corelogic Incorporated, ignoring...\n",
      "Already exists for Corning Incorporated, ignoring...\n",
      "Already exists for Cray Inc, ignoring...\n",
      "Already exists for Cypress Semiconductor Corporation, ignoring...\n",
      "Already exists for D Wave Systems Inc, ignoring...\n",
      "Already exists for DEEP GENOMICS INCORPORATED, ignoring...\n",
      "Already exists for DENSO Corporation, ignoring...\n",
      "Already exists for Daikin Industries Ltd, ignoring...\n",
      "Already exists for Daimler AG, ignoring...\n",
      "Already exists for Danaher Corporation, ignoring...\n",
      "Already exists for Dassault Systemes, ignoring...\n",
      "Already exists for DataRobot Inc, ignoring...\n",
      "Already exists for DeepMind Technologies, ignoring...\n",
      "Already exists for Deere & Company, ignoring...\n",
      "Already exists for Definiens AG, ignoring...\n",
      "Already exists for Dell Products, ignoring...\n",
      "Already exists for Delphi, ignoring...\n",
      "Already exists for Deutsche Telekom, ignoring...\n",
      "Already exists for DiDi, ignoring...\n",
      "Already exists for Digia, ignoring...\n",
      "Already exists for Digimarc Corporation, ignoring...\n",
      "Already exists for Disney, ignoring...\n",
      "Already exists for Dolby, ignoring...\n",
      "Already exists for Dropbox Inc, ignoring...\n",
      "Already exists for DuPont, ignoring...\n",
      "Already exists for E.S.I. SOFTWARE LTD, ignoring...\n",
      "Already exists for EMC Corporation, ignoring...\n",
      "Already exists for Eaton Corporation, ignoring...\n",
      "Already exists for Elbit Systems Ltd., ignoring...\n",
      "Already exists for Electronic Arts, ignoring...\n",
      "Already exists for Elekta AB, ignoring...\n",
      "Already exists for Elsevier, ignoring...\n",
      "Already exists for Emerson Process Management Power & Water Solutions, Inc., ignoring...\n",
      "Already exists for Enjoyor Company Limited, ignoring...\n",
      "Already exists for Entelos, Inc., ignoring...\n",
      "Already exists for Ericsson Sweden, ignoring...\n",
      "Already exists for Experian, ignoring...\n",
      "Already exists for Express Scripts Holding, ignoring...\n",
      "Already exists for FSI International, Inc., ignoring...\n",
      "Already exists for FUJIFILM Corporation, ignoring...\n",
      "Already exists for Fair Isaac Corporation, ignoring...\n",
      "Already exists for Fanuc Ltd, ignoring...\n",
      "Already exists for FireEye Inc, ignoring...\n",
      "Already exists for Flextronics AP LLC, ignoring...\n",
      "Already exists for Fluke Corporation, ignoring...\n",
      "Already exists for Ford Motor Company, ignoring...\n",
      "Already exists for Freescale Semiconductor, ignoring...\n",
      "Already exists for Fujitsu Ltd, ignoring...\n",
      "Already exists for Futurewei Tech, ignoring...\n",
      "Already exists for Gateway Inc, ignoring...\n",
      "Already exists for General Electric Company, ignoring...\n",
      "Already exists for General Motors, ignoring...\n",
      "Already exists for Global Foundries Inc, ignoring...\n",
      "Already exists for GoPro, Inc., ignoring...\n",
      "Already exists for Goldman Sachs & Co, ignoring...\n",
      "Already exists for GrammaTech, ignoring...\n",
      "Already exists for Gravity Research and Development Kft., ignoring...\n",
      "Already exists for Groupon, Inc., ignoring...\n",
      "Already exists for HERE Global BV, ignoring...\n",
      "Already exists for HRL Laboratories, ignoring...\n",
      "Already exists for HTC, ignoring...\n",
      "Already exists for Halliburton, ignoring...\n",
      "Already exists for Harman International Industries Incorporated, ignoring...\n",
      "Already exists for Hcl Technologies, ignoring...\n",
      "Already exists for HeartFlow Inc, ignoring...\n",
      "Already exists for Hewlett-Packard Inc., ignoring...\n",
      "Already exists for Hitachi Ltd, ignoring...\n",
      "Already exists for Honda R and D Co, ignoring...\n",
      "Already exists for Huawei, ignoring...\n",
      "Already exists for Hulu, ignoring...\n",
      "Already exists for Hyundai Motor Group, ignoring...\n",
      "Already exists for IBM, ignoring...\n",
      "Already exists for ICF INTERNATIONAL, ignoring...\n",
      "Already exists for IHS Markit Ltd, ignoring...\n",
      "Already exists for INFOTECH SOFT, INC., ignoring...\n",
      "Already exists for INTELLIGENT FUSION TECHNOLOGY INC, ignoring...\n",
      "Already exists for Icosystem Corporation, ignoring...\n",
      "Already exists for Illumina Inc, ignoring...\n",
      "Already exists for Infineon Technologies AG, ignoring...\n",
      "Already exists for Infinera Corporation, ignoring...\n",
      "Already exists for Infosys, ignoring...\n",
      "Already exists for Ingenuity Systems, Inc., ignoring...\n",
      "Already exists for Intel Corporation, ignoring...\n",
      "Already exists for Intelligent Automation Inc, ignoring...\n",
      "Already exists for Intertrust Technologies Corp., ignoring...\n",
      "Already exists for Intuit Inc, ignoring...\n",
      "Already exists for Invensense Inc, ignoring...\n",
      "Already exists for Israel Aerospace Industries Ltd, ignoring...\n",
      "Already exists for JPMorgan Chase Bank, ignoring...\n",
      "Already exists for Janssen-Cilag, ignoring...\n",
      "Already exists for Johnson & Johnson Pharmaceutical Research & Development Raritan, ignoring...\n",
      "Already exists for Johnson Controls, ignoring...\n",
      "Already exists for Juniper Networks Inc, ignoring...\n",
      "Already exists for Justsystem Corporation, ignoring...\n",
      "Already exists for KT Corporation, ignoring...\n",
      "Already exists for Kabushiki Kaisha Yaskawa Denki, ignoring...\n",
      "Already exists for Kakao Corp, ignoring...\n",
      "Already exists for Kansai Paint Co., Ltd., ignoring...\n",
      "Already exists for Kia Motors Corporation, ignoring...\n",
      "Already exists for Kimberly-Clark Worldwide Inc, ignoring...\n",
      "Already exists for Kitware, ignoring...\n",
      "Already exists for Kone Corporation, ignoring...\n",
      "Already exists for Kongsberg Maritime AS, ignoring...\n",
      "Already exists for L'Oreal, ignoring...\n",
      "Already exists for LENOVO, ignoring...\n",
      "Already exists for LG Chem Ltd, ignoring...\n",
      "Already exists for LG Electronics Korea, ignoring...\n",
      "Already exists for Lattec IS, ignoring...\n",
      "Already exists for Lego AS, ignoring...\n",
      "Already exists for Leidos Inc, ignoring...\n",
      "Already exists for Life Technologies Corporation, ignoring...\n",
      "Already exists for Lincom Corporation, ignoring...\n",
      "Already exists for LinkedIn, ignoring...\n",
      "Already exists for Livermore Software Technology Corp, ignoring...\n",
      "Already exists for Lockheed Martin Corporation, ignoring...\n",
      "Already exists for Logitech, ignoring...\n",
      "Already exists for Lowe's Companies, Inc., ignoring...\n",
      "Already exists for Lunit Inc, ignoring...\n",
      "Already exists for Lyft, ignoring...\n",
      "Already exists for Massachusetts Mutual Life Insurance Company, ignoring...\n",
      "Already exists for Materialise, ignoring...\n",
      "Already exists for MathWorks, ignoring...\n",
      "Already exists for Mazda Motor, ignoring...\n",
      "Already exists for McDonald's, ignoring...\n",
      "Already exists for McKinsey & Company, ignoring...\n",
      "Already exists for Mediatek Inc, ignoring...\n",
      "Already exists for Medtronic Inc, ignoring...\n",
      "Already exists for Merck, ignoring...\n",
      "Already exists for Micron, ignoring...\n",
      "Already exists for Microstrategy, Inc., ignoring...\n",
      "Already exists for Midea Group, ignoring...\n",
      "Already exists for Mitel Networks, ignoring...\n",
      "Already exists for Mitsubishi Electric Corporation, ignoring...\n",
      "Already exists for Morgan Stanley, ignoring...\n",
      "Already exists for Motorola, ignoring...\n",
      "Already exists for Mozilla, ignoring...\n",
      "Already exists for NCR Corporation, ignoring...\n",
      "Already exists for NEC Corporation, ignoring...\n",
      "Already exists for NETFLIX INC, ignoring...\n",
      "Already exists for NIKE, Inc., ignoring...\n",
      "Already exists for NUTONIAN, INC., ignoring...\n",
      "Already exists for NVIDIA, ignoring...\n",
      "Already exists for NXP Semiconductors, ignoring...\n",
      "Already exists for Narus, Inc., ignoring...\n",
      "Already exists for National Instruments Corporation, ignoring...\n",
      "Already exists for Natural Selection Inc, ignoring...\n",
      "Already exists for Naver Corporation, ignoring...\n",
      "Already exists for Nestor, Inc., ignoring...\n",
      "Already exists for NetApp, ignoring...\n",
      "Already exists for Nikon, ignoring...\n",
      "Already exists for Nippon Telegraph and Telephone Corporation, ignoring...\n",
      "Already exists for Nissan, ignoring...\n",
      "Already exists for Nokia Corporation, ignoring...\n",
      "Already exists for Nortel Networks, ignoring...\n",
      "Already exists for Northrop Grumman corporation, ignoring...\n",
      "Already exists for Novatek Microelectronics Corp, ignoring...\n",
      "Already exists for Novell, Inc., ignoring...\n",
      "Already exists for Novo Nordisk, ignoring...\n",
      "Already exists for NuTech Solutions GmbH, ignoring...\n",
      "Already exists for Nuance Communications, ignoring...\n",
      "Already exists for Numerica Corp, ignoring...\n",
      "Already exists for Nutanix Inc, ignoring...\n",
      "Already exists for OPTUM INC, ignoring...\n",
      "Already exists for Olympus Corporation, ignoring...\n",
      "Already exists for Omron Adept Technologies Inc, ignoring...\n",
      "Already exists for Open Text Corporation, ignoring...\n",
      "Already exists for OpenAI, ignoring...\n",
      "Already exists for Oracle, ignoring...\n",
      "Already exists for Osaro, ignoring...\n",
      "Already exists for PDF Solutions, Inc., ignoring...\n",
      "Already exists for PEARSON EDUCATION INC, ignoring...\n",
      "Already exists for PGS Geophysical AS, ignoring...\n",
      "Already exists for PREFERRED NETWORKS INC, ignoring...\n",
      "Already exists for PTC Inc, ignoring...\n",
      "Already exists for Palo Alto Networks, ignoring...\n",
      "Already exists for Panasonic Corporation, ignoring...\n",
      "Already exists for Pandora Media Inc, ignoring...\n",
      "Already exists for Pavilion Technologies, ignoring...\n",
      "Already exists for Pearson plc, ignoring...\n",
      "Already exists for Petroleum Geo-Services ASA, ignoring...\n",
      "Already exists for Pfizer, ignoring...\n",
      "Already exists for Philip Morris Products, ignoring...\n",
      "Already exists for Philips Research, ignoring...\n",
      "Already exists for Pinterest, ignoring...\n",
      "Already exists for Pitney Bowes Inc, ignoring...\n",
      "Already exists for Posco, ignoring...\n",
      "Already exists for ProMOS Technologies Inc., ignoring...\n",
      "Already exists for Procter & Gamble, ignoring...\n",
      "Already exists for Progressive, ignoring...\n",
      "Already exists for QinetiQ, ignoring...\n",
      "Already exists for Qualcomm Incorporated, ignoring...\n",
      "Already exists for Quanta Computer, ignoring...\n",
      "Already exists for REPSOL, ignoring...\n",
      "Already exists for Rakuten, ignoring...\n",
      "Already exists for Raytheon, ignoring...\n",
      "Already exists for Red Hat Inc, ignoring...\n",
      "Already exists for Renesas Electronics Corporation, ignoring...\n",
      "Already exists for Ricoh, ignoring...\n",
      "Already exists for Rigetti Computing, ignoring...\n",
      "Already exists for Robert Bosch GmbH, ignoring...\n",
      "Already exists for Rockwell Automation, ignoring...\n",
      "Already exists for Rohde & Schwarz GmbH, ignoring...\n",
      "Already exists for Rolls Royce, ignoring...\n",
      "Already exists for SAAB AB, ignoring...\n",
      "Already exists for SAIC, ignoring...\n",
      "Already exists for SAP AG, ignoring...\n",
      "Already exists for SAS Institute, ignoring...\n",
      "Already exists for SK Hynix Inc, ignoring...\n",
      "Already exists for SK Telecom Co, ignoring...\n",
      "Already exists for SOFTBANK ROBOTICS EUROPE, ignoring...\n",
      "Already exists for SPOTIFY AB, ignoring...\n",
      "Already exists for SPX Corporation, ignoring...\n",
      "Already exists for SRC Inc, ignoring...\n",
      "Already exists for SRI International, ignoring...\n",
      "Already exists for STMicroelectronics, ignoring...\n",
      "Already exists for Samsung Electronics, ignoring...\n",
      "Already exists for Sandia National Laboratories, New Mexico, ignoring...\n",
      "Already exists for Sanofi, ignoring...\n",
      "Already exists for Sarnoff Corporation, ignoring...\n",
      "Already exists for Schlumberger Limited, ignoring...\n",
      "Already exists for Schneider Electric Automation GmbH, ignoring...\n",
      "Already exists for Schneider Electric USA Inc, ignoring...\n",
      "Already exists for Seagate Technology USA, ignoring...\n",
      "Already exists for Sensetime, ignoring...\n",
      "Already exists for Sensis Corporation, ignoring...\n",
      "Already exists for Sensys Medical, Inc., ignoring...\n",
      "Already exists for Sharp Corporation, ignoring...\n",
      "Already exists for Shell Oil Company, ignoring...\n",
      "Already exists for Siemens AG, ignoring...\n",
      "Already exists for Sift LLC, ignoring...\n",
      "Already exists for Silicon Graphics Inc, ignoring...\n",
      "Already exists for Snap Inc, ignoring...\n",
      "Already exists for Sony Corporation, ignoring...\n",
      "Already exists for Splunk Inc, ignoring...\n",
      "Already exists for Sprint Corporation, ignoring...\n",
      "Already exists for Stryker Corporation, ignoring...\n",
      "Already exists for Sun Microsystems, ignoring...\n",
      "Already exists for Swisscom AG, ignoring...\n",
      "Already exists for Sybase Incorporated, ignoring...\n",
      "Already exists for Symantec, ignoring...\n",
      "Already exists for Synopsys Incorporated, ignoring...\n",
      "Already exists for TOTAL SA, ignoring...\n",
      "Already exists for TURBOMECA, ignoring...\n",
      "Already exists for Tata Consultancy Services India, ignoring...\n",
      "Already exists for Technicolor, ignoring...\n",
      "Already exists for Telefonica SA, ignoring...\n",
      "Already exists for Tencent, ignoring...\n",
      "Already exists for Teradata US Inc, ignoring...\n",
      "Already exists for Teradyne Inc, ignoring...\n",
      "Already exists for Tesla, ignoring...\n",
      "Already exists for Texas Instruments, ignoring...\n",
      "Already exists for Thales Group, ignoring...\n",
      "Already exists for The Boston Consulting Group Inc, ignoring...\n",
      "Already exists for The Boston Consulting Group, Inc., ignoring...\n",
      "Already exists for The Nielsen Company (US) LLC, ignoring...\n",
      "Already exists for Thermo Fisher Scientific, ignoring...\n",
      "Already exists for Thomson Reuters, ignoring...\n",
      "Already exists for Toshiba Corporation, ignoring...\n",
      "Already exists for Toyota Motor Corporation, ignoring...\n",
      "Already exists for Trend Micro Incorporated, ignoring...\n",
      "Already exists for Trilogy Development Group, Inc., ignoring...\n",
      "Already exists for Trimble Navigation Limited, ignoring...\n",
      "Already exists for Twitter, ignoring...\n",
      "Already exists for UBS AG, ignoring...\n",
      "Already exists for UOP LLC, ignoring...\n",
      "Already exists for Uber, ignoring...\n",
      "Already exists for Unisys Corporation, ignoring...\n",
      "Already exists for VECNA TECHNOLOGIES INC, ignoring...\n",
      "Already exists for VERISIGN, INC., ignoring...\n",
      "Already exists for Varian Medical Systems Inc, ignoring...\n",
      "Already exists for Verily Life Sciences LLC, ignoring...\n",
      "Already exists for Verity, Inc., ignoring...\n",
      "Already exists for Verizon Communications, ignoring...\n",
      "Already exists for Vermillion Inc, ignoring...\n",
      "Already exists for ViaSat Inc, ignoring...\n",
      "Already exists for Vodafone, ignoring...\n",
      "Already exists for Volkswagen, ignoring...\n",
      "Already exists for Volvo, ignoring...\n",
      "Already exists for Vulcan Inc, ignoring...\n",
      "Already exists for WSI Corporation, ignoring...\n",
      "Already exists for Walmart, ignoring...\n",
      "Already exists for Waymo LLC, ignoring...\n",
      "Already exists for Wells Fargo, ignoring...\n",
      "Already exists for Western Digital Technologies Inc, ignoring...\n",
      "Already exists for Whirlpool, ignoring...\n",
      "Already exists for Winbond Electronics Corp., ignoring...\n",
      "Already exists for Wipro Limited, ignoring...\n",
      "Already exists for Wistron Corporation, ignoring...\n",
      "Already exists for Wolfram Research Inc, ignoring...\n",
      "Already exists for Xerox Corporation, ignoring...\n",
      "Already exists for Xilinx Inc, ignoring...\n",
      "Already exists for YANDEX EUROPE AG, ignoring...\n",
      "Already exists for Yahoo Inc, ignoring...\n",
      "Already exists for Yamaha Corporation, ignoring...\n",
      "Already exists for Yokogawa Electric Corporation, ignoring...\n",
      "Already exists for Zoox, ignoring...\n",
      "Already exists for Zte, ignoring...\n",
      "Already exists for eBay, ignoring...\n",
      "Already exists for google, ignoring...\n",
      "Already exists for hsbc, ignoring...\n",
      "Already exists for iRobot Corporation, ignoring...\n",
      "Already exists for marvell semiconductor, ignoring...\n",
      "Already exists for mellanox technologies israel, ignoring...\n",
      "Already exists for osram corporate, ignoring...\n",
      "Already exists for pricewaterhousecoopers, ignoring...\n",
      "Already exists for profactor gmbh, ignoring...\n",
      "Already exists for realtek semiconductor, ignoring...\n",
      "Already exists for salesforce.com, inc., ignoring...\n",
      "Already exists for sogou inc, ignoring...\n",
      "Already exists for tomtom, ignoring...\n",
      "Already exists for ubitech ltd, ignoring...\n",
      "Already exists for vermillion inc, ignoring...\n",
      "Already exists for Deloitte, ignoring...\n",
      "Already exists for Facebook, ignoring...\n",
      "Processing for  Microsoft\n",
      "rate exceeded :( Trying after 5 minutes\n",
      "trying...\n",
      "Already exists for 23andMe, Inc., ignoring...\n",
      "Already exists for 3M, ignoring...\n",
      "Already exists for ADP, ignoring...\n",
      "Already exists for AGT INTERNATIONAL GMBH, ignoring...\n",
      "Already exists for AKTIEBOLAGET SKF, ignoring...\n",
      "Already exists for ARM Limited, ignoring...\n",
      "Already exists for ARRI, ignoring...\n",
      "Already exists for ASAPP INC, ignoring...\n",
      "Already exists for ASD Inc., ignoring...\n",
      "Already exists for ASELSAN ELEKTRONIK, ignoring...\n",
      "Already exists for ASML Netherlands BV, ignoring...\n",
      "Already exists for ASUSTeK Computer Inc, ignoring...\n",
      "Already exists for AWK Group AG, ignoring...\n",
      "Already exists for Abbott Laboratories, ignoring...\n",
      "Already exists for Accenture, ignoring...\n",
      "Already exists for Acxiom Corporation, ignoring...\n",
      "Already exists for Adaptive Technologies, Inc., ignoring...\n",
      "Already exists for Adobe, ignoring...\n",
      "Already exists for Advanced Micro Devices, ignoring...\n",
      "Already exists for Affinnova, Inc., ignoring...\n",
      "Already exists for Agilent Technologies, ignoring...\n",
      "Already exists for Air Liquide Large Industries US LP, ignoring...\n",
      "Already exists for Airbnb, ignoring...\n",
      "Already exists for Airbus Defence and Space, ignoring...\n",
      "Already exists for Akamai Technologies Inc, ignoring...\n",
      "Already exists for Alibaba, ignoring...\n",
      "Already exists for Alps Electric Co Ltd, ignoring...\n",
      "Already exists for Alstom, ignoring...\n",
      "Already exists for Amadeus, ignoring...\n",
      "Already exists for Amazon, ignoring...\n",
      "Already exists for Amdocs Development Limited, ignoring...\n",
      "Already exists for American Express, ignoring...\n",
      "Already exists for American GNC Corporation, ignoring...\n",
      "Already exists for Ami Semiconductor, ignoring...\n",
      "Already exists for Amobee, Inc., ignoring...\n",
      "Already exists for Analog Devices Inc, ignoring...\n",
      "Already exists for Apple, ignoring...\n",
      "Already exists for Aptima Inc, ignoring...\n",
      "Already exists for Asahi Kasei Corporation, ignoring...\n",
      "Already exists for Aspen Technology Inc, ignoring...\n",
      "Already exists for AstraZeneca, ignoring...\n",
      "Already exists for Audi AG, ignoring...\n",
      "Already exists for Autodesk, ignoring...\n",
      "Already exists for Autoliv ASP Inc, ignoring...\n",
      "Already exists for Autonomous Solutions, Inc., ignoring...\n",
      "Already exists for Avago Technologies, ignoring...\n",
      "Already exists for Avaya, ignoring...\n",
      "Already exists for Aveo Inc, ignoring...\n",
      "Already exists for Avx Corporation, ignoring...\n",
      "Already exists for BAIDU, ignoring...\n",
      "Already exists for BASF SE, ignoring...\n",
      "Already exists for BBN Technologies, ignoring...\n",
      "Already exists for BOOKING.COM B.V., ignoring...\n",
      "Already exists for BP America Inc, ignoring...\n",
      "Already exists for Baker Hughes a GE company, ignoring...\n",
      "Already exists for Balluff GmbH, ignoring...\n",
      "Already exists for Bang and Olufsen, ignoring...\n",
      "Already exists for Bank of America Corporation, ignoring...\n",
      "Already exists for Battelle, ignoring...\n",
      "Already exists for Bayer AG, ignoring...\n",
      "Already exists for Bayer Aktiengesellschaft, ignoring...\n",
      "Already exists for Becton Dickinson and Company, ignoring...\n",
      "Already exists for Bell, ignoring...\n",
      "Already exists for Bentley Systems Incorporated, ignoring...\n",
      "Already exists for Blizzard Entertainment, ignoring...\n",
      "Already exists for Bloomberg, ignoring...\n",
      "Already exists for Boehringer-Ingelheim, ignoring...\n",
      "Already exists for Boeing Corporation, ignoring...\n",
      "Already exists for Booz Allen Hamilton Inc, ignoring...\n",
      "Already exists for Borealis, ignoring...\n",
      "Already exists for British Telecommunications plc, ignoring...\n",
      "Already exists for Broadcom, ignoring...\n",
      "Already exists for Brooks Automation, ignoring...\n",
      "Already exists for Bytedance, ignoring...\n",
      "Already exists for CA Inc, ignoring...\n",
      "Already exists for Ca Technologies, ignoring...\n",
      "Already exists for Cabot Corporation, ignoring...\n",
      "Already exists for Cadence Design Systems Inc, ignoring...\n",
      "Already exists for Canon Inc, ignoring...\n",
      "Already exists for Capgemini, ignoring...\n",
      "Already exists for Capital One Services LLC, ignoring...\n",
      "Already exists for Carl Zeiss, ignoring...\n",
      "Already exists for Carrier Corporation, ignoring...\n",
      "Already exists for Caterpillar, ignoring...\n",
      "Already exists for Cavium, Inc., ignoring...\n",
      "Already exists for Cerner Innovation Inc, ignoring...\n",
      "Already exists for Charles River Analytics Inc, ignoring...\n",
      "Already exists for Check Point Software Technologies, Inc., ignoring...\n",
      "Already exists for Chevron Corporation, ignoring...\n",
      "Already exists for China Mobile, ignoring...\n",
      "Already exists for Cigna Corporation, ignoring...\n",
      "Already exists for Cisco Systems, ignoring...\n",
      "Already exists for Citigroup, ignoring...\n",
      "Already exists for Citrix, ignoring...\n",
      "Already exists for Codexis Inc, ignoring...\n",
      "Already exists for Cognizant, ignoring...\n",
      "Already exists for Comcast, ignoring...\n",
      "Already exists for Computer Sciences Corporation - USA, ignoring...\n",
      "Already exists for Continental Automotive GmbH, ignoring...\n",
      "Already exists for Corelogic Incorporated, ignoring...\n",
      "Already exists for Corning Incorporated, ignoring...\n",
      "Already exists for Cray Inc, ignoring...\n",
      "Already exists for Cypress Semiconductor Corporation, ignoring...\n",
      "Already exists for D Wave Systems Inc, ignoring...\n",
      "Already exists for DEEP GENOMICS INCORPORATED, ignoring...\n",
      "Already exists for DENSO Corporation, ignoring...\n",
      "Already exists for Daikin Industries Ltd, ignoring...\n",
      "Already exists for Daimler AG, ignoring...\n",
      "Already exists for Danaher Corporation, ignoring...\n",
      "Already exists for Dassault Systemes, ignoring...\n",
      "Already exists for DataRobot Inc, ignoring...\n",
      "Already exists for DeepMind Technologies, ignoring...\n",
      "Already exists for Deere & Company, ignoring...\n",
      "Already exists for Definiens AG, ignoring...\n",
      "Already exists for Dell Products, ignoring...\n",
      "Already exists for Delphi, ignoring...\n",
      "Already exists for Deutsche Telekom, ignoring...\n",
      "Already exists for DiDi, ignoring...\n",
      "Already exists for Digia, ignoring...\n",
      "Already exists for Digimarc Corporation, ignoring...\n",
      "Already exists for Disney, ignoring...\n",
      "Already exists for Dolby, ignoring...\n",
      "Already exists for Dropbox Inc, ignoring...\n",
      "Already exists for DuPont, ignoring...\n",
      "Already exists for E.S.I. SOFTWARE LTD, ignoring...\n",
      "Already exists for EMC Corporation, ignoring...\n",
      "Already exists for Eaton Corporation, ignoring...\n",
      "Already exists for Elbit Systems Ltd., ignoring...\n",
      "Already exists for Electronic Arts, ignoring...\n",
      "Already exists for Elekta AB, ignoring...\n",
      "Already exists for Elsevier, ignoring...\n",
      "Already exists for Emerson Process Management Power & Water Solutions, Inc., ignoring...\n",
      "Already exists for Enjoyor Company Limited, ignoring...\n",
      "Already exists for Entelos, Inc., ignoring...\n",
      "Already exists for Ericsson Sweden, ignoring...\n",
      "Already exists for Experian, ignoring...\n",
      "Already exists for Express Scripts Holding, ignoring...\n",
      "Already exists for FSI International, Inc., ignoring...\n",
      "Already exists for FUJIFILM Corporation, ignoring...\n",
      "Already exists for Fair Isaac Corporation, ignoring...\n",
      "Already exists for Fanuc Ltd, ignoring...\n",
      "Already exists for FireEye Inc, ignoring...\n",
      "Already exists for Flextronics AP LLC, ignoring...\n",
      "Already exists for Fluke Corporation, ignoring...\n",
      "Already exists for Ford Motor Company, ignoring...\n",
      "Already exists for Freescale Semiconductor, ignoring...\n",
      "Already exists for Fujitsu Ltd, ignoring...\n",
      "Already exists for Futurewei Tech, ignoring...\n",
      "Already exists for Gateway Inc, ignoring...\n",
      "Already exists for General Electric Company, ignoring...\n",
      "Already exists for General Motors, ignoring...\n",
      "Already exists for Global Foundries Inc, ignoring...\n",
      "Already exists for GoPro, Inc., ignoring...\n",
      "Already exists for Goldman Sachs & Co, ignoring...\n",
      "Already exists for GrammaTech, ignoring...\n",
      "Already exists for Gravity Research and Development Kft., ignoring...\n",
      "Already exists for Groupon, Inc., ignoring...\n",
      "Already exists for HERE Global BV, ignoring...\n",
      "Already exists for HRL Laboratories, ignoring...\n",
      "Already exists for HTC, ignoring...\n",
      "Already exists for Halliburton, ignoring...\n",
      "Already exists for Harman International Industries Incorporated, ignoring...\n",
      "Already exists for Hcl Technologies, ignoring...\n",
      "Already exists for HeartFlow Inc, ignoring...\n",
      "Already exists for Hewlett-Packard Inc., ignoring...\n",
      "Already exists for Hitachi Ltd, ignoring...\n",
      "Already exists for Honda R and D Co, ignoring...\n",
      "Already exists for Huawei, ignoring...\n",
      "Already exists for Hulu, ignoring...\n",
      "Already exists for Hyundai Motor Group, ignoring...\n",
      "Already exists for IBM, ignoring...\n",
      "Already exists for ICF INTERNATIONAL, ignoring...\n",
      "Already exists for IHS Markit Ltd, ignoring...\n",
      "Already exists for INFOTECH SOFT, INC., ignoring...\n",
      "Already exists for INTELLIGENT FUSION TECHNOLOGY INC, ignoring...\n",
      "Already exists for Icosystem Corporation, ignoring...\n",
      "Already exists for Illumina Inc, ignoring...\n",
      "Already exists for Infineon Technologies AG, ignoring...\n",
      "Already exists for Infinera Corporation, ignoring...\n",
      "Already exists for Infosys, ignoring...\n",
      "Already exists for Ingenuity Systems, Inc., ignoring...\n",
      "Already exists for Intel Corporation, ignoring...\n",
      "Already exists for Intelligent Automation Inc, ignoring...\n",
      "Already exists for Intertrust Technologies Corp., ignoring...\n",
      "Already exists for Intuit Inc, ignoring...\n",
      "Already exists for Invensense Inc, ignoring...\n",
      "Already exists for Israel Aerospace Industries Ltd, ignoring...\n",
      "Already exists for JPMorgan Chase Bank, ignoring...\n",
      "Already exists for Janssen-Cilag, ignoring...\n",
      "Already exists for Johnson & Johnson Pharmaceutical Research & Development Raritan, ignoring...\n",
      "Already exists for Johnson Controls, ignoring...\n",
      "Already exists for Juniper Networks Inc, ignoring...\n",
      "Already exists for Justsystem Corporation, ignoring...\n",
      "Already exists for KT Corporation, ignoring...\n",
      "Already exists for Kabushiki Kaisha Yaskawa Denki, ignoring...\n",
      "Already exists for Kakao Corp, ignoring...\n",
      "Already exists for Kansai Paint Co., Ltd., ignoring...\n",
      "Already exists for Kia Motors Corporation, ignoring...\n",
      "Already exists for Kimberly-Clark Worldwide Inc, ignoring...\n",
      "Already exists for Kitware, ignoring...\n",
      "Already exists for Kone Corporation, ignoring...\n",
      "Already exists for Kongsberg Maritime AS, ignoring...\n",
      "Already exists for L'Oreal, ignoring...\n",
      "Already exists for LENOVO, ignoring...\n",
      "Already exists for LG Chem Ltd, ignoring...\n",
      "Already exists for LG Electronics Korea, ignoring...\n",
      "Already exists for Lattec IS, ignoring...\n",
      "Already exists for Lego AS, ignoring...\n",
      "Already exists for Leidos Inc, ignoring...\n",
      "Already exists for Life Technologies Corporation, ignoring...\n",
      "Already exists for Lincom Corporation, ignoring...\n",
      "Already exists for LinkedIn, ignoring...\n",
      "Already exists for Livermore Software Technology Corp, ignoring...\n",
      "Already exists for Lockheed Martin Corporation, ignoring...\n",
      "Already exists for Logitech, ignoring...\n",
      "Already exists for Lowe's Companies, Inc., ignoring...\n",
      "Already exists for Lunit Inc, ignoring...\n",
      "Already exists for Lyft, ignoring...\n",
      "Already exists for Massachusetts Mutual Life Insurance Company, ignoring...\n",
      "Already exists for Materialise, ignoring...\n",
      "Already exists for MathWorks, ignoring...\n",
      "Already exists for Mazda Motor, ignoring...\n",
      "Already exists for McDonald's, ignoring...\n",
      "Already exists for McKinsey & Company, ignoring...\n",
      "Already exists for Mediatek Inc, ignoring...\n",
      "Already exists for Medtronic Inc, ignoring...\n",
      "Already exists for Merck, ignoring...\n",
      "Already exists for Micron, ignoring...\n",
      "Already exists for Microstrategy, Inc., ignoring...\n",
      "Already exists for Midea Group, ignoring...\n",
      "Already exists for Mitel Networks, ignoring...\n",
      "Already exists for Mitsubishi Electric Corporation, ignoring...\n",
      "Already exists for Morgan Stanley, ignoring...\n",
      "Already exists for Motorola, ignoring...\n",
      "Already exists for Mozilla, ignoring...\n",
      "Already exists for NCR Corporation, ignoring...\n",
      "Already exists for NEC Corporation, ignoring...\n",
      "Already exists for NETFLIX INC, ignoring...\n",
      "Already exists for NIKE, Inc., ignoring...\n",
      "Already exists for NUTONIAN, INC., ignoring...\n",
      "Already exists for NVIDIA, ignoring...\n",
      "Already exists for NXP Semiconductors, ignoring...\n",
      "Already exists for Narus, Inc., ignoring...\n",
      "Already exists for National Instruments Corporation, ignoring...\n",
      "Already exists for Natural Selection Inc, ignoring...\n",
      "Already exists for Naver Corporation, ignoring...\n",
      "Already exists for Nestor, Inc., ignoring...\n",
      "Already exists for NetApp, ignoring...\n",
      "Already exists for Nikon, ignoring...\n",
      "Already exists for Nippon Telegraph and Telephone Corporation, ignoring...\n",
      "Already exists for Nissan, ignoring...\n",
      "Already exists for Nokia Corporation, ignoring...\n",
      "Already exists for Nortel Networks, ignoring...\n",
      "Already exists for Northrop Grumman corporation, ignoring...\n",
      "Already exists for Novatek Microelectronics Corp, ignoring...\n",
      "Already exists for Novell, Inc., ignoring...\n",
      "Already exists for Novo Nordisk, ignoring...\n",
      "Already exists for NuTech Solutions GmbH, ignoring...\n",
      "Already exists for Nuance Communications, ignoring...\n",
      "Already exists for Numerica Corp, ignoring...\n",
      "Already exists for Nutanix Inc, ignoring...\n",
      "Already exists for OPTUM INC, ignoring...\n",
      "Already exists for Olympus Corporation, ignoring...\n",
      "Already exists for Omron Adept Technologies Inc, ignoring...\n",
      "Already exists for Open Text Corporation, ignoring...\n",
      "Already exists for OpenAI, ignoring...\n",
      "Already exists for Oracle, ignoring...\n",
      "Already exists for Osaro, ignoring...\n",
      "Already exists for PDF Solutions, Inc., ignoring...\n",
      "Already exists for PEARSON EDUCATION INC, ignoring...\n",
      "Already exists for PGS Geophysical AS, ignoring...\n",
      "Already exists for PREFERRED NETWORKS INC, ignoring...\n",
      "Already exists for PTC Inc, ignoring...\n",
      "Already exists for Palo Alto Networks, ignoring...\n",
      "Already exists for Panasonic Corporation, ignoring...\n",
      "Already exists for Pandora Media Inc, ignoring...\n",
      "Already exists for Pavilion Technologies, ignoring...\n",
      "Already exists for Pearson plc, ignoring...\n",
      "Already exists for Petroleum Geo-Services ASA, ignoring...\n",
      "Already exists for Pfizer, ignoring...\n",
      "Already exists for Philip Morris Products, ignoring...\n",
      "Already exists for Philips Research, ignoring...\n",
      "Already exists for Pinterest, ignoring...\n",
      "Already exists for Pitney Bowes Inc, ignoring...\n",
      "Already exists for Posco, ignoring...\n",
      "Already exists for ProMOS Technologies Inc., ignoring...\n",
      "Already exists for Procter & Gamble, ignoring...\n",
      "Already exists for Progressive, ignoring...\n",
      "Already exists for QinetiQ, ignoring...\n",
      "Already exists for Qualcomm Incorporated, ignoring...\n",
      "Already exists for Quanta Computer, ignoring...\n",
      "Already exists for REPSOL, ignoring...\n",
      "Already exists for Rakuten, ignoring...\n",
      "Already exists for Raytheon, ignoring...\n",
      "Already exists for Red Hat Inc, ignoring...\n",
      "Already exists for Renesas Electronics Corporation, ignoring...\n",
      "Already exists for Ricoh, ignoring...\n",
      "Already exists for Rigetti Computing, ignoring...\n",
      "Already exists for Robert Bosch GmbH, ignoring...\n",
      "Already exists for Rockwell Automation, ignoring...\n",
      "Already exists for Rohde & Schwarz GmbH, ignoring...\n",
      "Already exists for Rolls Royce, ignoring...\n",
      "Already exists for SAAB AB, ignoring...\n",
      "Already exists for SAIC, ignoring...\n",
      "Already exists for SAP AG, ignoring...\n",
      "Already exists for SAS Institute, ignoring...\n",
      "Already exists for SK Hynix Inc, ignoring...\n",
      "Already exists for SK Telecom Co, ignoring...\n",
      "Already exists for SOFTBANK ROBOTICS EUROPE, ignoring...\n",
      "Already exists for SPOTIFY AB, ignoring...\n",
      "Already exists for SPX Corporation, ignoring...\n",
      "Already exists for SRC Inc, ignoring...\n",
      "Already exists for SRI International, ignoring...\n",
      "Already exists for STMicroelectronics, ignoring...\n",
      "Already exists for Samsung Electronics, ignoring...\n",
      "Already exists for Sandia National Laboratories, New Mexico, ignoring...\n",
      "Already exists for Sanofi, ignoring...\n",
      "Already exists for Sarnoff Corporation, ignoring...\n",
      "Already exists for Schlumberger Limited, ignoring...\n",
      "Already exists for Schneider Electric Automation GmbH, ignoring...\n",
      "Already exists for Schneider Electric USA Inc, ignoring...\n",
      "Already exists for Seagate Technology USA, ignoring...\n",
      "Already exists for Sensetime, ignoring...\n",
      "Already exists for Sensis Corporation, ignoring...\n",
      "Already exists for Sensys Medical, Inc., ignoring...\n",
      "Already exists for Sharp Corporation, ignoring...\n",
      "Already exists for Shell Oil Company, ignoring...\n",
      "Already exists for Siemens AG, ignoring...\n",
      "Already exists for Sift LLC, ignoring...\n",
      "Already exists for Silicon Graphics Inc, ignoring...\n",
      "Already exists for Snap Inc, ignoring...\n",
      "Already exists for Sony Corporation, ignoring...\n",
      "Already exists for Splunk Inc, ignoring...\n",
      "Already exists for Sprint Corporation, ignoring...\n",
      "Already exists for Stryker Corporation, ignoring...\n",
      "Already exists for Sun Microsystems, ignoring...\n",
      "Already exists for Swisscom AG, ignoring...\n",
      "Already exists for Sybase Incorporated, ignoring...\n",
      "Already exists for Symantec, ignoring...\n",
      "Already exists for Synopsys Incorporated, ignoring...\n",
      "Already exists for TOTAL SA, ignoring...\n",
      "Already exists for TURBOMECA, ignoring...\n",
      "Already exists for Tata Consultancy Services India, ignoring...\n",
      "Already exists for Technicolor, ignoring...\n",
      "Already exists for Telefonica SA, ignoring...\n",
      "Already exists for Tencent, ignoring...\n",
      "Already exists for Teradata US Inc, ignoring...\n",
      "Already exists for Teradyne Inc, ignoring...\n",
      "Already exists for Tesla, ignoring...\n",
      "Already exists for Texas Instruments, ignoring...\n",
      "Already exists for Thales Group, ignoring...\n",
      "Already exists for The Boston Consulting Group Inc, ignoring...\n",
      "Already exists for The Boston Consulting Group, Inc., ignoring...\n",
      "Already exists for The Nielsen Company (US) LLC, ignoring...\n",
      "Already exists for Thermo Fisher Scientific, ignoring...\n",
      "Already exists for Thomson Reuters, ignoring...\n",
      "Already exists for Toshiba Corporation, ignoring...\n",
      "Already exists for Toyota Motor Corporation, ignoring...\n",
      "Already exists for Trend Micro Incorporated, ignoring...\n",
      "Already exists for Trilogy Development Group, Inc., ignoring...\n",
      "Already exists for Trimble Navigation Limited, ignoring...\n",
      "Already exists for Twitter, ignoring...\n",
      "Already exists for UBS AG, ignoring...\n",
      "Already exists for UOP LLC, ignoring...\n",
      "Already exists for Uber, ignoring...\n",
      "Already exists for Unisys Corporation, ignoring...\n",
      "Already exists for VECNA TECHNOLOGIES INC, ignoring...\n",
      "Already exists for VERISIGN, INC., ignoring...\n",
      "Already exists for Varian Medical Systems Inc, ignoring...\n",
      "Already exists for Verily Life Sciences LLC, ignoring...\n",
      "Already exists for Verity, Inc., ignoring...\n",
      "Already exists for Verizon Communications, ignoring...\n",
      "Already exists for Vermillion Inc, ignoring...\n",
      "Already exists for ViaSat Inc, ignoring...\n",
      "Already exists for Vodafone, ignoring...\n",
      "Already exists for Volkswagen, ignoring...\n",
      "Already exists for Volvo, ignoring...\n",
      "Already exists for Vulcan Inc, ignoring...\n",
      "Already exists for WSI Corporation, ignoring...\n",
      "Already exists for Walmart, ignoring...\n",
      "Already exists for Waymo LLC, ignoring...\n",
      "Already exists for Wells Fargo, ignoring...\n",
      "Already exists for Western Digital Technologies Inc, ignoring...\n",
      "Already exists for Whirlpool, ignoring...\n",
      "Already exists for Winbond Electronics Corp., ignoring...\n",
      "Already exists for Wipro Limited, ignoring...\n",
      "Already exists for Wistron Corporation, ignoring...\n",
      "Already exists for Wolfram Research Inc, ignoring...\n",
      "Already exists for Xerox Corporation, ignoring...\n",
      "Already exists for Xilinx Inc, ignoring...\n",
      "Already exists for YANDEX EUROPE AG, ignoring...\n",
      "Already exists for Yahoo Inc, ignoring...\n",
      "Already exists for Yamaha Corporation, ignoring...\n",
      "Already exists for Yokogawa Electric Corporation, ignoring...\n",
      "Already exists for Zoox, ignoring...\n",
      "Already exists for Zte, ignoring...\n",
      "Already exists for eBay, ignoring...\n",
      "Already exists for google, ignoring...\n",
      "Already exists for hsbc, ignoring...\n",
      "Already exists for iRobot Corporation, ignoring...\n",
      "Already exists for marvell semiconductor, ignoring...\n",
      "Already exists for mellanox technologies israel, ignoring...\n",
      "Already exists for osram corporate, ignoring...\n",
      "Already exists for pricewaterhousecoopers, ignoring...\n",
      "Already exists for profactor gmbh, ignoring...\n",
      "Already exists for realtek semiconductor, ignoring...\n",
      "Already exists for salesforce.com, inc., ignoring...\n",
      "Already exists for sogou inc, ignoring...\n",
      "Already exists for tomtom, ignoring...\n",
      "Already exists for ubitech ltd, ignoring...\n",
      "Already exists for vermillion inc, ignoring...\n",
      "Already exists for Deloitte, ignoring...\n",
      "Already exists for Facebook, ignoring...\n",
      "Processing for  Microsoft\n",
      "rate exceeded :( Trying after 5 minutes\n",
      "trying...\n",
      "Already exists for 23andMe, Inc., ignoring...\n",
      "Already exists for 3M, ignoring...\n",
      "Already exists for ADP, ignoring...\n",
      "Already exists for AGT INTERNATIONAL GMBH, ignoring...\n",
      "Already exists for AKTIEBOLAGET SKF, ignoring...\n",
      "Already exists for ARM Limited, ignoring...\n",
      "Already exists for ARRI, ignoring...\n",
      "Already exists for ASAPP INC, ignoring...\n",
      "Already exists for ASD Inc., ignoring...\n",
      "Already exists for ASELSAN ELEKTRONIK, ignoring...\n",
      "Already exists for ASML Netherlands BV, ignoring...\n",
      "Already exists for ASUSTeK Computer Inc, ignoring...\n",
      "Already exists for AWK Group AG, ignoring...\n",
      "Already exists for Abbott Laboratories, ignoring...\n",
      "Already exists for Accenture, ignoring...\n",
      "Already exists for Acxiom Corporation, ignoring...\n",
      "Already exists for Adaptive Technologies, Inc., ignoring...\n",
      "Already exists for Adobe, ignoring...\n",
      "Already exists for Advanced Micro Devices, ignoring...\n",
      "Already exists for Affinnova, Inc., ignoring...\n",
      "Already exists for Agilent Technologies, ignoring...\n",
      "Already exists for Air Liquide Large Industries US LP, ignoring...\n",
      "Already exists for Airbnb, ignoring...\n",
      "Already exists for Airbus Defence and Space, ignoring...\n",
      "Already exists for Akamai Technologies Inc, ignoring...\n",
      "Already exists for Alibaba, ignoring...\n",
      "Already exists for Alps Electric Co Ltd, ignoring...\n",
      "Already exists for Alstom, ignoring...\n",
      "Already exists for Amadeus, ignoring...\n",
      "Already exists for Amazon, ignoring...\n",
      "Already exists for Amdocs Development Limited, ignoring...\n",
      "Already exists for American Express, ignoring...\n",
      "Already exists for American GNC Corporation, ignoring...\n",
      "Already exists for Ami Semiconductor, ignoring...\n",
      "Already exists for Amobee, Inc., ignoring...\n",
      "Already exists for Analog Devices Inc, ignoring...\n",
      "Already exists for Apple, ignoring...\n",
      "Already exists for Aptima Inc, ignoring...\n",
      "Already exists for Asahi Kasei Corporation, ignoring...\n",
      "Already exists for Aspen Technology Inc, ignoring...\n",
      "Already exists for AstraZeneca, ignoring...\n",
      "Already exists for Audi AG, ignoring...\n",
      "Already exists for Autodesk, ignoring...\n",
      "Already exists for Autoliv ASP Inc, ignoring...\n",
      "Already exists for Autonomous Solutions, Inc., ignoring...\n",
      "Already exists for Avago Technologies, ignoring...\n",
      "Already exists for Avaya, ignoring...\n",
      "Already exists for Aveo Inc, ignoring...\n",
      "Already exists for Avx Corporation, ignoring...\n",
      "Already exists for BAIDU, ignoring...\n",
      "Already exists for BASF SE, ignoring...\n",
      "Already exists for BBN Technologies, ignoring...\n",
      "Already exists for BOOKING.COM B.V., ignoring...\n",
      "Already exists for BP America Inc, ignoring...\n",
      "Already exists for Baker Hughes a GE company, ignoring...\n",
      "Already exists for Balluff GmbH, ignoring...\n",
      "Already exists for Bang and Olufsen, ignoring...\n",
      "Already exists for Bank of America Corporation, ignoring...\n",
      "Already exists for Battelle, ignoring...\n",
      "Already exists for Bayer AG, ignoring...\n",
      "Already exists for Bayer Aktiengesellschaft, ignoring...\n",
      "Already exists for Becton Dickinson and Company, ignoring...\n",
      "Already exists for Bell, ignoring...\n",
      "Already exists for Bentley Systems Incorporated, ignoring...\n",
      "Already exists for Blizzard Entertainment, ignoring...\n",
      "Already exists for Bloomberg, ignoring...\n",
      "Already exists for Boehringer-Ingelheim, ignoring...\n",
      "Already exists for Boeing Corporation, ignoring...\n",
      "Already exists for Booz Allen Hamilton Inc, ignoring...\n",
      "Already exists for Borealis, ignoring...\n",
      "Already exists for British Telecommunications plc, ignoring...\n",
      "Already exists for Broadcom, ignoring...\n",
      "Already exists for Brooks Automation, ignoring...\n",
      "Already exists for Bytedance, ignoring...\n",
      "Already exists for CA Inc, ignoring...\n",
      "Already exists for Ca Technologies, ignoring...\n",
      "Already exists for Cabot Corporation, ignoring...\n",
      "Already exists for Cadence Design Systems Inc, ignoring...\n",
      "Already exists for Canon Inc, ignoring...\n",
      "Already exists for Capgemini, ignoring...\n",
      "Already exists for Capital One Services LLC, ignoring...\n",
      "Already exists for Carl Zeiss, ignoring...\n",
      "Already exists for Carrier Corporation, ignoring...\n",
      "Already exists for Caterpillar, ignoring...\n",
      "Already exists for Cavium, Inc., ignoring...\n",
      "Already exists for Cerner Innovation Inc, ignoring...\n",
      "Already exists for Charles River Analytics Inc, ignoring...\n",
      "Already exists for Check Point Software Technologies, Inc., ignoring...\n",
      "Already exists for Chevron Corporation, ignoring...\n",
      "Already exists for China Mobile, ignoring...\n",
      "Already exists for Cigna Corporation, ignoring...\n",
      "Already exists for Cisco Systems, ignoring...\n",
      "Already exists for Citigroup, ignoring...\n",
      "Already exists for Citrix, ignoring...\n",
      "Already exists for Codexis Inc, ignoring...\n",
      "Already exists for Cognizant, ignoring...\n",
      "Already exists for Comcast, ignoring...\n",
      "Already exists for Computer Sciences Corporation - USA, ignoring...\n",
      "Already exists for Continental Automotive GmbH, ignoring...\n",
      "Already exists for Corelogic Incorporated, ignoring...\n",
      "Already exists for Corning Incorporated, ignoring...\n",
      "Already exists for Cray Inc, ignoring...\n",
      "Already exists for Cypress Semiconductor Corporation, ignoring...\n",
      "Already exists for D Wave Systems Inc, ignoring...\n",
      "Already exists for DEEP GENOMICS INCORPORATED, ignoring...\n",
      "Already exists for DENSO Corporation, ignoring...\n",
      "Already exists for Daikin Industries Ltd, ignoring...\n",
      "Already exists for Daimler AG, ignoring...\n",
      "Already exists for Danaher Corporation, ignoring...\n",
      "Already exists for Dassault Systemes, ignoring...\n",
      "Already exists for DataRobot Inc, ignoring...\n",
      "Already exists for DeepMind Technologies, ignoring...\n",
      "Already exists for Deere & Company, ignoring...\n",
      "Already exists for Definiens AG, ignoring...\n",
      "Already exists for Dell Products, ignoring...\n",
      "Already exists for Delphi, ignoring...\n",
      "Already exists for Deutsche Telekom, ignoring...\n",
      "Already exists for DiDi, ignoring...\n",
      "Already exists for Digia, ignoring...\n",
      "Already exists for Digimarc Corporation, ignoring...\n",
      "Already exists for Disney, ignoring...\n",
      "Already exists for Dolby, ignoring...\n",
      "Already exists for Dropbox Inc, ignoring...\n",
      "Already exists for DuPont, ignoring...\n",
      "Already exists for E.S.I. SOFTWARE LTD, ignoring...\n",
      "Already exists for EMC Corporation, ignoring...\n",
      "Already exists for Eaton Corporation, ignoring...\n",
      "Already exists for Elbit Systems Ltd., ignoring...\n",
      "Already exists for Electronic Arts, ignoring...\n",
      "Already exists for Elekta AB, ignoring...\n",
      "Already exists for Elsevier, ignoring...\n",
      "Already exists for Emerson Process Management Power & Water Solutions, Inc., ignoring...\n",
      "Already exists for Enjoyor Company Limited, ignoring...\n",
      "Already exists for Entelos, Inc., ignoring...\n",
      "Already exists for Ericsson Sweden, ignoring...\n",
      "Already exists for Experian, ignoring...\n",
      "Already exists for Express Scripts Holding, ignoring...\n",
      "Already exists for FSI International, Inc., ignoring...\n",
      "Already exists for FUJIFILM Corporation, ignoring...\n",
      "Already exists for Fair Isaac Corporation, ignoring...\n",
      "Already exists for Fanuc Ltd, ignoring...\n",
      "Already exists for FireEye Inc, ignoring...\n",
      "Already exists for Flextronics AP LLC, ignoring...\n",
      "Already exists for Fluke Corporation, ignoring...\n",
      "Already exists for Ford Motor Company, ignoring...\n",
      "Already exists for Freescale Semiconductor, ignoring...\n",
      "Already exists for Fujitsu Ltd, ignoring...\n",
      "Already exists for Futurewei Tech, ignoring...\n",
      "Already exists for Gateway Inc, ignoring...\n",
      "Already exists for General Electric Company, ignoring...\n",
      "Already exists for General Motors, ignoring...\n",
      "Already exists for Global Foundries Inc, ignoring...\n",
      "Already exists for GoPro, Inc., ignoring...\n",
      "Already exists for Goldman Sachs & Co, ignoring...\n",
      "Already exists for GrammaTech, ignoring...\n",
      "Already exists for Gravity Research and Development Kft., ignoring...\n",
      "Already exists for Groupon, Inc., ignoring...\n",
      "Already exists for HERE Global BV, ignoring...\n",
      "Already exists for HRL Laboratories, ignoring...\n",
      "Already exists for HTC, ignoring...\n",
      "Already exists for Halliburton, ignoring...\n",
      "Already exists for Harman International Industries Incorporated, ignoring...\n",
      "Already exists for Hcl Technologies, ignoring...\n",
      "Already exists for HeartFlow Inc, ignoring...\n",
      "Already exists for Hewlett-Packard Inc., ignoring...\n",
      "Already exists for Hitachi Ltd, ignoring...\n",
      "Already exists for Honda R and D Co, ignoring...\n",
      "Already exists for Huawei, ignoring...\n",
      "Already exists for Hulu, ignoring...\n",
      "Already exists for Hyundai Motor Group, ignoring...\n",
      "Already exists for IBM, ignoring...\n",
      "Already exists for ICF INTERNATIONAL, ignoring...\n",
      "Already exists for IHS Markit Ltd, ignoring...\n",
      "Already exists for INFOTECH SOFT, INC., ignoring...\n",
      "Already exists for INTELLIGENT FUSION TECHNOLOGY INC, ignoring...\n",
      "Already exists for Icosystem Corporation, ignoring...\n",
      "Already exists for Illumina Inc, ignoring...\n",
      "Already exists for Infineon Technologies AG, ignoring...\n",
      "Already exists for Infinera Corporation, ignoring...\n",
      "Already exists for Infosys, ignoring...\n",
      "Already exists for Ingenuity Systems, Inc., ignoring...\n",
      "Already exists for Intel Corporation, ignoring...\n",
      "Already exists for Intelligent Automation Inc, ignoring...\n",
      "Already exists for Intertrust Technologies Corp., ignoring...\n",
      "Already exists for Intuit Inc, ignoring...\n",
      "Already exists for Invensense Inc, ignoring...\n",
      "Already exists for Israel Aerospace Industries Ltd, ignoring...\n",
      "Already exists for JPMorgan Chase Bank, ignoring...\n",
      "Already exists for Janssen-Cilag, ignoring...\n",
      "Already exists for Johnson & Johnson Pharmaceutical Research & Development Raritan, ignoring...\n",
      "Already exists for Johnson Controls, ignoring...\n",
      "Already exists for Juniper Networks Inc, ignoring...\n",
      "Already exists for Justsystem Corporation, ignoring...\n",
      "Already exists for KT Corporation, ignoring...\n",
      "Already exists for Kabushiki Kaisha Yaskawa Denki, ignoring...\n",
      "Already exists for Kakao Corp, ignoring...\n",
      "Already exists for Kansai Paint Co., Ltd., ignoring...\n",
      "Already exists for Kia Motors Corporation, ignoring...\n",
      "Already exists for Kimberly-Clark Worldwide Inc, ignoring...\n",
      "Already exists for Kitware, ignoring...\n",
      "Already exists for Kone Corporation, ignoring...\n",
      "Already exists for Kongsberg Maritime AS, ignoring...\n",
      "Already exists for L'Oreal, ignoring...\n",
      "Already exists for LENOVO, ignoring...\n",
      "Already exists for LG Chem Ltd, ignoring...\n",
      "Already exists for LG Electronics Korea, ignoring...\n",
      "Already exists for Lattec IS, ignoring...\n",
      "Already exists for Lego AS, ignoring...\n",
      "Already exists for Leidos Inc, ignoring...\n",
      "Already exists for Life Technologies Corporation, ignoring...\n",
      "Already exists for Lincom Corporation, ignoring...\n",
      "Already exists for LinkedIn, ignoring...\n",
      "Already exists for Livermore Software Technology Corp, ignoring...\n",
      "Already exists for Lockheed Martin Corporation, ignoring...\n",
      "Already exists for Logitech, ignoring...\n",
      "Already exists for Lowe's Companies, Inc., ignoring...\n",
      "Already exists for Lunit Inc, ignoring...\n",
      "Already exists for Lyft, ignoring...\n",
      "Already exists for Massachusetts Mutual Life Insurance Company, ignoring...\n",
      "Already exists for Materialise, ignoring...\n",
      "Already exists for MathWorks, ignoring...\n",
      "Already exists for Mazda Motor, ignoring...\n",
      "Already exists for McDonald's, ignoring...\n",
      "Already exists for McKinsey & Company, ignoring...\n",
      "Already exists for Mediatek Inc, ignoring...\n",
      "Already exists for Medtronic Inc, ignoring...\n",
      "Already exists for Merck, ignoring...\n",
      "Already exists for Micron, ignoring...\n",
      "Already exists for Microstrategy, Inc., ignoring...\n",
      "Already exists for Midea Group, ignoring...\n",
      "Already exists for Mitel Networks, ignoring...\n",
      "Already exists for Mitsubishi Electric Corporation, ignoring...\n",
      "Already exists for Morgan Stanley, ignoring...\n",
      "Already exists for Motorola, ignoring...\n",
      "Already exists for Mozilla, ignoring...\n",
      "Already exists for NCR Corporation, ignoring...\n",
      "Already exists for NEC Corporation, ignoring...\n",
      "Already exists for NETFLIX INC, ignoring...\n",
      "Already exists for NIKE, Inc., ignoring...\n",
      "Already exists for NUTONIAN, INC., ignoring...\n",
      "Already exists for NVIDIA, ignoring...\n",
      "Already exists for NXP Semiconductors, ignoring...\n",
      "Already exists for Narus, Inc., ignoring...\n",
      "Already exists for National Instruments Corporation, ignoring...\n",
      "Already exists for Natural Selection Inc, ignoring...\n",
      "Already exists for Naver Corporation, ignoring...\n",
      "Already exists for Nestor, Inc., ignoring...\n",
      "Already exists for NetApp, ignoring...\n",
      "Already exists for Nikon, ignoring...\n",
      "Already exists for Nippon Telegraph and Telephone Corporation, ignoring...\n",
      "Already exists for Nissan, ignoring...\n",
      "Already exists for Nokia Corporation, ignoring...\n",
      "Already exists for Nortel Networks, ignoring...\n",
      "Already exists for Northrop Grumman corporation, ignoring...\n",
      "Already exists for Novatek Microelectronics Corp, ignoring...\n",
      "Already exists for Novell, Inc., ignoring...\n",
      "Already exists for Novo Nordisk, ignoring...\n",
      "Already exists for NuTech Solutions GmbH, ignoring...\n",
      "Already exists for Nuance Communications, ignoring...\n",
      "Already exists for Numerica Corp, ignoring...\n",
      "Already exists for Nutanix Inc, ignoring...\n",
      "Already exists for OPTUM INC, ignoring...\n",
      "Already exists for Olympus Corporation, ignoring...\n",
      "Already exists for Omron Adept Technologies Inc, ignoring...\n",
      "Already exists for Open Text Corporation, ignoring...\n",
      "Already exists for OpenAI, ignoring...\n",
      "Already exists for Oracle, ignoring...\n",
      "Already exists for Osaro, ignoring...\n",
      "Already exists for PDF Solutions, Inc., ignoring...\n",
      "Already exists for PEARSON EDUCATION INC, ignoring...\n",
      "Already exists for PGS Geophysical AS, ignoring...\n",
      "Already exists for PREFERRED NETWORKS INC, ignoring...\n",
      "Already exists for PTC Inc, ignoring...\n",
      "Already exists for Palo Alto Networks, ignoring...\n",
      "Already exists for Panasonic Corporation, ignoring...\n",
      "Already exists for Pandora Media Inc, ignoring...\n",
      "Already exists for Pavilion Technologies, ignoring...\n",
      "Already exists for Pearson plc, ignoring...\n",
      "Already exists for Petroleum Geo-Services ASA, ignoring...\n",
      "Already exists for Pfizer, ignoring...\n",
      "Already exists for Philip Morris Products, ignoring...\n",
      "Already exists for Philips Research, ignoring...\n",
      "Already exists for Pinterest, ignoring...\n",
      "Already exists for Pitney Bowes Inc, ignoring...\n",
      "Already exists for Posco, ignoring...\n",
      "Already exists for ProMOS Technologies Inc., ignoring...\n",
      "Already exists for Procter & Gamble, ignoring...\n",
      "Already exists for Progressive, ignoring...\n",
      "Already exists for QinetiQ, ignoring...\n",
      "Already exists for Qualcomm Incorporated, ignoring...\n",
      "Already exists for Quanta Computer, ignoring...\n",
      "Already exists for REPSOL, ignoring...\n",
      "Already exists for Rakuten, ignoring...\n",
      "Already exists for Raytheon, ignoring...\n",
      "Already exists for Red Hat Inc, ignoring...\n",
      "Already exists for Renesas Electronics Corporation, ignoring...\n",
      "Already exists for Ricoh, ignoring...\n",
      "Already exists for Rigetti Computing, ignoring...\n",
      "Already exists for Robert Bosch GmbH, ignoring...\n",
      "Already exists for Rockwell Automation, ignoring...\n",
      "Already exists for Rohde & Schwarz GmbH, ignoring...\n",
      "Already exists for Rolls Royce, ignoring...\n",
      "Already exists for SAAB AB, ignoring...\n",
      "Already exists for SAIC, ignoring...\n",
      "Already exists for SAP AG, ignoring...\n",
      "Already exists for SAS Institute, ignoring...\n",
      "Already exists for SK Hynix Inc, ignoring...\n",
      "Already exists for SK Telecom Co, ignoring...\n",
      "Already exists for SOFTBANK ROBOTICS EUROPE, ignoring...\n",
      "Already exists for SPOTIFY AB, ignoring...\n",
      "Already exists for SPX Corporation, ignoring...\n",
      "Already exists for SRC Inc, ignoring...\n",
      "Already exists for SRI International, ignoring...\n",
      "Already exists for STMicroelectronics, ignoring...\n",
      "Already exists for Samsung Electronics, ignoring...\n",
      "Already exists for Sandia National Laboratories, New Mexico, ignoring...\n",
      "Already exists for Sanofi, ignoring...\n",
      "Already exists for Sarnoff Corporation, ignoring...\n",
      "Already exists for Schlumberger Limited, ignoring...\n",
      "Already exists for Schneider Electric Automation GmbH, ignoring...\n",
      "Already exists for Schneider Electric USA Inc, ignoring...\n",
      "Already exists for Seagate Technology USA, ignoring...\n",
      "Already exists for Sensetime, ignoring...\n",
      "Already exists for Sensis Corporation, ignoring...\n",
      "Already exists for Sensys Medical, Inc., ignoring...\n",
      "Already exists for Sharp Corporation, ignoring...\n",
      "Already exists for Shell Oil Company, ignoring...\n",
      "Already exists for Siemens AG, ignoring...\n",
      "Already exists for Sift LLC, ignoring...\n",
      "Already exists for Silicon Graphics Inc, ignoring...\n",
      "Already exists for Snap Inc, ignoring...\n",
      "Already exists for Sony Corporation, ignoring...\n",
      "Already exists for Splunk Inc, ignoring...\n",
      "Already exists for Sprint Corporation, ignoring...\n",
      "Already exists for Stryker Corporation, ignoring...\n",
      "Already exists for Sun Microsystems, ignoring...\n",
      "Already exists for Swisscom AG, ignoring...\n",
      "Already exists for Sybase Incorporated, ignoring...\n",
      "Already exists for Symantec, ignoring...\n",
      "Already exists for Synopsys Incorporated, ignoring...\n",
      "Already exists for TOTAL SA, ignoring...\n",
      "Already exists for TURBOMECA, ignoring...\n",
      "Already exists for Tata Consultancy Services India, ignoring...\n",
      "Already exists for Technicolor, ignoring...\n",
      "Already exists for Telefonica SA, ignoring...\n",
      "Already exists for Tencent, ignoring...\n",
      "Already exists for Teradata US Inc, ignoring...\n",
      "Already exists for Teradyne Inc, ignoring...\n",
      "Already exists for Tesla, ignoring...\n",
      "Already exists for Texas Instruments, ignoring...\n",
      "Already exists for Thales Group, ignoring...\n",
      "Already exists for The Boston Consulting Group Inc, ignoring...\n",
      "Already exists for The Boston Consulting Group, Inc., ignoring...\n",
      "Already exists for The Nielsen Company (US) LLC, ignoring...\n",
      "Already exists for Thermo Fisher Scientific, ignoring...\n",
      "Already exists for Thomson Reuters, ignoring...\n",
      "Already exists for Toshiba Corporation, ignoring...\n",
      "Already exists for Toyota Motor Corporation, ignoring...\n",
      "Already exists for Trend Micro Incorporated, ignoring...\n",
      "Already exists for Trilogy Development Group, Inc., ignoring...\n",
      "Already exists for Trimble Navigation Limited, ignoring...\n",
      "Already exists for Twitter, ignoring...\n",
      "Already exists for UBS AG, ignoring...\n",
      "Already exists for UOP LLC, ignoring...\n",
      "Already exists for Uber, ignoring...\n",
      "Already exists for Unisys Corporation, ignoring...\n",
      "Already exists for VECNA TECHNOLOGIES INC, ignoring...\n",
      "Already exists for VERISIGN, INC., ignoring...\n",
      "Already exists for Varian Medical Systems Inc, ignoring...\n",
      "Already exists for Verily Life Sciences LLC, ignoring...\n",
      "Already exists for Verity, Inc., ignoring...\n",
      "Already exists for Verizon Communications, ignoring...\n",
      "Already exists for Vermillion Inc, ignoring...\n",
      "Already exists for ViaSat Inc, ignoring...\n",
      "Already exists for Vodafone, ignoring...\n",
      "Already exists for Volkswagen, ignoring...\n",
      "Already exists for Volvo, ignoring...\n",
      "Already exists for Vulcan Inc, ignoring...\n",
      "Already exists for WSI Corporation, ignoring...\n",
      "Already exists for Walmart, ignoring...\n",
      "Already exists for Waymo LLC, ignoring...\n",
      "Already exists for Wells Fargo, ignoring...\n",
      "Already exists for Western Digital Technologies Inc, ignoring...\n",
      "Already exists for Whirlpool, ignoring...\n",
      "Already exists for Winbond Electronics Corp., ignoring...\n",
      "Already exists for Wipro Limited, ignoring...\n",
      "Already exists for Wistron Corporation, ignoring...\n",
      "Already exists for Wolfram Research Inc, ignoring...\n",
      "Already exists for Xerox Corporation, ignoring...\n",
      "Already exists for Xilinx Inc, ignoring...\n",
      "Already exists for YANDEX EUROPE AG, ignoring...\n",
      "Already exists for Yahoo Inc, ignoring...\n",
      "Already exists for Yamaha Corporation, ignoring...\n",
      "Already exists for Yokogawa Electric Corporation, ignoring...\n",
      "Already exists for Zoox, ignoring...\n",
      "Already exists for Zte, ignoring...\n",
      "Already exists for eBay, ignoring...\n",
      "Already exists for google, ignoring...\n",
      "Already exists for hsbc, ignoring...\n",
      "Already exists for iRobot Corporation, ignoring...\n",
      "Already exists for marvell semiconductor, ignoring...\n",
      "Already exists for mellanox technologies israel, ignoring...\n",
      "Already exists for osram corporate, ignoring...\n",
      "Already exists for pricewaterhousecoopers, ignoring...\n",
      "Already exists for profactor gmbh, ignoring...\n",
      "Already exists for realtek semiconductor, ignoring...\n",
      "Already exists for salesforce.com, inc., ignoring...\n",
      "Already exists for sogou inc, ignoring...\n",
      "Already exists for tomtom, ignoring...\n",
      "Already exists for ubitech ltd, ignoring...\n",
      "Already exists for vermillion inc, ignoring...\n",
      "Already exists for Deloitte, ignoring...\n",
      "Already exists for Facebook, ignoring...\n",
      "Processing for  Microsoft\n"
     ]
    },
    {
     "name": "stderr",
     "output_type": "stream",
     "text": [
      "  0%|                                                                                                                                                | 0/14 [00:00<?, ?it/s]"
     ]
    },
    {
     "name": "stdout",
     "output_type": "stream",
     "text": [
      "Page: 0/14\n"
     ]
    },
    {
     "name": "stderr",
     "output_type": "stream",
     "text": [
      "  7%|█████████▋                                                                                                                              | 1/14 [00:00<00:10,  1.30it/s]"
     ]
    },
    {
     "name": "stdout",
     "output_type": "stream",
     "text": [
      "Page: 1/14\n"
     ]
    },
    {
     "name": "stderr",
     "output_type": "stream",
     "text": [
      " 14%|███████████████████▍                                                                                                                    | 2/14 [00:01<00:08,  1.37it/s]"
     ]
    },
    {
     "name": "stdout",
     "output_type": "stream",
     "text": [
      "Page: 2/14\n"
     ]
    },
    {
     "name": "stderr",
     "output_type": "stream",
     "text": [
      " 21%|█████████████████████████████▏                                                                                                          | 3/14 [00:02<00:07,  1.43it/s]"
     ]
    },
    {
     "name": "stdout",
     "output_type": "stream",
     "text": [
      "Page: 3/14\n"
     ]
    },
    {
     "name": "stderr",
     "output_type": "stream",
     "text": [
      " 29%|██████████████████████████████████████▊                                                                                                 | 4/14 [00:02<00:06,  1.43it/s]"
     ]
    },
    {
     "name": "stdout",
     "output_type": "stream",
     "text": [
      "Page: 4/14\n"
     ]
    },
    {
     "name": "stderr",
     "output_type": "stream",
     "text": [
      " 36%|████████████████████████████████████████████████▌                                                                                       | 5/14 [00:03<00:06,  1.46it/s]"
     ]
    },
    {
     "name": "stdout",
     "output_type": "stream",
     "text": [
      "Page: 5/14\n"
     ]
    },
    {
     "name": "stderr",
     "output_type": "stream",
     "text": [
      " 43%|██████████████████████████████████████████████████████████▎                                                                             | 6/14 [00:04<00:05,  1.42it/s]"
     ]
    },
    {
     "name": "stdout",
     "output_type": "stream",
     "text": [
      "Page: 6/14\n"
     ]
    },
    {
     "name": "stderr",
     "output_type": "stream",
     "text": [
      " 50%|████████████████████████████████████████████████████████████████████                                                                    | 7/14 [00:04<00:04,  1.41it/s]"
     ]
    },
    {
     "name": "stdout",
     "output_type": "stream",
     "text": [
      "Page: 7/14\n"
     ]
    },
    {
     "name": "stderr",
     "output_type": "stream",
     "text": [
      " 57%|█████████████████████████████████████████████████████████████████████████████▋                                                          | 8/14 [00:06<00:05,  1.13it/s]"
     ]
    },
    {
     "name": "stdout",
     "output_type": "stream",
     "text": [
      "Page: 8/14\n"
     ]
    },
    {
     "name": "stderr",
     "output_type": "stream",
     "text": [
      " 64%|███████████████████████████████████████████████████████████████████████████████████████▍                                                | 9/14 [00:06<00:04,  1.19it/s]"
     ]
    },
    {
     "name": "stdout",
     "output_type": "stream",
     "text": [
      "Page: 9/14\n"
     ]
    },
    {
     "name": "stderr",
     "output_type": "stream",
     "text": [
      " 71%|████████████████████████████████████████████████████████████████████████████████████████████████▍                                      | 10/14 [00:07<00:03,  1.26it/s]"
     ]
    },
    {
     "name": "stdout",
     "output_type": "stream",
     "text": [
      "Page: 10/14\n"
     ]
    },
    {
     "name": "stderr",
     "output_type": "stream",
     "text": [
      " 79%|██████████████████████████████████████████████████████████████████████████████████████████████████████████                             | 11/14 [00:08<00:02,  1.30it/s]"
     ]
    },
    {
     "name": "stdout",
     "output_type": "stream",
     "text": [
      "Page: 11/14\n"
     ]
    },
    {
     "name": "stderr",
     "output_type": "stream",
     "text": [
      " 86%|███████████████████████████████████████████████████████████████████████████████████████████████████████████████████▋                   | 12/14 [00:09<00:01,  1.29it/s]"
     ]
    },
    {
     "name": "stdout",
     "output_type": "stream",
     "text": [
      "Page: 12/14\n"
     ]
    },
    {
     "name": "stderr",
     "output_type": "stream",
     "text": [
      " 93%|█████████████████████████████████████████████████████████████████████████████████████████████████████████████████████████████▎         | 13/14 [00:09<00:00,  1.36it/s]"
     ]
    },
    {
     "name": "stdout",
     "output_type": "stream",
     "text": [
      "Page: 13/14\n"
     ]
    },
    {
     "name": "stderr",
     "output_type": "stream",
     "text": [
      "100%|███████████████████████████████████████████████████████████████████████████████████████████████████████████████████████████████████████| 14/14 [00:10<00:00,  1.34it/s]\n"
     ]
    },
    {
     "name": "stdout",
     "output_type": "stream",
     "text": [
      "Fetching the readmes from the repos\n"
     ]
    },
    {
     "name": "stderr",
     "output_type": "stream",
     "text": [
      "  0%|▎                                                                                                                                      | 1/405 [00:00<02:39,  2.54it/s]"
     ]
    },
    {
     "name": "stdout",
     "output_type": "stream",
     "text": [
      "Could not find readme for this link : https://github.com/MicrosoftLearning/20480-Programming-in-HTML5-with-JavaScript-and-CSS3\n"
     ]
    },
    {
     "name": "stderr",
     "output_type": "stream",
     "text": [
      "  0%|▋                                                                                                                                      | 2/405 [00:00<02:27,  2.73it/s]"
     ]
    },
    {
     "name": "stdout",
     "output_type": "stream",
     "text": [
      "Could not find readme for this link : https://github.com/MicrosoftLearning/20483-Programming-in-C-Sharp\n"
     ]
    },
    {
     "name": "stderr",
     "output_type": "stream",
     "text": [
      "  1%|█▋                                                                                                                                     | 5/405 [00:01<02:36,  2.56it/s]"
     ]
    },
    {
     "name": "stdout",
     "output_type": "stream",
     "text": [
      "Could not find readme for this link : https://github.com/MicrosoftLearning/AI-102-AIEngineer.de-de\n"
     ]
    },
    {
     "name": "stderr",
     "output_type": "stream",
     "text": [
      "  1%|██                                                                                                                                     | 6/405 [00:02<02:36,  2.55it/s]"
     ]
    },
    {
     "name": "stdout",
     "output_type": "stream",
     "text": [
      "Could not find readme for this link : https://github.com/MicrosoftLearning/AI-102-AIEngineer.es-es\n"
     ]
    },
    {
     "name": "stderr",
     "output_type": "stream",
     "text": [
      "  2%|███                                                                                                                                    | 9/405 [00:03<02:36,  2.53it/s]"
     ]
    },
    {
     "name": "stdout",
     "output_type": "stream",
     "text": [
      "Could not find readme for this link : https://github.com/MicrosoftLearning/AI-102-AIEngineer.it-it\n"
     ]
    },
    {
     "name": "stderr",
     "output_type": "stream",
     "text": [
      " 21%|████████████████████████████                                                                                                          | 85/405 [00:37<02:15,  2.36it/s]"
     ]
    },
    {
     "name": "stdout",
     "output_type": "stream",
     "text": [
      "Could not find readme for this link : https://github.com/MicrosoftLearning/AZ-720T00-Azure-Support-Engineer-Troubleshooting-Azure-Connectivity.ja-jp.temp\n"
     ]
    },
    {
     "name": "stderr",
     "output_type": "stream",
     "text": [
      " 30%|███████████████████████████████████████▍                                                                                             | 120/405 [00:53<02:02,  2.32it/s]"
     ]
    },
    {
     "name": "stdout",
     "output_type": "stream",
     "text": [
      "Could not find readme for this link : https://github.com/MicrosoftLearning/Data-Science-Professional-Project\n"
     ]
    },
    {
     "name": "stderr",
     "output_type": "stream",
     "text": [
      " 31%|█████████████████████████████████████████▋                                                                                           | 127/405 [00:56<02:03,  2.25it/s]"
     ]
    },
    {
     "name": "stdout",
     "output_type": "stream",
     "text": [
      "Could not find readme for this link : https://github.com/MicrosoftLearning/DEV240x-Intro-to-Web-Accessibility\n"
     ]
    },
    {
     "name": "stderr",
     "output_type": "stream",
     "text": [
      " 32%|███████████████████████████████████████████                                                                                          | 131/405 [00:57<02:01,  2.25it/s]"
     ]
    },
    {
     "name": "stdout",
     "output_type": "stream",
     "text": [
      "Could not find readme for this link : https://github.com/MicrosoftLearning/Developing-Big-Data-Solutions-with-Azure-Machine-Learning\n"
     ]
    },
    {
     "name": "stderr",
     "output_type": "stream",
     "text": [
      " 43%|█████████████████████████████████████████████████████████▏                                                                           | 174/405 [01:17<01:40,  2.29it/s]"
     ]
    }
   ],
   "source": [
    "import time\n",
    "from github.GithubException import RateLimitExceededException\n",
    "while True:\n",
    "    print(\"trying...\")\n",
    "    try:\n",
    "        Extractor.extractFromConfig()\n",
    "    except RateLimitExceededException:\n",
    "        print(\"rate exceeded :( Trying after 5 minutes\")\n",
    "        time.sleep(300)"
   ]
  },
  {
   "cell_type": "markdown",
   "id": "2f721abe-7dd1-420e-9d25-c6dfd01c8329",
   "metadata": {},
   "source": [
    "### THis extracts and saves all csv in 'finalOutputs' folder "
   ]
  },
  {
   "cell_type": "code",
   "execution_count": 3,
   "id": "7cd060f0-7617-4947-ba35-a2dccf4b2c8e",
   "metadata": {},
   "outputs": [
    {
     "name": "stdout",
     "output_type": "stream",
     "text": [
      "Already exists for 23andMe, Inc., ignoring...\n",
      "Already exists for 3M, ignoring...\n",
      "Already exists for ADP, ignoring...\n",
      "Already exists for AGT INTERNATIONAL GMBH, ignoring...\n",
      "Already exists for AKTIEBOLAGET SKF, ignoring...\n",
      "Already exists for ARM Limited, ignoring...\n",
      "Already exists for ARRI, ignoring...\n",
      "Already exists for ASAPP INC, ignoring...\n",
      "Already exists for ASD Inc., ignoring...\n",
      "Already exists for ASELSAN ELEKTRONIK, ignoring...\n",
      "Already exists for ASML Netherlands BV, ignoring...\n",
      "Already exists for ASUSTeK Computer Inc, ignoring...\n",
      "Already exists for AWK Group AG, ignoring...\n",
      "Already exists for Abbott Laboratories, ignoring...\n",
      "Already exists for Accenture, ignoring...\n",
      "Already exists for Acxiom Corporation, ignoring...\n",
      "Already exists for Adaptive Technologies, Inc., ignoring...\n",
      "Already exists for Adobe, ignoring...\n",
      "Already exists for Advanced Micro Devices, ignoring...\n",
      "Already exists for Affinnova, Inc., ignoring...\n",
      "Already exists for Agilent Technologies, ignoring...\n",
      "Already exists for Air Liquide Large Industries US LP, ignoring...\n",
      "Already exists for Airbnb, ignoring...\n",
      "Already exists for Airbus Defence and Space, ignoring...\n",
      "Already exists for Akamai Technologies Inc, ignoring...\n",
      "Already exists for Alibaba, ignoring...\n",
      "Already exists for Alps Electric Co Ltd, ignoring...\n",
      "Already exists for Alstom, ignoring...\n",
      "Already exists for Amadeus, ignoring...\n",
      "Processing for  Amazon\n"
     ]
    },
    {
     "name": "stderr",
     "output_type": "stream",
     "text": [
      "  0%|                                                                                                       | 0/1 [00:00<?, ?it/s]"
     ]
    },
    {
     "name": "stdout",
     "output_type": "stream",
     "text": [
      "Page: 0/1\n"
     ]
    },
    {
     "name": "stderr",
     "output_type": "stream",
     "text": [
      "100%|███████████████████████████████████████████████████████████████████████████████████████████████| 1/1 [00:00<00:00,  2.16it/s]\n"
     ]
    },
    {
     "name": "stdout",
     "output_type": "stream",
     "text": [
      "Fetching the readmes from the repos\n"
     ]
    },
    {
     "name": "stderr",
     "output_type": "stream",
     "text": [
      "100%|███████████████████████████████████████████████████████████████████████████████████████████████| 1/1 [00:00<00:00,  1.82it/s]\n"
     ]
    },
    {
     "name": "stdout",
     "output_type": "stream",
     "text": [
      "Could not find readme for this link : https://github.com/amazon-research/.github\n",
      "Fetching the extra github links and readmes from the repoWithReadme\n"
     ]
    },
    {
     "name": "stderr",
     "output_type": "stream",
     "text": [
      "0it [00:00, ?it/s]\n"
     ]
    },
    {
     "name": "stdout",
     "output_type": "stream",
     "text": [
      "Fetching the readmes from the repos\n"
     ]
    },
    {
     "name": "stderr",
     "output_type": "stream",
     "text": [
      "0it [00:00, ?it/s]\n",
      "0it [00:00, ?it/s]"
     ]
    },
    {
     "name": "stdout",
     "output_type": "stream",
     "text": [
      "DF is empty!\n"
     ]
    },
    {
     "name": "stderr",
     "output_type": "stream",
     "text": [
      "\n",
      "  0%|                                                                                                       | 0/7 [00:00<?, ?it/s]"
     ]
    },
    {
     "name": "stdout",
     "output_type": "stream",
     "text": [
      "Page: 0/7\n"
     ]
    },
    {
     "name": "stderr",
     "output_type": "stream",
     "text": [
      " 14%|█████████████▌                                                                                 | 1/7 [00:00<00:05,  1.00it/s]"
     ]
    },
    {
     "name": "stdout",
     "output_type": "stream",
     "text": [
      "Page: 1/7\n"
     ]
    },
    {
     "name": "stderr",
     "output_type": "stream",
     "text": [
      " 29%|███████████████████████████▏                                                                   | 2/7 [00:01<00:04,  1.09it/s]"
     ]
    },
    {
     "name": "stdout",
     "output_type": "stream",
     "text": [
      "Page: 2/7\n"
     ]
    },
    {
     "name": "stderr",
     "output_type": "stream",
     "text": [
      " 43%|████████████████████████████████████████▋                                                      | 3/7 [00:02<00:03,  1.16it/s]"
     ]
    },
    {
     "name": "stdout",
     "output_type": "stream",
     "text": [
      "Page: 3/7\n"
     ]
    },
    {
     "name": "stderr",
     "output_type": "stream",
     "text": [
      " 57%|██████████████████████████████████████████████████████▎                                        | 4/7 [00:03<00:02,  1.18it/s]"
     ]
    },
    {
     "name": "stdout",
     "output_type": "stream",
     "text": [
      "Page: 4/7\n"
     ]
    },
    {
     "name": "stderr",
     "output_type": "stream",
     "text": [
      " 71%|███████████████████████████████████████████████████████████████████▊                           | 5/7 [00:04<00:01,  1.14it/s]"
     ]
    },
    {
     "name": "stdout",
     "output_type": "stream",
     "text": [
      "Page: 5/7\n"
     ]
    },
    {
     "name": "stderr",
     "output_type": "stream",
     "text": [
      " 86%|█████████████████████████████████████████████████████████████████████████████████▍             | 6/7 [00:05<00:01,  1.06s/it]"
     ]
    },
    {
     "name": "stdout",
     "output_type": "stream",
     "text": [
      "Page: 6/7\n"
     ]
    },
    {
     "name": "stderr",
     "output_type": "stream",
     "text": [
      "100%|███████████████████████████████████████████████████████████████████████████████████████████████| 7/7 [00:06<00:00,  1.10it/s]\n"
     ]
    },
    {
     "name": "stdout",
     "output_type": "stream",
     "text": [
      "Fetching the readmes from the repos\n"
     ]
    },
    {
     "name": "stderr",
     "output_type": "stream",
     "text": [
      "  1%|▍                                                                                            | 1/187 [00:00<01:17,  2.40it/s]"
     ]
    },
    {
     "name": "stdout",
     "output_type": "stream",
     "text": [
      "Could not find readme for this link : https://github.com/amazon-science/.github\n"
     ]
    },
    {
     "name": "stderr",
     "output_type": "stream",
     "text": [
      "100%|███████████████████████████████████████████████████████████████████████████████████████████| 187/187 [01:36<00:00,  1.93it/s]\n"
     ]
    },
    {
     "name": "stdout",
     "output_type": "stream",
     "text": [
      "Fetching the extra github links and readmes from the repoWithReadme\n",
      "Found more than 5 github links in https://github.com/amazon-science/BartGraphSumm. Ignoring all of them. Please check the readme\n",
      "Found more than 5 github links in https://github.com/amazon-science/bigdetection. Ignoring all of them. Please check the readme\n",
      "Found more than 5 github links in https://github.com/amazon-science/dataflow-evaluation-toolkit. Ignoring all of them. Please check the readme\n",
      "Found more than 5 github links in https://github.com/amazon-science/doc-mt-metrics. Ignoring all of them. Please check the readme\n",
      "Found more than 5 github links in https://github.com/amazon-science/dse. Ignoring all of them. Please check the readme\n",
      "Found more than 5 github links in https://github.com/amazon-science/earth-forecasting-transformer. Ignoring all of them. Please check the readme\n",
      "Found more than 5 github links in https://github.com/amazon-science/explainable-trajectory-prediction. Ignoring all of them. Please check the readme\n",
      "Found more than 5 github links in https://github.com/amazon-science/fact-check-summarization. Ignoring all of them. Please check the readme\n",
      "Found more than 5 github links in https://github.com/amazon-science/fact-graph. Ignoring all of them. Please check the readme\n",
      "Found more than 5 github links in https://github.com/amazon-science/fair-pca. Ignoring all of them. Please check the readme\n",
      "Found more than 5 github links in https://github.com/amazon-science/few-shot-object-detection-benchmark. Ignoring all of them. Please check the readme\n",
      "Found more than 5 github links in https://github.com/amazon-science/food-ordering-semantic-parsing-dataset. Ignoring all of them. Please check the readme\n",
      "Found more than 5 github links in https://github.com/amazon-science/gan-control. Ignoring all of them. Please check the readme\n",
      "Found more than 5 github links in https://github.com/amazon-science/gluonmm. Ignoring all of them. Please check the readme\n",
      "Found more than 5 github links in https://github.com/amazon-science/long-short-term-transformer. Ignoring all of them. Please check the readme\n",
      "Found more than 5 github links in https://github.com/amazon-science/polygon-transformer. Ignoring all of them. Please check the readme\n",
      "Found more than 5 github links in https://github.com/amazon-science/progressive-coordinate-transforms. Ignoring all of them. Please check the readme\n",
      "Found more than 5 github links in https://github.com/amazon-science/replay-based-recurrent-rl. Ignoring all of them. Please check the readme\n",
      "Found more than 5 github links in https://github.com/amazon-science/stil-mbart-multiatis. Ignoring all of them. Please check the readme\n",
      "Found more than 5 github links in https://github.com/amazon-science/textadain-robust-recognition. Ignoring all of them. Please check the readme\n",
      "Found more than 5 github links in https://github.com/amazon-science/transformers-data-augmentation. Ignoring all of them. Please check the readme\n",
      "Found more than 5 github links in https://github.com/amazon-science/unified-ept. Ignoring all of them. Please check the readme\n",
      "Found more than 5 github links in https://github.com/amazon-science/video-contrastive-learning. Ignoring all of them. Please check the readme\n"
     ]
    },
    {
     "name": "stderr",
     "output_type": "stream",
     "text": [
      "  5%|█████                                                                                        | 7/129 [00:03<00:59,  2.05it/s]"
     ]
    },
    {
     "name": "stdout",
     "output_type": "stream",
     "text": [
      "Could not find repository for this link : KaihuaTang/Long-Tailed-Recognition\n"
     ]
    },
    {
     "name": "stderr",
     "output_type": "stream",
     "text": [
      "  7%|██████▍                                                                                      | 9/129 [00:04<00:54,  2.22it/s]"
     ]
    },
    {
     "name": "stdout",
     "output_type": "stream",
     "text": [
      "Could not find repository for this link : KaiyangZhou/Dassl\n"
     ]
    },
    {
     "name": "stderr",
     "output_type": "stream",
     "text": [
      "  9%|███████▊                                                                                    | 11/129 [00:05<00:50,  2.35it/s]"
     ]
    },
    {
     "name": "stdout",
     "output_type": "stream",
     "text": [
      "Could not find repository for this link : MendelXu/zsseg\n"
     ]
    },
    {
     "name": "stderr",
     "output_type": "stream",
     "text": [
      " 18%|████████████████▍                                                                           | 23/129 [00:12<00:58,  1.82it/s]"
     ]
    },
    {
     "name": "stdout",
     "output_type": "stream",
     "text": [
      "Could not find repository for this link : alexpashevich/E\n"
     ]
    },
    {
     "name": "stderr",
     "output_type": "stream",
     "text": [
      "100%|███████████████████████████████████████████████████████████████████████████████████████████| 129/129 [01:29<00:00,  1.44it/s]\n"
     ]
    },
    {
     "name": "stdout",
     "output_type": "stream",
     "text": [
      "Fetching the readmes from the repos\n"
     ]
    },
    {
     "name": "stderr",
     "output_type": "stream",
     "text": [
      "100%|█████████████████████████████████████████████████████████████████████████████████████████████| 98/98 [00:46<00:00,  2.11it/s]\n",
      " 90%|██████████████████████████████████████████████████████████████████████████████████         | 256/284 [00:09<00:00, 69.20it/s]"
     ]
    },
    {
     "name": "stdout",
     "output_type": "stream",
     "text": [
      "Found more than 10 arxiv links in the readme of https://github.com/adapter-hub/adapter-transformers. Ignoring the links\n",
      "Found more than 10 arxiv links in the readme of https://github.com/huggingface/transformers. Ignoring the links\n",
      "Found more than 10 arxiv links in the readme of https://github.com/lupantech/ScienceQA. Ignoring the links\n",
      "Found more than 10 arxiv links in the readme of https://github.com/microsoft/DeepSpeed. Ignoring the links\n"
     ]
    },
    {
     "name": "stderr",
     "output_type": "stream",
     "text": [
      "100%|███████████████████████████████████████████████████████████████████████████████████████████| 284/284 [00:09<00:00, 30.78it/s]\n"
     ]
    },
    {
     "name": "stdout",
     "output_type": "stream",
     "text": [
      "Found more than 10 arxiv links in the readme of https://github.com/salesforce/WikiSQL. Ignoring the links\n",
      "Already exists for Amdocs Development Limited, ignoring...\n",
      "Already exists for American Express, ignoring...\n",
      "Already exists for American GNC Corporation, ignoring...\n",
      "Already exists for Ami Semiconductor, ignoring...\n",
      "Already exists for Amobee, Inc., ignoring...\n",
      "Already exists for Analog Devices Inc, ignoring...\n",
      "Already exists for Apple, ignoring...\n",
      "Already exists for Aptima Inc, ignoring...\n",
      "Already exists for Asahi Kasei Corporation, ignoring...\n",
      "Already exists for Aspen Technology Inc, ignoring...\n",
      "Already exists for AstraZeneca, ignoring...\n",
      "Already exists for Audi AG, ignoring...\n",
      "Already exists for Autodesk, ignoring...\n",
      "Already exists for Autoliv ASP Inc, ignoring...\n",
      "Already exists for Autonomous Solutions, Inc., ignoring...\n",
      "Already exists for Avago Technologies, ignoring...\n",
      "Already exists for Avaya, ignoring...\n",
      "Already exists for Aveo Inc, ignoring...\n",
      "Already exists for Avx Corporation, ignoring...\n",
      "Already exists for BAIDU, ignoring...\n",
      "Already exists for BASF SE, ignoring...\n",
      "Already exists for BBN Technologies, ignoring...\n",
      "Already exists for BOOKING.COM B.V., ignoring...\n",
      "Already exists for BP America Inc, ignoring...\n",
      "Already exists for Baker Hughes a GE company, ignoring...\n",
      "Already exists for Balluff GmbH, ignoring...\n",
      "Already exists for Bang and Olufsen, ignoring...\n",
      "Already exists for Bank of America Corporation, ignoring...\n",
      "Already exists for Battelle, ignoring...\n",
      "Already exists for Bayer AG, ignoring...\n",
      "Already exists for Bayer Aktiengesellschaft, ignoring...\n",
      "Already exists for Becton Dickinson and Company, ignoring...\n",
      "Already exists for Bell, ignoring...\n",
      "Already exists for Bentley Systems Incorporated, ignoring...\n",
      "Already exists for Blizzard Entertainment, ignoring...\n",
      "Already exists for Bloomberg, ignoring...\n",
      "Already exists for Boehringer-Ingelheim, ignoring...\n",
      "Already exists for Boeing Corporation, ignoring...\n",
      "Already exists for Booz Allen Hamilton Inc, ignoring...\n",
      "Already exists for Borealis, ignoring...\n",
      "Already exists for British Telecommunications plc, ignoring...\n",
      "Already exists for Broadcom, ignoring...\n",
      "Already exists for Brooks Automation, ignoring...\n",
      "Already exists for Bytedance, ignoring...\n",
      "Already exists for CA Inc, ignoring...\n",
      "Already exists for Ca Technologies, ignoring...\n",
      "Already exists for Cabot Corporation, ignoring...\n",
      "Already exists for Cadence Design Systems Inc, ignoring...\n",
      "Already exists for Canon Inc, ignoring...\n",
      "Already exists for Capgemini, ignoring...\n",
      "Already exists for Capital One Services LLC, ignoring...\n",
      "Already exists for Carl Zeiss, ignoring...\n",
      "Already exists for Carrier Corporation, ignoring...\n",
      "Already exists for Caterpillar, ignoring...\n",
      "Already exists for Cavium, Inc., ignoring...\n",
      "Already exists for Cerner Innovation Inc, ignoring...\n",
      "Already exists for Charles River Analytics Inc, ignoring...\n",
      "Already exists for Check Point Software Technologies, Inc., ignoring...\n",
      "Already exists for Chevron Corporation, ignoring...\n",
      "Already exists for China Mobile, ignoring...\n",
      "Already exists for Cigna Corporation, ignoring...\n",
      "Already exists for Cisco Systems, ignoring...\n",
      "Already exists for Citigroup, ignoring...\n",
      "Already exists for Citrix, ignoring...\n",
      "Already exists for Codexis Inc, ignoring...\n",
      "Already exists for Cognizant, ignoring...\n",
      "Already exists for Comcast, ignoring...\n",
      "Already exists for Computer Sciences Corporation - USA, ignoring...\n",
      "Already exists for Continental Automotive GmbH, ignoring...\n",
      "Already exists for Corelogic Incorporated, ignoring...\n",
      "Already exists for Corning Incorporated, ignoring...\n",
      "Already exists for Cray Inc, ignoring...\n",
      "Already exists for Cypress Semiconductor Corporation, ignoring...\n",
      "Already exists for D Wave Systems Inc, ignoring...\n",
      "Already exists for DEEP GENOMICS INCORPORATED, ignoring...\n",
      "Already exists for DENSO Corporation, ignoring...\n",
      "Already exists for Daikin Industries Ltd, ignoring...\n",
      "Already exists for Daimler AG, ignoring...\n",
      "Already exists for Danaher Corporation, ignoring...\n",
      "Already exists for Dassault Systemes, ignoring...\n",
      "Already exists for DataRobot Inc, ignoring...\n",
      "Already exists for DeepMind Technologies, ignoring...\n",
      "Already exists for Deere & Company, ignoring...\n",
      "Already exists for Definiens AG, ignoring...\n",
      "Already exists for Dell Products, ignoring...\n",
      "Already exists for Delphi, ignoring...\n",
      "Already exists for Deutsche Telekom, ignoring...\n",
      "Already exists for DiDi, ignoring...\n",
      "Already exists for Digia, ignoring...\n",
      "Already exists for Digimarc Corporation, ignoring...\n",
      "Already exists for Disney, ignoring...\n",
      "Already exists for Dolby, ignoring...\n",
      "Already exists for Dropbox Inc, ignoring...\n",
      "Already exists for DuPont, ignoring...\n",
      "Already exists for E.S.I. SOFTWARE LTD, ignoring...\n",
      "Already exists for EMC Corporation, ignoring...\n",
      "Already exists for Eaton Corporation, ignoring...\n",
      "Already exists for Elbit Systems Ltd., ignoring...\n",
      "Already exists for Electronic Arts, ignoring...\n",
      "Already exists for Elekta AB, ignoring...\n",
      "Already exists for Elsevier, ignoring...\n",
      "Already exists for Emerson Process Management Power & Water Solutions, Inc., ignoring...\n",
      "Already exists for Enjoyor Company Limited, ignoring...\n",
      "Already exists for Entelos, Inc., ignoring...\n",
      "Already exists for Ericsson Sweden, ignoring...\n",
      "Already exists for Experian, ignoring...\n",
      "Already exists for Express Scripts Holding, ignoring...\n",
      "Already exists for FSI International, Inc., ignoring...\n",
      "Already exists for FUJIFILM Corporation, ignoring...\n",
      "Already exists for Fair Isaac Corporation, ignoring...\n",
      "Already exists for Fanuc Ltd, ignoring...\n",
      "Already exists for FireEye Inc, ignoring...\n",
      "Already exists for Flextronics AP LLC, ignoring...\n",
      "Already exists for Fluke Corporation, ignoring...\n",
      "Already exists for Ford Motor Company, ignoring...\n",
      "Already exists for Freescale Semiconductor, ignoring...\n",
      "Already exists for Fujitsu Ltd, ignoring...\n",
      "Already exists for Futurewei Tech, ignoring...\n",
      "Already exists for Gateway Inc, ignoring...\n",
      "Already exists for General Electric Company, ignoring...\n",
      "Already exists for General Motors, ignoring...\n",
      "Already exists for Global Foundries Inc, ignoring...\n",
      "Already exists for GoPro, Inc., ignoring...\n",
      "Already exists for Goldman Sachs & Co, ignoring...\n",
      "Already exists for GrammaTech, ignoring...\n",
      "Already exists for Gravity Research and Development Kft., ignoring...\n",
      "Already exists for Groupon, Inc., ignoring...\n",
      "Already exists for HERE Global BV, ignoring...\n",
      "Already exists for HRL Laboratories, ignoring...\n",
      "Already exists for HTC, ignoring...\n",
      "Already exists for Halliburton, ignoring...\n",
      "Already exists for Harman International Industries Incorporated, ignoring...\n",
      "Already exists for Hcl Technologies, ignoring...\n",
      "Already exists for HeartFlow Inc, ignoring...\n",
      "Already exists for Hewlett-Packard Inc., ignoring...\n",
      "Already exists for Hitachi Ltd, ignoring...\n",
      "Already exists for Honda R and D Co, ignoring...\n",
      "Already exists for Huawei Technologies, ignoring...\n",
      "Already exists for Hulu, ignoring...\n",
      "Already exists for Hyundai Motor Group, ignoring...\n",
      "Already exists for IBM, ignoring...\n",
      "Already exists for ICF INTERNATIONAL, ignoring...\n",
      "Already exists for IHS Markit Ltd, ignoring...\n",
      "Already exists for INFOTECH SOFT, INC., ignoring...\n",
      "Already exists for INTELLIGENT FUSION TECHNOLOGY INC, ignoring...\n",
      "Already exists for Icosystem Corporation, ignoring...\n",
      "Already exists for Illumina Inc, ignoring...\n",
      "Already exists for Infineon Technologies AG, ignoring...\n",
      "Already exists for Infinera Corporation, ignoring...\n",
      "Already exists for Infosys, ignoring...\n",
      "Already exists for Ingenuity Systems, Inc., ignoring...\n",
      "Already exists for Intel Corporation, ignoring...\n",
      "Already exists for Intelligent Automation Inc, ignoring...\n",
      "Already exists for Intertrust Technologies Corp., ignoring...\n",
      "Already exists for Intuit Inc, ignoring...\n",
      "Already exists for Invensense Inc, ignoring...\n",
      "Already exists for Israel Aerospace Industries Ltd, ignoring...\n",
      "Already exists for JPMorgan Chase Bank, ignoring...\n",
      "Already exists for Janssen-Cilag, ignoring...\n",
      "Already exists for Johnson & Johnson Pharmaceutical Research & Development Raritan, ignoring...\n",
      "Already exists for Johnson Controls, ignoring...\n",
      "Already exists for Juniper Networks Inc, ignoring...\n",
      "Already exists for Justsystem Corporation, ignoring...\n",
      "Already exists for KT Corporation, ignoring...\n",
      "Already exists for Kabushiki Kaisha Yaskawa Denki, ignoring...\n",
      "Already exists for Kakao Corp, ignoring...\n",
      "Already exists for Kansai Paint Co., Ltd., ignoring...\n",
      "Already exists for Kia Motors Corporation, ignoring...\n",
      "Already exists for Kimberly-Clark Worldwide Inc, ignoring...\n",
      "Already exists for Kitware, ignoring...\n",
      "Already exists for Kone Corporation, ignoring...\n",
      "Already exists for Kongsberg Maritime AS, ignoring...\n",
      "Already exists for L'Oreal, ignoring...\n",
      "Already exists for LENOVO, ignoring...\n",
      "Already exists for LG Chem Ltd, ignoring...\n",
      "Already exists for LG Electronics Korea, ignoring...\n",
      "Already exists for Lattec IS, ignoring...\n",
      "Already exists for Lego AS, ignoring...\n",
      "Already exists for Leidos Inc, ignoring...\n",
      "Already exists for Life Technologies Corporation, ignoring...\n",
      "Already exists for Lincom Corporation, ignoring...\n",
      "Already exists for LinkedIn, ignoring...\n",
      "Already exists for Livermore Software Technology Corp, ignoring...\n",
      "Already exists for Lockheed Martin Corporation, ignoring...\n",
      "Already exists for Logitech, ignoring...\n",
      "Already exists for Lowe's Companies, Inc., ignoring...\n",
      "Already exists for Lunit Inc, ignoring...\n",
      "Already exists for Lyft, ignoring...\n",
      "Already exists for Massachusetts Mutual Life Insurance Company, ignoring...\n",
      "Already exists for Materialise, ignoring...\n",
      "Already exists for MathWorks, ignoring...\n",
      "Already exists for Mazda Motor, ignoring...\n",
      "Already exists for McDonald's, ignoring...\n",
      "Already exists for McKinsey & Company, ignoring...\n",
      "Already exists for Mediatek Inc, ignoring...\n",
      "Already exists for Medtronic Inc, ignoring...\n",
      "Already exists for Merck, ignoring...\n",
      "Already exists for Micron, ignoring...\n",
      "Already exists for Microstrategy, Inc., ignoring...\n",
      "Already exists for Midea Group, ignoring...\n",
      "Already exists for Mitel Networks, ignoring...\n",
      "Already exists for Mitsubishi Electric Corporation, ignoring...\n",
      "Already exists for Morgan Stanley, ignoring...\n",
      "Already exists for Motorola, ignoring...\n",
      "Already exists for Mozilla, ignoring...\n",
      "Already exists for NCR Corporation, ignoring...\n",
      "Already exists for NEC Corporation, ignoring...\n",
      "Already exists for NETFLIX INC, ignoring...\n",
      "Already exists for NIKE, Inc., ignoring...\n",
      "Already exists for NUTONIAN, INC., ignoring...\n",
      "Already exists for NVIDIA, ignoring...\n",
      "Already exists for NXP Semiconductors, ignoring...\n",
      "Already exists for Narus, Inc., ignoring...\n",
      "Already exists for National Instruments Corporation, ignoring...\n",
      "Already exists for Natural Selection Inc, ignoring...\n",
      "Already exists for Naver Corporation, ignoring...\n",
      "Already exists for Nestor, Inc., ignoring...\n",
      "Already exists for NetApp, ignoring...\n",
      "Already exists for Nikon, ignoring...\n",
      "Already exists for Nippon Telegraph and Telephone Corporation, ignoring...\n",
      "Already exists for Nissan, ignoring...\n",
      "Already exists for Nokia Corporation, ignoring...\n",
      "Already exists for Nortel Networks, ignoring...\n",
      "Already exists for Northrop Grumman corporation, ignoring...\n",
      "Already exists for Novatek Microelectronics Corp, ignoring...\n",
      "Already exists for Novell, Inc., ignoring...\n",
      "Already exists for Novo Nordisk, ignoring...\n",
      "Already exists for NuTech Solutions GmbH, ignoring...\n",
      "Already exists for Nuance Communications, ignoring...\n",
      "Already exists for Numerica Corp, ignoring...\n",
      "Already exists for Nutanix Inc, ignoring...\n",
      "Already exists for OPTUM INC, ignoring...\n",
      "Already exists for Olympus Corporation, ignoring...\n",
      "Already exists for Omron Adept Technologies Inc, ignoring...\n",
      "Already exists for Open Text Corporation, ignoring...\n",
      "Already exists for OpenAI, ignoring...\n",
      "Already exists for Oracle, ignoring...\n",
      "Already exists for Osaro, ignoring...\n",
      "Already exists for PDF Solutions, Inc., ignoring...\n",
      "Already exists for PEARSON EDUCATION INC, ignoring...\n",
      "Already exists for PGS Geophysical AS, ignoring...\n",
      "Already exists for PREFERRED NETWORKS INC, ignoring...\n",
      "Already exists for PTC Inc, ignoring...\n",
      "Already exists for Palo Alto Networks, ignoring...\n",
      "Already exists for Panasonic Corporation, ignoring...\n",
      "Already exists for Pandora Media Inc, ignoring...\n",
      "Already exists for Pavilion Technologies, ignoring...\n",
      "Already exists for Pearson plc, ignoring...\n",
      "Already exists for Petroleum Geo-Services ASA, ignoring...\n",
      "Already exists for Pfizer, ignoring...\n",
      "Already exists for Philip Morris Products, ignoring...\n",
      "Already exists for Philips Research, ignoring...\n",
      "Already exists for Pinterest, ignoring...\n",
      "Already exists for Pitney Bowes Inc, ignoring...\n",
      "Already exists for Posco, ignoring...\n",
      "Already exists for ProMOS Technologies Inc., ignoring...\n",
      "Already exists for Procter & Gamble, ignoring...\n",
      "Already exists for Progressive, ignoring...\n",
      "Already exists for QinetiQ, ignoring...\n",
      "Already exists for Qualcomm Incorporated, ignoring...\n",
      "Already exists for Quanta Computer, ignoring...\n",
      "Already exists for REPSOL, ignoring...\n",
      "Already exists for Rakuten, ignoring...\n",
      "Already exists for Raytheon, ignoring...\n",
      "Already exists for Red Hat Inc, ignoring...\n",
      "Already exists for Renesas Electronics Corporation, ignoring...\n",
      "Already exists for Ricoh, ignoring...\n",
      "Already exists for Rigetti Computing, ignoring...\n",
      "Already exists for Robert Bosch GmbH, ignoring...\n",
      "Already exists for Rockwell Automation, ignoring...\n",
      "Already exists for Rohde & Schwarz GmbH, ignoring...\n",
      "Already exists for Rolls Royce, ignoring...\n",
      "Already exists for SAAB AB, ignoring...\n",
      "Already exists for SAIC, ignoring...\n",
      "Already exists for SAP AG, ignoring...\n",
      "Already exists for SAS Institute, ignoring...\n",
      "Already exists for SK Hynix Inc, ignoring...\n",
      "Already exists for SK Telecom Co, ignoring...\n",
      "Already exists for SOFTBANK ROBOTICS EUROPE, ignoring...\n",
      "Already exists for SPOTIFY AB, ignoring...\n",
      "Already exists for SPX Corporation, ignoring...\n",
      "Already exists for SRC Inc, ignoring...\n",
      "Already exists for SRI International, ignoring...\n",
      "Already exists for STMicroelectronics, ignoring...\n",
      "Already exists for Samsung Electronics, ignoring...\n",
      "Already exists for Sandia National Laboratories, New Mexico, ignoring...\n",
      "Already exists for Sanofi, ignoring...\n",
      "Already exists for Sarnoff Corporation, ignoring...\n",
      "Already exists for Schlumberger Limited, ignoring...\n",
      "Already exists for Schneider Electric Automation GmbH, ignoring...\n",
      "Already exists for Schneider Electric USA Inc, ignoring...\n",
      "Already exists for Seagate Technology USA, ignoring...\n",
      "Already exists for Sensetime, ignoring...\n",
      "Already exists for Sensis Corporation, ignoring...\n",
      "Already exists for Sensys Medical, Inc., ignoring...\n",
      "Already exists for Sharp Corporation, ignoring...\n",
      "Already exists for Shell Oil Company, ignoring...\n",
      "Already exists for Siemens AG, ignoring...\n",
      "Already exists for Sift LLC, ignoring...\n",
      "Already exists for Silicon Graphics Inc, ignoring...\n",
      "Already exists for Snap Inc, ignoring...\n",
      "Already exists for Sony Corporation, ignoring...\n",
      "Already exists for Splunk Inc, ignoring...\n",
      "Already exists for Sprint Corporation, ignoring...\n",
      "Already exists for Stryker Corporation, ignoring...\n",
      "Already exists for Sun Microsystems, ignoring...\n",
      "Already exists for Swisscom AG, ignoring...\n",
      "Already exists for Sybase Incorporated, ignoring...\n",
      "Already exists for Symantec, ignoring...\n",
      "Already exists for Synopsys Incorporated, ignoring...\n",
      "Already exists for TOTAL SA, ignoring...\n",
      "Already exists for TURBOMECA, ignoring...\n",
      "Already exists for Tata Consultancy Services India, ignoring...\n",
      "Already exists for Technicolor, ignoring...\n",
      "Already exists for Telefonica SA, ignoring...\n",
      "Already exists for Tencent, ignoring...\n",
      "Already exists for Teradata US Inc, ignoring...\n",
      "Already exists for Teradyne Inc, ignoring...\n",
      "Already exists for Tesla, ignoring...\n",
      "Already exists for Texas Instruments, ignoring...\n",
      "Already exists for Thales Group, ignoring...\n",
      "Already exists for The Boston Consulting Group Inc, ignoring...\n",
      "Already exists for The Boston Consulting Group, Inc., ignoring...\n",
      "Already exists for The Nielsen Company (US) LLC, ignoring...\n",
      "Already exists for Thermo Fisher Scientific, ignoring...\n",
      "Already exists for Thomson Reuters, ignoring...\n",
      "Already exists for Toshiba Corporation, ignoring...\n",
      "Already exists for Toyota Motor Corporation, ignoring...\n",
      "Already exists for Trend Micro Incorporated, ignoring...\n",
      "Already exists for Trilogy Development Group, Inc., ignoring...\n",
      "Already exists for Trimble Navigation Limited, ignoring...\n",
      "Already exists for Twitter, ignoring...\n",
      "Already exists for UBS AG, ignoring...\n",
      "Already exists for UOP LLC, ignoring...\n",
      "Already exists for Uber, ignoring...\n",
      "Already exists for Unisys Corporation, ignoring...\n",
      "Already exists for VECNA TECHNOLOGIES INC, ignoring...\n",
      "Already exists for VERISIGN, INC., ignoring...\n",
      "Already exists for Varian Medical Systems Inc, ignoring...\n",
      "Already exists for Verily Life Sciences LLC, ignoring...\n",
      "Already exists for Verity, Inc., ignoring...\n",
      "Already exists for Verizon Communications, ignoring...\n",
      "Already exists for Vermillion Inc, ignoring...\n",
      "Already exists for ViaSat Inc, ignoring...\n",
      "Already exists for Vodafone, ignoring...\n",
      "Already exists for Volkswagen, ignoring...\n",
      "Already exists for Volvo, ignoring...\n",
      "Already exists for Vulcan Inc, ignoring...\n",
      "Already exists for WSI Corporation, ignoring...\n",
      "Already exists for Walmart, ignoring...\n",
      "Already exists for Waymo LLC, ignoring...\n",
      "Already exists for Wells Fargo, ignoring...\n",
      "Already exists for Western Digital Technologies Inc, ignoring...\n",
      "Already exists for Whirlpool, ignoring...\n",
      "Already exists for Winbond Electronics Corp., ignoring...\n",
      "Already exists for Wipro Limited, ignoring...\n",
      "Already exists for Wistron Corporation, ignoring...\n",
      "Already exists for Wolfram Research Inc, ignoring...\n",
      "Already exists for Xerox Corporation, ignoring...\n",
      "Already exists for Xilinx Inc, ignoring...\n",
      "Already exists for YANDEX EUROPE AG, ignoring...\n",
      "Already exists for Yahoo Inc, ignoring...\n",
      "Already exists for Yamaha Corporation, ignoring...\n",
      "Already exists for Yokogawa Electric Corporation, ignoring...\n",
      "Already exists for Zoox, ignoring...\n",
      "Already exists for Zte, ignoring...\n",
      "Already exists for eBay, ignoring...\n",
      "Already exists for google, ignoring...\n",
      "Already exists for hsbc, ignoring...\n",
      "Already exists for iRobot Corporation, ignoring...\n",
      "Already exists for marvell semiconductor, ignoring...\n",
      "Already exists for mellanox technologies israel, ignoring...\n",
      "Already exists for osram corporate, ignoring...\n",
      "Already exists for pricewaterhousecoopers, ignoring...\n",
      "Already exists for profactor gmbh, ignoring...\n",
      "Already exists for realtek semiconductor, ignoring...\n",
      "Already exists for salesforce.com, inc., ignoring...\n",
      "Already exists for sogou inc, ignoring...\n",
      "Already exists for tomtom, ignoring...\n",
      "Already exists for ubitech ltd, ignoring...\n",
      "Already exists for vermillion inc, ignoring...\n",
      "Already exists for Deloitte, ignoring...\n",
      "Already exists for Facebook, ignoring...\n",
      "Already exists for Microsoft, ignoring...\n"
     ]
    }
   ],
   "source": [
    "Extractor.extractFromConfig()"
   ]
  },
  {
   "cell_type": "code",
   "execution_count": 14,
   "id": "e7915359-9173-4592-b339-6a993085a110",
   "metadata": {},
   "outputs": [
    {
     "data": {
      "text/html": [
       "<div>\n",
       "<style scoped>\n",
       "    .dataframe tbody tr th:only-of-type {\n",
       "        vertical-align: middle;\n",
       "    }\n",
       "\n",
       "    .dataframe tbody tr th {\n",
       "        vertical-align: top;\n",
       "    }\n",
       "\n",
       "    .dataframe thead th {\n",
       "        text-align: right;\n",
       "    }\n",
       "</style>\n",
       "<table border=\"1\" class=\"dataframe\">\n",
       "  <thead>\n",
       "    <tr style=\"text-align: right;\">\n",
       "      <th></th>\n",
       "      <th>title</th>\n",
       "      <th>repo_link</th>\n",
       "      <th>forks</th>\n",
       "      <th>stargazers_count</th>\n",
       "      <th>created_at</th>\n",
       "      <th>open_issues_count</th>\n",
       "      <th>name</th>\n",
       "    </tr>\n",
       "  </thead>\n",
       "  <tbody>\n",
       "    <tr>\n",
       "      <th>0</th>\n",
       "      <td>ACT: Designing Sustainable Computer Systems wi...</td>\n",
       "      <td>https://github.com/facebookresearch/ACT</td>\n",
       "      <td>8</td>\n",
       "      <td>30</td>\n",
       "      <td>2022-05-13 18:41:55</td>\n",
       "      <td>0</td>\n",
       "      <td>ACT</td>\n",
       "    </tr>\n",
       "    <tr>\n",
       "      <th>1</th>\n",
       "      <td>Cross-Domain Adaptive Teacher for Object Detec...</td>\n",
       "      <td>https://github.com/facebookresearch/adaptive_t...</td>\n",
       "      <td>18</td>\n",
       "      <td>118</td>\n",
       "      <td>2022-04-09 00:45:38</td>\n",
       "      <td>29</td>\n",
       "      <td>adaptive_teacher</td>\n",
       "    </tr>\n",
       "    <tr>\n",
       "      <th>2</th>\n",
       "      <td>On the Efficacy of Adversarial Data Collection...</td>\n",
       "      <td>https://github.com/facebookresearch/aqa-study</td>\n",
       "      <td>2</td>\n",
       "      <td>9</td>\n",
       "      <td>2021-06-01 21:49:49</td>\n",
       "      <td>0</td>\n",
       "      <td>aqa-study</td>\n",
       "    </tr>\n",
       "    <tr>\n",
       "      <th>3</th>\n",
       "      <td>Aria Data Tools</td>\n",
       "      <td>https://github.com/facebookresearch/Aria_data_...</td>\n",
       "      <td>17</td>\n",
       "      <td>95</td>\n",
       "      <td>2022-05-10 04:08:43</td>\n",
       "      <td>3</td>\n",
       "      <td>Aria_data_tools</td>\n",
       "    </tr>\n",
       "    <tr>\n",
       "      <th>4</th>\n",
       "      <td>Aria Pilot Dataset</td>\n",
       "      <td>https://github.com/facebookresearch/Aria_data_...</td>\n",
       "      <td>17</td>\n",
       "      <td>95</td>\n",
       "      <td>2022-05-10 04:08:43</td>\n",
       "      <td>3</td>\n",
       "      <td>Aria_data_tools</td>\n",
       "    </tr>\n",
       "    <tr>\n",
       "      <th>...</th>\n",
       "      <td>...</td>\n",
       "      <td>...</td>\n",
       "      <td>...</td>\n",
       "      <td>...</td>\n",
       "      <td>...</td>\n",
       "      <td>...</td>\n",
       "      <td>...</td>\n",
       "    </tr>\n",
       "    <tr>\n",
       "      <th>1332</th>\n",
       "      <td>LayoutLMv2: Multi-modal Pre-training for Visua...</td>\n",
       "      <td>https://github.com/facebookresearch/data2vec_v...</td>\n",
       "      <td>7</td>\n",
       "      <td>69</td>\n",
       "      <td>2022-03-30 19:53:47</td>\n",
       "      <td>0</td>\n",
       "      <td>data2vec_vision</td>\n",
       "    </tr>\n",
       "    <tr>\n",
       "      <th>1333</th>\n",
       "      <td>MiniLMv2: Multi-Head Self-Attention Relation D...</td>\n",
       "      <td>https://github.com/facebookresearch/data2vec_v...</td>\n",
       "      <td>7</td>\n",
       "      <td>69</td>\n",
       "      <td>2022-03-30 19:53:47</td>\n",
       "      <td>0</td>\n",
       "      <td>data2vec_vision</td>\n",
       "    </tr>\n",
       "    <tr>\n",
       "      <th>1334</th>\n",
       "      <td>UniSpeech: Unified Speech Representation Learn...</td>\n",
       "      <td>https://github.com/facebookresearch/data2vec_v...</td>\n",
       "      <td>7</td>\n",
       "      <td>69</td>\n",
       "      <td>2022-03-30 19:53:47</td>\n",
       "      <td>0</td>\n",
       "      <td>data2vec_vision</td>\n",
       "    </tr>\n",
       "    <tr>\n",
       "      <th>1335</th>\n",
       "      <td>LayoutXLM: Multimodal Pre-training for Multili...</td>\n",
       "      <td>https://github.com/facebookresearch/data2vec_v...</td>\n",
       "      <td>7</td>\n",
       "      <td>69</td>\n",
       "      <td>2022-03-30 19:53:47</td>\n",
       "      <td>0</td>\n",
       "      <td>data2vec_vision</td>\n",
       "    </tr>\n",
       "    <tr>\n",
       "      <th>1336</th>\n",
       "      <td>CocoaLumberjack class diagram</td>\n",
       "      <td>https://github.com/CocoaLumberjack/CocoaLumber...</td>\n",
       "      <td>2256</td>\n",
       "      <td>12948</td>\n",
       "      <td>2011-03-31 02:38:39</td>\n",
       "      <td>10</td>\n",
       "      <td>CocoaLumberjack</td>\n",
       "    </tr>\n",
       "  </tbody>\n",
       "</table>\n",
       "<p>1337 rows × 7 columns</p>\n",
       "</div>"
      ],
      "text/plain": [
       "                                                  title  \\\n",
       "0     ACT: Designing Sustainable Computer Systems wi...   \n",
       "1     Cross-Domain Adaptive Teacher for Object Detec...   \n",
       "2     On the Efficacy of Adversarial Data Collection...   \n",
       "3                                       Aria Data Tools   \n",
       "4                                    Aria Pilot Dataset   \n",
       "...                                                 ...   \n",
       "1332  LayoutLMv2: Multi-modal Pre-training for Visua...   \n",
       "1333  MiniLMv2: Multi-Head Self-Attention Relation D...   \n",
       "1334  UniSpeech: Unified Speech Representation Learn...   \n",
       "1335  LayoutXLM: Multimodal Pre-training for Multili...   \n",
       "1336                      CocoaLumberjack class diagram   \n",
       "\n",
       "                                              repo_link  forks  \\\n",
       "0               https://github.com/facebookresearch/ACT      8   \n",
       "1     https://github.com/facebookresearch/adaptive_t...     18   \n",
       "2         https://github.com/facebookresearch/aqa-study      2   \n",
       "3     https://github.com/facebookresearch/Aria_data_...     17   \n",
       "4     https://github.com/facebookresearch/Aria_data_...     17   \n",
       "...                                                 ...    ...   \n",
       "1332  https://github.com/facebookresearch/data2vec_v...      7   \n",
       "1333  https://github.com/facebookresearch/data2vec_v...      7   \n",
       "1334  https://github.com/facebookresearch/data2vec_v...      7   \n",
       "1335  https://github.com/facebookresearch/data2vec_v...      7   \n",
       "1336  https://github.com/CocoaLumberjack/CocoaLumber...   2256   \n",
       "\n",
       "      stargazers_count           created_at  open_issues_count  \\\n",
       "0                   30  2022-05-13 18:41:55                  0   \n",
       "1                  118  2022-04-09 00:45:38                 29   \n",
       "2                    9  2021-06-01 21:49:49                  0   \n",
       "3                   95  2022-05-10 04:08:43                  3   \n",
       "4                   95  2022-05-10 04:08:43                  3   \n",
       "...                ...                  ...                ...   \n",
       "1332                69  2022-03-30 19:53:47                  0   \n",
       "1333                69  2022-03-30 19:53:47                  0   \n",
       "1334                69  2022-03-30 19:53:47                  0   \n",
       "1335                69  2022-03-30 19:53:47                  0   \n",
       "1336             12948  2011-03-31 02:38:39                 10   \n",
       "\n",
       "                  name  \n",
       "0                  ACT  \n",
       "1     adaptive_teacher  \n",
       "2            aqa-study  \n",
       "3      Aria_data_tools  \n",
       "4      Aria_data_tools  \n",
       "...                ...  \n",
       "1332   data2vec_vision  \n",
       "1333   data2vec_vision  \n",
       "1334   data2vec_vision  \n",
       "1335   data2vec_vision  \n",
       "1336   CocoaLumberjack  \n",
       "\n",
       "[1337 rows x 7 columns]"
      ]
     },
     "execution_count": 14,
     "metadata": {},
     "output_type": "execute_result"
    }
   ],
   "source": [
    "Extractor.loadCSVFromOutput(\"\")"
   ]
  },
  {
   "cell_type": "code",
   "execution_count": null,
   "id": "b77c6bbe-e7d4-48af-b949-e31fe16dd2c8",
   "metadata": {},
   "outputs": [],
   "source": []
  }
 ],
 "metadata": {
  "kernelspec": {
   "display_name": "Python 3 (ipykernel)",
   "language": "python",
   "name": "python3"
  },
  "language_info": {
   "codemirror_mode": {
    "name": "ipython",
    "version": 3
   },
   "file_extension": ".py",
   "mimetype": "text/x-python",
   "name": "python",
   "nbconvert_exporter": "python",
   "pygments_lexer": "ipython3",
   "version": "3.8.16"
  }
 },
 "nbformat": 4,
 "nbformat_minor": 5
}
