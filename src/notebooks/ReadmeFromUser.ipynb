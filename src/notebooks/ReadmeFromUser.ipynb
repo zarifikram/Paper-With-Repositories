{
 "cells": [
  {
   "cell_type": "code",
   "execution_count": 1,
   "id": "2bba688a-5491-43d2-84d9-1bd275b99959",
   "metadata": {},
   "outputs": [
    {
     "name": "stdout",
     "output_type": "stream",
     "text": [
      "current working dir/Volumes/Zarif/myStuff/research/repoPaper/src\n"
     ]
    }
   ],
   "source": [
    "import requests\n",
    "from bs4 import BeautifulSoup\n",
    "import pandas as pd\n",
    "from tqdm import tqdm\n",
    "import os, sys\n",
    "exec(open(\"init_notebook.py\").read())\n",
    "from DataTools import DataTools\n",
    "from RepoTools import RepoTools\n",
    "from Extractor import Extractor"
   ]
  },
  {
   "cell_type": "code",
   "execution_count": 2,
   "id": "f2f594bd-287f-41ed-a0fe-a74e3198b9f2",
   "metadata": {},
   "outputs": [],
   "source": [
    "%load_ext autoreload\n",
    "%autoreload 2"
   ]
  },
  {
   "cell_type": "markdown",
   "id": "f4b86b98-4a9e-4283-8c86-d1b759694ab0",
   "metadata": {
    "tags": []
   },
   "source": [
    "### Run this to get `extendedData` from Scratch"
   ]
  },
  {
   "cell_type": "code",
   "execution_count": 1,
   "id": "307ff17c-0501-4335-8327-da33c5ff550e",
   "metadata": {},
   "outputs": [],
   "source": [
    "# set company name\n",
    "companyName = \"sony\""
   ]
  },
  {
   "cell_type": "code",
   "execution_count": 412,
   "id": "9f8bdac2-d8a8-43d4-a90e-e2b61b0a481d",
   "metadata": {},
   "outputs": [
    {
     "name": "stderr",
     "output_type": "stream",
     "text": [
      "  0%|                                                                                                                                                 | 0/7 [00:00<?, ?it/s]"
     ]
    },
    {
     "name": "stdout",
     "output_type": "stream",
     "text": [
      "Page: 0/7\n"
     ]
    },
    {
     "name": "stderr",
     "output_type": "stream",
     "text": [
      " 14%|███████████████████▌                                                                                                                     | 1/7 [00:00<00:04,  1.32it/s]"
     ]
    },
    {
     "name": "stdout",
     "output_type": "stream",
     "text": [
      "Page: 1/7\n"
     ]
    },
    {
     "name": "stderr",
     "output_type": "stream",
     "text": [
      " 29%|███████████████████████████████████████▏                                                                                                 | 2/7 [00:01<00:03,  1.33it/s]"
     ]
    },
    {
     "name": "stdout",
     "output_type": "stream",
     "text": [
      "Page: 2/7\n"
     ]
    },
    {
     "name": "stderr",
     "output_type": "stream",
     "text": [
      " 43%|██████████████████████████████████████████████████████████▋                                                                              | 3/7 [00:02<00:02,  1.35it/s]"
     ]
    },
    {
     "name": "stdout",
     "output_type": "stream",
     "text": [
      "Page: 3/7\n"
     ]
    },
    {
     "name": "stderr",
     "output_type": "stream",
     "text": [
      " 57%|██████████████████████████████████████████████████████████████████████████████▎                                                          | 4/7 [00:02<00:02,  1.37it/s]"
     ]
    },
    {
     "name": "stdout",
     "output_type": "stream",
     "text": [
      "Page: 4/7\n"
     ]
    },
    {
     "name": "stderr",
     "output_type": "stream",
     "text": [
      " 71%|█████████████████████████████████████████████████████████████████████████████████████████████████▊                                       | 5/7 [00:03<00:01,  1.37it/s]"
     ]
    },
    {
     "name": "stdout",
     "output_type": "stream",
     "text": [
      "Page: 5/7\n"
     ]
    },
    {
     "name": "stderr",
     "output_type": "stream",
     "text": [
      " 86%|█████████████████████████████████████████████████████████████████████████████████████████████████████████████████████▍                   | 6/7 [00:04<00:00,  1.37it/s]"
     ]
    },
    {
     "name": "stdout",
     "output_type": "stream",
     "text": [
      "Page: 6/7\n"
     ]
    },
    {
     "name": "stderr",
     "output_type": "stream",
     "text": [
      "100%|█████████████████████████████████████████████████████████████████████████████████████████████████████████████████████████████████████████| 7/7 [00:04<00:00,  1.41it/s]\n"
     ]
    },
    {
     "name": "stdout",
     "output_type": "stream",
     "text": [
      "Fetching the readmes from the repos\n"
     ]
    },
    {
     "name": "stderr",
     "output_type": "stream",
     "text": [
      "100%|█████████████████████████████████████████████████████████████████████████████████████████████████████████████████████████████████████| 197/197 [01:25<00:00,  2.30it/s]\n"
     ]
    },
    {
     "name": "stdout",
     "output_type": "stream",
     "text": [
      "Fetching the extra github links and readmes from the repoWithReadme\n",
      "Found more than 5 github links in https://github.com/apple/llvm-monorepo-root. Ignoring all of them. Please check the readme\n",
      "Found more than 5 github links in https://github.com/apple/llvm-project-v5. Ignoring all of them. Please check the readme\n",
      "Found more than 5 github links in https://github.com/apple/MaterialX. Ignoring all of them. Please check the readme\n",
      "Found more than 5 github links in https://github.com/apple/ml-covid-mobility. Ignoring all of them. Please check the readme\n",
      "Found more than 5 github links in https://github.com/apple/ml-facelit. Ignoring all of them. Please check the readme\n",
      "Found more than 5 github links in https://github.com/apple/ml-no-token-left-behind. Ignoring all of them. Please check the readme\n",
      "Found more than 5 github links in https://github.com/apple/ml-stable-diffusion. Ignoring all of them. Please check the readme\n",
      "Found more than 5 github links in https://github.com/apple/swift-algorithms. Ignoring all of them. Please check the readme\n",
      "Found more than 5 github links in https://github.com/apple/swift-async-algorithms. Ignoring all of them. Please check the readme\n",
      "Found more than 5 github links in https://github.com/apple/swift-atomics. Ignoring all of them. Please check the readme\n",
      "Found more than 5 github links in https://github.com/apple/swift-cassandra-client. Ignoring all of them. Please check the readme\n",
      "Found more than 5 github links in https://github.com/apple/swift-cluster-membership. Ignoring all of them. Please check the readme\n",
      "Found more than 5 github links in https://github.com/apple/swift-cmark. Ignoring all of them. Please check the readme\n",
      "Found more than 5 github links in https://github.com/apple/swift-collections. Ignoring all of them. Please check the readme\n",
      "Found more than 5 github links in https://github.com/apple/swift-collections-benchmark. Ignoring all of them. Please check the readme\n",
      "Found more than 5 github links in https://github.com/apple/swift-distributed-tracing. Ignoring all of them. Please check the readme\n",
      "Found more than 5 github links in https://github.com/apple/swift-distributed-tracing-extras. Ignoring all of them. Please check the readme\n",
      "Found more than 5 github links in https://github.com/apple/swift-docc. Ignoring all of them. Please check the readme\n",
      "Found more than 5 github links in https://github.com/apple/swift-driver. Ignoring all of them. Please check the readme\n",
      "Found more than 5 github links in https://github.com/apple/swift-foundation. Ignoring all of them. Please check the readme\n",
      "Found more than 5 github links in https://github.com/apple/swift-log. Ignoring all of them. Please check the readme\n",
      "Found more than 5 github links in https://github.com/apple/swift-markdown. Ignoring all of them. Please check the readme\n",
      "Found more than 5 github links in https://github.com/apple/swift-metrics. Ignoring all of them. Please check the readme\n",
      "Found more than 5 github links in https://github.com/apple/swift-nio. Ignoring all of them. Please check the readme\n",
      "Found more than 5 github links in https://github.com/apple/swift-nio-http2. Ignoring all of them. Please check the readme\n",
      "Found more than 5 github links in https://github.com/apple/swift-nio-transport-services. Ignoring all of them. Please check the readme\n",
      "Found more than 5 github links in https://github.com/apple/swift-protobuf. Ignoring all of them. Please check the readme\n",
      "Found more than 5 github links in https://github.com/apple/swift-source-compat-suite. Ignoring all of them. Please check the readme\n"
     ]
    },
    {
     "name": "stderr",
     "output_type": "stream",
     "text": [
      " 83%|███████████████████████████████████████████████████████████████████████████████████████████████████████████████▋                      | 95/114 [00:46<00:08,  2.37it/s]"
     ]
    },
    {
     "name": "stdout",
     "output_type": "stream",
     "text": [
      "Could not find repository for this link : prlz77/ResNeXt\n"
     ]
    },
    {
     "name": "stderr",
     "output_type": "stream",
     "text": [
      " 88%|████████████████████████████████████████████████████████████████████████████████████████████████████████████████████▋                | 100/114 [00:49<00:07,  1.80it/s]"
     ]
    },
    {
     "name": "stdout",
     "output_type": "stream",
     "text": [
      "Could not find repository for this link : settings/tokens\n"
     ]
    },
    {
     "name": "stderr",
     "output_type": "stream",
     "text": [
      "100%|█████████████████████████████████████████████████████████████████████████████████████████████████████████████████████████████████████| 114/114 [00:57<00:00,  1.98it/s]\n"
     ]
    },
    {
     "name": "stdout",
     "output_type": "stream",
     "text": [
      "Fetching the readmes from the repos\n"
     ]
    },
    {
     "name": "stderr",
     "output_type": "stream",
     "text": [
      "100%|███████████████████████████████████████████████████████████████████████████████████████████████████████████████████████████████████████| 43/43 [00:18<00:00,  2.38it/s]\n",
      " 20%|██████████████████████████▎                                                                                                           | 46/234 [00:10<01:31,  2.05it/s]"
     ]
    },
    {
     "name": "stdout",
     "output_type": "stream",
     "text": [
      "Found more than 10 arxiv links in the readme of https://github.com/apple/ml-cvnets. Ignoring the links\n"
     ]
    },
    {
     "name": "stderr",
     "output_type": "stream",
     "text": [
      " 88%|█████████████████████████████████████████████████████████████████████████████████████████████████████████████████████▋               | 207/234 [01:14<00:10,  2.67it/s]"
     ]
    },
    {
     "name": "stdout",
     "output_type": "stream",
     "text": [
      "Found more than 10 arxiv links in the readme of https://github.com/huggingface/transformers. Ignoring the links\n"
     ]
    },
    {
     "name": "stderr",
     "output_type": "stream",
     "text": [
      " 97%|█████████████████████████████████████████████████████████████████████████████████████████████████████████████████████████████████▌   | 228/234 [01:23<00:02,  2.80it/s]"
     ]
    },
    {
     "name": "stdout",
     "output_type": "stream",
     "text": [
      "Found more than 10 arxiv links in the readme of https://github.com/rail-berkeley/rlkit. Ignoring the links\n"
     ]
    },
    {
     "name": "stderr",
     "output_type": "stream",
     "text": [
      "100%|█████████████████████████████████████████████████████████████████████████████████████████████████████████████████████████████████████| 234/234 [01:24<00:00,  2.77it/s]\n"
     ]
    }
   ],
   "source": [
    "extendedData = RepoTools.savePaperNameFromGithubUser(companyName, saveRepoWithReadme=True, saveExtendedRepoWithReadme=True)"
   ]
  },
  {
   "cell_type": "markdown",
   "id": "6fce40b3-2ca7-4222-a16d-e5c3ce8592b7",
   "metadata": {},
   "source": [
    "### Or this, if you have repoDataWithReadme saved already and only need to fetch papers from them "
   ]
  },
  {
   "cell_type": "code",
   "execution_count": 5,
   "id": "13f6040f-a6b1-416b-bbc9-309e76f3aeac",
   "metadata": {},
   "outputs": [
    {
     "name": "stderr",
     "output_type": "stream",
     "text": [
      "  6%|███▉                                                               | 4/69 [00:09<02:40,  2.46s/it]\n"
     ]
    },
    {
     "ename": "KeyboardInterrupt",
     "evalue": "",
     "output_type": "error",
     "traceback": [
      "\u001b[0;31m---------------------------------------------------------------------------\u001b[0m",
      "\u001b[0;31mKeyboardInterrupt\u001b[0m                         Traceback (most recent call last)",
      "Cell \u001b[0;32mIn[5], line 1\u001b[0m\n\u001b[0;32m----> 1\u001b[0m extendedData \u001b[38;5;241m=\u001b[39m \u001b[43mRepoTools\u001b[49m\u001b[38;5;241;43m.\u001b[39;49m\u001b[43mloadReposWithReadmeAndGetExtendedData\u001b[49m\u001b[43m(\u001b[49m\u001b[43mcompanyName\u001b[49m\u001b[43m,\u001b[49m\u001b[43m \u001b[49m\u001b[43msaveExtendedRepoWithReadme\u001b[49m\u001b[38;5;241;43m=\u001b[39;49m\u001b[38;5;28;43;01mTrue\u001b[39;49;00m\u001b[43m)\u001b[49m\n",
      "File \u001b[0;32m/Volumes/Zarif/myStuff/research/repoPaper/src/RepoTools.py:310\u001b[0m, in \u001b[0;36mRepoTools.loadReposWithReadmeAndGetExtendedData\u001b[0;34m(username, saveExtendedRepoWithReadme)\u001b[0m\n\u001b[1;32m    307\u001b[0m \u001b[38;5;129m@staticmethod\u001b[39m\n\u001b[1;32m    308\u001b[0m \u001b[38;5;28;01mdef\u001b[39;00m \u001b[38;5;21mloadReposWithReadmeAndGetExtendedData\u001b[39m(username, saveExtendedRepoWithReadme):\n\u001b[1;32m    309\u001b[0m     repoWithReadmes \u001b[38;5;241m=\u001b[39m RepoTools\u001b[38;5;241m.\u001b[39mloadPickle(\u001b[38;5;124mf\u001b[39m\u001b[38;5;124m'\u001b[39m\u001b[38;5;132;01m{\u001b[39;00musername\u001b[38;5;132;01m}\u001b[39;00m\u001b[38;5;124mRepoWithReadmes\u001b[39m\u001b[38;5;124m'\u001b[39m)\n\u001b[0;32m--> 310\u001b[0m     extendedRepoWithReadmesAndData \u001b[38;5;241m=\u001b[39m \u001b[43mRepoTools\u001b[49m\u001b[38;5;241;43m.\u001b[39;49m\u001b[43mgetDataFromReadmes\u001b[49m\u001b[43m(\u001b[49m\u001b[43mrepoWithReadmes\u001b[49m\u001b[43m)\u001b[49m\n\u001b[1;32m    311\u001b[0m     \u001b[38;5;28;01mif\u001b[39;00m saveExtendedRepoWithReadme:\n\u001b[1;32m    312\u001b[0m         RepoTools\u001b[38;5;241m.\u001b[39msaveAsPickle(extendedRepoWithReadmesAndData, \u001b[38;5;124m\"\u001b[39m\u001b[38;5;124mextended_\u001b[39m\u001b[38;5;124m\"\u001b[39m \u001b[38;5;241m+\u001b[39m \u001b[38;5;124mf\u001b[39m\u001b[38;5;124m'\u001b[39m\u001b[38;5;132;01m{\u001b[39;00musername\u001b[38;5;132;01m}\u001b[39;00m\u001b[38;5;124mRepoWithReadmes\u001b[39m\u001b[38;5;124m'\u001b[39m)\n",
      "File \u001b[0;32m/Volumes/Zarif/myStuff/research/repoPaper/src/RepoTools.py:87\u001b[0m, in \u001b[0;36mRepoTools.getDataFromReadmes\u001b[0;34m(repoWithReadmes)\u001b[0m\n\u001b[1;32m     85\u001b[0m paperTitles \u001b[38;5;241m=\u001b[39m RepoTools\u001b[38;5;241m.\u001b[39mgetPaperTitlesFromReadme(readme)\n\u001b[1;32m     86\u001b[0m arxivLinks \u001b[38;5;241m=\u001b[39m RepoTools\u001b[38;5;241m.\u001b[39mgetArxivLinksFromReadme(readme)\n\u001b[0;32m---> 87\u001b[0m arxivPaperTitles \u001b[38;5;241m=\u001b[39m \u001b[43mRepoTools\u001b[49m\u001b[38;5;241;43m.\u001b[39;49m\u001b[43mgetPaperTitlesFromArxivLinks\u001b[49m\u001b[43m(\u001b[49m\u001b[43mrepoName\u001b[49m\u001b[43m,\u001b[49m\u001b[43m \u001b[49m\u001b[43marxivLinks\u001b[49m\u001b[43m)\u001b[49m\n\u001b[1;32m     89\u001b[0m repoWithReadme\u001b[38;5;241m.\u001b[39mupdate({\u001b[38;5;124m\"\u001b[39m\u001b[38;5;124mpapers\u001b[39m\u001b[38;5;124m\"\u001b[39m: paperTitles, \u001b[38;5;124m\"\u001b[39m\u001b[38;5;124marxivLinks\u001b[39m\u001b[38;5;124m\"\u001b[39m: arxivLinks, \u001b[38;5;124m\"\u001b[39m\u001b[38;5;124marxivPaperTitles\u001b[39m\u001b[38;5;124m\"\u001b[39m: arxivPaperTitles})\n\u001b[1;32m     90\u001b[0m extendedRepoWithReadMes\u001b[38;5;241m.\u001b[39mappend(repoWithReadme)\n",
      "File \u001b[0;32m/Volumes/Zarif/myStuff/research/repoPaper/src/RepoTools.py:260\u001b[0m, in \u001b[0;36mRepoTools.getPaperTitlesFromArxivLinks\u001b[0;34m(repoName, arxivLinks)\u001b[0m\n\u001b[1;32m    258\u001b[0m     \u001b[38;5;28;01mreturn\u001b[39;00m paperTitles\n\u001b[1;32m    259\u001b[0m \u001b[38;5;28;01mfor\u001b[39;00m arxivLink \u001b[38;5;129;01min\u001b[39;00m arxivLinks:\n\u001b[0;32m--> 260\u001b[0m     paperTitles\u001b[38;5;241m.\u001b[39mappend(\u001b[43mRepoTools\u001b[49m\u001b[38;5;241;43m.\u001b[39;49m\u001b[43mgetPaperTitleFromArxivLink\u001b[49m\u001b[43m(\u001b[49m\u001b[43marxivLink\u001b[49m\u001b[43m)\u001b[49m)\n\u001b[1;32m    262\u001b[0m \u001b[38;5;28;01mreturn\u001b[39;00m paperTitles\n",
      "File \u001b[0;32m/Volumes/Zarif/myStuff/research/repoPaper/src/RepoTools.py:271\u001b[0m, in \u001b[0;36mRepoTools.getPaperTitleFromArxivLink\u001b[0;34m(arxivLink)\u001b[0m\n\u001b[1;32m    264\u001b[0m \u001b[38;5;129m@staticmethod\u001b[39m\n\u001b[1;32m    265\u001b[0m \u001b[38;5;28;01mdef\u001b[39;00m \u001b[38;5;21mgetPaperTitleFromArxivLink\u001b[39m(arxivLink):\n\u001b[1;32m    266\u001b[0m     \u001b[38;5;124;03m\"\"\"\u001b[39;00m\n\u001b[1;32m    267\u001b[0m \u001b[38;5;124;03m    Gets the paper title from the arxiv link\u001b[39;00m\n\u001b[1;32m    268\u001b[0m \u001b[38;5;124;03m    args: arxivLink\u001b[39;00m\n\u001b[1;32m    269\u001b[0m \u001b[38;5;124;03m    returns: paperTitle\u001b[39;00m\n\u001b[1;32m    270\u001b[0m \u001b[38;5;124;03m    \"\"\"\u001b[39;00m\n\u001b[0;32m--> 271\u001b[0m     response \u001b[38;5;241m=\u001b[39m \u001b[43mrequests\u001b[49m\u001b[38;5;241;43m.\u001b[39;49m\u001b[43mget\u001b[49m\u001b[43m(\u001b[49m\u001b[43marxivLink\u001b[49m\u001b[43m)\u001b[49m\n\u001b[1;32m    273\u001b[0m     \u001b[38;5;66;03m# extract paper title using regular expressions\u001b[39;00m\n\u001b[1;32m    274\u001b[0m     title_regex \u001b[38;5;241m=\u001b[39m re\u001b[38;5;241m.\u001b[39mcompile(\u001b[38;5;124m'\u001b[39m\u001b[38;5;124m<title>\u001b[39m\u001b[38;5;124m\\\u001b[39m\u001b[38;5;124m[\u001b[39m\u001b[38;5;124m\\\u001b[39m\u001b[38;5;124md\u001b[39m\u001b[38;5;132;01m{4}\u001b[39;00m\u001b[38;5;124m.\u001b[39m\u001b[38;5;124m\\\u001b[39m\u001b[38;5;124md\u001b[39m\u001b[38;5;124m{\u001b[39m\u001b[38;5;124m4,5}]\u001b[39m\u001b[38;5;124m\\\u001b[39m\u001b[38;5;124ms*(.*)</title>\u001b[39m\u001b[38;5;124m'\u001b[39m)\n",
      "File \u001b[0;32m~/opt/anaconda3/envs/paper/lib/python3.8/site-packages/requests/api.py:73\u001b[0m, in \u001b[0;36mget\u001b[0;34m(url, params, **kwargs)\u001b[0m\n\u001b[1;32m     62\u001b[0m \u001b[38;5;28;01mdef\u001b[39;00m \u001b[38;5;21mget\u001b[39m(url, params\u001b[38;5;241m=\u001b[39m\u001b[38;5;28;01mNone\u001b[39;00m, \u001b[38;5;241m*\u001b[39m\u001b[38;5;241m*\u001b[39mkwargs):\n\u001b[1;32m     63\u001b[0m     \u001b[38;5;124mr\u001b[39m\u001b[38;5;124;03m\"\"\"Sends a GET request.\u001b[39;00m\n\u001b[1;32m     64\u001b[0m \n\u001b[1;32m     65\u001b[0m \u001b[38;5;124;03m    :param url: URL for the new :class:`Request` object.\u001b[39;00m\n\u001b[0;32m   (...)\u001b[0m\n\u001b[1;32m     70\u001b[0m \u001b[38;5;124;03m    :rtype: requests.Response\u001b[39;00m\n\u001b[1;32m     71\u001b[0m \u001b[38;5;124;03m    \"\"\"\u001b[39;00m\n\u001b[0;32m---> 73\u001b[0m     \u001b[38;5;28;01mreturn\u001b[39;00m \u001b[43mrequest\u001b[49m\u001b[43m(\u001b[49m\u001b[38;5;124;43m\"\u001b[39;49m\u001b[38;5;124;43mget\u001b[39;49m\u001b[38;5;124;43m\"\u001b[39;49m\u001b[43m,\u001b[49m\u001b[43m \u001b[49m\u001b[43murl\u001b[49m\u001b[43m,\u001b[49m\u001b[43m \u001b[49m\u001b[43mparams\u001b[49m\u001b[38;5;241;43m=\u001b[39;49m\u001b[43mparams\u001b[49m\u001b[43m,\u001b[49m\u001b[43m \u001b[49m\u001b[38;5;241;43m*\u001b[39;49m\u001b[38;5;241;43m*\u001b[39;49m\u001b[43mkwargs\u001b[49m\u001b[43m)\u001b[49m\n",
      "File \u001b[0;32m~/opt/anaconda3/envs/paper/lib/python3.8/site-packages/requests/api.py:59\u001b[0m, in \u001b[0;36mrequest\u001b[0;34m(method, url, **kwargs)\u001b[0m\n\u001b[1;32m     55\u001b[0m \u001b[38;5;66;03m# By using the 'with' statement we are sure the session is closed, thus we\u001b[39;00m\n\u001b[1;32m     56\u001b[0m \u001b[38;5;66;03m# avoid leaving sockets open which can trigger a ResourceWarning in some\u001b[39;00m\n\u001b[1;32m     57\u001b[0m \u001b[38;5;66;03m# cases, and look like a memory leak in others.\u001b[39;00m\n\u001b[1;32m     58\u001b[0m \u001b[38;5;28;01mwith\u001b[39;00m sessions\u001b[38;5;241m.\u001b[39mSession() \u001b[38;5;28;01mas\u001b[39;00m session:\n\u001b[0;32m---> 59\u001b[0m     \u001b[38;5;28;01mreturn\u001b[39;00m \u001b[43msession\u001b[49m\u001b[38;5;241;43m.\u001b[39;49m\u001b[43mrequest\u001b[49m\u001b[43m(\u001b[49m\u001b[43mmethod\u001b[49m\u001b[38;5;241;43m=\u001b[39;49m\u001b[43mmethod\u001b[49m\u001b[43m,\u001b[49m\u001b[43m \u001b[49m\u001b[43murl\u001b[49m\u001b[38;5;241;43m=\u001b[39;49m\u001b[43murl\u001b[49m\u001b[43m,\u001b[49m\u001b[43m \u001b[49m\u001b[38;5;241;43m*\u001b[39;49m\u001b[38;5;241;43m*\u001b[39;49m\u001b[43mkwargs\u001b[49m\u001b[43m)\u001b[49m\n",
      "File \u001b[0;32m~/opt/anaconda3/envs/paper/lib/python3.8/site-packages/requests/sessions.py:587\u001b[0m, in \u001b[0;36mSession.request\u001b[0;34m(self, method, url, params, data, headers, cookies, files, auth, timeout, allow_redirects, proxies, hooks, stream, verify, cert, json)\u001b[0m\n\u001b[1;32m    582\u001b[0m send_kwargs \u001b[38;5;241m=\u001b[39m {\n\u001b[1;32m    583\u001b[0m     \u001b[38;5;124m\"\u001b[39m\u001b[38;5;124mtimeout\u001b[39m\u001b[38;5;124m\"\u001b[39m: timeout,\n\u001b[1;32m    584\u001b[0m     \u001b[38;5;124m\"\u001b[39m\u001b[38;5;124mallow_redirects\u001b[39m\u001b[38;5;124m\"\u001b[39m: allow_redirects,\n\u001b[1;32m    585\u001b[0m }\n\u001b[1;32m    586\u001b[0m send_kwargs\u001b[38;5;241m.\u001b[39mupdate(settings)\n\u001b[0;32m--> 587\u001b[0m resp \u001b[38;5;241m=\u001b[39m \u001b[38;5;28;43mself\u001b[39;49m\u001b[38;5;241;43m.\u001b[39;49m\u001b[43msend\u001b[49m\u001b[43m(\u001b[49m\u001b[43mprep\u001b[49m\u001b[43m,\u001b[49m\u001b[43m \u001b[49m\u001b[38;5;241;43m*\u001b[39;49m\u001b[38;5;241;43m*\u001b[39;49m\u001b[43msend_kwargs\u001b[49m\u001b[43m)\u001b[49m\n\u001b[1;32m    589\u001b[0m \u001b[38;5;28;01mreturn\u001b[39;00m resp\n",
      "File \u001b[0;32m~/opt/anaconda3/envs/paper/lib/python3.8/site-packages/requests/sessions.py:701\u001b[0m, in \u001b[0;36mSession.send\u001b[0;34m(self, request, **kwargs)\u001b[0m\n\u001b[1;32m    698\u001b[0m start \u001b[38;5;241m=\u001b[39m preferred_clock()\n\u001b[1;32m    700\u001b[0m \u001b[38;5;66;03m# Send the request\u001b[39;00m\n\u001b[0;32m--> 701\u001b[0m r \u001b[38;5;241m=\u001b[39m \u001b[43madapter\u001b[49m\u001b[38;5;241;43m.\u001b[39;49m\u001b[43msend\u001b[49m\u001b[43m(\u001b[49m\u001b[43mrequest\u001b[49m\u001b[43m,\u001b[49m\u001b[43m \u001b[49m\u001b[38;5;241;43m*\u001b[39;49m\u001b[38;5;241;43m*\u001b[39;49m\u001b[43mkwargs\u001b[49m\u001b[43m)\u001b[49m\n\u001b[1;32m    703\u001b[0m \u001b[38;5;66;03m# Total elapsed time of the request (approximately)\u001b[39;00m\n\u001b[1;32m    704\u001b[0m elapsed \u001b[38;5;241m=\u001b[39m preferred_clock() \u001b[38;5;241m-\u001b[39m start\n",
      "File \u001b[0;32m~/opt/anaconda3/envs/paper/lib/python3.8/site-packages/requests/adapters.py:489\u001b[0m, in \u001b[0;36mHTTPAdapter.send\u001b[0;34m(self, request, stream, timeout, verify, cert, proxies)\u001b[0m\n\u001b[1;32m    487\u001b[0m \u001b[38;5;28;01mtry\u001b[39;00m:\n\u001b[1;32m    488\u001b[0m     \u001b[38;5;28;01mif\u001b[39;00m \u001b[38;5;129;01mnot\u001b[39;00m chunked:\n\u001b[0;32m--> 489\u001b[0m         resp \u001b[38;5;241m=\u001b[39m \u001b[43mconn\u001b[49m\u001b[38;5;241;43m.\u001b[39;49m\u001b[43murlopen\u001b[49m\u001b[43m(\u001b[49m\n\u001b[1;32m    490\u001b[0m \u001b[43m            \u001b[49m\u001b[43mmethod\u001b[49m\u001b[38;5;241;43m=\u001b[39;49m\u001b[43mrequest\u001b[49m\u001b[38;5;241;43m.\u001b[39;49m\u001b[43mmethod\u001b[49m\u001b[43m,\u001b[49m\n\u001b[1;32m    491\u001b[0m \u001b[43m            \u001b[49m\u001b[43murl\u001b[49m\u001b[38;5;241;43m=\u001b[39;49m\u001b[43murl\u001b[49m\u001b[43m,\u001b[49m\n\u001b[1;32m    492\u001b[0m \u001b[43m            \u001b[49m\u001b[43mbody\u001b[49m\u001b[38;5;241;43m=\u001b[39;49m\u001b[43mrequest\u001b[49m\u001b[38;5;241;43m.\u001b[39;49m\u001b[43mbody\u001b[49m\u001b[43m,\u001b[49m\n\u001b[1;32m    493\u001b[0m \u001b[43m            \u001b[49m\u001b[43mheaders\u001b[49m\u001b[38;5;241;43m=\u001b[39;49m\u001b[43mrequest\u001b[49m\u001b[38;5;241;43m.\u001b[39;49m\u001b[43mheaders\u001b[49m\u001b[43m,\u001b[49m\n\u001b[1;32m    494\u001b[0m \u001b[43m            \u001b[49m\u001b[43mredirect\u001b[49m\u001b[38;5;241;43m=\u001b[39;49m\u001b[38;5;28;43;01mFalse\u001b[39;49;00m\u001b[43m,\u001b[49m\n\u001b[1;32m    495\u001b[0m \u001b[43m            \u001b[49m\u001b[43massert_same_host\u001b[49m\u001b[38;5;241;43m=\u001b[39;49m\u001b[38;5;28;43;01mFalse\u001b[39;49;00m\u001b[43m,\u001b[49m\n\u001b[1;32m    496\u001b[0m \u001b[43m            \u001b[49m\u001b[43mpreload_content\u001b[49m\u001b[38;5;241;43m=\u001b[39;49m\u001b[38;5;28;43;01mFalse\u001b[39;49;00m\u001b[43m,\u001b[49m\n\u001b[1;32m    497\u001b[0m \u001b[43m            \u001b[49m\u001b[43mdecode_content\u001b[49m\u001b[38;5;241;43m=\u001b[39;49m\u001b[38;5;28;43;01mFalse\u001b[39;49;00m\u001b[43m,\u001b[49m\n\u001b[1;32m    498\u001b[0m \u001b[43m            \u001b[49m\u001b[43mretries\u001b[49m\u001b[38;5;241;43m=\u001b[39;49m\u001b[38;5;28;43mself\u001b[39;49m\u001b[38;5;241;43m.\u001b[39;49m\u001b[43mmax_retries\u001b[49m\u001b[43m,\u001b[49m\n\u001b[1;32m    499\u001b[0m \u001b[43m            \u001b[49m\u001b[43mtimeout\u001b[49m\u001b[38;5;241;43m=\u001b[39;49m\u001b[43mtimeout\u001b[49m\u001b[43m,\u001b[49m\n\u001b[1;32m    500\u001b[0m \u001b[43m        \u001b[49m\u001b[43m)\u001b[49m\n\u001b[1;32m    502\u001b[0m     \u001b[38;5;66;03m# Send the request.\u001b[39;00m\n\u001b[1;32m    503\u001b[0m     \u001b[38;5;28;01melse\u001b[39;00m:\n\u001b[1;32m    504\u001b[0m         \u001b[38;5;28;01mif\u001b[39;00m \u001b[38;5;28mhasattr\u001b[39m(conn, \u001b[38;5;124m\"\u001b[39m\u001b[38;5;124mproxy_pool\u001b[39m\u001b[38;5;124m\"\u001b[39m):\n",
      "File \u001b[0;32m~/opt/anaconda3/envs/paper/lib/python3.8/site-packages/urllib3/connectionpool.py:703\u001b[0m, in \u001b[0;36mHTTPConnectionPool.urlopen\u001b[0;34m(self, method, url, body, headers, retries, redirect, assert_same_host, timeout, pool_timeout, release_conn, chunked, body_pos, **response_kw)\u001b[0m\n\u001b[1;32m    700\u001b[0m     \u001b[38;5;28mself\u001b[39m\u001b[38;5;241m.\u001b[39m_prepare_proxy(conn)\n\u001b[1;32m    702\u001b[0m \u001b[38;5;66;03m# Make the request on the httplib connection object.\u001b[39;00m\n\u001b[0;32m--> 703\u001b[0m httplib_response \u001b[38;5;241m=\u001b[39m \u001b[38;5;28;43mself\u001b[39;49m\u001b[38;5;241;43m.\u001b[39;49m\u001b[43m_make_request\u001b[49m\u001b[43m(\u001b[49m\n\u001b[1;32m    704\u001b[0m \u001b[43m    \u001b[49m\u001b[43mconn\u001b[49m\u001b[43m,\u001b[49m\n\u001b[1;32m    705\u001b[0m \u001b[43m    \u001b[49m\u001b[43mmethod\u001b[49m\u001b[43m,\u001b[49m\n\u001b[1;32m    706\u001b[0m \u001b[43m    \u001b[49m\u001b[43murl\u001b[49m\u001b[43m,\u001b[49m\n\u001b[1;32m    707\u001b[0m \u001b[43m    \u001b[49m\u001b[43mtimeout\u001b[49m\u001b[38;5;241;43m=\u001b[39;49m\u001b[43mtimeout_obj\u001b[49m\u001b[43m,\u001b[49m\n\u001b[1;32m    708\u001b[0m \u001b[43m    \u001b[49m\u001b[43mbody\u001b[49m\u001b[38;5;241;43m=\u001b[39;49m\u001b[43mbody\u001b[49m\u001b[43m,\u001b[49m\n\u001b[1;32m    709\u001b[0m \u001b[43m    \u001b[49m\u001b[43mheaders\u001b[49m\u001b[38;5;241;43m=\u001b[39;49m\u001b[43mheaders\u001b[49m\u001b[43m,\u001b[49m\n\u001b[1;32m    710\u001b[0m \u001b[43m    \u001b[49m\u001b[43mchunked\u001b[49m\u001b[38;5;241;43m=\u001b[39;49m\u001b[43mchunked\u001b[49m\u001b[43m,\u001b[49m\n\u001b[1;32m    711\u001b[0m \u001b[43m\u001b[49m\u001b[43m)\u001b[49m\n\u001b[1;32m    713\u001b[0m \u001b[38;5;66;03m# If we're going to release the connection in ``finally:``, then\u001b[39;00m\n\u001b[1;32m    714\u001b[0m \u001b[38;5;66;03m# the response doesn't need to know about the connection. Otherwise\u001b[39;00m\n\u001b[1;32m    715\u001b[0m \u001b[38;5;66;03m# it will also try to release it and we'll have a double-release\u001b[39;00m\n\u001b[1;32m    716\u001b[0m \u001b[38;5;66;03m# mess.\u001b[39;00m\n\u001b[1;32m    717\u001b[0m response_conn \u001b[38;5;241m=\u001b[39m conn \u001b[38;5;28;01mif\u001b[39;00m \u001b[38;5;129;01mnot\u001b[39;00m release_conn \u001b[38;5;28;01melse\u001b[39;00m \u001b[38;5;28;01mNone\u001b[39;00m\n",
      "File \u001b[0;32m~/opt/anaconda3/envs/paper/lib/python3.8/site-packages/urllib3/connectionpool.py:386\u001b[0m, in \u001b[0;36mHTTPConnectionPool._make_request\u001b[0;34m(self, conn, method, url, timeout, chunked, **httplib_request_kw)\u001b[0m\n\u001b[1;32m    384\u001b[0m \u001b[38;5;66;03m# Trigger any extra validation we need to do.\u001b[39;00m\n\u001b[1;32m    385\u001b[0m \u001b[38;5;28;01mtry\u001b[39;00m:\n\u001b[0;32m--> 386\u001b[0m     \u001b[38;5;28;43mself\u001b[39;49m\u001b[38;5;241;43m.\u001b[39;49m\u001b[43m_validate_conn\u001b[49m\u001b[43m(\u001b[49m\u001b[43mconn\u001b[49m\u001b[43m)\u001b[49m\n\u001b[1;32m    387\u001b[0m \u001b[38;5;28;01mexcept\u001b[39;00m (SocketTimeout, BaseSSLError) \u001b[38;5;28;01mas\u001b[39;00m e:\n\u001b[1;32m    388\u001b[0m     \u001b[38;5;66;03m# Py2 raises this as a BaseSSLError, Py3 raises it as socket timeout.\u001b[39;00m\n\u001b[1;32m    389\u001b[0m     \u001b[38;5;28mself\u001b[39m\u001b[38;5;241m.\u001b[39m_raise_timeout(err\u001b[38;5;241m=\u001b[39me, url\u001b[38;5;241m=\u001b[39murl, timeout_value\u001b[38;5;241m=\u001b[39mconn\u001b[38;5;241m.\u001b[39mtimeout)\n",
      "File \u001b[0;32m~/opt/anaconda3/envs/paper/lib/python3.8/site-packages/urllib3/connectionpool.py:1042\u001b[0m, in \u001b[0;36mHTTPSConnectionPool._validate_conn\u001b[0;34m(self, conn)\u001b[0m\n\u001b[1;32m   1040\u001b[0m \u001b[38;5;66;03m# Force connect early to allow us to validate the connection.\u001b[39;00m\n\u001b[1;32m   1041\u001b[0m \u001b[38;5;28;01mif\u001b[39;00m \u001b[38;5;129;01mnot\u001b[39;00m \u001b[38;5;28mgetattr\u001b[39m(conn, \u001b[38;5;124m\"\u001b[39m\u001b[38;5;124msock\u001b[39m\u001b[38;5;124m\"\u001b[39m, \u001b[38;5;28;01mNone\u001b[39;00m):  \u001b[38;5;66;03m# AppEngine might not have  `.sock`\u001b[39;00m\n\u001b[0;32m-> 1042\u001b[0m     \u001b[43mconn\u001b[49m\u001b[38;5;241;43m.\u001b[39;49m\u001b[43mconnect\u001b[49m\u001b[43m(\u001b[49m\u001b[43m)\u001b[49m\n\u001b[1;32m   1044\u001b[0m \u001b[38;5;28;01mif\u001b[39;00m \u001b[38;5;129;01mnot\u001b[39;00m conn\u001b[38;5;241m.\u001b[39mis_verified:\n\u001b[1;32m   1045\u001b[0m     warnings\u001b[38;5;241m.\u001b[39mwarn(\n\u001b[1;32m   1046\u001b[0m         (\n\u001b[1;32m   1047\u001b[0m             \u001b[38;5;124m\"\u001b[39m\u001b[38;5;124mUnverified HTTPS request is being made to host \u001b[39m\u001b[38;5;124m'\u001b[39m\u001b[38;5;132;01m%s\u001b[39;00m\u001b[38;5;124m'\u001b[39m\u001b[38;5;124m. \u001b[39m\u001b[38;5;124m\"\u001b[39m\n\u001b[0;32m   (...)\u001b[0m\n\u001b[1;32m   1052\u001b[0m         InsecureRequestWarning,\n\u001b[1;32m   1053\u001b[0m     )\n",
      "File \u001b[0;32m~/opt/anaconda3/envs/paper/lib/python3.8/site-packages/urllib3/connection.py:419\u001b[0m, in \u001b[0;36mHTTPSConnection.connect\u001b[0;34m(self)\u001b[0m\n\u001b[1;32m    410\u001b[0m \u001b[38;5;28;01mif\u001b[39;00m (\n\u001b[1;32m    411\u001b[0m     \u001b[38;5;129;01mnot\u001b[39;00m \u001b[38;5;28mself\u001b[39m\u001b[38;5;241m.\u001b[39mca_certs\n\u001b[1;32m    412\u001b[0m     \u001b[38;5;129;01mand\u001b[39;00m \u001b[38;5;129;01mnot\u001b[39;00m \u001b[38;5;28mself\u001b[39m\u001b[38;5;241m.\u001b[39mca_cert_dir\n\u001b[0;32m   (...)\u001b[0m\n\u001b[1;32m    415\u001b[0m     \u001b[38;5;129;01mand\u001b[39;00m \u001b[38;5;28mhasattr\u001b[39m(context, \u001b[38;5;124m\"\u001b[39m\u001b[38;5;124mload_default_certs\u001b[39m\u001b[38;5;124m\"\u001b[39m)\n\u001b[1;32m    416\u001b[0m ):\n\u001b[1;32m    417\u001b[0m     context\u001b[38;5;241m.\u001b[39mload_default_certs()\n\u001b[0;32m--> 419\u001b[0m \u001b[38;5;28mself\u001b[39m\u001b[38;5;241m.\u001b[39msock \u001b[38;5;241m=\u001b[39m \u001b[43mssl_wrap_socket\u001b[49m\u001b[43m(\u001b[49m\n\u001b[1;32m    420\u001b[0m \u001b[43m    \u001b[49m\u001b[43msock\u001b[49m\u001b[38;5;241;43m=\u001b[39;49m\u001b[43mconn\u001b[49m\u001b[43m,\u001b[49m\n\u001b[1;32m    421\u001b[0m \u001b[43m    \u001b[49m\u001b[43mkeyfile\u001b[49m\u001b[38;5;241;43m=\u001b[39;49m\u001b[38;5;28;43mself\u001b[39;49m\u001b[38;5;241;43m.\u001b[39;49m\u001b[43mkey_file\u001b[49m\u001b[43m,\u001b[49m\n\u001b[1;32m    422\u001b[0m \u001b[43m    \u001b[49m\u001b[43mcertfile\u001b[49m\u001b[38;5;241;43m=\u001b[39;49m\u001b[38;5;28;43mself\u001b[39;49m\u001b[38;5;241;43m.\u001b[39;49m\u001b[43mcert_file\u001b[49m\u001b[43m,\u001b[49m\n\u001b[1;32m    423\u001b[0m \u001b[43m    \u001b[49m\u001b[43mkey_password\u001b[49m\u001b[38;5;241;43m=\u001b[39;49m\u001b[38;5;28;43mself\u001b[39;49m\u001b[38;5;241;43m.\u001b[39;49m\u001b[43mkey_password\u001b[49m\u001b[43m,\u001b[49m\n\u001b[1;32m    424\u001b[0m \u001b[43m    \u001b[49m\u001b[43mca_certs\u001b[49m\u001b[38;5;241;43m=\u001b[39;49m\u001b[38;5;28;43mself\u001b[39;49m\u001b[38;5;241;43m.\u001b[39;49m\u001b[43mca_certs\u001b[49m\u001b[43m,\u001b[49m\n\u001b[1;32m    425\u001b[0m \u001b[43m    \u001b[49m\u001b[43mca_cert_dir\u001b[49m\u001b[38;5;241;43m=\u001b[39;49m\u001b[38;5;28;43mself\u001b[39;49m\u001b[38;5;241;43m.\u001b[39;49m\u001b[43mca_cert_dir\u001b[49m\u001b[43m,\u001b[49m\n\u001b[1;32m    426\u001b[0m \u001b[43m    \u001b[49m\u001b[43mca_cert_data\u001b[49m\u001b[38;5;241;43m=\u001b[39;49m\u001b[38;5;28;43mself\u001b[39;49m\u001b[38;5;241;43m.\u001b[39;49m\u001b[43mca_cert_data\u001b[49m\u001b[43m,\u001b[49m\n\u001b[1;32m    427\u001b[0m \u001b[43m    \u001b[49m\u001b[43mserver_hostname\u001b[49m\u001b[38;5;241;43m=\u001b[39;49m\u001b[43mserver_hostname\u001b[49m\u001b[43m,\u001b[49m\n\u001b[1;32m    428\u001b[0m \u001b[43m    \u001b[49m\u001b[43mssl_context\u001b[49m\u001b[38;5;241;43m=\u001b[39;49m\u001b[43mcontext\u001b[49m\u001b[43m,\u001b[49m\n\u001b[1;32m    429\u001b[0m \u001b[43m    \u001b[49m\u001b[43mtls_in_tls\u001b[49m\u001b[38;5;241;43m=\u001b[39;49m\u001b[43mtls_in_tls\u001b[49m\u001b[43m,\u001b[49m\n\u001b[1;32m    430\u001b[0m \u001b[43m\u001b[49m\u001b[43m)\u001b[49m\n\u001b[1;32m    432\u001b[0m \u001b[38;5;66;03m# If we're using all defaults and the connection\u001b[39;00m\n\u001b[1;32m    433\u001b[0m \u001b[38;5;66;03m# is TLSv1 or TLSv1.1 we throw a DeprecationWarning\u001b[39;00m\n\u001b[1;32m    434\u001b[0m \u001b[38;5;66;03m# for the host.\u001b[39;00m\n\u001b[1;32m    435\u001b[0m \u001b[38;5;28;01mif\u001b[39;00m (\n\u001b[1;32m    436\u001b[0m     default_ssl_context\n\u001b[1;32m    437\u001b[0m     \u001b[38;5;129;01mand\u001b[39;00m \u001b[38;5;28mself\u001b[39m\u001b[38;5;241m.\u001b[39mssl_version \u001b[38;5;129;01mis\u001b[39;00m \u001b[38;5;28;01mNone\u001b[39;00m\n\u001b[1;32m    438\u001b[0m     \u001b[38;5;129;01mand\u001b[39;00m \u001b[38;5;28mhasattr\u001b[39m(\u001b[38;5;28mself\u001b[39m\u001b[38;5;241m.\u001b[39msock, \u001b[38;5;124m\"\u001b[39m\u001b[38;5;124mversion\u001b[39m\u001b[38;5;124m\"\u001b[39m)\n\u001b[1;32m    439\u001b[0m     \u001b[38;5;129;01mand\u001b[39;00m \u001b[38;5;28mself\u001b[39m\u001b[38;5;241m.\u001b[39msock\u001b[38;5;241m.\u001b[39mversion() \u001b[38;5;129;01min\u001b[39;00m {\u001b[38;5;124m\"\u001b[39m\u001b[38;5;124mTLSv1\u001b[39m\u001b[38;5;124m\"\u001b[39m, \u001b[38;5;124m\"\u001b[39m\u001b[38;5;124mTLSv1.1\u001b[39m\u001b[38;5;124m\"\u001b[39m}\n\u001b[1;32m    440\u001b[0m ):\n",
      "File \u001b[0;32m~/opt/anaconda3/envs/paper/lib/python3.8/site-packages/urllib3/util/ssl_.py:449\u001b[0m, in \u001b[0;36mssl_wrap_socket\u001b[0;34m(sock, keyfile, certfile, cert_reqs, ca_certs, server_hostname, ssl_version, ciphers, ssl_context, ca_cert_dir, key_password, ca_cert_data, tls_in_tls)\u001b[0m\n\u001b[1;32m    437\u001b[0m     warnings\u001b[38;5;241m.\u001b[39mwarn(\n\u001b[1;32m    438\u001b[0m         \u001b[38;5;124m\"\u001b[39m\u001b[38;5;124mAn HTTPS request has been made, but the SNI (Server Name \u001b[39m\u001b[38;5;124m\"\u001b[39m\n\u001b[1;32m    439\u001b[0m         \u001b[38;5;124m\"\u001b[39m\u001b[38;5;124mIndication) extension to TLS is not available on this platform. \u001b[39m\u001b[38;5;124m\"\u001b[39m\n\u001b[0;32m   (...)\u001b[0m\n\u001b[1;32m    445\u001b[0m         SNIMissingWarning,\n\u001b[1;32m    446\u001b[0m     )\n\u001b[1;32m    448\u001b[0m \u001b[38;5;28;01mif\u001b[39;00m send_sni:\n\u001b[0;32m--> 449\u001b[0m     ssl_sock \u001b[38;5;241m=\u001b[39m \u001b[43m_ssl_wrap_socket_impl\u001b[49m\u001b[43m(\u001b[49m\n\u001b[1;32m    450\u001b[0m \u001b[43m        \u001b[49m\u001b[43msock\u001b[49m\u001b[43m,\u001b[49m\u001b[43m \u001b[49m\u001b[43mcontext\u001b[49m\u001b[43m,\u001b[49m\u001b[43m \u001b[49m\u001b[43mtls_in_tls\u001b[49m\u001b[43m,\u001b[49m\u001b[43m \u001b[49m\u001b[43mserver_hostname\u001b[49m\u001b[38;5;241;43m=\u001b[39;49m\u001b[43mserver_hostname\u001b[49m\n\u001b[1;32m    451\u001b[0m \u001b[43m    \u001b[49m\u001b[43m)\u001b[49m\n\u001b[1;32m    452\u001b[0m \u001b[38;5;28;01melse\u001b[39;00m:\n\u001b[1;32m    453\u001b[0m     ssl_sock \u001b[38;5;241m=\u001b[39m _ssl_wrap_socket_impl(sock, context, tls_in_tls)\n",
      "File \u001b[0;32m~/opt/anaconda3/envs/paper/lib/python3.8/site-packages/urllib3/util/ssl_.py:493\u001b[0m, in \u001b[0;36m_ssl_wrap_socket_impl\u001b[0;34m(sock, ssl_context, tls_in_tls, server_hostname)\u001b[0m\n\u001b[1;32m    490\u001b[0m     \u001b[38;5;28;01mreturn\u001b[39;00m SSLTransport(sock, ssl_context, server_hostname)\n\u001b[1;32m    492\u001b[0m \u001b[38;5;28;01mif\u001b[39;00m server_hostname:\n\u001b[0;32m--> 493\u001b[0m     \u001b[38;5;28;01mreturn\u001b[39;00m \u001b[43mssl_context\u001b[49m\u001b[38;5;241;43m.\u001b[39;49m\u001b[43mwrap_socket\u001b[49m\u001b[43m(\u001b[49m\u001b[43msock\u001b[49m\u001b[43m,\u001b[49m\u001b[43m \u001b[49m\u001b[43mserver_hostname\u001b[49m\u001b[38;5;241;43m=\u001b[39;49m\u001b[43mserver_hostname\u001b[49m\u001b[43m)\u001b[49m\n\u001b[1;32m    494\u001b[0m \u001b[38;5;28;01melse\u001b[39;00m:\n\u001b[1;32m    495\u001b[0m     \u001b[38;5;28;01mreturn\u001b[39;00m ssl_context\u001b[38;5;241m.\u001b[39mwrap_socket(sock)\n",
      "File \u001b[0;32m~/opt/anaconda3/envs/paper/lib/python3.8/ssl.py:500\u001b[0m, in \u001b[0;36mSSLContext.wrap_socket\u001b[0;34m(self, sock, server_side, do_handshake_on_connect, suppress_ragged_eofs, server_hostname, session)\u001b[0m\n\u001b[1;32m    494\u001b[0m \u001b[38;5;28;01mdef\u001b[39;00m \u001b[38;5;21mwrap_socket\u001b[39m(\u001b[38;5;28mself\u001b[39m, sock, server_side\u001b[38;5;241m=\u001b[39m\u001b[38;5;28;01mFalse\u001b[39;00m,\n\u001b[1;32m    495\u001b[0m                 do_handshake_on_connect\u001b[38;5;241m=\u001b[39m\u001b[38;5;28;01mTrue\u001b[39;00m,\n\u001b[1;32m    496\u001b[0m                 suppress_ragged_eofs\u001b[38;5;241m=\u001b[39m\u001b[38;5;28;01mTrue\u001b[39;00m,\n\u001b[1;32m    497\u001b[0m                 server_hostname\u001b[38;5;241m=\u001b[39m\u001b[38;5;28;01mNone\u001b[39;00m, session\u001b[38;5;241m=\u001b[39m\u001b[38;5;28;01mNone\u001b[39;00m):\n\u001b[1;32m    498\u001b[0m     \u001b[38;5;66;03m# SSLSocket class handles server_hostname encoding before it calls\u001b[39;00m\n\u001b[1;32m    499\u001b[0m     \u001b[38;5;66;03m# ctx._wrap_socket()\u001b[39;00m\n\u001b[0;32m--> 500\u001b[0m     \u001b[38;5;28;01mreturn\u001b[39;00m \u001b[38;5;28;43mself\u001b[39;49m\u001b[38;5;241;43m.\u001b[39;49m\u001b[43msslsocket_class\u001b[49m\u001b[38;5;241;43m.\u001b[39;49m\u001b[43m_create\u001b[49m\u001b[43m(\u001b[49m\n\u001b[1;32m    501\u001b[0m \u001b[43m        \u001b[49m\u001b[43msock\u001b[49m\u001b[38;5;241;43m=\u001b[39;49m\u001b[43msock\u001b[49m\u001b[43m,\u001b[49m\n\u001b[1;32m    502\u001b[0m \u001b[43m        \u001b[49m\u001b[43mserver_side\u001b[49m\u001b[38;5;241;43m=\u001b[39;49m\u001b[43mserver_side\u001b[49m\u001b[43m,\u001b[49m\n\u001b[1;32m    503\u001b[0m \u001b[43m        \u001b[49m\u001b[43mdo_handshake_on_connect\u001b[49m\u001b[38;5;241;43m=\u001b[39;49m\u001b[43mdo_handshake_on_connect\u001b[49m\u001b[43m,\u001b[49m\n\u001b[1;32m    504\u001b[0m \u001b[43m        \u001b[49m\u001b[43msuppress_ragged_eofs\u001b[49m\u001b[38;5;241;43m=\u001b[39;49m\u001b[43msuppress_ragged_eofs\u001b[49m\u001b[43m,\u001b[49m\n\u001b[1;32m    505\u001b[0m \u001b[43m        \u001b[49m\u001b[43mserver_hostname\u001b[49m\u001b[38;5;241;43m=\u001b[39;49m\u001b[43mserver_hostname\u001b[49m\u001b[43m,\u001b[49m\n\u001b[1;32m    506\u001b[0m \u001b[43m        \u001b[49m\u001b[43mcontext\u001b[49m\u001b[38;5;241;43m=\u001b[39;49m\u001b[38;5;28;43mself\u001b[39;49m\u001b[43m,\u001b[49m\n\u001b[1;32m    507\u001b[0m \u001b[43m        \u001b[49m\u001b[43msession\u001b[49m\u001b[38;5;241;43m=\u001b[39;49m\u001b[43msession\u001b[49m\n\u001b[1;32m    508\u001b[0m \u001b[43m    \u001b[49m\u001b[43m)\u001b[49m\n",
      "File \u001b[0;32m~/opt/anaconda3/envs/paper/lib/python3.8/ssl.py:1040\u001b[0m, in \u001b[0;36mSSLSocket._create\u001b[0;34m(cls, sock, server_side, do_handshake_on_connect, suppress_ragged_eofs, server_hostname, context, session)\u001b[0m\n\u001b[1;32m   1037\u001b[0m         \u001b[38;5;28;01mif\u001b[39;00m timeout \u001b[38;5;241m==\u001b[39m \u001b[38;5;241m0.0\u001b[39m:\n\u001b[1;32m   1038\u001b[0m             \u001b[38;5;66;03m# non-blocking\u001b[39;00m\n\u001b[1;32m   1039\u001b[0m             \u001b[38;5;28;01mraise\u001b[39;00m \u001b[38;5;167;01mValueError\u001b[39;00m(\u001b[38;5;124m\"\u001b[39m\u001b[38;5;124mdo_handshake_on_connect should not be specified for non-blocking sockets\u001b[39m\u001b[38;5;124m\"\u001b[39m)\n\u001b[0;32m-> 1040\u001b[0m         \u001b[38;5;28;43mself\u001b[39;49m\u001b[38;5;241;43m.\u001b[39;49m\u001b[43mdo_handshake\u001b[49m\u001b[43m(\u001b[49m\u001b[43m)\u001b[49m\n\u001b[1;32m   1041\u001b[0m \u001b[38;5;28;01mexcept\u001b[39;00m (\u001b[38;5;167;01mOSError\u001b[39;00m, \u001b[38;5;167;01mValueError\u001b[39;00m):\n\u001b[1;32m   1042\u001b[0m     \u001b[38;5;28mself\u001b[39m\u001b[38;5;241m.\u001b[39mclose()\n",
      "File \u001b[0;32m~/opt/anaconda3/envs/paper/lib/python3.8/ssl.py:1309\u001b[0m, in \u001b[0;36mSSLSocket.do_handshake\u001b[0;34m(self, block)\u001b[0m\n\u001b[1;32m   1307\u001b[0m     \u001b[38;5;28;01mif\u001b[39;00m timeout \u001b[38;5;241m==\u001b[39m \u001b[38;5;241m0.0\u001b[39m \u001b[38;5;129;01mand\u001b[39;00m block:\n\u001b[1;32m   1308\u001b[0m         \u001b[38;5;28mself\u001b[39m\u001b[38;5;241m.\u001b[39msettimeout(\u001b[38;5;28;01mNone\u001b[39;00m)\n\u001b[0;32m-> 1309\u001b[0m     \u001b[38;5;28;43mself\u001b[39;49m\u001b[38;5;241;43m.\u001b[39;49m\u001b[43m_sslobj\u001b[49m\u001b[38;5;241;43m.\u001b[39;49m\u001b[43mdo_handshake\u001b[49m\u001b[43m(\u001b[49m\u001b[43m)\u001b[49m\n\u001b[1;32m   1310\u001b[0m \u001b[38;5;28;01mfinally\u001b[39;00m:\n\u001b[1;32m   1311\u001b[0m     \u001b[38;5;28mself\u001b[39m\u001b[38;5;241m.\u001b[39msettimeout(timeout)\n",
      "\u001b[0;31mKeyboardInterrupt\u001b[0m: "
     ]
    }
   ],
   "source": [
    "extendedData = RepoTools.loadReposWithReadmeAndGetExtendedData(companyName, saveExtendedRepoWithReadme=True)"
   ]
  },
  {
   "cell_type": "markdown",
   "id": "9c2ce23f-ecbc-4d04-875e-6998855ab5ba",
   "metadata": {},
   "source": [
    "### run this to get the papers with link as a df. Checking `ignoreArxivIfPaperTitleExists` will result in a more refined (yet less exhaustive) papers"
   ]
  },
  {
   "cell_type": "code",
   "execution_count": 11,
   "id": "f9c93673-9768-4d7e-8b29-d4a8fe66cd57",
   "metadata": {},
   "outputs": [
    {
     "name": "stdout",
     "output_type": "stream",
     "text": [
      "28\n"
     ]
    },
    {
     "data": {
      "text/html": [
       "<div>\n",
       "<style scoped>\n",
       "    .dataframe tbody tr th:only-of-type {\n",
       "        vertical-align: middle;\n",
       "    }\n",
       "\n",
       "    .dataframe tbody tr th {\n",
       "        vertical-align: top;\n",
       "    }\n",
       "\n",
       "    .dataframe thead th {\n",
       "        text-align: right;\n",
       "    }\n",
       "</style>\n",
       "<table border=\"1\" class=\"dataframe\">\n",
       "  <thead>\n",
       "    <tr style=\"text-align: right;\">\n",
       "      <th></th>\n",
       "      <th>title</th>\n",
       "      <th>repo_link</th>\n",
       "      <th>forks</th>\n",
       "      <th>stargazers_count</th>\n",
       "      <th>created_at</th>\n",
       "      <th>open_issues_count</th>\n",
       "      <th>name</th>\n",
       "    </tr>\n",
       "  </thead>\n",
       "  <tbody>\n",
       "    <tr>\n",
       "      <th>0</th>\n",
       "      <td>Degree-of-linear-polarization-based Color Cons...</td>\n",
       "      <td>https://github.com/sony/dolp-colorconstancy</td>\n",
       "      <td>2</td>\n",
       "      <td>11</td>\n",
       "      <td>2022-03-22 06:10:41</td>\n",
       "      <td>0</td>\n",
       "      <td>dolp-colorconstancy</td>\n",
       "    </tr>\n",
       "    <tr>\n",
       "      <th>1</th>\n",
       "      <td>Evaluating the Robustness of Off-Policy Evalua...</td>\n",
       "      <td>https://github.com/sony/pyIEOE</td>\n",
       "      <td>2</td>\n",
       "      <td>25</td>\n",
       "      <td>2021-07-20 05:21:15</td>\n",
       "      <td>0</td>\n",
       "      <td>pyIEOE</td>\n",
       "    </tr>\n",
       "    <tr>\n",
       "      <th>2</th>\n",
       "      <td>pyloudnorm: A simple yet flexible loudness met...</td>\n",
       "      <td>https://github.com/csteinmetz1/pyloudnorm</td>\n",
       "      <td>47</td>\n",
       "      <td>444</td>\n",
       "      <td>2017-11-12 13:56:23</td>\n",
       "      <td>11</td>\n",
       "      <td>pyloudnorm</td>\n",
       "    </tr>\n",
       "    <tr>\n",
       "      <th>3</th>\n",
       "      <td>Automatic multitrack mixing with a differentia...</td>\n",
       "      <td>https://github.com/csteinmetz1/pymixconsole</td>\n",
       "      <td>12</td>\n",
       "      <td>88</td>\n",
       "      <td>2019-09-02 19:13:28</td>\n",
       "      <td>13</td>\n",
       "      <td>pymixconsole</td>\n",
       "    </tr>\n",
       "    <tr>\n",
       "      <th>4</th>\n",
       "      <td>Open Bandit Dataset and Pipeline: Towards Real...</td>\n",
       "      <td>https://github.com/st-tech/zr-obp</td>\n",
       "      <td>70</td>\n",
       "      <td>533</td>\n",
       "      <td>2020-06-16 02:10:15</td>\n",
       "      <td>19</td>\n",
       "      <td>zr-obp</td>\n",
       "    </tr>\n",
       "    <tr>\n",
       "      <th>5</th>\n",
       "      <td>CLIPSep: Learning Text-queried Sound Separatio...</td>\n",
       "      <td>https://github.com/sony/CLIPSep</td>\n",
       "      <td>0</td>\n",
       "      <td>16</td>\n",
       "      <td>2023-01-24 03:45:58</td>\n",
       "      <td>1</td>\n",
       "      <td>CLIPSep</td>\n",
       "    </tr>\n",
       "    <tr>\n",
       "      <th>6</th>\n",
       "      <td>DiffRoll: Diffusion-based Generative Music Tra...</td>\n",
       "      <td>https://github.com/sony/DiffRoll</td>\n",
       "      <td>3</td>\n",
       "      <td>42</td>\n",
       "      <td>2022-10-11 09:25:28</td>\n",
       "      <td>0</td>\n",
       "      <td>DiffRoll</td>\n",
       "    </tr>\n",
       "    <tr>\n",
       "      <th>7</th>\n",
       "      <td>Automatic music mixing with deep learning and ...</td>\n",
       "      <td>https://github.com/sony/FxNorm-automix</td>\n",
       "      <td>4</td>\n",
       "      <td>48</td>\n",
       "      <td>2022-08-05 03:21:35</td>\n",
       "      <td>1</td>\n",
       "      <td>FxNorm-automix</td>\n",
       "    </tr>\n",
       "    <tr>\n",
       "      <th>8</th>\n",
       "      <td>HPTQ: Hardware-Friendly Post Training Quantiza...</td>\n",
       "      <td>https://github.com/sony/model_optimization</td>\n",
       "      <td>26</td>\n",
       "      <td>162</td>\n",
       "      <td>2021-06-21 03:28:09</td>\n",
       "      <td>7</td>\n",
       "      <td>model_optimization</td>\n",
       "    </tr>\n",
       "    <tr>\n",
       "      <th>9</th>\n",
       "      <td>NDJIR: Neural Direct and Joint Inverse Renderi...</td>\n",
       "      <td>https://github.com/sony/NDJIR</td>\n",
       "      <td>2</td>\n",
       "      <td>33</td>\n",
       "      <td>2022-12-14 02:43:35</td>\n",
       "      <td>2</td>\n",
       "      <td>NDJIR</td>\n",
       "    </tr>\n",
       "    <tr>\n",
       "      <th>10</th>\n",
       "      <td>Neural Network Libraries: A Deep Learning Fram...</td>\n",
       "      <td>https://github.com/sony/nnabla</td>\n",
       "      <td>333</td>\n",
       "      <td>2618</td>\n",
       "      <td>2017-06-26 01:07:10</td>\n",
       "      <td>31</td>\n",
       "      <td>nnabla</td>\n",
       "    </tr>\n",
       "    <tr>\n",
       "      <th>11</th>\n",
       "      <td>Neural Network Libraries: A Deep Learning Fram...</td>\n",
       "      <td>https://github.com/sony/nnabla</td>\n",
       "      <td>333</td>\n",
       "      <td>2618</td>\n",
       "      <td>2017-06-26 01:07:10</td>\n",
       "      <td>31</td>\n",
       "      <td>nnabla</td>\n",
       "    </tr>\n",
       "    <tr>\n",
       "      <th>12</th>\n",
       "      <td>Simultaneous Acquisition of High Quality RGB I...</td>\n",
       "      <td>https://github.com/sony/polar-densification</td>\n",
       "      <td>0</td>\n",
       "      <td>16</td>\n",
       "      <td>2022-09-13 02:50:06</td>\n",
       "      <td>0</td>\n",
       "      <td>polar-densification</td>\n",
       "    </tr>\n",
       "    <tr>\n",
       "      <th>13</th>\n",
       "      <td>Simultaneous Acquisition of High Quality RGB I...</td>\n",
       "      <td>https://github.com/sony/polar-densification</td>\n",
       "      <td>0</td>\n",
       "      <td>16</td>\n",
       "      <td>2022-09-13 02:50:06</td>\n",
       "      <td>0</td>\n",
       "      <td>polar-densification</td>\n",
       "    </tr>\n",
       "    <tr>\n",
       "      <th>14</th>\n",
       "      <td>SQ-VAE: Variational Bayes on Discrete Represen...</td>\n",
       "      <td>https://github.com/sony/sqvae</td>\n",
       "      <td>13</td>\n",
       "      <td>128</td>\n",
       "      <td>2022-05-26 06:40:40</td>\n",
       "      <td>1</td>\n",
       "      <td>sqvae</td>\n",
       "    </tr>\n",
       "    <tr>\n",
       "      <th>15</th>\n",
       "      <td>Towards Precise and Efficient Image Guided Dep...</td>\n",
       "      <td>https://github.com/JUGGHM/PENet_ICRA2021</td>\n",
       "      <td>41</td>\n",
       "      <td>264</td>\n",
       "      <td>2021-02-26 10:07:18</td>\n",
       "      <td>32</td>\n",
       "      <td>PENet_ICRA2021</td>\n",
       "    </tr>\n",
       "    <tr>\n",
       "      <th>16</th>\n",
       "      <td>PENet: Towards Precise and Efficient Image Gui...</td>\n",
       "      <td>https://github.com/JUGGHM/PENet_ICRA2021</td>\n",
       "      <td>41</td>\n",
       "      <td>264</td>\n",
       "      <td>2021-02-26 10:07:18</td>\n",
       "      <td>32</td>\n",
       "      <td>PENet_ICRA2021</td>\n",
       "    </tr>\n",
       "    <tr>\n",
       "      <th>17</th>\n",
       "      <td>Audio-Visual SELD Baseline Architecture</td>\n",
       "      <td>https://github.com/sony/audio-visual-seld-dcas...</td>\n",
       "      <td>0</td>\n",
       "      <td>12</td>\n",
       "      <td>2023-02-20 01:12:32</td>\n",
       "      <td>0</td>\n",
       "      <td>audio-visual-seld-dcase2023</td>\n",
       "    </tr>\n",
       "    <tr>\n",
       "      <th>18</th>\n",
       "      <td>Sound Event Localization and Detection of Over...</td>\n",
       "      <td>https://github.com/sony/audio-visual-seld-dcas...</td>\n",
       "      <td>0</td>\n",
       "      <td>12</td>\n",
       "      <td>2023-02-20 01:12:32</td>\n",
       "      <td>0</td>\n",
       "      <td>audio-visual-seld-dcase2023</td>\n",
       "    </tr>\n",
       "    <tr>\n",
       "      <th>19</th>\n",
       "      <td>Overview and Evaluation of Sound Event Localiz...</td>\n",
       "      <td>https://github.com/sony/audio-visual-seld-dcas...</td>\n",
       "      <td>0</td>\n",
       "      <td>12</td>\n",
       "      <td>2023-02-20 01:12:32</td>\n",
       "      <td>0</td>\n",
       "      <td>audio-visual-seld-dcase2023</td>\n",
       "    </tr>\n",
       "    <tr>\n",
       "      <th>20</th>\n",
       "      <td>YOLOX: Exceeding YOLO Series in 2021</td>\n",
       "      <td>https://github.com/sony/audio-visual-seld-dcas...</td>\n",
       "      <td>0</td>\n",
       "      <td>12</td>\n",
       "      <td>2023-02-20 01:12:32</td>\n",
       "      <td>0</td>\n",
       "      <td>audio-visual-seld-dcase2023</td>\n",
       "    </tr>\n",
       "    <tr>\n",
       "      <th>21</th>\n",
       "      <td>Multi-ACCDOA: Localizing and Detecting Overlap...</td>\n",
       "      <td>https://github.com/sony/audio-visual-seld-dcas...</td>\n",
       "      <td>0</td>\n",
       "      <td>12</td>\n",
       "      <td>2023-02-20 01:12:32</td>\n",
       "      <td>0</td>\n",
       "      <td>audio-visual-seld-dcase2023</td>\n",
       "    </tr>\n",
       "    <tr>\n",
       "      <th>22</th>\n",
       "      <td>Mixed Precision DNNs: All you need is a good p...</td>\n",
       "      <td>https://github.com/sony/ai-research-code</td>\n",
       "      <td>54</td>\n",
       "      <td>299</td>\n",
       "      <td>2020-04-14 09:50:31</td>\n",
       "      <td>10</td>\n",
       "      <td>ai-research-code</td>\n",
       "    </tr>\n",
       "    <tr>\n",
       "      <th>23</th>\n",
       "      <td>All for One and One for All: Improving Music S...</td>\n",
       "      <td>https://github.com/sony/ai-research-code</td>\n",
       "      <td>54</td>\n",
       "      <td>299</td>\n",
       "      <td>2020-04-14 09:50:31</td>\n",
       "      <td>10</td>\n",
       "      <td>ai-research-code</td>\n",
       "    </tr>\n",
       "    <tr>\n",
       "      <th>24</th>\n",
       "      <td>Out-of-core Training for Extremely Large-Scale...</td>\n",
       "      <td>https://github.com/sony/ai-research-code</td>\n",
       "      <td>54</td>\n",
       "      <td>299</td>\n",
       "      <td>2020-04-14 09:50:31</td>\n",
       "      <td>10</td>\n",
       "      <td>ai-research-code</td>\n",
       "    </tr>\n",
       "    <tr>\n",
       "      <th>25</th>\n",
       "      <td>Densely connected multidilated convolutional n...</td>\n",
       "      <td>https://github.com/sony/ai-research-code</td>\n",
       "      <td>54</td>\n",
       "      <td>299</td>\n",
       "      <td>2020-04-14 09:50:31</td>\n",
       "      <td>10</td>\n",
       "      <td>ai-research-code</td>\n",
       "    </tr>\n",
       "    <tr>\n",
       "      <th>26</th>\n",
       "      <td>Data Cleansing for Deep Neural Networks with S...</td>\n",
       "      <td>https://github.com/sony/ai-research-code</td>\n",
       "      <td>54</td>\n",
       "      <td>299</td>\n",
       "      <td>2020-04-14 09:50:31</td>\n",
       "      <td>10</td>\n",
       "      <td>ai-research-code</td>\n",
       "    </tr>\n",
       "    <tr>\n",
       "      <th>27</th>\n",
       "      <td>NVC-Net: End-to-End Adversarial Voice Conversion</td>\n",
       "      <td>https://github.com/sony/ai-research-code</td>\n",
       "      <td>54</td>\n",
       "      <td>299</td>\n",
       "      <td>2020-04-14 09:50:31</td>\n",
       "      <td>10</td>\n",
       "      <td>ai-research-code</td>\n",
       "    </tr>\n",
       "  </tbody>\n",
       "</table>\n",
       "</div>"
      ],
      "text/plain": [
       "                                                title  \\\n",
       "0   Degree-of-linear-polarization-based Color Cons...   \n",
       "1   Evaluating the Robustness of Off-Policy Evalua...   \n",
       "2   pyloudnorm: A simple yet flexible loudness met...   \n",
       "3   Automatic multitrack mixing with a differentia...   \n",
       "4   Open Bandit Dataset and Pipeline: Towards Real...   \n",
       "5   CLIPSep: Learning Text-queried Sound Separatio...   \n",
       "6   DiffRoll: Diffusion-based Generative Music Tra...   \n",
       "7   Automatic music mixing with deep learning and ...   \n",
       "8   HPTQ: Hardware-Friendly Post Training Quantiza...   \n",
       "9   NDJIR: Neural Direct and Joint Inverse Renderi...   \n",
       "10  Neural Network Libraries: A Deep Learning Fram...   \n",
       "11  Neural Network Libraries: A Deep Learning Fram...   \n",
       "12  Simultaneous Acquisition of High Quality RGB I...   \n",
       "13  Simultaneous Acquisition of High Quality RGB I...   \n",
       "14  SQ-VAE: Variational Bayes on Discrete Represen...   \n",
       "15  Towards Precise and Efficient Image Guided Dep...   \n",
       "16  PENet: Towards Precise and Efficient Image Gui...   \n",
       "17            Audio-Visual SELD Baseline Architecture   \n",
       "18  Sound Event Localization and Detection of Over...   \n",
       "19  Overview and Evaluation of Sound Event Localiz...   \n",
       "20               YOLOX: Exceeding YOLO Series in 2021   \n",
       "21  Multi-ACCDOA: Localizing and Detecting Overlap...   \n",
       "22  Mixed Precision DNNs: All you need is a good p...   \n",
       "23  All for One and One for All: Improving Music S...   \n",
       "24  Out-of-core Training for Extremely Large-Scale...   \n",
       "25  Densely connected multidilated convolutional n...   \n",
       "26  Data Cleansing for Deep Neural Networks with S...   \n",
       "27   NVC-Net: End-to-End Adversarial Voice Conversion   \n",
       "\n",
       "                                            repo_link  forks  \\\n",
       "0         https://github.com/sony/dolp-colorconstancy      2   \n",
       "1                      https://github.com/sony/pyIEOE      2   \n",
       "2           https://github.com/csteinmetz1/pyloudnorm     47   \n",
       "3         https://github.com/csteinmetz1/pymixconsole     12   \n",
       "4                   https://github.com/st-tech/zr-obp     70   \n",
       "5                     https://github.com/sony/CLIPSep      0   \n",
       "6                    https://github.com/sony/DiffRoll      3   \n",
       "7              https://github.com/sony/FxNorm-automix      4   \n",
       "8          https://github.com/sony/model_optimization     26   \n",
       "9                       https://github.com/sony/NDJIR      2   \n",
       "10                     https://github.com/sony/nnabla    333   \n",
       "11                     https://github.com/sony/nnabla    333   \n",
       "12        https://github.com/sony/polar-densification      0   \n",
       "13        https://github.com/sony/polar-densification      0   \n",
       "14                      https://github.com/sony/sqvae     13   \n",
       "15           https://github.com/JUGGHM/PENet_ICRA2021     41   \n",
       "16           https://github.com/JUGGHM/PENet_ICRA2021     41   \n",
       "17  https://github.com/sony/audio-visual-seld-dcas...      0   \n",
       "18  https://github.com/sony/audio-visual-seld-dcas...      0   \n",
       "19  https://github.com/sony/audio-visual-seld-dcas...      0   \n",
       "20  https://github.com/sony/audio-visual-seld-dcas...      0   \n",
       "21  https://github.com/sony/audio-visual-seld-dcas...      0   \n",
       "22           https://github.com/sony/ai-research-code     54   \n",
       "23           https://github.com/sony/ai-research-code     54   \n",
       "24           https://github.com/sony/ai-research-code     54   \n",
       "25           https://github.com/sony/ai-research-code     54   \n",
       "26           https://github.com/sony/ai-research-code     54   \n",
       "27           https://github.com/sony/ai-research-code     54   \n",
       "\n",
       "    stargazers_count          created_at  open_issues_count  \\\n",
       "0                 11 2022-03-22 06:10:41                  0   \n",
       "1                 25 2021-07-20 05:21:15                  0   \n",
       "2                444 2017-11-12 13:56:23                 11   \n",
       "3                 88 2019-09-02 19:13:28                 13   \n",
       "4                533 2020-06-16 02:10:15                 19   \n",
       "5                 16 2023-01-24 03:45:58                  1   \n",
       "6                 42 2022-10-11 09:25:28                  0   \n",
       "7                 48 2022-08-05 03:21:35                  1   \n",
       "8                162 2021-06-21 03:28:09                  7   \n",
       "9                 33 2022-12-14 02:43:35                  2   \n",
       "10              2618 2017-06-26 01:07:10                 31   \n",
       "11              2618 2017-06-26 01:07:10                 31   \n",
       "12                16 2022-09-13 02:50:06                  0   \n",
       "13                16 2022-09-13 02:50:06                  0   \n",
       "14               128 2022-05-26 06:40:40                  1   \n",
       "15               264 2021-02-26 10:07:18                 32   \n",
       "16               264 2021-02-26 10:07:18                 32   \n",
       "17                12 2023-02-20 01:12:32                  0   \n",
       "18                12 2023-02-20 01:12:32                  0   \n",
       "19                12 2023-02-20 01:12:32                  0   \n",
       "20                12 2023-02-20 01:12:32                  0   \n",
       "21                12 2023-02-20 01:12:32                  0   \n",
       "22               299 2020-04-14 09:50:31                 10   \n",
       "23               299 2020-04-14 09:50:31                 10   \n",
       "24               299 2020-04-14 09:50:31                 10   \n",
       "25               299 2020-04-14 09:50:31                 10   \n",
       "26               299 2020-04-14 09:50:31                 10   \n",
       "27               299 2020-04-14 09:50:31                 10   \n",
       "\n",
       "                           name  \n",
       "0           dolp-colorconstancy  \n",
       "1                        pyIEOE  \n",
       "2                    pyloudnorm  \n",
       "3                  pymixconsole  \n",
       "4                        zr-obp  \n",
       "5                       CLIPSep  \n",
       "6                      DiffRoll  \n",
       "7                FxNorm-automix  \n",
       "8            model_optimization  \n",
       "9                         NDJIR  \n",
       "10                       nnabla  \n",
       "11                       nnabla  \n",
       "12          polar-densification  \n",
       "13          polar-densification  \n",
       "14                        sqvae  \n",
       "15               PENet_ICRA2021  \n",
       "16               PENet_ICRA2021  \n",
       "17  audio-visual-seld-dcase2023  \n",
       "18  audio-visual-seld-dcase2023  \n",
       "19  audio-visual-seld-dcase2023  \n",
       "20  audio-visual-seld-dcase2023  \n",
       "21  audio-visual-seld-dcase2023  \n",
       "22             ai-research-code  \n",
       "23             ai-research-code  \n",
       "24             ai-research-code  \n",
       "25             ai-research-code  \n",
       "26             ai-research-code  \n",
       "27             ai-research-code  "
      ]
     },
     "execution_count": 11,
     "metadata": {},
     "output_type": "execute_result"
    }
   ],
   "source": [
    "df = RepoTools.loadExtendedRepoWithReadmeAndGetPaperDf(companyName, ignoreArxivIfPaperTitleExists=False)\n",
    "print(len(df))\n",
    "df"
   ]
  },
  {
   "cell_type": "markdown",
   "id": "3b93806c-49f3-4f94-a2cc-4cc64a8a765f",
   "metadata": {
    "tags": []
   },
   "source": [
    "### This line saves the papers as CSV "
   ]
  },
  {
   "cell_type": "code",
   "execution_count": 442,
   "id": "dc282b6f-f980-4660-ac22-47263b8b4fc1",
   "metadata": {},
   "outputs": [],
   "source": [
    "DataTools.saveDfInCSV(df, f'{companyName}Papers')"
   ]
  },
  {
   "cell_type": "code",
   "execution_count": 441,
   "id": "9a7454d0-6608-4a0f-a80a-d93dc6cba3f0",
   "metadata": {},
   "outputs": [
    {
     "data": {
      "text/plain": [
       "64"
      ]
     },
     "execution_count": 441,
     "metadata": {},
     "output_type": "execute_result"
    }
   ],
   "source": [
    "len(df[df.repo_link.str.contains(companyName)])"
   ]
  },
  {
   "cell_type": "markdown",
   "id": "15106e77-b302-4b71-801f-af5a6f6d4cdc",
   "metadata": {},
   "source": [
    "### "
   ]
  },
  {
   "cell_type": "markdown",
   "id": "d5e13883-0552-4283-bfe2-994486d2b420",
   "metadata": {},
   "source": [
    "# "
   ]
  },
  {
   "cell_type": "markdown",
   "id": "05a115bd-210a-4db0-92c9-1d8f0ad9246b",
   "metadata": {
    "tags": []
   },
   "source": [
    "### rest of the stuff (not important) "
   ]
  },
  {
   "cell_type": "code",
   "execution_count": 391,
   "id": "e2949de6-5b9c-4649-8e59-8b2664eca79b",
   "metadata": {},
   "outputs": [],
   "source": [
    "a = [_ for _ in data if _['repo'].full_name == 'sony/ai-research-code']"
   ]
  },
  {
   "cell_type": "code",
   "execution_count": 367,
   "id": "d8a904e6-202d-4883-b817-bbf8cfb9c70e",
   "metadata": {},
   "outputs": [],
   "source": [
    "username = 'NVLabs'\n",
    "exData = RepoTools.loadPickle(f'extended_{username}RepoWithReadmes')"
   ]
  },
  {
   "cell_type": "code",
   "execution_count": 13,
   "id": "d7be6cda-2cb9-4193-8501-c1c3ea77461a",
   "metadata": {},
   "outputs": [],
   "source": []
  },
  {
   "cell_type": "code",
   "execution_count": 6,
   "id": "afa65b8d-6d8c-4aa3-81d5-8a06bed0faed",
   "metadata": {},
   "outputs": [
    {
     "name": "stdout",
     "output_type": "stream",
     "text": [
      "Already exists for Amazon, ignoring...\n",
      "Already exists for Apple, ignoring...\n",
      "Already exists for NVIDIA, ignoring...\n",
      "Already exists for Siemens AG, ignoring...\n",
      "Already exists for Sony Corporation, ignoring...\n"
     ]
    },
    {
     "name": "stderr",
     "output_type": "stream",
     "text": [
      " 23%|█████████████████████████████▋                                                                                                     | 255/1123 [00:00<00:01, 616.39it/s]"
     ]
    },
    {
     "name": "stdout",
     "output_type": "stream",
     "text": [
      "Found more than 10 arxiv links in the readme of https://github.com/facebookresearch/Detectron. Ignoring the links\n",
      "Found more than 10 arxiv links in the readme of https://github.com/facebookresearch/disentangling-correlated-factors. Ignoring the links\n",
      "Found more than 10 arxiv links in the readme of https://github.com/facebookresearch/DomainBed. Ignoring the links\n"
     ]
    },
    {
     "name": "stderr",
     "output_type": "stream",
     "text": [
      " 46%|████████████████████████████████████████████████████████████▊                                                                      | 521/1123 [00:00<00:01, 579.86it/s]"
     ]
    },
    {
     "name": "stdout",
     "output_type": "stream",
     "text": [
      "Found more than 10 arxiv links in the readme of https://github.com/facebookresearch/minihack. Ignoring the links\n",
      "Found more than 10 arxiv links in the readme of https://github.com/facebookresearch/ParlAI. Ignoring the links\n"
     ]
    },
    {
     "name": "stderr",
     "output_type": "stream",
     "text": [
      " 63%|██████████████████████████████████████████████████████████████████████████████████▋                                                | 709/1123 [00:01<00:00, 546.10it/s]"
     ]
    },
    {
     "name": "stdout",
     "output_type": "stream",
     "text": [
      "Found more than 10 arxiv links in the readme of https://github.com/facebookresearch/ReAgent. Ignoring the links\n"
     ]
    },
    {
     "name": "stderr",
     "output_type": "stream",
     "text": [
      " 69%|██████████████████████████████████████████████████████████████████████████████████████████▎                                        | 774/1123 [00:01<00:00, 573.29it/s]"
     ]
    },
    {
     "name": "stdout",
     "output_type": "stream",
     "text": [
      "Found more than 10 arxiv links in the readme of https://github.com/facebookresearch/vissl. Ignoring the links\n"
     ]
    },
    {
     "name": "stderr",
     "output_type": "stream",
     "text": [
      " 79%|███████████████████████████████████████████████████████████████████████████████████████████████████████                            | 884/1123 [00:03<00:01, 123.49it/s]"
     ]
    },
    {
     "name": "stdout",
     "output_type": "stream",
     "text": [
      "Found more than 10 arxiv links in the readme of https://github.com/facebookresearch/xformers. Ignoring the links\n",
      "Found more than 10 arxiv links in the readme of https://github.com/budzianowski/multiwoz. Ignoring the links\n",
      "Found more than 10 arxiv links in the readme of https://github.com/denisyarats/exorl. Ignoring the links\n"
     ]
    },
    {
     "name": "stderr",
     "output_type": "stream",
     "text": [
      " 90%|█████████████████████████████████████████████████████████████████████████████████████████████████████████████████████▎            | 1013/1123 [00:03<00:00, 210.43it/s]"
     ]
    },
    {
     "name": "stdout",
     "output_type": "stream",
     "text": [
      "Found more than 10 arxiv links in the readme of https://github.com/huggingface/diffusers. Ignoring the links\n",
      "Found more than 10 arxiv links in the readme of https://github.com/huggingface/transformers. Ignoring the links\n",
      "Found more than 10 arxiv links in the readme of https://github.com/huggingface/transformers. Ignoring the links\n",
      "Found more than 10 arxiv links in the readme of https://github.com/huggingface/transformers. Ignoring the links\n",
      "Found more than 10 arxiv links in the readme of https://github.com/kahne/SpeechTransProgress. Ignoring the links\n",
      "Found more than 10 arxiv links in the readme of https://github.com/microsoft/unilm. Ignoring the links\n",
      "Found more than 10 arxiv links in the readme of https://github.com/mlfoundations/open_clip. Ignoring the links\n"
     ]
    },
    {
     "name": "stderr",
     "output_type": "stream",
     "text": [
      " 96%|█████████████████████████████████████████████████████████████████████████████████████████████████████████████████████████████▎    | 1083/1123 [00:03<00:00, 273.52it/s]"
     ]
    },
    {
     "name": "stdout",
     "output_type": "stream",
     "text": [
      "Found more than 10 arxiv links in the readme of https://github.com/pyg-team/pytorch_geometric. Ignoring the links\n",
      "Found more than 10 arxiv links in the readme of https://github.com/huggingface/pytorch-image-models. Ignoring the links\n"
     ]
    },
    {
     "name": "stderr",
     "output_type": "stream",
     "text": [
      "100%|██████████████████████████████████████████████████████████████████████████████████████████████████████████████████████████████████| 1123/1123 [00:05<00:00, 213.24it/s]\n",
      "100%|███████████████████████████████████████████████████████████████████████████████████████████████████████████████████████████████████| 152/152 [00:00<00:00, 5329.75it/s]\n"
     ]
    }
   ],
   "source": [
    "Extractor.extractFromConfig()"
   ]
  },
  {
   "cell_type": "code",
   "execution_count": 7,
   "id": "e7915359-9173-4592-b339-6a993085a110",
   "metadata": {},
   "outputs": [
    {
     "data": {
      "text/html": [
       "<div>\n",
       "<style scoped>\n",
       "    .dataframe tbody tr th:only-of-type {\n",
       "        vertical-align: middle;\n",
       "    }\n",
       "\n",
       "    .dataframe tbody tr th {\n",
       "        vertical-align: top;\n",
       "    }\n",
       "\n",
       "    .dataframe thead th {\n",
       "        text-align: right;\n",
       "    }\n",
       "</style>\n",
       "<table border=\"1\" class=\"dataframe\">\n",
       "  <thead>\n",
       "    <tr style=\"text-align: right;\">\n",
       "      <th></th>\n",
       "      <th>title</th>\n",
       "      <th>repo_link</th>\n",
       "      <th>forks</th>\n",
       "      <th>stargazers_count</th>\n",
       "      <th>created_at</th>\n",
       "      <th>open_issues_count</th>\n",
       "      <th>name</th>\n",
       "    </tr>\n",
       "  </thead>\n",
       "  <tbody>\n",
       "    <tr>\n",
       "      <th>0</th>\n",
       "      <td>ACT: Designing Sustainable Computer Systems wi...</td>\n",
       "      <td>https://github.com/facebookresearch/ACT</td>\n",
       "      <td>8</td>\n",
       "      <td>30</td>\n",
       "      <td>2022-05-13 18:41:55</td>\n",
       "      <td>0</td>\n",
       "      <td>ACT</td>\n",
       "    </tr>\n",
       "    <tr>\n",
       "      <th>1</th>\n",
       "      <td>Cross-Domain Adaptive Teacher for Object Detec...</td>\n",
       "      <td>https://github.com/facebookresearch/adaptive_t...</td>\n",
       "      <td>18</td>\n",
       "      <td>118</td>\n",
       "      <td>2022-04-09 00:45:38</td>\n",
       "      <td>29</td>\n",
       "      <td>adaptive_teacher</td>\n",
       "    </tr>\n",
       "    <tr>\n",
       "      <th>2</th>\n",
       "      <td>On the Efficacy of Adversarial Data Collection...</td>\n",
       "      <td>https://github.com/facebookresearch/aqa-study</td>\n",
       "      <td>2</td>\n",
       "      <td>9</td>\n",
       "      <td>2021-06-01 21:49:49</td>\n",
       "      <td>0</td>\n",
       "      <td>aqa-study</td>\n",
       "    </tr>\n",
       "    <tr>\n",
       "      <th>3</th>\n",
       "      <td>Aria Data Tools</td>\n",
       "      <td>https://github.com/facebookresearch/Aria_data_...</td>\n",
       "      <td>17</td>\n",
       "      <td>95</td>\n",
       "      <td>2022-05-10 04:08:43</td>\n",
       "      <td>3</td>\n",
       "      <td>Aria_data_tools</td>\n",
       "    </tr>\n",
       "    <tr>\n",
       "      <th>4</th>\n",
       "      <td>Aria Pilot Dataset</td>\n",
       "      <td>https://github.com/facebookresearch/Aria_data_...</td>\n",
       "      <td>17</td>\n",
       "      <td>95</td>\n",
       "      <td>2022-05-10 04:08:43</td>\n",
       "      <td>3</td>\n",
       "      <td>Aria_data_tools</td>\n",
       "    </tr>\n",
       "    <tr>\n",
       "      <th>...</th>\n",
       "      <td>...</td>\n",
       "      <td>...</td>\n",
       "      <td>...</td>\n",
       "      <td>...</td>\n",
       "      <td>...</td>\n",
       "      <td>...</td>\n",
       "      <td>...</td>\n",
       "    </tr>\n",
       "    <tr>\n",
       "      <th>1332</th>\n",
       "      <td>LayoutLMv2: Multi-modal Pre-training for Visua...</td>\n",
       "      <td>https://github.com/facebookresearch/data2vec_v...</td>\n",
       "      <td>7</td>\n",
       "      <td>69</td>\n",
       "      <td>2022-03-30 19:53:47</td>\n",
       "      <td>0</td>\n",
       "      <td>data2vec_vision</td>\n",
       "    </tr>\n",
       "    <tr>\n",
       "      <th>1333</th>\n",
       "      <td>MiniLMv2: Multi-Head Self-Attention Relation D...</td>\n",
       "      <td>https://github.com/facebookresearch/data2vec_v...</td>\n",
       "      <td>7</td>\n",
       "      <td>69</td>\n",
       "      <td>2022-03-30 19:53:47</td>\n",
       "      <td>0</td>\n",
       "      <td>data2vec_vision</td>\n",
       "    </tr>\n",
       "    <tr>\n",
       "      <th>1334</th>\n",
       "      <td>UniSpeech: Unified Speech Representation Learn...</td>\n",
       "      <td>https://github.com/facebookresearch/data2vec_v...</td>\n",
       "      <td>7</td>\n",
       "      <td>69</td>\n",
       "      <td>2022-03-30 19:53:47</td>\n",
       "      <td>0</td>\n",
       "      <td>data2vec_vision</td>\n",
       "    </tr>\n",
       "    <tr>\n",
       "      <th>1335</th>\n",
       "      <td>LayoutXLM: Multimodal Pre-training for Multili...</td>\n",
       "      <td>https://github.com/facebookresearch/data2vec_v...</td>\n",
       "      <td>7</td>\n",
       "      <td>69</td>\n",
       "      <td>2022-03-30 19:53:47</td>\n",
       "      <td>0</td>\n",
       "      <td>data2vec_vision</td>\n",
       "    </tr>\n",
       "    <tr>\n",
       "      <th>1336</th>\n",
       "      <td>CocoaLumberjack class diagram</td>\n",
       "      <td>https://github.com/CocoaLumberjack/CocoaLumber...</td>\n",
       "      <td>2256</td>\n",
       "      <td>12948</td>\n",
       "      <td>2011-03-31 02:38:39</td>\n",
       "      <td>10</td>\n",
       "      <td>CocoaLumberjack</td>\n",
       "    </tr>\n",
       "  </tbody>\n",
       "</table>\n",
       "<p>1337 rows × 7 columns</p>\n",
       "</div>"
      ],
      "text/plain": [
       "                                                  title  \\\n",
       "0     ACT: Designing Sustainable Computer Systems wi...   \n",
       "1     Cross-Domain Adaptive Teacher for Object Detec...   \n",
       "2     On the Efficacy of Adversarial Data Collection...   \n",
       "3                                       Aria Data Tools   \n",
       "4                                    Aria Pilot Dataset   \n",
       "...                                                 ...   \n",
       "1332  LayoutLMv2: Multi-modal Pre-training for Visua...   \n",
       "1333  MiniLMv2: Multi-Head Self-Attention Relation D...   \n",
       "1334  UniSpeech: Unified Speech Representation Learn...   \n",
       "1335  LayoutXLM: Multimodal Pre-training for Multili...   \n",
       "1336                      CocoaLumberjack class diagram   \n",
       "\n",
       "                                              repo_link  forks  \\\n",
       "0               https://github.com/facebookresearch/ACT      8   \n",
       "1     https://github.com/facebookresearch/adaptive_t...     18   \n",
       "2         https://github.com/facebookresearch/aqa-study      2   \n",
       "3     https://github.com/facebookresearch/Aria_data_...     17   \n",
       "4     https://github.com/facebookresearch/Aria_data_...     17   \n",
       "...                                                 ...    ...   \n",
       "1332  https://github.com/facebookresearch/data2vec_v...      7   \n",
       "1333  https://github.com/facebookresearch/data2vec_v...      7   \n",
       "1334  https://github.com/facebookresearch/data2vec_v...      7   \n",
       "1335  https://github.com/facebookresearch/data2vec_v...      7   \n",
       "1336  https://github.com/CocoaLumberjack/CocoaLumber...   2256   \n",
       "\n",
       "      stargazers_count           created_at  open_issues_count  \\\n",
       "0                   30  2022-05-13 18:41:55                  0   \n",
       "1                  118  2022-04-09 00:45:38                 29   \n",
       "2                    9  2021-06-01 21:49:49                  0   \n",
       "3                   95  2022-05-10 04:08:43                  3   \n",
       "4                   95  2022-05-10 04:08:43                  3   \n",
       "...                ...                  ...                ...   \n",
       "1332                69  2022-03-30 19:53:47                  0   \n",
       "1333                69  2022-03-30 19:53:47                  0   \n",
       "1334                69  2022-03-30 19:53:47                  0   \n",
       "1335                69  2022-03-30 19:53:47                  0   \n",
       "1336             12948  2011-03-31 02:38:39                 10   \n",
       "\n",
       "                  name  \n",
       "0                  ACT  \n",
       "1     adaptive_teacher  \n",
       "2            aqa-study  \n",
       "3      Aria_data_tools  \n",
       "4      Aria_data_tools  \n",
       "...                ...  \n",
       "1332   data2vec_vision  \n",
       "1333   data2vec_vision  \n",
       "1334   data2vec_vision  \n",
       "1335   data2vec_vision  \n",
       "1336   CocoaLumberjack  \n",
       "\n",
       "[1337 rows x 7 columns]"
      ]
     },
     "execution_count": 7,
     "metadata": {},
     "output_type": "execute_result"
    }
   ],
   "source": [
    "Extractor.loadCSVFromOutput(\"Facebook\")"
   ]
  },
  {
   "cell_type": "code",
   "execution_count": null,
   "id": "b77c6bbe-e7d4-48af-b949-e31fe16dd2c8",
   "metadata": {},
   "outputs": [],
   "source": []
  }
 ],
 "metadata": {
  "kernelspec": {
   "display_name": "Python 3 (ipykernel)",
   "language": "python",
   "name": "python3"
  },
  "language_info": {
   "codemirror_mode": {
    "name": "ipython",
    "version": 3
   },
   "file_extension": ".py",
   "mimetype": "text/x-python",
   "name": "python",
   "nbconvert_exporter": "python",
   "pygments_lexer": "ipython3",
   "version": "3.8.16"
  }
 },
 "nbformat": 4,
 "nbformat_minor": 5
}
