{
 "cells": [
  {
   "cell_type": "code",
   "execution_count": 1,
   "id": "2bba688a-5491-43d2-84d9-1bd275b99959",
   "metadata": {},
   "outputs": [
    {
     "name": "stdout",
     "output_type": "stream",
     "text": [
      "current working dir/Volumes/Zarif/myStuff/research/repoPaper/src\n"
     ]
    }
   ],
   "source": [
    "import requests\n",
    "from bs4 import BeautifulSoup\n",
    "import pandas as pd\n",
    "from tqdm import tqdm\n",
    "import os, sys\n",
    "exec(open(\"init_notebook.py\").read())\n",
    "from DataTools import DataTools\n",
    "from RepoTools import RepoTools"
   ]
  },
  {
   "cell_type": "code",
   "execution_count": 2,
   "id": "f2f594bd-287f-41ed-a0fe-a74e3198b9f2",
   "metadata": {},
   "outputs": [],
   "source": [
    "%load_ext autoreload\n",
    "%autoreload 2"
   ]
  },
  {
   "cell_type": "markdown",
   "id": "f4b86b98-4a9e-4283-8c86-d1b759694ab0",
   "metadata": {},
   "source": [
    "### Run this to get `extendedData` from Scratch"
   ]
  },
  {
   "cell_type": "code",
   "execution_count": 438,
   "id": "307ff17c-0501-4335-8327-da33c5ff550e",
   "metadata": {},
   "outputs": [],
   "source": [
    "# set company name\n",
    "companyName = \"NVIDIA\""
   ]
  },
  {
   "cell_type": "code",
   "execution_count": 412,
   "id": "9f8bdac2-d8a8-43d4-a90e-e2b61b0a481d",
   "metadata": {},
   "outputs": [
    {
     "name": "stderr",
     "output_type": "stream",
     "text": [
      "  0%|                                                                                                                                                 | 0/7 [00:00<?, ?it/s]"
     ]
    },
    {
     "name": "stdout",
     "output_type": "stream",
     "text": [
      "Page: 0/7\n"
     ]
    },
    {
     "name": "stderr",
     "output_type": "stream",
     "text": [
      " 14%|███████████████████▌                                                                                                                     | 1/7 [00:00<00:04,  1.32it/s]"
     ]
    },
    {
     "name": "stdout",
     "output_type": "stream",
     "text": [
      "Page: 1/7\n"
     ]
    },
    {
     "name": "stderr",
     "output_type": "stream",
     "text": [
      " 29%|███████████████████████████████████████▏                                                                                                 | 2/7 [00:01<00:03,  1.33it/s]"
     ]
    },
    {
     "name": "stdout",
     "output_type": "stream",
     "text": [
      "Page: 2/7\n"
     ]
    },
    {
     "name": "stderr",
     "output_type": "stream",
     "text": [
      " 43%|██████████████████████████████████████████████████████████▋                                                                              | 3/7 [00:02<00:02,  1.35it/s]"
     ]
    },
    {
     "name": "stdout",
     "output_type": "stream",
     "text": [
      "Page: 3/7\n"
     ]
    },
    {
     "name": "stderr",
     "output_type": "stream",
     "text": [
      " 57%|██████████████████████████████████████████████████████████████████████████████▎                                                          | 4/7 [00:02<00:02,  1.37it/s]"
     ]
    },
    {
     "name": "stdout",
     "output_type": "stream",
     "text": [
      "Page: 4/7\n"
     ]
    },
    {
     "name": "stderr",
     "output_type": "stream",
     "text": [
      " 71%|█████████████████████████████████████████████████████████████████████████████████████████████████▊                                       | 5/7 [00:03<00:01,  1.37it/s]"
     ]
    },
    {
     "name": "stdout",
     "output_type": "stream",
     "text": [
      "Page: 5/7\n"
     ]
    },
    {
     "name": "stderr",
     "output_type": "stream",
     "text": [
      " 86%|█████████████████████████████████████████████████████████████████████████████████████████████████████████████████████▍                   | 6/7 [00:04<00:00,  1.37it/s]"
     ]
    },
    {
     "name": "stdout",
     "output_type": "stream",
     "text": [
      "Page: 6/7\n"
     ]
    },
    {
     "name": "stderr",
     "output_type": "stream",
     "text": [
      "100%|█████████████████████████████████████████████████████████████████████████████████████████████████████████████████████████████████████████| 7/7 [00:04<00:00,  1.41it/s]\n"
     ]
    },
    {
     "name": "stdout",
     "output_type": "stream",
     "text": [
      "Fetching the readmes from the repos\n"
     ]
    },
    {
     "name": "stderr",
     "output_type": "stream",
     "text": [
      "100%|█████████████████████████████████████████████████████████████████████████████████████████████████████████████████████████████████████| 197/197 [01:25<00:00,  2.30it/s]\n"
     ]
    },
    {
     "name": "stdout",
     "output_type": "stream",
     "text": [
      "Fetching the extra github links and readmes from the repoWithReadme\n",
      "Found more than 5 github links in https://github.com/apple/llvm-monorepo-root. Ignoring all of them. Please check the readme\n",
      "Found more than 5 github links in https://github.com/apple/llvm-project-v5. Ignoring all of them. Please check the readme\n",
      "Found more than 5 github links in https://github.com/apple/MaterialX. Ignoring all of them. Please check the readme\n",
      "Found more than 5 github links in https://github.com/apple/ml-covid-mobility. Ignoring all of them. Please check the readme\n",
      "Found more than 5 github links in https://github.com/apple/ml-facelit. Ignoring all of them. Please check the readme\n",
      "Found more than 5 github links in https://github.com/apple/ml-no-token-left-behind. Ignoring all of them. Please check the readme\n",
      "Found more than 5 github links in https://github.com/apple/ml-stable-diffusion. Ignoring all of them. Please check the readme\n",
      "Found more than 5 github links in https://github.com/apple/swift-algorithms. Ignoring all of them. Please check the readme\n",
      "Found more than 5 github links in https://github.com/apple/swift-async-algorithms. Ignoring all of them. Please check the readme\n",
      "Found more than 5 github links in https://github.com/apple/swift-atomics. Ignoring all of them. Please check the readme\n",
      "Found more than 5 github links in https://github.com/apple/swift-cassandra-client. Ignoring all of them. Please check the readme\n",
      "Found more than 5 github links in https://github.com/apple/swift-cluster-membership. Ignoring all of them. Please check the readme\n",
      "Found more than 5 github links in https://github.com/apple/swift-cmark. Ignoring all of them. Please check the readme\n",
      "Found more than 5 github links in https://github.com/apple/swift-collections. Ignoring all of them. Please check the readme\n",
      "Found more than 5 github links in https://github.com/apple/swift-collections-benchmark. Ignoring all of them. Please check the readme\n",
      "Found more than 5 github links in https://github.com/apple/swift-distributed-tracing. Ignoring all of them. Please check the readme\n",
      "Found more than 5 github links in https://github.com/apple/swift-distributed-tracing-extras. Ignoring all of them. Please check the readme\n",
      "Found more than 5 github links in https://github.com/apple/swift-docc. Ignoring all of them. Please check the readme\n",
      "Found more than 5 github links in https://github.com/apple/swift-driver. Ignoring all of them. Please check the readme\n",
      "Found more than 5 github links in https://github.com/apple/swift-foundation. Ignoring all of them. Please check the readme\n",
      "Found more than 5 github links in https://github.com/apple/swift-log. Ignoring all of them. Please check the readme\n",
      "Found more than 5 github links in https://github.com/apple/swift-markdown. Ignoring all of them. Please check the readme\n",
      "Found more than 5 github links in https://github.com/apple/swift-metrics. Ignoring all of them. Please check the readme\n",
      "Found more than 5 github links in https://github.com/apple/swift-nio. Ignoring all of them. Please check the readme\n",
      "Found more than 5 github links in https://github.com/apple/swift-nio-http2. Ignoring all of them. Please check the readme\n",
      "Found more than 5 github links in https://github.com/apple/swift-nio-transport-services. Ignoring all of them. Please check the readme\n",
      "Found more than 5 github links in https://github.com/apple/swift-protobuf. Ignoring all of them. Please check the readme\n",
      "Found more than 5 github links in https://github.com/apple/swift-source-compat-suite. Ignoring all of them. Please check the readme\n"
     ]
    },
    {
     "name": "stderr",
     "output_type": "stream",
     "text": [
      " 83%|███████████████████████████████████████████████████████████████████████████████████████████████████████████████▋                      | 95/114 [00:46<00:08,  2.37it/s]"
     ]
    },
    {
     "name": "stdout",
     "output_type": "stream",
     "text": [
      "Could not find repository for this link : prlz77/ResNeXt\n"
     ]
    },
    {
     "name": "stderr",
     "output_type": "stream",
     "text": [
      " 88%|████████████████████████████████████████████████████████████████████████████████████████████████████████████████████▋                | 100/114 [00:49<00:07,  1.80it/s]"
     ]
    },
    {
     "name": "stdout",
     "output_type": "stream",
     "text": [
      "Could not find repository for this link : settings/tokens\n"
     ]
    },
    {
     "name": "stderr",
     "output_type": "stream",
     "text": [
      "100%|█████████████████████████████████████████████████████████████████████████████████████████████████████████████████████████████████████| 114/114 [00:57<00:00,  1.98it/s]\n"
     ]
    },
    {
     "name": "stdout",
     "output_type": "stream",
     "text": [
      "Fetching the readmes from the repos\n"
     ]
    },
    {
     "name": "stderr",
     "output_type": "stream",
     "text": [
      "100%|███████████████████████████████████████████████████████████████████████████████████████████████████████████████████████████████████████| 43/43 [00:18<00:00,  2.38it/s]\n",
      " 20%|██████████████████████████▎                                                                                                           | 46/234 [00:10<01:31,  2.05it/s]"
     ]
    },
    {
     "name": "stdout",
     "output_type": "stream",
     "text": [
      "Found more than 10 arxiv links in the readme of https://github.com/apple/ml-cvnets. Ignoring the links\n"
     ]
    },
    {
     "name": "stderr",
     "output_type": "stream",
     "text": [
      " 88%|█████████████████████████████████████████████████████████████████████████████████████████████████████████████████████▋               | 207/234 [01:14<00:10,  2.67it/s]"
     ]
    },
    {
     "name": "stdout",
     "output_type": "stream",
     "text": [
      "Found more than 10 arxiv links in the readme of https://github.com/huggingface/transformers. Ignoring the links\n"
     ]
    },
    {
     "name": "stderr",
     "output_type": "stream",
     "text": [
      " 97%|█████████████████████████████████████████████████████████████████████████████████████████████████████████████████████████████████▌   | 228/234 [01:23<00:02,  2.80it/s]"
     ]
    },
    {
     "name": "stdout",
     "output_type": "stream",
     "text": [
      "Found more than 10 arxiv links in the readme of https://github.com/rail-berkeley/rlkit. Ignoring the links\n"
     ]
    },
    {
     "name": "stderr",
     "output_type": "stream",
     "text": [
      "100%|█████████████████████████████████████████████████████████████████████████████████████████████████████████████████████████████████████| 234/234 [01:24<00:00,  2.77it/s]\n"
     ]
    }
   ],
   "source": [
    "extendedData = RepoTools.savePaperNameFromGithubUser(companyName, saveRepoWithReadme=True, saveExtendedRepoWithReadme=True)"
   ]
  },
  {
   "cell_type": "markdown",
   "id": "6fce40b3-2ca7-4222-a16d-e5c3ce8592b7",
   "metadata": {},
   "source": [
    "### Or this, if you have repoDataWithReadme saved already and only need to fetch papers from them "
   ]
  },
  {
   "cell_type": "code",
   "execution_count": 439,
   "id": "13f6040f-a6b1-416b-bbc9-309e76f3aeac",
   "metadata": {},
   "outputs": [
    {
     "name": "stderr",
     "output_type": "stream",
     "text": [
      " 87%|████████████████████████████████████████████████████████████████████████████████████████████████████████████████████▎                | 363/415 [01:31<00:14,  3.64it/s]"
     ]
    },
    {
     "name": "stdout",
     "output_type": "stream",
     "text": [
      "Found more than 10 arxiv links in the readme of https://github.com/r9y9/wavenet_vocoder. Ignoring the links\n",
      "Found more than 10 arxiv links in the readme of https://github.com/pyg-team/pytorch_geometric. Ignoring the links\n"
     ]
    },
    {
     "name": "stderr",
     "output_type": "stream",
     "text": [
      "100%|█████████████████████████████████████████████████████████████████████████████████████████████████████████████████████████████████████| 415/415 [01:32<00:00,  4.47it/s]\n"
     ]
    }
   ],
   "source": [
    "extendedData = RepoTools.loadReposWithReadmeAndGetExtendedData(companyName, saveExtendedRepoWithReadme=True)"
   ]
  },
  {
   "cell_type": "markdown",
   "id": "9c2ce23f-ecbc-4d04-875e-6998855ab5ba",
   "metadata": {},
   "source": [
    "### run this to get the papers with link as a df. Checking `ignoreArxivIfPaperTitleExists` will result in a more refined (yet less exhaustive) papers"
   ]
  },
  {
   "cell_type": "code",
   "execution_count": 440,
   "id": "f9c93673-9768-4d7e-8b29-d4a8fe66cd57",
   "metadata": {},
   "outputs": [
    {
     "name": "stdout",
     "output_type": "stream",
     "text": [
      "76\n"
     ]
    },
    {
     "data": {
      "text/html": [
       "<div>\n",
       "<style scoped>\n",
       "    .dataframe tbody tr th:only-of-type {\n",
       "        vertical-align: middle;\n",
       "    }\n",
       "\n",
       "    .dataframe tbody tr th {\n",
       "        vertical-align: top;\n",
       "    }\n",
       "\n",
       "    .dataframe thead th {\n",
       "        text-align: right;\n",
       "    }\n",
       "</style>\n",
       "<table border=\"1\" class=\"dataframe\">\n",
       "  <thead>\n",
       "    <tr style=\"text-align: right;\">\n",
       "      <th></th>\n",
       "      <th>title</th>\n",
       "      <th>repo_link</th>\n",
       "    </tr>\n",
       "  </thead>\n",
       "  <tbody>\n",
       "    <tr>\n",
       "      <th>0</th>\n",
       "      <td>NDDS: NVIDIA Deep Learning Dataset Synthesizer...</td>\n",
       "      <td>https://github.com/NVIDIA/Dataset_Synthesizer</td>\n",
       "    </tr>\n",
       "    <tr>\n",
       "      <th>1</th>\n",
       "      <td>NeMo (Inverse) Text Normalization: From Develo...</td>\n",
       "      <td>https://github.com/NVIDIA/NeMo-text-processing</td>\n",
       "    </tr>\n",
       "    <tr>\n",
       "      <th>2</th>\n",
       "      <td>NVVL: NVIDIA Video Loader</td>\n",
       "      <td>https://github.com/NVIDIA/nvvl</td>\n",
       "    </tr>\n",
       "    <tr>\n",
       "      <th>3</th>\n",
       "      <td>High-Resolution Image Synthesis and Semantic M...</td>\n",
       "      <td>https://github.com/NVIDIA/pix2pixHD</td>\n",
       "    </tr>\n",
       "    <tr>\n",
       "      <th>4</th>\n",
       "      <td>NVIDIA Rivermax SDK</td>\n",
       "      <td>https://github.com/NVIDIA/Rivermax</td>\n",
       "    </tr>\n",
       "    <tr>\n",
       "      <th>...</th>\n",
       "      <td>...</td>\n",
       "      <td>...</td>\n",
       "    </tr>\n",
       "    <tr>\n",
       "      <th>71</th>\n",
       "      <td>Improving language models by retrieving from t...</td>\n",
       "      <td>https://github.com/NVIDIA/Megatron-LM</td>\n",
       "    </tr>\n",
       "    <tr>\n",
       "      <th>72</th>\n",
       "      <td>Few-shot Instruction Prompts for Pretrained La...</td>\n",
       "      <td>https://github.com/NVIDIA/Megatron-LM</td>\n",
       "    </tr>\n",
       "    <tr>\n",
       "      <th>73</th>\n",
       "      <td>Using DeepSpeed and Megatron to Train Megatron...</td>\n",
       "      <td>https://github.com/NVIDIA/Megatron-LM</td>\n",
       "    </tr>\n",
       "    <tr>\n",
       "      <th>74</th>\n",
       "      <td>Exploring the Limits of Domain-Adaptive Traini...</td>\n",
       "      <td>https://github.com/NVIDIA/Megatron-LM</td>\n",
       "    </tr>\n",
       "    <tr>\n",
       "      <th>75</th>\n",
       "      <td>Multi-Stage Prompting for Knowledgeable Dialog...</td>\n",
       "      <td>https://github.com/NVIDIA/Megatron-LM</td>\n",
       "    </tr>\n",
       "  </tbody>\n",
       "</table>\n",
       "<p>76 rows × 2 columns</p>\n",
       "</div>"
      ],
      "text/plain": [
       "                                                title  \\\n",
       "0   NDDS: NVIDIA Deep Learning Dataset Synthesizer...   \n",
       "1   NeMo (Inverse) Text Normalization: From Develo...   \n",
       "2                           NVVL: NVIDIA Video Loader   \n",
       "3   High-Resolution Image Synthesis and Semantic M...   \n",
       "4                                 NVIDIA Rivermax SDK   \n",
       "..                                                ...   \n",
       "71  Improving language models by retrieving from t...   \n",
       "72  Few-shot Instruction Prompts for Pretrained La...   \n",
       "73  Using DeepSpeed and Megatron to Train Megatron...   \n",
       "74  Exploring the Limits of Domain-Adaptive Traini...   \n",
       "75  Multi-Stage Prompting for Knowledgeable Dialog...   \n",
       "\n",
       "                                         repo_link  \n",
       "0    https://github.com/NVIDIA/Dataset_Synthesizer  \n",
       "1   https://github.com/NVIDIA/NeMo-text-processing  \n",
       "2                   https://github.com/NVIDIA/nvvl  \n",
       "3              https://github.com/NVIDIA/pix2pixHD  \n",
       "4               https://github.com/NVIDIA/Rivermax  \n",
       "..                                             ...  \n",
       "71           https://github.com/NVIDIA/Megatron-LM  \n",
       "72           https://github.com/NVIDIA/Megatron-LM  \n",
       "73           https://github.com/NVIDIA/Megatron-LM  \n",
       "74           https://github.com/NVIDIA/Megatron-LM  \n",
       "75           https://github.com/NVIDIA/Megatron-LM  \n",
       "\n",
       "[76 rows x 2 columns]"
      ]
     },
     "execution_count": 440,
     "metadata": {},
     "output_type": "execute_result"
    }
   ],
   "source": [
    "df = RepoTools.loadExtendedRepoWithReadmeAndGetPaperDf(companyName, ignoreArxivIfPaperTitleExists=False)\n",
    "print(len(df))\n",
    "df"
   ]
  },
  {
   "cell_type": "markdown",
   "id": "3b93806c-49f3-4f94-a2cc-4cc64a8a765f",
   "metadata": {},
   "source": [
    "### This line saves the papers as CSV "
   ]
  },
  {
   "cell_type": "code",
   "execution_count": 442,
   "id": "dc282b6f-f980-4660-ac22-47263b8b4fc1",
   "metadata": {},
   "outputs": [],
   "source": [
    "DataTools.saveDfInCSV(df, f'{companyName}Papers')"
   ]
  },
  {
   "cell_type": "code",
   "execution_count": 441,
   "id": "9a7454d0-6608-4a0f-a80a-d93dc6cba3f0",
   "metadata": {},
   "outputs": [
    {
     "data": {
      "text/plain": [
       "64"
      ]
     },
     "execution_count": 441,
     "metadata": {},
     "output_type": "execute_result"
    }
   ],
   "source": [
    "len(df[df.repo_link.str.contains(companyName)])"
   ]
  },
  {
   "cell_type": "markdown",
   "id": "15106e77-b302-4b71-801f-af5a6f6d4cdc",
   "metadata": {},
   "source": [
    "### "
   ]
  },
  {
   "cell_type": "markdown",
   "id": "d5e13883-0552-4283-bfe2-994486d2b420",
   "metadata": {},
   "source": [
    "# "
   ]
  },
  {
   "cell_type": "markdown",
   "id": "05a115bd-210a-4db0-92c9-1d8f0ad9246b",
   "metadata": {},
   "source": [
    "### rest of the stuff (not important) "
   ]
  },
  {
   "cell_type": "code",
   "execution_count": 391,
   "id": "e2949de6-5b9c-4649-8e59-8b2664eca79b",
   "metadata": {},
   "outputs": [],
   "source": [
    "a = [_ for _ in data if _['repo'].full_name == 'sony/ai-research-code']"
   ]
  },
  {
   "cell_type": "code",
   "execution_count": 367,
   "id": "d8a904e6-202d-4883-b817-bbf8cfb9c70e",
   "metadata": {},
   "outputs": [],
   "source": [
    "username = 'NVLabs'\n",
    "exData = RepoTools.loadPickle(f'extended_{username}RepoWithReadmes')"
   ]
  }
 ],
 "metadata": {
  "kernelspec": {
   "display_name": "Python 3 (ipykernel)",
   "language": "python",
   "name": "python3"
  },
  "language_info": {
   "codemirror_mode": {
    "name": "ipython",
    "version": 3
   },
   "file_extension": ".py",
   "mimetype": "text/x-python",
   "name": "python",
   "nbconvert_exporter": "python",
   "pygments_lexer": "ipython3",
   "version": "3.8.16"
  }
 },
 "nbformat": 4,
 "nbformat_minor": 5
}
