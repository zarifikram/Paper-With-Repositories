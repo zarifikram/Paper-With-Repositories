{
 "cells": [
  {
   "cell_type": "code",
   "execution_count": 1,
   "id": "b67eea4a-6aa4-44f4-900f-58a892aff250",
   "metadata": {},
   "outputs": [
    {
     "name": "stdout",
     "output_type": "stream",
     "text": [
      "current working dir/Volumes/Zarif/myStuff/research/repoPaper/src\n"
     ]
    }
   ],
   "source": [
    "import requests\n",
    "from bs4 import BeautifulSoup\n",
    "import pandas as pd\n",
    "from tqdm import tqdm\n",
    "import os, sys\n",
    "\n",
    "exec(open(\"init_notebook.py\").read())"
   ]
  },
  {
   "cell_type": "code",
   "execution_count": 2,
   "id": "85131d64-110f-4b35-8939-39defc509e11",
   "metadata": {},
   "outputs": [],
   "source": [
    "%load_ext autoreload\n",
    "%autoreload 2"
   ]
  },
  {
   "cell_type": "code",
   "execution_count": 3,
   "id": "d7a0b0b0-4ec9-412e-a4e1-4e315c935086",
   "metadata": {},
   "outputs": [],
   "source": [
    "from DataTools import DataTools"
   ]
  },
  {
   "cell_type": "markdown",
   "id": "07bb6790-dfe6-42de-8ecb-4acd36e6fa21",
   "metadata": {},
   "source": [
    "### loading dataset and fetching the paper titles in a list "
   ]
  },
  {
   "cell_type": "code",
   "execution_count": 4,
   "id": "0723182b-b49f-4f21-9498-220bdccbc7f8",
   "metadata": {},
   "outputs": [],
   "source": [
    "appleAmazonPath = os.path.join(os.curdir, \"../data/AppleAmazon.csv\")\n",
    "df = pd.read_csv(appleAmazonPath)\n",
    "paperTitles = list(df[\"Title\"])"
   ]
  },
  {
   "cell_type": "code",
   "execution_count": 24,
   "id": "33f96376-7996-4c20-a5a1-7813a33840b6",
   "metadata": {},
   "outputs": [
    {
     "data": {
      "text/plain": [
       "'Geometry of turbulent dissipation and the Navier–Stokes regularity problem'"
      ]
     },
     "execution_count": 24,
     "metadata": {},
     "output_type": "execute_result"
    }
   ],
   "source": [
    "# paperTitles = paperTitles[:-1]\n",
    "paperTitles[-1]"
   ]
  },
  {
   "cell_type": "code",
   "execution_count": 14,
   "id": "1fff9318-ba93-4d4b-b53e-c7e11dd22f70",
   "metadata": {},
   "outputs": [
    {
     "data": {
      "text/plain": [
       "{'q': 'Seller-focused algorithms for online auctioning',\n",
       " 'sort': 'readme',\n",
       " 'order': 'desc',\n",
       " 'per_page': 5}"
      ]
     },
     "execution_count": 14,
     "metadata": {},
     "output_type": "execute_result"
    }
   ],
   "source": [
    "DataTools.getSearchParamForGithubSearch(paperTitles[0], 5)"
   ]
  },
  {
   "cell_type": "code",
   "execution_count": 45,
   "id": "97607d89-d776-4a2d-b718-51482dc44d6c",
   "metadata": {},
   "outputs": [
    {
     "data": {
      "text/plain": [
       "'https://www.google.com/search?q=github+The+inD+Dataset:+A+Drone+Dataset+of+Naturalistic+Road+User+Trajectories+at+German+Intersections'"
      ]
     },
     "execution_count": 45,
     "metadata": {},
     "output_type": "execute_result"
    }
   ],
   "source": [
    "DataTools.getSearchLinkForPaper(\"The inD Dataset: A Drone Dataset of Naturalistic Road User Trajectories at German Intersections\")"
   ]
  },
  {
   "cell_type": "code",
   "execution_count": 47,
   "id": "2e30a4be-0707-4632-9adf-cd665d2f6467",
   "metadata": {},
   "outputs": [
    {
     "data": {
      "text/plain": [
       "'https://github.com/AugmentedDesignLab/junction-art'"
      ]
     },
     "execution_count": 47,
     "metadata": {},
     "output_type": "execute_result"
    }
   ],
   "source": [
    "DataTools.getTopGithubResultForPaperTitle(\"Procedural Generation of High-Definition Road Networks for Autonomous Vehicle Testing and Traffic Simulations\")"
   ]
  },
  {
   "cell_type": "code",
   "execution_count": 48,
   "id": "3ed3da24-0a02-4c98-a0cd-ea4f840f3490",
   "metadata": {},
   "outputs": [],
   "source": [
    "paperLinks = []\n",
    "for paperTitle in paperTitles[-50:]:\n",
    "    link = DataTools.getTopGithubResultForPaperTitle(paperTitle)\n",
    "    paperLinks.append(link)"
   ]
  },
  {
   "cell_type": "code",
   "execution_count": 49,
   "id": "64ec6bdb-7e5f-4103-9bcc-9c95984dfc3f",
   "metadata": {},
   "outputs": [],
   "source": [
    "ShortDf = pd.DataFrame()\n",
    "ShortDf[\"title\"] = paperTitles[-50:]\n",
    "ShortDf[\"link\"] = paperLinks"
   ]
  },
  {
   "cell_type": "code",
   "execution_count": 56,
   "id": "46e48817-dea3-447b-9363-8edef8bc4f38",
   "metadata": {},
   "outputs": [],
   "source": [
    "DataTools.saveDfInCSV(ShortDf, \"random\")"
   ]
  },
  {
   "cell_type": "code",
   "execution_count": null,
   "id": "9ae8d30e-48fc-437e-a4d2-647b11500bfa",
   "metadata": {},
   "outputs": [
    {
     "name": "stderr",
     "output_type": "stream",
     "text": [
      "  6%|██████▎                                                                                                      | 78/1357 [02:19<38:49,  1.82s/it]"
     ]
    }
   ],
   "source": [
    "dfWithLink = DataTools.getGithubLinkDfFromPaperTitlesList(paperTitles[:1357])"
   ]
  },
  {
   "cell_type": "code",
   "execution_count": 73,
   "id": "f3b38d2d-95d2-4c3b-8331-98e968b20d4c",
   "metadata": {},
   "outputs": [
    {
     "data": {
      "text/html": [
       "<div>\n",
       "<style scoped>\n",
       "    .dataframe tbody tr th:only-of-type {\n",
       "        vertical-align: middle;\n",
       "    }\n",
       "\n",
       "    .dataframe tbody tr th {\n",
       "        vertical-align: top;\n",
       "    }\n",
       "\n",
       "    .dataframe thead th {\n",
       "        text-align: right;\n",
       "    }\n",
       "</style>\n",
       "<table border=\"1\" class=\"dataframe\">\n",
       "  <thead>\n",
       "    <tr style=\"text-align: right;\">\n",
       "      <th></th>\n",
       "      <th>title</th>\n",
       "      <th>link</th>\n",
       "    </tr>\n",
       "  </thead>\n",
       "  <tbody>\n",
       "    <tr>\n",
       "      <th>0</th>\n",
       "      <td>On the evolution of syntactic information enco...</td>\n",
       "      <td>https://github.com/tomohideshibata/BERT-relate...</td>\n",
       "    </tr>\n",
       "    <tr>\n",
       "      <th>1</th>\n",
       "      <td>On-device text representations robust to missp...</td>\n",
       "      <td>https://github.com/madrugado/deep-learning-nlp...</td>\n",
       "    </tr>\n",
       "    <tr>\n",
       "      <th>2</th>\n",
       "      <td>Zero-shot generalization in dialog state track...</td>\n",
       "      <td>https://github.com/yukyunglee/Awesome-Dialogue...</td>\n",
       "    </tr>\n",
       "    <tr>\n",
       "      <th>3</th>\n",
       "      <td>ProFormer: Towards on-device LSH projection ba...</td>\n",
       "      <td>https://github.com/rosinality/ml-papers/blob/m...</td>\n",
       "    </tr>\n",
       "    <tr>\n",
       "      <th>4</th>\n",
       "      <td>Few shot dialogue state tracking using meta-le...</td>\n",
       "      <td>https://github.com/ha-lins/MAML-DST</td>\n",
       "    </tr>\n",
       "  </tbody>\n",
       "</table>\n",
       "</div>"
      ],
      "text/plain": [
       "                                               title  \\\n",
       "0  On the evolution of syntactic information enco...   \n",
       "1  On-device text representations robust to missp...   \n",
       "2  Zero-shot generalization in dialog state track...   \n",
       "3  ProFormer: Towards on-device LSH projection ba...   \n",
       "4  Few shot dialogue state tracking using meta-le...   \n",
       "\n",
       "                                                link  \n",
       "0  https://github.com/tomohideshibata/BERT-relate...  \n",
       "1  https://github.com/madrugado/deep-learning-nlp...  \n",
       "2  https://github.com/yukyunglee/Awesome-Dialogue...  \n",
       "3  https://github.com/rosinality/ml-papers/blob/m...  \n",
       "4                https://github.com/ha-lins/MAML-DST  "
      ]
     },
     "execution_count": 73,
     "metadata": {},
     "output_type": "execute_result"
    }
   ],
   "source": [
    "dfWithLink.head()"
   ]
  },
  {
   "cell_type": "code",
   "execution_count": 70,
   "id": "8d7bef41-90eb-44bd-860a-131ee217917c",
   "metadata": {},
   "outputs": [
    {
     "data": {
      "text/plain": [
       "3357"
      ]
     },
     "execution_count": 70,
     "metadata": {},
     "output_type": "execute_result"
    }
   ],
   "source": [
    "len(paperTitles)"
   ]
  },
  {
   "cell_type": "code",
   "execution_count": 74,
   "id": "30e26a18-52b4-488f-a3ab-5330081f296c",
   "metadata": {},
   "outputs": [],
   "source": [
    "DataTools.saveDfInCSV(dfWithLink, \"1357-2357\")"
   ]
  },
  {
   "cell_type": "code",
   "execution_count": 76,
   "id": "31bf358d-c55a-4944-9c16-9b9ddd9af56c",
   "metadata": {},
   "outputs": [
    {
     "data": {
      "text/plain": [
       "\"On the evolution of syntactic information encoded by BERT's contextualized representations\""
      ]
     },
     "execution_count": 76,
     "metadata": {},
     "output_type": "execute_result"
    }
   ],
   "source": [
    "paperTitles[-2000]"
   ]
  },
  {
   "cell_type": "code",
   "execution_count": 77,
   "id": "27925180-ceab-46ef-b2b2-e03904daa673",
   "metadata": {},
   "outputs": [
    {
     "data": {
      "text/plain": [
       "\"On the evolution of syntactic information encoded by BERT's contextualized representations\""
      ]
     },
     "execution_count": 77,
     "metadata": {},
     "output_type": "execute_result"
    }
   ],
   "source": []
  },
  {
   "cell_type": "code",
   "execution_count": null,
   "id": "8189cd4d-7cfd-4df0-bb94-d83b04668d68",
   "metadata": {},
   "outputs": [],
   "source": []
  }
 ],
 "metadata": {
  "kernelspec": {
   "display_name": "Python 3 (ipykernel)",
   "language": "python",
   "name": "python3"
  },
  "language_info": {
   "codemirror_mode": {
    "name": "ipython",
    "version": 3
   },
   "file_extension": ".py",
   "mimetype": "text/x-python",
   "name": "python",
   "nbconvert_exporter": "python",
   "pygments_lexer": "ipython3",
   "version": "3.8.16"
  }
 },
 "nbformat": 4,
 "nbformat_minor": 5
}
