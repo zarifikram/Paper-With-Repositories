{
 "cells": [
  {
   "cell_type": "code",
   "execution_count": 1,
   "id": "d97342ad-0931-4a93-919e-d6bcd831e26b",
   "metadata": {},
   "outputs": [
    {
     "name": "stdout",
     "output_type": "stream",
     "text": [
      "current working dir/Volumes/Zarif/myStuff/research/repoPaper/src\n"
     ]
    }
   ],
   "source": [
    "import requests\n",
    "from bs4 import BeautifulSoup\n",
    "import matplotlib.pyplot as plt\n",
    "import pandas as pd\n",
    "from tqdm import tqdm\n",
    "import seaborn as sns\n",
    "import os, sys\n",
    "exec(open(\"init_notebook.py\").read())\n",
    "from DataTools import DataTools\n",
    "from Extractor import Extractor\n",
    "from DataCleaner import DataCleaner\n",
    "from RepoTools import RepoTools"
   ]
  },
  {
   "cell_type": "code",
   "execution_count": 2,
   "id": "d06fa6e1-ed02-4953-8cc4-3e389982913c",
   "metadata": {},
   "outputs": [],
   "source": [
    "%load_ext autoreload\n",
    "%autoreload 2"
   ]
  },
  {
   "cell_type": "markdown",
   "id": "3fcca748-94ab-4f39-bfdf-a4ff94969ec1",
   "metadata": {},
   "source": [
    "### Load all the necessary datasets "
   ]
  },
  {
   "cell_type": "code",
   "execution_count": 3,
   "id": "6307694b-92e3-49b3-8f46-fa29852635f0",
   "metadata": {},
   "outputs": [],
   "source": [
    "# mainDataSet\n",
    "mainDatasetPath = os.path.join(os.curdir, \"../data/mainData.csv\")\n",
    "companyDf = pd.read_csv(mainDatasetPath)\n",
    "\n",
    "# companyToRepos\n",
    "companyToRepos = Extractor.getConfig()\n",
    "\n",
    "# DataByCIDAndYear\n",
    "dataByCidYear = DataTools.loadCSVFromOutput('finalStuff/DataByCIDAndYearV2')\n",
    "\n",
    "# matched_papers\n",
    "matchedPapersInfo = DataTools.loadCSVFromOutput('finalStuff/matched_papersV2')"
   ]
  },
  {
   "cell_type": "code",
   "execution_count": null,
   "id": "6edf7c4f-e6ff-4c44-9984-85b9dba60ff0",
   "metadata": {},
   "outputs": [],
   "source": []
  },
  {
   "cell_type": "code",
   "execution_count": 13,
   "id": "386095d1-0145-4661-9ac8-b34dcb2e4e64",
   "metadata": {},
   "outputs": [],
   "source": [
    "def getPath(filename):\n",
    "    return os.path.join(os.curdir, '../figs/' + filename)"
   ]
  },
  {
   "cell_type": "markdown",
   "id": "afe0eeff-a370-48d8-ab0d-da738572adcd",
   "metadata": {},
   "source": [
    "### Pi Chart For Number of Company with N users"
   ]
  },
  {
   "cell_type": "code",
   "execution_count": 21,
   "id": "08a46a48-7f08-400a-a11f-eec420549b44",
   "metadata": {},
   "outputs": [
    {
     "data": {
      "image/png": "[encoded data removed]",
      "text/plain": [
       "<Figure size 640x480 with 1 Axes>"
      ]
     },
     "metadata": {},
     "output_type": "display_data"
    }
   ],
   "source": [
    "nUsers = []\n",
    "for _ in companyToRepos:\n",
    "    nUsers.append(len(_['repos']))\n",
    "    \n",
    "nUsersTonCompanies = {0:0, 1:0, 2:0, 3:0, 4:0}\n",
    "for nUser in nUsers:\n",
    "    nUsersTonCompanies[nUser] += 1\n",
    "  \n",
    "labels = ['0', '1', '2', '3', '4']\n",
    "data = nUsersTonCompanies.values()\n",
    "palette_color = sns.color_palette('Pastel1')\n",
    "plt.pie(data, labels=labels, colors=palette_color)\n",
    "# plt.show()\n",
    "plt.savefig(getPath('pichart.png'), dpi=300, bbox_inches='tight', transparent=True)"
   ]
  },
  {
   "cell_type": "code",
   "execution_count": 9,
   "id": "6a8e800c-74fb-4885-a211-eef5d425a5f9",
   "metadata": {},
   "outputs": [],
   "source": []
  },
  {
   "cell_type": "code",
   "execution_count": null,
   "id": "e06e870c-277b-4900-804d-4c8f7abd13e5",
   "metadata": {},
   "outputs": [],
   "source": []
  }
 ],
 "metadata": {
  "kernelspec": {
   "display_name": "Python 3 (ipykernel)",
   "language": "python",
   "name": "python3"
  },
  "language_info": {
   "codemirror_mode": {
    "name": "ipython",
    "version": 3
   },
   "file_extension": ".py",
   "mimetype": "text/x-python",
   "name": "python",
   "nbconvert_exporter": "python",
   "pygments_lexer": "ipython3",
   "version": "3.8.16"
  }
 },
 "nbformat": 4,
 "nbformat_minor": 5
}
