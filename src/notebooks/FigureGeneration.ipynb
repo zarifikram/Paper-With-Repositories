{
 "cells": [
  {
   "cell_type": "code",
   "execution_count": 1,
   "id": "d97342ad-0931-4a93-919e-d6bcd831e26b",
   "metadata": {},
   "outputs": [
    {
     "name": "stdout",
     "output_type": "stream",
     "text": [
      "current working dir/Volumes/Zarif/myStuff/research/repoPaper/src\n"
     ]
    }
   ],
   "source": [
    "import requests\n",
    "from bs4 import BeautifulSoup\n",
    "import matplotlib.pyplot as plt\n",
    "import pandas as pd\n",
    "from tqdm import tqdm\n",
    "import seaborn as sns\n",
    "import os, sys\n",
    "exec(open(\"init_notebook.py\").read())\n",
    "from DataTools import DataTools\n",
    "from Extractor import Extractor\n",
    "from DataCleaner import DataCleaner\n",
    "from RepoTools import RepoTools"
   ]
  },
  {
   "cell_type": "code",
   "execution_count": 2,
   "id": "d06fa6e1-ed02-4953-8cc4-3e389982913c",
   "metadata": {},
   "outputs": [],
   "source": [
    "%load_ext autoreload\n",
    "%autoreload 2"
   ]
  },
  {
   "cell_type": "markdown",
   "id": "3fcca748-94ab-4f39-bfdf-a4ff94969ec1",
   "metadata": {},
   "source": [
    "### Load all the necessary datasets "
   ]
  },
  {
   "cell_type": "code",
   "execution_count": 50,
   "id": "6307694b-92e3-49b3-8f46-fa29852635f0",
   "metadata": {},
   "outputs": [],
   "source": [
    "# mainDataSet\n",
    "mainDatasetPath = os.path.join(os.curdir, \"../data/mainData.csv\")\n",
    "companyDf = pd.read_csv(mainDatasetPath)\n",
    "\n",
    "# companyToRepos\n",
    "companyToRepos = Extractor.getConfig()\n",
    "\n",
    "# DataByCIDAndYear\n",
    "dataByCidYear = DataTools.loadCSVFromOutput('finalStuff/DataByCIDAndYearV2')\n",
    "\n",
    "# matched_papers\n",
    "matchedPapersInfo = DataTools.loadCSVFromOutput('finalStuff/matched_papersV2')\n",
    "\n",
    "# pwc\n",
    "pwc = pwc = pd.read_csv(os.path.join(os.pardir, 'data/papersWithCode.csv'))\n",
    "\n",
    "# Paper Titles Matched By PWC and companyDf\n",
    "paperTitles = [title.lower() for title in companyDf['Title']]\n",
    "matchedPapersInPWC = pwc[pwc['paper_title'].str.lower().isin(paperTitles)]\n",
    "\n",
    "# getting all the matches having company usernames\n",
    "usernames = []\n",
    "for _ in companyToRepos:\n",
    "    a = ['/' + username + '/' for username in _['repos']]\n",
    "    usernames.extend(a)\n",
    "    \n",
    "matchedHavingUsername = matchedPapersInPWC[matchedPapersInPWC.repo_url.str.contains('|'.join(usernames))]\n",
    "\n",
    "# companyPWC\n",
    "companyPWC = pwc[pwc.repo_url.str.contains('|'.join(usernames))]\n",
    "\n",
    "# matched papers in pwc having company usernames and mentioning paper in the github\n",
    "matchedHavingUsernameAndGithubMention = matchedHavingUsername[matchedHavingUsername.mentioned_in_github==True]"
   ]
  },
  {
   "cell_type": "code",
   "execution_count": 49,
   "id": "6edf7c4f-e6ff-4c44-9984-85b9dba60ff0",
   "metadata": {},
   "outputs": [
    {
     "data": {
      "text/plain": [
       "185394"
      ]
     },
     "execution_count": 49,
     "metadata": {},
     "output_type": "execute_result"
    }
   ],
   "source": [
    "len(pwc)"
   ]
  },
  {
   "cell_type": "code",
   "execution_count": 13,
   "id": "386095d1-0145-4661-9ac8-b34dcb2e4e64",
   "metadata": {},
   "outputs": [],
   "source": [
    "def getPath(filename):\n",
    "    return os.path.join(os.curdir, '../figs/' + filename)"
   ]
  },
  {
   "cell_type": "markdown",
   "id": "afe0eeff-a370-48d8-ab0d-da738572adcd",
   "metadata": {},
   "source": [
    "### Pi Chart For Number of Company with N users"
   ]
  },
  {
   "cell_type": "code",
   "execution_count": 22,
   "id": "08a46a48-7f08-400a-a11f-eec420549b44",
   "metadata": {},
   "outputs": [
    {
     "data": {
      "image/png": "[encoded data removed]",
      "text/plain": [
       "<Figure size 640x480 with 1 Axes>"
      ]
     },
     "metadata": {},
     "output_type": "display_data"
    }
   ],
   "source": [
    "nUsers = []\n",
    "for _ in companyToRepos:\n",
    "    nUsers.append(len(_['repos']))\n",
    "    \n",
    "nUsersTonCompanies = {0:0, 1:0, 2:0, 3:0, 4:0}\n",
    "for nUser in nUsers:\n",
    "    nUsersTonCompanies[nUser] += 1\n",
    "  \n",
    "labels = ['0', '1', '2', '3', '4']\n",
    "data = nUsersTonCompanies.values()\n",
    "palette_color = sns.color_palette('Pastel1')\n",
    "plt.pie(data, labels=labels, colors=palette_color)\n",
    "# plt.show()\n",
    "sns.set_context('paper')\n",
    "plt.savefig(getPath('pichart.png'), dpi=300, bbox_inches='tight', transparent=True)"
   ]
  },
  {
   "cell_type": "markdown",
   "id": "e8c99a3e-994c-426b-b683-0928f9dc4577",
   "metadata": {},
   "source": [
    "###  finding the top users in company papers having paper mentioned in github"
   ]
  },
  {
   "cell_type": "code",
   "execution_count": 54,
   "id": "0759c662-496c-4859-82b0-33fb113124f1",
   "metadata": {},
   "outputs": [
    {
     "data": {
      "text/plain": [
       "[('facebookresearch', 979),\n",
       " ('microsoft', 481),\n",
       " ('google-research', 259),\n",
       " ('google', 160),\n",
       " ('IBM', 141),\n",
       " ('salesforce', 112),\n",
       " ('deepmind', 104),\n",
       " ('amazon-research', 81),\n",
       " ('openai', 59),\n",
       " ('huawei-noah', 55),\n",
       " ('NVIDIA', 48),\n",
       " ('apple', 43),\n",
       " ('boschresearch', 43),\n",
       " ('kakaobrain', 39),\n",
       " ('pfnet-research', 37),\n",
       " ('alibaba', 34),\n",
       " ('uber-research', 33),\n",
       " ('naver', 32),\n",
       " ('asappresearch', 21),\n",
       " ('amzn', 21),\n",
       " ('LLNL', 19),\n",
       " ('facebook', 18),\n",
       " ('bytedance', 18),\n",
       " ('nttcslab', 17),\n",
       " ('tencent-ailab', 15),\n",
       " ('Tencent', 14),\n",
       " ('snap-research', 13),\n",
       " ('adobe-research', 13),\n",
       " ('intel', 13),\n",
       " ('SamsungLabs', 12),\n",
       " ('uber', 11),\n",
       " ('baidu', 11),\n",
       " ('sony', 11),\n",
       " ('yahoo', 10),\n",
       " ('TRI-ML', 10),\n",
       " ('baidu-research', 9),\n",
       " ('ARM-software', 9),\n",
       " ('rigetti', 9),\n",
       " ('kakaoenterprise', 9),\n",
       " ('AutodeskAILab', 7),\n",
       " ('AstraZeneca', 7),\n",
       " ('jpmorganchase', 6),\n",
       " ('mozilla', 6),\n",
       " ('SAP', 6),\n",
       " ('eBay', 6),\n",
       " ('dwave-examples', 5),\n",
       " ('Qualcomm-AI-research', 5),\n",
       " ('aliyun', 5),\n",
       " ('bayer-science-for-a-better-life', 5),\n",
       " ('kakao', 5),\n",
       " ('bloomberg', 5),\n",
       " ('Xilinx', 5),\n",
       " ('BBN-Q', 5),\n",
       " ('TexasInstruments', 5),\n",
       " ('sandialabs', 4),\n",
       " ('SRI-CSL', 4),\n",
       " ('linkedin', 4),\n",
       " ('dwavesystems', 4),\n",
       " ('westerndigitalcorporation', 4),\n",
       " ('nokia', 3),\n",
       " ('rakutentech', 3),\n",
       " ('Schlumberger', 3),\n",
       " ('Sense-X', 3),\n",
       " ('bigvideoresearch', 3),\n",
       " ('capitalone', 3),\n",
       " ('ToyotaResearchInstitute', 3),\n",
       " ('UBS-IB', 2),\n",
       " ('pfnet', 2),\n",
       " ('oracle', 2),\n",
       " ('didi', 2),\n",
       " ('yahoojapan', 2),\n",
       " ('adobe', 2),\n",
       " ('netflix', 2),\n",
       " ('swisscom', 2),\n",
       " ('DensoITLab', 2),\n",
       " ('mathworks', 2),\n",
       " ('suraj-nair-1', 2),\n",
       " ('NXP', 1),\n",
       " ('siemens', 1),\n",
       " ('DolbyLaboratories', 1),\n",
       " ('ubitech', 1),\n",
       " ('hewlettpackard', 1),\n",
       " ('ibm-research-tokyo', 1),\n",
       " ('continental', 1),\n",
       " ('softbankrobotics-research', 1),\n",
       " ('spotify-research', 1),\n",
       " ('Boehringer-Ingelheim', 1),\n",
       " ('spotify', 1),\n",
       " ('TRI-AMDD', 1),\n",
       " ('dell-research-harvard', 1),\n",
       " ('ZEISS', 1),\n",
       " ('electronicarts', 1),\n",
       " ('boozallen', 1),\n",
       " ('Accenture', 1),\n",
       " ('lgcnsai', 1),\n",
       " ('nec-research', 1),\n",
       " ('pearsonlab', 1),\n",
       " ('huaweicloud', 1),\n",
       " ('Ford', 1),\n",
       " ('Snapchat', 1),\n",
       " ('GrammaTech', 1),\n",
       " ('yandex', 1),\n",
       " ('bosch-ros-pkg', 1)]"
      ]
     },
     "execution_count": 54,
     "metadata": {},
     "output_type": "execute_result"
    }
   ],
   "source": [
    "repo_urls = list(companyPWC[companyPWC.mentioned_in_github == True].repo_url)\n",
    "import re\n",
    "link_pattern = r'https://github.com/([\\w\\-]*)/[\\w\\-]*'\n",
    "\n",
    "usernames = [re.findall(link_pattern, repo_url)[0] for repo_url in repo_urls if len(re.findall(link_pattern, repo_url)) > 0]\n",
    "from collections import Counter\n",
    "usernames_count = Counter(usernames)\n",
    "usernames_count.most_common()"
   ]
  },
  {
   "cell_type": "code",
   "execution_count": 52,
   "id": "c3958a23-1a9d-4f96-9adb-f9fefccd0405",
   "metadata": {},
   "outputs": [],
   "source": [
    "###  finding the top users in company papers having paper not mentioned in github"
   ]
  },
  {
   "cell_type": "code",
   "execution_count": 55,
   "id": "63bf6b86-dfb9-4a96-954c-c238a371b6c2",
   "metadata": {},
   "outputs": [
    {
     "data": {
      "text/plain": [
       "[('google-research', 381),\n",
       " ('facebookresearch', 249),\n",
       " ('microsoft', 205),\n",
       " ('deepmind', 115),\n",
       " ('alibaba', 91),\n",
       " ('google', 71),\n",
       " ('IBM', 61),\n",
       " ('huawei-noah', 59),\n",
       " ('amazon-research', 38),\n",
       " ('NVIDIA', 37),\n",
       " ('boschresearch', 27),\n",
       " ('openai', 27),\n",
       " ('salesforce', 22),\n",
       " ('naver', 22),\n",
       " ('bytedance', 14),\n",
       " ('amzn', 11),\n",
       " ('apple', 10),\n",
       " ('baidu', 10),\n",
       " ('siemens', 9),\n",
       " ('Accenture', 9),\n",
       " ('pfnet-research', 8),\n",
       " ('baidu-research', 7),\n",
       " ('tencent-ailab', 7),\n",
       " ('AstraZeneca', 7),\n",
       " ('SamsungLabs', 7),\n",
       " ('uber-research', 6),\n",
       " ('sony', 5),\n",
       " ('nttcslab', 5),\n",
       " ('bloomberg', 5),\n",
       " ('huggingface', 5),\n",
       " ('sandialabs', 4),\n",
       " ('asappresearch', 4),\n",
       " ('Tencent', 4),\n",
       " ('oracle', 3),\n",
       " ('uber', 3),\n",
       " ('mitre', 3),\n",
       " ('mozilla', 3),\n",
       " ('ydataai', 3),\n",
       " ('LLNL', 3),\n",
       " ('kakaobrain', 3),\n",
       " ('snap-research', 2),\n",
       " ('ThalesGroup', 2),\n",
       " ('pearsonlab', 2),\n",
       " ('linkedin', 2),\n",
       " ('awslabs', 2),\n",
       " ('didi', 2),\n",
       " ('LS-Lab', 2),\n",
       " ('bigvideoresearch', 2),\n",
       " ('yandex', 2),\n",
       " ('ARM-software', 2),\n",
       " ('jherekhealy', 2),\n",
       " ('adobe-research', 2),\n",
       " ('eBay', 2),\n",
       " ('rakutentech', 2),\n",
       " ('intel', 2),\n",
       " ('swisscom', 1),\n",
       " ('Merck', 1),\n",
       " ('waymo-research', 1),\n",
       " ('FujitsuLaboratories', 1),\n",
       " ('lammps', 1),\n",
       " ('philips-labs', 1),\n",
       " ('PCBoyGames', 1),\n",
       " ('bayer-science-for-a-better-life', 1),\n",
       " ('twitter', 1),\n",
       " ('GoogleCloudPlatform', 1),\n",
       " ('ToyotaResearchInstitute', 1),\n",
       " ('lattice', 1),\n",
       " ('kakaoenterprise', 1),\n",
       " ('telekom', 1),\n",
       " ('sogou', 1),\n",
       " ('adobe', 1),\n",
       " ('turn', 1),\n",
       " ('mas178', 1),\n",
       " ('spotify-research', 1),\n",
       " ('electronicarts', 1),\n",
       " ('nec-research', 1),\n",
       " ('DataLabUPO', 1),\n",
       " ('yahoo', 1),\n",
       " ('AutodeskAILab', 1),\n",
       " ('mlpack', 1),\n",
       " ('ErikPartridge', 1),\n",
       " ('aliyun', 1),\n",
       " ('TRI-ML', 1),\n",
       " ('Comcast', 1),\n",
       " ('facebook', 1),\n",
       " ('Xilinx', 1),\n",
       " ('Telefonica', 1),\n",
       " ('bobye', 1),\n",
       " ('intuit', 1),\n",
       " ('ZEISS', 1),\n",
       " ('Samsung', 1),\n",
       " ('Francois-Aubet', 1),\n",
       " ('Illumina', 1),\n",
       " ('dell-research-harvard', 1),\n",
       " ('SRI-CSL', 1),\n",
       " ('shubhamsingh91', 1),\n",
       " ('SAP', 1),\n",
       " ('AJnsm', 1),\n",
       " ('capitalone', 1),\n",
       " ('AmadeusITGroup', 1),\n",
       " ('Kitware', 1),\n",
       " ('dwavesystems', 1),\n",
       " ('Sense-X', 1)]"
      ]
     },
     "execution_count": 55,
     "metadata": {},
     "output_type": "execute_result"
    }
   ],
   "source": [
    "repo_urls = list(companyPWC[companyPWC.mentioned_in_github == False].repo_url)\n",
    "import re\n",
    "link_pattern = r'https://github.com/([\\w\\-]*)/[\\w\\-]*'\n",
    "\n",
    "usernames = [re.findall(link_pattern, repo_url)[0] for repo_url in repo_urls if len(re.findall(link_pattern, repo_url)) > 0]\n",
    "from collections import Counter\n",
    "usernames_count = Counter(usernames)\n",
    "usernames_count.most_common()"
   ]
  },
  {
   "cell_type": "markdown",
   "id": "9ba7f06b-bcdc-467b-9948-65a9e904495b",
   "metadata": {},
   "source": [
    "###  finding the top users in our finding"
   ]
  },
  {
   "cell_type": "code",
   "execution_count": 61,
   "id": "1beb5219-1454-41d8-a789-672923dce8ea",
   "metadata": {},
   "outputs": [
    {
     "data": {
      "text/plain": [
       "[('microsoft', 259),\n",
       " ('facebookresearch', 161),\n",
       " ('IBM', 113),\n",
       " ('google-research', 101),\n",
       " ('google', 77),\n",
       " ('deepmind', 47),\n",
       " ('NVlabs', 43),\n",
       " ('pfnet-research', 19),\n",
       " ('apple', 17),\n",
       " ('Tencent', 17),\n",
       " ('openai', 16),\n",
       " ('NVIDIA', 13),\n",
       " ('Xilinx', 12),\n",
       " ('alibaba', 11),\n",
       " ('bytedance', 11),\n",
       " ('nttcslab', 11),\n",
       " ('linkedin', 10),\n",
       " ('uber-research', 10),\n",
       " ('asappresearch', 8),\n",
       " ('amzn', 8),\n",
       " ('nec-research', 8),\n",
       " ('tencent-ailab', 8),\n",
       " ('AstraZeneca', 7),\n",
       " ('baidu-research', 5),\n",
       " ('boschresearch', 5),\n",
       " ('salesforce', 5),\n",
       " ('AutodeskAILab', 4),\n",
       " ('bayer-science-for-a-better-life', 4),\n",
       " ('Kitware', 4),\n",
       " ('naver', 4),\n",
       " ('snap-research', 4),\n",
       " ('waymo-research', 4),\n",
       " ('adobe-research', 3),\n",
       " ('bloomberg', 3),\n",
       " ('HewlettPackard', 3),\n",
       " ('DensoITLab', 3),\n",
       " ('GrammaTech', 3),\n",
       " ('softbankrobotics-research', 3),\n",
       " ('SRI-CSL', 3),\n",
       " ('yahoo', 3),\n",
       " ('eBay', 3),\n",
       " ('google-research-datasets', 3),\n",
       " ('ARM-software', 2),\n",
       " ('adobe', 2),\n",
       " ('mouna99', 2),\n",
       " ('baidu', 2),\n",
       " ('Ford', 2),\n",
       " ('pzzhang', 2),\n",
       " ('namisan', 2),\n",
       " ('huanzhang12', 2),\n",
       " ('Trusted-AI', 2),\n",
       " ('ibm-aur-nlp', 2),\n",
       " ('intel', 2),\n",
       " ('intel-analytics', 2),\n",
       " ('kakao', 2),\n",
       " ('Merck', 2),\n",
       " ('nokia', 2),\n",
       " ('rakutentech', 2),\n",
       " ('rigetti', 2),\n",
       " ('Schlumberger', 2),\n",
       " ('bigvideoresearch', 2),\n",
       " ('Sense-X', 2),\n",
       " ('siemens', 2),\n",
       " ('sony', 2),\n",
       " ('nightrome', 2),\n",
       " ('Accenture', 1),\n",
       " ('alibaba-mmai-research', 1),\n",
       " ('aliyun', 1),\n",
       " ('Yifan-Gao', 1),\n",
       " ('Autodesk', 1),\n",
       " ('BBN-Q', 1),\n",
       " ('BBN-E', 1),\n",
       " ('NeuromorphicComputationResearchProgram', 1),\n",
       " ('cisco', 1),\n",
       " ('HPInc', 1),\n",
       " ('mercedes-benz', 1),\n",
       " ('DolbyLaboratories', 1),\n",
       " ('electronicarts', 1),\n",
       " ('Ericsson', 1),\n",
       " ('researchmm', 1),\n",
       " ('simdjson', 1),\n",
       " ('qkaren', 1),\n",
       " ('princeton-nlp', 1),\n",
       " ('Hadisalman', 1),\n",
       " ('CausalML', 1),\n",
       " ('TURuibo', 1),\n",
       " ('georgepar', 1),\n",
       " ('amitz25', 1),\n",
       " ('mejbah', 1),\n",
       " ('jpmorganchase', 1),\n",
       " ('mozilla', 1),\n",
       " ('wctu', 1),\n",
       " ('avinashpaliwal', 1),\n",
       " ('art-programmer', 1),\n",
       " ('swook', 1),\n",
       " ('RameenAbdal', 1),\n",
       " ('tkarras', 1),\n",
       " ('kynkaat', 1),\n",
       " ('rosinality', 1),\n",
       " ('JiayuYANG', 1),\n",
       " ('nv-tlabs', 1),\n",
       " ('dmis-lab', 1),\n",
       " ('NetApp', 1),\n",
       " ('rll', 1),\n",
       " ('chainer', 1),\n",
       " ('optuna', 1),\n",
       " ('pfnet', 1),\n",
       " ('pfizer-opensource', 1),\n",
       " ('uccollab', 1),\n",
       " ('philips-labs', 1),\n",
       " ('egison', 1),\n",
       " ('bosch-ros-pkg', 1),\n",
       " ('SAP', 1),\n",
       " ('spotify-research', 1),\n",
       " ('AliaksandrSiarohin', 1),\n",
       " ('zhao-tong', 1),\n",
       " ('swisscom', 1),\n",
       " ('XPixelGroup', 1),\n",
       " ('twitter', 1),\n",
       " ('mlcommons', 1),\n",
       " ('yandex', 1),\n",
       " ('YahooArchive', 1),\n",
       " ('xthan', 1),\n",
       " ('kuangliu', 1),\n",
       " ('mseitzer', 1),\n",
       " ('zt95', 1),\n",
       " ('HRHLALALA', 1),\n",
       " ('richardaecn', 1),\n",
       " ('rr-learning', 1),\n",
       " ('bmild', 1),\n",
       " ('hendrycks', 1),\n",
       " ('tock', 1),\n",
       " ('JH-LEE-KR', 1),\n",
       " ('MhLiao', 1),\n",
       " ('louismartin', 1),\n",
       " ('cocodataset', 1),\n",
       " ('lvis-dataset', 1),\n",
       " ('clovaai', 1),\n",
       " ('rhgao', 1),\n",
       " ('edenton', 1),\n",
       " ('brendenlake', 1),\n",
       " ('facebookarchive', 1),\n",
       " ('cypw', 1),\n",
       " ('koustuvsinha', 1),\n",
       " ('rll-research', 1),\n",
       " ('feralvam', 1),\n",
       " ('batra-mlp-lab', 1),\n",
       " ('Tushar-N', 1)]"
      ]
     },
     "execution_count": 61,
     "metadata": {},
     "output_type": "execute_result"
    }
   ],
   "source": [
    "repo_urls = list(matchedPapersInfo.repo_link)\n",
    "import re\n",
    "link_pattern = r'https://github.com/([\\w\\-]*)/[\\w\\-]*'\n",
    "\n",
    "usernames = [re.findall(link_pattern, repo_url)[0] for repo_url in repo_urls if len(re.findall(link_pattern, repo_url)) > 0]\n",
    "from collections import Counter\n",
    "usernames_count = Counter(usernames)\n",
    "usernames_count.most_common()"
   ]
  },
  {
   "cell_type": "code",
   "execution_count": 77,
   "id": "25a507b2-7dd8-4561-925c-7373a585ae48",
   "metadata": {},
   "outputs": [],
   "source": [
    "a = Extractor.loadCSVFromOutput(['Huawei']).iloc[17].title"
   ]
  },
  {
   "cell_type": "code",
   "execution_count": 74,
   "id": "dcbb4ac7-0fa2-489a-b8d6-eaf0a0b57749",
   "metadata": {},
   "outputs": [],
   "source": [
    "b = companyPWC[companyPWC.repo_url.str.contains('huawei-noah/')].iloc[1].paper_title"
   ]
  },
  {
   "cell_type": "code",
   "execution_count": 73,
   "id": "e32da1fb-72d1-4323-bb15-bde2751ec855",
   "metadata": {},
   "outputs": [
    {
     "data": {
      "text/html": [
       "<div>\n",
       "<style scoped>\n",
       "    .dataframe tbody tr th:only-of-type {\n",
       "        vertical-align: middle;\n",
       "    }\n",
       "\n",
       "    .dataframe tbody tr th {\n",
       "        vertical-align: top;\n",
       "    }\n",
       "\n",
       "    .dataframe thead th {\n",
       "        text-align: right;\n",
       "    }\n",
       "</style>\n",
       "<table border=\"1\" class=\"dataframe\">\n",
       "  <thead>\n",
       "    <tr style=\"text-align: right;\">\n",
       "      <th></th>\n",
       "      <th>Company</th>\n",
       "      <th>EID</th>\n",
       "      <th>CID</th>\n",
       "      <th>Title</th>\n",
       "      <th>Year</th>\n",
       "      <th>Abstract</th>\n",
       "      <th>created_at</th>\n",
       "      <th>name</th>\n",
       "      <th>Full Name</th>\n",
       "      <th>Forks</th>\n",
       "      <th>Stars</th>\n",
       "      <th>Watchers</th>\n",
       "      <th>Commits</th>\n",
       "      <th>Branches</th>\n",
       "      <th>Contributors</th>\n",
       "      <th>Open Issues</th>\n",
       "      <th>PullRequests</th>\n",
       "      <th>YearCreated</th>\n",
       "      <th>repo_link</th>\n",
       "    </tr>\n",
       "  </thead>\n",
       "  <tbody>\n",
       "  </tbody>\n",
       "</table>\n",
       "</div>"
      ],
      "text/plain": [
       "Empty DataFrame\n",
       "Columns: [Company, EID, CID, Title, Year, Abstract, created_at, name, Full Name, Forks, Stars, Watchers, Commits, Branches, Contributors, Open Issues, PullRequests, YearCreated, repo_link]\n",
       "Index: []"
      ]
     },
     "execution_count": 73,
     "metadata": {},
     "output_type": "execute_result"
    }
   ],
   "source": [
    "matchedPapersInfo[matchedPapersInfo.repo_link.str.contains('huawei')]"
   ]
  },
  {
   "cell_type": "code",
   "execution_count": 78,
   "id": "22a51846-b0ea-4be5-a2fd-0dbcba075392",
   "metadata": {},
   "outputs": [
    {
     "data": {
      "text/plain": [
       "'BOiLS: Bayesian Optimisation for Logic Synthesis'"
      ]
     },
     "execution_count": 78,
     "metadata": {},
     "output_type": "execute_result"
    }
   ],
   "source": [
    "a"
   ]
  },
  {
   "cell_type": "code",
   "execution_count": 79,
   "id": "8fdf35f6-2ba8-458a-bf4e-d62ed216ad52",
   "metadata": {},
   "outputs": [
    {
     "data": {
      "text/plain": [
       "'BOiLS: Bayesian Optimisation for Logic Synthesis'"
      ]
     },
     "execution_count": 79,
     "metadata": {},
     "output_type": "execute_result"
    }
   ],
   "source": [
    "b"
   ]
  },
  {
   "cell_type": "code",
   "execution_count": 89,
   "id": "b760abaf-5d66-42f3-8d78-53453c07cd8b",
   "metadata": {},
   "outputs": [
    {
     "data": {
      "text/plain": [
       "'BOiLS: Bayesian Optimisation for Logic Synthesis'"
      ]
     },
     "execution_count": 89,
     "metadata": {},
     "output_type": "execute_result"
    }
   ],
   "source": [
    "c"
   ]
  },
  {
   "cell_type": "code",
   "execution_count": 88,
   "id": "165b817d-2d1d-44ef-b094-712bfc7415a3",
   "metadata": {},
   "outputs": [],
   "source": [
    "c = companyDf[companyDf['Title'].str.contains('BOiLS')].iloc[0].Title"
   ]
  },
  {
   "cell_type": "code",
   "execution_count": 91,
   "id": "e258bb52-e12e-4880-a2b4-e169ea82b207",
   "metadata": {},
   "outputs": [
    {
     "data": {
      "text/plain": [
       "True"
      ]
     },
     "execution_count": 91,
     "metadata": {},
     "output_type": "execute_result"
    }
   ],
   "source": [
    "a.lower()==c.lower() \n"
   ]
  },
  {
   "cell_type": "markdown",
   "id": "3dea2903-0d22-4ea4-832d-ae0a7d225896",
   "metadata": {},
   "source": [
    "###  We fix this tomorrow"
   ]
  },
  {
   "cell_type": "code",
   "execution_count": null,
   "id": "40cf3277-60f7-49e3-abc2-0407d6be50bb",
   "metadata": {},
   "outputs": [],
   "source": []
  }
 ],
 "metadata": {
  "kernelspec": {
   "display_name": "Python 3 (ipykernel)",
   "language": "python",
   "name": "python3"
  },
  "language_info": {
   "codemirror_mode": {
    "name": "ipython",
    "version": 3
   },
   "file_extension": ".py",
   "mimetype": "text/x-python",
   "name": "python",
   "nbconvert_exporter": "python",
   "pygments_lexer": "ipython3",
   "version": "3.8.16"
  }
 },
 "nbformat": 4,
 "nbformat_minor": 5
}
