{
 "cells": [
  {
   "cell_type": "code",
   "execution_count": 1,
   "id": "484e24ec-9e34-4627-9a17-7d7f26c0a4ea",
   "metadata": {},
   "outputs": [
    {
     "name": "stdout",
     "output_type": "stream",
     "text": [
      "current working dir/Volumes/Zarif/myStuff/research/repoPaper/src\n"
     ]
    }
   ],
   "source": [
    "import requests\n",
    "from bs4 import BeautifulSoup\n",
    "import pandas as pd\n",
    "from tqdm import tqdm\n",
    "import os, sys\n",
    "exec(open(\"init_notebook.py\").read())\n",
    "from DataTools import DataTools"
   ]
  },
  {
   "cell_type": "code",
   "execution_count": 2,
   "id": "d98d4d98-1836-4dbe-a1a1-e0af5b9670ff",
   "metadata": {},
   "outputs": [],
   "source": [
    "%load_ext autoreload\n",
    "%autoreload 2"
   ]
  },
  {
   "cell_type": "markdown",
   "id": "8b969969-c17b-49f7-87de-4d68fc16db76",
   "metadata": {},
   "source": [
    "### loading dataset "
   ]
  },
  {
   "cell_type": "code",
   "execution_count": 3,
   "id": "7e9b4cfb-c068-4483-b71f-6e69bb72b5b8",
   "metadata": {},
   "outputs": [],
   "source": [
    "mainDatasetPath = os.path.join(os.curdir, \"../data/mainData.csv\")\n",
    "df = pd.read_csv(mainDatasetPath)"
   ]
  },
  {
   "cell_type": "markdown",
   "id": "909d67ad-c29b-44f4-928c-60846774d106",
   "metadata": {},
   "source": [
    "### loading company "
   ]
  },
  {
   "cell_type": "code",
   "execution_count": 90,
   "id": "b6cf2bfe-a56b-433d-bb24-abef0d421aff",
   "metadata": {},
   "outputs": [],
   "source": [
    "companyName = \"NVIDIA\"\n",
    "companyDf = df[df[\"Company\"] == companyName]\n",
    "paperTitles = companyDf[\"Title\"]"
   ]
  },
  {
   "cell_type": "markdown",
   "id": "8d26a9ec-b45c-48d6-872c-4bb63d486b7a",
   "metadata": {},
   "source": [
    "### loading df from repo extract"
   ]
  },
  {
   "cell_type": "code",
   "execution_count": 13,
   "id": "a7f0cc4a-ad10-45c4-bee0-5257634a8872",
   "metadata": {},
   "outputs": [],
   "source": [
    "from RepoTools import RepoTools"
   ]
  },
  {
   "cell_type": "code",
   "execution_count": 88,
   "id": "38e2dc33-d372-44f5-81ef-a7236c920789",
   "metadata": {},
   "outputs": [],
   "source": [
    "extractedDf = DataTools.loadCSVFromOutput('NVIDIA'+'Papers')"
   ]
  },
  {
   "cell_type": "code",
   "execution_count": 91,
   "id": "b4ec2b1d-8b5e-479a-a205-a8ca4bc245bf",
   "metadata": {},
   "outputs": [],
   "source": [
    "matched_papers = []\n",
    "for paperTitle in paperTitles:\n",
    "    if any(title in paperTitle for title in extractedDf['title']):\n",
    "           matched_papers.append(paperTitle)"
   ]
  },
  {
   "cell_type": "code",
   "execution_count": 92,
   "id": "5368e9b1-519d-4fcf-b073-8239d029805c",
   "metadata": {},
   "outputs": [
    {
     "data": {
      "text/plain": [
       "['PWC-Net: CNNs for Optical Flow Using Pyramid, Warping, and Cost Volume',\n",
       " 'Image Inpainting for Irregular Holes Using Partial Convolutions',\n",
       " 'High-Resolution Image Synthesis and Semantic Manipulation with Conditional GANs',\n",
       " 'Super SloMo: High Quality Estimation of Multiple Intermediate Frames for Video Interpolation',\n",
       " 'Mellotron: Multispeaker expressive voice synthesis by conditioning on rhythm, pitch and global style tokens']"
      ]
     },
     "execution_count": 92,
     "metadata": {},
     "output_type": "execute_result"
    }
   ],
   "source": [
    "matched_papers"
   ]
  },
  {
   "cell_type": "code",
   "execution_count": 93,
   "id": "a8be6306-b3dd-41d3-9dfb-8d62a13a0d6c",
   "metadata": {},
   "outputs": [
    {
     "name": "stdout",
     "output_type": "stream",
     "text": [
      "                                                title  \\\n",
      "41  PWC-Net: CNNs for Optical Flow Using Pyramid, ...   \n",
      "\n",
      "                                     repo_link  \n",
      "41  https://github.com/NVIDIA/flownet2-pytorch  \n",
      "                                                title  \\\n",
      "25  Image Inpainting for Irregular Holes Using Par...   \n",
      "\n",
      "                                repo_link  \n",
      "25  https://github.com/NVIDIA/partialconv  \n",
      "                                               title  \\\n",
      "3  High-Resolution Image Synthesis and Semantic M...   \n",
      "\n",
      "                             repo_link  \n",
      "3  https://github.com/NVIDIA/pix2pixHD  \n",
      "                                                title  \\\n",
      "34  Super SloMo: High Quality Estimation of Multip...   \n",
      "\n",
      "                                        repo_link  \n",
      "34  https://github.com/avinashpaliwal/Super-SloMo  \n",
      "                                                title  \\\n",
      "20  Mellotron: Multispeaker expressive voice synth...   \n",
      "\n",
      "                              repo_link  \n",
      "20  https://github.com/NVIDIA/mellotron  \n"
     ]
    }
   ],
   "source": [
    "for paper in matched_papers:\n",
    "    print(extractedDf[extractedDf['title'].str.contains(paper)])"
   ]
  },
  {
   "cell_type": "code",
   "execution_count": 95,
   "id": "1c2b0f5f-717c-4e76-ac39-2f95651a0871",
   "metadata": {},
   "outputs": [
    {
     "data": {
      "text/plain": [
       "array(['23andMe, Inc.', '3M', 'ABB Group', 'ADP', 'AES Corporation',\n",
       "       'AGT INTERNATIONAL GMBH', 'AKTIEBOLAGET SKF', 'ARM Limited',\n",
       "       'ARRI', 'ASAPP INC', 'ASD Inc.', 'ASELSAN ELEKTRONIK',\n",
       "       'ASML Netherlands BV', 'ASUSTeK Computer Inc', 'AVL List GmbH',\n",
       "       'AWK Group AG', 'Abbott Laboratories', 'Accenture',\n",
       "       'Actenum Corporation', 'Acxiom Corporation',\n",
       "       'Adaptive Technologies, Inc.', 'Adept Technology, Inc.', 'Adobe',\n",
       "       'Advanced Micro Devices', 'Affinnova, Inc.',\n",
       "       'Agilent Technologies', 'Air China Limited',\n",
       "       'Air Liquide Large Industries US LP',\n",
       "       'Air Products and Chemicals Inc', 'Airbnb',\n",
       "       'Airbus Defence and Space', 'Aisin AW Co Ltd',\n",
       "       'Akamai Technologies Inc', 'Alenia Aer', 'Alibaba',\n",
       "       'Allstate Insurance Company', 'Alps Electric Co Ltd', 'Alstom',\n",
       "       'Amadeus', 'Amazon', 'Amdocs Development Limited',\n",
       "       'American Express', 'American GNC Corporation',\n",
       "       'Ami Semiconductor', 'Amobee, Inc.', 'Analog Devices Inc',\n",
       "       'Apollo Diamond, Inc.', 'Apple', 'Applied Materials Incorporated',\n",
       "       'Aptima Inc', 'Asahi Kasei Corporation', 'Aspen Technology Inc',\n",
       "       'AstraZeneca', 'At And T Labs-research',\n",
       "       'Au Optronics Corporation', 'Audi AG', 'Autodesk',\n",
       "       'Autoliv ASP Inc', 'Autonetworks Technologies, Ltd.',\n",
       "       'Autonomous Solutions, Inc.', 'Avago Technologies', 'Avaya',\n",
       "       'Aveo Inc', 'Avx Corporation', 'Axalta Coating Systems IP Co',\n",
       "       'Axalta Coating Systems IP Co., LLC', 'BAE Systems plc', 'BAIDU',\n",
       "       'BASF SE', 'BBN Technologies', 'BOE TECHNOLOGY GROUP CO., LTD.',\n",
       "       'BOOKING.COM B.V.', 'BP America Inc', 'Baker Hughes a GE company',\n",
       "       'Balluff GmbH', 'Bang and Olufsen', 'Bank of America Corporation',\n",
       "       'Battelle', 'Bayer AG', 'Bayer Aktiengesellschaft',\n",
       "       'Becton Dickinson and Company', 'Bell',\n",
       "       'Bentley Systems Incorporated', 'Bernafon AG',\n",
       "       'Bio-Rad Laboratories Inc', 'Blizzard Entertainment', 'Bloomberg',\n",
       "       'Boehringer-Ingelheim', 'Boeing Corporation', 'Bombardier',\n",
       "       'Booz Allen Hamilton Inc', 'Borealis',\n",
       "       'Boston Scientific Scimed Inc', 'Bracco Imaging',\n",
       "       'Bridgestone Corporation', 'British Telecommunications plc',\n",
       "       'Broadcom', 'Brooks Automation', 'Bruker AXS GmbH',\n",
       "       'Bruker BioSpin AG', 'Bruker Daltonik GmbH', 'Bytedance', 'CA Inc',\n",
       "       'CRC CARE Pty Ltd', 'Ca Technologies', 'Cabot Corporation',\n",
       "       'Cadence Design Systems Inc', 'Canon Inc', 'Capgemini',\n",
       "       'Capital One Services LLC', 'Carl Zeiss', 'Carrier Corporation',\n",
       "       'Casio Computer Co., Ltd.', 'Caterpillar', 'Cavium, Inc.',\n",
       "       'Cerner Innovation Inc', 'Charles River Analytics Inc',\n",
       "       'Check Point Software Technologies, Inc.', 'Chevron Corporation',\n",
       "       'China Mobile', 'Cigital', 'Cigna Corporation', 'Cisco Systems',\n",
       "       'Citigroup', 'Citrix', 'Clarion Co., Ltd.', 'Cochlear Limited',\n",
       "       'Codexis Inc', 'Cognizant', 'Comcast',\n",
       "       'CommScope Technologies LLC',\n",
       "       'Computer Sciences Corporation - USA', 'Connotate, Inc.',\n",
       "       'Consolidated Edison Company', 'Continental Automotive GmbH',\n",
       "       'Corelogic Incorporated', 'Coriant Advanced Technology LLC',\n",
       "       'Corning Incorporated', 'Cortec, L.L.C.', 'Cranial Technologies',\n",
       "       'Cray Inc', 'Cypress Semiconductor Corporation',\n",
       "       'D Wave Systems Inc', 'DEEP GENOMICS INCORPORATED',\n",
       "       'DENSO Corporation', 'Daikin Industries Ltd', 'Daimler AG',\n",
       "       'Danaher Corporation', 'Dassault Systemes', 'DataRobot Inc',\n",
       "       'DeepMind Technologies', 'Deere & Company', 'Definiens AG',\n",
       "       'Dell Products', 'Delphi', 'Deutsche Telekom', 'DiDi', 'Digia',\n",
       "       'Digimarc Corporation', 'Disney', 'Dolby', 'Dropbox Inc', 'DuPont',\n",
       "       'E.S.I. SOFTWARE LTD', 'EMC Corporation', 'ENI SpA Italy',\n",
       "       'ESI SOFTWARE LTD', 'Eastman Kodak Company', 'Eaton Corporation',\n",
       "       'Elbit Systems Ltd.', 'Electronic Arts',\n",
       "       'Electronic Data Systems Corporation', 'Elekta AB',\n",
       "       'Element Six Technologies Limited', 'Elpida Memory, Inc.',\n",
       "       'Elsevier',\n",
       "       'Emerson Process Management Power & Water Solutions, Inc.',\n",
       "       'Energy Conversion Devices, Inc.', 'Enjoyor Company Limited',\n",
       "       'Entegris Inc', 'Entelos, Inc.', 'Ericsson Sweden',\n",
       "       'Ethicon Endo-Surgery Inc', 'Experian', 'Express Scripts Holding',\n",
       "       'Exxon Mobil Corporation', 'FFC Limited',\n",
       "       'FSI International, Inc.', 'FUJIFILM Corporation',\n",
       "       'Fair Isaac Corporation', 'Fanuc Ltd', 'FireEye Inc',\n",
       "       'Fisher-Rosemount Systems, Inc.', 'Flextronics AP LLC',\n",
       "       'Fluke Corporation', 'Fluor Corporation', 'Ford Motor Company',\n",
       "       'Freescale Semiconductor', 'Fujitsu Ltd', 'Furuno Electric Co',\n",
       "       'Futurewei Tech',\n",
       "       'GE Medical Systems Information Technologies, Inc.', 'Gateway Inc',\n",
       "       'General Dynamics Advanced Information Systems Inc',\n",
       "       'General Electric Company', 'General Motors', 'Github',\n",
       "       'Global Foundries Inc', 'GoPro, Inc.', 'Goldman Sachs & Co',\n",
       "       'GrammaTech', 'Gravity Research and Development Kft.',\n",
       "       'Groupon, Inc.', 'Guardian Industries Corp', 'HERE Global BV',\n",
       "       'HNC Software, Inc.', 'HNTB Holdings Ltd', 'HRL Laboratories',\n",
       "       'HTC', 'Hach Company', 'Halliburton',\n",
       "       'Harman International Industries Incorporated',\n",
       "       'Harris Corporation', 'Hcl Technologies', 'Healthways, Inc.',\n",
       "       'HeartFlow Inc', 'Henry Ford Health System',\n",
       "       'Hewlett-Packard Inc.', 'Hitachi Ltd',\n",
       "       'Hon Hai Precision Industry Co', 'Honda R and D Co',\n",
       "       'Honeywell International Inc', 'Huawei Technologies',\n",
       "       'Hudson Co., Ltd.', 'Hulu', 'Hypres Inc', 'Hypres, Inc',\n",
       "       'Hyundai Motor Group', 'IBM', 'ICF INTERNATIONAL', 'ID QUANTIQUE',\n",
       "       'IHS Markit Ltd', 'INFOTECH SOFT, INC.',\n",
       "       'INTELLIGENT FUSION TECHNOLOGY INC', 'Icosystem Corporation',\n",
       "       'Illumina Inc', 'Indizen Optical Technologies of America LLC',\n",
       "       'Infineon Technologies AG', 'Infinera Corporation', 'Infosys',\n",
       "       'Ingenuity Systems, Inc.', 'Inotera Memories, Inc.',\n",
       "       'Intel Corporation', 'Intelligent Automation Inc',\n",
       "       'Intertrust Technologies Corp.',\n",
       "       'Interuniversity Micro-Electronics Center at Leuven',\n",
       "       'Interval Research', 'Intuit Inc', 'Invensense Inc',\n",
       "       'Invensys Systems, Inc.', 'Israel Aerospace Industries Ltd',\n",
       "       'JFE Steel Corporation', 'JPMorgan Chase Bank',\n",
       "       'JVC KENWOOD Corporation', 'Janssen-Cilag',\n",
       "       'Johnson & Johnson Pharmaceutical Research & Development Raritan',\n",
       "       'Johnson Controls', 'Juniper Networks Inc',\n",
       "       'Justsystem Corporation', 'KDDI Corporation',\n",
       "       'KLA-Tencor Corporation', 'KT Corporation',\n",
       "       'KYOCERA Document Solutions Inc.',\n",
       "       'Kabushiki Kaisha Yaskawa Denki', 'Kakao Corp',\n",
       "       'Kansai Paint Co., Ltd.', 'Kia Motors Corporation',\n",
       "       'Kimberly-Clark Worldwide Inc', 'Kitware', 'Koch Industries, Inc.',\n",
       "       'Kone Corporation', 'Kongsberg Maritime AS',\n",
       "       'Konica Minolta Laboratory', 'Korea Electric Power', \"L'Oreal\",\n",
       "       'L-3 Communications', 'LENOVO', 'LEUKOCARE AG', 'LG Chem Ltd',\n",
       "       'LG Electronics Korea', 'LSI Logic Corporation',\n",
       "       'Lam Research Corporation', 'Lattec IS', 'Lear Corporation',\n",
       "       'Lego AS', 'Lehman Brothers', 'Leidos Inc', 'Lexis Nexis',\n",
       "       'Life Technologies Corporation', 'Lincom Corporation', 'LinkedIn',\n",
       "       'Lite-On It Corporation', 'Livermore Software Technology Corp',\n",
       "       'Lockheed Martin Corporation', 'Logitech',\n",
       "       \"Lowe's Companies, Inc.\", 'Lunit Inc', 'Lyft', 'MBDA France',\n",
       "       'MOBILEYE VISION TECHNOLOGIES LTD.', 'Mahindra',\n",
       "       'Mainstream Engineering Corporation', 'Manitoba Hydro',\n",
       "       'Massachusetts Mutual Life Insurance Company', 'Materialise',\n",
       "       'Materialise N.V.', 'MathWorks', 'Maxtor Corporation',\n",
       "       'Mazda Motor', \"McDonald's\", 'McKesson Financial Holdings',\n",
       "       'McKinsey & Company', 'MedImmune Inc', 'Mediatek Inc',\n",
       "       'Medtronic Inc', 'Medtronic, Inc.', 'Mentor Graphics Corporation',\n",
       "       'Merck', 'Metso Automation USA Inc.', 'Micron',\n",
       "       'Microstrategy, Inc.', 'Midea Group', 'Mitel Networks',\n",
       "       'Mitsubishi Electric Corporation', 'Morgan Stanley', 'Motorola',\n",
       "       'Mozilla', 'NCR Corporation', 'NEC Corporation', 'NETFLIX INC',\n",
       "       'NIKE, Inc.', 'NUTONIAN, INC.', 'NVIDIA', 'NXP Semiconductors',\n",
       "       'Nalco Company', 'Nanogen, Inc.', 'Narus, Inc.', 'Natera Inc',\n",
       "       'National Instruments Corporation', 'Natural Selection Inc',\n",
       "       'Naver Corporation', 'Nestor, Inc.', 'NetApp', 'Nidec Motor',\n",
       "       'Nihon Unisys', 'Nikon',\n",
       "       'Nippon Telegraph and Telephone Corporation', 'Nissan',\n",
       "       'Nokia Corporation', 'Nortel Networks',\n",
       "       'Northrop Grumman corporation', 'Novartis International AG',\n",
       "       'Novatek Microelectronics Corp', 'Novell, Inc.', 'Novo Nordisk',\n",
       "       'NuTech Solutions GmbH', 'Nuance Communications', 'Numerica Corp',\n",
       "       'Nutanix Inc', 'OFS FITEL LLC', 'OPTUM INC',\n",
       "       'Oki Electric Industry', 'Olympus Corporation',\n",
       "       'Omron Adept Technologies Inc', 'Open Text Corporation', 'OpenAI',\n",
       "       'Oracle', 'Orbotech Ltd', 'Osaro', 'PARC', 'PDF Solutions, Inc.',\n",
       "       'PEARSON EDUCATION INC', 'PGS Geophysical AS',\n",
       "       'PPG Industries Ohio Inc', 'PREFERRED NETWORKS INC', 'PTC Inc',\n",
       "       'Palo Alto Networks', 'Palomar Technology, LLC',\n",
       "       'Panasonic Corporation', 'Pandora Media Inc',\n",
       "       'Pavilion Technologies', 'Pearson plc',\n",
       "       'Petroleum Geo-Services ASA', 'Petronas Carigali Sdn Bhd',\n",
       "       'Pfizer', 'Philip Morris Products', 'Philips Research',\n",
       "       'Pinterest', 'Pioneer Hi-Bred International, Inc.',\n",
       "       'Pitney Bowes Inc', 'Posco', 'Pratt and Whitney',\n",
       "       'ProMOS Technologies Inc.', 'Procter & Gamble',\n",
       "       'Progenics Pharmaceuticals Inc', 'Progressive', 'QinetiQ',\n",
       "       'Qualcomm Incorporated', 'Quanta Computer',\n",
       "       'Quicksilver Technology, Inc.', 'REPSOL', 'Rakuten', 'Rambus Inc',\n",
       "       'Raytheon', 'Recommind, Inc.', 'Red Hat Inc',\n",
       "       'Reliance Electric Technologies, LLC', 'Relx Group',\n",
       "       'Renesas Electronics Corporation', 'Research In Motion Limited',\n",
       "       'Ricoh', 'Rigetti Computing', 'Robert Bosch GmbH',\n",
       "       'Rockwell Automation', 'Rockwell Collins Inc',\n",
       "       'Rohde & Schwarz GmbH', 'Rolls Royce', 'SAAB AB', 'SAIC', 'SAP AG',\n",
       "       'SAS Institute', 'SK Hynix Inc', 'SK Telecom Co',\n",
       "       'SMART INFORMATION FLOW TECHNOLGIES, LLC',\n",
       "       'SOFTBANK ROBOTICS EUROPE', 'SPOTIFY AB', 'SPX Corporation',\n",
       "       'SRC Inc', 'SRI International',\n",
       "       'STATE GRID JIANGSU ELECTRIC POWER COMPANY NAN JING POWER SUPPLY COMPANY',\n",
       "       'STMicroelectronics', 'STROZ FRIEDBERG, LLC',\n",
       "       'Samsung Electronics', 'Sandia National Laboratories, New Mexico',\n",
       "       'Sanofi', 'Sanyo Electric Co., Ltd.', 'Sarnoff Corporation',\n",
       "       'Saudi Arabian Oil Company', 'Schlumberger Limited',\n",
       "       'Schneider Electric Automation GmbH', 'Schneider Electric USA Inc',\n",
       "       'Seagate Technology USA', 'Securboration, Inc.',\n",
       "       'Seiko Epson Corporation', 'Semiconductor Energy Laboratory Co',\n",
       "       'Semiconductor Manufacturing International (Shanghai) Corporation',\n",
       "       'Sensetime', 'Sensis Corporation', 'Sensys Medical, Inc.',\n",
       "       'Sharp Corporation', 'Sharper Image Corporation',\n",
       "       'Shell Oil Company', 'Siemens AG', 'Sift LLC',\n",
       "       'Sigma Space Corporation', 'Silicon Graphics Inc',\n",
       "       'Singapore Health Services Pte Ltd',\n",
       "       'Smart Internet Technology CRC Pty Ltd',\n",
       "       'Smiths Medical ASD, Inc.', 'Snap Inc', 'Sony Corporation',\n",
       "       'Splunk Inc', 'Sprint Corporation',\n",
       "       'State Grid Corporation of China', 'Stryker Corporation',\n",
       "       'Sumitomo Wiring Systems, Ltd.', 'Sun Microsystems', 'Swisscom AG',\n",
       "       'Sybase Incorporated', 'Symantec', 'Synopsys Incorporated',\n",
       "       'Sysmex Corporation', 'TEJAS NETWORKS LTD.', 'TOTAL SA',\n",
       "       'TURBOMECA', 'Taiheiyo Cement Corporation',\n",
       "       'Tata Consultancy Services India', 'Technicolor',\n",
       "       'Telcordia Technologies, Inc.', 'Telefonica SA', 'Tencent',\n",
       "       'Tennessee Valley Authority', 'Teradata US Inc', 'Teradyne Inc',\n",
       "       'Tesla', 'Texas Instruments', 'Thales Group',\n",
       "       'The Boston Consulting Group Inc',\n",
       "       'The Boston Consulting Group, Inc.',\n",
       "       'The Nielsen Company (US) LLC', 'Therma-Wave, Inc.',\n",
       "       'Thermo Fisher Scientific', 'Thomson Reuters', 'Tokyo Electron',\n",
       "       'Toshiba Corporation', 'Toyota Motor Corporation',\n",
       "       'Trend Micro Incorporated', 'Trilogy Development Group, Inc.',\n",
       "       'Trimble Navigation Limited', 'Twitter', 'UBS AG', 'UOP LLC',\n",
       "       'UTC Fire & Security Corporation', 'Uber', 'Unisearch Associates',\n",
       "       'Unisys Corporation', 'United Microelectronics Corp',\n",
       "       'United Parcel Service of America Inc', 'VECNA TECHNOLOGIES INC',\n",
       "       'VERISIGN, INC.', 'Varian Medical Systems Inc', 'Veracyte Inc',\n",
       "       'Verdande Technology AS', 'Verily Life Sciences LLC',\n",
       "       'Verity, Inc.', 'Verizon Communications', 'Vermillion Inc',\n",
       "       'ViaSat Inc', 'Victor Company of Japan, Ltd.', 'Vodafone',\n",
       "       'Volkswagen', 'Volvo', 'Vulcan Inc', 'WSI Corporation', 'Walmart',\n",
       "       'Waymo LLC', 'Wells Fargo', 'Western Digital Technologies Inc',\n",
       "       'WesternGeco LLC', 'Westinghouse Electric Company', 'Whirlpool',\n",
       "       'Winbond Electronics Corp.', 'Wipro Limited',\n",
       "       'Wistron Corporation', 'Wolfram Research Inc', 'Xerox Corporation',\n",
       "       'Xilinx Inc', 'YANDEX EUROPE AG', 'Yahoo Inc',\n",
       "       'Yamaha Corporation', 'Yokogawa Electric Corporation', 'Zoox',\n",
       "       'Zte', 'cogvis', 'eBay', 'exact sciences corporation',\n",
       "       'fairchild semiconductor', 'google', 'hellenic telecommunications',\n",
       "       'hess corporation', 'hsbc', 'i2 technologies',\n",
       "       'iRobot Corporation', 'knexus research corp',\n",
       "       'marvell semiconductor', 'mellanox technologies israel',\n",
       "       'novamente llc', 'osram corporate', 'pricewaterhousecoopers',\n",
       "       'profactor gmbh', 'realtek semiconductor', 'salesforce.com, inc.',\n",
       "       'sogou inc', 'tomtom', 'ubitech ltd', 'vermillion inc', 'Deloitte',\n",
       "       'Facebook', 'Microsoft'], dtype=object)"
      ]
     },
     "execution_count": 95,
     "metadata": {},
     "output_type": "execute_result"
    }
   ],
   "source": [
    "df.Company.unique()"
   ]
  },
  {
   "cell_type": "code",
   "execution_count": null,
   "id": "14944500-4006-4aef-97e4-180784bae9ed",
   "metadata": {},
   "outputs": [],
   "source": []
  }
 ],
 "metadata": {
  "kernelspec": {
   "display_name": "Python 3 (ipykernel)",
   "language": "python",
   "name": "python3"
  },
  "language_info": {
   "codemirror_mode": {
    "name": "ipython",
    "version": 3
   },
   "file_extension": ".py",
   "mimetype": "text/x-python",
   "name": "python",
   "nbconvert_exporter": "python",
   "pygments_lexer": "ipython3",
   "version": "3.8.16"
  }
 },
 "nbformat": 4,
 "nbformat_minor": 5
}
