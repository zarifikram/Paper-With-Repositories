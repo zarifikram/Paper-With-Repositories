{
 "cells": [
  {
   "cell_type": "code",
   "execution_count": 1,
   "id": "484e24ec-9e34-4627-9a17-7d7f26c0a4ea",
   "metadata": {},
   "outputs": [
    {
     "name": "stdout",
     "output_type": "stream",
     "text": [
      "current working dir/Volumes/Zarif/myStuff/research/repoPaper/src\n"
     ]
    }
   ],
   "source": [
    "import requests\n",
    "from bs4 import BeautifulSoup\n",
    "import pandas as pd\n",
    "from tqdm import tqdm\n",
    "import os, sys\n",
    "exec(open(\"init_notebook.py\").read())\n",
    "from DataTools import DataTools\n",
    "from "
   ]
  },
  {
   "cell_type": "code",
   "execution_count": 2,
   "id": "d98d4d98-1836-4dbe-a1a1-e0af5b9670ff",
   "metadata": {},
   "outputs": [],
   "source": [
    "%load_ext autoreload\n",
    "%autoreload 2"
   ]
  },
  {
   "cell_type": "markdown",
   "id": "8b969969-c17b-49f7-87de-4d68fc16db76",
   "metadata": {},
   "source": [
    "### loading dataset "
   ]
  },
  {
   "cell_type": "code",
   "execution_count": 3,
   "id": "7e9b4cfb-c068-4483-b71f-6e69bb72b5b8",
   "metadata": {},
   "outputs": [],
   "source": [
    "mainDatasetPath = os.path.join(os.curdir, \"../data/mainData.csv\")\n",
    "df = pd.read_csv(mainDatasetPath)"
   ]
  },
  {
   "cell_type": "markdown",
   "id": "909d67ad-c29b-44f4-928c-60846774d106",
   "metadata": {},
   "source": [
    "### loading company "
   ]
  },
  {
   "cell_type": "code",
   "execution_count": 171,
   "id": "b6cf2bfe-a56b-433d-bb24-abef0d421aff",
   "metadata": {},
   "outputs": [],
   "source": [
    "companyName = \"Amazon\"\n",
    "companyDf = df[df[\"Company\"] == companyName]\n",
    "paperTitles = companyDf[\"Title\"]"
   ]
  },
  {
   "cell_type": "markdown",
   "id": "8d26a9ec-b45c-48d6-872c-4bb63d486b7a",
   "metadata": {},
   "source": [
    "### loading df from repo extract"
   ]
  },
  {
   "cell_type": "code",
   "execution_count": 113,
   "id": "a7f0cc4a-ad10-45c4-bee0-5257634a8872",
   "metadata": {},
   "outputs": [],
   "source": [
    "from RepoTools import RepoTools"
   ]
  },
  {
   "cell_type": "code",
   "execution_count": 172,
   "id": "38e2dc33-d372-44f5-81ef-a7236c920789",
   "metadata": {},
   "outputs": [],
   "source": [
    "extractedDf = DataTools.loadCSVFromOutput('amzn'+'Papers')"
   ]
  },
  {
   "cell_type": "markdown",
   "id": "2f336eb6-9384-41b3-8853-11623a906e42",
   "metadata": {},
   "source": [
    "### Seeking papers from company in papers from repo"
   ]
  },
  {
   "cell_type": "code",
   "execution_count": 174,
   "id": "b4ec2b1d-8b5e-479a-a205-a8ca4bc245bf",
   "metadata": {},
   "outputs": [
    {
     "data": {
      "text/html": [
       "<div>\n",
       "<style scoped>\n",
       "    .dataframe tbody tr th:only-of-type {\n",
       "        vertical-align: middle;\n",
       "    }\n",
       "\n",
       "    .dataframe tbody tr th {\n",
       "        vertical-align: top;\n",
       "    }\n",
       "\n",
       "    .dataframe thead th {\n",
       "        text-align: right;\n",
       "    }\n",
       "</style>\n",
       "<table border=\"1\" class=\"dataframe\">\n",
       "  <thead>\n",
       "    <tr style=\"text-align: right;\">\n",
       "      <th></th>\n",
       "      <th>title</th>\n",
       "      <th>repo_link</th>\n",
       "    </tr>\n",
       "  </thead>\n",
       "  <tbody>\n",
       "    <tr>\n",
       "      <th>3</th>\n",
       "      <td>Studying the Effectiveness of Conversational S...</td>\n",
       "      <td>https://github.com/amzn/cosearcher</td>\n",
       "    </tr>\n",
       "    <tr>\n",
       "      <th>4</th>\n",
       "      <td>Debiased balanced interleaving at Amazon Search</td>\n",
       "      <td>https://github.com/amzn/debiased-balanced-inte...</td>\n",
       "    </tr>\n",
       "    <tr>\n",
       "      <th>11</th>\n",
       "      <td>Retrieval-Augmented Multilingual Keyphrase Gen...</td>\n",
       "      <td>https://github.com/Yifan-Gao/multilingual_keyp...</td>\n",
       "    </tr>\n",
       "    <tr>\n",
       "      <th>16</th>\n",
       "      <td>Named Entity Recognition with Small Strongly L...</td>\n",
       "      <td>https://github.com/amzn/amazon-weak-ner-needle</td>\n",
       "    </tr>\n",
       "    <tr>\n",
       "      <th>17</th>\n",
       "      <td>Efficient Learning on Point Clouds With Basis ...</td>\n",
       "      <td>https://github.com/amzn/basis-point-sets</td>\n",
       "    </tr>\n",
       "    <tr>\n",
       "      <th>18</th>\n",
       "      <td>Efficient Learning on Point Clouds with Basis ...</td>\n",
       "      <td>https://github.com/amzn/basis-point-sets</td>\n",
       "    </tr>\n",
       "    <tr>\n",
       "      <th>21</th>\n",
       "      <td>A First Look: Towards Explainable TextVQA Mode...</td>\n",
       "      <td>https://github.com/amzn/explainable-text-vqa</td>\n",
       "    </tr>\n",
       "    <tr>\n",
       "      <th>22</th>\n",
       "      <td>Transferring Knowledge across Learning Processes</td>\n",
       "      <td>https://github.com/amzn/metalearn-leap</td>\n",
       "    </tr>\n",
       "    <tr>\n",
       "      <th>23</th>\n",
       "      <td>Learning Multimodal Affinities for Textual Edi...</td>\n",
       "      <td>https://github.com/amzn/multimodal-affinities</td>\n",
       "    </tr>\n",
       "    <tr>\n",
       "      <th>24</th>\n",
       "      <td>RETE: Retrieval-Enhanced Temporal Event Foreca...</td>\n",
       "      <td>https://github.com/amzn/rete-thewebconf-2022</td>\n",
       "    </tr>\n",
       "  </tbody>\n",
       "</table>\n",
       "</div>"
      ],
      "text/plain": [
       "                                                title  \\\n",
       "3   Studying the Effectiveness of Conversational S...   \n",
       "4     Debiased balanced interleaving at Amazon Search   \n",
       "11  Retrieval-Augmented Multilingual Keyphrase Gen...   \n",
       "16  Named Entity Recognition with Small Strongly L...   \n",
       "17  Efficient Learning on Point Clouds With Basis ...   \n",
       "18  Efficient Learning on Point Clouds with Basis ...   \n",
       "21  A First Look: Towards Explainable TextVQA Mode...   \n",
       "22   Transferring Knowledge across Learning Processes   \n",
       "23  Learning Multimodal Affinities for Textual Edi...   \n",
       "24  RETE: Retrieval-Enhanced Temporal Event Foreca...   \n",
       "\n",
       "                                            repo_link  \n",
       "3                  https://github.com/amzn/cosearcher  \n",
       "4   https://github.com/amzn/debiased-balanced-inte...  \n",
       "11  https://github.com/Yifan-Gao/multilingual_keyp...  \n",
       "16     https://github.com/amzn/amazon-weak-ner-needle  \n",
       "17           https://github.com/amzn/basis-point-sets  \n",
       "18           https://github.com/amzn/basis-point-sets  \n",
       "21       https://github.com/amzn/explainable-text-vqa  \n",
       "22             https://github.com/amzn/metalearn-leap  \n",
       "23      https://github.com/amzn/multimodal-affinities  \n",
       "24       https://github.com/amzn/rete-thewebconf-2022  "
      ]
     },
     "execution_count": 174,
     "metadata": {},
     "output_type": "execute_result"
    }
   ],
   "source": [
    "paperTitles = [title.lower() for title in companyDf['Title']]\n",
    "extractedDf[extractedDf['title'].str.lower().isin(paperTitles)]"
   ]
  },
  {
   "cell_type": "markdown",
   "id": "872d8eb9-a5d1-4575-ad9b-25f8e5265b16",
   "metadata": {},
   "source": [
    "### Seeking papers from repo in company"
   ]
  },
  {
   "cell_type": "code",
   "execution_count": 175,
   "id": "776d2af0-4796-42d1-a293-2ee56430af29",
   "metadata": {},
   "outputs": [
    {
     "name": "stdout",
     "output_type": "stream",
     "text": [
      "10 / 3545\n"
     ]
    },
    {
     "data": {
      "text/html": [
       "<div>\n",
       "<style scoped>\n",
       "    .dataframe tbody tr th:only-of-type {\n",
       "        vertical-align: middle;\n",
       "    }\n",
       "\n",
       "    .dataframe tbody tr th {\n",
       "        vertical-align: top;\n",
       "    }\n",
       "\n",
       "    .dataframe thead th {\n",
       "        text-align: right;\n",
       "    }\n",
       "</style>\n",
       "<table border=\"1\" class=\"dataframe\">\n",
       "  <thead>\n",
       "    <tr style=\"text-align: right;\">\n",
       "      <th></th>\n",
       "      <th>Company</th>\n",
       "      <th>EID</th>\n",
       "      <th>CID</th>\n",
       "      <th>Title</th>\n",
       "      <th>Year</th>\n",
       "      <th>Abstract</th>\n",
       "    </tr>\n",
       "  </thead>\n",
       "  <tbody>\n",
       "    <tr>\n",
       "      <th>58197</th>\n",
       "      <td>Amazon</td>\n",
       "      <td>2-s2.0-85081929342</td>\n",
       "      <td>1693.0</td>\n",
       "      <td>Efficient learning on point clouds with basis ...</td>\n",
       "      <td>2019</td>\n",
       "      <td>With an increased availability of 3D scanning ...</td>\n",
       "    </tr>\n",
       "    <tr>\n",
       "      <th>58211</th>\n",
       "      <td>Amazon</td>\n",
       "      <td>2-s2.0-85082485373</td>\n",
       "      <td>1693.0</td>\n",
       "      <td>Efficient learning on point clouds with basis ...</td>\n",
       "      <td>2019</td>\n",
       "      <td>With an increased availability of 3D scanning ...</td>\n",
       "    </tr>\n",
       "    <tr>\n",
       "      <th>58242</th>\n",
       "      <td>Amazon</td>\n",
       "      <td>2-s2.0-85083952244</td>\n",
       "      <td>1693.0</td>\n",
       "      <td>Transferring knowledge across learning processes</td>\n",
       "      <td>2019</td>\n",
       "      <td>In complex transfer learning scenarios new tas...</td>\n",
       "    </tr>\n",
       "    <tr>\n",
       "      <th>58857</th>\n",
       "      <td>Amazon</td>\n",
       "      <td>2-s2.0-85107340555</td>\n",
       "      <td>1693.0</td>\n",
       "      <td>Studying the Effectiveness of Conversational S...</td>\n",
       "      <td>2021</td>\n",
       "      <td>A key application of conversational search is ...</td>\n",
       "    </tr>\n",
       "    <tr>\n",
       "      <th>59129</th>\n",
       "      <td>Amazon</td>\n",
       "      <td>2-s2.0-85117314387</td>\n",
       "      <td>1693.0</td>\n",
       "      <td>Named entity recognition with small strongly l...</td>\n",
       "      <td>2021</td>\n",
       "      <td>Weak supervision has shown promising results i...</td>\n",
       "    </tr>\n",
       "    <tr>\n",
       "      <th>59323</th>\n",
       "      <td>Amazon</td>\n",
       "      <td>2-s2.0-85122681566</td>\n",
       "      <td>1693.0</td>\n",
       "      <td>Learning Multimodal Affinities for Textual Edi...</td>\n",
       "      <td>2021</td>\n",
       "      <td>Nowadays, as cameras are rapidly adopted in ou...</td>\n",
       "    </tr>\n",
       "    <tr>\n",
       "      <th>59399</th>\n",
       "      <td>Amazon</td>\n",
       "      <td>2-s2.0-85124639805</td>\n",
       "      <td>1693.0</td>\n",
       "      <td>A First Look: Towards Explainable TextVQA Mode...</td>\n",
       "      <td>2021</td>\n",
       "      <td>Explainable deep learning models are advantage...</td>\n",
       "    </tr>\n",
       "    <tr>\n",
       "      <th>59602</th>\n",
       "      <td>Amazon</td>\n",
       "      <td>2-s2.0-85129870100</td>\n",
       "      <td>1693.0</td>\n",
       "      <td>RETE: Retrieval-Enhanced Temporal Event Foreca...</td>\n",
       "      <td>2022</td>\n",
       "      <td>With the increasing demands on e-commerce plat...</td>\n",
       "    </tr>\n",
       "    <tr>\n",
       "      <th>59903</th>\n",
       "      <td>Amazon</td>\n",
       "      <td>2-s2.0-85137352528</td>\n",
       "      <td>1693.0</td>\n",
       "      <td>Retrieval-Augmented Multilingual Keyphrase Gen...</td>\n",
       "      <td>2022</td>\n",
       "      <td>Keyphrase generation is the task of automatica...</td>\n",
       "    </tr>\n",
       "    <tr>\n",
       "      <th>60109</th>\n",
       "      <td>Amazon</td>\n",
       "      <td>2-s2.0-85140828406</td>\n",
       "      <td>1693.0</td>\n",
       "      <td>Debiased Balanced Interleaving at Amazon Search</td>\n",
       "      <td>2022</td>\n",
       "      <td>Interleaving is an online evaluation technique...</td>\n",
       "    </tr>\n",
       "  </tbody>\n",
       "</table>\n",
       "</div>"
      ],
      "text/plain": [
       "      Company                 EID     CID  \\\n",
       "58197  Amazon  2-s2.0-85081929342  1693.0   \n",
       "58211  Amazon  2-s2.0-85082485373  1693.0   \n",
       "58242  Amazon  2-s2.0-85083952244  1693.0   \n",
       "58857  Amazon  2-s2.0-85107340555  1693.0   \n",
       "59129  Amazon  2-s2.0-85117314387  1693.0   \n",
       "59323  Amazon  2-s2.0-85122681566  1693.0   \n",
       "59399  Amazon  2-s2.0-85124639805  1693.0   \n",
       "59602  Amazon  2-s2.0-85129870100  1693.0   \n",
       "59903  Amazon  2-s2.0-85137352528  1693.0   \n",
       "60109  Amazon  2-s2.0-85140828406  1693.0   \n",
       "\n",
       "                                                   Title  Year  \\\n",
       "58197  Efficient learning on point clouds with basis ...  2019   \n",
       "58211  Efficient learning on point clouds with basis ...  2019   \n",
       "58242   Transferring knowledge across learning processes  2019   \n",
       "58857  Studying the Effectiveness of Conversational S...  2021   \n",
       "59129  Named entity recognition with small strongly l...  2021   \n",
       "59323  Learning Multimodal Affinities for Textual Edi...  2021   \n",
       "59399  A First Look: Towards Explainable TextVQA Mode...  2021   \n",
       "59602  RETE: Retrieval-Enhanced Temporal Event Foreca...  2022   \n",
       "59903  Retrieval-Augmented Multilingual Keyphrase Gen...  2022   \n",
       "60109    Debiased Balanced Interleaving at Amazon Search  2022   \n",
       "\n",
       "                                                Abstract  \n",
       "58197  With an increased availability of 3D scanning ...  \n",
       "58211  With an increased availability of 3D scanning ...  \n",
       "58242  In complex transfer learning scenarios new tas...  \n",
       "58857  A key application of conversational search is ...  \n",
       "59129  Weak supervision has shown promising results i...  \n",
       "59323  Nowadays, as cameras are rapidly adopted in ou...  \n",
       "59399  Explainable deep learning models are advantage...  \n",
       "59602  With the increasing demands on e-commerce plat...  \n",
       "59903  Keyphrase generation is the task of automatica...  \n",
       "60109  Interleaving is an online evaluation technique...  "
      ]
     },
     "execution_count": 175,
     "metadata": {},
     "output_type": "execute_result"
    }
   ],
   "source": [
    "paperTitles = [title.lower() for title in extractedDf['title']]\n",
    "# print(len(companyDf[companyDf['Title'].str.lower().isin(paperTitles)]), \"/\", len(companyDf))\n",
    "companyDf[companyDf['Title'].str.lower().isin(paperTitles)]"
   ]
  },
  {
   "cell_type": "code",
   "execution_count": 5,
   "id": "1c2b0f5f-717c-4e76-ac39-2f95651a0871",
   "metadata": {},
   "outputs": [],
   "source": [
    "a = df.Company.unique()"
   ]
  },
  {
   "cell_type": "code",
   "execution_count": 96,
   "id": "14944500-4006-4aef-97e4-180784bae9ed",
   "metadata": {},
   "outputs": [
    {
     "name": "stdout",
     "output_type": "stream",
     "text": [
      "sony  -  24\n",
      "NVlabs  -  353\n",
      "NVIDIA  -  76\n",
      "siemens  -  8\n",
      "amzn  -  68\n",
      "apple  -  93\n"
     ]
    }
   ],
   "source": [
    "users = ['sony', 'NVlabs', 'NVIDIA', 'siemens', 'amzn', 'apple']\n",
    "for user in users:\n",
    "    extractedDf = DataTools.loadCSVFromOutput(user+'Papers')\n",
    "    print(user, ' - ', len(extractedDf))"
   ]
  },
  {
   "cell_type": "code",
   "execution_count": 17,
   "id": "65ed8506-acbf-4e63-accc-d60912e06022",
   "metadata": {},
   "outputs": [],
   "source": [
    "aa = []\n",
    "for _ in a:\n",
    "    aa.append({\"company\" : _, \"repos\" : []})"
   ]
  },
  {
   "cell_type": "code",
   "execution_count": 22,
   "id": "a58a16df-12b2-4dde-aa8c-e4d01b954583",
   "metadata": {},
   "outputs": [
    {
     "name": "stdout",
     "output_type": "stream",
     "text": [
      "no\n"
     ]
    }
   ],
   "source": [
    "from Extractor import Extractor\n",
    "Extractor.getRepoDFromUsername(\"meta\")"
   ]
  },
  {
   "cell_type": "code",
   "execution_count": 66,
   "id": "e7015a1e-c818-470e-a451-bc462891182e",
   "metadata": {},
   "outputs": [],
   "source": [
    "data_file = os.path.join(os.curdir, \"../data/arxiv-metadata-oai-snapshot.json\")\n",
    "def get_metadata():\n",
    "    with open(data_file, 'r') as f:\n",
    "        for line in f:\n",
    "            yield line\n",
    "        "
   ]
  },
  {
   "cell_type": "code",
   "execution_count": 83,
   "id": "c3c0175f-e506-4d4a-8d0c-71274bbbfa00",
   "metadata": {},
   "outputs": [],
   "source": [
    "import json\n",
    "import tqdm\n",
    "ids = []\n",
    "titles = []\n",
    "\n",
    "for paper in get_metadata():\n",
    "\n",
    "    paper_dict = json.loads(paper)\n",
    "    ref = paper_dict.get('journal-ref')\n",
    "    try:\n",
    "        year = (int(paper_dict['id'][0:2]))\n",
    "        if 10 < year:\n",
    "            titles.append(paper_dict.get('title'))\n",
    "            ids.append(paper_dict.get('id'))\n",
    "    except ValueError:\n",
    "        pass"
   ]
  },
  {
   "cell_type": "code",
   "execution_count": 84,
   "id": "39a46db8-acce-4a36-94f8-a5c8cab3de85",
   "metadata": {},
   "outputs": [
    {
     "data": {
      "text/html": [
       "<div>\n",
       "<style scoped>\n",
       "    .dataframe tbody tr th:only-of-type {\n",
       "        vertical-align: middle;\n",
       "    }\n",
       "\n",
       "    .dataframe tbody tr th {\n",
       "        vertical-align: top;\n",
       "    }\n",
       "\n",
       "    .dataframe thead th {\n",
       "        text-align: right;\n",
       "    }\n",
       "</style>\n",
       "<table border=\"1\" class=\"dataframe\">\n",
       "  <thead>\n",
       "    <tr style=\"text-align: right;\">\n",
       "      <th></th>\n",
       "      <th>title</th>\n",
       "      <th>id</th>\n",
       "    </tr>\n",
       "  </thead>\n",
       "  <tbody>\n",
       "    <tr>\n",
       "      <th>0</th>\n",
       "      <td>MOIRCS Deep Survey. X. Evolution of Quiescent ...</td>\n",
       "      <td>1101.0001</td>\n",
       "    </tr>\n",
       "    <tr>\n",
       "      <th>1</th>\n",
       "      <td>What Does a Submillimeter Galaxy Selection Act...</td>\n",
       "      <td>1101.0002</td>\n",
       "    </tr>\n",
       "    <tr>\n",
       "      <th>2</th>\n",
       "      <td>Testing for Large Extra Dimensions with Neutri...</td>\n",
       "      <td>1101.0003</td>\n",
       "    </tr>\n",
       "    <tr>\n",
       "      <th>3</th>\n",
       "      <td>Finite-size corrections for quantum strings on...</td>\n",
       "      <td>1101.0004</td>\n",
       "    </tr>\n",
       "    <tr>\n",
       "      <th>4</th>\n",
       "      <td>Noncommutative Solitons and Quasideterminants</td>\n",
       "      <td>1101.0005</td>\n",
       "    </tr>\n",
       "    <tr>\n",
       "      <th>...</th>\n",
       "      <td>...</td>\n",
       "      <td>...</td>\n",
       "    </tr>\n",
       "    <tr>\n",
       "      <th>1597035</th>\n",
       "      <td>Make It So: Steering StyleGAN for Any Image In...</td>\n",
       "      <td>2304.14403</td>\n",
       "    </tr>\n",
       "    <tr>\n",
       "      <th>1597036</th>\n",
       "      <td>Motion-Conditioned Diffusion Model for Control...</td>\n",
       "      <td>2304.14404</td>\n",
       "    </tr>\n",
       "    <tr>\n",
       "      <th>1597037</th>\n",
       "      <td>ViMQ: A Vietnamese Medical Question Dataset fo...</td>\n",
       "      <td>2304.14405</td>\n",
       "    </tr>\n",
       "    <tr>\n",
       "      <th>1597038</th>\n",
       "      <td>Putting People in Their Place: Affordance-Awar...</td>\n",
       "      <td>2304.14406</td>\n",
       "    </tr>\n",
       "    <tr>\n",
       "      <th>1597039</th>\n",
       "      <td>ChatVideo: A Tracklet-centric Multimodal and V...</td>\n",
       "      <td>2304.14407</td>\n",
       "    </tr>\n",
       "  </tbody>\n",
       "</table>\n",
       "<p>1597040 rows × 2 columns</p>\n",
       "</div>"
      ],
      "text/plain": [
       "                                                     title          id\n",
       "0        MOIRCS Deep Survey. X. Evolution of Quiescent ...   1101.0001\n",
       "1        What Does a Submillimeter Galaxy Selection Act...   1101.0002\n",
       "2        Testing for Large Extra Dimensions with Neutri...   1101.0003\n",
       "3        Finite-size corrections for quantum strings on...   1101.0004\n",
       "4            Noncommutative Solitons and Quasideterminants   1101.0005\n",
       "...                                                    ...         ...\n",
       "1597035  Make It So: Steering StyleGAN for Any Image In...  2304.14403\n",
       "1597036  Motion-Conditioned Diffusion Model for Control...  2304.14404\n",
       "1597037  ViMQ: A Vietnamese Medical Question Dataset fo...  2304.14405\n",
       "1597038  Putting People in Their Place: Affordance-Awar...  2304.14406\n",
       "1597039  ChatVideo: A Tracklet-centric Multimodal and V...  2304.14407\n",
       "\n",
       "[1597040 rows x 2 columns]"
      ]
     },
     "execution_count": 84,
     "metadata": {},
     "output_type": "execute_result"
    }
   ],
   "source": [
    "df = pd.DataFrame()\n",
    "df['title'] = titles\n",
    "df['id'] = ids\n",
    "df"
   ]
  },
  {
   "cell_type": "code",
   "execution_count": 85,
   "id": "6fdb567d-467a-42ba-b5de-15cb816a6c00",
   "metadata": {},
   "outputs": [],
   "source": [
    "df.to_csv('arxiv.csv', index = False)"
   ]
  },
  {
   "cell_type": "code",
   "execution_count": 86,
   "id": "4714bc79-7f0a-4c82-8369-e5758dd34e20",
   "metadata": {},
   "outputs": [],
   "source": [
    "arxivDataset = pd.read_csv(os.path.join(os.curdir, \"../data/arxiv.csv\"))"
   ]
  },
  {
   "cell_type": "code",
   "execution_count": 82,
   "id": "dd11cdf2-762e-4bb1-9892-223f1996b29c",
   "metadata": {},
   "outputs": [
    {
     "data": {
      "text/html": [
       "<div>\n",
       "<style scoped>\n",
       "    .dataframe tbody tr th:only-of-type {\n",
       "        vertical-align: middle;\n",
       "    }\n",
       "\n",
       "    .dataframe tbody tr th {\n",
       "        vertical-align: top;\n",
       "    }\n",
       "\n",
       "    .dataframe thead th {\n",
       "        text-align: right;\n",
       "    }\n",
       "</style>\n",
       "<table border=\"1\" class=\"dataframe\">\n",
       "  <thead>\n",
       "    <tr style=\"text-align: right;\">\n",
       "      <th></th>\n",
       "      <th>title</th>\n",
       "      <th>id</th>\n",
       "    </tr>\n",
       "  </thead>\n",
       "  <tbody>\n",
       "    <tr>\n",
       "      <th>0</th>\n",
       "      <td>On the Cohomological Derivation of Yang-Mills ...</td>\n",
       "      <td>0707.4025</td>\n",
       "    </tr>\n",
       "    <tr>\n",
       "      <th>1</th>\n",
       "      <td>Regularity of solutions of the isoperimetric p...</td>\n",
       "      <td>0710.1849</td>\n",
       "    </tr>\n",
       "    <tr>\n",
       "      <th>2</th>\n",
       "      <td>Asymptotic theory of least squares estimators ...</td>\n",
       "      <td>0711.3589</td>\n",
       "    </tr>\n",
       "    <tr>\n",
       "      <th>3</th>\n",
       "      <td>Distributional Schwarzschild Geometry from non...</td>\n",
       "      <td>0806.3026</td>\n",
       "    </tr>\n",
       "    <tr>\n",
       "      <th>4</th>\n",
       "      <td>Weight Reduction for Mod l Bianchi Modular Forms</td>\n",
       "      <td>0807.3139</td>\n",
       "    </tr>\n",
       "    <tr>\n",
       "      <th>...</th>\n",
       "      <td>...</td>\n",
       "      <td>...</td>\n",
       "    </tr>\n",
       "    <tr>\n",
       "      <th>13355</th>\n",
       "      <td>Adiabatic quantum tunneling in heavy-ion sub-b...</td>\n",
       "      <td>nucl-th/9702024</td>\n",
       "    </tr>\n",
       "    <tr>\n",
       "      <th>13356</th>\n",
       "      <td>The structure of quantum Lie algebras for the ...</td>\n",
       "      <td>q-alg/9706029</td>\n",
       "    </tr>\n",
       "    <tr>\n",
       "      <th>13357</th>\n",
       "      <td>Simple computer model for the quantum Zeno effect</td>\n",
       "      <td>quant-ph/0004011</td>\n",
       "    </tr>\n",
       "    <tr>\n",
       "      <th>13358</th>\n",
       "      <td>Alternative Derivation of the Hu-Paz-Zhang Mas...</td>\n",
       "      <td>quant-ph/9508004</td>\n",
       "    </tr>\n",
       "    <tr>\n",
       "      <th>13359</th>\n",
       "      <td>Guiding Neutral Atoms with a Wire</td>\n",
       "      <td>quant-ph/9809076</td>\n",
       "    </tr>\n",
       "  </tbody>\n",
       "</table>\n",
       "<p>13360 rows × 2 columns</p>\n",
       "</div>"
      ],
      "text/plain": [
       "                                                   title                id\n",
       "0      On the Cohomological Derivation of Yang-Mills ...         0707.4025\n",
       "1      Regularity of solutions of the isoperimetric p...         0710.1849\n",
       "2      Asymptotic theory of least squares estimators ...         0711.3589\n",
       "3      Distributional Schwarzschild Geometry from non...         0806.3026\n",
       "4       Weight Reduction for Mod l Bianchi Modular Forms         0807.3139\n",
       "...                                                  ...               ...\n",
       "13355  Adiabatic quantum tunneling in heavy-ion sub-b...   nucl-th/9702024\n",
       "13356  The structure of quantum Lie algebras for the ...     q-alg/9706029\n",
       "13357  Simple computer model for the quantum Zeno effect  quant-ph/0004011\n",
       "13358  Alternative Derivation of the Hu-Paz-Zhang Mas...  quant-ph/9508004\n",
       "13359                  Guiding Neutral Atoms with a Wire  quant-ph/9809076\n",
       "\n",
       "[13360 rows x 2 columns]"
      ]
     },
     "execution_count": 82,
     "metadata": {},
     "output_type": "execute_result"
    }
   ],
   "source": [
    "arxivDataset"
   ]
  },
  {
   "cell_type": "code",
   "execution_count": 59,
   "id": "4ac34b99-2b2b-49cc-b305-4ec296f01986",
   "metadata": {},
   "outputs": [
    {
     "name": "stdout",
     "output_type": "stream",
     "text": [
      "4    Weight Reduction for Mod l Bianchi Modular Forms\n",
      "Name: title, dtype: object\n"
     ]
    }
   ],
   "source": []
  },
  {
   "cell_type": "code",
   "execution_count": null,
   "id": "fbd0c857-e840-4d5a-9b30-0dc8beaff828",
   "metadata": {},
   "outputs": [],
   "source": []
  }
 ],
 "metadata": {
  "kernelspec": {
   "display_name": "Python 3 (ipykernel)",
   "language": "python",
   "name": "python3"
  },
  "language_info": {
   "codemirror_mode": {
    "name": "ipython",
    "version": 3
   },
   "file_extension": ".py",
   "mimetype": "text/x-python",
   "name": "python",
   "nbconvert_exporter": "python",
   "pygments_lexer": "ipython3",
   "version": "3.8.16"
  }
 },
 "nbformat": 4,
 "nbformat_minor": 5
}
