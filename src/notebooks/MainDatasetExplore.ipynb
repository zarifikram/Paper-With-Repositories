{
 "cells": [
  {
   "cell_type": "code",
   "execution_count": 1,
   "id": "484e24ec-9e34-4627-9a17-7d7f26c0a4ea",
   "metadata": {},
   "outputs": [
    {
     "name": "stdout",
     "output_type": "stream",
     "text": [
      "current working dir/Volumes/Zarif/myStuff/research/repoPaper/src\n"
     ]
    }
   ],
   "source": [
    "import requests\n",
    "from bs4 import BeautifulSoup\n",
    "import pandas as pd\n",
    "from tqdm import tqdm\n",
    "import os, sys\n",
    "exec(open(\"init_notebook.py\").read())\n",
    "from DataTools import DataTools"
   ]
  },
  {
   "cell_type": "code",
   "execution_count": 2,
   "id": "d98d4d98-1836-4dbe-a1a1-e0af5b9670ff",
   "metadata": {},
   "outputs": [],
   "source": [
    "%load_ext autoreload\n",
    "%autoreload 2"
   ]
  },
  {
   "cell_type": "markdown",
   "id": "8b969969-c17b-49f7-87de-4d68fc16db76",
   "metadata": {},
   "source": [
    "### loading dataset "
   ]
  },
  {
   "cell_type": "code",
   "execution_count": 28,
   "id": "7e9b4cfb-c068-4483-b71f-6e69bb72b5b8",
   "metadata": {},
   "outputs": [
    {
     "name": "stdout",
     "output_type": "stream",
     "text": [
      "1199113\n"
     ]
    }
   ],
   "source": [
    "# mainDatasetPath = os.path.join(os.curdir, \"../data/mainData.csv\")\n",
    "# df = pd.read_csv(mainDatasetPath)\n",
    "paperTitles = df[\"Title\"]\n",
    "print(len(paperTitles))"
   ]
  },
  {
   "cell_type": "markdown",
   "id": "909d67ad-c29b-44f4-928c-60846774d106",
   "metadata": {},
   "source": [
    "### loading company "
   ]
  },
  {
   "cell_type": "code",
   "execution_count": 17,
   "id": "b6cf2bfe-a56b-433d-bb24-abef0d421aff",
   "metadata": {},
   "outputs": [],
   "source": [
    "companyName = \"Amazon\"\n",
    "companyDf = df[df[\"Company\"] == companyName]\n",
    "paperTitles = companyDf[\"Title\"]"
   ]
  },
  {
   "cell_type": "markdown",
   "id": "8d26a9ec-b45c-48d6-872c-4bb63d486b7a",
   "metadata": {},
   "source": [
    "### loading df from repo extract"
   ]
  },
  {
   "cell_type": "code",
   "execution_count": 113,
   "id": "a7f0cc4a-ad10-45c4-bee0-5257634a8872",
   "metadata": {},
   "outputs": [],
   "source": [
    "from RepoTools import RepoTools"
   ]
  },
  {
   "cell_type": "code",
   "execution_count": 172,
   "id": "38e2dc33-d372-44f5-81ef-a7236c920789",
   "metadata": {},
   "outputs": [],
   "source": [
    "extractedDf = DataTools.loadCSVFromOutput('amzn'+'Papers')"
   ]
  },
  {
   "cell_type": "markdown",
   "id": "2f336eb6-9384-41b3-8853-11623a906e42",
   "metadata": {},
   "source": [
    "### Seeking papers from company in papers from repo"
   ]
  },
  {
   "cell_type": "code",
   "execution_count": 174,
   "id": "b4ec2b1d-8b5e-479a-a205-a8ca4bc245bf",
   "metadata": {},
   "outputs": [
    {
     "data": {
      "text/html": [
       "<div>\n",
       "<style scoped>\n",
       "    .dataframe tbody tr th:only-of-type {\n",
       "        vertical-align: middle;\n",
       "    }\n",
       "\n",
       "    .dataframe tbody tr th {\n",
       "        vertical-align: top;\n",
       "    }\n",
       "\n",
       "    .dataframe thead th {\n",
       "        text-align: right;\n",
       "    }\n",
       "</style>\n",
       "<table border=\"1\" class=\"dataframe\">\n",
       "  <thead>\n",
       "    <tr style=\"text-align: right;\">\n",
       "      <th></th>\n",
       "      <th>title</th>\n",
       "      <th>repo_link</th>\n",
       "    </tr>\n",
       "  </thead>\n",
       "  <tbody>\n",
       "    <tr>\n",
       "      <th>3</th>\n",
       "      <td>Studying the Effectiveness of Conversational S...</td>\n",
       "      <td>https://github.com/amzn/cosearcher</td>\n",
       "    </tr>\n",
       "    <tr>\n",
       "      <th>4</th>\n",
       "      <td>Debiased balanced interleaving at Amazon Search</td>\n",
       "      <td>https://github.com/amzn/debiased-balanced-inte...</td>\n",
       "    </tr>\n",
       "    <tr>\n",
       "      <th>11</th>\n",
       "      <td>Retrieval-Augmented Multilingual Keyphrase Gen...</td>\n",
       "      <td>https://github.com/Yifan-Gao/multilingual_keyp...</td>\n",
       "    </tr>\n",
       "    <tr>\n",
       "      <th>16</th>\n",
       "      <td>Named Entity Recognition with Small Strongly L...</td>\n",
       "      <td>https://github.com/amzn/amazon-weak-ner-needle</td>\n",
       "    </tr>\n",
       "    <tr>\n",
       "      <th>17</th>\n",
       "      <td>Efficient Learning on Point Clouds With Basis ...</td>\n",
       "      <td>https://github.com/amzn/basis-point-sets</td>\n",
       "    </tr>\n",
       "    <tr>\n",
       "      <th>18</th>\n",
       "      <td>Efficient Learning on Point Clouds with Basis ...</td>\n",
       "      <td>https://github.com/amzn/basis-point-sets</td>\n",
       "    </tr>\n",
       "    <tr>\n",
       "      <th>21</th>\n",
       "      <td>A First Look: Towards Explainable TextVQA Mode...</td>\n",
       "      <td>https://github.com/amzn/explainable-text-vqa</td>\n",
       "    </tr>\n",
       "    <tr>\n",
       "      <th>22</th>\n",
       "      <td>Transferring Knowledge across Learning Processes</td>\n",
       "      <td>https://github.com/amzn/metalearn-leap</td>\n",
       "    </tr>\n",
       "    <tr>\n",
       "      <th>23</th>\n",
       "      <td>Learning Multimodal Affinities for Textual Edi...</td>\n",
       "      <td>https://github.com/amzn/multimodal-affinities</td>\n",
       "    </tr>\n",
       "    <tr>\n",
       "      <th>24</th>\n",
       "      <td>RETE: Retrieval-Enhanced Temporal Event Foreca...</td>\n",
       "      <td>https://github.com/amzn/rete-thewebconf-2022</td>\n",
       "    </tr>\n",
       "  </tbody>\n",
       "</table>\n",
       "</div>"
      ],
      "text/plain": [
       "                                                title  \\\n",
       "3   Studying the Effectiveness of Conversational S...   \n",
       "4     Debiased balanced interleaving at Amazon Search   \n",
       "11  Retrieval-Augmented Multilingual Keyphrase Gen...   \n",
       "16  Named Entity Recognition with Small Strongly L...   \n",
       "17  Efficient Learning on Point Clouds With Basis ...   \n",
       "18  Efficient Learning on Point Clouds with Basis ...   \n",
       "21  A First Look: Towards Explainable TextVQA Mode...   \n",
       "22   Transferring Knowledge across Learning Processes   \n",
       "23  Learning Multimodal Affinities for Textual Edi...   \n",
       "24  RETE: Retrieval-Enhanced Temporal Event Foreca...   \n",
       "\n",
       "                                            repo_link  \n",
       "3                  https://github.com/amzn/cosearcher  \n",
       "4   https://github.com/amzn/debiased-balanced-inte...  \n",
       "11  https://github.com/Yifan-Gao/multilingual_keyp...  \n",
       "16     https://github.com/amzn/amazon-weak-ner-needle  \n",
       "17           https://github.com/amzn/basis-point-sets  \n",
       "18           https://github.com/amzn/basis-point-sets  \n",
       "21       https://github.com/amzn/explainable-text-vqa  \n",
       "22             https://github.com/amzn/metalearn-leap  \n",
       "23      https://github.com/amzn/multimodal-affinities  \n",
       "24       https://github.com/amzn/rete-thewebconf-2022  "
      ]
     },
     "execution_count": 174,
     "metadata": {},
     "output_type": "execute_result"
    }
   ],
   "source": [
    "paperTitles = [title.lower() for title in companyDf['Title']]\n",
    "extractedDf[extractedDf['title'].str.lower().isin(paperTitles)]"
   ]
  },
  {
   "cell_type": "markdown",
   "id": "872d8eb9-a5d1-4575-ad9b-25f8e5265b16",
   "metadata": {},
   "source": [
    "### Seeking papers from repo in company"
   ]
  },
  {
   "cell_type": "code",
   "execution_count": 25,
   "id": "776d2af0-4796-42d1-a293-2ee56430af29",
   "metadata": {},
   "outputs": [
    {
     "ename": "NameError",
     "evalue": "name 'extractedDf' is not defined",
     "output_type": "error",
     "traceback": [
      "\u001b[0;31m---------------------------------------------------------------------------\u001b[0m",
      "\u001b[0;31mNameError\u001b[0m                                 Traceback (most recent call last)",
      "Cell \u001b[0;32mIn[25], line 1\u001b[0m\n\u001b[0;32m----> 1\u001b[0m paperTitles \u001b[38;5;241m=\u001b[39m [title\u001b[38;5;241m.\u001b[39mlower() \u001b[38;5;28;01mfor\u001b[39;00m title \u001b[38;5;129;01min\u001b[39;00m \u001b[43mextractedDf\u001b[49m[\u001b[38;5;124m'\u001b[39m\u001b[38;5;124mtitle\u001b[39m\u001b[38;5;124m'\u001b[39m]]\n\u001b[1;32m      2\u001b[0m \u001b[38;5;66;03m# print(len(companyDf[companyDf['Title'].str.lower().isin(paperTitles)]), \"/\", len(companyDf))\u001b[39;00m\n\u001b[1;32m      3\u001b[0m companyDf[companyDf[\u001b[38;5;124m'\u001b[39m\u001b[38;5;124mTitle\u001b[39m\u001b[38;5;124m'\u001b[39m]\u001b[38;5;241m.\u001b[39mstr\u001b[38;5;241m.\u001b[39mlower()\u001b[38;5;241m.\u001b[39misin(paperTitles)]\n",
      "\u001b[0;31mNameError\u001b[0m: name 'extractedDf' is not defined"
     ]
    }
   ],
   "source": [
    "paperTitles = [title.lower() for title in extractedDf['title']]\n",
    "# print(len(companyDf[companyDf['Title'].str.lower().isin(paperTitles)]), \"/\", len(companyDf))\n",
    "companyDf[companyDf['Title'].str.lower().isin(paperTitles)]"
   ]
  },
  {
   "cell_type": "markdown",
   "id": "77b41338-4eec-446d-a41c-1949eca0836f",
   "metadata": {},
   "source": [
    "###  loading pwc"
   ]
  },
  {
   "cell_type": "code",
   "execution_count": 18,
   "id": "a710b1b9-8f0c-4aab-aa36-178759d3dead",
   "metadata": {},
   "outputs": [],
   "source": [
    "pwcPath = os.path.join(os.curdir, \"../data/papersWithCode.csv\")\n",
    "pwc = pd.read_csv(pwcPath)"
   ]
  },
  {
   "cell_type": "markdown",
   "id": "857f2dea-21e1-43da-b077-6ef2eb4ea301",
   "metadata": {},
   "source": [
    "### seeking papers in paperWithCode"
   ]
  },
  {
   "cell_type": "code",
   "execution_count": 33,
   "id": "6199f7da-5eb2-403c-8253-e94e84d47c9d",
   "metadata": {},
   "outputs": [
    {
     "data": {
      "text/html": [
       "<div>\n",
       "<style scoped>\n",
       "    .dataframe tbody tr th:only-of-type {\n",
       "        vertical-align: middle;\n",
       "    }\n",
       "\n",
       "    .dataframe tbody tr th {\n",
       "        vertical-align: top;\n",
       "    }\n",
       "\n",
       "    .dataframe thead th {\n",
       "        text-align: right;\n",
       "    }\n",
       "</style>\n",
       "<table border=\"1\" class=\"dataframe\">\n",
       "  <thead>\n",
       "    <tr style=\"text-align: right;\">\n",
       "      <th></th>\n",
       "      <th>paper_url</th>\n",
       "      <th>paper_title</th>\n",
       "      <th>paper_arxiv_id</th>\n",
       "      <th>paper_url_abs</th>\n",
       "      <th>paper_url_pdf</th>\n",
       "      <th>repo_url</th>\n",
       "      <th>is_official</th>\n",
       "      <th>mentioned_in_paper</th>\n",
       "      <th>mentioned_in_github</th>\n",
       "      <th>framework</th>\n",
       "    </tr>\n",
       "  </thead>\n",
       "  <tbody>\n",
       "    <tr>\n",
       "      <th>2</th>\n",
       "      <td>https://paperswithcode.com/paper/attngan-fine-...</td>\n",
       "      <td>AttnGAN: Fine-Grained Text to Image Generation...</td>\n",
       "      <td>1711.10485</td>\n",
       "      <td>http://arxiv.org/abs/1711.10485v1</td>\n",
       "      <td>http://arxiv.org/pdf/1711.10485v1.pdf</td>\n",
       "      <td>https://github.com/bprabhakar/text-to-image</td>\n",
       "      <td>False</td>\n",
       "      <td>False</td>\n",
       "      <td>False</td>\n",
       "      <td>pytorch</td>\n",
       "    </tr>\n",
       "    <tr>\n",
       "      <th>9</th>\n",
       "      <td>https://paperswithcode.com/paper/bottom-up-and...</td>\n",
       "      <td>Bottom-Up and Top-Down Attention for Image Cap...</td>\n",
       "      <td>1707.07998</td>\n",
       "      <td>http://arxiv.org/abs/1707.07998v3</td>\n",
       "      <td>http://arxiv.org/pdf/1707.07998v3.pdf</td>\n",
       "      <td>https://github.com/feifengwhu/question_attention</td>\n",
       "      <td>False</td>\n",
       "      <td>False</td>\n",
       "      <td>True</td>\n",
       "      <td>pytorch</td>\n",
       "    </tr>\n",
       "    <tr>\n",
       "      <th>10</th>\n",
       "      <td>https://paperswithcode.com/paper/trust-pcl-an-...</td>\n",
       "      <td>Trust-PCL: An Off-Policy Trust Region Method f...</td>\n",
       "      <td>1707.01891</td>\n",
       "      <td>http://arxiv.org/abs/1707.01891v3</td>\n",
       "      <td>http://arxiv.org/pdf/1707.01891v3.pdf</td>\n",
       "      <td>https://github.com/tensorflow/models</td>\n",
       "      <td>True</td>\n",
       "      <td>True</td>\n",
       "      <td>False</td>\n",
       "      <td>tf</td>\n",
       "    </tr>\n",
       "    <tr>\n",
       "      <th>13</th>\n",
       "      <td>https://paperswithcode.com/paper/faster-r-cnn-...</td>\n",
       "      <td>Faster R-CNN: Towards Real-Time Object Detecti...</td>\n",
       "      <td>1506.01497</td>\n",
       "      <td>http://arxiv.org/abs/1506.01497v3</td>\n",
       "      <td>http://arxiv.org/pdf/1506.01497v3.pdf</td>\n",
       "      <td>https://github.com/vincentzhang/faster-rcnn-fcn</td>\n",
       "      <td>False</td>\n",
       "      <td>False</td>\n",
       "      <td>True</td>\n",
       "      <td>none</td>\n",
       "    </tr>\n",
       "    <tr>\n",
       "      <th>15</th>\n",
       "      <td>https://paperswithcode.com/paper/bridging-the-...</td>\n",
       "      <td>Bridging the Gap Between Value and Policy Base...</td>\n",
       "      <td>1702.08892</td>\n",
       "      <td>http://arxiv.org/abs/1702.08892v3</td>\n",
       "      <td>http://arxiv.org/pdf/1702.08892v3.pdf</td>\n",
       "      <td>https://github.com/tensorflow/models</td>\n",
       "      <td>True</td>\n",
       "      <td>True</td>\n",
       "      <td>False</td>\n",
       "      <td>tf</td>\n",
       "    </tr>\n",
       "    <tr>\n",
       "      <th>...</th>\n",
       "      <td>...</td>\n",
       "      <td>...</td>\n",
       "      <td>...</td>\n",
       "      <td>...</td>\n",
       "      <td>...</td>\n",
       "      <td>...</td>\n",
       "      <td>...</td>\n",
       "      <td>...</td>\n",
       "      <td>...</td>\n",
       "      <td>...</td>\n",
       "    </tr>\n",
       "    <tr>\n",
       "      <th>185376</th>\n",
       "      <td>https://paperswithcode.com/paper/asynchronous-...</td>\n",
       "      <td>Asynchronous Methods for Deep Reinforcement Le...</td>\n",
       "      <td>1602.01783</td>\n",
       "      <td>http://arxiv.org/abs/1602.01783v2</td>\n",
       "      <td>http://arxiv.org/pdf/1602.01783v2.pdf</td>\n",
       "      <td>https://github.com/Jventajas/Reinforcement-Lea...</td>\n",
       "      <td>False</td>\n",
       "      <td>False</td>\n",
       "      <td>True</td>\n",
       "      <td>tf</td>\n",
       "    </tr>\n",
       "    <tr>\n",
       "      <th>185381</th>\n",
       "      <td>https://paperswithcode.com/paper/learning-coop...</td>\n",
       "      <td>Learning Cooperative Visual Dialog Agents with...</td>\n",
       "      <td>1703.06585</td>\n",
       "      <td>http://arxiv.org/abs/1703.06585v2</td>\n",
       "      <td>http://arxiv.org/pdf/1703.06585v2.pdf</td>\n",
       "      <td>https://github.com/Cremiy/visdial-rl</td>\n",
       "      <td>False</td>\n",
       "      <td>False</td>\n",
       "      <td>True</td>\n",
       "      <td>pytorch</td>\n",
       "    </tr>\n",
       "    <tr>\n",
       "      <th>185383</th>\n",
       "      <td>https://paperswithcode.com/paper/quo-vadis-act...</td>\n",
       "      <td>Quo Vadis, Action Recognition? A New Model and...</td>\n",
       "      <td>1705.07750</td>\n",
       "      <td>http://arxiv.org/abs/1705.07750v3</td>\n",
       "      <td>http://arxiv.org/pdf/1705.07750v3.pdf</td>\n",
       "      <td>https://github.com/deepmind/kinetics-i3d</td>\n",
       "      <td>False</td>\n",
       "      <td>False</td>\n",
       "      <td>True</td>\n",
       "      <td>tf</td>\n",
       "    </tr>\n",
       "    <tr>\n",
       "      <th>185385</th>\n",
       "      <td>https://paperswithcode.com/paper/recurrent-neu...</td>\n",
       "      <td>Recurrent Neural Networks with Top-k Gains for...</td>\n",
       "      <td>1706.03847</td>\n",
       "      <td>http://arxiv.org/abs/1706.03847v3</td>\n",
       "      <td>http://arxiv.org/pdf/1706.03847v3.pdf</td>\n",
       "      <td>https://github.com/pcerdam/KerasGRU4Rec</td>\n",
       "      <td>False</td>\n",
       "      <td>False</td>\n",
       "      <td>True</td>\n",
       "      <td>tf</td>\n",
       "    </tr>\n",
       "    <tr>\n",
       "      <th>185386</th>\n",
       "      <td>https://paperswithcode.com/paper/bag-of-tricks...</td>\n",
       "      <td>Bag of Tricks for Image Classification with Co...</td>\n",
       "      <td>1812.01187</td>\n",
       "      <td>http://arxiv.org/abs/1812.01187v2</td>\n",
       "      <td>http://arxiv.org/pdf/1812.01187v2.pdf</td>\n",
       "      <td>https://github.com/CryptoSalamander/pytorch_pa...</td>\n",
       "      <td>False</td>\n",
       "      <td>False</td>\n",
       "      <td>True</td>\n",
       "      <td>pytorch</td>\n",
       "    </tr>\n",
       "  </tbody>\n",
       "</table>\n",
       "<p>26373 rows × 10 columns</p>\n",
       "</div>"
      ],
      "text/plain": [
       "                                                paper_url  \\\n",
       "2       https://paperswithcode.com/paper/attngan-fine-...   \n",
       "9       https://paperswithcode.com/paper/bottom-up-and...   \n",
       "10      https://paperswithcode.com/paper/trust-pcl-an-...   \n",
       "13      https://paperswithcode.com/paper/faster-r-cnn-...   \n",
       "15      https://paperswithcode.com/paper/bridging-the-...   \n",
       "...                                                   ...   \n",
       "185376  https://paperswithcode.com/paper/asynchronous-...   \n",
       "185381  https://paperswithcode.com/paper/learning-coop...   \n",
       "185383  https://paperswithcode.com/paper/quo-vadis-act...   \n",
       "185385  https://paperswithcode.com/paper/recurrent-neu...   \n",
       "185386  https://paperswithcode.com/paper/bag-of-tricks...   \n",
       "\n",
       "                                              paper_title paper_arxiv_id  \\\n",
       "2       AttnGAN: Fine-Grained Text to Image Generation...     1711.10485   \n",
       "9       Bottom-Up and Top-Down Attention for Image Cap...     1707.07998   \n",
       "10      Trust-PCL: An Off-Policy Trust Region Method f...     1707.01891   \n",
       "13      Faster R-CNN: Towards Real-Time Object Detecti...     1506.01497   \n",
       "15      Bridging the Gap Between Value and Policy Base...     1702.08892   \n",
       "...                                                   ...            ...   \n",
       "185376  Asynchronous Methods for Deep Reinforcement Le...     1602.01783   \n",
       "185381  Learning Cooperative Visual Dialog Agents with...     1703.06585   \n",
       "185383  Quo Vadis, Action Recognition? A New Model and...     1705.07750   \n",
       "185385  Recurrent Neural Networks with Top-k Gains for...     1706.03847   \n",
       "185386  Bag of Tricks for Image Classification with Co...     1812.01187   \n",
       "\n",
       "                            paper_url_abs  \\\n",
       "2       http://arxiv.org/abs/1711.10485v1   \n",
       "9       http://arxiv.org/abs/1707.07998v3   \n",
       "10      http://arxiv.org/abs/1707.01891v3   \n",
       "13      http://arxiv.org/abs/1506.01497v3   \n",
       "15      http://arxiv.org/abs/1702.08892v3   \n",
       "...                                   ...   \n",
       "185376  http://arxiv.org/abs/1602.01783v2   \n",
       "185381  http://arxiv.org/abs/1703.06585v2   \n",
       "185383  http://arxiv.org/abs/1705.07750v3   \n",
       "185385  http://arxiv.org/abs/1706.03847v3   \n",
       "185386  http://arxiv.org/abs/1812.01187v2   \n",
       "\n",
       "                                paper_url_pdf  \\\n",
       "2       http://arxiv.org/pdf/1711.10485v1.pdf   \n",
       "9       http://arxiv.org/pdf/1707.07998v3.pdf   \n",
       "10      http://arxiv.org/pdf/1707.01891v3.pdf   \n",
       "13      http://arxiv.org/pdf/1506.01497v3.pdf   \n",
       "15      http://arxiv.org/pdf/1702.08892v3.pdf   \n",
       "...                                       ...   \n",
       "185376  http://arxiv.org/pdf/1602.01783v2.pdf   \n",
       "185381  http://arxiv.org/pdf/1703.06585v2.pdf   \n",
       "185383  http://arxiv.org/pdf/1705.07750v3.pdf   \n",
       "185385  http://arxiv.org/pdf/1706.03847v3.pdf   \n",
       "185386  http://arxiv.org/pdf/1812.01187v2.pdf   \n",
       "\n",
       "                                                 repo_url  is_official  \\\n",
       "2             https://github.com/bprabhakar/text-to-image        False   \n",
       "9        https://github.com/feifengwhu/question_attention        False   \n",
       "10                   https://github.com/tensorflow/models         True   \n",
       "13        https://github.com/vincentzhang/faster-rcnn-fcn        False   \n",
       "15                   https://github.com/tensorflow/models         True   \n",
       "...                                                   ...          ...   \n",
       "185376  https://github.com/Jventajas/Reinforcement-Lea...        False   \n",
       "185381               https://github.com/Cremiy/visdial-rl        False   \n",
       "185383           https://github.com/deepmind/kinetics-i3d        False   \n",
       "185385            https://github.com/pcerdam/KerasGRU4Rec        False   \n",
       "185386  https://github.com/CryptoSalamander/pytorch_pa...        False   \n",
       "\n",
       "        mentioned_in_paper  mentioned_in_github framework  \n",
       "2                    False                False   pytorch  \n",
       "9                    False                 True   pytorch  \n",
       "10                    True                False        tf  \n",
       "13                   False                 True      none  \n",
       "15                    True                False        tf  \n",
       "...                    ...                  ...       ...  \n",
       "185376               False                 True        tf  \n",
       "185381               False                 True   pytorch  \n",
       "185383               False                 True        tf  \n",
       "185385               False                 True        tf  \n",
       "185386               False                 True   pytorch  \n",
       "\n",
       "[26373 rows x 10 columns]"
      ]
     },
     "execution_count": 33,
     "metadata": {},
     "output_type": "execute_result"
    }
   ],
   "source": [
    "paperTitles = [title.lower() for title in df['Title']]\n",
    "pwc[pwc['paper_title'].str.lower().isin(paperTitles)]"
   ]
  },
  {
   "cell_type": "code",
   "execution_count": 5,
   "id": "1c2b0f5f-717c-4e76-ac39-2f95651a0871",
   "metadata": {},
   "outputs": [],
   "source": [
    "a = df.Company.unique()"
   ]
  },
  {
   "cell_type": "code",
   "execution_count": 96,
   "id": "14944500-4006-4aef-97e4-180784bae9ed",
   "metadata": {},
   "outputs": [
    {
     "name": "stdout",
     "output_type": "stream",
     "text": [
      "sony  -  24\n",
      "NVlabs  -  353\n",
      "NVIDIA  -  76\n",
      "siemens  -  8\n",
      "amzn  -  68\n",
      "apple  -  93\n"
     ]
    }
   ],
   "source": [
    "users = ['sony', 'NVlabs', 'NVIDIA', 'siemens', 'amzn', 'apple']\n",
    "for user in users:\n",
    "    extractedDf = DataTools.loadCSVFromOutput(user+'Papers')\n",
    "    print(user, ' - ', len(extractedDf))"
   ]
  },
  {
   "cell_type": "code",
   "execution_count": 17,
   "id": "65ed8506-acbf-4e63-accc-d60912e06022",
   "metadata": {},
   "outputs": [],
   "source": [
    "aa = []\n",
    "for _ in a:\n",
    "    aa.append({\"company\" : _, \"repos\" : []})"
   ]
  },
  {
   "cell_type": "code",
   "execution_count": 22,
   "id": "a58a16df-12b2-4dde-aa8c-e4d01b954583",
   "metadata": {},
   "outputs": [
    {
     "name": "stdout",
     "output_type": "stream",
     "text": [
      "no\n"
     ]
    }
   ],
   "source": [
    "from Extractor import Extractor\n",
    "Extractor.getRepoDFromUsername(\"meta\")"
   ]
  },
  {
   "cell_type": "code",
   "execution_count": 5,
   "id": "e7015a1e-c818-470e-a451-bc462891182e",
   "metadata": {},
   "outputs": [],
   "source": [
    "data_file = os.path.join(os.curdir, \"../data/pwc.json\")\n",
    "def get_metadata():\n",
    "    with open(data_file, 'r') as f:\n",
    "        for line in f:\n",
    "            yield line\n",
    "        "
   ]
  }
 ],
 "metadata": {
  "kernelspec": {
   "display_name": "Python 3 (ipykernel)",
   "language": "python",
   "name": "python3"
  },
  "language_info": {
   "codemirror_mode": {
    "name": "ipython",
    "version": 3
   },
   "file_extension": ".py",
   "mimetype": "text/x-python",
   "name": "python",
   "nbconvert_exporter": "python",
   "pygments_lexer": "ipython3",
   "version": "3.8.16"
  }
 },
 "nbformat": 4,
 "nbformat_minor": 5
}
