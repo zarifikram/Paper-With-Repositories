{
 "cells": [
  {
   "cell_type": "code",
   "execution_count": 5,
   "id": "3e45485b-0729-49c2-a42c-7f2032d6172e",
   "metadata": {},
   "outputs": [],
   "source": [
    "import pandas as pd\n",
    "from DataTools import DataTools"
   ]
  },
  {
   "cell_type": "markdown",
   "id": "f45d9167-eaeb-4267-b8b9-a65c27f67c0c",
   "metadata": {},
   "source": [
    "### let's import as csv  "
   ]
  },
  {
   "cell_type": "code",
   "execution_count": 2,
   "id": "a3c3c7cd-10e5-4ff6-a40d-6ebe3c33227b",
   "metadata": {},
   "outputs": [],
   "source": [
    "owner = \"apple\"\n",
    "df = pd.read_csv(f\"{owner}WithReadme.csv\")"
   ]
  },
  {
   "cell_type": "code",
   "execution_count": 14,
   "id": "c08351a1-8633-48fb-a97e-00cb0ce00cfa",
   "metadata": {},
   "outputs": [
    {
     "name": "stdout",
     "output_type": "stream",
     "text": [
      "{ARK 1\n",
      "Learning Neural Network Subspaces 31\n",
      "Adversarial Fisher Vectors for Unsupervised Representation Learning 37\n",
      "ASpanFormer: Detector-Free Image Matching with Adaptive Span Transformer 40\n",
      "Advances in Neural Information Processing Systems 41\n",
      "Capsules with Inverted Dot-Product Attention Routing 42\n",
      "Robust Robotic Control from Pixels using Contrastive Recurrent State-Space Models 46\n",
      "{CREAD}: Combined Resolution of Ellipses and Anaphora in Dialogues 48\n",
      "MobileViT: Light-weight, General-purpose, and Mobile-friendly Vision Transformer 49\n",
      "Improving Discrete Latent Representations With Differentiable Approximation Bridges 51\n",
      "Data Parameters: A New Family of Parameters for Learning a Differentiable Curriculum 52\n",
      "A Dense Material Segmentation Dataset for Indoor and Outdoor Scene Parsing 53\n",
      "Equivariant Neural Rendering 55\n",
      "Forward Compatible Training for Large-Scale Embedding Retrieval Systems 56\n",
      "Vizdoom 58\n",
      "Generative Multiplane Images: Making a 2D GAN 3D-Aware 59\n",
      "Unconstrained Scene Generation with Locally Conditioned Radiance Fields 60\n",
      "{Hypersim 62\n",
      "*Space-Efficient Representation of Entity-centric Query Language Models* 63\n",
      "Entity-Based Knowledge Conflicts in Question Answering 64\n",
      "An Improved One millisecond Mobile Backbone 66\n",
      "Multiple Futures Prediction 67\n",
      "NeILF: Neural Incident Light Field for Physically-based Material Estimation 69\n",
      "NeuMan: Neural Human Radiance Field from a Single Video 70\n",
      "Open-Domain Question Answering Goes Conversational via Question Rewriting 73\n",
      "Self-Conditioning Pre-Trained Language Models 76\n",
      "SPIN: An Empirical Evaluation on Sharing Parameters of Isotropic Networks 78\n"
     ]
    }
   ],
   "source": [
    "for i in range(100):\n",
    "    if type(df.iloc[i].readme_encoded) == float:\n",
    "        continue\n",
    "    decoded_readme = DataTools.getDecodedReadme(df.iloc[i].readme_encoded)\n",
    "    if \"@inproceedings\" in decoded_readme or \"@article\" in decoded_readme:\n",
    "        titleInd = decoded_readme.find(\"title\")\n",
    "        braceStart = decoded_readme.find(\"{\", titleInd, titleInd + 50)\n",
    "        braceEnd = decoded_readme.find(\"}\", braceStart + 1)\n",
    "        quoteStart = decoded_readme.find(\"\\\"\", titleInd, titleInd + 50)\n",
    "        quoteEnd = decoded_readme.find(\"\\\"\", quoteStart + 1)\n",
    "        \n",
    "        # print(f\" brace = {braceStart} quote = {quoteStart}\")     \n",
    "        # print(f\" braceend = {braceEnd} quoteEnd = {quoteEnd}\")\n",
    "        if quoteStart != -1: \n",
    "            print(decoded_readme[quoteStart + 1 : quoteEnd], i)\n",
    "        elif braceStart != -1:\n",
    "            print(decoded_readme[braceStart + 1 : braceEnd], i)"
   ]
  },
  {
   "cell_type": "code",
   "execution_count": null,
   "id": "610d5ac4-d25b-4ef9-a3da-2cb9d3a001a9",
   "metadata": {},
   "outputs": [],
   "source": []
  }
 ],
 "metadata": {
  "kernelspec": {
   "display_name": "Python 3 (ipykernel)",
   "language": "python",
   "name": "python3"
  },
  "language_info": {
   "codemirror_mode": {
    "name": "ipython",
    "version": 3
   },
   "file_extension": ".py",
   "mimetype": "text/x-python",
   "name": "python",
   "nbconvert_exporter": "python",
   "pygments_lexer": "ipython3",
   "version": "3.8.16"
  }
 },
 "nbformat": 4,
 "nbformat_minor": 5
}
